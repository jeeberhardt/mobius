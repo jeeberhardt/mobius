{
 "cells": [
  {
   "cell_type": "code",
   "execution_count": 1,
   "id": "c3315d1b",
   "metadata": {},
   "outputs": [
    {
     "data": {
      "text/html": [
       "<style>.container { width:80% !important; }</style>"
      ],
      "text/plain": [
       "<IPython.core.display.HTML object>"
      ]
     },
     "metadata": {},
     "output_type": "display_data"
    }
   ],
   "source": [
    "from IPython.core.display import display, HTML\n",
    "display(HTML(\"<style>.container { width:80% !important; }</style>\"))\n",
    "\n",
    "%matplotlib inline\n",
    "%load_ext autoreload\n",
    "%autoreload 2"
   ]
  },
  {
   "cell_type": "code",
   "execution_count": 2,
   "id": "b4fe37a2",
   "metadata": {},
   "outputs": [],
   "source": [
    "import glob\n",
    "import os\n",
    "import json\n",
    "\n",
    "import ray\n",
    "import tmap as tm\n",
    "from faerun import Faerun\n",
    "import numpy as np\n",
    "import pandas as pd\n",
    "from matplotlib import pyplot as plt\n",
    "from MDAnalysis import Universe\n",
    "from sklearn.linear_model import LinearRegression\n",
    "from sklearn.metrics import mean_squared_error\n",
    "from MDAnalysis.lib.util import convert_aa_code\n",
    "from scipy import stats\n",
    "from matplotlib.colors import ListedColormap\n",
    "\n",
    "from mobius import Mobius\n",
    "from mobius import SequenceGA, ScaffoldGA, GA, RandomGA\n",
    "from mobius import Map4Fingerprint, SequenceDescriptors\n",
    "from mobius import expected_improvement, greedy, probability_of_improvement, TanimotoSimilarityKernel, random_improvement\n",
    "from mobius import HELMGeneticOperators\n",
    "from mobius import Oracle\n",
    "from mobius import affinity_binding_to_energy, energy_to_affinity_binding, compute_probability_matrix, plot_results\n",
    "from mobius.helm import build_helm_string, parse_helm\n",
    "from mobius.surrogate_model import GPModel\n",
    "from mobius.acquisition_functions import AcqScoring\n",
    "from mobius.generators import monomers_scanning, alanine_scanning, random_monomers_scanning, properties_scanning, scrumbled_scanning"
   ]
  },
  {
   "cell_type": "code",
   "execution_count": null,
   "id": "68c1aaf4",
   "metadata": {},
   "outputs": [],
   "source": []
  },
  {
   "cell_type": "code",
   "execution_count": 4,
   "id": "7cdf945e",
   "metadata": {},
   "outputs": [
    {
     "name": "stdout",
     "output_type": "stream",
     "text": [
      "(119,)\n",
      "(8327, 7)\n"
     ]
    }
   ],
   "source": [
    "mhci = pd.read_csv('binding_data_2013/bdata.20130222.mhci.csv')\n",
    "print(mhci[mhci['mhc_allele'].str.contains(\"HLA\")]['mhc_allele'].unique().shape)\n",
    "\n",
    "# We removed those binding affinity values\n",
    "# A lot of peptides were set with those values. Looks like some default values assigned...\n",
    "dirty_values = [1, 2, 3, 5000, 10000, 20000, 43424, 50000, 69444.44444, 78125]\n",
    "\n",
    "# Split dataset in training and testing sets\n",
    "mhci = mhci[(mhci['mhc_allele'] == 'HLA-A*02:01') &\n",
    "            (mhci['length'] <= 11) &\n",
    "            (mhci['length'] >= 9) &\n",
    "            (~mhci['affinity_binding'].isin(dirty_values))]\n",
    "\n",
    "print(mhci.shape)"
   ]
  },
  {
   "cell_type": "code",
   "execution_count": 5,
   "id": "aa100d31",
   "metadata": {},
   "outputs": [
    {
     "name": "stdout",
     "output_type": "stream",
     "text": [
      "----- Peptide global -----\n",
      "N peptide: 8327\n",
      "R2: 0.616\n",
      "RMSD : 1.180 kcal/mol\n",
      "\n"
     ]
    }
   ],
   "source": [
    "pssm_files = ['IEDB_MHC_I-2.9_matx_smm_smmpmbec/smmpmbec_matrix/HLA-A-02:01-8.txt',\n",
    "              'IEDB_MHC_I-2.9_matx_smm_smmpmbec/smmpmbec_matrix/HLA-A-02:01-9.txt',\n",
    "              'IEDB_MHC_I-2.9_matx_smm_smmpmbec/smmpmbec_matrix/HLA-A-02:01-10.txt',\n",
    "              'IEDB_MHC_I-2.9_matx_smm_smmpmbec/smmpmbec_matrix/HLA-A-02:01-11.txt']\n",
    "mps = Oracle(pssm_files, mhci['sequence'], mhci['energy'])"
   ]
  },
  {
   "cell_type": "code",
   "execution_count": 8,
   "id": "33793ce9",
   "metadata": {},
   "outputs": [],
   "source": [
    "with open('HELMCoreLibrary.json') as f:\n",
    "    helm_core_library = json.load(f)\n",
    "\n",
    "monomer_names = [\"A\", \"R\", \"N\", \"D\", \"C\", \"E\", \"Q\", \"G\", \"H\", \"I\", \"L\", \"K\", \"M\", \"F\", \"P\", \"S\", \"T\", \"W\", \"Y\", \"V\"]\n",
    "smiles = [x['smiles'] for x in helm_core_library if x['symbol'] in monomer_names and x['monomerType'] == 'Backbone']\n",
    "    \n",
    "probability_matrix = compute_probability_matrix(smiles)\n",
    "helmgo = HELMGeneticOperators(monomer_names, probability_matrix)"
   ]
  },
  {
   "cell_type": "code",
   "execution_count": 9,
   "id": "e198f843",
   "metadata": {},
   "outputs": [],
   "source": [
    "map4 = Map4Fingerprint(input_type='helm', dimensions=4096, radius=1)"
   ]
  },
  {
   "cell_type": "code",
   "execution_count": null,
   "id": "f728e561",
   "metadata": {},
   "outputs": [],
   "source": []
  },
  {
   "cell_type": "code",
   "execution_count": 11,
   "id": "1c883156",
   "metadata": {},
   "outputs": [
    {
     "name": "stdout",
     "output_type": "stream",
     "text": [
      "['PEPTIDE1{Y.N.K.N.N.A.P.Q.L}$$$$V2.0']\n",
      "[-6.48083468]\n",
      "[18.98123845]\n"
     ]
    }
   ],
   "source": [
    "n_peptides = 1\n",
    "peptide_lengths = [9]\n",
    "energy_bounds = [affinity_binding_to_energy(10, 'uM'), affinity_binding_to_energy(20, 'uM')] # about between 1 and 250 uM\n",
    "\n",
    "# Generate random peptides\n",
    "random_peptides, random_peptide_scores = mps.generate_random_peptides(n_peptides, peptide_lengths, energy_bounds)\n",
    "\n",
    "print(random_peptides)\n",
    "print(random_peptide_scores)\n",
    "print(energy_to_affinity_binding(random_peptide_scores, 'uM'))"
   ]
  },
  {
   "cell_type": "code",
   "execution_count": 12,
   "id": "30feea89",
   "metadata": {},
   "outputs": [
    {
     "name": "stdout",
     "output_type": "stream",
     "text": [
      "['YNKNNAPQL']\n"
     ]
    }
   ],
   "source": [
    "peptides = [''.join(c.split('$')[0].split('{')[1].split('}')[0].split('.')) for c in random_peptides]\n",
    "print(peptides)\n",
    "\n",
    "for seq in monomers_scanning(peptides[0], 'HREWVSNCPY'):\n",
    "    peptides.append(seq)\n",
    "    \n",
    "    if len(peptides) >= 96:\n",
    "        print('Reach max. number of peptides allowed.')\n",
    "        break\n",
    "\n",
    "peptides = np.unique(peptides)\n",
    "peptides_helm = [build_helm_string({'PEPTIDE1': f}) for f in peptides]"
   ]
  },
  {
   "cell_type": "code",
   "execution_count": 13,
   "id": "10d18b63",
   "metadata": {
    "scrolled": true
   },
   "outputs": [
    {
     "name": "stdout",
     "output_type": "stream",
     "text": [
      "YNWNNAPQL -8.236926533004281\n",
      "YVKNNAPQL -8.005408111715456\n",
      "YNYNNAPQL -7.839158181534652\n",
      "YNSNNAPQL -7.389667629564326\n",
      "YNVNNAPQL -7.371195415099793\n",
      "YNNNNAPQL -7.288686190491541\n",
      "YNCNNAPQL -7.267751014098403\n",
      "YWKNNAPQL -7.243121394812357\n",
      "YNPNNAPQL -7.181547346597244\n",
      "YNKNWAPQL -7.172926979847128\n",
      "YNKNYAPQL -7.153223284418292\n",
      "YNKNNAPYL -7.1495288415253855\n",
      "YNHNNAPQL -7.095343679096086\n",
      "YSKNNAPQL -7.092880717167482\n",
      "YYKNNAPQL -7.042389997631089\n",
      "YNKNNAPPL -7.01037149255923\n",
      "YNKNNAPQV -7.01037149255923\n",
      "YNKNNAWQL -6.964806696880046\n",
      "YNKENAPQL -6.93401967277249\n",
      "YNKNCAPQL -6.894612281914818\n",
      "YNKNNAPWL -6.878603029378889\n",
      "YNKNNVPQL -6.874908586485982\n",
      "YNKNNAPEL -6.862593776842959\n",
      "YNKNNAYQL -6.8601308149143545\n",
      "YNKNVAPQL -6.776390109341801\n",
      "YNKWNAPQL -6.748066047162849\n",
      "YNKNNAPSL -6.724667908841106\n",
      "YNENNAPQL -6.6852605179834335\n",
      "YNKNNCPQL -6.660630898697389\n",
      "YNKCNAPQL -6.640927203268553\n",
      "YNKNHAPQL -6.6323068365184366\n",
      "YNKNNAPHL -6.629843874589832\n",
      "YCKNNAPQL -6.6224549888040185\n",
      "YNRNNAPQL -6.60151981241088\n",
      "YEKNNAPQL -6.600288331446578\n",
      "YNKPNAPQL -6.594130926625066\n",
      "YNKNNPPQL -6.591667964696462\n",
      "YNKNNAPCL -6.584279078910648\n",
      "YNKNNSPQL -6.569501307339022\n",
      "YNKNNWPQL -6.564575383481812\n",
      "YNKSNAPQL -6.557186497695999\n",
      "YNKNNNPQL -6.547334649981581\n",
      "YPKNNAPQL -6.526399473588442\n",
      "YNKNNAPVL -6.516547625874024\n",
      "YNKNSAPQL -6.515316144909722\n",
      "YNKNNYPQL -6.490686525623676\n",
      "YNKNNAPNL -6.490686525623676\n",
      "YNKNNAPRL -6.485760601766468\n",
      "YNKNNAPQL -6.480834677909258\n",
      "YNKYNAPQL -6.472214311159143\n",
      "YNKNNAHQL -6.438964325122981\n",
      "YNKHNAPQL -6.429112477408563\n",
      "YNKNEAPQL -6.3539921385861255\n",
      "YNKNRAPQL -6.339214367014499\n",
      "YNKNNAVQL -6.319510671585663\n",
      "YHKNNAPQL -6.302269938085431\n",
      "YNKVNAPQL -6.278871799763688\n",
      "YNKNNACQL -6.276408837835083\n",
      "YNKNNEPQL -6.2603995852991545\n",
      "YRKNNAPQL -6.224686637334389\n",
      "YNKNNHPQL -6.214834789619971\n",
      "YNKNPAPQL -6.166807032012183\n",
      "YNKRNAPQL -6.163112589119276\n",
      "YNKNNASQL -6.071982997760908\n",
      "YNKNNANQL -6.030112644974632\n",
      "YNKNNAEQL -5.984547849295448\n",
      "YNKNNRPQL -5.92543676300894\n",
      "WNKNNAPQL -5.769038680542552\n",
      "VNKNNAPQL -5.697612784613021\n",
      "YNKNNARQL -5.665594279541162\n",
      "SNKNNAPQL -5.660668355683954\n",
      "RNKNNAPQL -5.618798002897677\n",
      "CNKNNAPQL -5.386048100644549\n",
      "HNKNNAPQL -5.355261076536993\n",
      "NNKNNAPQL -5.249353713606999\n",
      "YNKNNAPQC -5.027687140032592\n",
      "YNKNNAPQW -4.9771964204962\n",
      "YNKNNAPQS -4.932863105781318\n",
      "YNKNNAPQP -4.71612245606412\n",
      "YNKNNAPQR -4.584353992883779\n",
      "ENKNNAPQL -4.490761439596808\n",
      "YNKNNAPQY -4.485835515739598\n",
      "YNKNNAPQN -4.427955910417392\n",
      "PNKNNAPQL -4.395937405345533\n",
      "YNKNNAPQH -4.171807869842522\n",
      "YNKNNAPQE -4.058511621126714\n"
     ]
    }
   ],
   "source": [
    "scores = mps.score(peptides)\n",
    "\n",
    "for i in np.argsort(scores):\n",
    "    print(peptides[i], scores[i])"
   ]
  },
  {
   "cell_type": "code",
   "execution_count": 19,
   "id": "d0866931",
   "metadata": {},
   "outputs": [
    {
     "name": "stdout",
     "output_type": "stream",
     "text": [
      "[-5.386614  -4.4953766 -5.3554153 -5.2457647 -4.4029303 -5.6145782\n",
      " -5.6582413 -5.6993294 -5.7727065 -6.628053  -6.599327  -6.3059025\n",
      " -7.2660284 -6.6895185 -7.0954843 -6.6371713 -6.923922  -6.426993\n",
      " -6.8898754 -6.3529716 -6.6313286 -6.2764497 -5.9856186 -6.4365644\n",
      " -6.0286813 -6.5853214 -6.8557825 -6.627841  -6.490675  -7.004674\n",
      " -5.0282946 -4.068606  -4.1777353 -6.4928346 -4.43694   -4.7194815\n",
      " -4.5859485 -4.9353337 -6.986498  -4.977594  -4.494616  -6.483306\n",
      " -6.7231846 -6.5296607 -6.8795094 -7.145078  -5.66824   -6.074631\n",
      " -6.3251047 -6.9638276 -6.856497  -6.6613803 -6.2656493 -6.215912\n",
      " -6.542605  -6.5900884 -5.9287195 -6.5688167 -6.8706484 -6.5659213\n",
      " -6.491452  -6.174464  -6.3370504 -6.5193777 -6.7753754 -7.1715016\n",
      " -7.1497107 -6.591318  -6.164649  -6.5560036 -6.2888    -6.7490215\n",
      " -6.475518  -7.2868176 -7.1778665 -6.6030183 -7.385359  -7.3765564\n",
      " -8.2305155 -7.833273  -6.526773  -6.2253723 -7.0914955 -7.9856296\n",
      " -7.240745  -7.04202  ]\n",
      "[0.06976247 0.06975307 0.06980091 0.06968039 0.06974367 0.0697898\n",
      " 0.06973597 0.06972145 0.06979236 0.06966842 0.06967441 0.06975392\n",
      " 0.06966072 0.06965901 0.0697411  0.06963761 0.06961193 0.06973255\n",
      " 0.06963675 0.06961707 0.0697411  0.06966243 0.06964617 0.06973939\n",
      " 0.06954254 0.06967869 0.0696419  0.06976075 0.06959737 0.06965901\n",
      " 0.06969664 0.06969836 0.06976417 0.0687148  0.06962392 0.06967869\n",
      " 0.06975136 0.06963248 0.069665   0.06976759 0.06972657 0.06973597\n",
      " 0.06965986 0.06965216 0.06975563 0.06972571 0.06972999 0.06961963\n",
      " 0.06961193 0.06974367 0.06970777 0.06963419 0.06962734 0.0697411\n",
      " 0.06948595 0.06959823 0.06969579 0.06963504 0.0695751  0.06973939\n",
      " 0.06970178 0.06962392 0.06969836 0.06961107 0.06957596 0.0697317\n",
      " 0.06966585 0.06963933 0.06968382 0.06960936 0.06955882 0.06974452\n",
      " 0.06968211 0.06944305 0.06967355 0.06969664 0.06963675 0.06961364\n",
      " 0.0697488  0.06970862 0.06971289 0.0697411  0.06965045 0.06961878\n",
      " 0.06975392 0.06970263]\n"
     ]
    },
    {
     "name": "stderr",
     "output_type": "stream",
     "text": [
      "/home/eberhardt/Applications/miniconda3/envs/python3/lib/python3.7/site-packages/gpytorch/models/exact_gp.py:275: GPInputWarning: The input matches the stored training data. Did you forget to call model.train()?\n",
      "  GPInputWarning,\n"
     ]
    }
   ],
   "source": [
    "gpmodel = GPModel(kernel=TanimotoSimilarityKernel(), data_transformer=map4)\n",
    "gpmodel.fit(peptides_helm, scores)\n",
    "mu, sigma = gpmodel.transform(peptides_helm)\n",
    "print(mu)\n",
    "print(sigma)"
   ]
  },
  {
   "cell_type": "code",
   "execution_count": null,
   "id": "ff9b189f",
   "metadata": {},
   "outputs": [],
   "source": []
  }
 ],
 "metadata": {
  "hide_input": false,
  "kernelspec": {
   "display_name": "Python 3 (ipykernel)",
   "language": "python",
   "name": "python3"
  },
  "language_info": {
   "codemirror_mode": {
    "name": "ipython",
    "version": 3
   },
   "file_extension": ".py",
   "mimetype": "text/x-python",
   "name": "python",
   "nbconvert_exporter": "python",
   "pygments_lexer": "ipython3",
   "version": "3.7.12"
  }
 },
 "nbformat": 4,
 "nbformat_minor": 5
}
