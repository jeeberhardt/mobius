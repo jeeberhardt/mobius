{
 "cells": [
  {
   "cell_type": "code",
   "execution_count": 1,
   "id": "0c4cbe90",
   "metadata": {},
   "outputs": [
    {
     "data": {
      "text/html": [
       "<style>.container { width:80% !important; }</style>"
      ],
      "text/plain": [
       "<IPython.core.display.HTML object>"
      ]
     },
     "metadata": {},
     "output_type": "display_data"
    }
   ],
   "source": [
    "from IPython.core.display import display, HTML\n",
    "display(HTML(\"<style>.container { width:80% !important; }</style>\"))\n",
    "\n",
    "%matplotlib inline\n",
    "%load_ext autoreload\n",
    "%autoreload 2"
   ]
  },
  {
   "cell_type": "code",
   "execution_count": 2,
   "id": "b7bf8625",
   "metadata": {},
   "outputs": [],
   "source": [
    "import os\n",
    "import re\n",
    "import json\n",
    "from multiprocessing import Pool\n",
    "from datetime import datetime\n",
    "from collections import defaultdict\n",
    "\n",
    "import torch\n",
    "import gpytorch\n",
    "import numpy as np\n",
    "import pandas as pd\n",
    "import matplotlib.pyplot as plt\n",
    "import matplotlib.ticker as ticker\n",
    "import umap.umap_ as umap\n",
    "import seaborn as sns\n",
    "from sklearn.linear_model import LinearRegression\n",
    "from scipy.stats import norm\n",
    "from rdkit import Chem\n",
    "from botorch.models.gpytorch import GPyTorchModel\n",
    "from botorch.fit import fit_gpytorch_model\n",
    "from MDAnalysis.analysis.rms import rmsd\n",
    "from scipy.stats import pearsonr\n",
    "from map4 import MAP4Calculator\n",
    "\n",
    "from ga import LocalGA\n",
    "from baye import get_fitted_model, map4_fingerprint, TanimotoSimilarityKernel\n",
    "from baye import AcqScoring, expected_improvement, probability_of_improvement\n",
    "from helm import build_helm_string, parse_helm, HELMGeneticOperators\n",
    "from mhc import read_pssm_file, MHCIPeptideScorer"
   ]
  },
  {
   "cell_type": "markdown",
   "id": "ea3411b4",
   "metadata": {},
   "source": [
    "## Read dataset"
   ]
  },
  {
   "cell_type": "code",
   "execution_count": 3,
   "id": "a74fc53b",
   "metadata": {},
   "outputs": [
    {
     "name": "stdout",
     "output_type": "stream",
     "text": [
      "(119,)\n"
     ]
    }
   ],
   "source": [
    "mhci = pd.read_csv('../mhc/binding_data_2013/bdata.20130222.mhci.csv')\n",
    "print(mhci[mhci['mhc_allele'].str.contains(\"HLA\")]['mhc_allele'].unique().shape)"
   ]
  },
  {
   "cell_type": "code",
   "execution_count": 4,
   "id": "4e823cce",
   "metadata": {},
   "outputs": [],
   "source": [
    "# We removed those binding affinity values\n",
    "# A lot of peptides were set with those values. Looks like some default values assigned...\n",
    "dirty_values = [1, 2, 3, 5000, 10000, 20000, 43424, 50000, 69444.44444, 78125]\n",
    "\n",
    "# Split dataset in training and testing sets\n",
    "mhci = mhci[(mhci['mhc_allele'] == 'HLA-A*02:01') &\n",
    "            (8 <= mhci['length']) &\n",
    "            (mhci['length'] <= 11) &\n",
    "            (~mhci['affinity_binding'].isin(dirty_values))]"
   ]
  },
  {
   "cell_type": "markdown",
   "id": "3a82841b",
   "metadata": {},
   "source": [
    "## Genetic operators on HELM strings"
   ]
  },
  {
   "cell_type": "code",
   "execution_count": 5,
   "id": "b3e4eb95",
   "metadata": {},
   "outputs": [],
   "source": [
    "with open('HELMCoreLibrary.json') as f:\n",
    "    monomer_lib = json.load(f)\n",
    "\n",
    "monomer_peptide_lib = [x for x in monomer_lib if x['polymerType'] == 'PEPTIDE']\n",
    "AA1 = [\"A\", \"R\", \"N\", \"D\", \"C\", \"E\", \"Q\", \"G\", \"H\", \"I\", \"L\", \"K\", \"M\", \"F\", \"P\", \"S\", \"T\", \"W\", \"Y\", \"V\"]\n",
    "monomer_aa1_lib = [x for x in monomer_peptide_lib if x['symbol'] in AA1]\n",
    "\n",
    "smiles = [monomer['smiles'] for monomer in monomer_aa1_lib]\n",
    "fps = map4_fingerprint(smiles,input_type='smiles', radius=2)\n",
    "t = TanimotoSimilarityKernel()\n",
    "similarity_matrix = t.forward(fps, fps).numpy()\n",
    "\n",
    "probability_matrix = []\n",
    "\n",
    "for aa in similarity_matrix:\n",
    "    tmp = aa.copy()\n",
    "    tmp[tmp == 1.0] = 0\n",
    "    probability_matrix.append(tmp / np.sum(tmp))\n",
    "    \n",
    "probability_matrix = np.array(probability_matrix)"
   ]
  },
  {
   "cell_type": "code",
   "execution_count": 6,
   "id": "0a2b1b7a",
   "metadata": {},
   "outputs": [],
   "source": [
    "def affinity_binding_to_energy(value, input_unit='nM', temperature=300.):\n",
    "    unit_converter = {'nM': 1e-9, 'uM': 1e-6, 'mM': 1e-3, 'M': 1}\n",
    "    RT = 0.001987 * temperature\n",
    "    return RT * np.log(value * unit_converter[input_unit])\n",
    "\n",
    "def energy_to_affinity_binding(value, output_unit='nM', temperature=300.):\n",
    "    unit_converter = {'nM': 1e9, 'uM': 1e6, 'mM': 1e3, 'M': 1}\n",
    "    RT = 0.001987 * temperature\n",
    "    return np.exp(value / RT) * unit_converter[output_unit]"
   ]
  },
  {
   "cell_type": "markdown",
   "id": "93ba97f5",
   "metadata": {},
   "source": [
    "## Generate random peptides"
   ]
  },
  {
   "cell_type": "code",
   "execution_count": 7,
   "id": "307fffdd",
   "metadata": {},
   "outputs": [
    {
     "name": "stdout",
     "output_type": "stream",
     "text": [
      "----- Peptide global -----\n",
      "N peptide: 8471\n",
      "R2: 0.620\n",
      "RMSD : 1.177 kcal/mol\n",
      "\n",
      "Distribution: ['9: 150']\n",
      "\n",
      "150\n",
      "['PEPTIDE1{M.I.S.F.H.H.C.W.M}$$$$V2.0'\n",
      " 'PEPTIDE1{F.S.M.W.P.M.S.Q.M}$$$$V2.0'\n",
      " 'PEPTIDE1{Y.L.S.W.M.N.D.R.R}$$$$V2.0'\n",
      " 'PEPTIDE1{H.Y.I.D.L.A.K.F.V}$$$$V2.0'\n",
      " 'PEPTIDE1{M.I.I.N.S.T.M.T.W}$$$$V2.0'\n",
      " 'PEPTIDE1{W.Q.I.A.F.I.F.Q.D}$$$$V2.0'\n",
      " 'PEPTIDE1{A.M.H.C.Y.W.R.L.C}$$$$V2.0'\n",
      " 'PEPTIDE1{Y.S.W.G.R.V.V.F.G}$$$$V2.0'\n",
      " 'PEPTIDE1{F.A.E.K.W.A.Y.T.T}$$$$V2.0'\n",
      " 'PEPTIDE1{W.I.K.F.S.D.A.F.L}$$$$V2.0'\n",
      " 'PEPTIDE1{N.S.L.F.P.I.V.P.L}$$$$V2.0'\n",
      " 'PEPTIDE1{D.T.D.A.Y.V.E.W.I}$$$$V2.0'\n",
      " 'PEPTIDE1{N.Y.L.N.R.C.F.R.L}$$$$V2.0'\n",
      " 'PEPTIDE1{N.I.N.R.Y.D.P.I.A}$$$$V2.0'\n",
      " 'PEPTIDE1{N.C.Y.D.T.A.L.K.V}$$$$V2.0'\n",
      " 'PEPTIDE1{L.Y.A.Y.E.S.Q.M.V}$$$$V2.0'\n",
      " 'PEPTIDE1{V.K.N.I.I.T.T.S.V}$$$$V2.0'\n",
      " 'PEPTIDE1{W.V.N.Y.W.Q.Y.P.D}$$$$V2.0'\n",
      " 'PEPTIDE1{W.I.D.I.H.V.H.N.C}$$$$V2.0'\n",
      " 'PEPTIDE1{A.N.N.W.A.S.W.E.A}$$$$V2.0'\n",
      " 'PEPTIDE1{M.Y.I.E.A.P.Y.V.S}$$$$V2.0'\n",
      " 'PEPTIDE1{L.W.E.T.Y.E.E.T.V}$$$$V2.0'\n",
      " 'PEPTIDE1{K.Q.M.T.M.P.E.Y.Q}$$$$V2.0'\n",
      " 'PEPTIDE1{L.I.K.A.L.M.H.A.T}$$$$V2.0'\n",
      " 'PEPTIDE1{C.M.C.D.A.C.T.C.K}$$$$V2.0'\n",
      " 'PEPTIDE1{T.V.H.T.G.V.Y.E.W}$$$$V2.0'\n",
      " 'PEPTIDE1{L.R.S.V.F.F.C.N.V}$$$$V2.0'\n",
      " 'PEPTIDE1{M.S.P.R.V.Q.A.C.L}$$$$V2.0'\n",
      " 'PEPTIDE1{M.L.R.K.T.K.H.F.S}$$$$V2.0'\n",
      " 'PEPTIDE1{W.Y.M.E.E.E.Q.K.A}$$$$V2.0'\n",
      " 'PEPTIDE1{M.F.D.W.Y.C.S.W.G}$$$$V2.0'\n",
      " 'PEPTIDE1{Q.P.F.C.N.L.Y.A.M}$$$$V2.0'\n",
      " 'PEPTIDE1{H.H.M.K.F.V.C.W.M}$$$$V2.0'\n",
      " 'PEPTIDE1{W.F.R.H.K.M.P.W.L}$$$$V2.0'\n",
      " 'PEPTIDE1{Y.Q.L.L.H.D.A.F.H}$$$$V2.0'\n",
      " 'PEPTIDE1{F.F.F.H.A.R.L.F.F}$$$$V2.0'\n",
      " 'PEPTIDE1{N.Y.T.P.C.M.D.P.I}$$$$V2.0'\n",
      " 'PEPTIDE1{G.E.D.C.M.C.M.N.L}$$$$V2.0'\n",
      " 'PEPTIDE1{F.T.F.K.N.K.G.L.T}$$$$V2.0'\n",
      " 'PEPTIDE1{P.Q.M.L.R.P.P.K.A}$$$$V2.0'\n",
      " 'PEPTIDE1{S.W.A.D.D.C.I.S.S}$$$$V2.0'\n",
      " 'PEPTIDE1{N.W.D.N.Y.Y.C.P.T}$$$$V2.0'\n",
      " 'PEPTIDE1{V.S.C.K.V.L.S.E.M}$$$$V2.0'\n",
      " 'PEPTIDE1{W.M.P.F.K.G.C.I.F}$$$$V2.0'\n",
      " 'PEPTIDE1{S.V.I.C.A.P.V.T.G}$$$$V2.0'\n",
      " 'PEPTIDE1{G.F.H.V.H.I.Q.P.A}$$$$V2.0'\n",
      " 'PEPTIDE1{M.T.V.T.E.N.T.Y.S}$$$$V2.0'\n",
      " 'PEPTIDE1{A.P.E.K.I.F.W.L.A}$$$$V2.0'\n",
      " 'PEPTIDE1{R.F.L.S.K.K.K.T.V}$$$$V2.0'\n",
      " 'PEPTIDE1{W.T.F.E.C.Q.T.A.Q}$$$$V2.0'\n",
      " 'PEPTIDE1{I.V.F.S.Q.A.L.F.H}$$$$V2.0'\n",
      " 'PEPTIDE1{F.L.K.W.N.G.P.I.Q}$$$$V2.0'\n",
      " 'PEPTIDE1{I.E.P.A.Y.E.T.F.M}$$$$V2.0'\n",
      " 'PEPTIDE1{T.F.F.M.Q.L.L.F.S}$$$$V2.0'\n",
      " 'PEPTIDE1{K.W.C.E.G.C.D.P.F}$$$$V2.0'\n",
      " 'PEPTIDE1{I.M.Q.F.T.P.G.Q.G}$$$$V2.0'\n",
      " 'PEPTIDE1{T.I.M.W.K.H.I.C.Q}$$$$V2.0'\n",
      " 'PEPTIDE1{W.F.S.G.M.D.G.E.A}$$$$V2.0'\n",
      " 'PEPTIDE1{I.P.N.A.S.Q.T.T.L}$$$$V2.0'\n",
      " 'PEPTIDE1{F.G.Y.R.G.H.A.H.T}$$$$V2.0'\n",
      " 'PEPTIDE1{W.P.E.L.Y.T.L.W.A}$$$$V2.0'\n",
      " 'PEPTIDE1{Y.C.R.E.Y.D.C.H.T}$$$$V2.0'\n",
      " 'PEPTIDE1{W.I.C.Q.D.T.D.M.W}$$$$V2.0'\n",
      " 'PEPTIDE1{M.N.V.K.M.Y.R.Y.A}$$$$V2.0'\n",
      " 'PEPTIDE1{L.P.H.E.R.C.S.Y.M}$$$$V2.0'\n",
      " 'PEPTIDE1{M.Y.E.G.G.T.L.Q.M}$$$$V2.0'\n",
      " 'PEPTIDE1{I.Q.Y.T.R.K.I.G.P}$$$$V2.0'\n",
      " 'PEPTIDE1{L.Q.K.F.V.T.Y.L.Y}$$$$V2.0'\n",
      " 'PEPTIDE1{G.V.R.P.T.K.M.V.A}$$$$V2.0'\n",
      " 'PEPTIDE1{M.F.R.S.C.W.Y.N.C}$$$$V2.0'\n",
      " 'PEPTIDE1{W.Y.G.I.L.T.V.R.M}$$$$V2.0'\n",
      " 'PEPTIDE1{R.A.F.D.R.T.V.E.H}$$$$V2.0'\n",
      " 'PEPTIDE1{G.Q.S.N.D.V.C.C.Y}$$$$V2.0'\n",
      " 'PEPTIDE1{T.E.G.T.C.R.N.L.V}$$$$V2.0'\n",
      " 'PEPTIDE1{C.F.E.W.P.T.T.H.L}$$$$V2.0'\n",
      " 'PEPTIDE1{K.P.G.Y.K.N.A.Y.M}$$$$V2.0'\n",
      " 'PEPTIDE1{S.P.F.Y.Q.E.R.L.L}$$$$V2.0'\n",
      " 'PEPTIDE1{T.E.L.W.L.G.V.G.M}$$$$V2.0'\n",
      " 'PEPTIDE1{K.A.P.C.K.D.V.Y.W}$$$$V2.0'\n",
      " 'PEPTIDE1{T.H.A.I.M.L.A.M.A}$$$$V2.0'\n",
      " 'PEPTIDE1{Q.T.M.Y.W.P.N.R.D}$$$$V2.0'\n",
      " 'PEPTIDE1{W.I.P.A.D.Q.I.N.D}$$$$V2.0'\n",
      " 'PEPTIDE1{H.Q.F.G.H.H.S.T.P}$$$$V2.0'\n",
      " 'PEPTIDE1{G.V.G.S.W.G.H.I.G}$$$$V2.0'\n",
      " 'PEPTIDE1{K.V.D.M.S.N.V.K.Y}$$$$V2.0'\n",
      " 'PEPTIDE1{L.Q.S.F.V.K.Q.A.C}$$$$V2.0'\n",
      " 'PEPTIDE1{C.M.T.G.H.D.Q.C.N}$$$$V2.0'\n",
      " 'PEPTIDE1{D.V.A.Q.E.G.Q.P.A}$$$$V2.0'\n",
      " 'PEPTIDE1{R.F.I.P.N.P.A.P.N}$$$$V2.0'\n",
      " 'PEPTIDE1{D.S.V.I.L.A.P.H.I}$$$$V2.0'\n",
      " 'PEPTIDE1{K.V.T.G.A.F.E.K.P}$$$$V2.0'\n",
      " 'PEPTIDE1{V.Y.R.S.E.F.V.S.M}$$$$V2.0'\n",
      " 'PEPTIDE1{S.A.W.T.Y.D.K.W.K}$$$$V2.0'\n",
      " 'PEPTIDE1{G.A.Y.H.E.Y.H.V.S}$$$$V2.0'\n",
      " 'PEPTIDE1{L.N.G.Y.N.Y.A.C.A}$$$$V2.0'\n",
      " 'PEPTIDE1{A.Q.K.Y.C.S.Y.I.N}$$$$V2.0'\n",
      " 'PEPTIDE1{K.N.R.S.K.F.D.L.I}$$$$V2.0'\n",
      " 'PEPTIDE1{H.C.L.T.I.H.I.P.F}$$$$V2.0'\n",
      " 'PEPTIDE1{Q.Q.I.K.S.H.S.H.C}$$$$V2.0'\n",
      " 'PEPTIDE1{L.W.E.E.W.S.V.S.K}$$$$V2.0'\n",
      " 'PEPTIDE1{T.F.C.P.F.T.N.T.F}$$$$V2.0'\n",
      " 'PEPTIDE1{F.V.N.S.Q.R.S.I.N}$$$$V2.0'\n",
      " 'PEPTIDE1{I.Q.V.Q.W.E.A.D.D}$$$$V2.0'\n",
      " 'PEPTIDE1{S.K.W.S.G.C.C.E.H}$$$$V2.0'\n",
      " 'PEPTIDE1{N.I.A.L.R.H.Y.C.D}$$$$V2.0'\n",
      " 'PEPTIDE1{T.E.Y.S.N.E.T.W.T}$$$$V2.0'\n",
      " 'PEPTIDE1{T.C.M.A.S.F.F.K.H}$$$$V2.0'\n",
      " 'PEPTIDE1{G.R.T.W.L.Y.R.G.L}$$$$V2.0'\n",
      " 'PEPTIDE1{V.M.R.P.T.Y.G.V.N}$$$$V2.0'\n",
      " 'PEPTIDE1{Y.G.H.G.K.Y.F.L.H}$$$$V2.0'\n",
      " 'PEPTIDE1{G.A.R.C.I.V.C.Q.F}$$$$V2.0'\n",
      " 'PEPTIDE1{H.D.T.S.W.A.A.F.F}$$$$V2.0'\n",
      " 'PEPTIDE1{P.Q.Y.T.T.F.N.M.S}$$$$V2.0'\n",
      " 'PEPTIDE1{F.E.E.F.E.D.Q.V.A}$$$$V2.0'\n",
      " 'PEPTIDE1{I.H.Y.D.S.A.T.M.G}$$$$V2.0'\n",
      " 'PEPTIDE1{G.C.M.W.K.Q.V.D.W}$$$$V2.0'\n",
      " 'PEPTIDE1{K.Y.P.N.H.M.D.R.C}$$$$V2.0'\n",
      " 'PEPTIDE1{S.E.R.N.L.E.A.K.I}$$$$V2.0'\n",
      " 'PEPTIDE1{I.V.E.I.Y.Y.H.R.E}$$$$V2.0'\n",
      " 'PEPTIDE1{I.C.Y.I.E.F.D.G.F}$$$$V2.0'\n",
      " 'PEPTIDE1{L.P.H.I.T.K.V.T.A}$$$$V2.0'\n",
      " 'PEPTIDE1{Y.R.T.N.G.L.L.F.E}$$$$V2.0'\n",
      " 'PEPTIDE1{Q.N.M.V.I.L.C.V.R}$$$$V2.0'\n",
      " 'PEPTIDE1{P.C.F.Q.D.G.V.L.A}$$$$V2.0'\n",
      " 'PEPTIDE1{N.Q.V.Q.Q.H.S.D.T}$$$$V2.0'\n",
      " 'PEPTIDE1{G.Y.H.G.M.P.M.I.S}$$$$V2.0'\n",
      " 'PEPTIDE1{V.E.M.W.P.D.Y.R.H}$$$$V2.0'\n",
      " 'PEPTIDE1{F.R.S.V.A.S.Q.P.G}$$$$V2.0'\n",
      " 'PEPTIDE1{V.T.P.P.G.P.E.R.K}$$$$V2.0'\n",
      " 'PEPTIDE1{H.Y.T.W.D.M.V.T.R}$$$$V2.0'\n",
      " 'PEPTIDE1{G.R.N.G.V.Q.M.W.W}$$$$V2.0'\n",
      " 'PEPTIDE1{C.G.F.R.V.D.L.L.G}$$$$V2.0'\n",
      " 'PEPTIDE1{R.D.N.S.G.I.A.K.G}$$$$V2.0'\n",
      " 'PEPTIDE1{I.T.S.L.V.P.G.C.Q}$$$$V2.0'\n",
      " 'PEPTIDE1{F.T.R.L.K.K.M.G.D}$$$$V2.0'\n",
      " 'PEPTIDE1{V.K.G.H.V.S.T.Q.C}$$$$V2.0'\n",
      " 'PEPTIDE1{R.N.E.S.E.C.F.G.W}$$$$V2.0'\n",
      " 'PEPTIDE1{V.R.V.L.K.Y.P.Q.T}$$$$V2.0'\n",
      " 'PEPTIDE1{T.F.M.A.H.G.K.T.R}$$$$V2.0'\n",
      " 'PEPTIDE1{Q.Q.R.F.L.C.E.L.K}$$$$V2.0'\n",
      " 'PEPTIDE1{L.Y.T.C.V.Y.L.I.Q}$$$$V2.0'\n",
      " 'PEPTIDE1{L.P.V.E.H.Q.S.L.D}$$$$V2.0'\n",
      " 'PEPTIDE1{R.W.T.F.P.A.F.K.N}$$$$V2.0'\n",
      " 'PEPTIDE1{R.V.R.Y.T.K.S.E.G}$$$$V2.0'\n",
      " 'PEPTIDE1{A.R.N.H.K.N.F.W.N}$$$$V2.0'\n",
      " 'PEPTIDE1{H.S.S.P.N.M.L.Q.D}$$$$V2.0'\n",
      " 'PEPTIDE1{R.D.C.F.Y.G.S.V.F}$$$$V2.0'\n",
      " 'PEPTIDE1{P.Q.G.L.S.K.L.P.F}$$$$V2.0'\n",
      " 'PEPTIDE1{W.D.L.R.I.W.T.Q.N}$$$$V2.0'\n",
      " 'PEPTIDE1{G.P.F.V.Q.A.S.C.S}$$$$V2.0']\n",
      "[-8.21433153 -8.16304219 -8.13739753 -8.04092474 -8.01894359 -7.95910604\n",
      " -7.9420096  -7.82477684 -7.81378627 -7.73685227 -7.72464052 -7.71487113\n",
      " -7.67823589 -7.63671595 -7.61107129 -7.55123373 -7.53902199 -7.51581967\n",
      " -7.49628088 -7.45231859 -7.44377037 -7.41079866 -7.3704999  -7.3704999\n",
      " -7.3656152  -7.35828815 -7.35462463 -7.31554704 -7.30699882 -7.29722942\n",
      " -7.29600825 -7.28501768 -7.24716126 -7.24594009 -7.22273777 -7.21541072\n",
      " -7.21418955 -7.18854488 -7.14824612 -7.12626498 -7.11649558 -7.08962974\n",
      " -7.0823027  -7.0676486  -7.05910038 -7.01758044 -7.000484   -6.96262759\n",
      " -6.95285819 -6.95163702 -6.92355    -6.89668416 -6.87958772 -6.86981832\n",
      " -6.81486546 -6.79532667 -6.74647969 -6.73426794 -6.71472915 -6.70618093\n",
      " -6.66954569 -6.62436223 -6.60604461 -6.59139052 -6.58039995 -6.57673642\n",
      " -6.55719763 -6.55231293 -6.54254354 -6.51812004 -6.51445652 -6.510793\n",
      " -6.44362839 -6.433859   -6.43019547 -6.42775313 -6.42653195 -6.40821433\n",
      " -6.39233906 -6.38501202 -6.37768497 -6.34837678 -6.33860738 -6.33128033\n",
      " -6.32517446 -6.29220275 -6.26900043 -6.20183583 -6.20061465 -6.16275824\n",
      " -6.15665237 -6.13345005 -6.11879596 -6.10902656 -6.07117015 -6.05529488\n",
      " -6.04186196 -6.02598669 -6.0064479  -5.9966785  -5.98324558 -5.90997511\n",
      " -5.90631158 -5.89776336 -5.89654219 -5.87700339 -5.87456104 -5.8525799\n",
      " -5.8476952  -5.84036816 -5.83548346 -5.81472349 -5.80251174 -5.75244359\n",
      " -5.68161546 -5.63765318 -5.61811438 -5.61811438 -5.61445086 -5.59246972\n",
      " -5.54240156 -5.53751686 -5.53141099 -5.4972181  -5.4874487  -5.46302521\n",
      " -5.44959229 -5.44592877 -5.42883232 -5.42150528 -5.30183017 -5.28229138\n",
      " -5.25664671 -5.21146325 -5.17238566 -5.16383744 -5.14551982 -5.13330808\n",
      " -5.10399989 -5.09911519 -5.09056697 -5.08568227 -5.08446109 -5.07591287\n",
      " -5.04049881 -5.02096002 -5.00386357 -4.99165183 -4.98066126 -4.95013189]\n"
     ]
    }
   ],
   "source": [
    "random_peptides = []\n",
    "random_peptide_scores = []\n",
    "\n",
    "n_peptides = [150]\n",
    "peptide_length = [9]\n",
    "energy_bounds = [-8.235, -4.944] # about between 1 uM and 250 uM\n",
    "#energy_bounds = [-4.944, -4.531] # about between 250 uM and 500 uM\n",
    "#energy_bounds = [-4.531, -4.118] # about between 500 uM and 1 mM\n",
    "#energy_bounds = [-8.649, -8.235] # about between 500 nM and 1uM\n",
    "energy_cutoff = -4.11 # 1 mM\n",
    "#energy_cutoff = -4.944 # 250 uM\n",
    "#energy_cutoff = -8.235 # 1 uM\n",
    "\n",
    "pssm_files = ['../mhc/IEDB_MHC_I-2.9_matx_smm_smmpmbec/smmpmbec_matrix/HLA-A-02:01-8.txt',\n",
    "              '../mhc/IEDB_MHC_I-2.9_matx_smm_smmpmbec/smmpmbec_matrix/HLA-A-02:01-9.txt',\n",
    "              '../mhc/IEDB_MHC_I-2.9_matx_smm_smmpmbec/smmpmbec_matrix/HLA-A-02:01-10.txt',\n",
    "              '../mhc/IEDB_MHC_I-2.9_matx_smm_smmpmbec/smmpmbec_matrix/HLA-A-02:01-11.txt']\n",
    "mps = MHCIPeptideScorer(pssm_files, mhci, energy_cutoff=energy_cutoff)\n",
    "\n",
    "# Generate random peptides\n",
    "for n, size in zip(n_peptides, peptide_length):\n",
    "    tmp_peptides, tmp_peptide_scores = mps.generate_random_peptides(n, energy_bounds, size)\n",
    "    random_peptides.append(tmp_peptides)\n",
    "    random_peptide_scores.append(tmp_peptide_scores)\n",
    "\n",
    "random_peptides = np.concatenate(random_peptides)\n",
    "random_peptide_scores = np.concatenate(random_peptide_scores)\n",
    "\n",
    "clusters = defaultdict(list)\n",
    "for i, sequence in enumerate(random_peptides):\n",
    "    clusters[sequence.count('.')].append(i)\n",
    "print('Distribution:', ['%d: %d' % (k, len(clusters[k])) for k in sorted(clusters.keys())])\n",
    "print('')\n",
    "\n",
    "print(len(random_peptides))\n",
    "print(random_peptides)\n",
    "print(random_peptide_scores)"
   ]
  },
  {
   "cell_type": "code",
   "execution_count": 8,
   "id": "3d6e8fd8",
   "metadata": {},
   "outputs": [],
   "source": [
    "with open('HELMCoreLibrary.json') as f:\n",
    "    monomer_lib = json.load(f)\n",
    "\n",
    "monomer_peptide_lib = [x for x in monomer_lib if x['polymerType'] == 'PEPTIDE']\n",
    "AA1 = [\"A\", \"R\", \"N\", \"D\", \"C\", \"E\", \"Q\", \"G\", \"H\", \"I\", \"L\", \"K\", \"M\", \"F\", \"P\", \"S\", \"T\", \"W\", \"Y\", \"V\"]\n",
    "monomer_aa1_lib = [x for x in monomer_peptide_lib if x['symbol'] in AA1]\n",
    "\n",
    "smiles = [monomer['smiles'] for monomer in monomer_aa1_lib]\n",
    "fps = map4_fingerprint(smiles,input_type='smiles', radius=2)\n",
    "t = TanimotoSimilarityKernel()\n",
    "similarity_matrix = t.forward(fps, fps).numpy()\n",
    "\n",
    "probability_matrix = []\n",
    "\n",
    "for aa in similarity_matrix:\n",
    "    tmp = aa.copy()\n",
    "    tmp[tmp == 1.0] = 0\n",
    "    probability_matrix.append(tmp / np.sum(tmp))\n",
    "    \n",
    "probability_matrix = np.array(probability_matrix)"
   ]
  },
  {
   "cell_type": "code",
   "execution_count": 9,
   "id": "0447f1b5",
   "metadata": {},
   "outputs": [],
   "source": [
    "helmgo = HELMGeneticOperators(monomer_aa1_lib, probability_matrix)"
   ]
  },
  {
   "cell_type": "code",
   "execution_count": 12,
   "id": "a08b6e63",
   "metadata": {},
   "outputs": [],
   "source": [
    "lgao = LocalGA(helmgo)"
   ]
  },
  {
   "cell_type": "code",
   "execution_count": 13,
   "id": "5275d4b5",
   "metadata": {},
   "outputs": [
    {
     "data": {
      "text/plain": [
       "['__abstractmethods__',\n",
       " '__class__',\n",
       " '__delattr__',\n",
       " '__dict__',\n",
       " '__dir__',\n",
       " '__doc__',\n",
       " '__eq__',\n",
       " '__format__',\n",
       " '__ge__',\n",
       " '__getattribute__',\n",
       " '__gt__',\n",
       " '__hash__',\n",
       " '__init__',\n",
       " '__init_subclass__',\n",
       " '__le__',\n",
       " '__lt__',\n",
       " '__module__',\n",
       " '__ne__',\n",
       " '__new__',\n",
       " '__reduce__',\n",
       " '__reduce_ex__',\n",
       " '__repr__',\n",
       " '__setattr__',\n",
       " '__sizeof__',\n",
       " '__slots__',\n",
       " '__str__',\n",
       " '__subclasshook__',\n",
       " '__weakref__',\n",
       " '_abc_impl',\n",
       " '_elitism',\n",
       " '_generate_new_population',\n",
       " '_greater_is_better',\n",
       " '_helmgo',\n",
       " '_n_children',\n",
       " '_n_gen',\n",
       " '_sigma',\n",
       " 'candidate_scores',\n",
       " 'candidates',\n",
       " 'run']"
      ]
     },
     "execution_count": 13,
     "metadata": {},
     "output_type": "execute_result"
    }
   ],
   "source": [
    "dir(lgao)"
   ]
  },
  {
   "cell_type": "code",
   "execution_count": 14,
   "id": "95cb964b",
   "metadata": {},
   "outputs": [
    {
     "ename": "TypeError",
     "evalue": "run() missing 2 required positional arguments: 'scoring_function' and 'sequences'",
     "output_type": "error",
     "traceback": [
      "\u001b[0;31m---------------------------------------------------------------------------\u001b[0m",
      "\u001b[0;31mTypeError\u001b[0m                                 Traceback (most recent call last)",
      "\u001b[0;32m/tmp/ipykernel_26565/3195495303.py\u001b[0m in \u001b[0;36m<module>\u001b[0;34m\u001b[0m\n\u001b[0;32m----> 1\u001b[0;31m \u001b[0mlgao\u001b[0m\u001b[0;34m.\u001b[0m\u001b[0mrun\u001b[0m\u001b[0;34m(\u001b[0m\u001b[0;34m)\u001b[0m\u001b[0;34m\u001b[0m\u001b[0;34m\u001b[0m\u001b[0m\n\u001b[0m",
      "\u001b[0;31mTypeError\u001b[0m: run() missing 2 required positional arguments: 'scoring_function' and 'sequences'"
     ]
    }
   ],
   "source": [
    "lgao.run()"
   ]
  },
  {
   "cell_type": "code",
   "execution_count": 13,
   "id": "28f213ac",
   "metadata": {},
   "outputs": [
    {
     "data": {
      "text/plain": [
       "function"
      ]
     },
     "execution_count": 13,
     "metadata": {},
     "output_type": "execute_result"
    }
   ],
   "source": [
    "type(LocalGA)"
   ]
  },
  {
   "cell_type": "code",
   "execution_count": null,
   "id": "219b78d7",
   "metadata": {},
   "outputs": [],
   "source": []
  },
  {
   "cell_type": "code",
   "execution_count": null,
   "id": "1b930ade",
   "metadata": {},
   "outputs": [],
   "source": []
  },
  {
   "cell_type": "code",
   "execution_count": null,
   "id": "564edd64",
   "metadata": {},
   "outputs": [],
   "source": []
  },
  {
   "cell_type": "code",
   "execution_count": null,
   "id": "b89b410e",
   "metadata": {},
   "outputs": [],
   "source": []
  },
  {
   "cell_type": "code",
   "execution_count": null,
   "id": "5d0eaef8",
   "metadata": {},
   "outputs": [],
   "source": []
  },
  {
   "cell_type": "code",
   "execution_count": null,
   "id": "587763cb",
   "metadata": {},
   "outputs": [],
   "source": []
  },
  {
   "cell_type": "code",
   "execution_count": null,
   "id": "66b9d876",
   "metadata": {},
   "outputs": [],
   "source": []
  },
  {
   "cell_type": "code",
   "execution_count": null,
   "id": "c08a8673",
   "metadata": {},
   "outputs": [],
   "source": []
  },
  {
   "cell_type": "code",
   "execution_count": null,
   "id": "c61f8c4e",
   "metadata": {},
   "outputs": [],
   "source": []
  },
  {
   "cell_type": "code",
   "execution_count": null,
   "id": "e8de5bb8",
   "metadata": {},
   "outputs": [],
   "source": []
  },
  {
   "cell_type": "code",
   "execution_count": null,
   "id": "fb736200",
   "metadata": {},
   "outputs": [],
   "source": []
  },
  {
   "cell_type": "code",
   "execution_count": null,
   "id": "f3aa468b",
   "metadata": {},
   "outputs": [],
   "source": []
  },
  {
   "cell_type": "code",
   "execution_count": null,
   "id": "8947c826",
   "metadata": {},
   "outputs": [],
   "source": []
  }
 ],
 "metadata": {
  "kernelspec": {
   "display_name": "Python 3 (ipykernel)",
   "language": "python",
   "name": "python3"
  },
  "language_info": {
   "codemirror_mode": {
    "name": "ipython",
    "version": 3
   },
   "file_extension": ".py",
   "mimetype": "text/x-python",
   "name": "python",
   "nbconvert_exporter": "python",
   "pygments_lexer": "ipython3",
   "version": "3.7.11"
  }
 },
 "nbformat": 4,
 "nbformat_minor": 5
}
