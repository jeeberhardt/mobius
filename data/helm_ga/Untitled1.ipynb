{
 "cells": [
  {
   "cell_type": "code",
   "execution_count": 1,
   "id": "13f4913f",
   "metadata": {},
   "outputs": [
    {
     "data": {
      "text/html": [
       "<style>.container { width:50% !important; }</style>"
      ],
      "text/plain": [
       "<IPython.core.display.HTML object>"
      ]
     },
     "metadata": {},
     "output_type": "display_data"
    }
   ],
   "source": [
    "from IPython.core.display import display, HTML\n",
    "display(HTML(\"<style>.container { width:50% !important; }</style>\"))\n",
    "\n",
    "%matplotlib inline\n",
    "\n",
    "import os\n",
    "import re\n",
    "import json\n",
    "from collections import defaultdict\n",
    "\n",
    "import torch\n",
    "import gpytorch\n",
    "import numpy as np\n",
    "import pandas as pd\n",
    "import matplotlib.pyplot as plt\n",
    "import umap.umap_ as umap\n",
    "from deap import algorithms\n",
    "from deap import base\n",
    "from deap import creator\n",
    "from deap import tools\n",
    "from sklearn.linear_model import LinearRegression\n",
    "from scipy.stats import norm\n",
    "from rdkit import Chem\n",
    "from botorch.models.gpytorch import GPyTorchModel\n",
    "from botorch.fit import fit_gpytorch_model\n",
    "from MDAnalysis.analysis.rms import rmsd\n",
    "from scipy.stats import pearsonr\n",
    "from map4 import MAP4Calculator"
   ]
  },
  {
   "cell_type": "markdown",
   "id": "b25343a1",
   "metadata": {},
   "source": [
    "## Read dataset"
   ]
  },
  {
   "cell_type": "code",
   "execution_count": 2,
   "id": "ec8a4146",
   "metadata": {},
   "outputs": [],
   "source": [
    "mhci = pd.read_csv('../mhc/binding_data_2013/bdata.20130222.mhci.csv')"
   ]
  },
  {
   "cell_type": "code",
   "execution_count": 3,
   "id": "01b17975",
   "metadata": {},
   "outputs": [],
   "source": [
    "# We removed those binding affinity values\n",
    "# A lot of peptides were set with those values. Looks like some default values assigned...\n",
    "dirty_values = [1, 2, 3, 5000, 10000, 20000, 43424, 50000, 69444.44444, 78125]\n",
    "\n",
    "# Split dataset in training and testing sets\n",
    "mhci = mhci[(mhci['mhc_allele'] == 'HLA-A*02:01') &\n",
    "            (mhci['length'] == 9) &\n",
    "            (~mhci['affinity_binding'].isin(dirty_values))]"
   ]
  },
  {
   "cell_type": "markdown",
   "id": "e8a1a09b",
   "metadata": {},
   "source": [
    "## Correlation between PSSM and exp. values"
   ]
  },
  {
   "cell_type": "code",
   "execution_count": 4,
   "id": "675a3222",
   "metadata": {},
   "outputs": [],
   "source": [
    "data = []\n",
    "AA = []\n",
    "\n",
    "with open('../mhc/IEDB_MHC_I-2.9_matx_smm_smmpmbec/smm_matrix/HLA-A-02:01-9.txt') as f:\n",
    "    lines = f.readlines()\n",
    "    \n",
    "    for line in lines[1:-1]:\n",
    "        sline = line.strip().split('\\t')\n",
    "        AA.append(sline[0])\n",
    "        data.append([float(v) for v in sline[1:]])\n",
    "\n",
    "columns = list(range(1, 10))\n",
    "pssm = pd.DataFrame(data=data, columns=columns, index=AA)"
   ]
  },
  {
   "cell_type": "code",
   "execution_count": 5,
   "id": "72f7249f",
   "metadata": {},
   "outputs": [],
   "source": [
    "pssm_scores = []\n",
    "\n",
    "for peptide in mhci.itertuples():\n",
    "    score = 0\n",
    "    \n",
    "    for i, aa in enumerate(peptide.sequence):\n",
    "        score += pssm.loc[aa][i + 1]\n",
    "    \n",
    "    pssm_scores.append(score)\n",
    "    \n",
    "pssm_scores = np.array(pssm_scores)"
   ]
  },
  {
   "cell_type": "code",
   "execution_count": 6,
   "id": "7d7cb462",
   "metadata": {},
   "outputs": [
    {
     "name": "stdout",
     "output_type": "stream",
     "text": [
      "R2: 0.644\n",
      "RMSD : 1.189 kcal/mol\n"
     ]
    }
   ],
   "source": [
    "# Fit PSSM score to exp. values\n",
    "reg = LinearRegression()\n",
    "reg.fit(pssm_scores[:,None], mhci['energy'])\n",
    "print('R2: %.3f' % reg.score(pssm_scores[:,None], mhci['energy']))\n",
    "print('RMSD : %.3f kcal/mol' % rmsd(reg.predict(pssm_scores[:,None]), mhci['energy']))"
   ]
  },
  {
   "cell_type": "markdown",
   "id": "d256b55a",
   "metadata": {},
   "source": [
    "## Bayesian optimization"
   ]
  },
  {
   "cell_type": "code",
   "execution_count": 7,
   "id": "3509c3e3",
   "metadata": {},
   "outputs": [],
   "source": [
    "class TanimotoSimilarityKernel(gpytorch.kernels.Kernel):\n",
    "    # the sequence kernel is stationary\n",
    "    is_stationary = True     \n",
    "\n",
    "    # this is the kernel function\n",
    "    def forward(self, x1, x2, diag=False, last_dim_is_batch=False, **params):\n",
    "        if last_dim_is_batch:\n",
    "            # Not tested\n",
    "            x1 = x1.transpose(-1, -2).unsqueeze(-1)\n",
    "            x2 = x2.transpose(-1, -2).unsqueeze(-1)\n",
    "\n",
    "        x1_eq_x2 = torch.equal(x1, x2)\n",
    "        \n",
    "        x1s = torch.sum(torch.square(x1), dim=-1)\n",
    "        x2s = torch.sum(torch.square(x2), dim=-1)\n",
    "        \n",
    "        if diag:\n",
    "            if x1_eq_x2:\n",
    "                res = torch.ones(*x1.shape[:-2], x1.shape[-2], dtype=x1.dtype, device=x1.device)\n",
    "                return res\n",
    "            else:\n",
    "                product = torch.mul(x1, x2).sum(dim=1)\n",
    "                denominator = torch.add(x2s, x1s) - product\n",
    "        else:\n",
    "            product = torch.mm(x1, x2.transpose(1, 0))\n",
    "            denominator = torch.add(x2s, x1s[:, None]) - product\n",
    "\n",
    "        res = product / denominator\n",
    "        \n",
    "        return res\n",
    "\n",
    "    \n",
    "# We will use the simplest form of GP model, exact inference\n",
    "class ExactGPModel(gpytorch.models.ExactGP, GPyTorchModel):\n",
    "    # to inform GPyTorchModel API\n",
    "    _num_outputs = 1\n",
    "    \n",
    "    def __init__(self, train_x, train_y, likelihood, kernel=None):\n",
    "        super(ExactGPModel, self).__init__(train_x, train_y, likelihood)\n",
    "        self.mean_module = gpytorch.means.ConstantMean()\n",
    "\n",
    "        if kernel is not None:\n",
    "            self.covar_module = gpytorch.kernels.ScaleKernel(kernel())\n",
    "        else:\n",
    "            self.covar_module = gpytorch.kernels.ScaleKernel(TanimotoSimilarityKernel())\n",
    "\n",
    "        # make sure we're on the right device/dtype\n",
    "        self.to(train_x)\n",
    "\n",
    "    def forward(self, x):\n",
    "        mean_x = self.mean_module(x)\n",
    "        covar_x = self.covar_module(x)\n",
    "        return gpytorch.distributions.MultivariateNormal(mean_x, covar_x)\n",
    "    \n",
    "    \n",
    "def get_fitted_model(train_x, train_y, state_dict=None, kernel=None):\n",
    "    # initialize and fit model\n",
    "    likelihood = gpytorch.likelihoods.GaussianLikelihood()\n",
    "    model = ExactGPModel(train_x, train_y, likelihood, kernel)\n",
    "    \n",
    "    if state_dict is not None:\n",
    "        model.load_state_dict(state_dict)\n",
    "    \n",
    "    # \"Loss\" for GPs - the marginal log likelihood\n",
    "    mll = gpytorch.mlls.ExactMarginalLogLikelihood(model.likelihood, model)\n",
    "    mll.to(train_x)\n",
    "    \n",
    "    # Train model!\n",
    "    fit_gpytorch_model(mll)\n",
    "    \n",
    "    return model"
   ]
  },
  {
   "cell_type": "code",
   "execution_count": 8,
   "id": "b0a1a5d4",
   "metadata": {},
   "outputs": [],
   "source": [
    "def predict(model, likelihood, test_x):\n",
    "    model.eval()\n",
    "    likelihood.eval()\n",
    "    \n",
    "    # Make predictions by feeding model through likelihood\n",
    "    with torch.no_grad(), gpytorch.settings.fast_pred_var():\n",
    "        # Test points are regularly spaced along [0,1]\n",
    "        return likelihood(model(test_x))\n",
    "\n",
    "\n",
    "def plot(y_test, observed_pred, fig_filename=None):\n",
    "    with torch.no_grad():\n",
    "        fig, ax = plt.subplots(1, 1, figsize=(10, 10))\n",
    "        \n",
    "        ax.scatter(y_test, observed_pred)\n",
    "        \n",
    "        ax.set_xlim([np.min([y_test, observed_pred]) - 1, np.max([y_test, observed_pred]) + 1])\n",
    "        ax.set_ylim([np.min([y_test, observed_pred]) - 1, np.max([y_test, observed_pred]) + 1])\n",
    "        ax.set_xlabel('Experimental values (kcal/mol)', fontsize=20)\n",
    "        ax.set_ylabel('Predicted values (kcal/mol)', fontsize=20)\n",
    "        \n",
    "        if fig_filename is not None:\n",
    "            plt.savefig(fig_filename, bbox_inches='tight', dpi=300)\n",
    "        \n",
    "        plt.show()"
   ]
  },
  {
   "cell_type": "code",
   "execution_count": 9,
   "id": "74b30837",
   "metadata": {},
   "outputs": [],
   "source": [
    "def expected_improvement(model, Y_train, Xsamples, greater_is_better=False, xi=0.00):\n",
    "    \"\"\" expected_improvement\n",
    "    Expected improvement acquisition function.\n",
    "    \n",
    "    Source: https://github.com/thuijskens/bayesian-optimization/blob/master/python/gp.py\n",
    "    \n",
    "    Arguments:\n",
    "    ----------\n",
    "        model: Gaussian process model\n",
    "        Y_train: Array that contains all the observed energy interaction seed so far\n",
    "        X_samples: Samples we want to try out\n",
    "        greater_is_better: Indicates whether the loss function is to be maximised or minimised.\n",
    "        xi: Exploitation-exploration trade-off parameter\n",
    "\n",
    "    \"\"\"\n",
    "    # calculate mean and stdev via surrogate function\n",
    "    observed_pred = predict(model, model.likelihood, Xsamples)\n",
    "    sigma = observed_pred.variance.sqrt().detach().numpy()\n",
    "    mu = observed_pred.mean.detach().numpy()\n",
    "\n",
    "    if greater_is_better:\n",
    "        loss_optimum = np.max(Y_train.numpy())\n",
    "    else:\n",
    "        loss_optimum = np.min(Y_train.numpy())\n",
    "\n",
    "    scaling_factor = (-1) ** (not greater_is_better)\n",
    "\n",
    "    # calculate the expected improvement\n",
    "    Z = scaling_factor * (mu - loss_optimum - xi) / (sigma + 1E-9)\n",
    "    ei = scaling_factor * (mu - loss_optimum) * norm.cdf(Z) + (sigma * norm.pdf(Z))\n",
    "    ei[sigma == 0.0] == 0.0\n",
    "\n",
    "    return -1 * ei\n",
    "\n",
    "\n",
    "# probability of improvement acquisition function\n",
    "def probability_of_improvement(model, Y_train, Xsamples, greater_is_better=False):\n",
    "    \"\"\" probability_of_improvement\n",
    "    Probability of improvement acquisition function.\n",
    "        \n",
    "    Arguments:\n",
    "    ----------\n",
    "        model: Gaussian process model\n",
    "        Y_train: Array that contains all the observed energy interaction seed so far\n",
    "        X_samples: Samples we want to try out\n",
    "        greater_is_better: Indicates whether the loss function is to be maximised or minimised.\n",
    "\n",
    "    \"\"\"\n",
    "    # calculate mean and stdev via surrogate function\n",
    "    observed_pred = predict(model, model.likelihood, Xsamples)\n",
    "    sigma = observed_pred.variance.sqrt().detach().numpy()\n",
    "    mu = observed_pred.mean.detach().numpy()\n",
    "    \n",
    "    if greater_is_better:\n",
    "        loss_optimum = np.max(Y_train.numpy())\n",
    "    else:\n",
    "        loss_optimum = np.min(Y_train.numpy())\n",
    "\n",
    "    scaling_factor = (-1) ** (not greater_is_better)\n",
    "    \n",
    "    # calculate the probability of improvement\n",
    "    Z = scaling_factor * (mu - loss_optimum) / (sigma + 1E-9)\n",
    "    pi = norm.cdf(Z)\n",
    "    pi[sigma == 0.0] == 0.0\n",
    "    \n",
    "    return pi"
   ]
  },
  {
   "cell_type": "code",
   "execution_count": 36,
   "id": "9278cc2a",
   "metadata": {},
   "outputs": [],
   "source": [
    "def predict_peptide_affinity_binding(sequences, pssm, reg, cutoff=-5.0):\n",
    "    scores = []\n",
    "    \n",
    "    for sequence in sequences:\n",
    "        score = 0\n",
    "        \n",
    "        for i, aa in enumerate(sequence):\n",
    "            if pssm.loc[aa][i + 1] >= 0.1:\n",
    "                score += 999\n",
    "            else:\n",
    "                score += pssm.loc[aa][i + 1]\n",
    "        \n",
    "        scores.append(score)\n",
    "    \n",
    "    pred_scores = reg.predict(np.array(scores)[:,None])\n",
    "    pred_scores[pred_scores > cutoff] = 0.\n",
    "    \n",
    "    return pred_scores\n",
    "\n",
    "\n",
    "def generate_random_peptides(n_peptides, peptide_length, pssm, reg, energy_bounds, energy_cutoff):\n",
    "    random_peptides = []\n",
    "    random_peptide_scores = []\n",
    "\n",
    "    while True:\n",
    "        p = ''.join(np.random.choice(pssm.index, peptide_length))\n",
    "        s = predict_peptide_affinity_binding([p], pssm, reg, cutoff=energy_cutoff)[0]\n",
    "\n",
    "        if energy_bounds[0] <= s <= energy_bounds[1]:\n",
    "            random_peptides.append(p)\n",
    "            random_peptide_scores.append(s)\n",
    "            print(len(random_peptides))\n",
    "\n",
    "        if len(random_peptides) == n_peptides:\n",
    "            break\n",
    "\n",
    "    random_peptides = np.array(random_peptides)\n",
    "    random_peptide_scores = np.array(random_peptide_scores)\n",
    "    \n",
    "    return random_peptides, random_peptide_scores"
   ]
  },
  {
   "cell_type": "code",
   "execution_count": 11,
   "id": "308f2c5a",
   "metadata": {},
   "outputs": [],
   "source": [
    "def map4_fingerprint(molecule_strings, input_type='fasta', dimensions=4096, radius=2, is_counted=False, is_folded=True):\n",
    "    f = {'fasta': Chem.rdmolfiles.MolFromFASTA,\n",
    "         'smiles': Chem.rdmolfiles.MolFromSmiles,\n",
    "         'helm': Chem.rdmolfiles.MolFromHELM}\n",
    "    \n",
    "    MAP4_unf = MAP4Calculator(dimensions=dimensions, radius=radius, is_counted=is_counted, is_folded=is_folded)\n",
    "    fps = MAP4_unf.calculate_many([f[input_type](s) for s in molecule_strings])\n",
    "    return torch.from_numpy(np.array(fps)).float()"
   ]
  },
  {
   "cell_type": "code",
   "execution_count": 12,
   "id": "96f9264d",
   "metadata": {},
   "outputs": [],
   "source": [
    "class AcqScoring:\n",
    "    def __init__(self, model, acq_fun, y_exp, sequence_type='fasta'):\n",
    "        self._model = model\n",
    "        self._acq_fun = acq_fun\n",
    "        self._y_exp = y_exp\n",
    "        self._sequence_type = sequence_type\n",
    "        \n",
    "    def evaluate(self, sequences):\n",
    "        fps = map4_fingerprint(sequences, self._sequence_type)\n",
    "        return self._acq_fun(self._model, self._y_exp, fps)"
   ]
  },
  {
   "cell_type": "markdown",
   "id": "f1fed12a",
   "metadata": {},
   "source": [
    "### Generate random peptides"
   ]
  },
  {
   "cell_type": "code",
   "execution_count": 37,
   "id": "991888ac",
   "metadata": {
    "scrolled": true
   },
   "outputs": [
    {
     "name": "stdout",
     "output_type": "stream",
     "text": [
      "1\n",
      "2\n",
      "3\n",
      "4\n",
      "5\n",
      "6\n",
      "7\n",
      "8\n",
      "9\n",
      "10\n",
      "11\n",
      "12\n",
      "13\n",
      "14\n",
      "15\n",
      "16\n",
      "17\n",
      "18\n",
      "19\n",
      "20\n",
      "21\n",
      "22\n",
      "23\n",
      "24\n",
      "25\n",
      "26\n",
      "27\n",
      "28\n",
      "29\n",
      "30\n",
      "31\n",
      "32\n",
      "33\n",
      "34\n",
      "35\n",
      "36\n",
      "37\n",
      "38\n",
      "39\n",
      "40\n",
      "41\n",
      "42\n",
      "43\n",
      "44\n",
      "45\n",
      "46\n",
      "47\n",
      "48\n",
      "49\n",
      "50\n",
      "51\n",
      "52\n",
      "53\n",
      "54\n",
      "55\n",
      "56\n",
      "57\n",
      "58\n",
      "59\n",
      "60\n",
      "61\n",
      "62\n",
      "63\n",
      "64\n",
      "65\n",
      "66\n",
      "67\n",
      "68\n",
      "69\n",
      "70\n",
      "71\n",
      "72\n",
      "73\n",
      "74\n",
      "75\n",
      "76\n",
      "77\n",
      "78\n",
      "79\n",
      "80\n",
      "81\n",
      "82\n",
      "83\n",
      "84\n",
      "85\n",
      "86\n",
      "87\n",
      "88\n",
      "89\n",
      "90\n",
      "91\n",
      "92\n",
      "93\n",
      "94\n",
      "95\n",
      "96\n",
      "97\n",
      "98\n",
      "99\n",
      "100\n",
      "101\n",
      "102\n",
      "103\n",
      "104\n",
      "105\n",
      "106\n",
      "107\n",
      "108\n",
      "109\n",
      "110\n",
      "111\n",
      "112\n",
      "113\n",
      "114\n",
      "115\n",
      "116\n",
      "117\n",
      "118\n",
      "119\n",
      "120\n",
      "121\n",
      "122\n",
      "123\n",
      "124\n",
      "125\n",
      "126\n",
      "127\n",
      "128\n",
      "129\n",
      "130\n",
      "131\n",
      "132\n",
      "133\n",
      "134\n",
      "135\n",
      "136\n",
      "137\n",
      "138\n",
      "139\n",
      "140\n",
      "141\n",
      "142\n",
      "143\n",
      "144\n",
      "145\n",
      "146\n",
      "147\n",
      "148\n",
      "149\n",
      "150\n",
      "['SFYNDQICM' 'GVVGVFHSW' 'STFAMSTAW' 'VTAFIQYPF' 'WAVAAIAMT' 'CISYGAFPS'\n",
      " 'SLLHSPTMW' 'IWDHVMLAI' 'CVNPDWCYI' 'FQLAMAVHF' 'WQAGSIPTC' 'RWAGYQLYS'\n",
      " 'RQSDLTLPS' 'VFMTCMCST' 'IWNECYHAC' 'WISAYAFHS' 'WVDPCSWTS' 'KQLGICMPF'\n",
      " 'GVYHINTMW' 'LAFMCYIYT' 'CTLFGCMWC' 'GWLMITPCS' 'CIIHGPMHW' 'CQLCVWMAW'\n",
      " 'CVDPIFMTW' 'AVMMAQMWW' 'RIVMDYTEA' 'VWAHIMHMI' 'VWIPACVYC' 'AAFDVCVTW'\n",
      " 'WTNECVLMC' 'AIDTIAMCC' 'CTVCVAMYM' 'RIAPWQATF' 'GVITSFCEC' 'LAMEVVMTS'\n",
      " 'MTYDHWALW' 'WQNTDTCMS' 'WFFSCPTSF' 'LQISAYLAT' 'IVDACFCWS' 'GQNACWHHT'\n",
      " 'RWLYCYLYC' 'ATIFMYAHF' 'CAVAWNYEC' 'YAVEVYHHF' 'WIDCLTLHS' 'CAIDVLWPS'\n",
      " 'CWVFYSMHF' 'VAATFPFAT' 'WFFDDFLLT' 'GISWLWFAW' 'LADECLCPF' 'CAVTVIPCF'\n",
      " 'WWDWCAFFF' 'MFLNHLHLT' 'GFYPHMCFM' 'VTNDLYILF' 'SFFHDLFMT' 'AAINDVCLS'\n",
      " 'GFNYASAYV' 'ITDDALMCT' 'WFSHDPTTT' 'CINNIQCCW' 'VIAHFWLEF' 'CWSGANVLL'\n",
      " 'LAADIWYST' 'CQDGFYAAS' 'STVPCCPLM' 'SFFAAPTHI' 'LQNTYVHFF' 'GANDLPIFW'\n",
      " 'SFNNANITA' 'GFSGVIYPC' 'RTVSVMVLF' 'VAICGLIHS' 'RLNTSALHW' 'LFADDPMPT'\n",
      " 'MWVSIFWCF' 'YVYPDCCTC' 'WFVTIWCAW' 'RADNMAMSL' 'AQICILVSC' 'FWAMMSFAW'\n",
      " 'VTSPWAHWC' 'CTLWYMLAC' 'CQWTAAIGC' 'AQVYHCHWS' 'CWIWFTCGC' 'LALPYWHGT'\n",
      " 'VVYPGQFPF' 'AQNWMAHCA' 'LVWGMPTWS' 'AFNDDPIPA' 'VWVPANPSL' 'SFLWFIAMS'\n",
      " 'SIVNHWCCW' 'STACMLVLT' 'AWWASYAPC' 'VVYSSSALS' 'KWSCVWLSA' 'ATNSVQACL'\n",
      " 'SFVFALFMA' 'KIMFAQHAF' 'MASYMYWMS' 'IFSMFVWCT' 'KAVYSTYHF' 'AWINDIHSA'\n",
      " 'VFSTSMVGT' 'GFSMAWHEC' 'KWVPMVVWI' 'RQANWPPLT' 'CWNMITYEW' 'SFVCGNMWT'\n",
      " 'AQFPHSPMW' 'GQSMYNIPS' 'MVVHMPASM' 'GILNMFCCS' 'RAVHYFAGL' 'VTFNDLYMF'\n",
      " 'VIAMDWVFT' 'GWDTWAILT' 'VAFPYNMPW' 'IFWTALICT' 'WIYMAAAGM' 'GWFWDNACT'\n",
      " 'AVVAYFITS' 'LQYGVVCES' 'LTDWDMVGM' 'YTVASWLGC' 'RFVHIIMTT' 'SVFWVYAES'\n",
      " 'KFLPMIICM' 'CAVCVCAYT' 'GVNHVQPEI' 'IAAESCICF' 'SWVSINAEA' 'YASWSYLMA'\n",
      " 'RFFNWWYSC' 'VVDYVMISW' 'GMSWMLVCF' 'SAVSCVWWW' 'VASCIYWEC' 'SIAYFPPMS'\n",
      " 'CVDTSWIHA' 'CVMGFYTCF' 'RTLTGVALM' 'SIDMSSYEF' 'SALHLTMHA' 'FASDDFTEF']\n",
      "[-7.10386905 -7.13445343 -6.90252189 -7.48744814 -6.90252189 -7.48999684\n",
      " -8.01375433 -7.96278036 -8.12589705 -8.02522347 -7.62762654 -6.99937243\n",
      " -7.66968006 -7.67732616 -6.80694571 -8.07364874 -7.86210678 -8.15265838\n",
      " -6.91399103 -8.02649782 -7.01593896 -6.50492496 -7.1127895  -7.24914485\n",
      " -7.1879761  -7.69516705 -8.04179001 -7.99463909 -7.00956722 -7.34726974\n",
      " -7.3281545  -7.2504192  -7.62252915 -7.56390909 -7.20836568 -7.9793469\n",
      " -7.84681459 -6.56864242 -6.84645053 -7.57410388 -7.61233435 -7.33580059\n",
      " -7.07201033 -6.5265889  -7.19689654 -7.48235074 -7.41098719 -8.08639223\n",
      " -6.24878079 -7.72447708 -7.86592983 -7.73212317 -7.66968006 -6.34945437\n",
      " -7.6238035  -7.85446069 -7.59194477 -7.1076921  -7.78182279 -6.71391822\n",
      " -8.00610823 -7.85700939 -6.28955996 -6.3813131  -7.60596261 -7.29374707\n",
      " -8.08894093 -6.8145918  -7.91690379 -7.72447708 -8.02522347 -6.95859325\n",
      " -6.9573189  -7.28482663 -6.80057396 -7.0350542  -7.44666897 -7.63527264\n",
      " -7.41481024 -8.16157883 -5.97861878 -7.73976927 -7.87867332 -7.76780495\n",
      " -7.31031361 -7.5409708  -7.3982437  -7.05416944 -6.68205949 -7.77799974\n",
      " -8.16795057 -7.91945249 -7.7665306  -7.95131122 -7.68114921 -7.05926683\n",
      " -6.67059035 -7.60978566 -7.18670175 -7.1879761  -7.62762654 -7.70918489\n",
      " -7.83024805 -7.89141681 -6.91399103 -7.60851131 -6.70627213 -8.07492309\n",
      " -6.41954357 -6.02831839 -8.07364874 -8.19853495 -6.61451899 -6.7496\n",
      " -7.50528903 -7.52440426 -7.93474468 -7.13317908 -8.17687102 -7.73849492\n",
      " -7.95258557 -7.17268391 -7.71173359 -7.66203397 -8.11187921 -6.89997319\n",
      " -7.59194477 -7.85955808 -7.85573504 -7.19434784 -6.85282228 -7.64801613\n",
      " -7.87102723 -7.03887725 -8.1348175  -6.91526538 -7.51675817 -8.06090525\n",
      " -7.53205036 -7.45176636 -8.16412753 -7.53205036 -7.2478705  -7.45941246\n",
      " -7.72192838 -7.37275672 -8.01502868 -7.75378711 -7.93601903 -7.84299155]\n"
     ]
    }
   ],
   "source": [
    "n_peptides = 150\n",
    "peptide_length = 9\n",
    "energy_bounds = [-8.2, -5] # about between 1 and 250 uM\n",
    "energy_cutoff = -5 # around 250 uM\n",
    "\n",
    "# Generate random peptides\n",
    "random_peptides, random_peptide_scores = generate_random_peptides(n_peptides, peptide_length, pssm, reg, energy_bounds, energy_cutoff)\n",
    "\n",
    "print(random_peptides)\n",
    "print(random_peptide_scores)"
   ]
  },
  {
   "cell_type": "markdown",
   "id": "60d579a1",
   "metadata": {},
   "source": [
    "### Candidate peptides sampling with PBIL"
   ]
  },
  {
   "cell_type": "code",
   "execution_count": 40,
   "id": "09b44ee2",
   "metadata": {},
   "outputs": [],
   "source": [
    "class PBIL(object):\n",
    "    def __init__(self, scorer, peptide_length=9, population_size=96, n_best=48,\n",
    "                 learning_rate=0.5, mut_prob=0.0, mut_shift=0.00, greater_is_better=True, seed=None):\n",
    "        self._AA1 = ['A', 'R', 'N', 'D', 'C', 'Q', 'E', 'G', 'H', 'I',\n",
    "                     'L', 'K', 'M', 'F', 'P', 'S', 'T', 'W', 'Y', 'V']\n",
    "        \n",
    "        # Scoring object\n",
    "        self._scorer = scorer\n",
    "        \n",
    "        # Random generation\n",
    "        self._random_seed = seed\n",
    "        self._rng = np.random.default_rng(self._random_seed)\n",
    "\n",
    "        # Initialize probability vectors\n",
    "        n_amino_acids = len(self._AA1)\n",
    "        self._peptide_length = peptide_length\n",
    "        init_probability = 1. / n_amino_acids\n",
    "        self._prob_vector = np.zeros(shape=(peptide_length, n_amino_acids)) + init_probability\n",
    "\n",
    "        # PBIL parameters\n",
    "        self._n_best = n_best\n",
    "        self._learning_rate = learning_rate\n",
    "        self._mut_prob = mut_prob\n",
    "        self._mut_shift = mut_shift\n",
    "        self._population_size = population_size\n",
    "        \n",
    "        # Elitism\n",
    "        self._greater_is_better = greater_is_better\n",
    "        self._best_score = np.inf * (-1) ** (self._greater_is_better)\n",
    "\n",
    "    def sample(self):\n",
    "        ind = [self._rng.choice(self._AA1, p=self._prob_vector[i]) for i in range(self._peptide_length)]\n",
    "        return (ind)\n",
    "    \n",
    "    def evaluate(self, individual):\n",
    "        return self._scorer.evaluate([''.join(individual)])[0],\n",
    "    \n",
    "    def generate(self, ind_init):\n",
    "        return [ind_init(self.sample()) for _ in range(self._population_size)]\n",
    "\n",
    "    def update(self, population, scores=None):\n",
    "        if scores is None:\n",
    "            scores = np.array([ind.fitness.values[0] for ind in population])\n",
    "        \n",
    "        if self._greater_is_better:\n",
    "            sorted_peptide_indices = np.argsort(np.ravel(scores))[::-1]\n",
    "        else:\n",
    "            sorted_peptide_indices = np.argsort(np.ravel(scores))\n",
    "        \n",
    "        best_peptide_indices = sorted_peptide_indices[:self._n_best]\n",
    "        best_peptides = np.array(population)[best_peptide_indices]\n",
    "        \n",
    "        for i in range(self._peptide_length):\n",
    "            if self._n_best > 1:                \n",
    "                # Inverse the order\n",
    "                # For this position, put the best peptide at the end\n",
    "                # When updating the probability vector, the last one has more impact \n",
    "                # then the first sequence\n",
    "                amino_acids = np.flip(best_peptides[:,i])\n",
    "                \n",
    "            else:\n",
    "                # When we choose only one best peptide for updating the probability vector\n",
    "                amino_acids = [best_peptides[0][i]]\n",
    "            \n",
    "            for amino_acid in amino_acids:\n",
    "                j = self._AA1.index(amino_acid)\n",
    "                \n",
    "                # Update the probability vector\n",
    "                self._prob_vector[i, j] *= 1.0 - self._learning_rate\n",
    "                self._prob_vector[i, j] += self._learning_rate\n",
    "\n",
    "                # Mutate the probability vector\n",
    "                if self._rng.uniform() < self._mut_prob:\n",
    "                    self._prob_vector[i, j] *= 1.0 - self._mut_shift\n",
    "                    self._prob_vector[i, j] += self._rng.uniform() * self._mut_shift\n",
    "            \n",
    "            # Normalize vector\n",
    "            self._prob_vector[i] /= np.sum(self._prob_vector[i])\n",
    "            \n",
    "            \n",
    "def find_next_candidates(scorer, greater_is_better=True):\n",
    "    NGEN = 10\n",
    "    NIND = 250\n",
    "    NBEST = 50\n",
    "    NLEN = 9\n",
    "    NCAN = 96\n",
    "\n",
    "    #Initialize the PBIL EDA\n",
    "    pbil = PBIL(scorer, peptide_length=NLEN, population_size=NIND, n_best=NBEST,\n",
    "                greater_is_better=greater_is_better)\n",
    "\n",
    "    scaling_factor = (-1) ** (not greater_is_better)\n",
    "    creator.create(\"Fitness\", base.Fitness, weights=(scaling_factor,))\n",
    "    creator.create(\"Individual\", list, fitness=creator.Fitness)\n",
    "\n",
    "    toolbox = base.Toolbox()\n",
    "    toolbox.register(\"evaluate\", pbil.evaluate)\n",
    "    toolbox.register(\"generate\", pbil.generate, creator.Individual)\n",
    "    toolbox.register(\"update\", pbil.update)\n",
    "\n",
    "    # Statistics computation\n",
    "    hof = tools.HallOfFame(NCAN)\n",
    "    stats = tools.Statistics(lambda ind: ind.fitness.values)\n",
    "    stats.register(\"avg\", np.mean)\n",
    "    stats.register(\"std\", np.std)\n",
    "    stats.register(\"min\", np.min)\n",
    "    stats.register(\"max\", np.max)\n",
    "\n",
    "    pop, logbook = algorithms.eaGenerateUpdate(toolbox, NGEN, stats=stats, verbose=True, halloffame=hof)\n",
    "    \n",
    "    candidates = [''.join(s) for s in hof.items]\n",
    "    candidates_acq = np.array([k.values[0] for k in hof.keys])\n",
    "\n",
    "    return candidates, candidates_acq"
   ]
  },
  {
   "cell_type": "code",
   "execution_count": 41,
   "id": "63f2737d",
   "metadata": {
    "scrolled": true
   },
   "outputs": [
    {
     "name": "stdout",
     "output_type": "stream",
     "text": [
      "Run: 1\n",
      "Exp dataset size: (150, 4096)\n",
      "\n",
      "\n",
      "Init.\n",
      "N pep:  150\n",
      "Best peptide: -8.199\n",
      "N pep under -12 kcal/mol: 000\n",
      "N pep under -11 kcal/mol: 000\n",
      "N pep under -10 kcal/mol: 000\n",
      "N pep under -9 kcal/mol: 000\n",
      "N pep under -8 kcal/mol: 022\n",
      "N pep under -7 kcal/mol: 120\n",
      "N pep under -6 kcal/mol: 149\n",
      "N pep under -5 kcal/mol: 150\n",
      "Non binding pep        : 000\n",
      "\n",
      "\n",
      "\n",
      "Generation: 1\n"
     ]
    },
    {
     "name": "stderr",
     "output_type": "stream",
     "text": [
      "/home/eberhardt/Applications/miniconda3/envs/python3/lib/python3.7/site-packages/deap/creator.py:141: RuntimeWarning: A class named 'Fitness' has already been created and it will be overwritten. Consider deleting previous creation of that class or rename it.\n",
      "  RuntimeWarning)\n",
      "/home/eberhardt/Applications/miniconda3/envs/python3/lib/python3.7/site-packages/deap/creator.py:141: RuntimeWarning: A class named 'Individual' has already been created and it will be overwritten. Consider deleting previous creation of that class or rename it.\n",
      "  RuntimeWarning)\n"
     ]
    },
    {
     "name": "stdout",
     "output_type": "stream",
     "text": [
      "gen\tnevals\tavg       \tstd      \tmin      \tmax         \n",
      "0  \t250   \t-0.0313823\t0.0261305\t-0.163186\t-0.000808947\n",
      "1  \t250   \t-0.0498289\t0.0339047\t-0.238199\t-0.00139615 \n",
      "2  \t250   \t-0.0630215\t0.0393925\t-0.287852\t-0.00925545 \n",
      "3  \t250   \t-0.0740724\t0.0368174\t-0.222303\t-0.0109635  \n",
      "4  \t250   \t-0.0891334\t0.0386524\t-0.233801\t-0.0155573  \n",
      "5  \t250   \t-0.0985692\t0.0411551\t-0.253831\t-0.0181056  \n",
      "6  \t250   \t-0.10855  \t0.0422409\t-0.306566\t-0.0169138  \n",
      "7  \t250   \t-0.115507 \t0.0457778\t-0.29924 \t-0.0366641  \n",
      "8  \t250   \t-0.125027 \t0.0427406\t-0.269888\t-0.0373046  \n",
      "9  \t250   \t-0.131273 \t0.0474888\t-0.291952\t-0.0364425  \n",
      "\n",
      "N pep:  246\n",
      "Best peptide: -11.655\n",
      "N pep under -12 kcal/mol: 000\n",
      "N pep under -11 kcal/mol: 002\n",
      "N pep under -10 kcal/mol: 004\n",
      "N pep under -9 kcal/mol: 005\n",
      "N pep under -8 kcal/mol: 028\n",
      "N pep under -7 kcal/mol: 126\n",
      "N pep under -6 kcal/mol: 155\n",
      "N pep under -5 kcal/mol: 156\n",
      "Non binding pep        : 090\n"
     ]
    },
    {
     "data": {
      "image/png": "[encoded data removed]",
      "text/plain": [
       "<Figure size 360x360 with 1 Axes>"
      ]
     },
     "metadata": {
      "needs_background": "light"
     },
     "output_type": "display_data"
    },
    {
     "name": "stdout",
     "output_type": "stream",
     "text": [
      "\n",
      "\n",
      "\n",
      "Generation: 2\n"
     ]
    },
    {
     "name": "stderr",
     "output_type": "stream",
     "text": [
      "/home/eberhardt/Applications/miniconda3/envs/python3/lib/python3.7/site-packages/deap/creator.py:141: RuntimeWarning: A class named 'Fitness' has already been created and it will be overwritten. Consider deleting previous creation of that class or rename it.\n",
      "  RuntimeWarning)\n",
      "/home/eberhardt/Applications/miniconda3/envs/python3/lib/python3.7/site-packages/deap/creator.py:141: RuntimeWarning: A class named 'Individual' has already been created and it will be overwritten. Consider deleting previous creation of that class or rename it.\n",
      "  RuntimeWarning)\n"
     ]
    },
    {
     "name": "stdout",
     "output_type": "stream",
     "text": [
      "gen\tnevals\tavg        \tstd       \tmin       \tmax         \n",
      "0  \t250   \t-0.00443175\t0.00583442\t-0.0304007\t-3.38128e-07\n",
      "1  \t250   \t-0.008878  \t0.0130776 \t-0.136238 \t-6.68559e-07\n",
      "2  \t250   \t-0.0113885 \t0.010776  \t-0.0587251\t-3.53721e-05\n",
      "3  \t250   \t-0.0168419 \t0.0138105 \t-0.107747 \t-4.35842e-05\n",
      "4  \t250   \t-0.0190806 \t0.0150782 \t-0.113002 \t-0.000319454\n",
      "5  \t250   \t-0.0204401 \t0.0177129 \t-0.108784 \t-0.000160354\n",
      "6  \t250   \t-0.0241272 \t0.0207217 \t-0.175404 \t-0.00135132 \n",
      "7  \t250   \t-0.0262178 \t0.0196083 \t-0.101948 \t-0.00237558 \n",
      "8  \t250   \t-0.0290787 \t0.0219944 \t-0.174485 \t-0.00156377 \n",
      "9  \t250   \t-0.0317332 \t0.0201306 \t-0.127242 \t-0.00497781 \n",
      "\n",
      "N pep:  342\n",
      "Best peptide: -11.655\n",
      "N pep under -12 kcal/mol: 000\n",
      "N pep under -11 kcal/mol: 002\n",
      "N pep under -10 kcal/mol: 005\n",
      "N pep under -9 kcal/mol: 008\n",
      "N pep under -8 kcal/mol: 032\n",
      "N pep under -7 kcal/mol: 134\n",
      "N pep under -6 kcal/mol: 165\n",
      "N pep under -5 kcal/mol: 166\n",
      "Non binding pep        : 176\n"
     ]
    },
    {
     "data": {
      "image/png": "[encoded data removed]",
      "text/plain": [
       "<Figure size 360x360 with 1 Axes>"
      ]
     },
     "metadata": {
      "needs_background": "light"
     },
     "output_type": "display_data"
    },
    {
     "name": "stdout",
     "output_type": "stream",
     "text": [
      "\n",
      "\n",
      "\n",
      "Generation: 3\n"
     ]
    },
    {
     "name": "stderr",
     "output_type": "stream",
     "text": [
      "/home/eberhardt/Applications/miniconda3/envs/python3/lib/python3.7/site-packages/deap/creator.py:141: RuntimeWarning: A class named 'Fitness' has already been created and it will be overwritten. Consider deleting previous creation of that class or rename it.\n",
      "  RuntimeWarning)\n",
      "/home/eberhardt/Applications/miniconda3/envs/python3/lib/python3.7/site-packages/deap/creator.py:141: RuntimeWarning: A class named 'Individual' has already been created and it will be overwritten. Consider deleting previous creation of that class or rename it.\n",
      "  RuntimeWarning)\n"
     ]
    },
    {
     "name": "stdout",
     "output_type": "stream",
     "text": [
      "gen\tnevals\tavg       \tstd      \tmin       \tmax         \n",
      "0  \t250   \t-0.0080574\t0.0135791\t-0.0966405\t-1.73955e-06\n",
      "1  \t250   \t-0.0156188\t0.0209419\t-0.118194 \t-2.35468e-05\n",
      "2  \t250   \t-0.0232291\t0.0247805\t-0.120081 \t-0.000169933\n",
      "3  \t250   \t-0.0300356\t0.0335957\t-0.210193 \t-8.37672e-05\n",
      "4  \t250   \t-0.0385903\t0.0347745\t-0.201481 \t-0.000239028\n",
      "5  \t250   \t-0.0366935\t0.0327811\t-0.164469 \t-7.27566e-05\n",
      "6  \t250   \t-0.0429678\t0.037332 \t-0.232246 \t-0.000624458\n",
      "7  \t250   \t-0.0461895\t0.0410238\t-0.26004  \t-0.00103782 \n",
      "8  \t250   \t-0.0537068\t0.048252 \t-0.4088   \t-0.00109428 \n",
      "9  \t250   \t-0.0556673\t0.0469879\t-0.221634 \t-0.0011751  \n",
      "\n",
      "N pep:  438\n",
      "Best peptide: -11.655\n",
      "N pep under -12 kcal/mol: 000\n",
      "N pep under -11 kcal/mol: 002\n",
      "N pep under -10 kcal/mol: 010\n",
      "N pep under -9 kcal/mol: 022\n",
      "N pep under -8 kcal/mol: 052\n",
      "N pep under -7 kcal/mol: 160\n",
      "N pep under -6 kcal/mol: 193\n",
      "N pep under -5 kcal/mol: 194\n",
      "Non binding pep        : 244\n"
     ]
    },
    {
     "data": {
      "image/png": "[encoded data removed]",
      "text/plain": [
       "<Figure size 360x360 with 1 Axes>"
      ]
     },
     "metadata": {
      "needs_background": "light"
     },
     "output_type": "display_data"
    },
    {
     "name": "stdout",
     "output_type": "stream",
     "text": [
      "\n",
      "\n",
      "\n",
      "Run: 2\n",
      "Exp dataset size: (150, 4096)\n",
      "\n",
      "\n",
      "Init.\n",
      "N pep:  150\n",
      "Best peptide: -8.199\n",
      "N pep under -12 kcal/mol: 000\n",
      "N pep under -11 kcal/mol: 000\n",
      "N pep under -10 kcal/mol: 000\n",
      "N pep under -9 kcal/mol: 000\n",
      "N pep under -8 kcal/mol: 022\n",
      "N pep under -7 kcal/mol: 120\n",
      "N pep under -6 kcal/mol: 149\n",
      "N pep under -5 kcal/mol: 150\n",
      "Non binding pep        : 000\n",
      "\n",
      "\n",
      "\n",
      "Generation: 1\n"
     ]
    },
    {
     "name": "stderr",
     "output_type": "stream",
     "text": [
      "/home/eberhardt/Applications/miniconda3/envs/python3/lib/python3.7/site-packages/deap/creator.py:141: RuntimeWarning: A class named 'Fitness' has already been created and it will be overwritten. Consider deleting previous creation of that class or rename it.\n",
      "  RuntimeWarning)\n",
      "/home/eberhardt/Applications/miniconda3/envs/python3/lib/python3.7/site-packages/deap/creator.py:141: RuntimeWarning: A class named 'Individual' has already been created and it will be overwritten. Consider deleting previous creation of that class or rename it.\n",
      "  RuntimeWarning)\n"
     ]
    },
    {
     "name": "stdout",
     "output_type": "stream",
     "text": [
      "gen\tnevals\tavg       \tstd      \tmin      \tmax         \n",
      "0  \t250   \t-0.0280831\t0.0229052\t-0.126344\t-7.76629e-05\n",
      "1  \t250   \t-0.0434224\t0.0294772\t-0.160229\t-0.002152   \n",
      "2  \t250   \t-0.057774 \t0.0357989\t-0.223304\t-0.00406509 \n",
      "3  \t250   \t-0.0727302\t0.0422085\t-0.264233\t-0.00515573 \n",
      "4  \t250   \t-0.0840947\t0.0396167\t-0.240272\t-0.0128555  \n",
      "5  \t250   \t-0.0968349\t0.0427477\t-0.261387\t-0.0140518  \n",
      "6  \t250   \t-0.104679 \t0.0420823\t-0.226476\t-0.026977   \n",
      "7  \t250   \t-0.109311 \t0.0429498\t-0.336124\t-0.0270531  \n",
      "8  \t250   \t-0.119696 \t0.0411319\t-0.239785\t-0.0394143  \n",
      "9  \t250   \t-0.130228 \t0.0453023\t-0.297044\t-0.034052   \n",
      "\n",
      "N pep:  246\n",
      "Best peptide: -10.783\n",
      "N pep under -12 kcal/mol: 000\n",
      "N pep under -11 kcal/mol: 000\n",
      "N pep under -10 kcal/mol: 002\n",
      "N pep under -9 kcal/mol: 002\n",
      "N pep under -8 kcal/mol: 024\n",
      "N pep under -7 kcal/mol: 122\n",
      "N pep under -6 kcal/mol: 151\n",
      "N pep under -5 kcal/mol: 152\n",
      "Non binding pep        : 094\n"
     ]
    },
    {
     "data": {
      "image/png": "[encoded data removed]",
      "text/plain": [
       "<Figure size 360x360 with 1 Axes>"
      ]
     },
     "metadata": {
      "needs_background": "light"
     },
     "output_type": "display_data"
    },
    {
     "name": "stdout",
     "output_type": "stream",
     "text": [
      "\n",
      "\n",
      "\n",
      "Generation: 2\n"
     ]
    },
    {
     "name": "stderr",
     "output_type": "stream",
     "text": [
      "/home/eberhardt/Applications/miniconda3/envs/python3/lib/python3.7/site-packages/deap/creator.py:141: RuntimeWarning: A class named 'Fitness' has already been created and it will be overwritten. Consider deleting previous creation of that class or rename it.\n",
      "  RuntimeWarning)\n",
      "/home/eberhardt/Applications/miniconda3/envs/python3/lib/python3.7/site-packages/deap/creator.py:141: RuntimeWarning: A class named 'Individual' has already been created and it will be overwritten. Consider deleting previous creation of that class or rename it.\n",
      "  RuntimeWarning)\n"
     ]
    },
    {
     "name": "stdout",
     "output_type": "stream",
     "text": [
      "gen\tnevals\tavg        \tstd      \tmin      \tmax         \n",
      "0  \t250   \t-0.00570437\t0.0111853\t-0.094689\t-6.73486e-07\n",
      "1  \t250   \t-0.0122734 \t0.015205 \t-0.107937\t-1.68782e-05\n",
      "2  \t250   \t-0.0204648 \t0.0185662\t-0.105297\t-6.21163e-05\n",
      "3  \t250   \t-0.0319907 \t0.0229683\t-0.116534\t-0.000737263\n",
      "4  \t250   \t-0.0394815 \t0.0321583\t-0.220486\t-0.00131452 \n",
      "5  \t250   \t-0.0457591 \t0.0319613\t-0.212938\t-0.00388617 \n",
      "6  \t250   \t-0.0463183 \t0.0297014\t-0.160453\t-0.00068315 \n",
      "7  \t250   \t-0.0525583 \t0.033435 \t-0.262946\t-0.00681997 \n",
      "8  \t250   \t-0.056291  \t0.0422539\t-0.366439\t-0.00820541 \n",
      "9  \t250   \t-0.0597005 \t0.0338858\t-0.190171\t-0.00892929 \n",
      "\n",
      "N pep:  342\n",
      "Best peptide: -10.783\n",
      "N pep under -12 kcal/mol: 000\n",
      "N pep under -11 kcal/mol: 000\n",
      "N pep under -10 kcal/mol: 002\n",
      "N pep under -9 kcal/mol: 002\n",
      "N pep under -8 kcal/mol: 025\n",
      "N pep under -7 kcal/mol: 126\n",
      "N pep under -6 kcal/mol: 156\n",
      "N pep under -5 kcal/mol: 158\n",
      "Non binding pep        : 184\n"
     ]
    },
    {
     "data": {
      "image/png": "[encoded data removed]",
      "text/plain": [
       "<Figure size 360x360 with 1 Axes>"
      ]
     },
     "metadata": {
      "needs_background": "light"
     },
     "output_type": "display_data"
    },
    {
     "name": "stdout",
     "output_type": "stream",
     "text": [
      "\n",
      "\n",
      "\n",
      "Generation: 3\n"
     ]
    },
    {
     "name": "stderr",
     "output_type": "stream",
     "text": [
      "/home/eberhardt/Applications/miniconda3/envs/python3/lib/python3.7/site-packages/deap/creator.py:141: RuntimeWarning: A class named 'Fitness' has already been created and it will be overwritten. Consider deleting previous creation of that class or rename it.\n",
      "  RuntimeWarning)\n",
      "/home/eberhardt/Applications/miniconda3/envs/python3/lib/python3.7/site-packages/deap/creator.py:141: RuntimeWarning: A class named 'Individual' has already been created and it will be overwritten. Consider deleting previous creation of that class or rename it.\n",
      "  RuntimeWarning)\n"
     ]
    },
    {
     "name": "stdout",
     "output_type": "stream",
     "text": [
      "gen\tnevals\tavg        \tstd      \tmin      \tmax         \n",
      "0  \t250   \t-0.00715083\t0.0143402\t-0.108749\t-1.20902e-05\n",
      "1  \t250   \t-0.0130069 \t0.0169252\t-0.105296\t-1.0641e-05 \n",
      "2  \t250   \t-0.020394  \t0.0240624\t-0.128245\t-3.55652e-05\n",
      "3  \t250   \t-0.0296689 \t0.0388978\t-0.282032\t-3.17625e-05\n",
      "4  \t250   \t-0.0353247 \t0.0420863\t-0.250058\t-0.000433236\n",
      "5  \t250   \t-0.0502016 \t0.0578099\t-0.417184\t-7.45854e-05\n",
      "6  \t250   \t-0.0516338 \t0.052814 \t-0.33827 \t-0.000446441\n",
      "7  \t250   \t-0.0498524 \t0.0517207\t-0.390412\t-0.00025433 \n",
      "8  \t250   \t-0.0524743 \t0.0540961\t-0.405504\t-7.42976e-05\n",
      "9  \t250   \t-0.0555407 \t0.0537059\t-0.328678\t-0.000136939\n",
      "\n",
      "N pep:  438\n",
      "Best peptide: -10.783\n",
      "N pep under -12 kcal/mol: 000\n",
      "N pep under -11 kcal/mol: 000\n",
      "N pep under -10 kcal/mol: 004\n",
      "N pep under -9 kcal/mol: 013\n",
      "N pep under -8 kcal/mol: 056\n",
      "N pep under -7 kcal/mol: 165\n",
      "N pep under -6 kcal/mol: 197\n",
      "N pep under -5 kcal/mol: 199\n",
      "Non binding pep        : 239\n"
     ]
    },
    {
     "data": {
      "image/png": "[encoded data removed]",
      "text/plain": [
       "<Figure size 360x360 with 1 Axes>"
      ]
     },
     "metadata": {
      "needs_background": "light"
     },
     "output_type": "display_data"
    },
    {
     "name": "stdout",
     "output_type": "stream",
     "text": [
      "\n",
      "\n",
      "\n",
      "Run: 3\n",
      "Exp dataset size: (150, 4096)\n",
      "\n",
      "\n",
      "Init.\n",
      "N pep:  150\n",
      "Best peptide: -8.199\n",
      "N pep under -12 kcal/mol: 000\n",
      "N pep under -11 kcal/mol: 000\n",
      "N pep under -10 kcal/mol: 000\n",
      "N pep under -9 kcal/mol: 000\n",
      "N pep under -8 kcal/mol: 022\n",
      "N pep under -7 kcal/mol: 120\n",
      "N pep under -6 kcal/mol: 149\n",
      "N pep under -5 kcal/mol: 150\n",
      "Non binding pep        : 000\n",
      "\n",
      "\n",
      "\n",
      "Generation: 1\n"
     ]
    },
    {
     "name": "stderr",
     "output_type": "stream",
     "text": [
      "/home/eberhardt/Applications/miniconda3/envs/python3/lib/python3.7/site-packages/deap/creator.py:141: RuntimeWarning: A class named 'Fitness' has already been created and it will be overwritten. Consider deleting previous creation of that class or rename it.\n",
      "  RuntimeWarning)\n",
      "/home/eberhardt/Applications/miniconda3/envs/python3/lib/python3.7/site-packages/deap/creator.py:141: RuntimeWarning: A class named 'Individual' has already been created and it will be overwritten. Consider deleting previous creation of that class or rename it.\n",
      "  RuntimeWarning)\n"
     ]
    },
    {
     "name": "stdout",
     "output_type": "stream",
     "text": [
      "gen\tnevals\tavg       \tstd      \tmin      \tmax         \n",
      "0  \t250   \t-0.0322593\t0.0249738\t-0.142973\t-0.000265173\n",
      "1  \t250   \t-0.0469729\t0.031026 \t-0.14639 \t-0.00171539 \n",
      "2  \t250   \t-0.0638692\t0.0360352\t-0.211771\t-0.00365407 \n",
      "3  \t250   \t-0.0744023\t0.0364169\t-0.199715\t-0.0161717  \n",
      "4  \t250   \t-0.0853351\t0.0404738\t-0.236113\t-0.01102    \n",
      "5  \t250   \t-0.0908803\t0.0434457\t-0.248869\t-0.0165045  \n",
      "6  \t250   \t-0.102426 \t0.0414057\t-0.246117\t-0.0145826  \n",
      "7  \t250   \t-0.10863  \t0.0434441\t-0.287686\t-0.0187842  \n",
      "8  \t250   \t-0.111995 \t0.0367107\t-0.205993\t-0.0329628  \n",
      "9  \t250   \t-0.114213 \t0.0434708\t-0.269665\t-0.0278082  \n",
      "\n",
      "N pep:  246\n",
      "Best peptide: -9.430\n",
      "N pep under -12 kcal/mol: 000\n",
      "N pep under -11 kcal/mol: 000\n",
      "N pep under -10 kcal/mol: 000\n",
      "N pep under -9 kcal/mol: 004\n",
      "N pep under -8 kcal/mol: 026\n",
      "N pep under -7 kcal/mol: 124\n",
      "N pep under -6 kcal/mol: 153\n",
      "N pep under -5 kcal/mol: 154\n",
      "Non binding pep        : 092\n"
     ]
    },
    {
     "data": {
      "image/png": "[encoded data removed]",
      "text/plain": [
       "<Figure size 360x360 with 1 Axes>"
      ]
     },
     "metadata": {
      "needs_background": "light"
     },
     "output_type": "display_data"
    },
    {
     "name": "stdout",
     "output_type": "stream",
     "text": [
      "\n",
      "\n",
      "\n",
      "Generation: 2\n"
     ]
    },
    {
     "name": "stderr",
     "output_type": "stream",
     "text": [
      "/home/eberhardt/Applications/miniconda3/envs/python3/lib/python3.7/site-packages/deap/creator.py:141: RuntimeWarning: A class named 'Fitness' has already been created and it will be overwritten. Consider deleting previous creation of that class or rename it.\n",
      "  RuntimeWarning)\n",
      "/home/eberhardt/Applications/miniconda3/envs/python3/lib/python3.7/site-packages/deap/creator.py:141: RuntimeWarning: A class named 'Individual' has already been created and it will be overwritten. Consider deleting previous creation of that class or rename it.\n",
      "  RuntimeWarning)\n"
     ]
    },
    {
     "name": "stdout",
     "output_type": "stream",
     "text": [
      "gen\tnevals\tavg       \tstd      \tmin      \tmax         \n",
      "0  \t250   \t-0.0311715\t0.0407756\t-0.310047\t-3.39959e-06\n",
      "1  \t250   \t-0.0679935\t0.0667323\t-0.518419\t-0.000329752\n",
      "2  \t250   \t-0.086913 \t0.0702788\t-0.479475\t-0.000130425\n",
      "3  \t250   \t-0.124553 \t0.0930227\t-0.513662\t-0.0006873  \n",
      "4  \t250   \t-0.157068 \t0.101612 \t-0.573277\t-0.00131491 \n",
      "5  \t250   \t-0.166544 \t0.102714 \t-0.643824\t-0.00783985 \n",
      "6  \t250   \t-0.173407 \t0.105419 \t-0.580062\t-0.0128797  \n",
      "7  \t250   \t-0.183537 \t0.102024 \t-0.493217\t-0.00970525 \n",
      "8  \t250   \t-0.207284 \t0.102929 \t-0.487793\t-0.00704256 \n",
      "9  \t250   \t-0.19766  \t0.113235 \t-1.00759 \t-0.00586611 \n",
      "\n",
      "N pep:  342\n",
      "Best peptide: -9.430\n",
      "N pep under -12 kcal/mol: 000\n",
      "N pep under -11 kcal/mol: 000\n",
      "N pep under -10 kcal/mol: 000\n",
      "N pep under -9 kcal/mol: 004\n",
      "N pep under -8 kcal/mol: 035\n",
      "N pep under -7 kcal/mol: 136\n",
      "N pep under -6 kcal/mol: 166\n",
      "N pep under -5 kcal/mol: 167\n",
      "Non binding pep        : 175\n"
     ]
    },
    {
     "data": {
      "image/png": "[encoded data removed]",
      "text/plain": [
       "<Figure size 360x360 with 1 Axes>"
      ]
     },
     "metadata": {
      "needs_background": "light"
     },
     "output_type": "display_data"
    },
    {
     "name": "stdout",
     "output_type": "stream",
     "text": [
      "\n",
      "\n",
      "\n",
      "Generation: 3\n"
     ]
    },
    {
     "name": "stderr",
     "output_type": "stream",
     "text": [
      "/home/eberhardt/Applications/miniconda3/envs/python3/lib/python3.7/site-packages/deap/creator.py:141: RuntimeWarning: A class named 'Fitness' has already been created and it will be overwritten. Consider deleting previous creation of that class or rename it.\n",
      "  RuntimeWarning)\n",
      "/home/eberhardt/Applications/miniconda3/envs/python3/lib/python3.7/site-packages/deap/creator.py:141: RuntimeWarning: A class named 'Individual' has already been created and it will be overwritten. Consider deleting previous creation of that class or rename it.\n",
      "  RuntimeWarning)\n"
     ]
    },
    {
     "name": "stdout",
     "output_type": "stream",
     "text": [
      "gen\tnevals\tavg       \tstd      \tmin      \tmax         \n",
      "0  \t250   \t-0.0292864\t0.0436302\t-0.345383\t-0.000308216\n",
      "1  \t250   \t-0.0640984\t0.0924618\t-0.842182\t-0.000371562\n",
      "2  \t250   \t-0.0981176\t0.109414 \t-0.869162\t-0.00103598 \n",
      "3  \t250   \t-0.120375 \t0.126028 \t-0.816005\t-0.00129101 \n",
      "4  \t250   \t-0.14175  \t0.137391 \t-0.919986\t-0.000721186\n",
      "5  \t250   \t-0.17006  \t0.144205 \t-0.904851\t-0.00263338 \n",
      "6  \t250   \t-0.19646  \t0.162628 \t-0.935078\t-0.00462205 \n",
      "7  \t250   \t-0.208138 \t0.173123 \t-0.98956 \t-0.00931745 \n",
      "8  \t250   \t-0.234232 \t0.171999 \t-0.830714\t-0.00943546 \n",
      "9  \t250   \t-0.244814 \t0.171895 \t-0.889401\t-0.00714171 \n",
      "\n",
      "N pep:  438\n",
      "Best peptide: -11.959\n",
      "N pep under -12 kcal/mol: 000\n",
      "N pep under -11 kcal/mol: 001\n",
      "N pep under -10 kcal/mol: 002\n",
      "N pep under -9 kcal/mol: 017\n",
      "N pep under -8 kcal/mol: 063\n",
      "N pep under -7 kcal/mol: 177\n",
      "N pep under -6 kcal/mol: 212\n",
      "N pep under -5 kcal/mol: 213\n",
      "Non binding pep        : 225\n"
     ]
    },
    {
     "data": {
      "image/png": "[encoded data removed]",
      "text/plain": [
       "<Figure size 360x360 with 1 Axes>"
      ]
     },
     "metadata": {
      "needs_background": "light"
     },
     "output_type": "display_data"
    },
    {
     "name": "stdout",
     "output_type": "stream",
     "text": [
      "\n",
      "\n",
      "\n",
      "Run: 4\n",
      "Exp dataset size: (150, 4096)\n",
      "\n",
      "\n",
      "Init.\n",
      "N pep:  150\n",
      "Best peptide: -8.199\n",
      "N pep under -12 kcal/mol: 000\n",
      "N pep under -11 kcal/mol: 000\n",
      "N pep under -10 kcal/mol: 000\n",
      "N pep under -9 kcal/mol: 000\n",
      "N pep under -8 kcal/mol: 022\n",
      "N pep under -7 kcal/mol: 120\n",
      "N pep under -6 kcal/mol: 149\n",
      "N pep under -5 kcal/mol: 150\n",
      "Non binding pep        : 000\n",
      "\n",
      "\n",
      "\n",
      "Generation: 1\n"
     ]
    },
    {
     "name": "stderr",
     "output_type": "stream",
     "text": [
      "/home/eberhardt/Applications/miniconda3/envs/python3/lib/python3.7/site-packages/deap/creator.py:141: RuntimeWarning: A class named 'Fitness' has already been created and it will be overwritten. Consider deleting previous creation of that class or rename it.\n",
      "  RuntimeWarning)\n",
      "/home/eberhardt/Applications/miniconda3/envs/python3/lib/python3.7/site-packages/deap/creator.py:141: RuntimeWarning: A class named 'Individual' has already been created and it will be overwritten. Consider deleting previous creation of that class or rename it.\n",
      "  RuntimeWarning)\n"
     ]
    },
    {
     "name": "stdout",
     "output_type": "stream",
     "text": [
      "gen\tnevals\tavg       \tstd     \tmin      \tmax         \n",
      "0  \t250   \t-0.0311486\t0.026452\t-0.190896\t-7.42264e-05\n",
      "1  \t250   \t-0.0531839\t0.0331082\t-0.188288\t-0.00277288 \n",
      "2  \t250   \t-0.0639112\t0.032915 \t-0.194477\t-0.00843124 \n",
      "3  \t250   \t-0.0758322\t0.0395401\t-0.227598\t-0.0095962  \n",
      "4  \t250   \t-0.0862983\t0.0373017\t-0.214279\t-0.0178636  \n",
      "5  \t250   \t-0.0920662\t0.0384989\t-0.208375\t-0.0162902  \n",
      "6  \t250   \t-0.106336 \t0.0456933\t-0.325745\t-0.0221236  \n",
      "7  \t250   \t-0.110735 \t0.0402556\t-0.245162\t-0.0342401  \n",
      "8  \t250   \t-0.108841 \t0.0411889\t-0.23715 \t-0.0335262  \n",
      "9  \t250   \t-0.119975 \t0.0433009\t-0.290533\t-0.0165776  \n",
      "\n",
      "N pep:  246\n",
      "Best peptide: -9.817\n",
      "N pep under -12 kcal/mol: 000\n",
      "N pep under -11 kcal/mol: 000\n",
      "N pep under -10 kcal/mol: 000\n",
      "N pep under -9 kcal/mol: 002\n",
      "N pep under -8 kcal/mol: 024\n",
      "N pep under -7 kcal/mol: 122\n",
      "N pep under -6 kcal/mol: 151\n",
      "N pep under -5 kcal/mol: 152\n",
      "Non binding pep        : 094\n"
     ]
    },
    {
     "data": {
      "image/png": "[encoded data removed]",
      "text/plain": [
       "<Figure size 360x360 with 1 Axes>"
      ]
     },
     "metadata": {
      "needs_background": "light"
     },
     "output_type": "display_data"
    },
    {
     "name": "stdout",
     "output_type": "stream",
     "text": [
      "\n",
      "\n",
      "\n",
      "Generation: 2\n"
     ]
    },
    {
     "name": "stderr",
     "output_type": "stream",
     "text": [
      "/home/eberhardt/Applications/miniconda3/envs/python3/lib/python3.7/site-packages/deap/creator.py:141: RuntimeWarning: A class named 'Fitness' has already been created and it will be overwritten. Consider deleting previous creation of that class or rename it.\n",
      "  RuntimeWarning)\n",
      "/home/eberhardt/Applications/miniconda3/envs/python3/lib/python3.7/site-packages/deap/creator.py:141: RuntimeWarning: A class named 'Individual' has already been created and it will be overwritten. Consider deleting previous creation of that class or rename it.\n",
      "  RuntimeWarning)\n"
     ]
    },
    {
     "name": "stdout",
     "output_type": "stream",
     "text": [
      "gen\tnevals\tavg       \tstd      \tmin      \tmax         \n",
      "0  \t250   \t-0.0167632\t0.0230155\t-0.116012\t-9.49434e-08\n",
      "1  \t250   \t-0.0289154\t0.0319701\t-0.247731\t-1.52587e-07\n",
      "2  \t250   \t-0.0389298\t0.0325711\t-0.182154\t-0.000246723\n",
      "3  \t250   \t-0.0490822\t0.0383517\t-0.195121\t-0.000167467\n",
      "4  \t250   \t-0.0586482\t0.0438017\t-0.270875\t-0.000217715\n",
      "5  \t250   \t-0.0638496\t0.0492017\t-0.27007 \t-9.1681e-05 \n",
      "6  \t250   \t-0.0811605\t0.0532489\t-0.334854\t-0.002474   \n",
      "7  \t250   \t-0.0874396\t0.0519589\t-0.313804\t-0.00688733 \n",
      "8  \t250   \t-0.0870271\t0.0517764\t-0.307552\t-0.00140543 \n",
      "9  \t250   \t-0.098351 \t0.0546724\t-0.314965\t-0.0169985  \n",
      "\n",
      "N pep:  342\n",
      "Best peptide: -9.817\n",
      "N pep under -12 kcal/mol: 000\n",
      "N pep under -11 kcal/mol: 000\n",
      "N pep under -10 kcal/mol: 000\n",
      "N pep under -9 kcal/mol: 002\n",
      "N pep under -8 kcal/mol: 030\n",
      "N pep under -7 kcal/mol: 140\n",
      "N pep under -6 kcal/mol: 171\n",
      "N pep under -5 kcal/mol: 172\n",
      "Non binding pep        : 170\n"
     ]
    },
    {
     "data": {
      "image/png": "[encoded data removed]",
      "text/plain": [
       "<Figure size 360x360 with 1 Axes>"
      ]
     },
     "metadata": {
      "needs_background": "light"
     },
     "output_type": "display_data"
    },
    {
     "name": "stdout",
     "output_type": "stream",
     "text": [
      "\n",
      "\n",
      "\n",
      "Generation: 3\n"
     ]
    },
    {
     "name": "stderr",
     "output_type": "stream",
     "text": [
      "/home/eberhardt/Applications/miniconda3/envs/python3/lib/python3.7/site-packages/deap/creator.py:141: RuntimeWarning: A class named 'Fitness' has already been created and it will be overwritten. Consider deleting previous creation of that class or rename it.\n",
      "  RuntimeWarning)\n",
      "/home/eberhardt/Applications/miniconda3/envs/python3/lib/python3.7/site-packages/deap/creator.py:141: RuntimeWarning: A class named 'Individual' has already been created and it will be overwritten. Consider deleting previous creation of that class or rename it.\n",
      "  RuntimeWarning)\n"
     ]
    },
    {
     "name": "stdout",
     "output_type": "stream",
     "text": [
      "gen\tnevals\tavg       \tstd      \tmin      \tmax         \n",
      "0  \t250   \t-0.0397035\t0.0704365\t-0.627072\t-0.000174187\n",
      "1  \t250   \t-0.0637569\t0.0756388\t-0.527445\t-0.000340039\n",
      "2  \t250   \t-0.10086  \t0.115358 \t-0.641656\t-2.68269e-05\n",
      "3  \t250   \t-0.103159 \t0.118083 \t-0.92922 \t-0.00109372 \n",
      "4  \t250   \t-0.108322 \t0.114466 \t-0.873034\t-0.00150509 \n",
      "5  \t250   \t-0.137705 \t0.145513 \t-0.936005\t-0.000424609\n",
      "6  \t250   \t-0.1524   \t0.146958 \t-0.95699 \t-0.000756756\n",
      "7  \t250   \t-0.173403 \t0.154116 \t-1.34184 \t-0.00176281 \n",
      "8  \t250   \t-0.197561 \t0.171114 \t-1.07802 \t-0.00327024 \n",
      "9  \t250   \t-0.203285 \t0.184535 \t-1.31325 \t-0.0138567  \n",
      "\n",
      "N pep:  438\n",
      "Best peptide: -10.805\n",
      "N pep under -12 kcal/mol: 000\n",
      "N pep under -11 kcal/mol: 000\n",
      "N pep under -10 kcal/mol: 003\n",
      "N pep under -9 kcal/mol: 012\n",
      "N pep under -8 kcal/mol: 049\n",
      "N pep under -7 kcal/mol: 170\n",
      "N pep under -6 kcal/mol: 202\n",
      "N pep under -5 kcal/mol: 203\n",
      "Non binding pep        : 235\n"
     ]
    },
    {
     "data": {
      "image/png": "[encoded data removed]",
      "text/plain": [
       "<Figure size 360x360 with 1 Axes>"
      ]
     },
     "metadata": {
      "needs_background": "light"
     },
     "output_type": "display_data"
    },
    {
     "name": "stdout",
     "output_type": "stream",
     "text": [
      "\n",
      "\n",
      "\n",
      "Run: 5\n",
      "Exp dataset size: (150, 4096)\n",
      "\n",
      "\n",
      "Init.\n",
      "N pep:  150\n",
      "Best peptide: -8.199\n",
      "N pep under -12 kcal/mol: 000\n",
      "N pep under -11 kcal/mol: 000\n",
      "N pep under -10 kcal/mol: 000\n",
      "N pep under -9 kcal/mol: 000\n",
      "N pep under -8 kcal/mol: 022\n",
      "N pep under -7 kcal/mol: 120\n",
      "N pep under -6 kcal/mol: 149\n",
      "N pep under -5 kcal/mol: 150\n",
      "Non binding pep        : 000\n",
      "\n",
      "\n",
      "\n",
      "Generation: 1\n"
     ]
    },
    {
     "name": "stderr",
     "output_type": "stream",
     "text": [
      "/home/eberhardt/Applications/miniconda3/envs/python3/lib/python3.7/site-packages/deap/creator.py:141: RuntimeWarning: A class named 'Fitness' has already been created and it will be overwritten. Consider deleting previous creation of that class or rename it.\n",
      "  RuntimeWarning)\n",
      "/home/eberhardt/Applications/miniconda3/envs/python3/lib/python3.7/site-packages/deap/creator.py:141: RuntimeWarning: A class named 'Individual' has already been created and it will be overwritten. Consider deleting previous creation of that class or rename it.\n",
      "  RuntimeWarning)\n"
     ]
    },
    {
     "name": "stdout",
     "output_type": "stream",
     "text": [
      "gen\tnevals\tavg       \tstd      \tmin      \tmax       \n",
      "0  \t250   \t-0.0287392\t0.0256577\t-0.159175\t-0.0001985\n",
      "1  \t250   \t-0.0471202\t0.0356581\t-0.23535 \t-0.00120388\n",
      "2  \t250   \t-0.0596645\t0.0382471\t-0.26991 \t-0.00579079\n",
      "3  \t250   \t-0.0780589\t0.0406155\t-0.274141\t-0.00931933\n",
      "4  \t250   \t-0.0926004\t0.0418452\t-0.269697\t-0.00809078\n",
      "5  \t250   \t-0.102813 \t0.0453691\t-0.264053\t-0.00965011\n",
      "6  \t250   \t-0.109291 \t0.0402561\t-0.252507\t-0.0232135 \n",
      "7  \t250   \t-0.118834 \t0.0438348\t-0.257089\t-0.0185695 \n",
      "8  \t250   \t-0.126773 \t0.0471937\t-0.295898\t-0.0330984 \n",
      "9  \t250   \t-0.132896 \t0.0449525\t-0.276222\t-0.0465718 \n",
      "\n",
      "N pep:  246\n",
      "Best peptide: -10.431\n",
      "N pep under -12 kcal/mol: 000\n",
      "N pep under -11 kcal/mol: 000\n",
      "N pep under -10 kcal/mol: 001\n",
      "N pep under -9 kcal/mol: 003\n",
      "N pep under -8 kcal/mol: 025\n",
      "N pep under -7 kcal/mol: 123\n",
      "N pep under -6 kcal/mol: 152\n",
      "N pep under -5 kcal/mol: 153\n",
      "Non binding pep        : 093\n"
     ]
    },
    {
     "data": {
      "image/png": "[encoded data removed]",
      "text/plain": [
       "<Figure size 360x360 with 1 Axes>"
      ]
     },
     "metadata": {
      "needs_background": "light"
     },
     "output_type": "display_data"
    },
    {
     "name": "stdout",
     "output_type": "stream",
     "text": [
      "\n",
      "\n",
      "\n",
      "Generation: 2\n"
     ]
    },
    {
     "name": "stderr",
     "output_type": "stream",
     "text": [
      "/home/eberhardt/Applications/miniconda3/envs/python3/lib/python3.7/site-packages/deap/creator.py:141: RuntimeWarning: A class named 'Fitness' has already been created and it will be overwritten. Consider deleting previous creation of that class or rename it.\n",
      "  RuntimeWarning)\n",
      "/home/eberhardt/Applications/miniconda3/envs/python3/lib/python3.7/site-packages/deap/creator.py:141: RuntimeWarning: A class named 'Individual' has already been created and it will be overwritten. Consider deleting previous creation of that class or rename it.\n",
      "  RuntimeWarning)\n"
     ]
    },
    {
     "name": "stdout",
     "output_type": "stream",
     "text": [
      "gen\tnevals\tavg        \tstd      \tmin       \tmax         \n",
      "0  \t250   \t-0.00876452\t0.0131162\t-0.0977232\t-1.49956e-09\n",
      "1  \t250   \t-0.0143146 \t0.0139055\t-0.0888304\t-1.34732e-05\n",
      "2  \t250   \t-0.0199243 \t0.0174052\t-0.118671 \t-0.000241583\n",
      "3  \t250   \t-0.0271336 \t0.0236662\t-0.126913 \t-0.000319414\n",
      "4  \t250   \t-0.0283361 \t0.0228979\t-0.116453 \t-4.83485e-05\n",
      "5  \t250   \t-0.0330082 \t0.0265871\t-0.157177 \t-0.00102718 \n",
      "6  \t250   \t-0.0394359 \t0.0299261\t-0.204391 \t-0.000811013\n",
      "7  \t250   \t-0.0398214 \t0.0255957\t-0.147647 \t-0.00253145 \n",
      "8  \t250   \t-0.0487306 \t0.0357093\t-0.230257 \t-7.86157e-05\n",
      "9  \t250   \t-0.0532936 \t0.0339548\t-0.211275 \t-0.00411614 \n",
      "\n",
      "N pep:  342\n",
      "Best peptide: -10.431\n",
      "N pep under -12 kcal/mol: 000\n",
      "N pep under -11 kcal/mol: 000\n",
      "N pep under -10 kcal/mol: 001\n",
      "N pep under -9 kcal/mol: 004\n",
      "N pep under -8 kcal/mol: 032\n",
      "N pep under -7 kcal/mol: 136\n",
      "N pep under -6 kcal/mol: 168\n",
      "N pep under -5 kcal/mol: 169\n",
      "Non binding pep        : 173\n"
     ]
    },
    {
     "data": {
      "image/png": "[encoded data removed]",
      "text/plain": [
       "<Figure size 360x360 with 1 Axes>"
      ]
     },
     "metadata": {
      "needs_background": "light"
     },
     "output_type": "display_data"
    },
    {
     "name": "stdout",
     "output_type": "stream",
     "text": [
      "\n",
      "\n",
      "\n",
      "Generation: 3\n"
     ]
    },
    {
     "name": "stderr",
     "output_type": "stream",
     "text": [
      "/home/eberhardt/Applications/miniconda3/envs/python3/lib/python3.7/site-packages/deap/creator.py:141: RuntimeWarning: A class named 'Fitness' has already been created and it will be overwritten. Consider deleting previous creation of that class or rename it.\n",
      "  RuntimeWarning)\n",
      "/home/eberhardt/Applications/miniconda3/envs/python3/lib/python3.7/site-packages/deap/creator.py:141: RuntimeWarning: A class named 'Individual' has already been created and it will be overwritten. Consider deleting previous creation of that class or rename it.\n",
      "  RuntimeWarning)\n"
     ]
    },
    {
     "name": "stdout",
     "output_type": "stream",
     "text": [
      "gen\tnevals\tavg       \tstd      \tmin      \tmax         \n",
      "0  \t250   \t-0.0134004\t0.0233277\t-0.200154\t-6.81594e-05\n",
      "1  \t250   \t-0.0301091\t0.0364196\t-0.258995\t-0.000188209\n",
      "2  \t250   \t-0.0538787\t0.0684786\t-0.460325\t-0.00054408 \n",
      "3  \t250   \t-0.0687831\t0.0722015\t-0.446253\t-0.000831379\n",
      "4  \t250   \t-0.0910536\t0.0827226\t-0.410781\t-0.00040373 \n",
      "5  \t250   \t-0.131656 \t0.109455 \t-0.638524\t-0.00445827 \n",
      "6  \t250   \t-0.137611 \t0.10442  \t-0.671008\t-0.00504303 \n",
      "7  \t250   \t-0.145262 \t0.0913843\t-0.476961\t-0.0051813  \n",
      "8  \t250   \t-0.158164 \t0.0991067\t-0.507646\t-0.014525   \n",
      "9  \t250   \t-0.166503 \t0.121939 \t-0.834507\t-0.00332277 \n",
      "\n",
      "N pep:  438\n",
      "Best peptide: -10.431\n",
      "N pep under -12 kcal/mol: 000\n",
      "N pep under -11 kcal/mol: 000\n",
      "N pep under -10 kcal/mol: 001\n",
      "N pep under -9 kcal/mol: 007\n",
      "N pep under -8 kcal/mol: 050\n",
      "N pep under -7 kcal/mol: 165\n",
      "N pep under -6 kcal/mol: 199\n",
      "N pep under -5 kcal/mol: 200\n",
      "Non binding pep        : 238\n"
     ]
    },
    {
     "data": {
      "image/png": "[encoded data removed]",
      "text/plain": [
       "<Figure size 360x360 with 1 Axes>"
      ]
     },
     "metadata": {
      "needs_background": "light"
     },
     "output_type": "display_data"
    },
    {
     "name": "stdout",
     "output_type": "stream",
     "text": [
      "\n",
      "\n",
      "\n",
      "Run: 6\n",
      "Exp dataset size: (150, 4096)\n",
      "\n",
      "\n",
      "Init.\n",
      "N pep:  150\n",
      "Best peptide: -8.199\n",
      "N pep under -12 kcal/mol: 000\n",
      "N pep under -11 kcal/mol: 000\n",
      "N pep under -10 kcal/mol: 000\n",
      "N pep under -9 kcal/mol: 000\n",
      "N pep under -8 kcal/mol: 022\n",
      "N pep under -7 kcal/mol: 120\n",
      "N pep under -6 kcal/mol: 149\n",
      "N pep under -5 kcal/mol: 150\n",
      "Non binding pep        : 000\n",
      "\n",
      "\n",
      "\n",
      "Generation: 1\n"
     ]
    },
    {
     "name": "stderr",
     "output_type": "stream",
     "text": [
      "/home/eberhardt/Applications/miniconda3/envs/python3/lib/python3.7/site-packages/deap/creator.py:141: RuntimeWarning: A class named 'Fitness' has already been created and it will be overwritten. Consider deleting previous creation of that class or rename it.\n",
      "  RuntimeWarning)\n",
      "/home/eberhardt/Applications/miniconda3/envs/python3/lib/python3.7/site-packages/deap/creator.py:141: RuntimeWarning: A class named 'Individual' has already been created and it will be overwritten. Consider deleting previous creation of that class or rename it.\n",
      "  RuntimeWarning)\n"
     ]
    },
    {
     "name": "stdout",
     "output_type": "stream",
     "text": [
      "gen\tnevals\tavg      \tstd      \tmin      \tmax         \n",
      "0  \t250   \t-0.032506\t0.0284302\t-0.162174\t-0.000146473\n",
      "1  \t250   \t-0.0534957\t0.0352387\t-0.176882\t-0.000521133\n",
      "2  \t250   \t-0.0667188\t0.0351849\t-0.188589\t-0.00964659 \n",
      "3  \t250   \t-0.0781511\t0.0385003\t-0.220862\t-0.00553313 \n",
      "4  \t250   \t-0.091088 \t0.0410893\t-0.229182\t-0.00985563 \n",
      "5  \t250   \t-0.0983084\t0.0415315\t-0.258994\t-0.0151063  \n",
      "6  \t250   \t-0.115984 \t0.0457452\t-0.280687\t-0.0279103  \n",
      "7  \t250   \t-0.121908 \t0.0434271\t-0.257577\t-0.0290691  \n",
      "8  \t250   \t-0.127936 \t0.0444689\t-0.28964 \t-0.0384842  \n",
      "9  \t250   \t-0.130765 \t0.0417116\t-0.276445\t-0.0320798  \n",
      "\n",
      "N pep:  246\n",
      "Best peptide: -10.915\n",
      "N pep under -12 kcal/mol: 000\n",
      "N pep under -11 kcal/mol: 000\n",
      "N pep under -10 kcal/mol: 003\n",
      "N pep under -9 kcal/mol: 007\n",
      "N pep under -8 kcal/mol: 029\n",
      "N pep under -7 kcal/mol: 127\n",
      "N pep under -6 kcal/mol: 156\n",
      "N pep under -5 kcal/mol: 157\n",
      "Non binding pep        : 089\n"
     ]
    },
    {
     "data": {
      "image/png": "[encoded data removed]",
      "text/plain": [
       "<Figure size 360x360 with 1 Axes>"
      ]
     },
     "metadata": {
      "needs_background": "light"
     },
     "output_type": "display_data"
    },
    {
     "name": "stdout",
     "output_type": "stream",
     "text": [
      "\n",
      "\n",
      "\n",
      "Generation: 2\n"
     ]
    },
    {
     "name": "stderr",
     "output_type": "stream",
     "text": [
      "/home/eberhardt/Applications/miniconda3/envs/python3/lib/python3.7/site-packages/deap/creator.py:141: RuntimeWarning: A class named 'Fitness' has already been created and it will be overwritten. Consider deleting previous creation of that class or rename it.\n",
      "  RuntimeWarning)\n",
      "/home/eberhardt/Applications/miniconda3/envs/python3/lib/python3.7/site-packages/deap/creator.py:141: RuntimeWarning: A class named 'Individual' has already been created and it will be overwritten. Consider deleting previous creation of that class or rename it.\n",
      "  RuntimeWarning)\n"
     ]
    },
    {
     "name": "stdout",
     "output_type": "stream",
     "text": [
      "gen\tnevals\tavg      \tstd      \tmin      \tmax         \n",
      "0  \t250   \t-0.011732\t0.0148172\t-0.107889\t-1.49049e-05\n",
      "1  \t250   \t-0.0214579\t0.0212419\t-0.175414\t-3.27656e-06\n",
      "2  \t250   \t-0.0309984\t0.0245655\t-0.131937\t-1.6083e-05 \n",
      "3  \t250   \t-0.040019 \t0.0255802\t-0.144091\t-5.75265e-05\n",
      "4  \t250   \t-0.0427096\t0.0280991\t-0.179609\t-0.00044307 \n",
      "5  \t250   \t-0.0482069\t0.0323997\t-0.217509\t-0.000571806\n",
      "6  \t250   \t-0.0523713\t0.0309688\t-0.171921\t-0.00339114 \n",
      "7  \t250   \t-0.0514073\t0.0339087\t-0.231392\t-0.00343855 \n",
      "8  \t250   \t-0.0529245\t0.0328988\t-0.248711\t-0.00446279 \n",
      "9  \t250   \t-0.0582873\t0.0342914\t-0.182511\t-0.00533419 \n",
      "\n",
      "N pep:  342\n",
      "Best peptide: -10.915\n",
      "N pep under -12 kcal/mol: 000\n",
      "N pep under -11 kcal/mol: 000\n",
      "N pep under -10 kcal/mol: 003\n",
      "N pep under -9 kcal/mol: 007\n",
      "N pep under -8 kcal/mol: 031\n",
      "N pep under -7 kcal/mol: 131\n",
      "N pep under -6 kcal/mol: 161\n",
      "N pep under -5 kcal/mol: 162\n",
      "Non binding pep        : 180\n"
     ]
    },
    {
     "data": {
      "image/png": "[encoded data removed]",
      "text/plain": [
       "<Figure size 360x360 with 1 Axes>"
      ]
     },
     "metadata": {
      "needs_background": "light"
     },
     "output_type": "display_data"
    },
    {
     "name": "stdout",
     "output_type": "stream",
     "text": [
      "\n",
      "\n",
      "\n",
      "Generation: 3\n"
     ]
    },
    {
     "name": "stderr",
     "output_type": "stream",
     "text": [
      "/home/eberhardt/Applications/miniconda3/envs/python3/lib/python3.7/site-packages/deap/creator.py:141: RuntimeWarning: A class named 'Fitness' has already been created and it will be overwritten. Consider deleting previous creation of that class or rename it.\n",
      "  RuntimeWarning)\n",
      "/home/eberhardt/Applications/miniconda3/envs/python3/lib/python3.7/site-packages/deap/creator.py:141: RuntimeWarning: A class named 'Individual' has already been created and it will be overwritten. Consider deleting previous creation of that class or rename it.\n",
      "  RuntimeWarning)\n"
     ]
    },
    {
     "name": "stdout",
     "output_type": "stream",
     "text": [
      "gen\tnevals\tavg       \tstd      \tmin     \tmax        \n",
      "0  \t250   \t-0.0134472\t0.0233456\t-0.17775\t-1.5843e-05\n",
      "1  \t250   \t-0.0221939\t0.0333249\t-0.226628\t-3.38495e-05\n",
      "2  \t250   \t-0.0292712\t0.0414812\t-0.266037\t-0.000217338\n",
      "3  \t250   \t-0.0377752\t0.0467849\t-0.336162\t-0.000171736\n",
      "4  \t250   \t-0.060655 \t0.065969 \t-0.393861\t-0.000412094\n",
      "5  \t250   \t-0.0595047\t0.05958  \t-0.381158\t-0.00206445 \n",
      "6  \t250   \t-0.0767538\t0.0824953\t-0.677483\t-0.000931879\n",
      "7  \t250   \t-0.0745151\t0.0693224\t-0.35148 \t-0.00159929 \n",
      "8  \t250   \t-0.0849232\t0.0794851\t-0.566001\t-0.00354934 \n",
      "9  \t250   \t-0.0947474\t0.110653 \t-1.36543 \t-0.00306205 \n",
      "\n",
      "N pep:  438\n",
      "Best peptide: -10.915\n",
      "N pep under -12 kcal/mol: 000\n",
      "N pep under -11 kcal/mol: 000\n",
      "N pep under -10 kcal/mol: 003\n",
      "N pep under -9 kcal/mol: 008\n",
      "N pep under -8 kcal/mol: 038\n",
      "N pep under -7 kcal/mol: 153\n",
      "N pep under -6 kcal/mol: 188\n",
      "N pep under -5 kcal/mol: 189\n",
      "Non binding pep        : 249\n"
     ]
    },
    {
     "data": {
      "image/png": "[encoded data removed]",
      "text/plain": [
       "<Figure size 360x360 with 1 Axes>"
      ]
     },
     "metadata": {
      "needs_background": "light"
     },
     "output_type": "display_data"
    },
    {
     "name": "stdout",
     "output_type": "stream",
     "text": [
      "\n",
      "\n",
      "\n",
      "Run: 7\n",
      "Exp dataset size: (150, 4096)\n",
      "\n",
      "\n",
      "Init.\n",
      "N pep:  150\n",
      "Best peptide: -8.199\n",
      "N pep under -12 kcal/mol: 000\n",
      "N pep under -11 kcal/mol: 000\n",
      "N pep under -10 kcal/mol: 000\n",
      "N pep under -9 kcal/mol: 000\n",
      "N pep under -8 kcal/mol: 022\n",
      "N pep under -7 kcal/mol: 120\n",
      "N pep under -6 kcal/mol: 149\n",
      "N pep under -5 kcal/mol: 150\n",
      "Non binding pep        : 000\n",
      "\n",
      "\n",
      "\n",
      "Generation: 1\n"
     ]
    },
    {
     "name": "stderr",
     "output_type": "stream",
     "text": [
      "/home/eberhardt/Applications/miniconda3/envs/python3/lib/python3.7/site-packages/deap/creator.py:141: RuntimeWarning: A class named 'Fitness' has already been created and it will be overwritten. Consider deleting previous creation of that class or rename it.\n",
      "  RuntimeWarning)\n",
      "/home/eberhardt/Applications/miniconda3/envs/python3/lib/python3.7/site-packages/deap/creator.py:141: RuntimeWarning: A class named 'Individual' has already been created and it will be overwritten. Consider deleting previous creation of that class or rename it.\n",
      "  RuntimeWarning)\n"
     ]
    },
    {
     "name": "stdout",
     "output_type": "stream",
     "text": [
      "gen\tnevals\tavg       \tstd      \tmin      \tmax        \n",
      "0  \t250   \t-0.0319367\t0.0281794\t-0.159739\t-0.00052614\n",
      "1  \t250   \t-0.0522793\t0.0341525\t-0.220272\t-0.00196421\n",
      "2  \t250   \t-0.0686456\t0.0356644\t-0.207737\t-0.00749681\n",
      "3  \t250   \t-0.0781643\t0.0375732\t-0.237997\t-0.00805464\n",
      "4  \t250   \t-0.0863636\t0.0386302\t-0.223204\t-0.0130753 \n",
      "5  \t250   \t-0.102789 \t0.0436863\t-0.261362\t-0.0244593 \n",
      "6  \t250   \t-0.107129 \t0.0402881\t-0.257603\t-0.0243954 \n",
      "7  \t250   \t-0.113506 \t0.0451055\t-0.265904\t-0.0324764 \n",
      "8  \t250   \t-0.116704 \t0.0423035\t-0.27474 \t-0.0245583 \n",
      "9  \t250   \t-0.126605 \t0.0483719\t-0.329707\t-0.0269915 \n",
      "\n",
      "N pep:  246\n",
      "Best peptide: -10.655\n",
      "N pep under -12 kcal/mol: 000\n",
      "N pep under -11 kcal/mol: 000\n",
      "N pep under -10 kcal/mol: 001\n",
      "N pep under -9 kcal/mol: 002\n",
      "N pep under -8 kcal/mol: 026\n",
      "N pep under -7 kcal/mol: 124\n",
      "N pep under -6 kcal/mol: 153\n",
      "N pep under -5 kcal/mol: 154\n",
      "Non binding pep        : 092\n"
     ]
    },
    {
     "data": {
      "image/png": "[encoded data removed]",
      "text/plain": [
       "<Figure size 360x360 with 1 Axes>"
      ]
     },
     "metadata": {
      "needs_background": "light"
     },
     "output_type": "display_data"
    },
    {
     "name": "stdout",
     "output_type": "stream",
     "text": [
      "\n",
      "\n",
      "\n",
      "Generation: 2\n"
     ]
    },
    {
     "name": "stderr",
     "output_type": "stream",
     "text": [
      "/home/eberhardt/Applications/miniconda3/envs/python3/lib/python3.7/site-packages/deap/creator.py:141: RuntimeWarning: A class named 'Fitness' has already been created and it will be overwritten. Consider deleting previous creation of that class or rename it.\n",
      "  RuntimeWarning)\n",
      "/home/eberhardt/Applications/miniconda3/envs/python3/lib/python3.7/site-packages/deap/creator.py:141: RuntimeWarning: A class named 'Individual' has already been created and it will be overwritten. Consider deleting previous creation of that class or rename it.\n",
      "  RuntimeWarning)\n"
     ]
    },
    {
     "name": "stdout",
     "output_type": "stream",
     "text": [
      "gen\tnevals\tavg        \tstd       \tmin       \tmax         \n",
      "0  \t250   \t-0.00589152\t0.00837869\t-0.0523891\t-5.44014e-07\n",
      "1  \t250   \t-0.0119951 \t0.0154665 \t-0.125861 \t-3.68607e-06\n",
      "2  \t250   \t-0.0178572 \t0.018175  \t-0.115423 \t-2.72843e-05\n",
      "3  \t250   \t-0.0245133 \t0.0224475 \t-0.149829 \t-0.000204163\n",
      "4  \t250   \t-0.030344  \t0.0233669 \t-0.166852 \t-0.000273091\n",
      "5  \t250   \t-0.0352799 \t0.025906  \t-0.122742 \t-0.00052136 \n",
      "6  \t250   \t-0.0392377 \t0.0305409 \t-0.185288 \t-0.00213292 \n",
      "7  \t250   \t-0.0423308 \t0.0278449 \t-0.152959 \t-0.00141018 \n",
      "8  \t250   \t-0.0432522 \t0.0303219 \t-0.251235 \t-0.00139941 \n",
      "9  \t250   \t-0.0473126 \t0.030498  \t-0.185803 \t-0.00507446 \n",
      "\n",
      "N pep:  342\n",
      "Best peptide: -10.655\n",
      "N pep under -12 kcal/mol: 000\n",
      "N pep under -11 kcal/mol: 000\n",
      "N pep under -10 kcal/mol: 001\n",
      "N pep under -9 kcal/mol: 002\n",
      "N pep under -8 kcal/mol: 032\n",
      "N pep under -7 kcal/mol: 132\n",
      "N pep under -6 kcal/mol: 164\n",
      "N pep under -5 kcal/mol: 166\n",
      "Non binding pep        : 176\n"
     ]
    },
    {
     "data": {
      "image/png": "[encoded data removed]",
      "text/plain": [
       "<Figure size 360x360 with 1 Axes>"
      ]
     },
     "metadata": {
      "needs_background": "light"
     },
     "output_type": "display_data"
    },
    {
     "name": "stdout",
     "output_type": "stream",
     "text": [
      "\n",
      "\n",
      "\n",
      "Generation: 3\n"
     ]
    },
    {
     "name": "stderr",
     "output_type": "stream",
     "text": [
      "/home/eberhardt/Applications/miniconda3/envs/python3/lib/python3.7/site-packages/deap/creator.py:141: RuntimeWarning: A class named 'Fitness' has already been created and it will be overwritten. Consider deleting previous creation of that class or rename it.\n",
      "  RuntimeWarning)\n",
      "/home/eberhardt/Applications/miniconda3/envs/python3/lib/python3.7/site-packages/deap/creator.py:141: RuntimeWarning: A class named 'Individual' has already been created and it will be overwritten. Consider deleting previous creation of that class or rename it.\n",
      "  RuntimeWarning)\n"
     ]
    },
    {
     "name": "stdout",
     "output_type": "stream",
     "text": [
      "gen\tnevals\tavg       \tstd      \tmin      \tmax         \n",
      "0  \t250   \t-0.0156625\t0.0314077\t-0.272384\t-1.08838e-05\n",
      "1  \t250   \t-0.0277171\t0.0373929\t-0.205881\t-0.000170472\n",
      "2  \t250   \t-0.0357868\t0.0406551\t-0.243773\t-2.3542e-05 \n",
      "3  \t250   \t-0.0410592\t0.0494333\t-0.37855 \t-0.000216177\n",
      "4  \t250   \t-0.0480509\t0.0521723\t-0.318794\t-0.000547191\n",
      "5  \t250   \t-0.0624252\t0.068442 \t-0.474332\t-0.000533991\n",
      "6  \t250   \t-0.0638926\t0.065453 \t-0.501285\t-0.000214427\n",
      "7  \t250   \t-0.0666034\t0.0640572\t-0.462883\t-0.00138976 \n",
      "8  \t250   \t-0.078705 \t0.073025 \t-0.486216\t-7.52532e-05\n",
      "9  \t250   \t-0.0759267\t0.0760036\t-0.533238\t-0.000713077\n",
      "\n",
      "N pep:  438\n",
      "Best peptide: -10.655\n",
      "N pep under -12 kcal/mol: 000\n",
      "N pep under -11 kcal/mol: 000\n",
      "N pep under -10 kcal/mol: 004\n",
      "N pep under -9 kcal/mol: 007\n",
      "N pep under -8 kcal/mol: 045\n",
      "N pep under -7 kcal/mol: 150\n",
      "N pep under -6 kcal/mol: 184\n",
      "N pep under -5 kcal/mol: 186\n",
      "Non binding pep        : 252\n"
     ]
    },
    {
     "data": {
      "image/png": "[encoded data removed]",
      "text/plain": [
       "<Figure size 360x360 with 1 Axes>"
      ]
     },
     "metadata": {
      "needs_background": "light"
     },
     "output_type": "display_data"
    },
    {
     "name": "stdout",
     "output_type": "stream",
     "text": [
      "\n",
      "\n",
      "\n",
      "Run: 8\n",
      "Exp dataset size: (150, 4096)\n",
      "\n",
      "\n",
      "Init.\n",
      "N pep:  150\n",
      "Best peptide: -8.199\n",
      "N pep under -12 kcal/mol: 000\n",
      "N pep under -11 kcal/mol: 000\n",
      "N pep under -10 kcal/mol: 000\n",
      "N pep under -9 kcal/mol: 000\n",
      "N pep under -8 kcal/mol: 022\n",
      "N pep under -7 kcal/mol: 120\n",
      "N pep under -6 kcal/mol: 149\n",
      "N pep under -5 kcal/mol: 150\n",
      "Non binding pep        : 000\n",
      "\n",
      "\n",
      "\n",
      "Generation: 1\n"
     ]
    },
    {
     "name": "stderr",
     "output_type": "stream",
     "text": [
      "/home/eberhardt/Applications/miniconda3/envs/python3/lib/python3.7/site-packages/deap/creator.py:141: RuntimeWarning: A class named 'Fitness' has already been created and it will be overwritten. Consider deleting previous creation of that class or rename it.\n",
      "  RuntimeWarning)\n",
      "/home/eberhardt/Applications/miniconda3/envs/python3/lib/python3.7/site-packages/deap/creator.py:141: RuntimeWarning: A class named 'Individual' has already been created and it will be overwritten. Consider deleting previous creation of that class or rename it.\n",
      "  RuntimeWarning)\n"
     ]
    },
    {
     "name": "stdout",
     "output_type": "stream",
     "text": [
      "gen\tnevals\tavg       \tstd      \tmin      \tmax       \n",
      "0  \t250   \t-0.0305021\t0.0251327\t-0.132526\t-0.0011545\n",
      "1  \t250   \t-0.0462114\t0.0311502\t-0.168979\t-0.00168161\n",
      "2  \t250   \t-0.0654359\t0.0375028\t-0.253776\t-0.00481592\n",
      "3  \t250   \t-0.0738552\t0.0363455\t-0.195233\t-0.00744208\n",
      "4  \t250   \t-0.0861277\t0.040158 \t-0.254588\t-0.0182637 \n",
      "5  \t250   \t-0.0952073\t0.0434668\t-0.218503\t-0.0180372 \n",
      "6  \t250   \t-0.0984771\t0.0376295\t-0.230587\t-0.0264856 \n",
      "7  \t250   \t-0.111652 \t0.0448222\t-0.348889\t-0.0218515 \n",
      "8  \t250   \t-0.118345 \t0.0417161\t-0.226782\t-0.0323538 \n",
      "9  \t250   \t-0.12337  \t0.0412436\t-0.268425\t-0.037272  \n",
      "\n",
      "N pep:  246\n",
      "Best peptide: -10.365\n",
      "N pep under -12 kcal/mol: 000\n",
      "N pep under -11 kcal/mol: 000\n",
      "N pep under -10 kcal/mol: 002\n",
      "N pep under -9 kcal/mol: 003\n",
      "N pep under -8 kcal/mol: 025\n",
      "N pep under -7 kcal/mol: 123\n",
      "N pep under -6 kcal/mol: 152\n",
      "N pep under -5 kcal/mol: 153\n",
      "Non binding pep        : 093\n"
     ]
    },
    {
     "data": {
      "image/png": "[encoded data removed]",
      "text/plain": [
       "<Figure size 360x360 with 1 Axes>"
      ]
     },
     "metadata": {
      "needs_background": "light"
     },
     "output_type": "display_data"
    },
    {
     "name": "stdout",
     "output_type": "stream",
     "text": [
      "\n",
      "\n",
      "\n",
      "Generation: 2\n"
     ]
    },
    {
     "name": "stderr",
     "output_type": "stream",
     "text": [
      "/home/eberhardt/Applications/miniconda3/envs/python3/lib/python3.7/site-packages/deap/creator.py:141: RuntimeWarning: A class named 'Fitness' has already been created and it will be overwritten. Consider deleting previous creation of that class or rename it.\n",
      "  RuntimeWarning)\n",
      "/home/eberhardt/Applications/miniconda3/envs/python3/lib/python3.7/site-packages/deap/creator.py:141: RuntimeWarning: A class named 'Individual' has already been created and it will be overwritten. Consider deleting previous creation of that class or rename it.\n",
      "  RuntimeWarning)\n"
     ]
    },
    {
     "name": "stdout",
     "output_type": "stream",
     "text": [
      "gen\tnevals\tavg        \tstd      \tmin       \tmax         \n",
      "0  \t250   \t-0.00918942\t0.0130295\t-0.0708102\t-5.75378e-08\n",
      "1  \t250   \t-0.0206614 \t0.0247522\t-0.188214 \t-5.781e-05  \n",
      "2  \t250   \t-0.030447  \t0.0293502\t-0.199675 \t-6.00865e-05\n",
      "3  \t250   \t-0.0377762 \t0.0312164\t-0.192111 \t-0.000205988\n",
      "4  \t250   \t-0.0425209 \t0.0300775\t-0.161548 \t-0.00120861 \n",
      "5  \t250   \t-0.0520138 \t0.0331434\t-0.206595 \t-0.00247998 \n",
      "6  \t250   \t-0.0551331 \t0.0361168\t-0.203764 \t-0.00365031 \n",
      "7  \t250   \t-0.0617924 \t0.0375806\t-0.259675 \t-0.00254676 \n",
      "8  \t250   \t-0.0653075 \t0.0389257\t-0.268363 \t-0.00337872 \n",
      "9  \t250   \t-0.0669062 \t0.0400615\t-0.299853 \t-0.00508481 \n",
      "\n",
      "N pep:  342\n",
      "Best peptide: -10.365\n",
      "N pep under -12 kcal/mol: 000\n",
      "N pep under -11 kcal/mol: 000\n",
      "N pep under -10 kcal/mol: 002\n",
      "N pep under -9 kcal/mol: 003\n",
      "N pep under -8 kcal/mol: 028\n",
      "N pep under -7 kcal/mol: 134\n",
      "N pep under -6 kcal/mol: 168\n",
      "N pep under -5 kcal/mol: 169\n",
      "Non binding pep        : 173\n"
     ]
    },
    {
     "data": {
      "image/png": "[encoded data removed]",
      "text/plain": [
       "<Figure size 360x360 with 1 Axes>"
      ]
     },
     "metadata": {
      "needs_background": "light"
     },
     "output_type": "display_data"
    },
    {
     "name": "stdout",
     "output_type": "stream",
     "text": [
      "\n",
      "\n",
      "\n",
      "Generation: 3\n"
     ]
    },
    {
     "name": "stderr",
     "output_type": "stream",
     "text": [
      "/home/eberhardt/Applications/miniconda3/envs/python3/lib/python3.7/site-packages/deap/creator.py:141: RuntimeWarning: A class named 'Fitness' has already been created and it will be overwritten. Consider deleting previous creation of that class or rename it.\n",
      "  RuntimeWarning)\n",
      "/home/eberhardt/Applications/miniconda3/envs/python3/lib/python3.7/site-packages/deap/creator.py:141: RuntimeWarning: A class named 'Individual' has already been created and it will be overwritten. Consider deleting previous creation of that class or rename it.\n",
      "  RuntimeWarning)\n"
     ]
    },
    {
     "name": "stdout",
     "output_type": "stream",
     "text": [
      "gen\tnevals\tavg       \tstd      \tmin      \tmax         \n",
      "0  \t250   \t-0.0189287\t0.0319492\t-0.284252\t-1.00318e-05\n",
      "1  \t250   \t-0.0350245\t0.0467709\t-0.42672 \t-7.06084e-05\n",
      "2  \t250   \t-0.0471994\t0.0455254\t-0.447542\t-0.00171703 \n",
      "3  \t250   \t-0.0659132\t0.0649409\t-0.385899\t-0.00101929 \n",
      "4  \t250   \t-0.0709687\t0.0664293\t-0.477139\t-0.000943322\n",
      "5  \t250   \t-0.0813788\t0.0711649\t-0.561528\t-0.0040976  \n",
      "6  \t250   \t-0.115654 \t0.0994667\t-0.510381\t-0.00813296 \n",
      "7  \t250   \t-0.115131 \t0.0897073\t-0.554802\t-0.00302997 \n",
      "8  \t250   \t-0.126403 \t0.0912866\t-0.557783\t-0.00471829 \n",
      "9  \t250   \t-0.143591 \t0.103685 \t-0.562597\t-0.00398369 \n",
      "\n",
      "N pep:  438\n",
      "Best peptide: -11.152\n",
      "N pep under -12 kcal/mol: 000\n",
      "N pep under -11 kcal/mol: 001\n",
      "N pep under -10 kcal/mol: 003\n",
      "N pep under -9 kcal/mol: 006\n",
      "N pep under -8 kcal/mol: 049\n",
      "N pep under -7 kcal/mol: 166\n",
      "N pep under -6 kcal/mol: 202\n",
      "N pep under -5 kcal/mol: 203\n",
      "Non binding pep        : 235\n"
     ]
    },
    {
     "data": {
      "image/png": "[encoded data removed]",
      "text/plain": [
       "<Figure size 360x360 with 1 Axes>"
      ]
     },
     "metadata": {
      "needs_background": "light"
     },
     "output_type": "display_data"
    },
    {
     "name": "stdout",
     "output_type": "stream",
     "text": [
      "\n",
      "\n",
      "\n",
      "Run: 9\n",
      "Exp dataset size: (150, 4096)\n",
      "\n",
      "\n",
      "Init.\n",
      "N pep:  150\n",
      "Best peptide: -8.199\n",
      "N pep under -12 kcal/mol: 000\n",
      "N pep under -11 kcal/mol: 000\n",
      "N pep under -10 kcal/mol: 000\n",
      "N pep under -9 kcal/mol: 000\n",
      "N pep under -8 kcal/mol: 022\n",
      "N pep under -7 kcal/mol: 120\n",
      "N pep under -6 kcal/mol: 149\n",
      "N pep under -5 kcal/mol: 150\n",
      "Non binding pep        : 000\n",
      "\n",
      "\n",
      "\n",
      "Generation: 1\n"
     ]
    },
    {
     "name": "stderr",
     "output_type": "stream",
     "text": [
      "/home/eberhardt/Applications/miniconda3/envs/python3/lib/python3.7/site-packages/deap/creator.py:141: RuntimeWarning: A class named 'Fitness' has already been created and it will be overwritten. Consider deleting previous creation of that class or rename it.\n",
      "  RuntimeWarning)\n",
      "/home/eberhardt/Applications/miniconda3/envs/python3/lib/python3.7/site-packages/deap/creator.py:141: RuntimeWarning: A class named 'Individual' has already been created and it will be overwritten. Consider deleting previous creation of that class or rename it.\n",
      "  RuntimeWarning)\n"
     ]
    },
    {
     "name": "stdout",
     "output_type": "stream",
     "text": [
      "gen\tnevals\tavg       \tstd     \tmin      \tmax         \n",
      "0  \t250   \t-0.0278648\t0.022103\t-0.119134\t-0.000195762\n",
      "1  \t250   \t-0.0466257\t0.0311378\t-0.196239\t-0.00214175 \n",
      "2  \t250   \t-0.0583656\t0.0348149\t-0.193477\t-0.00395703 \n",
      "3  \t250   \t-0.0687897\t0.0394052\t-0.250139\t-0.00621911 \n",
      "4  \t250   \t-0.0801826\t0.0416358\t-0.249747\t-0.0116968  \n",
      "5  \t250   \t-0.0940518\t0.0412042\t-0.23527 \t-0.00593589 \n",
      "6  \t250   \t-0.10064  \t0.0412178\t-0.235193\t-0.0292526  \n",
      "7  \t250   \t-0.107941 \t0.0448396\t-0.256279\t-0.0303653  \n",
      "8  \t250   \t-0.108321 \t0.0431387\t-0.271904\t-0.0237079  \n",
      "9  \t250   \t-0.111741 \t0.0409356\t-0.244182\t-0.034438   \n",
      "\n",
      "N pep:  246\n",
      "Best peptide: -9.909\n",
      "N pep under -12 kcal/mol: 000\n",
      "N pep under -11 kcal/mol: 000\n",
      "N pep under -10 kcal/mol: 000\n",
      "N pep under -9 kcal/mol: 001\n",
      "N pep under -8 kcal/mol: 023\n",
      "N pep under -7 kcal/mol: 121\n",
      "N pep under -6 kcal/mol: 150\n",
      "N pep under -5 kcal/mol: 151\n",
      "Non binding pep        : 095\n"
     ]
    },
    {
     "data": {
      "image/png": "[encoded data removed]",
      "text/plain": [
       "<Figure size 360x360 with 1 Axes>"
      ]
     },
     "metadata": {
      "needs_background": "light"
     },
     "output_type": "display_data"
    },
    {
     "name": "stdout",
     "output_type": "stream",
     "text": [
      "\n",
      "\n",
      "\n",
      "Generation: 2\n"
     ]
    },
    {
     "name": "stderr",
     "output_type": "stream",
     "text": [
      "/home/eberhardt/Applications/miniconda3/envs/python3/lib/python3.7/site-packages/deap/creator.py:141: RuntimeWarning: A class named 'Fitness' has already been created and it will be overwritten. Consider deleting previous creation of that class or rename it.\n",
      "  RuntimeWarning)\n",
      "/home/eberhardt/Applications/miniconda3/envs/python3/lib/python3.7/site-packages/deap/creator.py:141: RuntimeWarning: A class named 'Individual' has already been created and it will be overwritten. Consider deleting previous creation of that class or rename it.\n",
      "  RuntimeWarning)\n"
     ]
    },
    {
     "name": "stdout",
     "output_type": "stream",
     "text": [
      "gen\tnevals\tavg       \tstd      \tmin      \tmax         \n",
      "0  \t250   \t-0.0132711\t0.0199793\t-0.177844\t-3.35155e-07\n",
      "1  \t250   \t-0.0240905\t0.0294164\t-0.154532\t-9.44395e-09\n",
      "2  \t250   \t-0.0409439\t0.0420502\t-0.311028\t-3.02524e-06\n",
      "3  \t250   \t-0.0518109\t0.0402081\t-0.241665\t-0.000357675\n",
      "4  \t250   \t-0.0687063\t0.0478002\t-0.290967\t-0.00238724 \n",
      "5  \t250   \t-0.0736691\t0.0471187\t-0.259743\t-0.00294589 \n",
      "6  \t250   \t-0.0834844\t0.0598091\t-0.355041\t-0.00746784 \n",
      "7  \t250   \t-0.0848981\t0.0584289\t-0.399752\t-0.00673013 \n",
      "8  \t250   \t-0.0914666\t0.0515689\t-0.277696\t-0.0131338  \n",
      "9  \t250   \t-0.0943904\t0.0560876\t-0.422398\t-0.0133731  \n",
      "\n",
      "N pep:  342\n",
      "Best peptide: -9.909\n",
      "N pep under -12 kcal/mol: 000\n",
      "N pep under -11 kcal/mol: 000\n",
      "N pep under -10 kcal/mol: 000\n",
      "N pep under -9 kcal/mol: 001\n",
      "N pep under -8 kcal/mol: 024\n",
      "N pep under -7 kcal/mol: 126\n",
      "N pep under -6 kcal/mol: 157\n",
      "N pep under -5 kcal/mol: 158\n",
      "Non binding pep        : 184\n"
     ]
    },
    {
     "data": {
      "image/png": "[encoded data removed]",
      "text/plain": [
       "<Figure size 360x360 with 1 Axes>"
      ]
     },
     "metadata": {
      "needs_background": "light"
     },
     "output_type": "display_data"
    },
    {
     "name": "stdout",
     "output_type": "stream",
     "text": [
      "\n",
      "\n",
      "\n",
      "Generation: 3\n"
     ]
    },
    {
     "name": "stderr",
     "output_type": "stream",
     "text": [
      "/home/eberhardt/Applications/miniconda3/envs/python3/lib/python3.7/site-packages/deap/creator.py:141: RuntimeWarning: A class named 'Fitness' has already been created and it will be overwritten. Consider deleting previous creation of that class or rename it.\n",
      "  RuntimeWarning)\n",
      "/home/eberhardt/Applications/miniconda3/envs/python3/lib/python3.7/site-packages/deap/creator.py:141: RuntimeWarning: A class named 'Individual' has already been created and it will be overwritten. Consider deleting previous creation of that class or rename it.\n",
      "  RuntimeWarning)\n"
     ]
    },
    {
     "name": "stdout",
     "output_type": "stream",
     "text": [
      "gen\tnevals\tavg       \tstd      \tmin      \tmax         \n",
      "0  \t250   \t-0.0195181\t0.0326643\t-0.217824\t-3.07461e-05\n",
      "1  \t250   \t-0.0420446\t0.0573123\t-0.320305\t-5.56271e-05\n",
      "2  \t250   \t-0.0601827\t0.0763053\t-0.480535\t-0.000154555\n",
      "3  \t250   \t-0.0799071\t0.091081 \t-0.488667\t-0.000476516\n",
      "4  \t250   \t-0.0995216\t0.102532 \t-0.486667\t-0.000863705\n",
      "5  \t250   \t-0.110504 \t0.112069 \t-0.74656 \t-9.09778e-06\n",
      "6  \t250   \t-0.102131 \t0.091732 \t-0.662016\t-0.000173766\n",
      "7  \t250   \t-0.120117 \t0.0968125\t-0.584064\t-0.000439921\n",
      "8  \t250   \t-0.155087 \t0.143785 \t-0.911851\t-0.000625611\n",
      "9  \t250   \t-0.144789 \t0.119475 \t-0.686962\t-0.00244808 \n",
      "\n",
      "N pep:  438\n",
      "Best peptide: -10.946\n",
      "N pep under -12 kcal/mol: 000\n",
      "N pep under -11 kcal/mol: 000\n",
      "N pep under -10 kcal/mol: 003\n",
      "N pep under -9 kcal/mol: 017\n",
      "N pep under -8 kcal/mol: 052\n",
      "N pep under -7 kcal/mol: 167\n",
      "N pep under -6 kcal/mol: 201\n",
      "N pep under -5 kcal/mol: 202\n",
      "Non binding pep        : 236\n"
     ]
    },
    {
     "data": {
      "image/png": "[encoded data removed]",
      "text/plain": [
       "<Figure size 360x360 with 1 Axes>"
      ]
     },
     "metadata": {
      "needs_background": "light"
     },
     "output_type": "display_data"
    },
    {
     "name": "stdout",
     "output_type": "stream",
     "text": [
      "\n",
      "\n",
      "\n",
      "Run: 10\n",
      "Exp dataset size: (150, 4096)\n",
      "\n",
      "\n",
      "Init.\n",
      "N pep:  150\n",
      "Best peptide: -8.199\n",
      "N pep under -12 kcal/mol: 000\n",
      "N pep under -11 kcal/mol: 000\n",
      "N pep under -10 kcal/mol: 000\n",
      "N pep under -9 kcal/mol: 000\n",
      "N pep under -8 kcal/mol: 022\n",
      "N pep under -7 kcal/mol: 120\n",
      "N pep under -6 kcal/mol: 149\n",
      "N pep under -5 kcal/mol: 150\n",
      "Non binding pep        : 000\n",
      "\n",
      "\n",
      "\n",
      "Generation: 1\n"
     ]
    },
    {
     "name": "stderr",
     "output_type": "stream",
     "text": [
      "/home/eberhardt/Applications/miniconda3/envs/python3/lib/python3.7/site-packages/deap/creator.py:141: RuntimeWarning: A class named 'Fitness' has already been created and it will be overwritten. Consider deleting previous creation of that class or rename it.\n",
      "  RuntimeWarning)\n",
      "/home/eberhardt/Applications/miniconda3/envs/python3/lib/python3.7/site-packages/deap/creator.py:141: RuntimeWarning: A class named 'Individual' has already been created and it will be overwritten. Consider deleting previous creation of that class or rename it.\n",
      "  RuntimeWarning)\n"
     ]
    },
    {
     "name": "stdout",
     "output_type": "stream",
     "text": [
      "gen\tnevals\tavg       \tstd      \tmin      \tmax        \n",
      "0  \t250   \t-0.0286697\t0.0234344\t-0.139404\t-0.00153908\n",
      "1  \t250   \t-0.0481164\t0.0310987\t-0.169313\t-0.00400248\n",
      "2  \t250   \t-0.0591106\t0.0374266\t-0.268383\t-0.00589359\n",
      "3  \t250   \t-0.0751971\t0.0378946\t-0.190097\t-0.00995426\n",
      "4  \t250   \t-0.0825398\t0.0375397\t-0.199129\t-0.00650911\n",
      "5  \t250   \t-0.0986237\t0.0444013\t-0.268576\t-0.0259735 \n",
      "6  \t250   \t-0.101053 \t0.0451366\t-0.251551\t-0.0160124 \n",
      "7  \t250   \t-0.114493 \t0.0507187\t-0.29846 \t-0.0156775 \n",
      "8  \t250   \t-0.121608 \t0.049117 \t-0.247777\t-0.0279049 \n",
      "9  \t250   \t-0.129217 \t0.0431594\t-0.258864\t-0.0233604 \n",
      "\n",
      "N pep:  246\n",
      "Best peptide: -10.192\n",
      "N pep under -12 kcal/mol: 000\n",
      "N pep under -11 kcal/mol: 000\n",
      "N pep under -10 kcal/mol: 001\n",
      "N pep under -9 kcal/mol: 002\n",
      "N pep under -8 kcal/mol: 024\n",
      "N pep under -7 kcal/mol: 122\n",
      "N pep under -6 kcal/mol: 151\n",
      "N pep under -5 kcal/mol: 152\n",
      "Non binding pep        : 094\n"
     ]
    },
    {
     "data": {
      "image/png": "[encoded data removed]",
      "text/plain": [
       "<Figure size 360x360 with 1 Axes>"
      ]
     },
     "metadata": {
      "needs_background": "light"
     },
     "output_type": "display_data"
    },
    {
     "name": "stdout",
     "output_type": "stream",
     "text": [
      "\n",
      "\n",
      "\n",
      "Generation: 2\n"
     ]
    },
    {
     "name": "stderr",
     "output_type": "stream",
     "text": [
      "/home/eberhardt/Applications/miniconda3/envs/python3/lib/python3.7/site-packages/deap/creator.py:141: RuntimeWarning: A class named 'Fitness' has already been created and it will be overwritten. Consider deleting previous creation of that class or rename it.\n",
      "  RuntimeWarning)\n",
      "/home/eberhardt/Applications/miniconda3/envs/python3/lib/python3.7/site-packages/deap/creator.py:141: RuntimeWarning: A class named 'Individual' has already been created and it will be overwritten. Consider deleting previous creation of that class or rename it.\n",
      "  RuntimeWarning)\n"
     ]
    },
    {
     "name": "stdout",
     "output_type": "stream",
     "text": [
      "gen\tnevals\tavg       \tstd      \tmin       \tmax         \n",
      "0  \t250   \t-0.0112746\t0.0149675\t-0.0975848\t-2.86448e-07\n",
      "1  \t250   \t-0.0214837\t0.0244691\t-0.150191 \t-4.44942e-06\n",
      "2  \t250   \t-0.0322398\t0.0311263\t-0.260176 \t-0.000189727\n",
      "3  \t250   \t-0.0416656\t0.0313498\t-0.129728 \t-0.000514207\n",
      "4  \t250   \t-0.0539967\t0.0405526\t-0.190259 \t-0.000255477\n",
      "5  \t250   \t-0.0679089\t0.0467426\t-0.303576 \t-0.000933775\n",
      "6  \t250   \t-0.0737206\t0.0490279\t-0.235817 \t-0.00177822 \n",
      "7  \t250   \t-0.0879974\t0.049145 \t-0.301164 \t-0.0127638  \n",
      "8  \t250   \t-0.0891315\t0.0507221\t-0.271851 \t-0.0041481  \n",
      "9  \t250   \t-0.108472 \t0.0580035\t-0.350675 \t-0.0079775  \n",
      "\n",
      "N pep:  342\n",
      "Best peptide: -10.192\n",
      "N pep under -12 kcal/mol: 000\n",
      "N pep under -11 kcal/mol: 000\n",
      "N pep under -10 kcal/mol: 001\n",
      "N pep under -9 kcal/mol: 002\n",
      "N pep under -8 kcal/mol: 024\n",
      "N pep under -7 kcal/mol: 124\n",
      "N pep under -6 kcal/mol: 155\n",
      "N pep under -5 kcal/mol: 156\n",
      "Non binding pep        : 186\n"
     ]
    },
    {
     "data": {
      "image/png": "[encoded data removed]",
      "text/plain": [
       "<Figure size 360x360 with 1 Axes>"
      ]
     },
     "metadata": {
      "needs_background": "light"
     },
     "output_type": "display_data"
    },
    {
     "name": "stdout",
     "output_type": "stream",
     "text": [
      "\n",
      "\n",
      "\n",
      "Generation: 3\n"
     ]
    },
    {
     "name": "stderr",
     "output_type": "stream",
     "text": [
      "/home/eberhardt/Applications/miniconda3/envs/python3/lib/python3.7/site-packages/deap/creator.py:141: RuntimeWarning: A class named 'Fitness' has already been created and it will be overwritten. Consider deleting previous creation of that class or rename it.\n",
      "  RuntimeWarning)\n",
      "/home/eberhardt/Applications/miniconda3/envs/python3/lib/python3.7/site-packages/deap/creator.py:141: RuntimeWarning: A class named 'Individual' has already been created and it will be overwritten. Consider deleting previous creation of that class or rename it.\n",
      "  RuntimeWarning)\n"
     ]
    },
    {
     "name": "stdout",
     "output_type": "stream",
     "text": [
      "gen\tnevals\tavg       \tstd     \tmin      \tmax        \n",
      "0  \t250   \t-0.0090896\t0.015911\t-0.121699\t-2.2299e-05\n",
      "1  \t250   \t-0.0198845\t0.0318111\t-0.327506\t-1.06835e-05\n",
      "2  \t250   \t-0.0282667\t0.0413219\t-0.31842 \t-8.85515e-06\n",
      "3  \t250   \t-0.0345438\t0.0421983\t-0.30245 \t-8.70681e-05\n",
      "4  \t250   \t-0.0394026\t0.0453678\t-0.250395\t-0.000102548\n",
      "5  \t250   \t-0.0526274\t0.0528217\t-0.34003 \t-0.000309271\n",
      "6  \t250   \t-0.060974 \t0.0596553\t-0.316338\t-6.14083e-05\n",
      "7  \t250   \t-0.0666532\t0.0657442\t-0.39514 \t-3.86279e-05\n",
      "8  \t250   \t-0.0691415\t0.0563331\t-0.304005\t-2.19331e-05\n",
      "9  \t250   \t-0.071558 \t0.0622545\t-0.3963  \t-0.000311157\n",
      "\n",
      "N pep:  438\n",
      "Best peptide: -10.325\n",
      "N pep under -12 kcal/mol: 000\n",
      "N pep under -11 kcal/mol: 000\n",
      "N pep under -10 kcal/mol: 003\n",
      "N pep under -9 kcal/mol: 010\n",
      "N pep under -8 kcal/mol: 047\n",
      "N pep under -7 kcal/mol: 158\n",
      "N pep under -6 kcal/mol: 190\n",
      "N pep under -5 kcal/mol: 191\n",
      "Non binding pep        : 247\n"
     ]
    },
    {
     "data": {
      "image/png": "[encoded data removed]",
      "text/plain": [
       "<Figure size 360x360 with 1 Axes>"
      ]
     },
     "metadata": {
      "needs_background": "light"
     },
     "output_type": "display_data"
    },
    {
     "name": "stdout",
     "output_type": "stream",
     "text": [
      "\n",
      "\n",
      "\n"
     ]
    }
   ],
   "source": [
    "pbil_candidate_fps = []\n",
    "pbil_candidate_y = []\n",
    "\n",
    "for i in range(10):\n",
    "    print('Run: %s' % (i + 1))\n",
    "    \n",
    "    # Compute the MAP4 fingerprint for all the peptides\n",
    "    X_fps_exp = map4_fingerprint(random_peptides)\n",
    "    y_exp = torch.from_numpy(random_peptide_scores).float()\n",
    "    print('Exp dataset size: (%d, %d)' % (X_fps_exp.shape[0], X_fps_exp.shape[1]))\n",
    "    \n",
    "    print('\\n')\n",
    "    \n",
    "    print('Init.')\n",
    "    print('N pep: ', X_fps_exp.shape[0])\n",
    "    print('Best peptide: %.3f' % y_exp.min())\n",
    "    for n in [-12, -11, -10, -9, -8, -7, -6, -5]:\n",
    "        print('N pep under %d kcal/mol: %03d' % (n, y_exp[y_exp < n].shape[0]))\n",
    "    print('Non binding pep        : %03d' % (y_exp[y_exp == 0.].shape[0]))\n",
    "\n",
    "    print('\\n\\n')\n",
    "\n",
    "    for j in range(3):\n",
    "        print('Generation: %d' % (j + 1))\n",
    "        # Train GP model\n",
    "        model = get_fitted_model(X_fps_exp, y_exp, kernel=TanimotoSimilarityKernel)\n",
    "\n",
    "        # Find new candidates\n",
    "        #acq = AcqScoring(model, probability_of_improvement, y_exp)\n",
    "        acq = AcqScoring(model, expected_improvement, y_exp)\n",
    "        candidate_sequences, candidates_acq = find_next_candidates(acq, greater_is_better=False)\n",
    "\n",
    "        # Add candidates to the training set\n",
    "        candidate_fps = map4_fingerprint(candidate_sequences)\n",
    "        y_candidates = torch.from_numpy(np.array(predict_peptide_affinity_binding(candidate_sequences, pssm, reg)))\n",
    "\n",
    "        X_fps_exp = torch.cat([X_fps_exp, candidate_fps])\n",
    "        y_exp = torch.cat([y_exp, y_candidates])\n",
    "\n",
    "        print('')\n",
    "        print('N pep: ', X_fps_exp.shape[0])\n",
    "        print('Best peptide: %.3f' % y_exp.min())\n",
    "        for n in [-12, -11, -10, -9, -8,  -7, -6, -5]:\n",
    "            print('N pep under %d kcal/mol: %03d' % (n, y_exp[y_exp < n].shape[0]))\n",
    "        print('Non binding pep        : %03d' % (y_exp[y_exp == 0.].shape[0]))\n",
    "\n",
    "        fig, ax = plt.subplots(figsize=(5, 5))\n",
    "        ax.scatter(candidates_acq, y_candidates.numpy())\n",
    "        plt.show()\n",
    "\n",
    "        print('\\n\\n')\n",
    "    \n",
    "    \n",
    "    pbil_candidate_fps.append(X_fps_exp.detach().numpy())\n",
    "    pbil_candidate_y.append(y_exp.detach().numpy())\n",
    "\n",
    "\n",
    "pbil_candidate_fps = np.array(pbil_candidate_fps)\n",
    "pbil_candidate_y = np.array(pbil_candidate_y)"
   ]
  },
  {
   "cell_type": "markdown",
   "id": "62dcca63",
   "metadata": {},
   "source": [
    "### Random candidate peptides sampling"
   ]
  },
  {
   "cell_type": "code",
   "execution_count": 42,
   "id": "c6d9a5c1",
   "metadata": {},
   "outputs": [],
   "source": [
    "def find_next_candidates_by_random(scorer, greater_is_better=True):\n",
    "    NGEN = 10\n",
    "    NIND = 250\n",
    "    NBEST = 50\n",
    "    NLEN = 9\n",
    "    NCAN = 96\n",
    "    AA1 = ['A', 'R', 'N', 'D', 'C', 'Q', 'E', 'G', 'H', 'I', 'L', 'K', 'M', 'F', 'P', 'S', 'T', 'W', 'Y', 'V']\n",
    "    \n",
    "    sequences = np.array([''.join(s) for s in np.random.choice(AA1, (NGEN * NIND, NLEN))])\n",
    "    \n",
    "    sequence_acqs = scorer.evaluate(sequences)\n",
    "    \n",
    "    if greater_is_better:\n",
    "        sorted_peptide_indices = np.argsort(np.ravel(sequence_acqs))[::-1]\n",
    "    else:\n",
    "        sorted_peptide_indices = np.argsort(np.ravel(sequence_acqs))\n",
    "            \n",
    "    candidates = sequences[sorted_peptide_indices[:NCAN]]\n",
    "    candidate_acqs = sequence_acqs[sorted_peptide_indices[:NCAN]]\n",
    "                        \n",
    "    return candidates, candidate_acqs"
   ]
  },
  {
   "cell_type": "code",
   "execution_count": 43,
   "id": "c4ec03fd",
   "metadata": {
    "scrolled": true
   },
   "outputs": [
    {
     "name": "stdout",
     "output_type": "stream",
     "text": [
      "Run: 1\n",
      "Exp dataset size: (150, 4096)\n",
      "\n",
      "\n",
      "\n",
      "Init.\n",
      "N pep:  150\n",
      "Best peptide: -8.199\n",
      "N pep under -12 kcal/mol: 000\n",
      "N pep under -11 kcal/mol: 000\n",
      "N pep under -10 kcal/mol: 000\n",
      "N pep under -9 kcal/mol: 000\n",
      "N pep under -8 kcal/mol: 022\n",
      "N pep under -7 kcal/mol: 120\n",
      "N pep under -6 kcal/mol: 149\n",
      "N pep under -5 kcal/mol: 150\n",
      "Non binding pep        : 000\n",
      "\n",
      "\n",
      "\n",
      "Generation: 1\n",
      "\n",
      "N pep:  246\n",
      "Best peptide: -11.285\n",
      "N pep under -12 kcal/mol: 000\n",
      "N pep under -11 kcal/mol: 002\n",
      "N pep under -10 kcal/mol: 002\n",
      "N pep under -9 kcal/mol: 002\n",
      "N pep under -8 kcal/mol: 024\n",
      "N pep under -7 kcal/mol: 122\n",
      "N pep under -6 kcal/mol: 151\n",
      "N pep under -5 kcal/mol: 152\n",
      "Non binding pep        : 094\n"
     ]
    },
    {
     "data": {
      "image/png": "[encoded data removed]",
      "text/plain": [
       "<Figure size 360x360 with 1 Axes>"
      ]
     },
     "metadata": {
      "needs_background": "light"
     },
     "output_type": "display_data"
    },
    {
     "name": "stdout",
     "output_type": "stream",
     "text": [
      "\n",
      "\n",
      "\n",
      "Generation: 2\n",
      "\n",
      "N pep:  342\n",
      "Best peptide: -11.285\n",
      "N pep under -12 kcal/mol: 000\n",
      "N pep under -11 kcal/mol: 002\n",
      "N pep under -10 kcal/mol: 003\n",
      "N pep under -9 kcal/mol: 006\n",
      "N pep under -8 kcal/mol: 033\n",
      "N pep under -7 kcal/mol: 133\n",
      "N pep under -6 kcal/mol: 163\n",
      "N pep under -5 kcal/mol: 164\n",
      "Non binding pep        : 178\n"
     ]
    },
    {
     "data": {
      "image/png": "[encoded data removed]",
      "text/plain": [
       "<Figure size 360x360 with 1 Axes>"
      ]
     },
     "metadata": {
      "needs_background": "light"
     },
     "output_type": "display_data"
    },
    {
     "name": "stdout",
     "output_type": "stream",
     "text": [
      "\n",
      "\n",
      "\n",
      "Generation: 3\n",
      "\n",
      "N pep:  438\n",
      "Best peptide: -11.285\n",
      "N pep under -12 kcal/mol: 000\n",
      "N pep under -11 kcal/mol: 002\n",
      "N pep under -10 kcal/mol: 003\n",
      "N pep under -9 kcal/mol: 008\n",
      "N pep under -8 kcal/mol: 039\n",
      "N pep under -7 kcal/mol: 142\n",
      "N pep under -6 kcal/mol: 174\n",
      "N pep under -5 kcal/mol: 175\n",
      "Non binding pep        : 263\n"
     ]
    },
    {
     "data": {
      "image/png": "[encoded data removed]",
      "text/plain": [
       "<Figure size 360x360 with 1 Axes>"
      ]
     },
     "metadata": {
      "needs_background": "light"
     },
     "output_type": "display_data"
    },
    {
     "name": "stdout",
     "output_type": "stream",
     "text": [
      "\n",
      "\n",
      "\n",
      "Run: 2\n",
      "Exp dataset size: (150, 4096)\n",
      "\n",
      "\n",
      "\n",
      "Init.\n",
      "N pep:  150\n",
      "Best peptide: -8.199\n",
      "N pep under -12 kcal/mol: 000\n",
      "N pep under -11 kcal/mol: 000\n",
      "N pep under -10 kcal/mol: 000\n",
      "N pep under -9 kcal/mol: 000\n",
      "N pep under -8 kcal/mol: 022\n",
      "N pep under -7 kcal/mol: 120\n",
      "N pep under -6 kcal/mol: 149\n",
      "N pep under -5 kcal/mol: 150\n",
      "Non binding pep        : 000\n",
      "\n",
      "\n",
      "\n",
      "Generation: 1\n",
      "\n",
      "N pep:  246\n",
      "Best peptide: -10.347\n",
      "N pep under -12 kcal/mol: 000\n",
      "N pep under -11 kcal/mol: 000\n",
      "N pep under -10 kcal/mol: 001\n",
      "N pep under -9 kcal/mol: 001\n",
      "N pep under -8 kcal/mol: 023\n",
      "N pep under -7 kcal/mol: 121\n",
      "N pep under -6 kcal/mol: 150\n",
      "N pep under -5 kcal/mol: 151\n",
      "Non binding pep        : 095\n"
     ]
    },
    {
     "data": {
      "image/png": "[encoded data removed]",
      "text/plain": [
       "<Figure size 360x360 with 1 Axes>"
      ]
     },
     "metadata": {
      "needs_background": "light"
     },
     "output_type": "display_data"
    },
    {
     "name": "stdout",
     "output_type": "stream",
     "text": [
      "\n",
      "\n",
      "\n",
      "Generation: 2\n",
      "\n",
      "N pep:  342\n",
      "Best peptide: -10.347\n",
      "N pep under -12 kcal/mol: 000\n",
      "N pep under -11 kcal/mol: 000\n",
      "N pep under -10 kcal/mol: 001\n",
      "N pep under -9 kcal/mol: 002\n",
      "N pep under -8 kcal/mol: 028\n",
      "N pep under -7 kcal/mol: 126\n",
      "N pep under -6 kcal/mol: 155\n",
      "N pep under -5 kcal/mol: 156\n",
      "Non binding pep        : 186\n"
     ]
    },
    {
     "data": {
      "image/png": "[encoded data removed]",
      "text/plain": [
       "<Figure size 360x360 with 1 Axes>"
      ]
     },
     "metadata": {
      "needs_background": "light"
     },
     "output_type": "display_data"
    },
    {
     "name": "stdout",
     "output_type": "stream",
     "text": [
      "\n",
      "\n",
      "\n",
      "Generation: 3\n",
      "\n",
      "N pep:  438\n",
      "Best peptide: -10.641\n",
      "N pep under -12 kcal/mol: 000\n",
      "N pep under -11 kcal/mol: 000\n",
      "N pep under -10 kcal/mol: 002\n",
      "N pep under -9 kcal/mol: 004\n",
      "N pep under -8 kcal/mol: 034\n",
      "N pep under -7 kcal/mol: 133\n",
      "N pep under -6 kcal/mol: 163\n",
      "N pep under -5 kcal/mol: 164\n",
      "Non binding pep        : 274\n"
     ]
    },
    {
     "data": {
      "image/png": "[encoded data removed]",
      "text/plain": [
       "<Figure size 360x360 with 1 Axes>"
      ]
     },
     "metadata": {
      "needs_background": "light"
     },
     "output_type": "display_data"
    },
    {
     "name": "stdout",
     "output_type": "stream",
     "text": [
      "\n",
      "\n",
      "\n",
      "Run: 3\n",
      "Exp dataset size: (150, 4096)\n",
      "\n",
      "\n",
      "\n",
      "Init.\n",
      "N pep:  150\n",
      "Best peptide: -8.199\n",
      "N pep under -12 kcal/mol: 000\n",
      "N pep under -11 kcal/mol: 000\n",
      "N pep under -10 kcal/mol: 000\n",
      "N pep under -9 kcal/mol: 000\n",
      "N pep under -8 kcal/mol: 022\n",
      "N pep under -7 kcal/mol: 120\n",
      "N pep under -6 kcal/mol: 149\n",
      "N pep under -5 kcal/mol: 150\n",
      "Non binding pep        : 000\n",
      "\n",
      "\n",
      "\n",
      "Generation: 1\n",
      "\n",
      "N pep:  246\n",
      "Best peptide: -11.700\n",
      "N pep under -12 kcal/mol: 000\n",
      "N pep under -11 kcal/mol: 001\n",
      "N pep under -10 kcal/mol: 002\n",
      "N pep under -9 kcal/mol: 003\n",
      "N pep under -8 kcal/mol: 025\n",
      "N pep under -7 kcal/mol: 123\n",
      "N pep under -6 kcal/mol: 152\n",
      "N pep under -5 kcal/mol: 153\n",
      "Non binding pep        : 093\n"
     ]
    },
    {
     "data": {
      "image/png": "[encoded data removed]",
      "text/plain": [
       "<Figure size 360x360 with 1 Axes>"
      ]
     },
     "metadata": {
      "needs_background": "light"
     },
     "output_type": "display_data"
    },
    {
     "name": "stdout",
     "output_type": "stream",
     "text": [
      "\n",
      "\n",
      "\n",
      "Generation: 2\n",
      "\n",
      "N pep:  342\n",
      "Best peptide: -11.700\n",
      "N pep under -12 kcal/mol: 000\n",
      "N pep under -11 kcal/mol: 001\n",
      "N pep under -10 kcal/mol: 002\n",
      "N pep under -9 kcal/mol: 005\n",
      "N pep under -8 kcal/mol: 029\n",
      "N pep under -7 kcal/mol: 130\n",
      "N pep under -6 kcal/mol: 160\n",
      "N pep under -5 kcal/mol: 161\n",
      "Non binding pep        : 181\n"
     ]
    },
    {
     "data": {
      "image/png": "[encoded data removed]",
      "text/plain": [
       "<Figure size 360x360 with 1 Axes>"
      ]
     },
     "metadata": {
      "needs_background": "light"
     },
     "output_type": "display_data"
    },
    {
     "name": "stdout",
     "output_type": "stream",
     "text": [
      "\n",
      "\n",
      "\n",
      "Generation: 3\n",
      "\n",
      "N pep:  438\n",
      "Best peptide: -11.700\n",
      "N pep under -12 kcal/mol: 000\n",
      "N pep under -11 kcal/mol: 001\n",
      "N pep under -10 kcal/mol: 003\n",
      "N pep under -9 kcal/mol: 008\n",
      "N pep under -8 kcal/mol: 039\n",
      "N pep under -7 kcal/mol: 145\n",
      "N pep under -6 kcal/mol: 176\n",
      "N pep under -5 kcal/mol: 177\n",
      "Non binding pep        : 261\n"
     ]
    },
    {
     "data": {
      "image/png": "[encoded data removed]",
      "text/plain": [
       "<Figure size 360x360 with 1 Axes>"
      ]
     },
     "metadata": {
      "needs_background": "light"
     },
     "output_type": "display_data"
    },
    {
     "name": "stdout",
     "output_type": "stream",
     "text": [
      "\n",
      "\n",
      "\n",
      "Run: 4\n",
      "Exp dataset size: (150, 4096)\n",
      "\n",
      "\n",
      "\n",
      "Init.\n",
      "N pep:  150\n",
      "Best peptide: -8.199\n",
      "N pep under -12 kcal/mol: 000\n",
      "N pep under -11 kcal/mol: 000\n",
      "N pep under -10 kcal/mol: 000\n",
      "N pep under -9 kcal/mol: 000\n",
      "N pep under -8 kcal/mol: 022\n",
      "N pep under -7 kcal/mol: 120\n",
      "N pep under -6 kcal/mol: 149\n",
      "N pep under -5 kcal/mol: 150\n",
      "Non binding pep        : 000\n",
      "\n",
      "\n",
      "\n",
      "Generation: 1\n",
      "\n",
      "N pep:  246\n",
      "Best peptide: -11.702\n",
      "N pep under -12 kcal/mol: 000\n",
      "N pep under -11 kcal/mol: 001\n",
      "N pep under -10 kcal/mol: 002\n",
      "N pep under -9 kcal/mol: 003\n",
      "N pep under -8 kcal/mol: 025\n",
      "N pep under -7 kcal/mol: 123\n",
      "N pep under -6 kcal/mol: 152\n",
      "N pep under -5 kcal/mol: 153\n",
      "Non binding pep        : 093\n"
     ]
    },
    {
     "data": {
      "image/png": "[encoded data removed]",
      "text/plain": [
       "<Figure size 360x360 with 1 Axes>"
      ]
     },
     "metadata": {
      "needs_background": "light"
     },
     "output_type": "display_data"
    },
    {
     "name": "stdout",
     "output_type": "stream",
     "text": [
      "\n",
      "\n",
      "\n",
      "Generation: 2\n",
      "\n",
      "N pep:  342\n",
      "Best peptide: -11.702\n",
      "N pep under -12 kcal/mol: 000\n",
      "N pep under -11 kcal/mol: 001\n",
      "N pep under -10 kcal/mol: 002\n",
      "N pep under -9 kcal/mol: 003\n",
      "N pep under -8 kcal/mol: 029\n",
      "N pep under -7 kcal/mol: 129\n",
      "N pep under -6 kcal/mol: 159\n",
      "N pep under -5 kcal/mol: 160\n",
      "Non binding pep        : 182\n"
     ]
    },
    {
     "data": {
      "image/png": "[encoded data removed]",
      "text/plain": [
       "<Figure size 360x360 with 1 Axes>"
      ]
     },
     "metadata": {
      "needs_background": "light"
     },
     "output_type": "display_data"
    },
    {
     "name": "stdout",
     "output_type": "stream",
     "text": [
      "\n",
      "\n",
      "\n",
      "Generation: 3\n",
      "\n",
      "N pep:  438\n",
      "Best peptide: -11.702\n",
      "N pep under -12 kcal/mol: 000\n",
      "N pep under -11 kcal/mol: 001\n",
      "N pep under -10 kcal/mol: 002\n",
      "N pep under -9 kcal/mol: 005\n",
      "N pep under -8 kcal/mol: 036\n",
      "N pep under -7 kcal/mol: 139\n",
      "N pep under -6 kcal/mol: 171\n",
      "N pep under -5 kcal/mol: 172\n",
      "Non binding pep        : 266\n"
     ]
    },
    {
     "data": {
      "image/png": "[encoded data removed]",
      "text/plain": [
       "<Figure size 360x360 with 1 Axes>"
      ]
     },
     "metadata": {
      "needs_background": "light"
     },
     "output_type": "display_data"
    },
    {
     "name": "stdout",
     "output_type": "stream",
     "text": [
      "\n",
      "\n",
      "\n",
      "Run: 5\n",
      "Exp dataset size: (150, 4096)\n",
      "\n",
      "\n",
      "\n",
      "Init.\n",
      "N pep:  150\n",
      "Best peptide: -8.199\n",
      "N pep under -12 kcal/mol: 000\n",
      "N pep under -11 kcal/mol: 000\n",
      "N pep under -10 kcal/mol: 000\n",
      "N pep under -9 kcal/mol: 000\n",
      "N pep under -8 kcal/mol: 022\n",
      "N pep under -7 kcal/mol: 120\n",
      "N pep under -6 kcal/mol: 149\n",
      "N pep under -5 kcal/mol: 150\n",
      "Non binding pep        : 000\n",
      "\n",
      "\n",
      "\n",
      "Generation: 1\n",
      "\n",
      "N pep:  246\n",
      "Best peptide: -9.907\n",
      "N pep under -12 kcal/mol: 000\n",
      "N pep under -11 kcal/mol: 000\n",
      "N pep under -10 kcal/mol: 000\n",
      "N pep under -9 kcal/mol: 001\n",
      "N pep under -8 kcal/mol: 024\n",
      "N pep under -7 kcal/mol: 122\n",
      "N pep under -6 kcal/mol: 151\n",
      "N pep under -5 kcal/mol: 152\n",
      "Non binding pep        : 094\n"
     ]
    },
    {
     "data": {
      "image/png": "[encoded data removed]",
      "text/plain": [
       "<Figure size 360x360 with 1 Axes>"
      ]
     },
     "metadata": {
      "needs_background": "light"
     },
     "output_type": "display_data"
    },
    {
     "name": "stdout",
     "output_type": "stream",
     "text": [
      "\n",
      "\n",
      "\n",
      "Generation: 2\n",
      "\n",
      "N pep:  342\n",
      "Best peptide: -9.907\n",
      "N pep under -12 kcal/mol: 000\n",
      "N pep under -11 kcal/mol: 000\n",
      "N pep under -10 kcal/mol: 000\n",
      "N pep under -9 kcal/mol: 001\n",
      "N pep under -8 kcal/mol: 027\n",
      "N pep under -7 kcal/mol: 129\n",
      "N pep under -6 kcal/mol: 160\n",
      "N pep under -5 kcal/mol: 161\n",
      "Non binding pep        : 181\n"
     ]
    },
    {
     "data": {
      "image/png": "[encoded data removed]",
      "text/plain": [
       "<Figure size 360x360 with 1 Axes>"
      ]
     },
     "metadata": {
      "needs_background": "light"
     },
     "output_type": "display_data"
    },
    {
     "name": "stdout",
     "output_type": "stream",
     "text": [
      "\n",
      "\n",
      "\n",
      "Generation: 3\n",
      "\n",
      "N pep:  438\n",
      "Best peptide: -9.907\n",
      "N pep under -12 kcal/mol: 000\n",
      "N pep under -11 kcal/mol: 000\n",
      "N pep under -10 kcal/mol: 000\n",
      "N pep under -9 kcal/mol: 004\n",
      "N pep under -8 kcal/mol: 034\n",
      "N pep under -7 kcal/mol: 145\n",
      "N pep under -6 kcal/mol: 177\n",
      "N pep under -5 kcal/mol: 178\n",
      "Non binding pep        : 260\n"
     ]
    },
    {
     "data": {
      "image/png": "[encoded data removed]",
      "text/plain": [
       "<Figure size 360x360 with 1 Axes>"
      ]
     },
     "metadata": {
      "needs_background": "light"
     },
     "output_type": "display_data"
    },
    {
     "name": "stdout",
     "output_type": "stream",
     "text": [
      "\n",
      "\n",
      "\n",
      "Run: 6\n",
      "Exp dataset size: (150, 4096)\n",
      "\n",
      "\n",
      "\n",
      "Init.\n",
      "N pep:  150\n",
      "Best peptide: -8.199\n",
      "N pep under -12 kcal/mol: 000\n",
      "N pep under -11 kcal/mol: 000\n",
      "N pep under -10 kcal/mol: 000\n",
      "N pep under -9 kcal/mol: 000\n",
      "N pep under -8 kcal/mol: 022\n",
      "N pep under -7 kcal/mol: 120\n",
      "N pep under -6 kcal/mol: 149\n",
      "N pep under -5 kcal/mol: 150\n",
      "Non binding pep        : 000\n",
      "\n",
      "\n",
      "\n",
      "Generation: 1\n",
      "\n",
      "N pep:  246\n",
      "Best peptide: -10.026\n",
      "N pep under -12 kcal/mol: 000\n",
      "N pep under -11 kcal/mol: 000\n",
      "N pep under -10 kcal/mol: 001\n",
      "N pep under -9 kcal/mol: 002\n",
      "N pep under -8 kcal/mol: 026\n",
      "N pep under -7 kcal/mol: 124\n",
      "N pep under -6 kcal/mol: 153\n",
      "N pep under -5 kcal/mol: 154\n",
      "Non binding pep        : 092\n"
     ]
    },
    {
     "data": {
      "image/png": "[encoded data removed]",
      "text/plain": [
       "<Figure size 360x360 with 1 Axes>"
      ]
     },
     "metadata": {
      "needs_background": "light"
     },
     "output_type": "display_data"
    },
    {
     "name": "stdout",
     "output_type": "stream",
     "text": [
      "\n",
      "\n",
      "\n",
      "Generation: 2\n",
      "\n",
      "N pep:  342\n",
      "Best peptide: -10.026\n",
      "N pep under -12 kcal/mol: 000\n",
      "N pep under -11 kcal/mol: 000\n",
      "N pep under -10 kcal/mol: 001\n",
      "N pep under -9 kcal/mol: 004\n",
      "N pep under -8 kcal/mol: 030\n",
      "N pep under -7 kcal/mol: 129\n",
      "N pep under -6 kcal/mol: 159\n",
      "N pep under -5 kcal/mol: 160\n",
      "Non binding pep        : 182\n"
     ]
    },
    {
     "data": {
      "image/png": "[encoded data removed]",
      "text/plain": [
       "<Figure size 360x360 with 1 Axes>"
      ]
     },
     "metadata": {
      "needs_background": "light"
     },
     "output_type": "display_data"
    },
    {
     "name": "stdout",
     "output_type": "stream",
     "text": [
      "\n",
      "\n",
      "\n",
      "Generation: 3\n",
      "\n",
      "N pep:  438\n",
      "Best peptide: -10.026\n",
      "N pep under -12 kcal/mol: 000\n",
      "N pep under -11 kcal/mol: 000\n",
      "N pep under -10 kcal/mol: 001\n",
      "N pep under -9 kcal/mol: 004\n",
      "N pep under -8 kcal/mol: 033\n",
      "N pep under -7 kcal/mol: 133\n",
      "N pep under -6 kcal/mol: 163\n",
      "N pep under -5 kcal/mol: 164\n",
      "Non binding pep        : 274\n"
     ]
    },
    {
     "data": {
      "image/png": "[encoded data removed]",
      "text/plain": [
       "<Figure size 360x360 with 1 Axes>"
      ]
     },
     "metadata": {
      "needs_background": "light"
     },
     "output_type": "display_data"
    },
    {
     "name": "stdout",
     "output_type": "stream",
     "text": [
      "\n",
      "\n",
      "\n",
      "Run: 7\n",
      "Exp dataset size: (150, 4096)\n",
      "\n",
      "\n",
      "\n",
      "Init.\n",
      "N pep:  150\n",
      "Best peptide: -8.199\n",
      "N pep under -12 kcal/mol: 000\n",
      "N pep under -11 kcal/mol: 000\n",
      "N pep under -10 kcal/mol: 000\n",
      "N pep under -9 kcal/mol: 000\n",
      "N pep under -8 kcal/mol: 022\n",
      "N pep under -7 kcal/mol: 120\n",
      "N pep under -6 kcal/mol: 149\n",
      "N pep under -5 kcal/mol: 150\n",
      "Non binding pep        : 000\n",
      "\n",
      "\n",
      "\n",
      "Generation: 1\n",
      "\n",
      "N pep:  246\n",
      "Best peptide: -9.489\n",
      "N pep under -12 kcal/mol: 000\n",
      "N pep under -11 kcal/mol: 000\n",
      "N pep under -10 kcal/mol: 000\n",
      "N pep under -9 kcal/mol: 001\n",
      "N pep under -8 kcal/mol: 023\n",
      "N pep under -7 kcal/mol: 121\n",
      "N pep under -6 kcal/mol: 150\n",
      "N pep under -5 kcal/mol: 151\n",
      "Non binding pep        : 095\n"
     ]
    },
    {
     "data": {
      "image/png": "[encoded data removed]",
      "text/plain": [
       "<Figure size 360x360 with 1 Axes>"
      ]
     },
     "metadata": {
      "needs_background": "light"
     },
     "output_type": "display_data"
    },
    {
     "name": "stdout",
     "output_type": "stream",
     "text": [
      "\n",
      "\n",
      "\n",
      "Generation: 2\n",
      "\n",
      "N pep:  342\n",
      "Best peptide: -9.654\n",
      "N pep under -12 kcal/mol: 000\n",
      "N pep under -11 kcal/mol: 000\n",
      "N pep under -10 kcal/mol: 000\n",
      "N pep under -9 kcal/mol: 003\n",
      "N pep under -8 kcal/mol: 025\n",
      "N pep under -7 kcal/mol: 129\n",
      "N pep under -6 kcal/mol: 161\n",
      "N pep under -5 kcal/mol: 162\n",
      "Non binding pep        : 180\n"
     ]
    },
    {
     "data": {
      "image/png": "[encoded data removed]",
      "text/plain": [
       "<Figure size 360x360 with 1 Axes>"
      ]
     },
     "metadata": {
      "needs_background": "light"
     },
     "output_type": "display_data"
    },
    {
     "name": "stdout",
     "output_type": "stream",
     "text": [
      "\n",
      "\n",
      "\n",
      "Generation: 3\n",
      "\n",
      "N pep:  438\n",
      "Best peptide: -9.654\n",
      "N pep under -12 kcal/mol: 000\n",
      "N pep under -11 kcal/mol: 000\n",
      "N pep under -10 kcal/mol: 000\n",
      "N pep under -9 kcal/mol: 005\n",
      "N pep under -8 kcal/mol: 032\n",
      "N pep under -7 kcal/mol: 139\n",
      "N pep under -6 kcal/mol: 173\n",
      "N pep under -5 kcal/mol: 174\n",
      "Non binding pep        : 264\n"
     ]
    },
    {
     "data": {
      "image/png": "[encoded data removed]",
      "text/plain": [
       "<Figure size 360x360 with 1 Axes>"
      ]
     },
     "metadata": {
      "needs_background": "light"
     },
     "output_type": "display_data"
    },
    {
     "name": "stdout",
     "output_type": "stream",
     "text": [
      "\n",
      "\n",
      "\n",
      "Run: 8\n",
      "Exp dataset size: (150, 4096)\n",
      "\n",
      "\n",
      "\n",
      "Init.\n",
      "N pep:  150\n",
      "Best peptide: -8.199\n",
      "N pep under -12 kcal/mol: 000\n",
      "N pep under -11 kcal/mol: 000\n",
      "N pep under -10 kcal/mol: 000\n",
      "N pep under -9 kcal/mol: 000\n",
      "N pep under -8 kcal/mol: 022\n",
      "N pep under -7 kcal/mol: 120\n",
      "N pep under -6 kcal/mol: 149\n",
      "N pep under -5 kcal/mol: 150\n",
      "Non binding pep        : 000\n",
      "\n",
      "\n",
      "\n",
      "Generation: 1\n",
      "\n",
      "N pep:  246\n",
      "Best peptide: -9.761\n",
      "N pep under -12 kcal/mol: 000\n",
      "N pep under -11 kcal/mol: 000\n",
      "N pep under -10 kcal/mol: 000\n",
      "N pep under -9 kcal/mol: 001\n",
      "N pep under -8 kcal/mol: 024\n",
      "N pep under -7 kcal/mol: 122\n",
      "N pep under -6 kcal/mol: 151\n",
      "N pep under -5 kcal/mol: 152\n",
      "Non binding pep        : 094\n"
     ]
    },
    {
     "data": {
      "image/png": "[encoded data removed]",
      "text/plain": [
       "<Figure size 360x360 with 1 Axes>"
      ]
     },
     "metadata": {
      "needs_background": "light"
     },
     "output_type": "display_data"
    },
    {
     "name": "stdout",
     "output_type": "stream",
     "text": [
      "\n",
      "\n",
      "\n",
      "Generation: 2\n",
      "\n",
      "N pep:  342\n",
      "Best peptide: -9.761\n",
      "N pep under -12 kcal/mol: 000\n",
      "N pep under -11 kcal/mol: 000\n",
      "N pep under -10 kcal/mol: 000\n",
      "N pep under -9 kcal/mol: 003\n",
      "N pep under -8 kcal/mol: 028\n",
      "N pep under -7 kcal/mol: 128\n",
      "N pep under -6 kcal/mol: 158\n",
      "N pep under -5 kcal/mol: 159\n",
      "Non binding pep        : 183\n"
     ]
    },
    {
     "data": {
      "image/png": "[encoded data removed]",
      "text/plain": [
       "<Figure size 360x360 with 1 Axes>"
      ]
     },
     "metadata": {
      "needs_background": "light"
     },
     "output_type": "display_data"
    },
    {
     "name": "stdout",
     "output_type": "stream",
     "text": [
      "\n",
      "\n",
      "\n",
      "Generation: 3\n",
      "\n",
      "N pep:  438\n",
      "Best peptide: -9.761\n",
      "N pep under -12 kcal/mol: 000\n",
      "N pep under -11 kcal/mol: 000\n",
      "N pep under -10 kcal/mol: 000\n",
      "N pep under -9 kcal/mol: 008\n",
      "N pep under -8 kcal/mol: 039\n",
      "N pep under -7 kcal/mol: 150\n",
      "N pep under -6 kcal/mol: 181\n",
      "N pep under -5 kcal/mol: 182\n",
      "Non binding pep        : 256\n"
     ]
    },
    {
     "data": {
      "image/png": "[encoded data removed]",
      "text/plain": [
       "<Figure size 360x360 with 1 Axes>"
      ]
     },
     "metadata": {
      "needs_background": "light"
     },
     "output_type": "display_data"
    },
    {
     "name": "stdout",
     "output_type": "stream",
     "text": [
      "\n",
      "\n",
      "\n",
      "Run: 9\n",
      "Exp dataset size: (150, 4096)\n",
      "\n",
      "\n",
      "\n",
      "Init.\n",
      "N pep:  150\n",
      "Best peptide: -8.199\n",
      "N pep under -12 kcal/mol: 000\n",
      "N pep under -11 kcal/mol: 000\n",
      "N pep under -10 kcal/mol: 000\n",
      "N pep under -9 kcal/mol: 000\n",
      "N pep under -8 kcal/mol: 022\n",
      "N pep under -7 kcal/mol: 120\n",
      "N pep under -6 kcal/mol: 149\n",
      "N pep under -5 kcal/mol: 150\n",
      "Non binding pep        : 000\n",
      "\n",
      "\n",
      "\n",
      "Generation: 1\n",
      "\n",
      "N pep:  246\n",
      "Best peptide: -10.734\n",
      "N pep under -12 kcal/mol: 000\n",
      "N pep under -11 kcal/mol: 000\n",
      "N pep under -10 kcal/mol: 001\n",
      "N pep under -9 kcal/mol: 001\n",
      "N pep under -8 kcal/mol: 023\n",
      "N pep under -7 kcal/mol: 121\n",
      "N pep under -6 kcal/mol: 150\n",
      "N pep under -5 kcal/mol: 151\n",
      "Non binding pep        : 095\n"
     ]
    },
    {
     "data": {
      "image/png": "[encoded data removed]",
      "text/plain": [
       "<Figure size 360x360 with 1 Axes>"
      ]
     },
     "metadata": {
      "needs_background": "light"
     },
     "output_type": "display_data"
    },
    {
     "name": "stdout",
     "output_type": "stream",
     "text": [
      "\n",
      "\n",
      "\n",
      "Generation: 2\n",
      "\n",
      "N pep:  342\n",
      "Best peptide: -10.734\n",
      "N pep under -12 kcal/mol: 000\n",
      "N pep under -11 kcal/mol: 000\n",
      "N pep under -10 kcal/mol: 001\n",
      "N pep under -9 kcal/mol: 003\n",
      "N pep under -8 kcal/mol: 032\n",
      "N pep under -7 kcal/mol: 135\n",
      "N pep under -6 kcal/mol: 165\n",
      "N pep under -5 kcal/mol: 166\n",
      "Non binding pep        : 176\n"
     ]
    },
    {
     "data": {
      "image/png": "[encoded data removed]",
      "text/plain": [
       "<Figure size 360x360 with 1 Axes>"
      ]
     },
     "metadata": {
      "needs_background": "light"
     },
     "output_type": "display_data"
    },
    {
     "name": "stdout",
     "output_type": "stream",
     "text": [
      "\n",
      "\n",
      "\n",
      "Generation: 3\n",
      "\n",
      "N pep:  438\n",
      "Best peptide: -10.734\n",
      "N pep under -12 kcal/mol: 000\n",
      "N pep under -11 kcal/mol: 000\n",
      "N pep under -10 kcal/mol: 003\n",
      "N pep under -9 kcal/mol: 006\n",
      "N pep under -8 kcal/mol: 042\n",
      "N pep under -7 kcal/mol: 147\n",
      "N pep under -6 kcal/mol: 177\n",
      "N pep under -5 kcal/mol: 178\n",
      "Non binding pep        : 260\n"
     ]
    },
    {
     "data": {
      "image/png": "[encoded data removed]",
      "text/plain": [
       "<Figure size 360x360 with 1 Axes>"
      ]
     },
     "metadata": {
      "needs_background": "light"
     },
     "output_type": "display_data"
    },
    {
     "name": "stdout",
     "output_type": "stream",
     "text": [
      "\n",
      "\n",
      "\n",
      "Run: 10\n",
      "Exp dataset size: (150, 4096)\n",
      "\n",
      "\n",
      "\n",
      "Init.\n",
      "N pep:  150\n",
      "Best peptide: -8.199\n",
      "N pep under -12 kcal/mol: 000\n",
      "N pep under -11 kcal/mol: 000\n",
      "N pep under -10 kcal/mol: 000\n",
      "N pep under -9 kcal/mol: 000\n",
      "N pep under -8 kcal/mol: 022\n",
      "N pep under -7 kcal/mol: 120\n",
      "N pep under -6 kcal/mol: 149\n",
      "N pep under -5 kcal/mol: 150\n",
      "Non binding pep        : 000\n",
      "\n",
      "\n",
      "\n",
      "Generation: 1\n",
      "\n",
      "N pep:  246\n",
      "Best peptide: -10.495\n",
      "N pep under -12 kcal/mol: 000\n",
      "N pep under -11 kcal/mol: 000\n",
      "N pep under -10 kcal/mol: 001\n",
      "N pep under -9 kcal/mol: 001\n",
      "N pep under -8 kcal/mol: 023\n",
      "N pep under -7 kcal/mol: 121\n",
      "N pep under -6 kcal/mol: 150\n",
      "N pep under -5 kcal/mol: 151\n",
      "Non binding pep        : 095\n"
     ]
    },
    {
     "data": {
      "image/png": "[encoded data removed]",
      "text/plain": [
       "<Figure size 360x360 with 1 Axes>"
      ]
     },
     "metadata": {
      "needs_background": "light"
     },
     "output_type": "display_data"
    },
    {
     "name": "stdout",
     "output_type": "stream",
     "text": [
      "\n",
      "\n",
      "\n",
      "Generation: 2\n",
      "\n",
      "N pep:  342\n",
      "Best peptide: -10.495\n",
      "N pep under -12 kcal/mol: 000\n",
      "N pep under -11 kcal/mol: 000\n",
      "N pep under -10 kcal/mol: 001\n",
      "N pep under -9 kcal/mol: 002\n",
      "N pep under -8 kcal/mol: 027\n",
      "N pep under -7 kcal/mol: 127\n",
      "N pep under -6 kcal/mol: 156\n",
      "N pep under -5 kcal/mol: 157\n",
      "Non binding pep        : 185\n"
     ]
    },
    {
     "data": {
      "image/png": "[encoded data removed]",
      "text/plain": [
       "<Figure size 360x360 with 1 Axes>"
      ]
     },
     "metadata": {
      "needs_background": "light"
     },
     "output_type": "display_data"
    },
    {
     "name": "stdout",
     "output_type": "stream",
     "text": [
      "\n",
      "\n",
      "\n",
      "Generation: 3\n",
      "\n",
      "N pep:  438\n",
      "Best peptide: -10.495\n",
      "N pep under -12 kcal/mol: 000\n",
      "N pep under -11 kcal/mol: 000\n",
      "N pep under -10 kcal/mol: 001\n",
      "N pep under -9 kcal/mol: 005\n",
      "N pep under -8 kcal/mol: 033\n",
      "N pep under -7 kcal/mol: 140\n",
      "N pep under -6 kcal/mol: 170\n",
      "N pep under -5 kcal/mol: 171\n",
      "Non binding pep        : 267\n"
     ]
    },
    {
     "data": {
      "image/png": "[encoded data removed]",
      "text/plain": [
       "<Figure size 360x360 with 1 Axes>"
      ]
     },
     "metadata": {
      "needs_background": "light"
     },
     "output_type": "display_data"
    },
    {
     "name": "stdout",
     "output_type": "stream",
     "text": [
      "\n",
      "\n",
      "\n"
     ]
    }
   ],
   "source": [
    "random_candidate_fps = []\n",
    "random_candidate_y = []\n",
    "\n",
    "for i in range(10):\n",
    "    print('Run: %s' % (i + 1))\n",
    "    \n",
    "    # Compute the MAP4 fingerprint for all the peptides\n",
    "    X_fps_exp = map4_fingerprint(random_peptides)\n",
    "    y_exp = torch.from_numpy(random_peptide_scores).float()\n",
    "    print('Exp dataset size: (%d, %d)' % (X_fps_exp.shape[0], X_fps_exp.shape[1]))\n",
    "    \n",
    "    print('\\n\\n')\n",
    "    \n",
    "    print('Init.')\n",
    "    print('N pep: ', X_fps_exp.shape[0])\n",
    "    print('Best peptide: %.3f' % y_exp.min())\n",
    "    for n in [-12, -11, -10, -9, -8, -7, -6, -5]:\n",
    "        print('N pep under %d kcal/mol: %03d' % (n, y_exp[y_exp < n].shape[0]))\n",
    "    print('Non binding pep        : %03d' % (y_exp[y_exp == 0.].shape[0]))\n",
    "\n",
    "    print('\\n\\n')\n",
    "\n",
    "    for j in range(3):\n",
    "        print('Generation: %d' % (j + 1))\n",
    "        # Train GP model\n",
    "        model = get_fitted_model(X_fps_exp, y_exp, kernel=TanimotoSimilarityKernel)\n",
    "\n",
    "        # Find new candidates\n",
    "        #acq = AcqScoring(model, probability_of_improvement, y_exp)\n",
    "        acq = AcqScoring(model, expected_improvement, y_exp)\n",
    "        candidate_sequences, candidates_acq = find_next_candidates_by_random(acq, greater_is_better=False)\n",
    "\n",
    "        # Add candidates to the training set\n",
    "        candidate_fps = map4_fingerprint(candidate_sequences)\n",
    "        y_candidates = torch.from_numpy(np.array(predict_peptide_affinity_binding(candidate_sequences, pssm, reg)))\n",
    "\n",
    "        X_fps_exp = torch.cat([X_fps_exp, candidate_fps])\n",
    "        y_exp = torch.cat([y_exp, y_candidates])\n",
    "\n",
    "        print('')\n",
    "        print('N pep: ', X_fps_exp.shape[0])\n",
    "        print('Best peptide: %.3f' % y_exp.min())\n",
    "        for n in [-12, -11, -10, -9, -8,  -7, -6, -5]:\n",
    "            print('N pep under %d kcal/mol: %03d' % (n, y_exp[y_exp < n].shape[0]))\n",
    "        print('Non binding pep        : %03d' % (y_exp[y_exp == 0.].shape[0]))\n",
    "\n",
    "        fig, ax = plt.subplots(figsize=(5, 5))\n",
    "        ax.scatter(candidates_acq, y_candidates.numpy())\n",
    "        plt.show()\n",
    "\n",
    "        print('\\n\\n')\n",
    "    \n",
    "    \n",
    "    random_candidate_fps.append(X_fps_exp.detach().numpy())\n",
    "    random_candidate_y.append(y_exp.detach().numpy())\n",
    "\n",
    "\n",
    "random_candidate_fps = np.array(random_candidate_fps)\n",
    "random_candidate_y = np.array(random_candidate_y)"
   ]
  },
  {
   "cell_type": "markdown",
   "id": "09893c19",
   "metadata": {},
   "source": [
    "### Candidate peptides sampling with custom GA"
   ]
  },
  {
   "cell_type": "code",
   "execution_count": 44,
   "id": "5d8baf03",
   "metadata": {},
   "outputs": [],
   "source": [
    "def parse_helm(helm_string):\n",
    "    dtype = [('SourcePolymerID', 'U20'), ('TargetPolymerID', 'U20'),\n",
    "             ('SourceMonomerPosition', 'i4'), ('SourceAttachment', 'U2'),\n",
    "             ('TargetMonomerPosition', 'i4'), ('TargetAttachment', 'U2')]\n",
    "    \n",
    "    polymers, connections, hydrogen_bonds, attributes, _ = helm_string.split('$')\n",
    "    \n",
    "    # Process sequences\n",
    "    data = {}\n",
    "    for polymer in polymers.split('|'):\n",
    "        pid = polymer.split('{')[0]\n",
    "        sequence = polymer[len(pid) + 1:-1].replace('.', '')\n",
    "        data[pid] = sequence\n",
    "        \n",
    "    polymers = data\n",
    "        \n",
    "    # Process connections\n",
    "    data = []\n",
    "    if connections:\n",
    "        for connection in connections.split('|'):\n",
    "            source_id, target_id, con = connection.split(',')\n",
    "            source_position, source_attachment = con.split('-')[0].split(':')\n",
    "            target_position, target_attachment = con.split('-')[1].split(':')\n",
    "            data.append((source_id, target_id,\n",
    "                         source_position, source_attachment,\n",
    "                         target_position, target_attachment))\n",
    "        \n",
    "    connections = np.array(data, dtype=dtype)\n",
    "    \n",
    "    return polymers, connections, hydrogen_bonds, attributes\n",
    "\n",
    "\n",
    "def build_helm_string(polymers, connections):\n",
    "    sequences_str = '|'.join(['%s{%s}' % (p, '.'.join(s)) for p, s in polymers.items()])\n",
    "    if len(connections) > 0:\n",
    "        connections_str = '|'.join(['%s,%s,%d:%s-%d:%s' % (c[0], c[1], c[2], c[3], c[4], c[5]) for c in connections])\n",
    "    else:\n",
    "        connections_str = ''\n",
    "    helm_string = '%s$%s$$$V2.0' % (sequences_str, connections_str)\n",
    "    \n",
    "    return helm_string\n",
    "\n",
    "\n",
    "class HELMGeneticOperators:\n",
    "    \n",
    "    def __init__(self, monomer_library, probability_matrix=None, seed=None):\n",
    "        self._monomer_library = monomer_library\n",
    "        self._monomer_symbols = [m['symbol'] for m in self._monomer_library]\n",
    "        self._probability_matrix = probability_matrix\n",
    "        \n",
    "        self._random_seed = seed\n",
    "        self._rng = np.random.default_rng(self._random_seed)\n",
    "\n",
    "    def mutate(self, helm_string, n=10, minimum_mutations=1, maximum_mutations=None, keep_connections=True):\n",
    "        mutant_helm_strings = []\n",
    "        \n",
    "        polymers, connections, _, _ = parse_helm(helm_string)\n",
    "        \n",
    "        # Generate mutants...\n",
    "        for i in range(n):\n",
    "            mutant_polymers = {}\n",
    "            n_mutations = 0\n",
    "            \n",
    "            for pid, sequence in polymers.items():\n",
    "                mutated_sequence = list(sequence)\n",
    "                \n",
    "                # Residues involved in a connection within and between peptides won't be mutated\n",
    "                if keep_connections and pid in polymers.keys():\n",
    "                    connection_resids = list(connections[connections['SourcePolymerID'] == pid]['SourceMonomerPosition'])\n",
    "                    connection_resids += list(connections[connections['TargetPolymerID'] == pid]['TargetMonomerPosition'])\n",
    "                    # Because positions are 1-based in HELM\n",
    "                    connection_resids = np.array(connection_resids) - 1\n",
    "                    \n",
    "                    possible_positions = list(set(range(len(sequence))).difference(connection_resids))\n",
    "                else:\n",
    "                    possible_positions = list(range(len(sequence)))\n",
    "                \n",
    "                # Choose a random number of mutations between min and max\n",
    "                if minimum_mutations == maximum_mutations:\n",
    "                    number_mutations = maximum_mutations\n",
    "                elif maximum_mutations is None:\n",
    "                    number_mutations = self._rng.integers(low=minimum_mutations, high=len(sequence))\n",
    "                else:\n",
    "                    number_mutations = self._rng.integers(low=minimum_mutations, high=maximum_mutations)\n",
    "                \n",
    "                # Choose positions to mutate\n",
    "                mutation_positions = self._rng.choice(possible_positions, size=number_mutations, replace=False)\n",
    "                \n",
    "                # Do mutations\n",
    "                for mutation_position in mutation_positions:                    \n",
    "                    monomer_symbol = mutated_sequence[mutation_position]\n",
    "                    \n",
    "                    # Force mutation!\n",
    "                    while monomer_symbol == mutated_sequence[mutation_position]:\n",
    "                        # Instead of mutating to random monomer, the selection will be\n",
    "                        # based on the probability matrix\n",
    "                        if self._probability_matrix is not None:\n",
    "                            index_symbol = self._monomer_symbols.index(monomer_symbol)\n",
    "                            p = probability_matrix[index_symbol]\n",
    "                        else:\n",
    "                            p = None\n",
    "                        \n",
    "                        chosen_monomer = self._rng.choice(self._monomer_symbols, p=p)\n",
    "                        mutated_sequence[mutation_position] = chosen_monomer\n",
    "                \n",
    "                mutant_polymers[pid] = (mutated_sequence, mutation_positions)\n",
    "                n_mutations += len(mutation_positions)\n",
    "            \n",
    "            if n_mutations > 0:\n",
    "                if not keep_connections:\n",
    "                    connections_to_keep = []\n",
    "\n",
    "                    # Check if we have to remove connections due to the mutations\n",
    "                    for i, connection in enumerate(connections):\n",
    "                        # The connection positions must not be in the mutation lists\n",
    "                        # mutant_polymers[connection['XXXXXPolymerID']][1] + 1 because positions are 1-based in HELM\n",
    "                        if connection['SourceMonomerPosition'] not in mutant_polymers[connection['SourcePolymerID']][1] + 1 and \\\n",
    "                           connection['TargetMonomerPosition'] not in mutant_polymers[connection['TargetPolymerID']][1] + 1:\n",
    "                            connections_to_keep.append(i)\n",
    "                else:\n",
    "                    connections_to_keep = list(range(connections.shape[0]))\n",
    "\n",
    "                # Reconstruct the HELM string\n",
    "                mutant_helm_string = build_helm_string({p: s[0] for p, s in mutant_polymers.items()}, connections[connections_to_keep])\n",
    "                mutant_helm_strings.append(mutant_helm_string)\n",
    "            else:\n",
    "                mutant_helm_strings.append(helm_string)\n",
    "        \n",
    "        return mutant_helm_strings\n",
    "            "
   ]
  },
  {
   "cell_type": "code",
   "execution_count": 45,
   "id": "3c213835",
   "metadata": {},
   "outputs": [],
   "source": [
    "def find_next_candidates_with_custom_GA(scorer, best_peptide, monomer_lib, probability_matrix, greater_is_better=True):\n",
    "    NGEN = 10\n",
    "    NIND = 250\n",
    "    NBEST = 50\n",
    "    NLEN = 9\n",
    "    NCAN = 96\n",
    "    \n",
    "    polymers = {'PEPTIDE1': best_peptide}\n",
    "    helm_string = build_helm_string(polymers, [])\n",
    "    m = HELMGeneticOperators(monomer_lib, probability_matrix=probability_matrix)\n",
    "    \n",
    "    all_sequences = []\n",
    "    all_sequence_acqs = []\n",
    "    \n",
    "    for i in range(NGEN):\n",
    "        sequences = m.mutate(helm_string, n=NIND, minimum_mutations=1, maximum_mutations=2)\n",
    "        sequence_acqs = scorer.evaluate(sequences)\n",
    "        \n",
    "        # Take the best peptide\n",
    "        if greater_is_better:\n",
    "            seq_idx = np.argmax(np.ravel(sequence_acqs))\n",
    "        else:\n",
    "            seq_idx = np.argmin(np.ravel(sequence_acqs))\n",
    "            \n",
    "        helm_string = sequences[seq_idx]\n",
    "        \n",
    "        all_sequences.extend(sequences)\n",
    "        all_sequence_acqs.extend(np.ravel(sequence_acqs))\n",
    "        \n",
    "    # Remove duplicates\n",
    "    all_sequences, indices = np.unique(all_sequences, return_index=True)\n",
    "    all_sequence_acqs = np.array(all_sequence_acqs)[indices]\n",
    "        \n",
    "    if greater_is_better:\n",
    "        sorted_peptide_indices = np.argsort(all_sequence_acqs)[::-1]\n",
    "    else:\n",
    "        sorted_peptide_indices = np.argsort(all_sequence_acqs)\n",
    "    \n",
    "    # Select candidates\n",
    "    candidates = all_sequences[sorted_peptide_indices[:NCAN]]\n",
    "    candidate_acqs = all_sequence_acqs[sorted_peptide_indices[:NCAN]]\n",
    "    \n",
    "    # Convert HELM to FASTA\n",
    "    candidates = [''.join(c.split('$')[0].split('{')[1].split('}')[0].split('.')) for c in candidates]\n",
    "                        \n",
    "    return candidates, candidate_acqs"
   ]
  },
  {
   "cell_type": "code",
   "execution_count": 46,
   "id": "41974497",
   "metadata": {},
   "outputs": [],
   "source": [
    "with open('HELMCoreLibrary.json') as f:\n",
    "    monomer_lib = json.load(f)\n",
    "\n",
    "monomer_peptide_lib = [x for x in monomer_lib if x['polymerType'] == 'PEPTIDE']\n",
    "AA1 = [\"A\", \"R\", \"N\", \"D\", \"C\", \"E\", \"Q\", \"G\", \"H\", \"I\", \"L\", \"K\", \"M\", \"F\", \"P\", \"S\", \"T\", \"W\", \"Y\", \"V\"]\n",
    "monomer_aa1_lib = [x for x in monomer_peptide_lib if x['symbol'] in AA1]\n",
    "\n",
    "smiles = [monomer['smiles'] for monomer in monomer_aa1_lib]\n",
    "fps = map4_fingerprint(smiles,input_type='smiles', radius=2)\n",
    "t = TanimotoSimilarityKernel()\n",
    "similarity_matrix = t.forward(fps, fps).numpy()\n",
    "\n",
    "probability_matrix = []\n",
    "\n",
    "for aa in similarity_matrix:\n",
    "    tmp = aa.copy()\n",
    "    tmp[tmp == 1.0] = 0\n",
    "    probability_matrix.append(tmp / np.sum(tmp))\n",
    "    \n",
    "probability_matrix = np.array(probability_matrix)"
   ]
  },
  {
   "cell_type": "code",
   "execution_count": 47,
   "id": "0017f881",
   "metadata": {
    "scrolled": true
   },
   "outputs": [
    {
     "name": "stdout",
     "output_type": "stream",
     "text": [
      "Run: 1\n",
      "Exp dataset size: (150, 4096)\n",
      "\n",
      "\n",
      "\n",
      "Init.\n",
      "N pep:  150\n",
      "Best peptide: -8.199\n",
      "N pep under -12 kcal/mol: 000\n",
      "N pep under -11 kcal/mol: 000\n",
      "N pep under -10 kcal/mol: 000\n",
      "N pep under -9 kcal/mol: 000\n",
      "N pep under -8 kcal/mol: 022\n",
      "N pep under -7 kcal/mol: 120\n",
      "N pep under -6 kcal/mol: 149\n",
      "N pep under -5 kcal/mol: 150\n",
      "Non binding pep        : 000\n",
      "\n",
      "\n",
      "\n",
      "Generation: 1\n",
      "\n",
      "N pep:  246\n",
      "Best peptide: -10.208\n",
      "N pep under -12 kcal/mol: 000\n",
      "N pep under -11 kcal/mol: 000\n",
      "N pep under -10 kcal/mol: 005\n",
      "N pep under -9 kcal/mol: 015\n",
      "N pep under -8 kcal/mol: 046\n",
      "N pep under -7 kcal/mol: 144\n",
      "N pep under -6 kcal/mol: 173\n",
      "N pep under -5 kcal/mol: 174\n",
      "Non binding pep        : 072\n"
     ]
    },
    {
     "data": {
      "image/png": "[encoded data removed]",
      "text/plain": [
       "<Figure size 360x360 with 1 Axes>"
      ]
     },
     "metadata": {
      "needs_background": "light"
     },
     "output_type": "display_data"
    },
    {
     "name": "stdout",
     "output_type": "stream",
     "text": [
      "\n",
      "\n",
      "\n",
      "Generation: 2\n",
      "\n",
      "N pep:  342\n",
      "Best peptide: -10.208\n",
      "N pep under -12 kcal/mol: 000\n",
      "N pep under -11 kcal/mol: 000\n",
      "N pep under -10 kcal/mol: 005\n",
      "N pep under -9 kcal/mol: 015\n",
      "N pep under -8 kcal/mol: 046\n",
      "N pep under -7 kcal/mol: 144\n",
      "N pep under -6 kcal/mol: 173\n",
      "N pep under -5 kcal/mol: 174\n",
      "Non binding pep        : 168\n"
     ]
    },
    {
     "data": {
      "image/png": "[encoded data removed]",
      "text/plain": [
       "<Figure size 360x360 with 1 Axes>"
      ]
     },
     "metadata": {
      "needs_background": "light"
     },
     "output_type": "display_data"
    },
    {
     "name": "stdout",
     "output_type": "stream",
     "text": [
      "\n",
      "\n",
      "\n",
      "Generation: 3\n",
      "\n",
      "N pep:  438\n",
      "Best peptide: -10.208\n",
      "N pep under -12 kcal/mol: 000\n",
      "N pep under -11 kcal/mol: 000\n",
      "N pep under -10 kcal/mol: 005\n",
      "N pep under -9 kcal/mol: 015\n",
      "N pep under -8 kcal/mol: 046\n",
      "N pep under -7 kcal/mol: 144\n",
      "N pep under -6 kcal/mol: 173\n",
      "N pep under -5 kcal/mol: 174\n",
      "Non binding pep        : 264\n"
     ]
    },
    {
     "data": {
      "image/png": "[encoded data removed]",
      "text/plain": [
       "<Figure size 360x360 with 1 Axes>"
      ]
     },
     "metadata": {
      "needs_background": "light"
     },
     "output_type": "display_data"
    },
    {
     "name": "stdout",
     "output_type": "stream",
     "text": [
      "\n",
      "\n",
      "\n",
      "Run: 2\n",
      "Exp dataset size: (150, 4096)\n",
      "\n",
      "\n",
      "\n",
      "Init.\n",
      "N pep:  150\n",
      "Best peptide: -8.199\n",
      "N pep under -12 kcal/mol: 000\n",
      "N pep under -11 kcal/mol: 000\n",
      "N pep under -10 kcal/mol: 000\n",
      "N pep under -9 kcal/mol: 000\n",
      "N pep under -8 kcal/mol: 022\n",
      "N pep under -7 kcal/mol: 120\n",
      "N pep under -6 kcal/mol: 149\n",
      "N pep under -5 kcal/mol: 150\n",
      "Non binding pep        : 000\n",
      "\n",
      "\n",
      "\n",
      "Generation: 1\n",
      "\n",
      "N pep:  246\n",
      "Best peptide: -10.402\n",
      "N pep under -12 kcal/mol: 000\n",
      "N pep under -11 kcal/mol: 000\n",
      "N pep under -10 kcal/mol: 002\n",
      "N pep under -9 kcal/mol: 033\n",
      "N pep under -8 kcal/mol: 079\n",
      "N pep under -7 kcal/mol: 177\n",
      "N pep under -6 kcal/mol: 206\n",
      "N pep under -5 kcal/mol: 207\n",
      "Non binding pep        : 039\n"
     ]
    },
    {
     "data": {
      "image/png": "[encoded data removed]",
      "text/plain": [
       "<Figure size 360x360 with 1 Axes>"
      ]
     },
     "metadata": {
      "needs_background": "light"
     },
     "output_type": "display_data"
    },
    {
     "name": "stdout",
     "output_type": "stream",
     "text": [
      "\n",
      "\n",
      "\n",
      "Generation: 2\n",
      "\n",
      "N pep:  342\n",
      "Best peptide: -10.928\n",
      "N pep under -12 kcal/mol: 000\n",
      "N pep under -11 kcal/mol: 000\n",
      "N pep under -10 kcal/mol: 005\n",
      "N pep under -9 kcal/mol: 038\n",
      "N pep under -8 kcal/mol: 084\n",
      "N pep under -7 kcal/mol: 182\n",
      "N pep under -6 kcal/mol: 211\n",
      "N pep under -5 kcal/mol: 212\n",
      "Non binding pep        : 130\n"
     ]
    },
    {
     "data": {
      "image/png": "[encoded data removed]",
      "text/plain": [
       "<Figure size 360x360 with 1 Axes>"
      ]
     },
     "metadata": {
      "needs_background": "light"
     },
     "output_type": "display_data"
    },
    {
     "name": "stdout",
     "output_type": "stream",
     "text": [
      "\n",
      "\n",
      "\n",
      "Generation: 3\n",
      "\n",
      "N pep:  438\n",
      "Best peptide: -10.928\n",
      "N pep under -12 kcal/mol: 000\n",
      "N pep under -11 kcal/mol: 000\n",
      "N pep under -10 kcal/mol: 007\n",
      "N pep under -9 kcal/mol: 059\n",
      "N pep under -8 kcal/mol: 153\n",
      "N pep under -7 kcal/mol: 255\n",
      "N pep under -6 kcal/mol: 284\n",
      "N pep under -5 kcal/mol: 285\n",
      "Non binding pep        : 153\n"
     ]
    },
    {
     "data": {
      "image/png": "[encoded data removed]",
      "text/plain": [
       "<Figure size 360x360 with 1 Axes>"
      ]
     },
     "metadata": {
      "needs_background": "light"
     },
     "output_type": "display_data"
    },
    {
     "name": "stdout",
     "output_type": "stream",
     "text": [
      "\n",
      "\n",
      "\n",
      "Run: 3\n",
      "Exp dataset size: (150, 4096)\n",
      "\n",
      "\n",
      "\n",
      "Init.\n",
      "N pep:  150\n",
      "Best peptide: -8.199\n",
      "N pep under -12 kcal/mol: 000\n",
      "N pep under -11 kcal/mol: 000\n",
      "N pep under -10 kcal/mol: 000\n",
      "N pep under -9 kcal/mol: 000\n",
      "N pep under -8 kcal/mol: 022\n",
      "N pep under -7 kcal/mol: 120\n",
      "N pep under -6 kcal/mol: 149\n",
      "N pep under -5 kcal/mol: 150\n",
      "Non binding pep        : 000\n",
      "\n",
      "\n",
      "\n",
      "Generation: 1\n",
      "\n",
      "N pep:  246\n",
      "Best peptide: -10.723\n",
      "N pep under -12 kcal/mol: 000\n",
      "N pep under -11 kcal/mol: 000\n",
      "N pep under -10 kcal/mol: 006\n",
      "N pep under -9 kcal/mol: 018\n",
      "N pep under -8 kcal/mol: 051\n",
      "N pep under -7 kcal/mol: 149\n",
      "N pep under -6 kcal/mol: 178\n",
      "N pep under -5 kcal/mol: 179\n",
      "Non binding pep        : 067\n"
     ]
    },
    {
     "data": {
      "image/png": "[encoded data removed]",
      "text/plain": [
       "<Figure size 360x360 with 1 Axes>"
      ]
     },
     "metadata": {
      "needs_background": "light"
     },
     "output_type": "display_data"
    },
    {
     "name": "stdout",
     "output_type": "stream",
     "text": [
      "\n",
      "\n",
      "\n",
      "Generation: 2\n",
      "\n",
      "N pep:  342\n",
      "Best peptide: -10.723\n",
      "N pep under -12 kcal/mol: 000\n",
      "N pep under -11 kcal/mol: 000\n",
      "N pep under -10 kcal/mol: 006\n",
      "N pep under -9 kcal/mol: 018\n",
      "N pep under -8 kcal/mol: 051\n",
      "N pep under -7 kcal/mol: 149\n",
      "N pep under -6 kcal/mol: 178\n",
      "N pep under -5 kcal/mol: 179\n",
      "Non binding pep        : 163\n"
     ]
    },
    {
     "data": {
      "image/png": "[encoded data removed]",
      "text/plain": [
       "<Figure size 360x360 with 1 Axes>"
      ]
     },
     "metadata": {
      "needs_background": "light"
     },
     "output_type": "display_data"
    },
    {
     "name": "stdout",
     "output_type": "stream",
     "text": [
      "\n",
      "\n",
      "\n",
      "Generation: 3\n",
      "\n",
      "N pep:  438\n",
      "Best peptide: -10.723\n",
      "N pep under -12 kcal/mol: 000\n",
      "N pep under -11 kcal/mol: 000\n",
      "N pep under -10 kcal/mol: 013\n",
      "N pep under -9 kcal/mol: 081\n",
      "N pep under -8 kcal/mol: 118\n",
      "N pep under -7 kcal/mol: 218\n",
      "N pep under -6 kcal/mol: 247\n",
      "N pep under -5 kcal/mol: 248\n",
      "Non binding pep        : 190\n"
     ]
    },
    {
     "data": {
      "image/png": "[encoded data removed]",
      "text/plain": [
       "<Figure size 360x360 with 1 Axes>"
      ]
     },
     "metadata": {
      "needs_background": "light"
     },
     "output_type": "display_data"
    },
    {
     "name": "stdout",
     "output_type": "stream",
     "text": [
      "\n",
      "\n",
      "\n",
      "Run: 4\n",
      "Exp dataset size: (150, 4096)\n",
      "\n",
      "\n",
      "\n",
      "Init.\n",
      "N pep:  150\n",
      "Best peptide: -8.199\n",
      "N pep under -12 kcal/mol: 000\n",
      "N pep under -11 kcal/mol: 000\n",
      "N pep under -10 kcal/mol: 000\n",
      "N pep under -9 kcal/mol: 000\n",
      "N pep under -8 kcal/mol: 022\n",
      "N pep under -7 kcal/mol: 120\n",
      "N pep under -6 kcal/mol: 149\n",
      "N pep under -5 kcal/mol: 150\n",
      "Non binding pep        : 000\n",
      "\n",
      "\n",
      "\n",
      "Generation: 1\n",
      "\n",
      "N pep:  246\n",
      "Best peptide: -10.208\n",
      "N pep under -12 kcal/mol: 000\n",
      "N pep under -11 kcal/mol: 000\n",
      "N pep under -10 kcal/mol: 005\n",
      "N pep under -9 kcal/mol: 018\n",
      "N pep under -8 kcal/mol: 051\n",
      "N pep under -7 kcal/mol: 149\n",
      "N pep under -6 kcal/mol: 178\n",
      "N pep under -5 kcal/mol: 179\n",
      "Non binding pep        : 067\n"
     ]
    },
    {
     "data": {
      "image/png": "[encoded data removed]",
      "text/plain": [
       "<Figure size 360x360 with 1 Axes>"
      ]
     },
     "metadata": {
      "needs_background": "light"
     },
     "output_type": "display_data"
    },
    {
     "name": "stdout",
     "output_type": "stream",
     "text": [
      "\n",
      "\n",
      "\n",
      "Generation: 2\n",
      "\n",
      "N pep:  342\n",
      "Best peptide: -10.208\n",
      "N pep under -12 kcal/mol: 000\n",
      "N pep under -11 kcal/mol: 000\n",
      "N pep under -10 kcal/mol: 005\n",
      "N pep under -9 kcal/mol: 018\n",
      "N pep under -8 kcal/mol: 051\n",
      "N pep under -7 kcal/mol: 149\n",
      "N pep under -6 kcal/mol: 178\n",
      "N pep under -5 kcal/mol: 179\n",
      "Non binding pep        : 163\n"
     ]
    },
    {
     "data": {
      "image/png": "[encoded data removed]",
      "text/plain": [
       "<Figure size 360x360 with 1 Axes>"
      ]
     },
     "metadata": {
      "needs_background": "light"
     },
     "output_type": "display_data"
    },
    {
     "name": "stdout",
     "output_type": "stream",
     "text": [
      "\n",
      "\n",
      "\n",
      "Generation: 3\n",
      "\n",
      "N pep:  438\n",
      "Best peptide: -10.361\n",
      "N pep under -12 kcal/mol: 000\n",
      "N pep under -11 kcal/mol: 000\n",
      "N pep under -10 kcal/mol: 006\n",
      "N pep under -9 kcal/mol: 023\n",
      "N pep under -8 kcal/mol: 060\n",
      "N pep under -7 kcal/mol: 159\n",
      "N pep under -6 kcal/mol: 188\n",
      "N pep under -5 kcal/mol: 189\n",
      "Non binding pep        : 249\n"
     ]
    },
    {
     "data": {
      "image/png": "[encoded data removed]",
      "text/plain": [
       "<Figure size 360x360 with 1 Axes>"
      ]
     },
     "metadata": {
      "needs_background": "light"
     },
     "output_type": "display_data"
    },
    {
     "name": "stdout",
     "output_type": "stream",
     "text": [
      "\n",
      "\n",
      "\n",
      "Run: 5\n",
      "Exp dataset size: (150, 4096)\n",
      "\n",
      "\n",
      "\n",
      "Init.\n",
      "N pep:  150\n",
      "Best peptide: -8.199\n",
      "N pep under -12 kcal/mol: 000\n",
      "N pep under -11 kcal/mol: 000\n",
      "N pep under -10 kcal/mol: 000\n",
      "N pep under -9 kcal/mol: 000\n",
      "N pep under -8 kcal/mol: 022\n",
      "N pep under -7 kcal/mol: 120\n",
      "N pep under -6 kcal/mol: 149\n",
      "N pep under -5 kcal/mol: 150\n",
      "Non binding pep        : 000\n",
      "\n",
      "\n",
      "\n",
      "Generation: 1\n",
      "\n",
      "N pep:  246\n",
      "Best peptide: -10.120\n",
      "N pep under -12 kcal/mol: 000\n",
      "N pep under -11 kcal/mol: 000\n",
      "N pep under -10 kcal/mol: 002\n",
      "N pep under -9 kcal/mol: 025\n",
      "N pep under -8 kcal/mol: 078\n",
      "N pep under -7 kcal/mol: 176\n",
      "N pep under -6 kcal/mol: 205\n",
      "N pep under -5 kcal/mol: 206\n",
      "Non binding pep        : 040\n"
     ]
    },
    {
     "data": {
      "image/png": "[encoded data removed]",
      "text/plain": [
       "<Figure size 360x360 with 1 Axes>"
      ]
     },
     "metadata": {
      "needs_background": "light"
     },
     "output_type": "display_data"
    },
    {
     "name": "stdout",
     "output_type": "stream",
     "text": [
      "\n",
      "\n",
      "\n",
      "Generation: 2\n",
      "\n",
      "N pep:  342\n",
      "Best peptide: -10.120\n",
      "N pep under -12 kcal/mol: 000\n",
      "N pep under -11 kcal/mol: 000\n",
      "N pep under -10 kcal/mol: 002\n",
      "N pep under -9 kcal/mol: 028\n",
      "N pep under -8 kcal/mol: 085\n",
      "N pep under -7 kcal/mol: 185\n",
      "N pep under -6 kcal/mol: 214\n",
      "N pep under -5 kcal/mol: 215\n",
      "Non binding pep        : 127\n"
     ]
    },
    {
     "data": {
      "image/png": "[encoded data removed]",
      "text/plain": [
       "<Figure size 360x360 with 1 Axes>"
      ]
     },
     "metadata": {
      "needs_background": "light"
     },
     "output_type": "display_data"
    },
    {
     "name": "stdout",
     "output_type": "stream",
     "text": [
      "\n",
      "\n",
      "\n",
      "Generation: 3\n",
      "\n",
      "N pep:  438\n",
      "Best peptide: -10.120\n",
      "N pep under -12 kcal/mol: 000\n",
      "N pep under -11 kcal/mol: 000\n",
      "N pep under -10 kcal/mol: 002\n",
      "N pep under -9 kcal/mol: 034\n",
      "N pep under -8 kcal/mol: 136\n",
      "N pep under -7 kcal/mol: 265\n",
      "N pep under -6 kcal/mol: 294\n",
      "N pep under -5 kcal/mol: 295\n",
      "Non binding pep        : 143\n"
     ]
    },
    {
     "data": {
      "image/png": "[encoded data removed]",
      "text/plain": [
       "<Figure size 360x360 with 1 Axes>"
      ]
     },
     "metadata": {
      "needs_background": "light"
     },
     "output_type": "display_data"
    },
    {
     "name": "stdout",
     "output_type": "stream",
     "text": [
      "\n",
      "\n",
      "\n",
      "Run: 6\n",
      "Exp dataset size: (150, 4096)\n",
      "\n",
      "\n",
      "\n",
      "Init.\n",
      "N pep:  150\n",
      "Best peptide: -8.199\n",
      "N pep under -12 kcal/mol: 000\n",
      "N pep under -11 kcal/mol: 000\n",
      "N pep under -10 kcal/mol: 000\n",
      "N pep under -9 kcal/mol: 000\n",
      "N pep under -8 kcal/mol: 022\n",
      "N pep under -7 kcal/mol: 120\n",
      "N pep under -6 kcal/mol: 149\n",
      "N pep under -5 kcal/mol: 150\n",
      "Non binding pep        : 000\n",
      "\n",
      "\n",
      "\n",
      "Generation: 1\n",
      "\n",
      "N pep:  246\n",
      "Best peptide: -10.004\n",
      "N pep under -12 kcal/mol: 000\n",
      "N pep under -11 kcal/mol: 000\n",
      "N pep under -10 kcal/mol: 001\n",
      "N pep under -9 kcal/mol: 018\n",
      "N pep under -8 kcal/mol: 056\n",
      "N pep under -7 kcal/mol: 154\n",
      "N pep under -6 kcal/mol: 183\n",
      "N pep under -5 kcal/mol: 184\n",
      "Non binding pep        : 062\n"
     ]
    },
    {
     "data": {
      "image/png": "[encoded data removed]",
      "text/plain": [
       "<Figure size 360x360 with 1 Axes>"
      ]
     },
     "metadata": {
      "needs_background": "light"
     },
     "output_type": "display_data"
    },
    {
     "name": "stdout",
     "output_type": "stream",
     "text": [
      "\n",
      "\n",
      "\n",
      "Generation: 2\n",
      "\n",
      "N pep:  342\n",
      "Best peptide: -10.004\n",
      "N pep under -12 kcal/mol: 000\n",
      "N pep under -11 kcal/mol: 000\n",
      "N pep under -10 kcal/mol: 001\n",
      "N pep under -9 kcal/mol: 018\n",
      "N pep under -8 kcal/mol: 057\n",
      "N pep under -7 kcal/mol: 155\n",
      "N pep under -6 kcal/mol: 184\n",
      "N pep under -5 kcal/mol: 185\n",
      "Non binding pep        : 157\n"
     ]
    },
    {
     "data": {
      "image/png": "[encoded data removed]",
      "text/plain": [
       "<Figure size 360x360 with 1 Axes>"
      ]
     },
     "metadata": {
      "needs_background": "light"
     },
     "output_type": "display_data"
    },
    {
     "name": "stdout",
     "output_type": "stream",
     "text": [
      "\n",
      "\n",
      "\n",
      "Generation: 3\n",
      "\n",
      "N pep:  438\n",
      "Best peptide: -10.004\n",
      "N pep under -12 kcal/mol: 000\n",
      "N pep under -11 kcal/mol: 000\n",
      "N pep under -10 kcal/mol: 001\n",
      "N pep under -9 kcal/mol: 019\n",
      "N pep under -8 kcal/mol: 069\n",
      "N pep under -7 kcal/mol: 169\n",
      "N pep under -6 kcal/mol: 198\n",
      "N pep under -5 kcal/mol: 199\n",
      "Non binding pep        : 239\n"
     ]
    },
    {
     "data": {
      "image/png": "[encoded data removed]",
      "text/plain": [
       "<Figure size 360x360 with 1 Axes>"
      ]
     },
     "metadata": {
      "needs_background": "light"
     },
     "output_type": "display_data"
    },
    {
     "name": "stdout",
     "output_type": "stream",
     "text": [
      "\n",
      "\n",
      "\n",
      "Run: 7\n",
      "Exp dataset size: (150, 4096)\n",
      "\n",
      "\n",
      "\n",
      "Init.\n",
      "N pep:  150\n",
      "Best peptide: -8.199\n",
      "N pep under -12 kcal/mol: 000\n",
      "N pep under -11 kcal/mol: 000\n",
      "N pep under -10 kcal/mol: 000\n",
      "N pep under -9 kcal/mol: 000\n",
      "N pep under -8 kcal/mol: 022\n",
      "N pep under -7 kcal/mol: 120\n",
      "N pep under -6 kcal/mol: 149\n",
      "N pep under -5 kcal/mol: 150\n",
      "Non binding pep        : 000\n",
      "\n",
      "\n",
      "\n",
      "Generation: 1\n",
      "\n",
      "N pep:  246\n",
      "Best peptide: -10.666\n",
      "N pep under -12 kcal/mol: 000\n",
      "N pep under -11 kcal/mol: 000\n",
      "N pep under -10 kcal/mol: 005\n",
      "N pep under -9 kcal/mol: 034\n",
      "N pep under -8 kcal/mol: 073\n",
      "N pep under -7 kcal/mol: 171\n",
      "N pep under -6 kcal/mol: 200\n",
      "N pep under -5 kcal/mol: 201\n",
      "Non binding pep        : 045\n"
     ]
    },
    {
     "data": {
      "image/png": "[encoded data removed]",
      "text/plain": [
       "<Figure size 360x360 with 1 Axes>"
      ]
     },
     "metadata": {
      "needs_background": "light"
     },
     "output_type": "display_data"
    },
    {
     "name": "stdout",
     "output_type": "stream",
     "text": [
      "\n",
      "\n",
      "\n",
      "Generation: 2\n",
      "\n",
      "N pep:  342\n",
      "Best peptide: -10.666\n",
      "N pep under -12 kcal/mol: 000\n",
      "N pep under -11 kcal/mol: 000\n",
      "N pep under -10 kcal/mol: 008\n",
      "N pep under -9 kcal/mol: 041\n",
      "N pep under -8 kcal/mol: 081\n",
      "N pep under -7 kcal/mol: 179\n",
      "N pep under -6 kcal/mol: 208\n",
      "N pep under -5 kcal/mol: 209\n",
      "Non binding pep        : 133\n"
     ]
    },
    {
     "data": {
      "image/png": "[encoded data removed]",
      "text/plain": [
       "<Figure size 360x360 with 1 Axes>"
      ]
     },
     "metadata": {
      "needs_background": "light"
     },
     "output_type": "display_data"
    },
    {
     "name": "stdout",
     "output_type": "stream",
     "text": [
      "\n",
      "\n",
      "\n",
      "Generation: 3\n",
      "\n",
      "N pep:  438\n",
      "Best peptide: -10.719\n",
      "N pep under -12 kcal/mol: 000\n",
      "N pep under -11 kcal/mol: 000\n",
      "N pep under -10 kcal/mol: 014\n",
      "N pep under -9 kcal/mol: 063\n",
      "N pep under -8 kcal/mol: 147\n",
      "N pep under -7 kcal/mol: 265\n",
      "N pep under -6 kcal/mol: 294\n",
      "N pep under -5 kcal/mol: 295\n",
      "Non binding pep        : 143\n"
     ]
    },
    {
     "data": {
      "image/png": "[encoded data removed]",
      "text/plain": [
       "<Figure size 360x360 with 1 Axes>"
      ]
     },
     "metadata": {
      "needs_background": "light"
     },
     "output_type": "display_data"
    },
    {
     "name": "stdout",
     "output_type": "stream",
     "text": [
      "\n",
      "\n",
      "\n",
      "Run: 8\n",
      "Exp dataset size: (150, 4096)\n",
      "\n",
      "\n",
      "\n",
      "Init.\n",
      "N pep:  150\n",
      "Best peptide: -8.199\n",
      "N pep under -12 kcal/mol: 000\n",
      "N pep under -11 kcal/mol: 000\n",
      "N pep under -10 kcal/mol: 000\n",
      "N pep under -9 kcal/mol: 000\n",
      "N pep under -8 kcal/mol: 022\n",
      "N pep under -7 kcal/mol: 120\n",
      "N pep under -6 kcal/mol: 149\n",
      "N pep under -5 kcal/mol: 150\n",
      "Non binding pep        : 000\n",
      "\n",
      "\n",
      "\n",
      "Generation: 1\n",
      "\n",
      "N pep:  246\n",
      "Best peptide: -9.333\n",
      "N pep under -12 kcal/mol: 000\n",
      "N pep under -11 kcal/mol: 000\n",
      "N pep under -10 kcal/mol: 000\n",
      "N pep under -9 kcal/mol: 005\n",
      "N pep under -8 kcal/mol: 043\n",
      "N pep under -7 kcal/mol: 141\n",
      "N pep under -6 kcal/mol: 170\n",
      "N pep under -5 kcal/mol: 171\n",
      "Non binding pep        : 075\n"
     ]
    },
    {
     "data": {
      "image/png": "[encoded data removed]",
      "text/plain": [
       "<Figure size 360x360 with 1 Axes>"
      ]
     },
     "metadata": {
      "needs_background": "light"
     },
     "output_type": "display_data"
    },
    {
     "name": "stdout",
     "output_type": "stream",
     "text": [
      "\n",
      "\n",
      "\n",
      "Generation: 2\n",
      "\n",
      "N pep:  342\n",
      "Best peptide: -9.333\n",
      "N pep under -12 kcal/mol: 000\n",
      "N pep under -11 kcal/mol: 000\n",
      "N pep under -10 kcal/mol: 000\n",
      "N pep under -9 kcal/mol: 005\n",
      "N pep under -8 kcal/mol: 043\n",
      "N pep under -7 kcal/mol: 142\n",
      "N pep under -6 kcal/mol: 171\n",
      "N pep under -5 kcal/mol: 172\n",
      "Non binding pep        : 170\n"
     ]
    },
    {
     "data": {
      "image/png": "[encoded data removed]",
      "text/plain": [
       "<Figure size 360x360 with 1 Axes>"
      ]
     },
     "metadata": {
      "needs_background": "light"
     },
     "output_type": "display_data"
    },
    {
     "name": "stdout",
     "output_type": "stream",
     "text": [
      "\n",
      "\n",
      "\n",
      "Generation: 3\n",
      "\n",
      "N pep:  438\n",
      "Best peptide: -9.697\n",
      "N pep under -12 kcal/mol: 000\n",
      "N pep under -11 kcal/mol: 000\n",
      "N pep under -10 kcal/mol: 000\n",
      "N pep under -9 kcal/mol: 007\n",
      "N pep under -8 kcal/mol: 056\n",
      "N pep under -7 kcal/mol: 203\n",
      "N pep under -6 kcal/mol: 241\n",
      "N pep under -5 kcal/mol: 242\n",
      "Non binding pep        : 196\n"
     ]
    },
    {
     "data": {
      "image/png": "[encoded data removed]",
      "text/plain": [
       "<Figure size 360x360 with 1 Axes>"
      ]
     },
     "metadata": {
      "needs_background": "light"
     },
     "output_type": "display_data"
    },
    {
     "name": "stdout",
     "output_type": "stream",
     "text": [
      "\n",
      "\n",
      "\n",
      "Run: 9\n",
      "Exp dataset size: (150, 4096)\n",
      "\n",
      "\n",
      "\n",
      "Init.\n",
      "N pep:  150\n",
      "Best peptide: -8.199\n",
      "N pep under -12 kcal/mol: 000\n",
      "N pep under -11 kcal/mol: 000\n",
      "N pep under -10 kcal/mol: 000\n",
      "N pep under -9 kcal/mol: 000\n",
      "N pep under -8 kcal/mol: 022\n",
      "N pep under -7 kcal/mol: 120\n",
      "N pep under -6 kcal/mol: 149\n",
      "N pep under -5 kcal/mol: 150\n",
      "Non binding pep        : 000\n",
      "\n",
      "\n",
      "\n",
      "Generation: 1\n",
      "\n",
      "N pep:  246\n",
      "Best peptide: -9.848\n",
      "N pep under -12 kcal/mol: 000\n",
      "N pep under -11 kcal/mol: 000\n",
      "N pep under -10 kcal/mol: 000\n",
      "N pep under -9 kcal/mol: 025\n",
      "N pep under -8 kcal/mol: 060\n",
      "N pep under -7 kcal/mol: 158\n",
      "N pep under -6 kcal/mol: 187\n",
      "N pep under -5 kcal/mol: 188\n",
      "Non binding pep        : 058\n"
     ]
    },
    {
     "data": {
      "image/png": "[encoded data removed]",
      "text/plain": [
       "<Figure size 360x360 with 1 Axes>"
      ]
     },
     "metadata": {
      "needs_background": "light"
     },
     "output_type": "display_data"
    },
    {
     "name": "stdout",
     "output_type": "stream",
     "text": [
      "\n",
      "\n",
      "\n",
      "Generation: 2\n",
      "\n",
      "N pep:  342\n",
      "Best peptide: -9.848\n",
      "N pep under -12 kcal/mol: 000\n",
      "N pep under -11 kcal/mol: 000\n",
      "N pep under -10 kcal/mol: 000\n",
      "N pep under -9 kcal/mol: 025\n",
      "N pep under -8 kcal/mol: 060\n",
      "N pep under -7 kcal/mol: 158\n",
      "N pep under -6 kcal/mol: 187\n",
      "N pep under -5 kcal/mol: 188\n",
      "Non binding pep        : 154\n"
     ]
    },
    {
     "data": {
      "image/png": "[encoded data removed]",
      "text/plain": [
       "<Figure size 360x360 with 1 Axes>"
      ]
     },
     "metadata": {
      "needs_background": "light"
     },
     "output_type": "display_data"
    },
    {
     "name": "stdout",
     "output_type": "stream",
     "text": [
      "\n",
      "\n",
      "\n",
      "Generation: 3\n",
      "\n",
      "N pep:  438\n",
      "Best peptide: -9.848\n",
      "N pep under -12 kcal/mol: 000\n",
      "N pep under -11 kcal/mol: 000\n",
      "N pep under -10 kcal/mol: 000\n",
      "N pep under -9 kcal/mol: 025\n",
      "N pep under -8 kcal/mol: 060\n",
      "N pep under -7 kcal/mol: 158\n",
      "N pep under -6 kcal/mol: 187\n",
      "N pep under -5 kcal/mol: 188\n",
      "Non binding pep        : 250\n"
     ]
    },
    {
     "data": {
      "image/png": "[encoded data removed]",
      "text/plain": [
       "<Figure size 360x360 with 1 Axes>"
      ]
     },
     "metadata": {
      "needs_background": "light"
     },
     "output_type": "display_data"
    },
    {
     "name": "stdout",
     "output_type": "stream",
     "text": [
      "\n",
      "\n",
      "\n",
      "Run: 10\n",
      "Exp dataset size: (150, 4096)\n",
      "\n",
      "\n",
      "\n",
      "Init.\n",
      "N pep:  150\n",
      "Best peptide: -8.199\n",
      "N pep under -12 kcal/mol: 000\n",
      "N pep under -11 kcal/mol: 000\n",
      "N pep under -10 kcal/mol: 000\n",
      "N pep under -9 kcal/mol: 000\n",
      "N pep under -8 kcal/mol: 022\n",
      "N pep under -7 kcal/mol: 120\n",
      "N pep under -6 kcal/mol: 149\n",
      "N pep under -5 kcal/mol: 150\n",
      "Non binding pep        : 000\n",
      "\n",
      "\n",
      "\n",
      "Generation: 1\n",
      "\n",
      "N pep:  246\n",
      "Best peptide: -10.208\n",
      "N pep under -12 kcal/mol: 000\n",
      "N pep under -11 kcal/mol: 000\n",
      "N pep under -10 kcal/mol: 005\n",
      "N pep under -9 kcal/mol: 016\n",
      "N pep under -8 kcal/mol: 048\n",
      "N pep under -7 kcal/mol: 146\n",
      "N pep under -6 kcal/mol: 175\n",
      "N pep under -5 kcal/mol: 176\n",
      "Non binding pep        : 070\n"
     ]
    },
    {
     "data": {
      "image/png": "[encoded data removed]",
      "text/plain": [
       "<Figure size 360x360 with 1 Axes>"
      ]
     },
     "metadata": {
      "needs_background": "light"
     },
     "output_type": "display_data"
    },
    {
     "name": "stdout",
     "output_type": "stream",
     "text": [
      "\n",
      "\n",
      "\n",
      "Generation: 2\n",
      "\n",
      "N pep:  342\n",
      "Best peptide: -10.208\n",
      "N pep under -12 kcal/mol: 000\n",
      "N pep under -11 kcal/mol: 000\n",
      "N pep under -10 kcal/mol: 005\n",
      "N pep under -9 kcal/mol: 017\n",
      "N pep under -8 kcal/mol: 049\n",
      "N pep under -7 kcal/mol: 147\n",
      "N pep under -6 kcal/mol: 176\n",
      "N pep under -5 kcal/mol: 177\n",
      "Non binding pep        : 165\n"
     ]
    },
    {
     "data": {
      "image/png": "[encoded data removed]",
      "text/plain": [
       "<Figure size 360x360 with 1 Axes>"
      ]
     },
     "metadata": {
      "needs_background": "light"
     },
     "output_type": "display_data"
    },
    {
     "name": "stdout",
     "output_type": "stream",
     "text": [
      "\n",
      "\n",
      "\n",
      "Generation: 3\n",
      "\n",
      "N pep:  438\n",
      "Best peptide: -10.208\n",
      "N pep under -12 kcal/mol: 000\n",
      "N pep under -11 kcal/mol: 000\n",
      "N pep under -10 kcal/mol: 005\n",
      "N pep under -9 kcal/mol: 017\n",
      "N pep under -8 kcal/mol: 055\n",
      "N pep under -7 kcal/mol: 154\n",
      "N pep under -6 kcal/mol: 183\n",
      "N pep under -5 kcal/mol: 184\n",
      "Non binding pep        : 254\n"
     ]
    },
    {
     "data": {
      "image/png": "[encoded data removed]",
      "text/plain": [
       "<Figure size 360x360 with 1 Axes>"
      ]
     },
     "metadata": {
      "needs_background": "light"
     },
     "output_type": "display_data"
    },
    {
     "name": "stdout",
     "output_type": "stream",
     "text": [
      "\n",
      "\n",
      "\n"
     ]
    }
   ],
   "source": [
    "custom_candidate_fps = []\n",
    "custom_candidate_y = []\n",
    "\n",
    "for i in range(10):\n",
    "    print('Run: %s' % (i + 1))\n",
    "\n",
    "    # Get best random peptide\n",
    "    best_peptide = random_peptides[np.argmin(random_peptide_scores)]\n",
    "    \n",
    "    # Compute the MAP4 fingerprint for all the peptides\n",
    "    X_fps_exp = map4_fingerprint(random_peptides)\n",
    "    y_exp = torch.from_numpy(random_peptide_scores).float()\n",
    "    print('Exp dataset size: (%d, %d)' % (X_fps_exp.shape[0], X_fps_exp.shape[1]))\n",
    "    \n",
    "    print('\\n\\n')\n",
    "    \n",
    "    print('Init.')\n",
    "    print('N pep: ', X_fps_exp.shape[0])\n",
    "    print('Best peptide: %.3f' % y_exp.min())\n",
    "    for n in [-12, -11, -10, -9, -8, -7, -6, -5]:\n",
    "        print('N pep under %d kcal/mol: %03d' % (n, y_exp[y_exp < n].shape[0]))\n",
    "    print('Non binding pep        : %03d' % (y_exp[y_exp == 0.].shape[0]))\n",
    "\n",
    "    print('\\n\\n')\n",
    "\n",
    "    for j in range(3):\n",
    "        print('Generation: %d' % (j + 1))\n",
    "        # Train GP model\n",
    "        model = get_fitted_model(X_fps_exp, y_exp, kernel=TanimotoSimilarityKernel)\n",
    "\n",
    "        # Find new candidates\n",
    "        #acq = AcqScoring(model, probability_of_improvement, y_exp)\n",
    "        acq = AcqScoring(model, expected_improvement, y_exp, sequence_type='helm')\n",
    "        candidate_sequences, candidates_acq = find_next_candidates_with_custom_GA(acq, best_peptide, monomer_aa1_lib, probability_matrix, greater_is_better=False)\n",
    "\n",
    "        # Add candidates to the training set\n",
    "        candidate_fps = map4_fingerprint(candidate_sequences)\n",
    "        y_candidates = torch.from_numpy(np.array(predict_peptide_affinity_binding(candidate_sequences, pssm, reg)))\n",
    "\n",
    "        X_fps_exp = torch.cat([X_fps_exp, candidate_fps])\n",
    "        y_exp = torch.cat([y_exp, y_candidates])\n",
    "        \n",
    "        # Get best peptide found so far\n",
    "        best_peptide = candidate_sequences[np.argmin(y_candidates.numpy())]\n",
    "\n",
    "        print('')\n",
    "        print('N pep: ', X_fps_exp.shape[0])\n",
    "        print('Best peptide: %.3f' % y_exp.min())\n",
    "        for n in [-12, -11, -10, -9, -8,  -7, -6, -5]:\n",
    "            print('N pep under %d kcal/mol: %03d' % (n, y_exp[y_exp < n].shape[0]))\n",
    "        print('Non binding pep        : %03d' % (y_exp[y_exp == 0.].shape[0]))\n",
    "\n",
    "        fig, ax = plt.subplots(figsize=(5, 5))\n",
    "        ax.scatter(candidates_acq, y_candidates.numpy())\n",
    "        plt.show()\n",
    "\n",
    "        print('\\n\\n')\n",
    "    \n",
    "    \n",
    "    custom_candidate_fps.append(X_fps_exp.detach().numpy())\n",
    "    custom_candidate_y.append(y_exp.detach().numpy())\n",
    "\n",
    "\n",
    "custom_candidate_fps = np.array(custom_candidate_fps)\n",
    "custom_candidate_y = np.array(custom_candidate_y)"
   ]
  },
  {
   "cell_type": "code",
   "execution_count": null,
   "id": "76e7f590",
   "metadata": {},
   "outputs": [],
   "source": [
    "fig, axarr = plt.subplots(1, 3, figsize=(30, 10), sharey=True)\n",
    "axarr[0].hist(random_candidate_y.flatten(), bins=np.linspace(-15, 0, 52))\n",
    "axarr[1].hist(pbil_candidate_y.flatten(), bins=np.linspace(-15, 0, 52))\n",
    "axarr[2].hist(custom_candidate_y.flatten(), bins=np.linspace(-15, 0, 52))\n",
    "\n",
    "axarr[0].set_title('Random sampling (10 runs of 3 generations)', fontsize=20)\n",
    "axarr[1].set_title('Sampling with PBIL (10 runs of 3 generations)', fontsize=20)\n",
    "axarr[2].set_title('Custom GA sampling (10 runs of 3 generations)', fontsize=20)\n",
    "\n",
    "axarr[0].set_ylabel('#Peptides tested', fontsize=20)\n",
    "axarr[0].set_xlabel('Affinity binding (kcal/mol)', fontsize=20)\n",
    "axarr[1].set_xlabel('Affinity binding (kcal/mol)', fontsize=20)\n",
    "axarr[2].set_xlabel('Affinity binding (kcal/mol)', fontsize=20)\n",
    "\n",
    "plt.savefig('figure_baye_opt_comparison_random_vs_pbil_vs_custom_GA_sampling.png', dpi=300, bbox_inches='tight')\n",
    "plt.show()"
   ]
  },
  {
   "cell_type": "code",
   "execution_count": null,
   "id": "ffd686e7",
   "metadata": {},
   "outputs": [],
   "source": [
    "fig, axarr = plt.subplots(1, 3, figsize=(30, 10), sharey=True)\n",
    "axarr[0].hist(random_candidate_y.flatten(), bins=np.linspace(-15, 0, 52))\n",
    "axarr[1].hist(pbil_candidate_y.flatten(), bins=np.linspace(-15, 0, 52))\n",
    "axarr[2].hist(custom_candidate_y.flatten(), bins=np.linspace(-15, 0, 52))\n",
    "\n",
    "axarr[0].set_title('Random sampling (10 runs of 3 generations)', fontsize=20)\n",
    "axarr[1].set_title('Sampling with PBIL (10 runs of 3 generations)', fontsize=20)\n",
    "axarr[2].set_title('Custom GA sampling (10 runs of 3 generations)', fontsize=20)\n",
    "\n",
    "axarr[0].set_ylabel('#Peptides tested', fontsize=20)\n",
    "axarr[0].set_xlabel('Affinity binding (kcal/mol)', fontsize=20)\n",
    "axarr[1].set_xlabel('Affinity binding (kcal/mol)', fontsize=20)\n",
    "axarr[2].set_xlabel('Affinity binding (kcal/mol)', fontsize=20)\n",
    "\n",
    "plt.savefig('figure_baye_opt_comparison_random_vs_pbil_vs_custom_GA_sampling_using_same_starting_peptides.png', dpi=300, bbox_inches='tight')\n",
    "plt.show()"
   ]
  },
  {
   "cell_type": "code",
   "execution_count": 48,
   "id": "b02c959f",
   "metadata": {},
   "outputs": [
    {
     "data": {
      "image/png": "[encoded data removed]",
      "text/plain": [
       "<Figure size 2160x720 with 3 Axes>"
      ]
     },
     "metadata": {
      "needs_background": "light"
     },
     "output_type": "display_data"
    }
   ],
   "source": [
    "fig, axarr = plt.subplots(1, 3, figsize=(30, 10), sharey=True)\n",
    "axarr[0].hist(random_candidate_y.flatten(), bins=np.linspace(-15, 0, 52))\n",
    "axarr[1].hist(pbil_candidate_y.flatten(), bins=np.linspace(-15, 0, 52))\n",
    "axarr[2].hist(custom_candidate_y.flatten(), bins=np.linspace(-15, 0, 52))\n",
    "\n",
    "axarr[0].set_title('Random sampling (10 runs of 3 generations)', fontsize=20)\n",
    "axarr[1].set_title('Sampling with PBIL (10 runs of 3 generations)', fontsize=20)\n",
    "axarr[2].set_title('Custom GA sampling (10 runs of 3 generations)', fontsize=20)\n",
    "\n",
    "axarr[0].set_ylabel('#Peptides tested', fontsize=20)\n",
    "axarr[0].set_xlabel('Affinity binding (kcal/mol)', fontsize=20)\n",
    "axarr[1].set_xlabel('Affinity binding (kcal/mol)', fontsize=20)\n",
    "axarr[2].set_xlabel('Affinity binding (kcal/mol)', fontsize=20)\n",
    "\n",
    "plt.savefig('figure_baye_opt_comparison_random_vs_pbil_vs_custom_GA_sampling_using_same_starting_peptides_harder.png', dpi=300, bbox_inches='tight')\n",
    "plt.show()"
   ]
  },
  {
   "cell_type": "code",
   "execution_count": 49,
   "id": "850804ce",
   "metadata": {
    "scrolled": true
   },
   "outputs": [
    {
     "data": {
      "text/plain": [
       "['RAAYELLLA',\n",
       " 'RAAYELFLA',\n",
       " 'RAAYLLLLA',\n",
       " 'AAAYELLLA',\n",
       " 'RNAYELLLA',\n",
       " 'RAAYETLLA',\n",
       " 'RAAYELLLI',\n",
       " 'RCAYELLLA',\n",
       " 'AAAYYLLLA',\n",
       " 'RAAYELLAA',\n",
       " 'RAFYELLLA',\n",
       " 'RAAYELTLA',\n",
       " 'ATAYELLLA',\n",
       " 'RAAYELALA',\n",
       " 'RAAYFLLLA',\n",
       " 'RAAFELLLA',\n",
       " 'RAAYELLLT',\n",
       " 'LAAYELLLA',\n",
       " 'AAAMELLLA',\n",
       " 'ALAMELALA',\n",
       " 'ALAYELLLA',\n",
       " 'AAFYELLLA',\n",
       " 'ACAYELLLA',\n",
       " 'AAAYELALA',\n",
       " 'AAAYELLAA',\n",
       " 'RAAYEALLA',\n",
       " 'RAAYELLTA',\n",
       " 'RAAAELLLA',\n",
       " 'AAAMELALA',\n",
       " 'RMAYELLLA',\n",
       " 'AAAYLLLLA',\n",
       " 'RAAYELLLY',\n",
       " 'RAAYEELLA',\n",
       " 'ACAMELALA',\n",
       " 'RAAMELLLA',\n",
       " 'AAAYELLLY',\n",
       " 'AAAMELALT',\n",
       " 'RVAYELLLA',\n",
       " 'RAAYELYLA',\n",
       " 'AAAYALLLA',\n",
       " 'RANYELLLA',\n",
       " 'ANAMELALA',\n",
       " 'CAAYELLLA',\n",
       " 'ALAMELLLA',\n",
       " 'TAAYELLLA',\n",
       " 'LAAMELALA',\n",
       " 'RAAYCLLLA',\n",
       " 'RAAYELELA',\n",
       " 'AAAMELALY',\n",
       " 'RAAYNLLLA',\n",
       " 'RACYELLLA',\n",
       " 'AAYMELALA',\n",
       " 'AMAYELLLA',\n",
       " 'AAAWELALA',\n",
       " 'AAAMELMLA',\n",
       " 'AAAYFLLLA',\n",
       " 'AAAFELLLA',\n",
       " 'AAAYEELLA',\n",
       " 'RAAYELLYA',\n",
       " 'LAAMELLLA',\n",
       " 'AAYMELLLA',\n",
       " 'RYAYELLLA',\n",
       " 'RAAYELMLA',\n",
       " 'AAAYELYLA',\n",
       " 'ANAMELLLA',\n",
       " 'AAAWELLLA',\n",
       " 'ACAMELLLA',\n",
       " 'MAAYELLLA',\n",
       " 'AAMMELLLA',\n",
       " 'AAAYELLTA',\n",
       " 'AFAYELLLA',\n",
       " 'RAAWELLLA',\n",
       " 'AAAYELLYA',\n",
       " 'AAFMELALA',\n",
       " 'RAAYELLLC',\n",
       " 'AAAYETLLA',\n",
       " 'AANYELLLA',\n",
       " 'RALYELLLA',\n",
       " 'AAAYELLCA',\n",
       " 'MAAMELALA',\n",
       " 'RAAYELNLA',\n",
       " 'AAAMELAMA',\n",
       " 'RAAYEFLLA',\n",
       " 'AAAYELELA',\n",
       " 'NAAYELLLA',\n",
       " 'RAAYECLLA',\n",
       " 'AAAYEALLA',\n",
       " 'AAMMELALA',\n",
       " 'FAAYELLLA',\n",
       " 'RHAYELLLA',\n",
       " 'AAAMELLLY',\n",
       " 'AACYELLLA',\n",
       " 'AAAMELWLA',\n",
       " 'AAFMELLLA',\n",
       " 'RAANELLLA',\n",
       " 'RPAYELLLA']"
      ]
     },
     "execution_count": 49,
     "metadata": {},
     "output_type": "execute_result"
    }
   ],
   "source": [
    "candidate_sequences"
   ]
  },
  {
   "cell_type": "code",
   "execution_count": null,
   "id": "a02206c8",
   "metadata": {},
   "outputs": [],
   "source": []
  },
  {
   "cell_type": "code",
   "execution_count": null,
   "id": "932bb944",
   "metadata": {},
   "outputs": [],
   "source": []
  },
  {
   "cell_type": "code",
   "execution_count": null,
   "id": "95da2346",
   "metadata": {},
   "outputs": [],
   "source": []
  },
  {
   "cell_type": "code",
   "execution_count": null,
   "id": "ed2cbff5",
   "metadata": {},
   "outputs": [],
   "source": []
  },
  {
   "cell_type": "code",
   "execution_count": null,
   "id": "bdbe098f",
   "metadata": {},
   "outputs": [],
   "source": []
  },
  {
   "cell_type": "code",
   "execution_count": null,
   "id": "8750ff11",
   "metadata": {},
   "outputs": [],
   "source": []
  },
  {
   "cell_type": "code",
   "execution_count": null,
   "id": "23f8d0f3",
   "metadata": {},
   "outputs": [],
   "source": []
  },
  {
   "cell_type": "code",
   "execution_count": null,
   "id": "af307ec9",
   "metadata": {},
   "outputs": [],
   "source": []
  },
  {
   "cell_type": "code",
   "execution_count": null,
   "id": "aeef7607",
   "metadata": {},
   "outputs": [],
   "source": []
  }
 ],
 "metadata": {
  "kernelspec": {
   "display_name": "Python 3 (ipykernel)",
   "language": "python",
   "name": "python3"
  },
  "language_info": {
   "codemirror_mode": {
    "name": "ipython",
    "version": 3
   },
   "file_extension": ".py",
   "mimetype": "text/x-python",
   "name": "python",
   "nbconvert_exporter": "python",
   "pygments_lexer": "ipython3",
   "version": "3.7.11"
  }
 },
 "nbformat": 4,
 "nbformat_minor": 5
}
