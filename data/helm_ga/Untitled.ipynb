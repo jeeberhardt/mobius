{
 "cells": [
  {
   "cell_type": "code",
   "execution_count": 83,
   "id": "25d69680",
   "metadata": {},
   "outputs": [],
   "source": [
    "%matplotlib inline\n",
    "\n",
    "import os\n",
    "import json\n",
    "from collections import defaultdict\n",
    "\n",
    "import torch\n",
    "import gpytorch\n",
    "import numpy as np\n",
    "import pandas as pd\n",
    "import matplotlib.pyplot as plt\n",
    "import umap.umap_ as umap\n",
    "from deap import algorithms\n",
    "from deap import base\n",
    "from deap import creator\n",
    "from deap import tools\n",
    "from sklearn.linear_model import LinearRegression\n",
    "from scipy.stats import norm\n",
    "from rdkit import Chem\n",
    "from botorch.models.gpytorch import GPyTorchModel\n",
    "from botorch.fit import fit_gpytorch_model\n",
    "from MDAnalysis.analysis.rms import rmsd\n",
    "from scipy.stats import pearsonr\n",
    "from map4 import MAP4Calculator"
   ]
  },
  {
   "cell_type": "code",
   "execution_count": 2,
   "id": "00c66481",
   "metadata": {},
   "outputs": [],
   "source": [
    "HELM_string1 = 'PEPTIDE1{A.C.A.A.C.A.A.C.A.A.A.C.A}$PEPTIDE1,PEPTIDE1,2:R3-5:R3|PEPTIDE1,PEPTIDE1,8:R3-12:R3$$$V2.0'\n",
    "mol = Chem.MolFromHELM(HELM_string1)"
   ]
  },
  {
   "cell_type": "code",
   "execution_count": 3,
   "id": "c5ece47b",
   "metadata": {},
   "outputs": [
    {
     "data": {
      "image/png": "[encoded data removed]",
      "text/plain": [
       "<rdkit.Chem.rdchem.Mol at 0x7f289696ff80>"
      ]
     },
     "execution_count": 3,
     "metadata": {},
     "output_type": "execute_result"
    }
   ],
   "source": [
    "mol"
   ]
  },
  {
   "cell_type": "code",
   "execution_count": 4,
   "id": "6b8af0b8",
   "metadata": {},
   "outputs": [
    {
     "data": {
      "text/plain": [
       "['PEPTIDE1{A.C.A.A.C.A.A.C.A.A.A.C.A}',\n",
       " 'PEPTIDE1,PEPTIDE1,2:R3-5:R3|PEPTIDE1,PEPTIDE1,8:R3-12:R3',\n",
       " '',\n",
       " '',\n",
       " 'V2.0']"
      ]
     },
     "execution_count": 4,
     "metadata": {},
     "output_type": "execute_result"
    }
   ],
   "source": [
    "HELM_string1.split('$')"
   ]
  },
  {
   "cell_type": "code",
   "execution_count": 40,
   "id": "15fbda11",
   "metadata": {},
   "outputs": [],
   "source": [
    "with open('HELMCoreLibrary.json') as f:\n",
    "    monomer_lib = json.load(f)\n",
    "\n",
    "monomer_peptide_lib = [x for x in monomer_lib if x['polymerType'] == 'PEPTIDE']\n",
    "AA1 = [\"A\", \"R\", \"N\", \"D\", \"C\", \"E\", \"Q\", \"G\", \"H\", \"I\", \"L\", \"K\", \"M\", \"F\", \"P\", \"S\", \"T\", \"W\", \"Y\", \"V\"]\n",
    "monomer_aa1_lib = [x for x in monomer_peptide_lib if x['symbol'] in AA1]"
   ]
  },
  {
   "cell_type": "code",
   "execution_count": 98,
   "id": "d3949ab5",
   "metadata": {},
   "outputs": [],
   "source": [
    "class Mutate:\n",
    "    \n",
    "    def __init__(self, monomer_library, seed=None):\n",
    "        self._monomer_library = monomer_library\n",
    "        self._random_seed = seed\n",
    "        self._rng = np.random.default_rng(self._random_seed)\n",
    "        \n",
    "    def mutate(self, helm_string, n=10, minimum_mutations=1, maximum_mutations=None, keep_connections=True):\n",
    "        mutants = {}\n",
    "        connections_per_peptide = defaultdict(list)\n",
    "        peptides, connections, hydrogen_bonds, attributes, _ = helm_string.split('$')\n",
    "        \n",
    "        # Process connections\n",
    "        for connection in connections.split('|'):\n",
    "            pep_id1, pep_id2, con = connection.split(',')\n",
    "            connections_per_peptide[pep_id1].append(int(con.split(':')[0]))\n",
    "            connections_per_peptide[pep_id2].append(int(con.split(':')[1].split('-')[1]))\n",
    "        \n",
    "        # Process peptides\n",
    "        for peptide in peptides.split('|'):\n",
    "            pep_id = peptide.split('{')[0]\n",
    "            sequence = peptide[len(pep_id) + 1:-1].replace('.', '')\n",
    "            mutated_sequences = []\n",
    "            \n",
    "            # Residues involved in a connection within and between peptides won't be mutated\n",
    "            if keep_connections and pep_id in connections_per_peptide:\n",
    "                possible_positions = list(set(range(len(sequence))).difference(connections_per_peptide[pep_id]))\n",
    "            else:\n",
    "                possible_positions = list(range(len(sequence)))\n",
    "            \n",
    "            if maximum_mutations is None:\n",
    "                maximum_mutations = len(sequence)\n",
    "            \n",
    "            for i in range(n):\n",
    "                if minimum_mutations == maximum_mutations:\n",
    "                    number_mutations = maximum_mutations\n",
    "                else:\n",
    "                    number_mutations = self._rng.integers(low=minimum_mutations, high=maximum_mutations)\n",
    "\n",
    "                mutation_positions = self._rng.choice(possible_positions, size=number_mutations, replace=False)\n",
    "\n",
    "                mutant = list(sequence)\n",
    "\n",
    "                for mutation_position in mutation_positions:\n",
    "                    # This should be replaced by a probability matrix in order to avoid\n",
    "                    # the generation of very far distant sequence...\n",
    "                    monomer = self._monomer_library[self._rng.choice(len(self._monomer_library))]\n",
    "                    mutant[mutation_position] = monomer['symbol']\n",
    "\n",
    "                mutated_sequences.append(''.join(mutant))\n",
    "            \n",
    "            mutants[pep_id] = mutated_sequences\n",
    "        \n",
    "        print(mutants)\n",
    "            \n",
    "        for connection in connections.split('|'):\n",
    "            print(connection)"
   ]
  },
  {
   "cell_type": "code",
   "execution_count": 100,
   "id": "7e87cdec",
   "metadata": {},
   "outputs": [
    {
     "name": "stdout",
     "output_type": "stream",
     "text": [
      "{'PEPTIDE1': ['ACAACAACAMACA', 'ACAACAACAAAKA', 'ACAAAAACAAACA', 'HCAACAACAAACA', 'AEAACAACAAACA', 'ACAACAACAAAYA', 'ACAAAAACAAACA', 'ACAACAACAACCA', 'ACAACAACAFACA', 'ACAGCAACAAACA']}\n",
      "PEPTIDE1,PEPTIDE1,2:R3-5:R3\n",
      "PEPTIDE1,PEPTIDE1,8:R3-12:R3\n"
     ]
    }
   ],
   "source": [
    "m = Mutate(monomer_aa1_lib)\n",
    "m.mutate(HELM_string1, maximum_mutations=1, keep_connections=True)"
   ]
  },
  {
   "cell_type": "code",
   "execution_count": 85,
   "id": "bab09d96",
   "metadata": {},
   "outputs": [],
   "source": [
    "l = defaultdict(list)"
   ]
  },
  {
   "cell_type": "code",
   "execution_count": 86,
   "id": "562672ef",
   "metadata": {},
   "outputs": [],
   "source": [
    "l['test'].append(1)"
   ]
  },
  {
   "cell_type": "code",
   "execution_count": 88,
   "id": "e1283195",
   "metadata": {},
   "outputs": [
    {
     "data": {
      "text/plain": [
       "[1]"
      ]
     },
     "execution_count": 88,
     "metadata": {},
     "output_type": "execute_result"
    }
   ],
   "source": [
    "l['test']"
   ]
  },
  {
   "cell_type": "code",
   "execution_count": null,
   "id": "c2df7808",
   "metadata": {},
   "outputs": [],
   "source": []
  },
  {
   "cell_type": "code",
   "execution_count": null,
   "id": "474d9285",
   "metadata": {},
   "outputs": [],
   "source": []
  }
 ],
 "metadata": {
  "kernelspec": {
   "display_name": "Python 3 (ipykernel)",
   "language": "python",
   "name": "python3"
  },
  "language_info": {
   "codemirror_mode": {
    "name": "ipython",
    "version": 3
   },
   "file_extension": ".py",
   "mimetype": "text/x-python",
   "name": "python",
   "nbconvert_exporter": "python",
   "pygments_lexer": "ipython3",
   "version": "3.7.11"
  }
 },
 "nbformat": 4,
 "nbformat_minor": 5
}
