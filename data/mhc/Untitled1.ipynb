{
 "cells": [
  {
   "cell_type": "code",
   "execution_count": 5,
   "id": "a8ec282b",
   "metadata": {},
   "outputs": [],
   "source": [
    "%matplotlib inline\n",
    "\n",
    "import os\n",
    "\n",
    "import torch\n",
    "import gpytorch\n",
    "import numpy as np\n",
    "import pandas as pd\n",
    "import matplotlib.pyplot as plt\n",
    "from scipy import linalg\n",
    "from rdkit import Chem\n",
    "from rdkit.Chem import AllChem\n",
    "from rdkit import DataStructs\n",
    "from rdkit.Chem.Fingerprints import FingerprintMols\n",
    "from rdkit.Chem import PathToSubmol, FindAtomEnvironmentOfRadiusN, MolToSmiles\n",
    "from rdkit.Chem.AtomPairs import Pairs\n",
    "from MDAnalysis.analysis.rms import rmsd\n",
    "from scipy.stats import pearsonr\n",
    "from sklearn.model_selection import train_test_split\n",
    "from sklearn.metrics.pairwise import cosine_similarity\n",
    "from sklearn.preprocessing import StandardScaler\n",
    "from map4 import MAP4Calculator\n",
    "import tmap as tm\n",
    "\n",
    "\n",
    "from mobius import ForceField, VirtualTarget"
   ]
  },
  {
   "cell_type": "code",
   "execution_count": 2,
   "id": "db2f0645",
   "metadata": {},
   "outputs": [],
   "source": [
    "mhci = pd.read_csv('binding_data_2013/bdata.20130222.mhci.csv')"
   ]
  },
  {
   "cell_type": "code",
   "execution_count": 3,
   "id": "3ebeccca",
   "metadata": {},
   "outputs": [],
   "source": [
    "def fingerprint(sequences, radius=10, nBits=4096):\n",
    "    GMFABV = AllChem.GetMorganFingerprintAsBitVect\n",
    "    fps = [np.array(GMFABV(Chem.rdmolfiles.MolFromFASTA(s), useChirality=True, useFeatures=True, radius=radius, nBits=nBits)) for s in sequences]\n",
    "    return torch.from_numpy(np.array(fps)).float()"
   ]
  },
  {
   "cell_type": "code",
   "execution_count": 4,
   "id": "a6ff2a81",
   "metadata": {},
   "outputs": [],
   "source": [
    "def calculate_unhashed_fps(mols, radii):\n",
    "    # Source: https://github.com/isidroc/FingerprintCalculator/blob/master/FingerprintCalculator.py\n",
    "    # get the dictionary for the substructures\n",
    "    idxs = []\n",
    "    substr_ids = []\n",
    "    counts = []\n",
    "    max_radius = max(radii)\n",
    "    substructures_smiles = {}\n",
    "    substructure_dictionary = {}\n",
    "    reference_substructure_keys = []\n",
    "        \n",
    "    for mol_index, mol in enumerate(mols):\n",
    "        info = {}\n",
    "        fp = AllChem.GetMorganFingerprint(mol, useChirality=True, useFeatures=True, radius=max_radius, bitInfo=info)\n",
    "        \n",
    "        tmp_dictionary = {k:[mol_index] for k, v in info.items() if v[0][1] in radii}\n",
    "        substr_ids.append(tmp_dictionary.keys())\n",
    "        idxs.append([mol_index] * len(tmp_dictionary.keys()))\n",
    "        counts.append([len(list(info.values())[x]) for x in np.arange(0,len(info)) if list(info.values())[x][0][1] in radii])\n",
    "        \n",
    "        substructure_dictionary.update(tmp_dictionary)\n",
    "        \n",
    "    idxs = np.array([val for sublist in idxs for val in sublist])\n",
    "    counts = np.array([val for sublist in counts for val in sublist])\n",
    "    substr_ids_flattened = [val for sublist in substr_ids for val in sublist]\n",
    "    substr_ids = np.array(substr_ids_flattened)\n",
    "    substructure_ids = substr_ids\n",
    "\n",
    "    columns = np.array(list(set(substructure_dictionary.keys())))\n",
    "    columns = np.sort(columns)\n",
    "    columns_unhashed = columns\n",
    "    dimensionality_unhashed = len(columns)\n",
    "    \n",
    "    fps_unhashed_binary = np.zeros((len(mols), dimensionality_unhashed), dtype=int)\n",
    "    fps_unhashed_counts = np.zeros((len(mols), dimensionality_unhashed), dtype=int)\n",
    "        \n",
    "    mapping = np.array([(substr_ids[x]==columns).nonzero() for x in np.arange(0,len(substr_ids))])\n",
    "    mapping = mapping.flatten()\n",
    "    idxs = np.array([idxs[x] for x in np.arange(0,len(mapping)) if mapping[x].size != 0])\n",
    "    counts = np.array([counts[x] for x in np.arange(0,len(mapping)) if mapping[x].size != 0])\n",
    "    mapping = np.array([mapping[x] for x in np.arange(0,len(mapping)) if mapping[x].size != 0])\n",
    "    \n",
    "    if len(mapping) == 0:\n",
    "        print(\"There is no intersection between the substructures \\n(i)provided in the reference key set, and\\n(ii) the substructures found in the input molecules.\")\n",
    "        return\n",
    "    \n",
    "    fps_unhashed_binary[idxs, mapping] = np.ones(len(mapping))\n",
    "    fps_unhashed_counts[idxs, mapping] = counts\n",
    "    \n",
    "    return (fps_unhashed_binary, fps_unhashed_counts)"
   ]
  },
  {
   "cell_type": "code",
   "execution_count": null,
   "id": "f02f2303",
   "metadata": {},
   "outputs": [],
   "source": [
    "_, c = np.unique(X_fps, axis=0, return_counts=True)\n",
    "print('Number duplicates in count fp  : ', c[c > 1])\n",
    "\n",
    "_, c = np.unique(X_fps_bin, axis=0, return_counts=True)\n",
    "print('Number duplicates in binary fp : ', c[c > 1])"
   ]
  },
  {
   "cell_type": "code",
   "execution_count": null,
   "id": "57aea290",
   "metadata": {},
   "outputs": [],
   "source": []
  },
  {
   "cell_type": "code",
   "execution_count": 186,
   "id": "457d9d77",
   "metadata": {},
   "outputs": [
    {
     "name": "stdout",
     "output_type": "stream",
     "text": [
      "79 66\n",
      " * similarity: 0.9988946217776751 0.38095238095238093\n",
      " * similarity: 1 1.0\n"
     ]
    }
   ],
   "source": [
    "fp1 = AllChem.GetHashedMorganFingerprint(Chem.rdmolfiles.MolFromFASTA('AAAAAA'), 2, nBits=2048, useChirality=True)\n",
    "fp2 = AllChem.GetHashedMorganFingerprint(Chem.rdmolfiles.MolFromFASTA('AAAAA'), 2, nBits=2048, useChirality=True)\n",
    "\n",
    "vec1 = np.zeros((0,), dtype=np.int8)\n",
    "vec2 = np.zeros((0,), dtype=np.int8)\n",
    "\n",
    "DataStructs.ConvertToNumpyArray(fp1, vec1)\n",
    "DataStructs.ConvertToNumpyArray(fp2, vec2)\n",
    "\n",
    "print(np.sum(vec1), np.sum(vec2))\n",
    "\n",
    "# measure the similarity between the vectors using cosine similarity\n",
    "print( ' * similarity:', 1 - cosine(vec1, vec2), 1 - jaccard(vec1, vec2))\n",
    "print( ' * similarity:', 1 - cosine(vec1, vec1), 1 - jaccard(vec1, vec1))"
   ]
  },
  {
   "cell_type": "code",
   "execution_count": 165,
   "id": "60941b8e",
   "metadata": {},
   "outputs": [
    {
     "name": "stdout",
     "output_type": "stream",
     "text": [
      "181 160\n",
      " * similarity: 0.8328275265332209 0.5135135135135135\n",
      " * similarity: 1 1.0\n"
     ]
    }
   ],
   "source": [
    "fp1 = AllChem.GetHashedMorganFingerprint(Chem.rdmolfiles.MolFromFASTA('KLLKKLLL'), 2, nBits=2048, useChirality=True)\n",
    "fp2 = AllChem.GetHashedMorganFingerprint(Chem.rdmolfiles.MolFromFASTA('KLLKKLL'), 2, nBits=2048, useChirality=True)\n",
    "\n",
    "vec1 = np.zeros((0,), dtype=np.int8)\n",
    "vec2 = np.zeros((0,), dtype=np.int8)\n",
    "\n",
    "DataStructs.ConvertToNumpyArray(fp1, vec1)\n",
    "DataStructs.ConvertToNumpyArray(fp2, vec2)\n",
    "\n",
    "print(np.sum(vec1), np.sum(vec2))\n",
    "\n",
    "# measure the similarity between the vectors using cosine similarity\n",
    "print( ' * similarity:', 1 - cosine(vec1, vec2), 1 - jaccard(vec1, vec2))\n",
    "print( ' * similarity:', 1 - cosine(vec1, vec1), 1 - jaccard(vec1, vec1))"
   ]
  },
  {
   "cell_type": "code",
   "execution_count": 174,
   "id": "e253d691",
   "metadata": {},
   "outputs": [
    {
     "name": "stdout",
     "output_type": "stream",
     "text": [
      "2278 1770\n",
      " * similarity: 0.9583043220937854 0.3186180422264875\n",
      " * similarity: 1 1.0\n"
     ]
    }
   ],
   "source": [
    "fp1 = Pairs.GetHashedAtomPairFingerprint(Chem.rdmolfiles.MolFromFASTA('KLLKKLLL'), nBits=2048, includeChirality=True)\n",
    "fp2 = Pairs.GetHashedAtomPairFingerprint(Chem.rdmolfiles.MolFromFASTA('KLLKKLL'), nBits=2048, includeChirality=True)\n",
    "\n",
    "vec1 = np.zeros((0,), dtype=np.int8)\n",
    "vec2 = np.zeros((0,), dtype=np.int8)\n",
    "\n",
    "DataStructs.ConvertToNumpyArray(fp1, vec1)\n",
    "DataStructs.ConvertToNumpyArray(fp2, vec2)\n",
    "\n",
    "print(np.sum(vec1), np.sum(vec2))\n",
    "\n",
    "# measure the similarity between the vectors using cosine similarity\n",
    "print( ' * similarity:', 1 - cosine(vec1, vec2), 1 - jaccard(vec1, vec2))\n",
    "print( ' * similarity:', 1 - cosine(vec1, vec1), 1 - jaccard(vec1, vec1))"
   ]
  },
  {
   "cell_type": "code",
   "execution_count": 179,
   "id": "cd620059",
   "metadata": {},
   "outputs": [
    {
     "name": "stdout",
     "output_type": "stream",
     "text": [
      "530 457\n",
      " * similarity: 0.9102946266657893 0.8311688311688312\n",
      " * similarity: 1 1.0\n"
     ]
    }
   ],
   "source": [
    "fp1 = Pairs.GetAtomPairFingerprintAsBitVect(Chem.rdmolfiles.MolFromFASTA('KLLKKLLL'))\n",
    "fp2 = Pairs.GetAtomPairFingerprintAsBitVect(Chem.rdmolfiles.MolFromFASTA('KLLKKLL'))\n",
    "\n",
    "vec1 = np.array(fp1)\n",
    "vec2 = np.array(fp2)\n",
    "\n",
    "print(np.sum(vec1), np.sum(vec2))\n",
    "\n",
    "# measure the similarity between the vectors using cosine similarity\n",
    "print( ' * similarity:', 1 - cosine(vec1, vec2), 1 - jaccard(vec1, vec2))\n",
    "print( ' * similarity:', 1 - cosine(vec1, vec1), 1 - jaccard(vec1, vec1))"
   ]
  },
  {
   "cell_type": "code",
   "execution_count": 188,
   "id": "9715e30f",
   "metadata": {},
   "outputs": [],
   "source": [
    "seqs = ['KLLKKLLL', 'KLLKKLL']\n",
    "fps = [Pairs.GetHashedAtomPairFingerprint(Chem.rdmolfiles.MolFromFASTA(m), nBits=2048, includeChirality=True) for m in seqs]"
   ]
  },
  {
   "cell_type": "code",
   "execution_count": 189,
   "id": "9b990e8b",
   "metadata": {},
   "outputs": [],
   "source": [
    "arr = np.zeros((len(seqs), 2048), dtype = np.int8)\n",
    "\n",
    "for i in range(0,len(seqs)):\n",
    "    DataStructs.ConvertToNumpyArray(fps[i], arr[i])"
   ]
  },
  {
   "cell_type": "code",
   "execution_count": 193,
   "id": "e88c4192",
   "metadata": {},
   "outputs": [
    {
     "data": {
      "text/plain": [
       "1770"
      ]
     },
     "execution_count": 193,
     "metadata": {},
     "output_type": "execute_result"
    }
   ],
   "source": [
    "np.sum(arr[1])"
   ]
  },
  {
   "cell_type": "code",
   "execution_count": 41,
   "id": "668156cc",
   "metadata": {
    "scrolled": true
   },
   "outputs": [
    {
     "name": "stdout",
     "output_type": "stream",
     "text": [
      "Help on module rdkit.Chem.AtomPairs.Pairs in rdkit.Chem.AtomPairs:\n",
      "\n",
      "NAME\n",
      "    rdkit.Chem.AtomPairs.Pairs\n",
      "\n",
      "DESCRIPTION\n",
      "    Contains an implementation of Atom-pair fingerprints, as\n",
      "    described in:\n",
      "    \n",
      "    R.E. Carhart, D.H. Smith, R. Venkataraghavan;\n",
      "    \"Atom Pairs as Molecular Features in Structure-Activity Studies:\n",
      "    Definition and Applications\" JCICS 25, 64-73 (1985).\n",
      "    \n",
      "    The fingerprints can be accessed through the following functions:\n",
      "    - GetAtomPairFingerprint\n",
      "    - GetHashedAtomPairFingerprint (identical to GetAtomPairFingerprint)\n",
      "    - GetAtomPairFingerprintAsIntVect\n",
      "    - GetAtomPairFingerprintAsBitVect\n",
      "\n",
      "FUNCTIONS\n",
      "    ExplainPairScore(score, includeChirality=False)\n",
      "        >>> from rdkit import Chem\n",
      "        >>> m = Chem.MolFromSmiles('C=CC')\n",
      "        >>> score = pyScorePair(m.GetAtomWithIdx(0),m.GetAtomWithIdx(1),1)\n",
      "        >>> ExplainPairScore(score)\n",
      "        (('C', 1, 1), 1, ('C', 2, 1))\n",
      "        >>> score = pyScorePair(m.GetAtomWithIdx(0),m.GetAtomWithIdx(2),2)\n",
      "        >>> ExplainPairScore(score)\n",
      "        (('C', 1, 0), 2, ('C', 1, 1))\n",
      "        >>> score = pyScorePair(m.GetAtomWithIdx(1),m.GetAtomWithIdx(2),1)\n",
      "        >>> ExplainPairScore(score)\n",
      "        (('C', 1, 0), 1, ('C', 2, 1))\n",
      "        >>> score = pyScorePair(m.GetAtomWithIdx(2),m.GetAtomWithIdx(1),1)\n",
      "        >>> ExplainPairScore(score)\n",
      "        (('C', 1, 0), 1, ('C', 2, 1))\n",
      "        \n",
      "        We can optionally deal with chirality too\n",
      "        >>> m = Chem.MolFromSmiles('C[C@H](F)Cl')\n",
      "        >>> score = pyScorePair(m.GetAtomWithIdx(0),m.GetAtomWithIdx(1),1)\n",
      "        >>> ExplainPairScore(score)\n",
      "        (('C', 1, 0), 1, ('C', 3, 0))\n",
      "        >>> score = pyScorePair(m.GetAtomWithIdx(0),m.GetAtomWithIdx(1),1,includeChirality=True)\n",
      "        >>> ExplainPairScore(score,includeChirality=True)\n",
      "        (('C', 1, 0, ''), 1, ('C', 3, 0, 'R'))\n",
      "        >>> m = Chem.MolFromSmiles('F[C@@H](Cl)[C@H](F)Cl')\n",
      "        >>> score = pyScorePair(m.GetAtomWithIdx(1),m.GetAtomWithIdx(3),1,includeChirality=True)\n",
      "        >>> ExplainPairScore(score,includeChirality=True)\n",
      "        (('C', 3, 0, 'R'), 1, ('C', 3, 0, 'S'))\n",
      "    \n",
      "    GetAtomPairFingerprint(...)\n",
      "        GetAtomPairFingerprint( (Mol)mol [, (int)minLength=1 [, (int)maxLength=30 [, (AtomPairsParameters)fromAtoms=0 [, (AtomPairsParameters)ignoreAtoms=0 [, (AtomPairsParameters)atomInvariants=0 [, (bool)includeChirality=False [, (bool)use2D=True [, (int)confId=-1]]]]]]]]) -> IntSparseIntVect :\n",
      "            Returns the atom-pair fingerprint for a molecule as an IntSparseIntVect\n",
      "        \n",
      "            C++ signature :\n",
      "                RDKit::SparseIntVect<int>* GetAtomPairFingerprint(RDKit::ROMol [,unsigned int=1 [,unsigned int=30 [,boost::python::api::object=0 [,boost::python::api::object=0 [,boost::python::api::object=0 [,bool=False [,bool=True [,int=-1]]]]]]]])\n",
      "    \n",
      "    GetAtomPairFingerprintAsBitVect(mol)\n",
      "        Returns the Atom-pair fingerprint for a molecule as\n",
      "        a SparseBitVect. Note that this doesn't match the standard\n",
      "        definition of atom pairs, which uses counts of the\n",
      "        pairs, not just their presence.\n",
      "        \n",
      "        **Arguments**:\n",
      "        \n",
      "          - mol: a molecule\n",
      "        \n",
      "        **Returns**: a SparseBitVect\n",
      "        \n",
      "        >>> from rdkit import Chem\n",
      "        >>> m = Chem.MolFromSmiles('CCC')\n",
      "        >>> v = [ pyScorePair(m.GetAtomWithIdx(0),m.GetAtomWithIdx(1),1),\n",
      "        ...       pyScorePair(m.GetAtomWithIdx(0),m.GetAtomWithIdx(2),2),\n",
      "        ...     ]\n",
      "        >>> v.sort()\n",
      "        >>> fp = GetAtomPairFingerprintAsBitVect(m)\n",
      "        >>> list(fp.GetOnBits())==v\n",
      "        True\n",
      "    \n",
      "    GetAtomPairFingerprintAsIntVect = GetAtomPairFingerprint(...)\n",
      "        GetAtomPairFingerprint( (Mol)mol [, (int)minLength=1 [, (int)maxLength=30 [, (AtomPairsParameters)fromAtoms=0 [, (AtomPairsParameters)ignoreAtoms=0 [, (AtomPairsParameters)atomInvariants=0 [, (bool)includeChirality=False [, (bool)use2D=True [, (int)confId=-1]]]]]]]]) -> IntSparseIntVect :\n",
      "            Returns the atom-pair fingerprint for a molecule as an IntSparseIntVect\n",
      "        \n",
      "            C++ signature :\n",
      "                RDKit::SparseIntVect<int>* GetAtomPairFingerprint(RDKit::ROMol [,unsigned int=1 [,unsigned int=30 [,boost::python::api::object=0 [,boost::python::api::object=0 [,boost::python::api::object=0 [,bool=False [,bool=True [,int=-1]]]]]]]])\n",
      "    \n",
      "    GetHashedAtomPairFingerprint(...)\n",
      "        GetHashedAtomPairFingerprint( (Mol)mol [, (int)nBits=2048 [, (int)minLength=1 [, (int)maxLength=30 [, (AtomPairsParameters)fromAtoms=0 [, (AtomPairsParameters)ignoreAtoms=0 [, (AtomPairsParameters)atomInvariants=0 [, (bool)includeChirality=False [, (bool)use2D=True [, (int)confId=-1]]]]]]]]]) -> IntSparseIntVect :\n",
      "            Returns the hashed atom-pair fingerprint for a molecule as an IntSparseIntVect\n",
      "        \n",
      "            C++ signature :\n",
      "                RDKit::SparseIntVect<int>* GetHashedAtomPairFingerprint(RDKit::ROMol [,unsigned int=2048 [,unsigned int=1 [,unsigned int=30 [,boost::python::api::object=0 [,boost::python::api::object=0 [,boost::python::api::object=0 [,bool=False [,bool=True [,int=-1]]]]]]]]])\n",
      "    \n",
      "    pyScorePair(at1, at2, dist, atomCodes=None, includeChirality=False)\n",
      "        Returns a score for an individual atom pair.\n",
      "        \n",
      "        >>> from rdkit import Chem\n",
      "        >>> m = Chem.MolFromSmiles('CCCCC')\n",
      "        >>> c1 = Utils.GetAtomCode(m.GetAtomWithIdx(0))\n",
      "        >>> c2 = Utils.GetAtomCode(m.GetAtomWithIdx(1))\n",
      "        >>> c3 = Utils.GetAtomCode(m.GetAtomWithIdx(2))\n",
      "        >>> t = 1 | min(c1,c2)<<numPathBits | max(c1,c2)<<(rdMolDescriptors.AtomPairsParameters.codeSize+numPathBits)\n",
      "        >>> pyScorePair(m.GetAtomWithIdx(0),m.GetAtomWithIdx(1),1)==t\n",
      "        1\n",
      "        >>> pyScorePair(m.GetAtomWithIdx(1),m.GetAtomWithIdx(0),1)==t\n",
      "        1\n",
      "        >>> t = 2 | min(c1,c3)<<numPathBits | max(c1,c3)<<(rdMolDescriptors.AtomPairsParameters.codeSize+numPathBits)\n",
      "        >>> pyScorePair(m.GetAtomWithIdx(0),m.GetAtomWithIdx(2),2)==t\n",
      "        1\n",
      "        >>> pyScorePair(m.GetAtomWithIdx(0),m.GetAtomWithIdx(2),2,\n",
      "        ...  atomCodes=(Utils.GetAtomCode(m.GetAtomWithIdx(0)),Utils.GetAtomCode(m.GetAtomWithIdx(2))))==t\n",
      "        1\n",
      "\n",
      "DATA\n",
      "    fpLen = 8388608\n",
      "    numFpBits = 23\n",
      "    numPathBits = 5\n",
      "\n",
      "FILE\n",
      "    /home/eberhardt/Applications/miniconda3/envs/python3/lib/python3.7/site-packages/rdkit/Chem/AtomPairs/Pairs.py\n",
      "\n",
      "\n"
     ]
    }
   ],
   "source": [
    "help(Pairs)"
   ]
  },
  {
   "cell_type": "code",
   "execution_count": 168,
   "id": "f427781d",
   "metadata": {},
   "outputs": [
    {
     "name": "stdout",
     "output_type": "stream",
     "text": [
      "(2048,)\n",
      "(2048,)\n",
      " * similarity: 0.9540233661553899 0.9116052060737527\n",
      " * similarity: 1 1.0\n"
     ]
    }
   ],
   "source": [
    "MAP4_unf = MAP4Calculator(dimensions=2048, radius=4, is_folded=True, is_counted=False)\n",
    "\n",
    "vec1 = np.array(MAP4_unf.calculate(mol=Chem.rdmolfiles.MolFromFASTA('KLLKKLLL')))\n",
    "vec2 = np.array(MAP4_unf.calculate(mol=Chem.rdmolfiles.MolFromFASTA('KLLKKLL')))\n",
    "\n",
    "print(vec1.shape)\n",
    "print(vec2.shape)\n",
    "\n",
    "# measure the similarity between the vectors using cosine similarity\n",
    "print( ' * similarity:', 1 - cosine(vec1, vec2), 1 - jaccard(vec1, vec2))\n",
    "print( ' * similarity:', 1 - cosine(vec1, vec1), 1 - jaccard(vec1, vec1))"
   ]
  },
  {
   "cell_type": "code",
   "execution_count": 169,
   "id": "b3464776",
   "metadata": {},
   "outputs": [
    {
     "name": "stdout",
     "output_type": "stream",
     "text": [
      "(2048,)\n",
      "(2048,)\n",
      " * similarity: 0.8626098279303226 0.6962890625\n",
      " * similarity: 1 1.0\n"
     ]
    }
   ],
   "source": [
    "MAP4_unf = MAP4Calculator(dimensions=2048, radius=4, is_folded=False, is_counted=False)\n",
    "\n",
    "vec1 = np.array(MAP4_unf.calculate(mol=Chem.rdmolfiles.MolFromFASTA('KLLKKLL')))\n",
    "vec2 = np.array(MAP4_unf.calculate(mol=Chem.rdmolfiles.MolFromFASTA('KLLKKLLL')))\n",
    "\n",
    "print(vec1.shape)\n",
    "print(vec2.shape)\n",
    "\n",
    "# measure the similarity between the vectors using cosine similarity\n",
    "print( ' * similarity:', 1 - cosine(vec1, vec2), 1 - jaccard(vec1, vec2))\n",
    "print( ' * similarity:', 1 - cosine(vec1, vec1), 1 - jaccard(vec1, vec1))"
   ]
  },
  {
   "cell_type": "code",
   "execution_count": 25,
   "id": "b1c95cec",
   "metadata": {},
   "outputs": [
    {
     "name": "stdout",
     "output_type": "stream",
     "text": [
      "Help on class MAP4Calculator in module map4.map4:\n",
      "\n",
      "class MAP4Calculator(builtins.object)\n",
      " |  MAP4Calculator(dimensions=1024, radius=2, is_counted=False, is_folded=False, return_strings=False)\n",
      " |  \n",
      " |  Methods defined here:\n",
      " |  \n",
      " |  __init__(self, dimensions=1024, radius=2, is_counted=False, is_folded=False, return_strings=False)\n",
      " |      MAP4 calculator class\n",
      " |  \n",
      " |  calculate(self, mol)\n",
      " |      Calculates the atom pair minhashed fingerprint\n",
      " |      \n",
      " |      Arguments:\n",
      " |          mol -- rdkit mol object\n",
      " |      \n",
      " |      Returns:\n",
      " |          tmap VectorUint -- minhashed fingerprint\n",
      " |  \n",
      " |  calculate_many(self, mols)\n",
      " |      Calculates the atom pair minhashed fingerprint\n",
      " |      \n",
      " |      Arguments:\n",
      " |          mols -- list of mols\n",
      " |      \n",
      " |      Returns:\n",
      " |          list of tmap VectorUint -- minhashed fingerprints list\n",
      " |  \n",
      " |  ----------------------------------------------------------------------\n",
      " |  Data descriptors defined here:\n",
      " |  \n",
      " |  __dict__\n",
      " |      dictionary for instance variables (if defined)\n",
      " |  \n",
      " |  __weakref__\n",
      " |      list of weak references to the object (if defined)\n",
      "\n"
     ]
    }
   ],
   "source": [
    "help(MAP4Calculator)"
   ]
  },
  {
   "cell_type": "code",
   "execution_count": 109,
   "id": "df2ec89e",
   "metadata": {},
   "outputs": [],
   "source": [
    "from scipy.spatial.distance import cosine, jaccard, dice, rogerstanimoto\n",
    "from random import randint\n",
    "import numpy as np\n",
    "\n",
    "# specify the length of each minhash vector\n",
    "N = 128\n",
    "max_val = (2**32)-1\n",
    "\n",
    "# create N tuples that will serve as permutation functions\n",
    "# these permutation values are used to hash all input sets\n",
    "perms = [ (randint(0,max_val), randint(0,max_val)) for i in range(N)]\n",
    "\n",
    "# initialize a sample minhash vector of length N\n",
    "# each record will be represented by its own vec\n",
    "vec = [float('inf') for i in range(N)]\n",
    "\n",
    "def minhash(s, prime=4294967311):\n",
    "  '''\n",
    "  Given a set `s`, pass each member of the set through all permutation\n",
    "  functions, and set the `ith` position of `vec` to the `ith` permutation\n",
    "  function's output if that output is smaller than `vec[i]`.\n",
    "  '''\n",
    "  # initialize a minhash of length N with positive infinity values\n",
    "  vec = [float('inf') for i in range(N)]\n",
    "\n",
    "  for val in s:\n",
    "\n",
    "    # ensure s is composed of integers\n",
    "    if not isinstance(val, int): val = hash(val)\n",
    "\n",
    "    # loop over each \"permutation function\"\n",
    "    for perm_idx, perm_vals in enumerate(perms):\n",
    "      a, b = perm_vals\n",
    "\n",
    "      # pass `val` through the `ith` permutation function\n",
    "      output = (a * val + b) % prime\n",
    "\n",
    "      # conditionally update the `ith` value of vec\n",
    "      if vec[perm_idx] > output:\n",
    "        vec[perm_idx] = output\n",
    "\n",
    "  # the returned vector represents the minimum hash of the set s\n",
    "  return vec"
   ]
  },
  {
   "cell_type": "code",
   "execution_count": 62,
   "id": "55ae5fb3",
   "metadata": {},
   "outputs": [
    {
     "name": "stdout",
     "output_type": "stream",
     "text": [
      "[778384383, 283156841, 110667589, 126495898, 131556771, 546819345, 8733040, 70672335, 151950879, 484250184, 35809988, 410711128, 333056297, 312470045, 433620984, 51959541, 316558976, 162478280, 381005148, 507395899, 14727460, 9561560, 101367602, 169783082, 79017061, 185462886, 280066231, 769727884, 517629918, 374726555, 287045096, 68457968, 63831624, 420122213, 16547863, 901327943, 430365783, 125968700, 223823555, 172360596, 81087952, 48876891, 504084538, 160462718, 143441963, 186212942, 394433330, 109352890, 624591240, 875428160, 332734024, 385840171, 92433154, 109540907, 30352964, 55148677, 197850771, 399346404, 730179644, 88577121, 263437801, 829173828, 178996576, 809484850, 171088731, 206892498, 265978099, 99606002, 25406150, 79959825, 43231762, 101405667, 738432590, 118103538, 489170516, 525981477, 250172249, 169692935, 319191386, 92585095, 196526829, 556900114, 28249728, 375697637, 68797504, 117397767, 178963810, 199560249, 763710429, 115589879, 203432836, 284748977, 67646670, 259194893, 260901661, 276727481, 434259087, 187225013, 477205282, 842445975, 267333512, 490483957, 94143463, 1225476, 201113596, 71383092, 91939184, 17332408, 13577231, 107766127, 270470365, 166702002, 150920555, 321568412, 598014993, 114663192, 27538641, 329487420, 47917170, 248188792, 92271883, 535654371, 261161482, 102260940, 42528670, 1423417562, 134034351, 73178573]\n",
      " * similarity: 0.8720462952674662\n"
     ]
    }
   ],
   "source": [
    "# specify some input sets\n",
    "data1 = set(['minhash', 'is', 'a', 'probabilistic', 'data', 'structure', 'for',\n",
    "        'estimating', 'the', 'similarity', 'between', 'datasets'])\n",
    "data2 = set(['minhash', 'is', 'a', 'probability', 'data', 'structure', 'for',\n",
    "        'estimating', 'the', 'similarity', 'between', 'documents'])\n",
    "\n",
    "# get the minhash vectors for each input set\n",
    "vec1 = minhash(data1)\n",
    "vec2 = minhash(data2)\n",
    "\n",
    "print(vec1)\n",
    "\n",
    "# divide both vectors by their max values to scale values {0:1}\n",
    "vec1 = np.array(vec1) / max(vec1)\n",
    "vec2 = np.array(vec2) / max(vec2)\n",
    "\n",
    "# measure the similarity between the vectors using cosine similarity\n",
    "print( ' * similarity:', 1 - cosine(vec1, vec2) )"
   ]
  },
  {
   "cell_type": "code",
   "execution_count": 59,
   "id": "44f9688f",
   "metadata": {},
   "outputs": [
    {
     "data": {
      "text/plain": [
       "array([5.46841913e-01, 1.98927461e-01, 7.77478036e-02, 8.88677373e-02,\n",
       "       9.24231754e-02, 3.84159476e-01, 6.13526223e-03, 4.96497563e-02,\n",
       "       1.06750741e-01, 3.40202480e-01, 2.51577534e-02, 2.88538753e-01,\n",
       "       2.33983552e-01, 2.19520999e-01, 3.04633718e-01, 3.65033722e-02,\n",
       "       2.22393614e-01, 1.14146603e-01, 2.67669276e-01, 3.56463144e-01,\n",
       "       1.03465493e-02, 6.71732614e-03, 7.12142415e-02, 1.19278479e-01,\n",
       "       5.55122145e-02, 1.30294083e-01, 1.96756200e-01, 5.40760424e-01,\n",
       "       3.63652896e-01, 2.63258347e-01, 2.01659094e-01, 4.80940870e-02,\n",
       "       4.48439205e-02, 2.95150365e-01, 1.16254453e-02, 6.33214010e-01,\n",
       "       3.02346827e-01, 8.84973625e-02, 1.57243778e-01, 1.21089272e-01,\n",
       "       5.69670869e-02, 3.43377041e-02, 3.54136798e-01, 1.12730602e-01,\n",
       "       1.00772933e-01, 1.30821023e-01, 2.77103037e-01, 7.68241821e-02,\n",
       "       4.38796919e-01, 6.15018518e-01, 2.33757144e-01, 2.71066046e-01,\n",
       "       6.49374832e-02, 7.69562705e-02, 2.13240056e-02, 3.87438503e-02,\n",
       "       1.38997000e-01, 2.80554642e-01, 5.12976419e-01, 6.22284868e-02,\n",
       "       1.85074154e-01, 5.82523253e-01, 1.25751277e-01, 5.68691066e-01,\n",
       "       1.20195743e-01, 1.45349126e-01, 1.86858801e-01, 6.99766566e-02,\n",
       "       1.78486979e-02, 5.61745388e-02, 3.03718060e-02, 7.12409835e-02,\n",
       "       5.18774399e-01, 8.29718146e-02, 3.43659183e-01, 3.69520154e-01,\n",
       "       1.75754645e-01, 1.19215148e-01, 2.24242973e-01, 6.50442270e-02,\n",
       "       1.38066885e-01, 3.91241565e-01, 1.98464096e-02, 2.63940566e-01,\n",
       "       4.83326227e-02, 8.24759861e-02, 1.25728258e-01, 1.40197967e-01,\n",
       "       5.36532954e-01, 8.12058823e-02, 1.42918594e-01, 2.00045991e-01,\n",
       "       4.75241221e-02, 1.82093365e-01, 1.83292428e-01, 1.94410613e-01,\n",
       "       3.05082007e-01, 1.31532038e-01, 3.35253193e-01, 5.91847394e-01,\n",
       "       1.87811025e-01, 3.44581920e-01, 6.61390343e-02, 8.60939216e-04,\n",
       "       1.41289247e-01, 5.01490876e-02, 6.45904522e-02, 1.21766153e-02,\n",
       "       9.53847371e-03, 7.57094263e-02, 1.90014773e-01, 1.17113914e-01,\n",
       "       1.06026902e-01, 2.25912916e-01, 4.20126187e-01, 8.05548527e-02,\n",
       "       1.93468464e-02, 2.31476293e-01, 3.36634669e-02, 1.74361198e-01,\n",
       "       6.48241847e-02, 3.76315696e-01, 1.83474961e-01, 7.18418423e-02,\n",
       "       2.98778596e-02, 1.00000000e+00, 9.41637609e-02, 5.14104750e-02])"
      ]
     },
     "execution_count": 59,
     "metadata": {},
     "output_type": "execute_result"
    }
   ],
   "source": [
    "vec1"
   ]
  },
  {
   "cell_type": "code",
   "execution_count": null,
   "id": "77484e37",
   "metadata": {},
   "outputs": [],
   "source": []
  }
 ],
 "metadata": {
  "kernelspec": {
   "display_name": "Python 3 (ipykernel)",
   "language": "python",
   "name": "python3"
  },
  "language_info": {
   "codemirror_mode": {
    "name": "ipython",
    "version": 3
   },
   "file_extension": ".py",
   "mimetype": "text/x-python",
   "name": "python",
   "nbconvert_exporter": "python",
   "pygments_lexer": "ipython3",
   "version": "3.7.12"
  }
 },
 "nbformat": 4,
 "nbformat_minor": 5
}
