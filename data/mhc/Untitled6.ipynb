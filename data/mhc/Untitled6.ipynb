{
 "cells": [
  {
   "cell_type": "code",
   "execution_count": 20,
   "id": "cf615352",
   "metadata": {},
   "outputs": [],
   "source": [
    "%matplotlib inline\n",
    "\n",
    "import os\n",
    "\n",
    "import torch\n",
    "import gpytorch\n",
    "import numpy as np\n",
    "import pandas as pd\n",
    "import matplotlib.pyplot as plt\n",
    "import umap.umap_ as umap\n",
    "from deap import algorithms\n",
    "from deap import base\n",
    "from deap import creator\n",
    "from deap import tools\n",
    "from sklearn.linear_model import LinearRegression\n",
    "from scipy.stats import norm\n",
    "from rdkit import Chem\n",
    "from botorch.models.gpytorch import GPyTorchModel\n",
    "from botorch.fit import fit_gpytorch_model\n",
    "from MDAnalysis.analysis.rms import rmsd\n",
    "from scipy.stats import pearsonr\n",
    "from map4 import MAP4Calculator"
   ]
  },
  {
   "cell_type": "markdown",
   "id": "76142f06",
   "metadata": {},
   "source": [
    "## Read dataset"
   ]
  },
  {
   "cell_type": "code",
   "execution_count": 2,
   "id": "bd283a84",
   "metadata": {},
   "outputs": [],
   "source": [
    "mhci = pd.read_csv('binding_data_2013/bdata.20130222.mhci.csv')"
   ]
  },
  {
   "cell_type": "code",
   "execution_count": 3,
   "id": "9213c58c",
   "metadata": {},
   "outputs": [],
   "source": [
    "# We removed those binding affinity values\n",
    "# A lot of peptides were set with those values. Looks like some default values assigned...\n",
    "dirty_values = [1, 2, 3, 5000, 10000, 20000, 43424, 50000, 69444.44444, 78125]\n",
    "\n",
    "# Split dataset in training and testing sets\n",
    "mhci = mhci[(mhci['mhc_allele'] == 'HLA-A*02:01') &\n",
    "            (mhci['length'] == 9) &\n",
    "            (~mhci['affinity_binding'].isin(dirty_values))]"
   ]
  },
  {
   "cell_type": "code",
   "execution_count": 4,
   "id": "818ce4c3",
   "metadata": {},
   "outputs": [],
   "source": [
    "data = []\n",
    "AA = []\n",
    "\n",
    "with open('IEDB_MHC_I-2.9_matx_smm_smmpmbec/smm_matrix/HLA-A-02:01-9.txt') as f:\n",
    "    lines = f.readlines()\n",
    "    \n",
    "    for line in lines[1:-1]:\n",
    "        sline = line.strip().split('\\t')\n",
    "        AA.append(sline[0])\n",
    "        data.append([float(v) for v in sline[1:]])\n",
    "\n",
    "columns = list(range(1, 10))\n",
    "pssm = pd.DataFrame(data=data, columns=columns, index=AA)"
   ]
  },
  {
   "cell_type": "markdown",
   "id": "9e0dfaab",
   "metadata": {},
   "source": [
    "## Correlation between PSSM and exp. values"
   ]
  },
  {
   "cell_type": "code",
   "execution_count": 5,
   "id": "0162b7ea",
   "metadata": {},
   "outputs": [],
   "source": [
    "pssm_scores = []\n",
    "\n",
    "for peptide in mhci.itertuples():\n",
    "    score = 0\n",
    "    \n",
    "    for i, aa in enumerate(peptide.sequence):\n",
    "        score += pssm.loc[aa][i + 1]\n",
    "    \n",
    "    pssm_scores.append(score)\n",
    "    \n",
    "pssm_scores = np.array(pssm_scores)"
   ]
  },
  {
   "cell_type": "code",
   "execution_count": 6,
   "id": "9e054a9f",
   "metadata": {},
   "outputs": [
    {
     "name": "stdout",
     "output_type": "stream",
     "text": [
      "R2: 0.644\n",
      "RMSD : 1.189 kcal/mol\n"
     ]
    }
   ],
   "source": [
    "# Fit PSSM score to exp. values\n",
    "reg = LinearRegression()\n",
    "reg.fit(pssm_scores[:,None], mhci['energy'])\n",
    "print('R2: %.3f' % reg.score(pssm_scores[:,None], mhci['energy']))\n",
    "print('RMSD : %.3f kcal/mol' % rmsd(reg.predict(pssm_scores[:,None]), mhci['energy']))"
   ]
  },
  {
   "cell_type": "markdown",
   "id": "1ddf08ab",
   "metadata": {},
   "source": [
    "## Bayesian optimization"
   ]
  },
  {
   "cell_type": "code",
   "execution_count": 7,
   "id": "90a0f90d",
   "metadata": {},
   "outputs": [],
   "source": [
    "class TanimotoSimilarityKernel(gpytorch.kernels.Kernel):\n",
    "    # the sequence kernel is stationary\n",
    "    is_stationary = True     \n",
    "\n",
    "    # this is the kernel function\n",
    "    def forward(self, x1, x2, diag=False, last_dim_is_batch=False, **params):\n",
    "        if last_dim_is_batch:\n",
    "            # Not tested\n",
    "            x1 = x1.transpose(-1, -2).unsqueeze(-1)\n",
    "            x2 = x2.transpose(-1, -2).unsqueeze(-1)\n",
    "\n",
    "        x1_eq_x2 = torch.equal(x1, x2)\n",
    "        \n",
    "        x1s = torch.sum(torch.square(x1), dim=-1)\n",
    "        x2s = torch.sum(torch.square(x2), dim=-1)\n",
    "        \n",
    "        if diag:\n",
    "            if x1_eq_x2:\n",
    "                res = torch.ones(*x1.shape[:-2], x1.shape[-2], dtype=x1.dtype, device=x1.device)\n",
    "                return res\n",
    "            else:\n",
    "                product = torch.mul(x1, x2).sum(dim=1)\n",
    "                denominator = torch.add(x2s, x1s) - product\n",
    "        else:\n",
    "            product = torch.mm(x1, x2.transpose(1, 0))\n",
    "            denominator = torch.add(x2s, x1s[:, None]) - product\n",
    "\n",
    "        res = product / denominator\n",
    "        \n",
    "        return res\n",
    "\n",
    "    \n",
    "# We will use the simplest form of GP model, exact inference\n",
    "class ExactGPModel(gpytorch.models.ExactGP, GPyTorchModel):\n",
    "    # to inform GPyTorchModel API\n",
    "    _num_outputs = 1\n",
    "    \n",
    "    def __init__(self, train_x, train_y, likelihood, kernel=None):\n",
    "        super(ExactGPModel, self).__init__(train_x, train_y, likelihood)\n",
    "        self.mean_module = gpytorch.means.ConstantMean()\n",
    "\n",
    "        if kernel is not None:\n",
    "            self.covar_module = gpytorch.kernels.ScaleKernel(kernel())\n",
    "        else:\n",
    "            self.covar_module = gpytorch.kernels.ScaleKernel(TanimotoSimilarityKernel())\n",
    "\n",
    "        # make sure we're on the right device/dtype\n",
    "        self.to(train_x)\n",
    "\n",
    "    def forward(self, x):\n",
    "        mean_x = self.mean_module(x)\n",
    "        covar_x = self.covar_module(x)\n",
    "        return gpytorch.distributions.MultivariateNormal(mean_x, covar_x)\n",
    "    \n",
    "    \n",
    "def get_fitted_model(train_x, train_y, state_dict=None, kernel=None):\n",
    "    # initialize and fit model\n",
    "    likelihood = gpytorch.likelihoods.GaussianLikelihood()\n",
    "    model = ExactGPModel(train_x, train_y, likelihood, kernel)\n",
    "    \n",
    "    if state_dict is not None:\n",
    "        model.load_state_dict(state_dict)\n",
    "    \n",
    "    # \"Loss\" for GPs - the marginal log likelihood\n",
    "    mll = gpytorch.mlls.ExactMarginalLogLikelihood(model.likelihood, model)\n",
    "    mll.to(train_x)\n",
    "    \n",
    "    # Train model!\n",
    "    fit_gpytorch_model(mll)\n",
    "    \n",
    "    return model"
   ]
  },
  {
   "cell_type": "code",
   "execution_count": 22,
   "id": "61be9ead",
   "metadata": {},
   "outputs": [],
   "source": [
    "def predict(model, likelihood, test_x):\n",
    "    model.eval()\n",
    "    likelihood.eval()\n",
    "    \n",
    "    # Make predictions by feeding model through likelihood\n",
    "    with torch.no_grad(), gpytorch.settings.fast_pred_var():\n",
    "        # Test points are regularly spaced along [0,1]\n",
    "        return likelihood(model(test_x))\n",
    "\n",
    "\n",
    "def plot(y_test, observed_pred, fig_filename=None):\n",
    "    with torch.no_grad():\n",
    "        fig, ax = plt.subplots(1, 1, figsize=(10, 10))\n",
    "        \n",
    "        ax.scatter(y_test, observed_pred)\n",
    "        \n",
    "        ax.set_xlim([np.min([y_test, observed_pred]) - 1, np.max([y_test, observed_pred]) + 1])\n",
    "        ax.set_ylim([np.min([y_test, observed_pred]) - 1, np.max([y_test, observed_pred]) + 1])\n",
    "        ax.set_xlabel('Experimental values (kcal/mol)', fontsize=20)\n",
    "        ax.set_ylabel('Predicted values (kcal/mol)', fontsize=20)\n",
    "        \n",
    "        if fig_filename is not None:\n",
    "            plt.savefig(fig_filename, bbox_inches='tight', dpi=300)\n",
    "        \n",
    "        plt.show()"
   ]
  },
  {
   "cell_type": "code",
   "execution_count": 8,
   "id": "5dee5e0e",
   "metadata": {},
   "outputs": [],
   "source": [
    "def expected_improvement(model, Y_train, Xsamples, greater_is_better=False, xi=0.00):\n",
    "    \"\"\" expected_improvement\n",
    "    Expected improvement acquisition function.\n",
    "    \n",
    "    Source: https://github.com/thuijskens/bayesian-optimization/blob/master/python/gp.py\n",
    "    \n",
    "    Arguments:\n",
    "    ----------\n",
    "        model: Gaussian process model\n",
    "        Y_train: Array that contains all the observed energy interaction seed so far\n",
    "        X_samples: Samples we want to try out\n",
    "        greater_is_better: Indicates whether the loss function is to be maximised or minimised.\n",
    "        xi: Exploitation-exploration trade-off parameter\n",
    "\n",
    "    \"\"\"\n",
    "    # calculate mean and stdev via surrogate function\n",
    "    observed_pred = predict(model, model.likelihood, Xsamples)\n",
    "    sigma = observed_pred.variance.sqrt().detach().numpy()\n",
    "    mu = observed_pred.mean.detach().numpy()\n",
    "\n",
    "    if greater_is_better:\n",
    "        loss_optimum = np.max(Y_train.numpy())\n",
    "    else:\n",
    "        loss_optimum = np.min(Y_train.numpy())\n",
    "\n",
    "    scaling_factor = (-1) ** (not greater_is_better)\n",
    "\n",
    "    # calculate the expected improvement\n",
    "    Z = scaling_factor * (mu - loss_optimum - xi) / (sigma + 1E-9)\n",
    "    ei = scaling_factor * (mu - loss_optimum) * norm.cdf(Z) + (sigma * norm.pdf(Z))\n",
    "    ei[sigma == 0.0] == 0.0\n",
    "\n",
    "    return -1 * ei\n",
    "\n",
    "\n",
    "# probability of improvement acquisition function\n",
    "def probability_of_improvement(model, Y_train, Xsamples, greater_is_better=False):\n",
    "    \"\"\" probability_of_improvement\n",
    "    Probability of improvement acquisition function.\n",
    "        \n",
    "    Arguments:\n",
    "    ----------\n",
    "        model: Gaussian process model\n",
    "        Y_train: Array that contains all the observed energy interaction seed so far\n",
    "        X_samples: Samples we want to try out\n",
    "        greater_is_better: Indicates whether the loss function is to be maximised or minimised.\n",
    "\n",
    "    \"\"\"\n",
    "    # calculate mean and stdev via surrogate function\n",
    "    observed_pred = predict(model, model.likelihood, Xsamples)\n",
    "    sigma = observed_pred.variance.sqrt().detach().numpy()\n",
    "    mu = observed_pred.mean.detach().numpy()\n",
    "    \n",
    "    if greater_is_better:\n",
    "        loss_optimum = np.max(Y_train.numpy())\n",
    "    else:\n",
    "        loss_optimum = np.min(Y_train.numpy())\n",
    "\n",
    "    scaling_factor = (-1) ** (not greater_is_better)\n",
    "    \n",
    "    # calculate the probability of improvement\n",
    "    Z = scaling_factor * (mu - loss_optimum) / (sigma + 1E-9)\n",
    "    pi = norm.cdf(Z)\n",
    "    pi[sigma == 0.0] == 0.0\n",
    "    \n",
    "    return pi"
   ]
  },
  {
   "cell_type": "code",
   "execution_count": 14,
   "id": "d161afd5",
   "metadata": {},
   "outputs": [],
   "source": [
    "def predict_peptide_affinity_binding(sequences, pssm, reg, cutoff=-5.0):\n",
    "    scores = []\n",
    "    \n",
    "    for sequence in sequences:\n",
    "        score = 0\n",
    "        \n",
    "        for i, aa in enumerate(sequence):\n",
    "            score += pssm.loc[aa][i + 1]\n",
    "        \n",
    "        scores.append(score)\n",
    "    \n",
    "    pred_scores = reg.predict(np.array(scores)[:,None])\n",
    "    pred_scores[pred_scores > cutoff] = 0.\n",
    "    \n",
    "    return pred_scores\n",
    "\n",
    "\n",
    "def generate_random_peptides(n_peptides, peptide_length, pssm, reg, energy_bounds, energy_cutoff):\n",
    "    random_peptides = []\n",
    "    random_peptide_scores = []\n",
    "\n",
    "    while True:\n",
    "        p = ''.join(np.random.choice(pssm.index, peptide_length))\n",
    "        s = predict_peptide_affinity_binding([p], pssm, reg, cutoff=energy_cutoff)[0]\n",
    "\n",
    "        if energy_bounds[0] <= s <= energy_bounds[1]:\n",
    "            random_peptides.append(p)\n",
    "            random_peptide_scores.append(s)\n",
    "\n",
    "        if len(random_peptides) == n_peptides:\n",
    "            break\n",
    "\n",
    "    random_peptides = np.array(random_peptides)\n",
    "    random_peptide_scores = np.array(random_peptide_scores)\n",
    "    \n",
    "    return random_peptides, random_peptide_scores"
   ]
  },
  {
   "cell_type": "code",
   "execution_count": 15,
   "id": "b3590e2a",
   "metadata": {},
   "outputs": [],
   "source": [
    "def map4_fingerprint(sequences, dimensions=4096, radius=2, is_counted=False, is_folded=True):\n",
    "    MAP4_unf = MAP4Calculator(dimensions=dimensions, radius=radius, is_counted=is_counted, is_folded=is_folded)\n",
    "    fps = MAP4_unf.calculate_many([Chem.rdmolfiles.MolFromFASTA(s) for s in sequences])\n",
    "    return torch.from_numpy(np.array(fps)).float()"
   ]
  },
  {
   "cell_type": "code",
   "execution_count": 16,
   "id": "c57901cc",
   "metadata": {},
   "outputs": [],
   "source": [
    "class AcqScoring:\n",
    "    def __init__(self, model, acq_fun, y_exp):\n",
    "        self._model = model\n",
    "        self._acq_fun = acq_fun\n",
    "        self._y_exp = y_exp\n",
    "        \n",
    "    def evaluate(self, sequences):\n",
    "        fps = map4_fingerprint(sequences)\n",
    "        return self._acq_fun(self._model, self._y_exp, fps)"
   ]
  },
  {
   "cell_type": "code",
   "execution_count": 17,
   "id": "cb53f56d",
   "metadata": {},
   "outputs": [],
   "source": [
    "class PBIL(object):\n",
    "    def __init__(self, scorer, peptide_length=9, population_size=96, n_best=48,\n",
    "                 learning_rate=0.5, mut_prob=0.0, mut_shift=0.00, greater_is_better=True, seed=None):\n",
    "        self._AA1 = ['A', 'R', 'N', 'D', 'C', 'Q', 'E', 'G', 'H', 'I',\n",
    "                     'L', 'K', 'M', 'F', 'P', 'S', 'T', 'W', 'Y', 'V']\n",
    "        \n",
    "        # Scoring object\n",
    "        self._scorer = scorer\n",
    "        \n",
    "        # Random generation\n",
    "        self._random_seed = seed\n",
    "        self._rng = np.random.default_rng(self._random_seed)\n",
    "\n",
    "        # Initialize probability vectors\n",
    "        n_amino_acids = len(self._AA1)\n",
    "        self._peptide_length = peptide_length\n",
    "        init_probability = 1. / n_amino_acids\n",
    "        self._prob_vector = np.zeros(shape=(peptide_length, n_amino_acids)) + init_probability\n",
    "\n",
    "        # PBIL parameters\n",
    "        self._n_best = n_best\n",
    "        self._learning_rate = learning_rate\n",
    "        self._mut_prob = mut_prob\n",
    "        self._mut_shift = mut_shift\n",
    "        self._population_size = population_size\n",
    "        \n",
    "        # Elitism\n",
    "        self._greater_is_better = greater_is_better\n",
    "        self._best_score = np.inf * (-1) ** (self._greater_is_better)\n",
    "\n",
    "    def sample(self):\n",
    "        ind = [self._rng.choice(self._AA1, p=self._prob_vector[i]) for i in range(self._peptide_length)]\n",
    "        return (ind)\n",
    "    \n",
    "    def evaluate(self, individual):\n",
    "        return self._scorer.evaluate([''.join(individual)])[0],\n",
    "    \n",
    "    def generate(self, ind_init):\n",
    "        return [ind_init(self.sample()) for _ in range(self._population_size)]\n",
    "\n",
    "    def update(self, population, scores=None):\n",
    "        if scores is None:\n",
    "            scores = np.array([ind.fitness.values[0] for ind in population])\n",
    "        \n",
    "        if self._greater_is_better:\n",
    "            sorted_peptide_indices = np.argsort(np.ravel(scores))[::-1]\n",
    "        else:\n",
    "            sorted_peptide_indices = np.argsort(np.ravel(scores))\n",
    "        \n",
    "        best_peptide_indices = sorted_peptide_indices[:self._n_best]\n",
    "        best_peptides = np.array(population)[best_peptide_indices]\n",
    "        \n",
    "        for i in range(self._peptide_length):\n",
    "            if self._n_best > 1:                \n",
    "                # Inverse the order\n",
    "                # For this position, put the best peptide at the end\n",
    "                # When updating the probability vector, the last one has more impact \n",
    "                # then the first sequence\n",
    "                amino_acids = np.flip(best_peptides[:,i])\n",
    "                \n",
    "            else:\n",
    "                # When we choose only one best peptide for updating the probability vector\n",
    "                amino_acids = [best_peptides[0][i]]\n",
    "            \n",
    "            for amino_acid in amino_acids:\n",
    "                j = self._AA1.index(amino_acid)\n",
    "                \n",
    "                # Update the probability vector\n",
    "                self._prob_vector[i, j] *= 1.0 - self._learning_rate\n",
    "                self._prob_vector[i, j] += self._learning_rate\n",
    "\n",
    "                # Mutate the probability vector\n",
    "                if self._rng.uniform() < self._mut_prob:\n",
    "                    self._prob_vector[i, j] *= 1.0 - self._mut_shift\n",
    "                    self._prob_vector[i, j] += self._rng.uniform() * self._mut_shift\n",
    "            \n",
    "            # Normalize vector\n",
    "            self._prob_vector[i] /= np.sum(self._prob_vector[i])"
   ]
  },
  {
   "cell_type": "code",
   "execution_count": 18,
   "id": "1fb2ed66",
   "metadata": {},
   "outputs": [],
   "source": [
    "def find_next_candidates(scorer, greater_is_better=True):\n",
    "    NGEN = 10\n",
    "    NIND = 250\n",
    "    NBEST = 50\n",
    "    NLEN = 9\n",
    "    NCAN = 96\n",
    "\n",
    "    #Initialize the PBIL EDA\n",
    "    pbil = PBIL(scorer, peptide_length=NLEN, population_size=NIND, n_best=NBEST,\n",
    "                greater_is_better=greater_is_better)\n",
    "\n",
    "    scaling_factor = (-1) ** (not greater_is_better)\n",
    "    creator.create(\"Fitness\", base.Fitness, weights=(scaling_factor,))\n",
    "    creator.create(\"Individual\", list, fitness=creator.Fitness)\n",
    "\n",
    "    toolbox = base.Toolbox()\n",
    "    toolbox.register(\"evaluate\", pbil.evaluate)\n",
    "    toolbox.register(\"generate\", pbil.generate, creator.Individual)\n",
    "    toolbox.register(\"update\", pbil.update)\n",
    "\n",
    "    # Statistics computation\n",
    "    hof = tools.HallOfFame(NCAN)\n",
    "    stats = tools.Statistics(lambda ind: ind.fitness.values)\n",
    "    stats.register(\"avg\", np.mean)\n",
    "    stats.register(\"std\", np.std)\n",
    "    stats.register(\"min\", np.min)\n",
    "    stats.register(\"max\", np.max)\n",
    "\n",
    "    pop, logbook = algorithms.eaGenerateUpdate(toolbox, NGEN, stats=stats, verbose=True, halloffame=hof)\n",
    "    \n",
    "    candidates = [''.join(s) for s in hof.items]\n",
    "    candidates_acq = np.array([k.values[0] for k in hof.keys])\n",
    "\n",
    "    return candidates, candidates_acq\n",
    "\n",
    "\n",
    "def find_next_candidates_by_random(scorer, greater_is_better=True):\n",
    "    NGEN = 10\n",
    "    NIND = 250\n",
    "    NBEST = 50\n",
    "    NLEN = 9\n",
    "    NCAN = 96\n",
    "    AA1 = ['A', 'R', 'N', 'D', 'C', 'Q', 'E', 'G', 'H', 'I', 'L', 'K', 'M', 'F', 'P', 'S', 'T', 'W', 'Y', 'V']\n",
    "    \n",
    "    sequences = np.array([''.join(s) for s in np.random.choice(AA1, (NGEN * NIND, NLEN))])\n",
    "    \n",
    "    sequence_acqs = scorer.evaluate(sequences)\n",
    "    \n",
    "    if greater_is_better:\n",
    "        sorted_peptide_indices = np.argsort(np.ravel(sequence_acqs))[::-1]\n",
    "    else:\n",
    "        sorted_peptide_indices = np.argsort(np.ravel(sequence_acqs))\n",
    "            \n",
    "    candidates = sequences[sorted_peptide_indices[:NCAN]]\n",
    "    candidate_acqs = sequence_acqs[sorted_peptide_indices[:NCAN]]\n",
    "                        \n",
    "    return candidates, candidate_acqs"
   ]
  },
  {
   "cell_type": "markdown",
   "id": "2b537a18",
   "metadata": {},
   "source": [
    "### Candidate peptides sampling with PBIL"
   ]
  },
  {
   "cell_type": "code",
   "execution_count": 24,
   "id": "f582b1e4",
   "metadata": {
    "scrolled": true
   },
   "outputs": [
    {
     "name": "stdout",
     "output_type": "stream",
     "text": [
      "Run: 1\n",
      "Exp dataset size: (150, 4096)\n",
      "\n",
      "\n",
      "Init.\n",
      "N pep:  150\n",
      "Best peptide: -8.032\n",
      "N pep under -12 kcal/mol: 000\n",
      "N pep under -11 kcal/mol: 000\n",
      "N pep under -10 kcal/mol: 000\n",
      "N pep under -9 kcal/mol: 000\n",
      "N pep under -8 kcal/mol: 002\n",
      "N pep under -7 kcal/mol: 032\n",
      "N pep under -6 kcal/mol: 089\n",
      "N pep under -5 kcal/mol: 150\n",
      "Non binding pep        : 000\n",
      "\n",
      "\n",
      "\n",
      "Generation: 1\n"
     ]
    },
    {
     "name": "stderr",
     "output_type": "stream",
     "text": [
      "/home/eberhardt/Applications/miniconda3/envs/python3/lib/python3.7/site-packages/deap/creator.py:141: RuntimeWarning: A class named 'Fitness' has already been created and it will be overwritten. Consider deleting previous creation of that class or rename it.\n",
      "  RuntimeWarning)\n",
      "/home/eberhardt/Applications/miniconda3/envs/python3/lib/python3.7/site-packages/deap/creator.py:141: RuntimeWarning: A class named 'Individual' has already been created and it will be overwritten. Consider deleting previous creation of that class or rename it.\n",
      "  RuntimeWarning)\n"
     ]
    },
    {
     "name": "stdout",
     "output_type": "stream",
     "text": [
      "gen\tnevals\tavg        \tstd      \tmin       \tmax        \n",
      "0  \t250   \t-0.00557817\t0.0032242\t-0.0207908\t-0.00096396\n",
      "1  \t250   \t-0.00785791\t0.00495869\t-0.0285234\t-0.00166165\n",
      "2  \t250   \t-0.0102963 \t0.00552548\t-0.0318148\t-0.00202629\n",
      "3  \t250   \t-0.0122815 \t0.00630927\t-0.0397162\t-0.00252648\n",
      "4  \t250   \t-0.0155142 \t0.00657743\t-0.0365998\t-0.00397075\n",
      "5  \t250   \t-0.0164535 \t0.0063219 \t-0.0364646\t-0.00365268\n",
      "6  \t250   \t-0.0185292 \t0.00660351\t-0.050673 \t-0.0068067 \n",
      "7  \t250   \t-0.0196709 \t0.00687988\t-0.0432134\t-0.00629969\n",
      "8  \t250   \t-0.0198859 \t0.00642546\t-0.0410384\t-0.00687296\n",
      "9  \t250   \t-0.021503  \t0.00637597\t-0.0425511\t-0.00889663\n",
      "\n",
      "N pep:  246\n",
      "Best peptide: -12.492\n",
      "N pep under -12 kcal/mol: 003\n",
      "N pep under -11 kcal/mol: 011\n",
      "N pep under -10 kcal/mol: 023\n",
      "N pep under -9 kcal/mol: 057\n",
      "N pep under -8 kcal/mol: 076\n",
      "N pep under -7 kcal/mol: 122\n",
      "N pep under -6 kcal/mol: 183\n",
      "N pep under -5 kcal/mol: 246\n",
      "Non binding pep        : 000\n"
     ]
    },
    {
     "data": {
      "image/png": "[encoded data removed]",
      "text/plain": [
       "<Figure size 360x360 with 1 Axes>"
      ]
     },
     "metadata": {
      "needs_background": "light"
     },
     "output_type": "display_data"
    },
    {
     "name": "stdout",
     "output_type": "stream",
     "text": [
      "\n",
      "\n",
      "\n",
      "Generation: 2\n"
     ]
    },
    {
     "name": "stderr",
     "output_type": "stream",
     "text": [
      "/home/eberhardt/Applications/miniconda3/envs/python3/lib/python3.7/site-packages/deap/creator.py:141: RuntimeWarning: A class named 'Fitness' has already been created and it will be overwritten. Consider deleting previous creation of that class or rename it.\n",
      "  RuntimeWarning)\n",
      "/home/eberhardt/Applications/miniconda3/envs/python3/lib/python3.7/site-packages/deap/creator.py:141: RuntimeWarning: A class named 'Individual' has already been created and it will be overwritten. Consider deleting previous creation of that class or rename it.\n",
      "  RuntimeWarning)\n"
     ]
    },
    {
     "name": "stdout",
     "output_type": "stream",
     "text": [
      "gen\tnevals\tavg         \tstd        \tmin         \tmax         \n",
      "0  \t250   \t-1.77469e-08\t1.82192e-07\t-2.84589e-06\t-4.70097e-17\n",
      "1  \t250   \t-3.09001e-05\t0.000476941\t-0.00755653 \t-6.83944e-16\n",
      "2  \t250   \t-4.93292e-06\t3.40193e-05\t-0.000419727\t-1.43581e-13\n",
      "3  \t250   \t-2.00739e-05\t0.00024385 \t-0.00385475 \t-8.40369e-14\n",
      "4  \t250   \t-8.20158e-06\t3.35899e-05\t-0.000330576\t-1.4463e-10 \n",
      "5  \t250   \t-8.95005e-05\t0.000640347\t-0.00732002 \t-7.18043e-11\n",
      "6  \t250   \t-0.000120059\t0.000948432\t-0.0122376  \t-5.69745e-10\n",
      "7  \t250   \t-0.000189984\t0.00251388 \t-0.0398223  \t-9.75605e-10\n",
      "8  \t250   \t-6.53588e-05\t0.000314092\t-0.00345102 \t-1.67975e-09\n",
      "9  \t250   \t-8.25183e-05\t0.000675566\t-0.0103132  \t-5.14908e-10\n",
      "\n",
      "N pep:  342\n",
      "Best peptide: -12.710\n",
      "N pep under -12 kcal/mol: 005\n",
      "N pep under -11 kcal/mol: 033\n",
      "N pep under -10 kcal/mol: 088\n",
      "N pep under -9 kcal/mol: 148\n",
      "N pep under -8 kcal/mol: 172\n",
      "N pep under -7 kcal/mol: 218\n",
      "N pep under -6 kcal/mol: 279\n",
      "N pep under -5 kcal/mol: 342\n",
      "Non binding pep        : 000\n"
     ]
    },
    {
     "data": {
      "image/png": "[encoded data removed]",
      "text/plain": [
       "<Figure size 360x360 with 1 Axes>"
      ]
     },
     "metadata": {
      "needs_background": "light"
     },
     "output_type": "display_data"
    },
    {
     "name": "stdout",
     "output_type": "stream",
     "text": [
      "\n",
      "\n",
      "\n",
      "Generation: 3\n"
     ]
    },
    {
     "name": "stderr",
     "output_type": "stream",
     "text": [
      "/home/eberhardt/Applications/miniconda3/envs/python3/lib/python3.7/site-packages/deap/creator.py:141: RuntimeWarning: A class named 'Fitness' has already been created and it will be overwritten. Consider deleting previous creation of that class or rename it.\n",
      "  RuntimeWarning)\n",
      "/home/eberhardt/Applications/miniconda3/envs/python3/lib/python3.7/site-packages/deap/creator.py:141: RuntimeWarning: A class named 'Individual' has already been created and it will be overwritten. Consider deleting previous creation of that class or rename it.\n",
      "  RuntimeWarning)\n"
     ]
    },
    {
     "name": "stdout",
     "output_type": "stream",
     "text": [
      "gen\tnevals\tavg         \tstd       \tmin         \tmax         \n",
      "0  \t250   \t-2.31371e-09\t2.4201e-08\t-3.70452e-07\t-1.48187e-20\n",
      "1  \t250   \t-9.7284e-08 \t9.80297e-07\t-1.3014e-05 \t-4.05181e-17\n",
      "2  \t250   \t-5.134e-07  \t3.74112e-06\t-4.23863e-05\t-1.5427e-17 \n",
      "3  \t250   \t-2.39215e-05\t0.000322705\t-0.00508959 \t-2.61754e-15\n",
      "4  \t250   \t-7.1886e-06 \t4.65105e-05\t-0.000551624\t-6.59604e-14\n",
      "5  \t250   \t-0.000143304\t0.001468   \t-0.0172817  \t-2.10309e-14\n",
      "6  \t250   \t-0.000452719\t0.00332552 \t-0.0420526  \t-1.15592e-12\n",
      "7  \t250   \t-0.000201686\t0.00249773 \t-0.0392143  \t-6.75656e-11\n",
      "8  \t250   \t-4.27296e-05\t0.000402745\t-0.00621546 \t-1.64417e-12\n",
      "9  \t250   \t-0.000120729\t0.000950578\t-0.0104364  \t-2.56242e-11\n",
      "\n",
      "N pep:  438\n",
      "Best peptide: -12.710\n",
      "N pep under -12 kcal/mol: 007\n",
      "N pep under -11 kcal/mol: 065\n",
      "N pep under -10 kcal/mol: 163\n",
      "N pep under -9 kcal/mol: 242\n",
      "N pep under -8 kcal/mol: 268\n",
      "N pep under -7 kcal/mol: 314\n",
      "N pep under -6 kcal/mol: 375\n",
      "N pep under -5 kcal/mol: 438\n",
      "Non binding pep        : 000\n"
     ]
    },
    {
     "data": {
      "image/png": "[encoded data removed]",
      "text/plain": [
       "<Figure size 360x360 with 1 Axes>"
      ]
     },
     "metadata": {
      "needs_background": "light"
     },
     "output_type": "display_data"
    },
    {
     "name": "stdout",
     "output_type": "stream",
     "text": [
      "\n",
      "\n",
      "\n",
      "Run: 2\n",
      "Exp dataset size: (150, 4096)\n",
      "\n",
      "\n",
      "Init.\n",
      "N pep:  150\n",
      "Best peptide: -8.185\n",
      "N pep under -12 kcal/mol: 000\n",
      "N pep under -11 kcal/mol: 000\n",
      "N pep under -10 kcal/mol: 000\n",
      "N pep under -9 kcal/mol: 000\n",
      "N pep under -8 kcal/mol: 002\n",
      "N pep under -7 kcal/mol: 024\n",
      "N pep under -6 kcal/mol: 079\n",
      "N pep under -5 kcal/mol: 150\n",
      "Non binding pep        : 000\n",
      "\n",
      "\n",
      "\n",
      "Generation: 1\n"
     ]
    },
    {
     "name": "stderr",
     "output_type": "stream",
     "text": [
      "/home/eberhardt/Applications/miniconda3/envs/python3/lib/python3.7/site-packages/deap/creator.py:141: RuntimeWarning: A class named 'Fitness' has already been created and it will be overwritten. Consider deleting previous creation of that class or rename it.\n",
      "  RuntimeWarning)\n",
      "/home/eberhardt/Applications/miniconda3/envs/python3/lib/python3.7/site-packages/deap/creator.py:141: RuntimeWarning: A class named 'Individual' has already been created and it will be overwritten. Consider deleting previous creation of that class or rename it.\n",
      "  RuntimeWarning)\n"
     ]
    },
    {
     "name": "stdout",
     "output_type": "stream",
     "text": [
      "gen\tnevals\tavg        \tstd       \tmin        \tmax         \n",
      "0  \t250   \t-0.00141773\t0.00143827\t-0.00880718\t-5.32699e-05\n",
      "1  \t250   \t-0.00248923\t0.00238802\t-0.0150255 \t-0.000104262\n",
      "2  \t250   \t-0.00314018\t0.0024672 \t-0.0133903 \t-0.000143606\n",
      "3  \t250   \t-0.00417814\t0.00338957\t-0.024786  \t-0.000259414\n",
      "4  \t250   \t-0.00539499\t0.00333892\t-0.0222694 \t-0.00080574 \n",
      "5  \t250   \t-0.00561146\t0.00313572\t-0.0177342 \t-0.000738112\n",
      "6  \t250   \t-0.00623299\t0.00379644\t-0.0231843 \t-0.00108569 \n",
      "7  \t250   \t-0.0072677 \t0.00383421\t-0.0235068 \t-0.000813802\n",
      "8  \t250   \t-0.00844054\t0.00469569\t-0.0307605 \t-0.00149678 \n",
      "9  \t250   \t-0.00902179\t0.00482576\t-0.0299679 \t-0.00171532 \n",
      "\n",
      "N pep:  246\n",
      "Best peptide: -11.948\n",
      "N pep under -12 kcal/mol: 000\n",
      "N pep under -11 kcal/mol: 004\n",
      "N pep under -10 kcal/mol: 017\n",
      "N pep under -9 kcal/mol: 052\n",
      "N pep under -8 kcal/mol: 078\n",
      "N pep under -7 kcal/mol: 117\n",
      "N pep under -6 kcal/mol: 175\n",
      "N pep under -5 kcal/mol: 246\n",
      "Non binding pep        : 000\n"
     ]
    },
    {
     "data": {
      "image/png": "[encoded data removed]",
      "text/plain": [
       "<Figure size 360x360 with 1 Axes>"
      ]
     },
     "metadata": {
      "needs_background": "light"
     },
     "output_type": "display_data"
    },
    {
     "name": "stdout",
     "output_type": "stream",
     "text": [
      "\n",
      "\n",
      "\n",
      "Generation: 2\n"
     ]
    },
    {
     "name": "stderr",
     "output_type": "stream",
     "text": [
      "/home/eberhardt/Applications/miniconda3/envs/python3/lib/python3.7/site-packages/deap/creator.py:141: RuntimeWarning: A class named 'Fitness' has already been created and it will be overwritten. Consider deleting previous creation of that class or rename it.\n",
      "  RuntimeWarning)\n",
      "/home/eberhardt/Applications/miniconda3/envs/python3/lib/python3.7/site-packages/deap/creator.py:141: RuntimeWarning: A class named 'Individual' has already been created and it will be overwritten. Consider deleting previous creation of that class or rename it.\n",
      "  RuntimeWarning)\n"
     ]
    },
    {
     "name": "stdout",
     "output_type": "stream",
     "text": [
      "gen\tnevals\tavg         \tstd       \tmin        \tmax         \n",
      "0  \t250   \t-7.76254e-08\t9.5412e-07\t-1.5013e-05\t-5.09373e-20\n",
      "1  \t250   \t-1.11295e-06\t6.90232e-06\t-7.5812e-05\t-1.87975e-16\n",
      "2  \t250   \t-7.99261e-06\t7.41572e-05\t-0.00113653\t-8.09134e-14\n",
      "3  \t250   \t-8.52484e-06\t5.11705e-05\t-0.000613177\t-2.14809e-12\n",
      "4  \t250   \t-7.64201e-06\t3.28425e-05\t-0.000316258\t-6.90246e-14\n",
      "5  \t250   \t-6.94681e-05\t0.000789945\t-0.0124132  \t-1.34451e-12\n",
      "6  \t250   \t-7.26291e-05\t0.000512047\t-0.0076353  \t-4.73727e-11\n",
      "7  \t250   \t-2.71729e-05\t0.000101538\t-0.000949117\t-2.70824e-10\n",
      "8  \t250   \t-9.91817e-05\t0.000586761\t-0.00868911 \t-1.19027e-09\n",
      "9  \t250   \t-0.000112474\t0.0003987  \t-0.00337145 \t-1.769e-09  \n",
      "\n",
      "N pep:  342\n",
      "Best peptide: -12.125\n",
      "N pep under -12 kcal/mol: 003\n",
      "N pep under -11 kcal/mol: 017\n",
      "N pep under -10 kcal/mol: 068\n",
      "N pep under -9 kcal/mol: 133\n",
      "N pep under -8 kcal/mol: 170\n",
      "N pep under -7 kcal/mol: 213\n",
      "N pep under -6 kcal/mol: 271\n",
      "N pep under -5 kcal/mol: 342\n",
      "Non binding pep        : 000\n"
     ]
    },
    {
     "data": {
      "image/png": "[encoded data removed]",
      "text/plain": [
       "<Figure size 360x360 with 1 Axes>"
      ]
     },
     "metadata": {
      "needs_background": "light"
     },
     "output_type": "display_data"
    },
    {
     "name": "stdout",
     "output_type": "stream",
     "text": [
      "\n",
      "\n",
      "\n",
      "Generation: 3\n"
     ]
    },
    {
     "name": "stderr",
     "output_type": "stream",
     "text": [
      "/home/eberhardt/Applications/miniconda3/envs/python3/lib/python3.7/site-packages/deap/creator.py:141: RuntimeWarning: A class named 'Fitness' has already been created and it will be overwritten. Consider deleting previous creation of that class or rename it.\n",
      "  RuntimeWarning)\n",
      "/home/eberhardt/Applications/miniconda3/envs/python3/lib/python3.7/site-packages/deap/creator.py:141: RuntimeWarning: A class named 'Individual' has already been created and it will be overwritten. Consider deleting previous creation of that class or rename it.\n",
      "  RuntimeWarning)\n"
     ]
    },
    {
     "name": "stdout",
     "output_type": "stream",
     "text": [
      "gen\tnevals\tavg         \tstd        \tmin         \tmax        \n",
      "0  \t250   \t-6.12121e-08\t6.45631e-07\t-8.76453e-06\t-8.6936e-18\n",
      "1  \t250   \t-1.96219e-07\t1.07287e-06\t-9.28437e-06\t-1.74088e-19\n",
      "2  \t250   \t-4.25177e-05\t0.000657238\t-0.0104132  \t-3.00153e-15\n",
      "3  \t250   \t-1.00185e-05\t9.12287e-05\t-0.00134351 \t-4.80915e-14\n",
      "4  \t250   \t-3.80996e-05\t0.000260108\t-0.00339639 \t-1.16524e-14\n",
      "5  \t250   \t-7.32552e-06\t4.52263e-05\t-0.000553819\t-9.23353e-15\n",
      "6  \t250   \t-0.000130923\t0.00110638 \t-0.0135246  \t-4e-14      \n",
      "7  \t250   \t-0.000164307\t0.00155514 \t-0.0233227  \t-2.25045e-12\n",
      "8  \t250   \t-0.000135597\t0.00101158 \t-0.0148452  \t-3.90269e-12\n",
      "9  \t250   \t-0.000126498\t0.00103335 \t-0.0156902  \t-7.84981e-13\n",
      "\n",
      "N pep:  438\n",
      "Best peptide: -12.582\n",
      "N pep under -12 kcal/mol: 007\n",
      "N pep under -11 kcal/mol: 036\n",
      "N pep under -10 kcal/mol: 134\n",
      "N pep under -9 kcal/mol: 222\n",
      "N pep under -8 kcal/mol: 264\n",
      "N pep under -7 kcal/mol: 309\n",
      "N pep under -6 kcal/mol: 367\n",
      "N pep under -5 kcal/mol: 438\n",
      "Non binding pep        : 000\n"
     ]
    },
    {
     "data": {
      "image/png": "[encoded data removed]",
      "text/plain": [
       "<Figure size 360x360 with 1 Axes>"
      ]
     },
     "metadata": {
      "needs_background": "light"
     },
     "output_type": "display_data"
    },
    {
     "name": "stdout",
     "output_type": "stream",
     "text": [
      "\n",
      "\n",
      "\n",
      "Run: 3\n",
      "Exp dataset size: (150, 4096)\n",
      "\n",
      "\n",
      "Init.\n",
      "N pep:  150\n",
      "Best peptide: -8.177\n",
      "N pep under -12 kcal/mol: 000\n",
      "N pep under -11 kcal/mol: 000\n",
      "N pep under -10 kcal/mol: 000\n",
      "N pep under -9 kcal/mol: 000\n",
      "N pep under -8 kcal/mol: 004\n",
      "N pep under -7 kcal/mol: 032\n",
      "N pep under -6 kcal/mol: 099\n",
      "N pep under -5 kcal/mol: 150\n",
      "Non binding pep        : 000\n",
      "\n",
      "\n",
      "\n",
      "Generation: 1\n"
     ]
    },
    {
     "name": "stderr",
     "output_type": "stream",
     "text": [
      "/home/eberhardt/Applications/miniconda3/envs/python3/lib/python3.7/site-packages/deap/creator.py:141: RuntimeWarning: A class named 'Fitness' has already been created and it will be overwritten. Consider deleting previous creation of that class or rename it.\n",
      "  RuntimeWarning)\n",
      "/home/eberhardt/Applications/miniconda3/envs/python3/lib/python3.7/site-packages/deap/creator.py:141: RuntimeWarning: A class named 'Individual' has already been created and it will be overwritten. Consider deleting previous creation of that class or rename it.\n",
      "  RuntimeWarning)\n"
     ]
    },
    {
     "name": "stdout",
     "output_type": "stream",
     "text": [
      "gen\tnevals\tavg        \tstd        \tmin        \tmax        \n",
      "0  \t250   \t-0.00308799\t2.95275e-09\t-0.00308799\t-0.00308798\n",
      "1  \t250   \t-0.00308799\t3.07722e-09\t-0.00308799\t-0.00308798\n",
      "2  \t250   \t-0.00308799\t2.96588e-09\t-0.00308799\t-0.00308798\n",
      "3  \t250   \t-0.00308799\t2.79614e-09\t-0.00308799\t-0.00308798\n",
      "4  \t250   \t-0.00308799\t2.78221e-09\t-0.00308799\t-0.00308798\n",
      "5  \t250   \t-0.00308799\t2.53856e-09\t-0.00308799\t-0.00308799\n",
      "6  \t250   \t-0.00308799\t2.53856e-09\t-0.00308799\t-0.00308799\n",
      "7  \t250   \t-0.00308799\t2.61841e-09\t-0.00308799\t-0.00308799\n",
      "8  \t250   \t-0.00308799\t2.58517e-09\t-0.00308799\t-0.00308799\n",
      "9  \t250   \t-0.00308799\t2.52133e-09\t-0.00308799\t-0.00308799\n",
      "\n",
      "N pep:  246\n",
      "Best peptide: -10.622\n",
      "N pep under -12 kcal/mol: 000\n",
      "N pep under -11 kcal/mol: 000\n",
      "N pep under -10 kcal/mol: 004\n",
      "N pep under -9 kcal/mol: 013\n",
      "N pep under -8 kcal/mol: 038\n",
      "N pep under -7 kcal/mol: 083\n",
      "N pep under -6 kcal/mol: 174\n",
      "N pep under -5 kcal/mol: 237\n",
      "Non binding pep        : 009\n"
     ]
    },
    {
     "data": {
      "image/png": "[encoded data removed]",
      "text/plain": [
       "<Figure size 360x360 with 1 Axes>"
      ]
     },
     "metadata": {
      "needs_background": "light"
     },
     "output_type": "display_data"
    },
    {
     "name": "stdout",
     "output_type": "stream",
     "text": [
      "\n",
      "\n",
      "\n",
      "Generation: 2\n"
     ]
    },
    {
     "name": "stderr",
     "output_type": "stream",
     "text": [
      "/home/eberhardt/Applications/miniconda3/envs/python3/lib/python3.7/site-packages/deap/creator.py:141: RuntimeWarning: A class named 'Fitness' has already been created and it will be overwritten. Consider deleting previous creation of that class or rename it.\n",
      "  RuntimeWarning)\n",
      "/home/eberhardt/Applications/miniconda3/envs/python3/lib/python3.7/site-packages/deap/creator.py:141: RuntimeWarning: A class named 'Individual' has already been created and it will be overwritten. Consider deleting previous creation of that class or rename it.\n",
      "  RuntimeWarning)\n"
     ]
    },
    {
     "name": "stdout",
     "output_type": "stream",
     "text": [
      "gen\tnevals\tavg        \tstd       \tmin       \tmax         \n",
      "0  \t250   \t-0.00360373\t0.00608075\t-0.0567018\t-3.18864e-05\n",
      "1  \t250   \t-0.00552227\t0.00583468\t-0.0418951\t-0.000205469\n",
      "2  \t250   \t-0.00838496\t0.00765797\t-0.0452632\t-0.000437874\n",
      "3  \t250   \t-0.0126468 \t0.0129925 \t-0.108061 \t-0.000567274\n",
      "4  \t250   \t-0.0175847 \t0.0135937 \t-0.0671061\t-0.000542201\n",
      "5  \t250   \t-0.0174548 \t0.0128689 \t-0.0739059\t-0.000587427\n",
      "6  \t250   \t-0.0212565 \t0.0170634 \t-0.106258 \t-0.00129777 \n",
      "7  \t250   \t-0.0248553 \t0.0186342 \t-0.151532 \t-0.00165998 \n",
      "8  \t250   \t-0.0293315 \t0.0194904 \t-0.131141 \t-0.00333268 \n",
      "9  \t250   \t-0.0368297 \t0.0272884 \t-0.162245 \t-0.00351396 \n",
      "\n",
      "N pep:  342\n",
      "Best peptide: -12.097\n",
      "N pep under -12 kcal/mol: 001\n",
      "N pep under -11 kcal/mol: 010\n",
      "N pep under -10 kcal/mol: 037\n",
      "N pep under -9 kcal/mol: 082\n",
      "N pep under -8 kcal/mol: 131\n",
      "N pep under -7 kcal/mol: 179\n",
      "N pep under -6 kcal/mol: 270\n",
      "N pep under -5 kcal/mol: 333\n",
      "Non binding pep        : 009\n"
     ]
    },
    {
     "data": {
      "image/png": "[encoded data removed]",
      "text/plain": [
       "<Figure size 360x360 with 1 Axes>"
      ]
     },
     "metadata": {
      "needs_background": "light"
     },
     "output_type": "display_data"
    },
    {
     "name": "stdout",
     "output_type": "stream",
     "text": [
      "\n",
      "\n",
      "\n",
      "Generation: 3\n"
     ]
    },
    {
     "name": "stderr",
     "output_type": "stream",
     "text": [
      "/home/eberhardt/Applications/miniconda3/envs/python3/lib/python3.7/site-packages/deap/creator.py:141: RuntimeWarning: A class named 'Fitness' has already been created and it will be overwritten. Consider deleting previous creation of that class or rename it.\n",
      "  RuntimeWarning)\n",
      "/home/eberhardt/Applications/miniconda3/envs/python3/lib/python3.7/site-packages/deap/creator.py:141: RuntimeWarning: A class named 'Individual' has already been created and it will be overwritten. Consider deleting previous creation of that class or rename it.\n",
      "  RuntimeWarning)\n"
     ]
    },
    {
     "name": "stdout",
     "output_type": "stream",
     "text": [
      "gen\tnevals\tavg         \tstd        \tmin       \tmax         \n",
      "0  \t250   \t-5.64181e-05\t0.000168672\t-0.0014937\t-8.27168e-10\n",
      "1  \t250   \t-0.000294106\t0.000854763\t-0.00740655\t-1.80733e-08\n",
      "2  \t250   \t-0.000950367\t0.00570058 \t-0.0857269 \t-7.63583e-08\n",
      "3  \t250   \t-0.000994247\t0.00313705 \t-0.0261195 \t-2.28616e-07\n",
      "4  \t250   \t-0.00121701 \t0.00410418 \t-0.0533809 \t-1.01654e-07\n",
      "5  \t250   \t-0.00172762 \t0.00467419 \t-0.053118  \t-1.65209e-06\n",
      "6  \t250   \t-0.00278999 \t0.00934615 \t-0.129642  \t-1.13626e-07\n",
      "7  \t250   \t-0.00300292 \t0.00702528 \t-0.0784279 \t-2.99721e-06\n",
      "8  \t250   \t-0.0033161  \t0.00867458 \t-0.094504  \t-2.48706e-06\n",
      "9  \t250   \t-0.00327486 \t0.00675679 \t-0.0586738 \t-7.80578e-06\n",
      "\n",
      "N pep:  438\n",
      "Best peptide: -12.552\n",
      "N pep under -12 kcal/mol: 002\n",
      "N pep under -11 kcal/mol: 019\n",
      "N pep under -10 kcal/mol: 086\n",
      "N pep under -9 kcal/mol: 166\n",
      "N pep under -8 kcal/mol: 223\n",
      "N pep under -7 kcal/mol: 275\n",
      "N pep under -6 kcal/mol: 366\n",
      "N pep under -5 kcal/mol: 429\n",
      "Non binding pep        : 009\n"
     ]
    },
    {
     "data": {
      "image/png": "[encoded data removed]",
      "text/plain": [
       "<Figure size 360x360 with 1 Axes>"
      ]
     },
     "metadata": {
      "needs_background": "light"
     },
     "output_type": "display_data"
    },
    {
     "name": "stdout",
     "output_type": "stream",
     "text": [
      "\n",
      "\n",
      "\n",
      "Run: 4\n",
      "Exp dataset size: (150, 4096)\n",
      "\n",
      "\n",
      "Init.\n",
      "N pep:  150\n",
      "Best peptide: -8.199\n",
      "N pep under -12 kcal/mol: 000\n",
      "N pep under -11 kcal/mol: 000\n",
      "N pep under -10 kcal/mol: 000\n",
      "N pep under -9 kcal/mol: 000\n",
      "N pep under -8 kcal/mol: 009\n",
      "N pep under -7 kcal/mol: 035\n",
      "N pep under -6 kcal/mol: 094\n",
      "N pep under -5 kcal/mol: 150\n",
      "Non binding pep        : 000\n",
      "\n",
      "\n",
      "\n",
      "Generation: 1\n"
     ]
    },
    {
     "name": "stderr",
     "output_type": "stream",
     "text": [
      "/home/eberhardt/Applications/miniconda3/envs/python3/lib/python3.7/site-packages/deap/creator.py:141: RuntimeWarning: A class named 'Fitness' has already been created and it will be overwritten. Consider deleting previous creation of that class or rename it.\n",
      "  RuntimeWarning)\n",
      "/home/eberhardt/Applications/miniconda3/envs/python3/lib/python3.7/site-packages/deap/creator.py:141: RuntimeWarning: A class named 'Individual' has already been created and it will be overwritten. Consider deleting previous creation of that class or rename it.\n",
      "  RuntimeWarning)\n"
     ]
    },
    {
     "name": "stdout",
     "output_type": "stream",
     "text": [
      "gen\tnevals\tavg        \tstd        \tmin        \tmax       \n",
      "0  \t250   \t-0.00437952\t3.85688e-09\t-0.00437953\t-0.0043795\n",
      "1  \t250   \t-0.00437952\t3.84271e-09\t-0.00437953\t-0.00437951\n",
      "2  \t250   \t-0.00437952\t3.65965e-09\t-0.00437953\t-0.00437951\n",
      "3  \t250   \t-0.00437952\t3.72794e-09\t-0.00437953\t-0.00437951\n",
      "4  \t250   \t-0.00437952\t3.8202e-09 \t-0.00437953\t-0.00437951\n",
      "5  \t250   \t-0.00437952\t3.63749e-09\t-0.00437953\t-0.00437951\n",
      "6  \t250   \t-0.00437952\t3.52909e-09\t-0.00437953\t-0.00437951\n",
      "7  \t250   \t-0.00437952\t3.30304e-09\t-0.00437953\t-0.00437952\n",
      "8  \t250   \t-0.00437952\t3.29471e-09\t-0.00437953\t-0.00437952\n",
      "9  \t250   \t-0.00437952\t3.00058e-09\t-0.00437953\t-0.00437952\n",
      "\n",
      "N pep:  246\n",
      "Best peptide: -10.755\n",
      "N pep under -12 kcal/mol: 000\n",
      "N pep under -11 kcal/mol: 000\n",
      "N pep under -10 kcal/mol: 005\n",
      "N pep under -9 kcal/mol: 013\n",
      "N pep under -8 kcal/mol: 044\n",
      "N pep under -7 kcal/mol: 093\n",
      "N pep under -6 kcal/mol: 171\n",
      "N pep under -5 kcal/mol: 239\n",
      "Non binding pep        : 007\n"
     ]
    },
    {
     "data": {
      "image/png": "[encoded data removed]",
      "text/plain": [
       "<Figure size 360x360 with 1 Axes>"
      ]
     },
     "metadata": {
      "needs_background": "light"
     },
     "output_type": "display_data"
    },
    {
     "name": "stdout",
     "output_type": "stream",
     "text": [
      "\n",
      "\n",
      "\n",
      "Generation: 2\n"
     ]
    },
    {
     "name": "stderr",
     "output_type": "stream",
     "text": [
      "/home/eberhardt/Applications/miniconda3/envs/python3/lib/python3.7/site-packages/deap/creator.py:141: RuntimeWarning: A class named 'Fitness' has already been created and it will be overwritten. Consider deleting previous creation of that class or rename it.\n",
      "  RuntimeWarning)\n",
      "/home/eberhardt/Applications/miniconda3/envs/python3/lib/python3.7/site-packages/deap/creator.py:141: RuntimeWarning: A class named 'Individual' has already been created and it will be overwritten. Consider deleting previous creation of that class or rename it.\n",
      "  RuntimeWarning)\n"
     ]
    },
    {
     "name": "stdout",
     "output_type": "stream",
     "text": [
      "gen\tnevals\tavg        \tstd       \tmin       \tmax        \n",
      "0  \t250   \t-0.00126738\t0.00322832\t-0.0262063\t-1.1746e-07\n",
      "1  \t250   \t-0.00260742\t0.00572821\t-0.0521227\t-1.00659e-06\n",
      "2  \t250   \t-0.0046799 \t0.00727407\t-0.0460107\t-1.18431e-05\n",
      "3  \t250   \t-0.00922787\t0.0210467 \t-0.231283 \t-3.82617e-05\n",
      "4  \t250   \t-0.0116605 \t0.0176679 \t-0.173631 \t-3.25432e-05\n",
      "5  \t250   \t-0.0143696 \t0.0218302 \t-0.185713 \t-0.000113181\n",
      "6  \t250   \t-0.0158323 \t0.019331  \t-0.159448 \t-0.000544438\n",
      "7  \t250   \t-0.0169832 \t0.0239442 \t-0.191099 \t-0.000146168\n",
      "8  \t250   \t-0.0230749 \t0.0457538 \t-0.583575 \t-0.000273297\n",
      "9  \t250   \t-0.0238453 \t0.0332813 \t-0.247156 \t-0.000463629\n",
      "\n",
      "N pep:  342\n",
      "Best peptide: -12.218\n",
      "N pep under -12 kcal/mol: 004\n",
      "N pep under -11 kcal/mol: 018\n",
      "N pep under -10 kcal/mol: 057\n",
      "N pep under -9 kcal/mol: 097\n",
      "N pep under -8 kcal/mol: 140\n",
      "N pep under -7 kcal/mol: 189\n",
      "N pep under -6 kcal/mol: 267\n",
      "N pep under -5 kcal/mol: 335\n",
      "Non binding pep        : 007\n"
     ]
    },
    {
     "data": {
      "image/png": "[encoded data removed]",
      "text/plain": [
       "<Figure size 360x360 with 1 Axes>"
      ]
     },
     "metadata": {
      "needs_background": "light"
     },
     "output_type": "display_data"
    },
    {
     "name": "stdout",
     "output_type": "stream",
     "text": [
      "\n",
      "\n",
      "\n",
      "Generation: 3\n"
     ]
    },
    {
     "name": "stderr",
     "output_type": "stream",
     "text": [
      "/home/eberhardt/Applications/miniconda3/envs/python3/lib/python3.7/site-packages/deap/creator.py:141: RuntimeWarning: A class named 'Fitness' has already been created and it will be overwritten. Consider deleting previous creation of that class or rename it.\n",
      "  RuntimeWarning)\n",
      "/home/eberhardt/Applications/miniconda3/envs/python3/lib/python3.7/site-packages/deap/creator.py:141: RuntimeWarning: A class named 'Individual' has already been created and it will be overwritten. Consider deleting previous creation of that class or rename it.\n",
      "  RuntimeWarning)\n"
     ]
    },
    {
     "name": "stdout",
     "output_type": "stream",
     "text": [
      "gen\tnevals\tavg         \tstd        \tmin        \tmax         \n",
      "0  \t250   \t-1.89474e-05\t0.000128517\t-0.00190803\t-2.92687e-11\n",
      "1  \t250   \t-0.000325447\t0.00350042 \t-0.0549217 \t-2.85857e-12\n",
      "2  \t250   \t-0.000271197\t0.00176068 \t-0.025797  \t-1.77498e-09\n",
      "3  \t250   \t-0.000401287\t0.00140117 \t-0.0145801 \t-1.32512e-09\n",
      "4  \t250   \t-0.00105467 \t0.00394085 \t-0.0434216 \t-8.53008e-08\n",
      "5  \t250   \t-0.00125961 \t0.00451142 \t-0.0443336 \t-2.93506e-07\n",
      "6  \t250   \t-0.00154397 \t0.00906439 \t-0.135168  \t-1.54547e-07\n",
      "7  \t250   \t-0.00197252 \t0.00700702 \t-0.0889915 \t-2.34218e-07\n",
      "8  \t250   \t-0.00295082 \t0.00803648 \t-0.076659  \t-9.26999e-07\n",
      "9  \t250   \t-0.003822   \t0.0106227  \t-0.0802246 \t-8.63584e-07\n",
      "\n",
      "N pep:  438\n",
      "Best peptide: -12.218\n",
      "N pep under -12 kcal/mol: 005\n",
      "N pep under -11 kcal/mol: 039\n",
      "N pep under -10 kcal/mol: 121\n",
      "N pep under -9 kcal/mol: 187\n",
      "N pep under -8 kcal/mol: 236\n",
      "N pep under -7 kcal/mol: 285\n",
      "N pep under -6 kcal/mol: 363\n",
      "N pep under -5 kcal/mol: 431\n",
      "Non binding pep        : 007\n"
     ]
    },
    {
     "data": {
      "image/png": "[encoded data removed]",
      "text/plain": [
       "<Figure size 360x360 with 1 Axes>"
      ]
     },
     "metadata": {
      "needs_background": "light"
     },
     "output_type": "display_data"
    },
    {
     "name": "stdout",
     "output_type": "stream",
     "text": [
      "\n",
      "\n",
      "\n",
      "Run: 5\n",
      "Exp dataset size: (150, 4096)\n",
      "\n",
      "\n",
      "Init.\n",
      "N pep:  150\n",
      "Best peptide: -8.196\n",
      "N pep under -12 kcal/mol: 000\n",
      "N pep under -11 kcal/mol: 000\n",
      "N pep under -10 kcal/mol: 000\n",
      "N pep under -9 kcal/mol: 000\n",
      "N pep under -8 kcal/mol: 007\n",
      "N pep under -7 kcal/mol: 035\n",
      "N pep under -6 kcal/mol: 082\n",
      "N pep under -5 kcal/mol: 150\n",
      "Non binding pep        : 000\n",
      "\n",
      "\n",
      "\n",
      "Generation: 1\n"
     ]
    },
    {
     "name": "stderr",
     "output_type": "stream",
     "text": [
      "/home/eberhardt/Applications/miniconda3/envs/python3/lib/python3.7/site-packages/deap/creator.py:141: RuntimeWarning: A class named 'Fitness' has already been created and it will be overwritten. Consider deleting previous creation of that class or rename it.\n",
      "  RuntimeWarning)\n",
      "/home/eberhardt/Applications/miniconda3/envs/python3/lib/python3.7/site-packages/deap/creator.py:141: RuntimeWarning: A class named 'Individual' has already been created and it will be overwritten. Consider deleting previous creation of that class or rename it.\n",
      "  RuntimeWarning)\n"
     ]
    },
    {
     "name": "stdout",
     "output_type": "stream",
     "text": [
      "gen\tnevals\tavg        \tstd      \tmin      \tmax        \n",
      "0  \t250   \t-0.00529396\t0.0064147\t-0.040327\t-0.00011624\n",
      "1  \t250   \t-0.00841722\t0.00907579\t-0.0724925\t-0.000162515\n",
      "2  \t250   \t-0.0117286 \t0.00988468\t-0.069069 \t-0.000596886\n",
      "3  \t250   \t-0.0149468 \t0.0110687 \t-0.0616752\t-0.00107809 \n",
      "4  \t250   \t-0.017439  \t0.0113929 \t-0.0682684\t-0.000820301\n",
      "5  \t250   \t-0.0216953 \t0.0150346 \t-0.125031 \t-0.00242325 \n",
      "6  \t250   \t-0.0257454 \t0.0173696 \t-0.104972 \t-0.00356815 \n",
      "7  \t250   \t-0.0281178 \t0.0189852 \t-0.157422 \t-0.00256266 \n",
      "8  \t250   \t-0.0295093 \t0.0202523 \t-0.130134 \t-0.00317797 \n",
      "9  \t250   \t-0.0325776 \t0.0200915 \t-0.13248  \t-0.00465865 \n",
      "\n",
      "N pep:  246\n",
      "Best peptide: -12.200\n",
      "N pep under -12 kcal/mol: 001\n",
      "N pep under -11 kcal/mol: 013\n",
      "N pep under -10 kcal/mol: 039\n",
      "N pep under -9 kcal/mol: 069\n",
      "N pep under -8 kcal/mol: 097\n",
      "N pep under -7 kcal/mol: 131\n",
      "N pep under -6 kcal/mol: 178\n",
      "N pep under -5 kcal/mol: 246\n",
      "Non binding pep        : 000\n"
     ]
    },
    {
     "data": {
      "image/png": "[encoded data removed]",
      "text/plain": [
       "<Figure size 360x360 with 1 Axes>"
      ]
     },
     "metadata": {
      "needs_background": "light"
     },
     "output_type": "display_data"
    },
    {
     "name": "stdout",
     "output_type": "stream",
     "text": [
      "\n",
      "\n",
      "\n",
      "Generation: 2\n"
     ]
    },
    {
     "name": "stderr",
     "output_type": "stream",
     "text": [
      "/home/eberhardt/Applications/miniconda3/envs/python3/lib/python3.7/site-packages/deap/creator.py:141: RuntimeWarning: A class named 'Fitness' has already been created and it will be overwritten. Consider deleting previous creation of that class or rename it.\n",
      "  RuntimeWarning)\n",
      "/home/eberhardt/Applications/miniconda3/envs/python3/lib/python3.7/site-packages/deap/creator.py:141: RuntimeWarning: A class named 'Individual' has already been created and it will be overwritten. Consider deleting previous creation of that class or rename it.\n",
      "  RuntimeWarning)\n"
     ]
    },
    {
     "name": "stdout",
     "output_type": "stream",
     "text": [
      "gen\tnevals\tavg         \tstd        \tmin         \tmax         \n",
      "0  \t250   \t-4.21707e-08\t4.11457e-07\t-6.27378e-06\t-8.94602e-18\n",
      "1  \t250   \t-1.22137e-06\t1.31555e-05\t-0.000205902\t-1.2187e-16 \n",
      "2  \t250   \t-2.61162e-06\t1.54094e-05\t-0.000191223\t-1.44799e-13\n",
      "3  \t250   \t-6.11895e-05\t0.000572159\t-0.00739559 \t-1.44058e-14\n",
      "4  \t250   \t-2.29776e-05\t0.000114356\t-0.00101439 \t-1.04908e-12\n",
      "5  \t250   \t-0.000232521\t0.00292617 \t-0.0461646  \t-3.76659e-11\n",
      "6  \t250   \t-8.4871e-05 \t0.000559068\t-0.00823213 \t-7.05841e-12\n",
      "7  \t250   \t-0.000146968\t0.000682707\t-0.00672458 \t-1.90172e-10\n",
      "8  \t250   \t-0.000624471\t0.00632792 \t-0.0919115  \t-2.22816e-11\n",
      "9  \t250   \t-0.000481307\t0.00366333 \t-0.0545278  \t-1.65085e-09\n",
      "\n",
      "N pep:  342\n",
      "Best peptide: -12.503\n",
      "N pep under -12 kcal/mol: 003\n",
      "N pep under -11 kcal/mol: 036\n",
      "N pep under -10 kcal/mol: 108\n",
      "N pep under -9 kcal/mol: 158\n",
      "N pep under -8 kcal/mol: 193\n",
      "N pep under -7 kcal/mol: 227\n",
      "N pep under -6 kcal/mol: 274\n",
      "N pep under -5 kcal/mol: 342\n",
      "Non binding pep        : 000\n"
     ]
    },
    {
     "data": {
      "image/png": "[encoded data removed]",
      "text/plain": [
       "<Figure size 360x360 with 1 Axes>"
      ]
     },
     "metadata": {
      "needs_background": "light"
     },
     "output_type": "display_data"
    },
    {
     "name": "stdout",
     "output_type": "stream",
     "text": [
      "\n",
      "\n",
      "\n",
      "Generation: 3\n"
     ]
    },
    {
     "name": "stderr",
     "output_type": "stream",
     "text": [
      "/home/eberhardt/Applications/miniconda3/envs/python3/lib/python3.7/site-packages/deap/creator.py:141: RuntimeWarning: A class named 'Fitness' has already been created and it will be overwritten. Consider deleting previous creation of that class or rename it.\n",
      "  RuntimeWarning)\n",
      "/home/eberhardt/Applications/miniconda3/envs/python3/lib/python3.7/site-packages/deap/creator.py:141: RuntimeWarning: A class named 'Individual' has already been created and it will be overwritten. Consider deleting previous creation of that class or rename it.\n",
      "  RuntimeWarning)\n"
     ]
    },
    {
     "name": "stdout",
     "output_type": "stream",
     "text": [
      "gen\tnevals\tavg         \tstd        \tmin        \tmax         \n",
      "0  \t250   \t-4.08195e-06\t6.43357e-05\t-0.00101928\t-1.49907e-20\n",
      "1  \t250   \t-9.46158e-08\t7.67638e-07\t-9.32268e-06\t-7.43045e-18\n",
      "2  \t250   \t-2.6814e-06 \t3.31103e-05\t-0.000514618\t-3.63171e-21\n",
      "3  \t250   \t-4.46673e-06\t3.6537e-05 \t-0.000547143\t-8.79435e-16\n",
      "4  \t250   \t-8.52937e-06\t4.31889e-05\t-0.000355722\t-1.11346e-14\n",
      "5  \t250   \t-1.81098e-05\t0.000107154\t-0.00110425 \t-1.18131e-13\n",
      "6  \t250   \t-0.000113252\t0.000960984\t-0.0124374  \t-4.78757e-15\n",
      "7  \t250   \t-0.000322031\t0.00309206 \t-0.0470204  \t-2.53745e-12\n",
      "8  \t250   \t-0.000146134\t0.000950042\t-0.012049   \t-9.22759e-12\n",
      "9  \t250   \t-0.000294956\t0.00266037 \t-0.0371565  \t-7.51212e-12\n",
      "\n",
      "N pep:  438\n",
      "Best peptide: -12.503\n",
      "N pep under -12 kcal/mol: 006\n",
      "N pep under -11 kcal/mol: 062\n",
      "N pep under -10 kcal/mol: 186\n",
      "N pep under -9 kcal/mol: 253\n",
      "N pep under -8 kcal/mol: 289\n",
      "N pep under -7 kcal/mol: 323\n",
      "N pep under -6 kcal/mol: 370\n",
      "N pep under -5 kcal/mol: 438\n",
      "Non binding pep        : 000\n"
     ]
    },
    {
     "data": {
      "image/png": "[encoded data removed]",
      "text/plain": [
       "<Figure size 360x360 with 1 Axes>"
      ]
     },
     "metadata": {
      "needs_background": "light"
     },
     "output_type": "display_data"
    },
    {
     "name": "stdout",
     "output_type": "stream",
     "text": [
      "\n",
      "\n",
      "\n",
      "Run: 6\n",
      "Exp dataset size: (150, 4096)\n",
      "\n",
      "\n",
      "Init.\n",
      "N pep:  150\n",
      "Best peptide: -8.190\n",
      "N pep under -12 kcal/mol: 000\n",
      "N pep under -11 kcal/mol: 000\n",
      "N pep under -10 kcal/mol: 000\n",
      "N pep under -9 kcal/mol: 000\n",
      "N pep under -8 kcal/mol: 008\n",
      "N pep under -7 kcal/mol: 042\n",
      "N pep under -6 kcal/mol: 094\n",
      "N pep under -5 kcal/mol: 150\n",
      "Non binding pep        : 000\n",
      "\n",
      "\n",
      "\n",
      "Generation: 1\n"
     ]
    },
    {
     "name": "stderr",
     "output_type": "stream",
     "text": [
      "/home/eberhardt/Applications/miniconda3/envs/python3/lib/python3.7/site-packages/deap/creator.py:141: RuntimeWarning: A class named 'Fitness' has already been created and it will be overwritten. Consider deleting previous creation of that class or rename it.\n",
      "  RuntimeWarning)\n",
      "/home/eberhardt/Applications/miniconda3/envs/python3/lib/python3.7/site-packages/deap/creator.py:141: RuntimeWarning: A class named 'Individual' has already been created and it will be overwritten. Consider deleting previous creation of that class or rename it.\n",
      "  RuntimeWarning)\n"
     ]
    },
    {
     "name": "stdout",
     "output_type": "stream",
     "text": [
      "gen\tnevals\tavg        \tstd      \tmin      \tmax         \n",
      "0  \t250   \t-0.00641396\t0.0100201\t-0.103609\t-8.10205e-05\n",
      "1  \t250   \t-0.0121885 \t0.0148538\t-0.109483\t-0.00012477 \n",
      "2  \t250   \t-0.0142529 \t0.0153706\t-0.0816718\t-0.000250884\n",
      "3  \t250   \t-0.0188822 \t0.0186957\t-0.100104 \t-0.00052904 \n",
      "4  \t250   \t-0.0243656 \t0.0219383\t-0.123059 \t-0.000940611\n",
      "5  \t250   \t-0.0262007 \t0.0224941\t-0.118899 \t-0.000998925\n",
      "6  \t250   \t-0.0327293 \t0.0279789\t-0.236223 \t-0.000902927\n",
      "7  \t250   \t-0.0399228 \t0.0330799\t-0.221923 \t-0.00208198 \n",
      "8  \t250   \t-0.037199  \t0.0327212\t-0.171174 \t-0.00183744 \n",
      "9  \t250   \t-0.0386612 \t0.0284261\t-0.17048  \t-0.00379731 \n",
      "\n",
      "N pep:  246\n",
      "Best peptide: -11.765\n",
      "N pep under -12 kcal/mol: 000\n",
      "N pep under -11 kcal/mol: 001\n",
      "N pep under -10 kcal/mol: 011\n",
      "N pep under -9 kcal/mol: 026\n",
      "N pep under -8 kcal/mol: 061\n",
      "N pep under -7 kcal/mol: 117\n",
      "N pep under -6 kcal/mol: 183\n",
      "N pep under -5 kcal/mol: 245\n",
      "Non binding pep        : 001\n"
     ]
    },
    {
     "data": {
      "image/png": "[encoded data removed]",
      "text/plain": [
       "<Figure size 360x360 with 1 Axes>"
      ]
     },
     "metadata": {
      "needs_background": "light"
     },
     "output_type": "display_data"
    },
    {
     "name": "stdout",
     "output_type": "stream",
     "text": [
      "\n",
      "\n",
      "\n",
      "Generation: 2\n"
     ]
    },
    {
     "name": "stderr",
     "output_type": "stream",
     "text": [
      "/home/eberhardt/Applications/miniconda3/envs/python3/lib/python3.7/site-packages/deap/creator.py:141: RuntimeWarning: A class named 'Fitness' has already been created and it will be overwritten. Consider deleting previous creation of that class or rename it.\n",
      "  RuntimeWarning)\n",
      "/home/eberhardt/Applications/miniconda3/envs/python3/lib/python3.7/site-packages/deap/creator.py:141: RuntimeWarning: A class named 'Individual' has already been created and it will be overwritten. Consider deleting previous creation of that class or rename it.\n",
      "  RuntimeWarning)\n"
     ]
    },
    {
     "name": "stdout",
     "output_type": "stream",
     "text": [
      "gen\tnevals\tavg         \tstd        \tmin         \tmax         \n",
      "0  \t250   \t-1.45809e-06\t1.27625e-05\t-0.000188436\t-3.49324e-13\n",
      "1  \t250   \t-3.62834e-06\t1.38014e-05\t-0.00014155 \t-8.8733e-11 \n",
      "2  \t250   \t-4.5398e-05 \t0.000373507\t-0.00455676 \t-3.40743e-11\n",
      "3  \t250   \t-5.62857e-05\t0.000296079\t-0.00343288 \t-4.30762e-10\n",
      "4  \t250   \t-0.000172387\t0.00130185 \t-0.0177079  \t-7.57198e-10\n",
      "5  \t250   \t-0.000264682\t0.00182607 \t-0.0237567  \t-8.2412e-09 \n",
      "6  \t250   \t-0.000182734\t0.00107169 \t-0.0151901  \t-5.62096e-09\n",
      "7  \t250   \t-0.000199255\t0.000682538\t-0.00874979 \t-1.62251e-08\n",
      "8  \t250   \t-0.000173481\t0.000513202\t-0.00484382 \t-1.32584e-08\n",
      "9  \t250   \t-0.000271378\t0.00102349 \t-0.011512   \t-1.07127e-09\n",
      "\n",
      "N pep:  342\n",
      "Best peptide: -11.765\n",
      "N pep under -12 kcal/mol: 000\n",
      "N pep under -11 kcal/mol: 009\n",
      "N pep under -10 kcal/mol: 051\n",
      "N pep under -9 kcal/mol: 102\n",
      "N pep under -8 kcal/mol: 154\n",
      "N pep under -7 kcal/mol: 212\n",
      "N pep under -6 kcal/mol: 279\n",
      "N pep under -5 kcal/mol: 341\n",
      "Non binding pep        : 001\n"
     ]
    },
    {
     "data": {
      "image/png": "[encoded data removed]",
      "text/plain": [
       "<Figure size 360x360 with 1 Axes>"
      ]
     },
     "metadata": {
      "needs_background": "light"
     },
     "output_type": "display_data"
    },
    {
     "name": "stdout",
     "output_type": "stream",
     "text": [
      "\n",
      "\n",
      "\n",
      "Generation: 3\n"
     ]
    },
    {
     "name": "stderr",
     "output_type": "stream",
     "text": [
      "/home/eberhardt/Applications/miniconda3/envs/python3/lib/python3.7/site-packages/deap/creator.py:141: RuntimeWarning: A class named 'Fitness' has already been created and it will be overwritten. Consider deleting previous creation of that class or rename it.\n",
      "  RuntimeWarning)\n",
      "/home/eberhardt/Applications/miniconda3/envs/python3/lib/python3.7/site-packages/deap/creator.py:141: RuntimeWarning: A class named 'Individual' has already been created and it will be overwritten. Consider deleting previous creation of that class or rename it.\n",
      "  RuntimeWarning)\n"
     ]
    },
    {
     "name": "stdout",
     "output_type": "stream",
     "text": [
      "gen\tnevals\tavg         \tstd        \tmin        \tmax         \n",
      "0  \t250   \t-9.72226e-06\t8.91743e-05\t-0.00118026\t-3.41821e-14\n",
      "1  \t250   \t-3.96207e-05\t0.000269894\t-0.0036835 \t-3.62033e-14\n",
      "2  \t250   \t-0.000253308\t0.00286869 \t-0.0447548 \t-6.69685e-14\n",
      "3  \t250   \t-0.000346752\t0.00226697 \t-0.0282747 \t-2.77131e-11\n",
      "4  \t250   \t-0.00053031 \t0.00401427 \t-0.0611088 \t-1.37931e-10\n",
      "5  \t250   \t-0.00120161 \t0.00970572 \t-0.138666  \t-2.24642e-10\n",
      "6  \t250   \t-0.000791819\t0.00371974 \t-0.0522594 \t-3.77289e-09\n",
      "7  \t250   \t-0.00252482 \t0.014646   \t-0.206905  \t-2.67164e-08\n",
      "8  \t250   \t-0.00180752 \t0.00940758 \t-0.119706  \t-8.87462e-08\n",
      "9  \t250   \t-0.00171538 \t0.00708104 \t-0.0739349 \t-2.61334e-08\n",
      "\n",
      "N pep:  438\n",
      "Best peptide: -12.542\n",
      "N pep under -12 kcal/mol: 004\n",
      "N pep under -11 kcal/mol: 036\n",
      "N pep under -10 kcal/mol: 121\n",
      "N pep under -9 kcal/mol: 197\n",
      "N pep under -8 kcal/mol: 250\n",
      "N pep under -7 kcal/mol: 308\n",
      "N pep under -6 kcal/mol: 375\n",
      "N pep under -5 kcal/mol: 437\n",
      "Non binding pep        : 001\n"
     ]
    },
    {
     "data": {
      "image/png": "[encoded data removed]",
      "text/plain": [
       "<Figure size 360x360 with 1 Axes>"
      ]
     },
     "metadata": {
      "needs_background": "light"
     },
     "output_type": "display_data"
    },
    {
     "name": "stdout",
     "output_type": "stream",
     "text": [
      "\n",
      "\n",
      "\n",
      "Run: 7\n",
      "Exp dataset size: (150, 4096)\n",
      "\n",
      "\n",
      "Init.\n",
      "N pep:  150\n",
      "Best peptide: -8.177\n",
      "N pep under -12 kcal/mol: 000\n",
      "N pep under -11 kcal/mol: 000\n",
      "N pep under -10 kcal/mol: 000\n",
      "N pep under -9 kcal/mol: 000\n",
      "N pep under -8 kcal/mol: 004\n",
      "N pep under -7 kcal/mol: 044\n",
      "N pep under -6 kcal/mol: 087\n",
      "N pep under -5 kcal/mol: 150\n",
      "Non binding pep        : 000\n",
      "\n",
      "\n",
      "\n",
      "Generation: 1\n"
     ]
    },
    {
     "name": "stderr",
     "output_type": "stream",
     "text": [
      "/home/eberhardt/Applications/miniconda3/envs/python3/lib/python3.7/site-packages/deap/creator.py:141: RuntimeWarning: A class named 'Fitness' has already been created and it will be overwritten. Consider deleting previous creation of that class or rename it.\n",
      "  RuntimeWarning)\n",
      "/home/eberhardt/Applications/miniconda3/envs/python3/lib/python3.7/site-packages/deap/creator.py:141: RuntimeWarning: A class named 'Individual' has already been created and it will be overwritten. Consider deleting previous creation of that class or rename it.\n",
      "  RuntimeWarning)\n"
     ]
    },
    {
     "name": "stdout",
     "output_type": "stream",
     "text": [
      "gen\tnevals\tavg        \tstd       \tmin       \tmax         \n",
      "0  \t250   \t-0.00579187\t0.00597663\t-0.0349977\t-0.000280103\n",
      "1  \t250   \t-0.0107268 \t0.0106595 \t-0.0935875\t-0.000570975\n",
      "2  \t250   \t-0.0158688 \t0.0123407 \t-0.0757286\t-0.00176884 \n",
      "3  \t250   \t-0.0213359 \t0.0131073 \t-0.0699708\t-0.00249426 \n",
      "4  \t250   \t-0.0242361 \t0.0161036 \t-0.106852 \t-0.00417409 \n",
      "5  \t250   \t-0.0296512 \t0.0162778 \t-0.0942361\t-0.00684962 \n",
      "6  \t250   \t-0.0338115 \t0.0216917 \t-0.199744 \t-0.00564272 \n",
      "7  \t250   \t-0.0381053 \t0.0200277 \t-0.111143 \t-0.00589895 \n",
      "8  \t250   \t-0.0420562 \t0.0185501 \t-0.115396 \t-0.00988672 \n",
      "9  \t250   \t-0.0451651 \t0.0198544 \t-0.105514 \t-0.00934515 \n",
      "\n",
      "N pep:  246\n",
      "Best peptide: -12.873\n",
      "N pep under -12 kcal/mol: 007\n",
      "N pep under -11 kcal/mol: 020\n",
      "N pep under -10 kcal/mol: 053\n",
      "N pep under -9 kcal/mol: 075\n",
      "N pep under -8 kcal/mol: 095\n",
      "N pep under -7 kcal/mol: 137\n",
      "N pep under -6 kcal/mol: 183\n",
      "N pep under -5 kcal/mol: 246\n",
      "Non binding pep        : 000\n"
     ]
    },
    {
     "data": {
      "image/png": "[encoded data removed]",
      "text/plain": [
       "<Figure size 360x360 with 1 Axes>"
      ]
     },
     "metadata": {
      "needs_background": "light"
     },
     "output_type": "display_data"
    },
    {
     "name": "stdout",
     "output_type": "stream",
     "text": [
      "\n",
      "\n",
      "\n",
      "Generation: 2\n"
     ]
    },
    {
     "name": "stderr",
     "output_type": "stream",
     "text": [
      "/home/eberhardt/Applications/miniconda3/envs/python3/lib/python3.7/site-packages/deap/creator.py:141: RuntimeWarning: A class named 'Fitness' has already been created and it will be overwritten. Consider deleting previous creation of that class or rename it.\n",
      "  RuntimeWarning)\n",
      "/home/eberhardt/Applications/miniconda3/envs/python3/lib/python3.7/site-packages/deap/creator.py:141: RuntimeWarning: A class named 'Individual' has already been created and it will be overwritten. Consider deleting previous creation of that class or rename it.\n",
      "  RuntimeWarning)\n"
     ]
    },
    {
     "name": "stdout",
     "output_type": "stream",
     "text": [
      "gen\tnevals\tavg        \tstd       \tmin         \tmax         \n",
      "0  \t250   \t-2.2694e-08\t2.2068e-07\t-3.13245e-06\t-6.28147e-19\n",
      "1  \t250   \t-1.21363e-07\t7.44999e-07\t-8.31954e-06\t-2.3233e-16 \n",
      "2  \t250   \t-1.48481e-05\t0.000134811\t-0.00186666 \t-1.62622e-14\n",
      "3  \t250   \t-2.24926e-06\t1.96877e-05\t-0.000276364\t-4.66808e-14\n",
      "4  \t250   \t-2.28794e-05\t0.000168888\t-0.00211804 \t-1.10695e-12\n",
      "5  \t250   \t-2.0841e-05 \t0.000108577\t-0.00135223 \t-1.2665e-12 \n",
      "6  \t250   \t-0.000218441\t0.00223636 \t-0.0337692  \t-3.45538e-11\n",
      "7  \t250   \t-0.000135286\t0.00151871 \t-0.0237178  \t-8.0812e-11 \n",
      "8  \t250   \t-8.955e-05  \t0.000614615\t-0.0080418  \t-1.11765e-11\n",
      "9  \t250   \t-0.000125672\t0.000966587\t-0.0132564  \t-5.63837e-10\n",
      "\n",
      "N pep:  342\n",
      "Best peptide: -12.873\n",
      "N pep under -12 kcal/mol: 014\n",
      "N pep under -11 kcal/mol: 065\n",
      "N pep under -10 kcal/mol: 130\n",
      "N pep under -9 kcal/mol: 168\n",
      "N pep under -8 kcal/mol: 191\n",
      "N pep under -7 kcal/mol: 233\n",
      "N pep under -6 kcal/mol: 279\n",
      "N pep under -5 kcal/mol: 342\n",
      "Non binding pep        : 000\n"
     ]
    },
    {
     "data": {
      "image/png": "[encoded data removed]",
      "text/plain": [
       "<Figure size 360x360 with 1 Axes>"
      ]
     },
     "metadata": {
      "needs_background": "light"
     },
     "output_type": "display_data"
    },
    {
     "name": "stdout",
     "output_type": "stream",
     "text": [
      "\n",
      "\n",
      "\n",
      "Generation: 3\n"
     ]
    },
    {
     "name": "stderr",
     "output_type": "stream",
     "text": [
      "/home/eberhardt/Applications/miniconda3/envs/python3/lib/python3.7/site-packages/deap/creator.py:141: RuntimeWarning: A class named 'Fitness' has already been created and it will be overwritten. Consider deleting previous creation of that class or rename it.\n",
      "  RuntimeWarning)\n",
      "/home/eberhardt/Applications/miniconda3/envs/python3/lib/python3.7/site-packages/deap/creator.py:141: RuntimeWarning: A class named 'Individual' has already been created and it will be overwritten. Consider deleting previous creation of that class or rename it.\n",
      "  RuntimeWarning)\n"
     ]
    },
    {
     "name": "stdout",
     "output_type": "stream",
     "text": [
      "gen\tnevals\tavg         \tstd        \tmin         \tmax         \n",
      "0  \t250   \t-5.41222e-07\t8.51813e-06\t-0.000134955\t-1.26635e-20\n",
      "1  \t250   \t-1.34434e-07\t1.58774e-06\t-2.40282e-05\t-1.79721e-18\n",
      "2  \t250   \t-4.84395e-07\t4.38062e-06\t-6.57545e-05\t-6.44418e-18\n",
      "3  \t250   \t-6.67816e-07\t6.8576e-06 \t-0.000106281\t-5.69193e-17\n",
      "4  \t250   \t-5.99161e-05\t0.000539991\t-0.00764589 \t-8.5571e-16 \n",
      "5  \t250   \t-6.79737e-05\t0.000939821\t-0.0148775  \t-2.90754e-14\n",
      "6  \t250   \t-3.62439e-05\t0.000306464\t-0.00440647 \t-1.32137e-13\n",
      "7  \t250   \t-9.20194e-05\t0.00106552 \t-0.0166556  \t-4.11346e-13\n",
      "8  \t250   \t-3.53837e-05\t0.000243084\t-0.00317774 \t-1.23633e-12\n",
      "9  \t250   \t-9.87741e-05\t0.000829181\t-0.0110543  \t-2.40917e-11\n",
      "\n",
      "N pep:  438\n",
      "Best peptide: -12.873\n",
      "N pep under -12 kcal/mol: 016\n",
      "N pep under -11 kcal/mol: 091\n",
      "N pep under -10 kcal/mol: 192\n",
      "N pep under -9 kcal/mol: 263\n",
      "N pep under -8 kcal/mol: 286\n",
      "N pep under -7 kcal/mol: 329\n",
      "N pep under -6 kcal/mol: 375\n",
      "N pep under -5 kcal/mol: 438\n",
      "Non binding pep        : 000\n"
     ]
    },
    {
     "data": {
      "image/png": "[encoded data removed]",
      "text/plain": [
       "<Figure size 360x360 with 1 Axes>"
      ]
     },
     "metadata": {
      "needs_background": "light"
     },
     "output_type": "display_data"
    },
    {
     "name": "stdout",
     "output_type": "stream",
     "text": [
      "\n",
      "\n",
      "\n",
      "Run: 8\n",
      "Exp dataset size: (150, 4096)\n",
      "\n",
      "\n",
      "Init.\n",
      "N pep:  150\n",
      "Best peptide: -8.070\n",
      "N pep under -12 kcal/mol: 000\n",
      "N pep under -11 kcal/mol: 000\n",
      "N pep under -10 kcal/mol: 000\n",
      "N pep under -9 kcal/mol: 000\n",
      "N pep under -8 kcal/mol: 001\n",
      "N pep under -7 kcal/mol: 033\n",
      "N pep under -6 kcal/mol: 085\n",
      "N pep under -5 kcal/mol: 150\n",
      "Non binding pep        : 000\n",
      "\n",
      "\n",
      "\n",
      "Generation: 1\n"
     ]
    },
    {
     "name": "stderr",
     "output_type": "stream",
     "text": [
      "/home/eberhardt/Applications/miniconda3/envs/python3/lib/python3.7/site-packages/deap/creator.py:141: RuntimeWarning: A class named 'Fitness' has already been created and it will be overwritten. Consider deleting previous creation of that class or rename it.\n",
      "  RuntimeWarning)\n",
      "/home/eberhardt/Applications/miniconda3/envs/python3/lib/python3.7/site-packages/deap/creator.py:141: RuntimeWarning: A class named 'Individual' has already been created and it will be overwritten. Consider deleting previous creation of that class or rename it.\n",
      "  RuntimeWarning)\n"
     ]
    },
    {
     "name": "stdout",
     "output_type": "stream",
     "text": [
      "gen\tnevals\tavg        \tstd       \tmin       \tmax         \n",
      "0  \t250   \t-0.00277397\t0.00178513\t-0.0106035\t-0.000465182\n",
      "1  \t250   \t-0.00425419\t0.00266688\t-0.0230889\t-0.000635318\n",
      "2  \t250   \t-0.00515138\t0.00249992\t-0.0172733\t-0.00117911 \n",
      "3  \t250   \t-0.00604558\t0.00265708\t-0.0162389\t-0.00195066 \n",
      "4  \t250   \t-0.00724683\t0.00309478\t-0.0175858\t-0.00166737 \n",
      "5  \t250   \t-0.00851703\t0.00314146\t-0.0205139\t-0.00331556 \n",
      "6  \t250   \t-0.00870258\t0.00330304\t-0.021198 \t-0.00190057 \n",
      "7  \t250   \t-0.00991581\t0.00351973\t-0.0259067\t-0.00382552 \n",
      "8  \t250   \t-0.01064   \t0.00357106\t-0.0251557\t-0.00372307 \n",
      "9  \t250   \t-0.0109434 \t0.00342618\t-0.0223608\t-0.0039725  \n",
      "\n",
      "N pep:  246\n",
      "Best peptide: -12.233\n",
      "N pep under -12 kcal/mol: 001\n",
      "N pep under -11 kcal/mol: 003\n",
      "N pep under -10 kcal/mol: 012\n",
      "N pep under -9 kcal/mol: 031\n",
      "N pep under -8 kcal/mol: 056\n",
      "N pep under -7 kcal/mol: 115\n",
      "N pep under -6 kcal/mol: 179\n",
      "N pep under -5 kcal/mol: 246\n",
      "Non binding pep        : 000\n"
     ]
    },
    {
     "data": {
      "image/png": "[encoded data removed]",
      "text/plain": [
       "<Figure size 360x360 with 1 Axes>"
      ]
     },
     "metadata": {
      "needs_background": "light"
     },
     "output_type": "display_data"
    },
    {
     "name": "stdout",
     "output_type": "stream",
     "text": [
      "\n",
      "\n",
      "\n",
      "Generation: 2\n"
     ]
    },
    {
     "name": "stderr",
     "output_type": "stream",
     "text": [
      "/home/eberhardt/Applications/miniconda3/envs/python3/lib/python3.7/site-packages/deap/creator.py:141: RuntimeWarning: A class named 'Fitness' has already been created and it will be overwritten. Consider deleting previous creation of that class or rename it.\n",
      "  RuntimeWarning)\n",
      "/home/eberhardt/Applications/miniconda3/envs/python3/lib/python3.7/site-packages/deap/creator.py:141: RuntimeWarning: A class named 'Individual' has already been created and it will be overwritten. Consider deleting previous creation of that class or rename it.\n",
      "  RuntimeWarning)\n"
     ]
    },
    {
     "name": "stdout",
     "output_type": "stream",
     "text": [
      "gen\tnevals\tavg         \tstd        \tmin         \tmax         \n",
      "0  \t250   \t-3.21666e-08\t2.79484e-07\t-3.57109e-06\t-3.30103e-18\n",
      "1  \t250   \t-3.24441e-08\t1.91491e-07\t-2.06508e-06\t-2.49307e-15\n",
      "2  \t250   \t-3.44515e-07\t3.60103e-06\t-5.569e-05  \t-4.31481e-14\n",
      "3  \t250   \t-1.86219e-06\t1.57303e-05\t-0.00018684 \t-4.80003e-14\n",
      "4  \t250   \t-1.88655e-06\t1.05849e-05\t-0.000101089\t-1.00902e-13\n",
      "5  \t250   \t-3.04762e-06\t2.60284e-05\t-0.000397494\t-8.69316e-13\n",
      "6  \t250   \t-1.74966e-05\t0.000167141\t-0.00212264 \t-2.66096e-12\n",
      "7  \t250   \t-3.76665e-05\t0.000526829\t-0.00834214 \t-3.04109e-12\n",
      "8  \t250   \t-7.71516e-06\t5.74548e-05\t-0.000847703\t-2.31965e-11\n",
      "9  \t250   \t-1.68706e-05\t0.000112039\t-0.00152938 \t-3.54403e-12\n",
      "\n",
      "N pep:  342\n",
      "Best peptide: -12.233\n",
      "N pep under -12 kcal/mol: 001\n",
      "N pep under -11 kcal/mol: 010\n",
      "N pep under -10 kcal/mol: 056\n",
      "N pep under -9 kcal/mol: 111\n",
      "N pep under -8 kcal/mol: 148\n",
      "N pep under -7 kcal/mol: 211\n",
      "N pep under -6 kcal/mol: 275\n",
      "N pep under -5 kcal/mol: 342\n",
      "Non binding pep        : 000\n"
     ]
    },
    {
     "data": {
      "image/png": "[encoded data removed]",
      "text/plain": [
       "<Figure size 360x360 with 1 Axes>"
      ]
     },
     "metadata": {
      "needs_background": "light"
     },
     "output_type": "display_data"
    },
    {
     "name": "stdout",
     "output_type": "stream",
     "text": [
      "\n",
      "\n",
      "\n",
      "Generation: 3\n"
     ]
    },
    {
     "name": "stderr",
     "output_type": "stream",
     "text": [
      "/home/eberhardt/Applications/miniconda3/envs/python3/lib/python3.7/site-packages/deap/creator.py:141: RuntimeWarning: A class named 'Fitness' has already been created and it will be overwritten. Consider deleting previous creation of that class or rename it.\n",
      "  RuntimeWarning)\n",
      "/home/eberhardt/Applications/miniconda3/envs/python3/lib/python3.7/site-packages/deap/creator.py:141: RuntimeWarning: A class named 'Individual' has already been created and it will be overwritten. Consider deleting previous creation of that class or rename it.\n",
      "  RuntimeWarning)\n"
     ]
    },
    {
     "name": "stdout",
     "output_type": "stream",
     "text": [
      "gen\tnevals\tavg         \tstd        \tmin         \tmax         \n",
      "0  \t250   \t-1.01659e-07\t1.11516e-06\t-1.71734e-05\t-1.18883e-17\n",
      "1  \t250   \t-5.1984e-07 \t4.3435e-06 \t-5.92962e-05\t-4.61847e-17\n",
      "2  \t250   \t-5.28985e-07\t2.49783e-06\t-2.66603e-05\t-1.14224e-16\n",
      "3  \t250   \t-1.89624e-06\t1.69359e-05\t-0.000260134\t-8.03555e-14\n",
      "4  \t250   \t-3.63971e-05\t0.000350216\t-0.00530987 \t-4.64822e-14\n",
      "5  \t250   \t-5.57756e-06\t2.87331e-05\t-0.000294873\t-3.00505e-14\n",
      "6  \t250   \t-2.4453e-05 \t0.000219094\t-0.00318527 \t-6.25585e-13\n",
      "7  \t250   \t-5.92256e-05\t0.000520235\t-0.00777295 \t-6.61212e-12\n",
      "8  \t250   \t-4.24354e-05\t0.000298387\t-0.00335536 \t-1.9432e-13 \n",
      "9  \t250   \t-8.88383e-05\t0.000656262\t-0.00994291 \t-7.22935e-12\n",
      "\n",
      "N pep:  438\n",
      "Best peptide: -12.675\n",
      "N pep under -12 kcal/mol: 002\n",
      "N pep under -11 kcal/mol: 028\n",
      "N pep under -10 kcal/mol: 123\n",
      "N pep under -9 kcal/mol: 201\n",
      "N pep under -8 kcal/mol: 244\n",
      "N pep under -7 kcal/mol: 307\n",
      "N pep under -6 kcal/mol: 371\n",
      "N pep under -5 kcal/mol: 438\n",
      "Non binding pep        : 000\n"
     ]
    },
    {
     "data": {
      "image/png": "[encoded data removed]",
      "text/plain": [
       "<Figure size 360x360 with 1 Axes>"
      ]
     },
     "metadata": {
      "needs_background": "light"
     },
     "output_type": "display_data"
    },
    {
     "name": "stdout",
     "output_type": "stream",
     "text": [
      "\n",
      "\n",
      "\n",
      "Run: 9\n",
      "Exp dataset size: (150, 4096)\n",
      "\n",
      "\n",
      "Init.\n",
      "N pep:  150\n",
      "Best peptide: -8.090\n",
      "N pep under -12 kcal/mol: 000\n",
      "N pep under -11 kcal/mol: 000\n",
      "N pep under -10 kcal/mol: 000\n",
      "N pep under -9 kcal/mol: 000\n",
      "N pep under -8 kcal/mol: 003\n",
      "N pep under -7 kcal/mol: 032\n",
      "N pep under -6 kcal/mol: 081\n",
      "N pep under -5 kcal/mol: 150\n",
      "Non binding pep        : 000\n",
      "\n",
      "\n",
      "\n",
      "Generation: 1\n"
     ]
    },
    {
     "name": "stderr",
     "output_type": "stream",
     "text": [
      "/home/eberhardt/Applications/miniconda3/envs/python3/lib/python3.7/site-packages/deap/creator.py:141: RuntimeWarning: A class named 'Fitness' has already been created and it will be overwritten. Consider deleting previous creation of that class or rename it.\n",
      "  RuntimeWarning)\n",
      "/home/eberhardt/Applications/miniconda3/envs/python3/lib/python3.7/site-packages/deap/creator.py:141: RuntimeWarning: A class named 'Individual' has already been created and it will be overwritten. Consider deleting previous creation of that class or rename it.\n",
      "  RuntimeWarning)\n"
     ]
    },
    {
     "name": "stdout",
     "output_type": "stream",
     "text": [
      "gen\tnevals\tavg       \tstd       \tmin       \tmax         \n",
      "0  \t250   \t-0.0023325\t0.00274164\t-0.0185454\t-7.64868e-05\n",
      "1  \t250   \t-0.00466131\t0.00514488\t-0.046667 \t-0.00020819 \n",
      "2  \t250   \t-0.00652667\t0.00541244\t-0.0360762\t-0.000287323\n",
      "3  \t250   \t-0.00920718\t0.00641576\t-0.0589971\t-0.000884427\n",
      "4  \t250   \t-0.0114207 \t0.00764831\t-0.040526 \t-0.000656948\n",
      "5  \t250   \t-0.0130371 \t0.00797742\t-0.04523  \t-0.000820674\n",
      "6  \t250   \t-0.0147923 \t0.00811912\t-0.0473746\t-0.00149294 \n",
      "7  \t250   \t-0.0163626 \t0.0086376 \t-0.0599479\t-0.00294359 \n",
      "8  \t250   \t-0.017343  \t0.0089042 \t-0.0528499\t-0.00246263 \n",
      "9  \t250   \t-0.0174564 \t0.00834254\t-0.0533231\t-0.00375617 \n",
      "\n",
      "N pep:  246\n",
      "Best peptide: -11.410\n",
      "N pep under -12 kcal/mol: 000\n",
      "N pep under -11 kcal/mol: 004\n",
      "N pep under -10 kcal/mol: 024\n",
      "N pep under -9 kcal/mol: 061\n",
      "N pep under -8 kcal/mol: 087\n",
      "N pep under -7 kcal/mol: 124\n",
      "N pep under -6 kcal/mol: 177\n",
      "N pep under -5 kcal/mol: 246\n",
      "Non binding pep        : 000\n"
     ]
    },
    {
     "data": {
      "image/png": "[encoded data removed]",
      "text/plain": [
       "<Figure size 360x360 with 1 Axes>"
      ]
     },
     "metadata": {
      "needs_background": "light"
     },
     "output_type": "display_data"
    },
    {
     "name": "stdout",
     "output_type": "stream",
     "text": [
      "\n",
      "\n",
      "\n",
      "Generation: 2\n"
     ]
    },
    {
     "name": "stderr",
     "output_type": "stream",
     "text": [
      "/home/eberhardt/Applications/miniconda3/envs/python3/lib/python3.7/site-packages/deap/creator.py:141: RuntimeWarning: A class named 'Fitness' has already been created and it will be overwritten. Consider deleting previous creation of that class or rename it.\n",
      "  RuntimeWarning)\n",
      "/home/eberhardt/Applications/miniconda3/envs/python3/lib/python3.7/site-packages/deap/creator.py:141: RuntimeWarning: A class named 'Individual' has already been created and it will be overwritten. Consider deleting previous creation of that class or rename it.\n",
      "  RuntimeWarning)\n"
     ]
    },
    {
     "name": "stdout",
     "output_type": "stream",
     "text": [
      "gen\tnevals\tavg        \tstd        \tmin         \tmax         \n",
      "0  \t250   \t-2.5751e-07\t1.77229e-06\t-2.51474e-05\t-3.97187e-15\n",
      "1  \t250   \t-7.15348e-05\t0.00110164 \t-0.0174542  \t-4.83021e-14\n",
      "2  \t250   \t-2.45078e-05\t0.000182301\t-0.00234732 \t-1.23028e-15\n",
      "3  \t250   \t-0.000111259\t0.000804737\t-0.011331   \t-3.29761e-11\n",
      "4  \t250   \t-0.000567252\t0.00577993 \t-0.083773   \t-5.20119e-11\n",
      "5  \t250   \t-0.000188568\t0.00104526 \t-0.0153858  \t-5.98405e-11\n",
      "6  \t250   \t-0.000220521\t0.000829532\t-0.00707687 \t-1.24589e-09\n",
      "7  \t250   \t-0.00048549 \t0.00240673 \t-0.031741   \t-8.50915e-11\n",
      "8  \t250   \t-0.000485749\t0.00175504 \t-0.0217467  \t-3.72218e-09\n",
      "9  \t250   \t-0.000611582\t0.00185382 \t-0.0205892  \t-6.13414e-09\n",
      "\n",
      "N pep:  342\n",
      "Best peptide: -12.717\n",
      "N pep under -12 kcal/mol: 007\n",
      "N pep under -11 kcal/mol: 028\n",
      "N pep under -10 kcal/mol: 080\n",
      "N pep under -9 kcal/mol: 146\n",
      "N pep under -8 kcal/mol: 180\n",
      "N pep under -7 kcal/mol: 220\n",
      "N pep under -6 kcal/mol: 273\n",
      "N pep under -5 kcal/mol: 342\n",
      "Non binding pep        : 000\n"
     ]
    },
    {
     "data": {
      "image/png": "[encoded data removed]",
      "text/plain": [
       "<Figure size 360x360 with 1 Axes>"
      ]
     },
     "metadata": {
      "needs_background": "light"
     },
     "output_type": "display_data"
    },
    {
     "name": "stdout",
     "output_type": "stream",
     "text": [
      "\n",
      "\n",
      "\n",
      "Generation: 3\n"
     ]
    },
    {
     "name": "stderr",
     "output_type": "stream",
     "text": [
      "/home/eberhardt/Applications/miniconda3/envs/python3/lib/python3.7/site-packages/deap/creator.py:141: RuntimeWarning: A class named 'Fitness' has already been created and it will be overwritten. Consider deleting previous creation of that class or rename it.\n",
      "  RuntimeWarning)\n",
      "/home/eberhardt/Applications/miniconda3/envs/python3/lib/python3.7/site-packages/deap/creator.py:141: RuntimeWarning: A class named 'Individual' has already been created and it will be overwritten. Consider deleting previous creation of that class or rename it.\n",
      "  RuntimeWarning)\n"
     ]
    },
    {
     "name": "stdout",
     "output_type": "stream",
     "text": [
      "gen\tnevals\tavg         \tstd        \tmin         \tmax         \n",
      "0  \t250   \t-9.18471e-08\t1.28472e-06\t-2.02948e-05\t-8.72175e-22\n",
      "1  \t250   \t-2.03745e-07\t1.8883e-06 \t-2.24473e-05\t-3.38504e-19\n",
      "2  \t250   \t-3.59936e-06\t5.28173e-05\t-0.00083656 \t-9.86467e-19\n",
      "3  \t250   \t-5.11561e-06\t5.71035e-05\t-0.000874255\t-2.45766e-15\n",
      "4  \t250   \t-4.79952e-05\t0.000391709\t-0.00461903 \t-1.61341e-13\n",
      "5  \t250   \t-1.18012e-05\t8.74555e-05\t-0.00123738 \t-2.18483e-14\n",
      "6  \t250   \t-4.4409e-05 \t0.000321218\t-0.00479417 \t-4.09099e-14\n",
      "7  \t250   \t-3.48849e-05\t0.000247955\t-0.00291831 \t-3.77509e-14\n",
      "8  \t250   \t-6.42214e-05\t0.000319136\t-0.00401101 \t-1.21331e-11\n",
      "9  \t250   \t-0.000225638\t0.00229902 \t-0.033209   \t-1.51407e-12\n",
      "\n",
      "N pep:  438\n",
      "Best peptide: -12.717\n",
      "N pep under -12 kcal/mol: 010\n",
      "N pep under -11 kcal/mol: 048\n",
      "N pep under -10 kcal/mol: 158\n",
      "N pep under -9 kcal/mol: 239\n",
      "N pep under -8 kcal/mol: 276\n",
      "N pep under -7 kcal/mol: 316\n",
      "N pep under -6 kcal/mol: 369\n",
      "N pep under -5 kcal/mol: 438\n",
      "Non binding pep        : 000\n"
     ]
    },
    {
     "data": {
      "image/png": "[encoded data removed]",
      "text/plain": [
       "<Figure size 360x360 with 1 Axes>"
      ]
     },
     "metadata": {
      "needs_background": "light"
     },
     "output_type": "display_data"
    },
    {
     "name": "stdout",
     "output_type": "stream",
     "text": [
      "\n",
      "\n",
      "\n",
      "Run: 10\n",
      "Exp dataset size: (150, 4096)\n",
      "\n",
      "\n",
      "Init.\n",
      "N pep:  150\n",
      "Best peptide: -8.084\n",
      "N pep under -12 kcal/mol: 000\n",
      "N pep under -11 kcal/mol: 000\n",
      "N pep under -10 kcal/mol: 000\n",
      "N pep under -9 kcal/mol: 000\n",
      "N pep under -8 kcal/mol: 003\n",
      "N pep under -7 kcal/mol: 031\n",
      "N pep under -6 kcal/mol: 088\n",
      "N pep under -5 kcal/mol: 150\n",
      "Non binding pep        : 000\n",
      "\n",
      "\n",
      "\n",
      "Generation: 1\n"
     ]
    },
    {
     "name": "stderr",
     "output_type": "stream",
     "text": [
      "/home/eberhardt/Applications/miniconda3/envs/python3/lib/python3.7/site-packages/deap/creator.py:141: RuntimeWarning: A class named 'Fitness' has already been created and it will be overwritten. Consider deleting previous creation of that class or rename it.\n",
      "  RuntimeWarning)\n",
      "/home/eberhardt/Applications/miniconda3/envs/python3/lib/python3.7/site-packages/deap/creator.py:141: RuntimeWarning: A class named 'Individual' has already been created and it will be overwritten. Consider deleting previous creation of that class or rename it.\n",
      "  RuntimeWarning)\n"
     ]
    },
    {
     "name": "stdout",
     "output_type": "stream",
     "text": [
      "gen\tnevals\tavg       \tstd       \tmin       \tmax         \n",
      "0  \t250   \t-0.0047832\t0.00755259\t-0.0695007\t-4.28898e-05\n",
      "1  \t250   \t-0.00943325\t0.0100246 \t-0.0535094\t-3.49876e-05\n",
      "2  \t250   \t-0.0151408 \t0.0139612 \t-0.0639967\t-0.000445107\n",
      "3  \t250   \t-0.0211131 \t0.0187569 \t-0.0943314\t-0.00036276 \n",
      "4  \t250   \t-0.0289549 \t0.0257725 \t-0.157462 \t-0.00211421 \n",
      "5  \t250   \t-0.0289895 \t0.0204481 \t-0.15291  \t-0.00281655 \n",
      "6  \t250   \t-0.0332182 \t0.022691  \t-0.121469 \t-0.00189339 \n",
      "7  \t250   \t-0.0335356 \t0.0242443 \t-0.151517 \t-0.00163001 \n",
      "8  \t250   \t-0.0358103 \t0.0239922 \t-0.133601 \t-0.0027547  \n",
      "9  \t250   \t-0.0388557 \t0.0264392 \t-0.14054  \t-0.00433121 \n",
      "\n",
      "N pep:  246\n",
      "Best peptide: -11.945\n",
      "N pep under -12 kcal/mol: 000\n",
      "N pep under -11 kcal/mol: 002\n",
      "N pep under -10 kcal/mol: 014\n",
      "N pep under -9 kcal/mol: 035\n",
      "N pep under -8 kcal/mol: 067\n",
      "N pep under -7 kcal/mol: 115\n",
      "N pep under -6 kcal/mol: 182\n",
      "N pep under -5 kcal/mol: 246\n",
      "Non binding pep        : 000\n"
     ]
    },
    {
     "data": {
      "image/png": "[encoded data removed]",
      "text/plain": [
       "<Figure size 360x360 with 1 Axes>"
      ]
     },
     "metadata": {
      "needs_background": "light"
     },
     "output_type": "display_data"
    },
    {
     "name": "stdout",
     "output_type": "stream",
     "text": [
      "\n",
      "\n",
      "\n",
      "Generation: 2\n"
     ]
    },
    {
     "name": "stderr",
     "output_type": "stream",
     "text": [
      "/home/eberhardt/Applications/miniconda3/envs/python3/lib/python3.7/site-packages/deap/creator.py:141: RuntimeWarning: A class named 'Fitness' has already been created and it will be overwritten. Consider deleting previous creation of that class or rename it.\n",
      "  RuntimeWarning)\n",
      "/home/eberhardt/Applications/miniconda3/envs/python3/lib/python3.7/site-packages/deap/creator.py:141: RuntimeWarning: A class named 'Individual' has already been created and it will be overwritten. Consider deleting previous creation of that class or rename it.\n",
      "  RuntimeWarning)\n"
     ]
    },
    {
     "name": "stdout",
     "output_type": "stream",
     "text": [
      "gen\tnevals\tavg         \tstd        \tmin        \tmax        \n",
      "0  \t250   \t-1.24792e-07\t1.32993e-06\t-1.9817e-05\t-2.5035e-17\n",
      "1  \t250   \t-4.67052e-07\t6.71489e-06\t-0.000106366\t-1.4185e-15\n",
      "2  \t250   \t-1.70156e-05\t0.000251196\t-0.003977   \t-2.79994e-15\n",
      "3  \t250   \t-6.62259e-06\t5.79654e-05\t-0.00088245 \t-4.69792e-13\n",
      "4  \t250   \t-6.03726e-06\t2.82e-05   \t-0.000286533\t-1.93805e-12\n",
      "5  \t250   \t-6.0316e-06 \t2.3146e-05 \t-0.000234641\t-3.5571e-12 \n",
      "6  \t250   \t-9.69139e-06\t5.12732e-05\t-0.000515189\t-1.91758e-10\n",
      "7  \t250   \t-4.08686e-05\t0.00055797 \t-0.0088355  \t-3.63403e-11\n",
      "8  \t250   \t-1.01848e-05\t4.6518e-05 \t-0.000464238\t-1.96039e-10\n",
      "9  \t250   \t-1.57503e-05\t6.79154e-05\t-0.000637627\t-6.75596e-12\n",
      "\n",
      "N pep:  342\n",
      "Best peptide: -12.084\n",
      "N pep under -12 kcal/mol: 001\n",
      "N pep under -11 kcal/mol: 008\n",
      "N pep under -10 kcal/mol: 045\n",
      "N pep under -9 kcal/mol: 100\n",
      "N pep under -8 kcal/mol: 155\n",
      "N pep under -7 kcal/mol: 211\n",
      "N pep under -6 kcal/mol: 278\n",
      "N pep under -5 kcal/mol: 342\n",
      "Non binding pep        : 000\n"
     ]
    },
    {
     "data": {
      "image/png": "[encoded data removed]",
      "text/plain": [
       "<Figure size 360x360 with 1 Axes>"
      ]
     },
     "metadata": {
      "needs_background": "light"
     },
     "output_type": "display_data"
    },
    {
     "name": "stdout",
     "output_type": "stream",
     "text": [
      "\n",
      "\n",
      "\n",
      "Generation: 3\n"
     ]
    },
    {
     "name": "stderr",
     "output_type": "stream",
     "text": [
      "/home/eberhardt/Applications/miniconda3/envs/python3/lib/python3.7/site-packages/deap/creator.py:141: RuntimeWarning: A class named 'Fitness' has already been created and it will be overwritten. Consider deleting previous creation of that class or rename it.\n",
      "  RuntimeWarning)\n",
      "/home/eberhardt/Applications/miniconda3/envs/python3/lib/python3.7/site-packages/deap/creator.py:141: RuntimeWarning: A class named 'Individual' has already been created and it will be overwritten. Consider deleting previous creation of that class or rename it.\n",
      "  RuntimeWarning)\n"
     ]
    },
    {
     "name": "stdout",
     "output_type": "stream",
     "text": [
      "gen\tnevals\tavg         \tstd       \tmin         \tmax         \n",
      "0  \t250   \t-9.95815e-08\t9.6957e-07\t-1.39368e-05\t-3.93805e-17\n",
      "1  \t250   \t-5.01749e-07\t5.10115e-06\t-7.95585e-05\t-9.9447e-16 \n",
      "2  \t250   \t-1.48541e-05\t0.000184963\t-0.0028912  \t-3.28524e-15\n",
      "3  \t250   \t-2.91034e-05\t0.000388332\t-0.00613984 \t-3.95791e-14\n",
      "4  \t250   \t-1.92796e-05\t0.000176987\t-0.00229307 \t-6.78243e-14\n",
      "5  \t250   \t-3.95547e-05\t0.000391167\t-0.00526003 \t-2.08903e-13\n",
      "6  \t250   \t-1.37139e-05\t6.58668e-05\t-0.000692053\t-6.46818e-12\n",
      "7  \t250   \t-5.80806e-05\t0.000367281\t-0.00495373 \t-5.7306e-12 \n",
      "8  \t250   \t-0.000120802\t0.000835994\t-0.0107488  \t-5.94016e-13\n",
      "9  \t250   \t-9.05919e-05\t0.00057613 \t-0.00876655 \t-7.28632e-11\n",
      "\n",
      "N pep:  438\n",
      "Best peptide: -12.180\n",
      "N pep under -12 kcal/mol: 002\n",
      "N pep under -11 kcal/mol: 017\n",
      "N pep under -10 kcal/mol: 100\n",
      "N pep under -9 kcal/mol: 185\n",
      "N pep under -8 kcal/mol: 250\n",
      "N pep under -7 kcal/mol: 307\n",
      "N pep under -6 kcal/mol: 374\n",
      "N pep under -5 kcal/mol: 438\n",
      "Non binding pep        : 000\n"
     ]
    },
    {
     "data": {
      "image/png": "[encoded data removed]",
      "text/plain": [
       "<Figure size 360x360 with 1 Axes>"
      ]
     },
     "metadata": {
      "needs_background": "light"
     },
     "output_type": "display_data"
    },
    {
     "name": "stdout",
     "output_type": "stream",
     "text": [
      "\n",
      "\n",
      "\n"
     ]
    }
   ],
   "source": [
    "pbil_candidate_fps = []\n",
    "pbil_candidate_y = []\n",
    "\n",
    "n_peptides = 150\n",
    "peptide_length = 9\n",
    "energy_bounds = [-8.2, -5] # about between 1 and 250 uM\n",
    "energy_cutoff = -5 # around 250 uM\n",
    "\n",
    "for i in range(10):\n",
    "    print('Run: %s' % (i + 1))\n",
    "    \n",
    "    # Generate random peptides\n",
    "    random_peptides, random_peptide_scores = generate_random_peptides(n_peptides, peptide_length, pssm, reg,\n",
    "                                                                      energy_bounds, energy_cutoff)\n",
    "    \n",
    "    # Compute the MAP4 fingerprint for all the peptides\n",
    "    X_fps_exp = map4_fingerprint(random_peptides)\n",
    "    y_exp = torch.from_numpy(random_peptide_scores).float()\n",
    "    print('Exp dataset size: (%d, %d)' % (X_fps_exp.shape[0], X_fps_exp.shape[1]))\n",
    "    \n",
    "    print('\\n')\n",
    "    \n",
    "    print('Init.')\n",
    "    print('N pep: ', X_fps_exp.shape[0])\n",
    "    print('Best peptide: %.3f' % y_exp.min())\n",
    "    for n in [-12, -11, -10, -9, -8, -7, -6, -5]:\n",
    "        print('N pep under %d kcal/mol: %03d' % (n, y_exp[y_exp < n].shape[0]))\n",
    "    print('Non binding pep        : %03d' % (y_exp[y_exp == 0.].shape[0]))\n",
    "\n",
    "    print('\\n\\n')\n",
    "\n",
    "    for j in range(3):\n",
    "        print('Generation: %d' % (j + 1))\n",
    "        # Train GP model\n",
    "        model = get_fitted_model(X_fps_exp, y_exp, kernel=TanimotoSimilarityKernel)\n",
    "\n",
    "        # Find new candidates\n",
    "        #acq = AcqScoring(model, probability_of_improvement, y_exp)\n",
    "        acq = AcqScoring(model, expected_improvement, y_exp)\n",
    "        candidate_sequences, candidates_acq = find_next_candidates(acq, greater_is_better=False)\n",
    "\n",
    "        # Add candidates to the training set\n",
    "        candidate_fps = map4_fingerprint(candidate_sequences)\n",
    "        y_candidates = torch.from_numpy(np.array(score_peptides(candidate_sequences, pssm, reg)))\n",
    "\n",
    "        X_fps_exp = torch.cat([X_fps_exp, candidate_fps])\n",
    "        y_exp = torch.cat([y_exp, y_candidates])\n",
    "\n",
    "        print('')\n",
    "        print('N pep: ', X_fps_exp.shape[0])\n",
    "        print('Best peptide: %.3f' % y_exp.min())\n",
    "        for n in [-12, -11, -10, -9, -8,  -7, -6, -5]:\n",
    "            print('N pep under %d kcal/mol: %03d' % (n, y_exp[y_exp < n].shape[0]))\n",
    "        print('Non binding pep        : %03d' % (y_exp[y_exp == 0.].shape[0]))\n",
    "\n",
    "        fig, ax = plt.subplots(figsize=(5, 5))\n",
    "        ax.scatter(candidates_acq, y_candidates.numpy())\n",
    "        plt.show()\n",
    "\n",
    "        print('\\n\\n')\n",
    "    \n",
    "    \n",
    "    pbil_candidate_fps.append(X_fps_exp.detach().numpy())\n",
    "    pbil_candidate_y.append(y_exp.detach().numpy())\n",
    "\n",
    "\n",
    "pbil_candidate_fps = np.array(pbil_candidate_fps)\n",
    "pbil_candidate_y = np.array(pbil_candidate_y)"
   ]
  },
  {
   "cell_type": "markdown",
   "id": "c4c285db",
   "metadata": {},
   "source": [
    "### Random candidate peptides sampling"
   ]
  },
  {
   "cell_type": "code",
   "execution_count": 25,
   "id": "40c7e82a",
   "metadata": {},
   "outputs": [
    {
     "name": "stdout",
     "output_type": "stream",
     "text": [
      "Run: 1\n",
      "Exp dataset size: (150, 4096)\n",
      "\n",
      "\n",
      "\n",
      "Init.\n",
      "N pep:  150\n",
      "Best peptide: -8.097\n",
      "N pep under -12 kcal/mol: 000\n",
      "N pep under -11 kcal/mol: 000\n",
      "N pep under -10 kcal/mol: 000\n",
      "N pep under -9 kcal/mol: 000\n",
      "N pep under -8 kcal/mol: 003\n",
      "N pep under -7 kcal/mol: 036\n",
      "N pep under -6 kcal/mol: 089\n",
      "N pep under -5 kcal/mol: 150\n",
      "Non binding pep        : 000\n",
      "\n",
      "\n",
      "\n",
      "Generation: 1\n",
      "\n",
      "N pep:  246\n",
      "Best peptide: -11.071\n",
      "N pep under -12 kcal/mol: 000\n",
      "N pep under -11 kcal/mol: 001\n",
      "N pep under -10 kcal/mol: 003\n",
      "N pep under -9 kcal/mol: 014\n",
      "N pep under -8 kcal/mol: 034\n",
      "N pep under -7 kcal/mol: 092\n",
      "N pep under -6 kcal/mol: 167\n",
      "N pep under -5 kcal/mol: 239\n",
      "Non binding pep        : 007\n"
     ]
    },
    {
     "data": {
      "image/png": "[encoded data removed]",
      "text/plain": [
       "<Figure size 360x360 with 1 Axes>"
      ]
     },
     "metadata": {
      "needs_background": "light"
     },
     "output_type": "display_data"
    },
    {
     "name": "stdout",
     "output_type": "stream",
     "text": [
      "\n",
      "\n",
      "\n",
      "Generation: 2\n",
      "\n",
      "N pep:  342\n",
      "Best peptide: -11.755\n",
      "N pep under -12 kcal/mol: 000\n",
      "N pep under -11 kcal/mol: 002\n",
      "N pep under -10 kcal/mol: 008\n",
      "N pep under -9 kcal/mol: 027\n",
      "N pep under -8 kcal/mol: 081\n",
      "N pep under -7 kcal/mol: 164\n",
      "N pep under -6 kcal/mol: 258\n",
      "N pep under -5 kcal/mol: 335\n",
      "Non binding pep        : 007\n"
     ]
    },
    {
     "data": {
      "image/png": "[encoded data removed]",
      "text/plain": [
       "<Figure size 360x360 with 1 Axes>"
      ]
     },
     "metadata": {
      "needs_background": "light"
     },
     "output_type": "display_data"
    },
    {
     "name": "stdout",
     "output_type": "stream",
     "text": [
      "\n",
      "\n",
      "\n",
      "Generation: 3\n",
      "\n",
      "N pep:  438\n",
      "Best peptide: -11.755\n",
      "N pep under -12 kcal/mol: 000\n",
      "N pep under -11 kcal/mol: 005\n",
      "N pep under -10 kcal/mol: 017\n",
      "N pep under -9 kcal/mol: 054\n",
      "N pep under -8 kcal/mol: 140\n",
      "N pep under -7 kcal/mol: 242\n",
      "N pep under -6 kcal/mol: 351\n",
      "N pep under -5 kcal/mol: 431\n",
      "Non binding pep        : 007\n"
     ]
    },
    {
     "data": {
      "image/png": "[encoded data removed]",
      "text/plain": [
       "<Figure size 360x360 with 1 Axes>"
      ]
     },
     "metadata": {
      "needs_background": "light"
     },
     "output_type": "display_data"
    },
    {
     "name": "stdout",
     "output_type": "stream",
     "text": [
      "\n",
      "\n",
      "\n",
      "Run: 2\n",
      "Exp dataset size: (150, 4096)\n",
      "\n",
      "\n",
      "\n",
      "Init.\n",
      "N pep:  150\n",
      "Best peptide: -7.995\n",
      "N pep under -12 kcal/mol: 000\n",
      "N pep under -11 kcal/mol: 000\n",
      "N pep under -10 kcal/mol: 000\n",
      "N pep under -9 kcal/mol: 000\n",
      "N pep under -8 kcal/mol: 000\n",
      "N pep under -7 kcal/mol: 024\n",
      "N pep under -6 kcal/mol: 074\n",
      "N pep under -5 kcal/mol: 150\n",
      "Non binding pep        : 000\n",
      "\n",
      "\n",
      "\n",
      "Generation: 1\n",
      "\n",
      "N pep:  246\n",
      "Best peptide: -11.764\n",
      "N pep under -12 kcal/mol: 000\n",
      "N pep under -11 kcal/mol: 003\n",
      "N pep under -10 kcal/mol: 004\n",
      "N pep under -9 kcal/mol: 014\n",
      "N pep under -8 kcal/mol: 027\n",
      "N pep under -7 kcal/mol: 075\n",
      "N pep under -6 kcal/mol: 151\n",
      "N pep under -5 kcal/mol: 239\n",
      "Non binding pep        : 007\n"
     ]
    },
    {
     "data": {
      "image/png": "[encoded data removed]",
      "text/plain": [
       "<Figure size 360x360 with 1 Axes>"
      ]
     },
     "metadata": {
      "needs_background": "light"
     },
     "output_type": "display_data"
    },
    {
     "name": "stdout",
     "output_type": "stream",
     "text": [
      "\n",
      "\n",
      "\n",
      "Generation: 2\n",
      "\n",
      "N pep:  342\n",
      "Best peptide: -11.764\n",
      "N pep under -12 kcal/mol: 000\n",
      "N pep under -11 kcal/mol: 006\n",
      "N pep under -10 kcal/mol: 012\n",
      "N pep under -9 kcal/mol: 034\n",
      "N pep under -8 kcal/mol: 073\n",
      "N pep under -7 kcal/mol: 145\n",
      "N pep under -6 kcal/mol: 240\n",
      "N pep under -5 kcal/mol: 334\n",
      "Non binding pep        : 008\n"
     ]
    },
    {
     "data": {
      "image/png": "[encoded data removed]",
      "text/plain": [
       "<Figure size 360x360 with 1 Axes>"
      ]
     },
     "metadata": {
      "needs_background": "light"
     },
     "output_type": "display_data"
    },
    {
     "name": "stdout",
     "output_type": "stream",
     "text": [
      "\n",
      "\n",
      "\n",
      "Generation: 3\n",
      "\n",
      "N pep:  438\n",
      "Best peptide: -11.764\n",
      "N pep under -12 kcal/mol: 000\n",
      "N pep under -11 kcal/mol: 007\n",
      "N pep under -10 kcal/mol: 022\n",
      "N pep under -9 kcal/mol: 071\n",
      "N pep under -8 kcal/mol: 145\n",
      "N pep under -7 kcal/mol: 233\n",
      "N pep under -6 kcal/mol: 334\n",
      "N pep under -5 kcal/mol: 430\n",
      "Non binding pep        : 008\n"
     ]
    },
    {
     "data": {
      "image/png": "[encoded data removed]",
      "text/plain": [
       "<Figure size 360x360 with 1 Axes>"
      ]
     },
     "metadata": {
      "needs_background": "light"
     },
     "output_type": "display_data"
    },
    {
     "name": "stdout",
     "output_type": "stream",
     "text": [
      "\n",
      "\n",
      "\n",
      "Run: 3\n",
      "Exp dataset size: (150, 4096)\n",
      "\n",
      "\n",
      "\n",
      "Init.\n",
      "N pep:  150\n",
      "Best peptide: -8.162\n",
      "N pep under -12 kcal/mol: 000\n",
      "N pep under -11 kcal/mol: 000\n",
      "N pep under -10 kcal/mol: 000\n",
      "N pep under -9 kcal/mol: 000\n",
      "N pep under -8 kcal/mol: 006\n",
      "N pep under -7 kcal/mol: 038\n",
      "N pep under -6 kcal/mol: 091\n",
      "N pep under -5 kcal/mol: 150\n",
      "Non binding pep        : 000\n",
      "\n",
      "\n",
      "\n",
      "Generation: 1\n",
      "\n",
      "N pep:  246\n",
      "Best peptide: -11.035\n",
      "N pep under -12 kcal/mol: 000\n",
      "N pep under -11 kcal/mol: 001\n",
      "N pep under -10 kcal/mol: 003\n",
      "N pep under -9 kcal/mol: 017\n",
      "N pep under -8 kcal/mol: 039\n",
      "N pep under -7 kcal/mol: 102\n",
      "N pep under -6 kcal/mol: 167\n",
      "N pep under -5 kcal/mol: 240\n",
      "Non binding pep        : 006\n"
     ]
    },
    {
     "data": {
      "image/png": "[encoded data removed]",
      "text/plain": [
       "<Figure size 360x360 with 1 Axes>"
      ]
     },
     "metadata": {
      "needs_background": "light"
     },
     "output_type": "display_data"
    },
    {
     "name": "stdout",
     "output_type": "stream",
     "text": [
      "\n",
      "\n",
      "\n",
      "Generation: 2\n",
      "\n",
      "N pep:  342\n",
      "Best peptide: -11.155\n",
      "N pep under -12 kcal/mol: 000\n",
      "N pep under -11 kcal/mol: 002\n",
      "N pep under -10 kcal/mol: 010\n",
      "N pep under -9 kcal/mol: 047\n",
      "N pep under -8 kcal/mol: 089\n",
      "N pep under -7 kcal/mol: 174\n",
      "N pep under -6 kcal/mol: 257\n",
      "N pep under -5 kcal/mol: 332\n",
      "Non binding pep        : 010\n"
     ]
    },
    {
     "data": {
      "image/png": "[encoded data removed]",
      "text/plain": [
       "<Figure size 360x360 with 1 Axes>"
      ]
     },
     "metadata": {
      "needs_background": "light"
     },
     "output_type": "display_data"
    },
    {
     "name": "stdout",
     "output_type": "stream",
     "text": [
      "\n",
      "\n",
      "\n",
      "Generation: 3\n",
      "\n",
      "N pep:  438\n",
      "Best peptide: -11.762\n",
      "N pep under -12 kcal/mol: 000\n",
      "N pep under -11 kcal/mol: 006\n",
      "N pep under -10 kcal/mol: 025\n",
      "N pep under -9 kcal/mol: 080\n",
      "N pep under -8 kcal/mol: 156\n",
      "N pep under -7 kcal/mol: 265\n",
      "N pep under -6 kcal/mol: 353\n",
      "N pep under -5 kcal/mol: 428\n",
      "Non binding pep        : 010\n"
     ]
    },
    {
     "data": {
      "image/png": "[encoded data removed]",
      "text/plain": [
       "<Figure size 360x360 with 1 Axes>"
      ]
     },
     "metadata": {
      "needs_background": "light"
     },
     "output_type": "display_data"
    },
    {
     "name": "stdout",
     "output_type": "stream",
     "text": [
      "\n",
      "\n",
      "\n",
      "Run: 4\n",
      "Exp dataset size: (150, 4096)\n",
      "\n",
      "\n",
      "\n",
      "Init.\n",
      "N pep:  150\n",
      "Best peptide: -8.132\n",
      "N pep under -12 kcal/mol: 000\n",
      "N pep under -11 kcal/mol: 000\n",
      "N pep under -10 kcal/mol: 000\n",
      "N pep under -9 kcal/mol: 000\n",
      "N pep under -8 kcal/mol: 007\n",
      "N pep under -7 kcal/mol: 037\n",
      "N pep under -6 kcal/mol: 086\n",
      "N pep under -5 kcal/mol: 150\n",
      "Non binding pep        : 000\n",
      "\n",
      "\n",
      "\n",
      "Generation: 1\n",
      "\n",
      "N pep:  246\n",
      "Best peptide: -11.331\n",
      "N pep under -12 kcal/mol: 000\n",
      "N pep under -11 kcal/mol: 001\n",
      "N pep under -10 kcal/mol: 005\n",
      "N pep under -9 kcal/mol: 019\n",
      "N pep under -8 kcal/mol: 041\n",
      "N pep under -7 kcal/mol: 102\n",
      "N pep under -6 kcal/mol: 172\n",
      "N pep under -5 kcal/mol: 246\n",
      "Non binding pep        : 000\n"
     ]
    },
    {
     "data": {
      "image/png": "[encoded data removed]",
      "text/plain": [
       "<Figure size 360x360 with 1 Axes>"
      ]
     },
     "metadata": {
      "needs_background": "light"
     },
     "output_type": "display_data"
    },
    {
     "name": "stdout",
     "output_type": "stream",
     "text": [
      "\n",
      "\n",
      "\n",
      "Generation: 2\n",
      "\n",
      "N pep:  342\n",
      "Best peptide: -11.331\n",
      "N pep under -12 kcal/mol: 000\n",
      "N pep under -11 kcal/mol: 001\n",
      "N pep under -10 kcal/mol: 006\n",
      "N pep under -9 kcal/mol: 038\n",
      "N pep under -8 kcal/mol: 095\n",
      "N pep under -7 kcal/mol: 184\n",
      "N pep under -6 kcal/mol: 265\n",
      "N pep under -5 kcal/mol: 341\n",
      "Non binding pep        : 001\n"
     ]
    },
    {
     "data": {
      "image/png": "[encoded data removed]",
      "text/plain": [
       "<Figure size 360x360 with 1 Axes>"
      ]
     },
     "metadata": {
      "needs_background": "light"
     },
     "output_type": "display_data"
    },
    {
     "name": "stdout",
     "output_type": "stream",
     "text": [
      "\n",
      "\n",
      "\n",
      "Generation: 3\n",
      "\n",
      "N pep:  438\n",
      "Best peptide: -11.331\n",
      "N pep under -12 kcal/mol: 000\n",
      "N pep under -11 kcal/mol: 001\n",
      "N pep under -10 kcal/mol: 014\n",
      "N pep under -9 kcal/mol: 078\n",
      "N pep under -8 kcal/mol: 166\n",
      "N pep under -7 kcal/mol: 276\n",
      "N pep under -6 kcal/mol: 361\n",
      "N pep under -5 kcal/mol: 437\n",
      "Non binding pep        : 001\n"
     ]
    },
    {
     "data": {
      "image/png": "[encoded data removed]",
      "text/plain": [
       "<Figure size 360x360 with 1 Axes>"
      ]
     },
     "metadata": {
      "needs_background": "light"
     },
     "output_type": "display_data"
    },
    {
     "name": "stdout",
     "output_type": "stream",
     "text": [
      "\n",
      "\n",
      "\n",
      "Run: 5\n",
      "Exp dataset size: (150, 4096)\n",
      "\n",
      "\n",
      "\n",
      "Init.\n",
      "N pep:  150\n",
      "Best peptide: -8.200\n",
      "N pep under -12 kcal/mol: 000\n",
      "N pep under -11 kcal/mol: 000\n",
      "N pep under -10 kcal/mol: 000\n",
      "N pep under -9 kcal/mol: 000\n",
      "N pep under -8 kcal/mol: 004\n",
      "N pep under -7 kcal/mol: 035\n",
      "N pep under -6 kcal/mol: 082\n",
      "N pep under -5 kcal/mol: 150\n",
      "Non binding pep        : 000\n",
      "\n",
      "\n",
      "\n",
      "Generation: 1\n",
      "\n",
      "N pep:  246\n",
      "Best peptide: -11.247\n",
      "N pep under -12 kcal/mol: 000\n",
      "N pep under -11 kcal/mol: 001\n",
      "N pep under -10 kcal/mol: 006\n",
      "N pep under -9 kcal/mol: 016\n",
      "N pep under -8 kcal/mol: 042\n",
      "N pep under -7 kcal/mol: 101\n",
      "N pep under -6 kcal/mol: 169\n",
      "N pep under -5 kcal/mol: 245\n",
      "Non binding pep        : 001\n"
     ]
    },
    {
     "data": {
      "image/png": "[encoded data removed]",
      "text/plain": [
       "<Figure size 360x360 with 1 Axes>"
      ]
     },
     "metadata": {
      "needs_background": "light"
     },
     "output_type": "display_data"
    },
    {
     "name": "stdout",
     "output_type": "stream",
     "text": [
      "\n",
      "\n",
      "\n",
      "Generation: 2\n",
      "\n",
      "N pep:  342\n",
      "Best peptide: -11.616\n",
      "N pep under -12 kcal/mol: 000\n",
      "N pep under -11 kcal/mol: 003\n",
      "N pep under -10 kcal/mol: 017\n",
      "N pep under -9 kcal/mol: 053\n",
      "N pep under -8 kcal/mol: 101\n",
      "N pep under -7 kcal/mol: 179\n",
      "N pep under -6 kcal/mol: 264\n",
      "N pep under -5 kcal/mol: 341\n",
      "Non binding pep        : 001\n"
     ]
    },
    {
     "data": {
      "image/png": "[encoded data removed]",
      "text/plain": [
       "<Figure size 360x360 with 1 Axes>"
      ]
     },
     "metadata": {
      "needs_background": "light"
     },
     "output_type": "display_data"
    },
    {
     "name": "stdout",
     "output_type": "stream",
     "text": [
      "\n",
      "\n",
      "\n",
      "Generation: 3\n",
      "\n",
      "N pep:  438\n",
      "Best peptide: -11.616\n",
      "N pep under -12 kcal/mol: 000\n",
      "N pep under -11 kcal/mol: 004\n",
      "N pep under -10 kcal/mol: 023\n",
      "N pep under -9 kcal/mol: 081\n",
      "N pep under -8 kcal/mol: 170\n",
      "N pep under -7 kcal/mol: 265\n",
      "N pep under -6 kcal/mol: 357\n",
      "N pep under -5 kcal/mol: 437\n",
      "Non binding pep        : 001\n"
     ]
    },
    {
     "data": {
      "image/png": "[encoded data removed]",
      "text/plain": [
       "<Figure size 360x360 with 1 Axes>"
      ]
     },
     "metadata": {
      "needs_background": "light"
     },
     "output_type": "display_data"
    },
    {
     "name": "stdout",
     "output_type": "stream",
     "text": [
      "\n",
      "\n",
      "\n",
      "Run: 6\n",
      "Exp dataset size: (150, 4096)\n",
      "\n",
      "\n",
      "\n",
      "Init.\n",
      "N pep:  150\n",
      "Best peptide: -8.165\n",
      "N pep under -12 kcal/mol: 000\n",
      "N pep under -11 kcal/mol: 000\n",
      "N pep under -10 kcal/mol: 000\n",
      "N pep under -9 kcal/mol: 000\n",
      "N pep under -8 kcal/mol: 003\n",
      "N pep under -7 kcal/mol: 039\n",
      "N pep under -6 kcal/mol: 089\n",
      "N pep under -5 kcal/mol: 150\n",
      "Non binding pep        : 000\n",
      "\n",
      "\n",
      "\n",
      "Generation: 1\n",
      "\n",
      "N pep:  246\n",
      "Best peptide: -11.678\n",
      "N pep under -12 kcal/mol: 000\n",
      "N pep under -11 kcal/mol: 001\n",
      "N pep under -10 kcal/mol: 009\n",
      "N pep under -9 kcal/mol: 017\n",
      "N pep under -8 kcal/mol: 042\n",
      "N pep under -7 kcal/mol: 096\n",
      "N pep under -6 kcal/mol: 165\n",
      "N pep under -5 kcal/mol: 239\n",
      "Non binding pep        : 007\n"
     ]
    },
    {
     "data": {
      "image/png": "[encoded data removed]",
      "text/plain": [
       "<Figure size 360x360 with 1 Axes>"
      ]
     },
     "metadata": {
      "needs_background": "light"
     },
     "output_type": "display_data"
    },
    {
     "name": "stdout",
     "output_type": "stream",
     "text": [
      "\n",
      "\n",
      "\n",
      "Generation: 2\n",
      "\n",
      "N pep:  342\n",
      "Best peptide: -11.678\n",
      "N pep under -12 kcal/mol: 000\n",
      "N pep under -11 kcal/mol: 003\n",
      "N pep under -10 kcal/mol: 019\n",
      "N pep under -9 kcal/mol: 051\n",
      "N pep under -8 kcal/mol: 102\n",
      "N pep under -7 kcal/mol: 182\n",
      "N pep under -6 kcal/mol: 258\n",
      "N pep under -5 kcal/mol: 335\n",
      "Non binding pep        : 007\n"
     ]
    },
    {
     "data": {
      "image/png": "[encoded data removed]",
      "text/plain": [
       "<Figure size 360x360 with 1 Axes>"
      ]
     },
     "metadata": {
      "needs_background": "light"
     },
     "output_type": "display_data"
    },
    {
     "name": "stdout",
     "output_type": "stream",
     "text": [
      "\n",
      "\n",
      "\n",
      "Generation: 3\n",
      "\n",
      "N pep:  438\n",
      "Best peptide: -12.013\n",
      "N pep under -12 kcal/mol: 001\n",
      "N pep under -11 kcal/mol: 007\n",
      "N pep under -10 kcal/mol: 034\n",
      "N pep under -9 kcal/mol: 082\n",
      "N pep under -8 kcal/mol: 169\n",
      "N pep under -7 kcal/mol: 271\n",
      "N pep under -6 kcal/mol: 352\n",
      "N pep under -5 kcal/mol: 431\n",
      "Non binding pep        : 007\n"
     ]
    },
    {
     "data": {
      "image/png": "[encoded data removed]",
      "text/plain": [
       "<Figure size 360x360 with 1 Axes>"
      ]
     },
     "metadata": {
      "needs_background": "light"
     },
     "output_type": "display_data"
    },
    {
     "name": "stdout",
     "output_type": "stream",
     "text": [
      "\n",
      "\n",
      "\n",
      "Run: 7\n",
      "Exp dataset size: (150, 4096)\n",
      "\n",
      "\n",
      "\n",
      "Init.\n",
      "N pep:  150\n",
      "Best peptide: -8.160\n",
      "N pep under -12 kcal/mol: 000\n",
      "N pep under -11 kcal/mol: 000\n",
      "N pep under -10 kcal/mol: 000\n",
      "N pep under -9 kcal/mol: 000\n",
      "N pep under -8 kcal/mol: 005\n",
      "N pep under -7 kcal/mol: 032\n",
      "N pep under -6 kcal/mol: 080\n",
      "N pep under -5 kcal/mol: 150\n",
      "Non binding pep        : 000\n",
      "\n",
      "\n",
      "\n",
      "Generation: 1\n",
      "\n",
      "N pep:  246\n",
      "Best peptide: -11.615\n",
      "N pep under -12 kcal/mol: 000\n",
      "N pep under -11 kcal/mol: 002\n",
      "N pep under -10 kcal/mol: 010\n",
      "N pep under -9 kcal/mol: 017\n",
      "N pep under -8 kcal/mol: 039\n",
      "N pep under -7 kcal/mol: 090\n",
      "N pep under -6 kcal/mol: 163\n",
      "N pep under -5 kcal/mol: 243\n",
      "Non binding pep        : 003\n"
     ]
    },
    {
     "data": {
      "image/png": "[encoded data removed]",
      "text/plain": [
       "<Figure size 360x360 with 1 Axes>"
      ]
     },
     "metadata": {
      "needs_background": "light"
     },
     "output_type": "display_data"
    },
    {
     "name": "stdout",
     "output_type": "stream",
     "text": [
      "\n",
      "\n",
      "\n",
      "Generation: 2\n",
      "\n",
      "N pep:  342\n",
      "Best peptide: -11.615\n",
      "N pep under -12 kcal/mol: 000\n",
      "N pep under -11 kcal/mol: 002\n",
      "N pep under -10 kcal/mol: 021\n",
      "N pep under -9 kcal/mol: 042\n",
      "N pep under -8 kcal/mol: 097\n",
      "N pep under -7 kcal/mol: 169\n",
      "N pep under -6 kcal/mol: 256\n",
      "N pep under -5 kcal/mol: 339\n",
      "Non binding pep        : 003\n"
     ]
    },
    {
     "data": {
      "image/png": "[encoded data removed]",
      "text/plain": [
       "<Figure size 360x360 with 1 Axes>"
      ]
     },
     "metadata": {
      "needs_background": "light"
     },
     "output_type": "display_data"
    },
    {
     "name": "stdout",
     "output_type": "stream",
     "text": [
      "\n",
      "\n",
      "\n",
      "Generation: 3\n",
      "\n",
      "N pep:  438\n",
      "Best peptide: -11.964\n",
      "N pep under -12 kcal/mol: 000\n",
      "N pep under -11 kcal/mol: 003\n",
      "N pep under -10 kcal/mol: 029\n",
      "N pep under -9 kcal/mol: 070\n",
      "N pep under -8 kcal/mol: 167\n",
      "N pep under -7 kcal/mol: 258\n",
      "N pep under -6 kcal/mol: 350\n",
      "N pep under -5 kcal/mol: 435\n",
      "Non binding pep        : 003\n"
     ]
    },
    {
     "data": {
      "image/png": "[encoded data removed]",
      "text/plain": [
       "<Figure size 360x360 with 1 Axes>"
      ]
     },
     "metadata": {
      "needs_background": "light"
     },
     "output_type": "display_data"
    },
    {
     "name": "stdout",
     "output_type": "stream",
     "text": [
      "\n",
      "\n",
      "\n",
      "Run: 8\n",
      "Exp dataset size: (150, 4096)\n",
      "\n",
      "\n",
      "\n",
      "Init.\n",
      "N pep:  150\n",
      "Best peptide: -8.165\n",
      "N pep under -12 kcal/mol: 000\n",
      "N pep under -11 kcal/mol: 000\n",
      "N pep under -10 kcal/mol: 000\n",
      "N pep under -9 kcal/mol: 000\n",
      "N pep under -8 kcal/mol: 002\n",
      "N pep under -7 kcal/mol: 030\n",
      "N pep under -6 kcal/mol: 081\n",
      "N pep under -5 kcal/mol: 150\n",
      "Non binding pep        : 000\n",
      "\n",
      "\n",
      "\n",
      "Generation: 1\n",
      "\n",
      "N pep:  246\n",
      "Best peptide: -10.427\n",
      "N pep under -12 kcal/mol: 000\n",
      "N pep under -11 kcal/mol: 000\n",
      "N pep under -10 kcal/mol: 003\n",
      "N pep under -9 kcal/mol: 015\n",
      "N pep under -8 kcal/mol: 032\n",
      "N pep under -7 kcal/mol: 090\n",
      "N pep under -6 kcal/mol: 154\n",
      "N pep under -5 kcal/mol: 236\n",
      "Non binding pep        : 010\n"
     ]
    },
    {
     "data": {
      "image/png": "[encoded data removed]",
      "text/plain": [
       "<Figure size 360x360 with 1 Axes>"
      ]
     },
     "metadata": {
      "needs_background": "light"
     },
     "output_type": "display_data"
    },
    {
     "name": "stdout",
     "output_type": "stream",
     "text": [
      "\n",
      "\n",
      "\n",
      "Generation: 2\n",
      "\n",
      "N pep:  342\n",
      "Best peptide: -11.136\n",
      "N pep under -12 kcal/mol: 000\n",
      "N pep under -11 kcal/mol: 001\n",
      "N pep under -10 kcal/mol: 009\n",
      "N pep under -9 kcal/mol: 035\n",
      "N pep under -8 kcal/mol: 079\n",
      "N pep under -7 kcal/mol: 166\n",
      "N pep under -6 kcal/mol: 245\n",
      "N pep under -5 kcal/mol: 332\n",
      "Non binding pep        : 010\n"
     ]
    },
    {
     "data": {
      "image/png": "[encoded data removed]",
      "text/plain": [
       "<Figure size 360x360 with 1 Axes>"
      ]
     },
     "metadata": {
      "needs_background": "light"
     },
     "output_type": "display_data"
    },
    {
     "name": "stdout",
     "output_type": "stream",
     "text": [
      "\n",
      "\n",
      "\n",
      "Generation: 3\n",
      "\n",
      "N pep:  438\n",
      "Best peptide: -11.735\n",
      "N pep under -12 kcal/mol: 000\n",
      "N pep under -11 kcal/mol: 003\n",
      "N pep under -10 kcal/mol: 021\n",
      "N pep under -9 kcal/mol: 071\n",
      "N pep under -8 kcal/mol: 146\n",
      "N pep under -7 kcal/mol: 252\n",
      "N pep under -6 kcal/mol: 340\n",
      "N pep under -5 kcal/mol: 428\n",
      "Non binding pep        : 010\n"
     ]
    },
    {
     "data": {
      "image/png": "[encoded data removed]",
      "text/plain": [
       "<Figure size 360x360 with 1 Axes>"
      ]
     },
     "metadata": {
      "needs_background": "light"
     },
     "output_type": "display_data"
    },
    {
     "name": "stdout",
     "output_type": "stream",
     "text": [
      "\n",
      "\n",
      "\n",
      "Run: 9\n",
      "Exp dataset size: (150, 4096)\n",
      "\n",
      "\n",
      "\n",
      "Init.\n",
      "N pep:  150\n",
      "Best peptide: -8.187\n",
      "N pep under -12 kcal/mol: 000\n",
      "N pep under -11 kcal/mol: 000\n",
      "N pep under -10 kcal/mol: 000\n",
      "N pep under -9 kcal/mol: 000\n",
      "N pep under -8 kcal/mol: 005\n",
      "N pep under -7 kcal/mol: 037\n",
      "N pep under -6 kcal/mol: 091\n",
      "N pep under -5 kcal/mol: 150\n",
      "Non binding pep        : 000\n",
      "\n",
      "\n",
      "\n",
      "Generation: 1\n",
      "\n",
      "N pep:  246\n",
      "Best peptide: -9.939\n",
      "N pep under -12 kcal/mol: 000\n",
      "N pep under -11 kcal/mol: 000\n",
      "N pep under -10 kcal/mol: 000\n",
      "N pep under -9 kcal/mol: 013\n",
      "N pep under -8 kcal/mol: 035\n",
      "N pep under -7 kcal/mol: 089\n",
      "N pep under -6 kcal/mol: 169\n",
      "N pep under -5 kcal/mol: 242\n",
      "Non binding pep        : 004\n"
     ]
    },
    {
     "data": {
      "image/png": "[encoded data removed]",
      "text/plain": [
       "<Figure size 360x360 with 1 Axes>"
      ]
     },
     "metadata": {
      "needs_background": "light"
     },
     "output_type": "display_data"
    },
    {
     "name": "stdout",
     "output_type": "stream",
     "text": [
      "\n",
      "\n",
      "\n",
      "Generation: 2\n",
      "\n",
      "N pep:  342\n",
      "Best peptide: -11.600\n",
      "N pep under -12 kcal/mol: 000\n",
      "N pep under -11 kcal/mol: 001\n",
      "N pep under -10 kcal/mol: 014\n",
      "N pep under -9 kcal/mol: 052\n",
      "N pep under -8 kcal/mol: 103\n",
      "N pep under -7 kcal/mol: 174\n",
      "N pep under -6 kcal/mol: 263\n",
      "N pep under -5 kcal/mol: 338\n",
      "Non binding pep        : 004\n"
     ]
    },
    {
     "data": {
      "image/png": "[encoded data removed]",
      "text/plain": [
       "<Figure size 360x360 with 1 Axes>"
      ]
     },
     "metadata": {
      "needs_background": "light"
     },
     "output_type": "display_data"
    },
    {
     "name": "stdout",
     "output_type": "stream",
     "text": [
      "\n",
      "\n",
      "\n",
      "Generation: 3\n",
      "\n",
      "N pep:  438\n",
      "Best peptide: -11.600\n",
      "N pep under -12 kcal/mol: 000\n",
      "N pep under -11 kcal/mol: 003\n",
      "N pep under -10 kcal/mol: 023\n",
      "N pep under -9 kcal/mol: 083\n",
      "N pep under -8 kcal/mol: 175\n",
      "N pep under -7 kcal/mol: 261\n",
      "N pep under -6 kcal/mol: 358\n",
      "N pep under -5 kcal/mol: 434\n",
      "Non binding pep        : 004\n"
     ]
    },
    {
     "data": {
      "image/png": "[encoded data removed]",
      "text/plain": [
       "<Figure size 360x360 with 1 Axes>"
      ]
     },
     "metadata": {
      "needs_background": "light"
     },
     "output_type": "display_data"
    },
    {
     "name": "stdout",
     "output_type": "stream",
     "text": [
      "\n",
      "\n",
      "\n",
      "Run: 10\n",
      "Exp dataset size: (150, 4096)\n",
      "\n",
      "\n",
      "\n",
      "Init.\n",
      "N pep:  150\n",
      "Best peptide: -8.102\n",
      "N pep under -12 kcal/mol: 000\n",
      "N pep under -11 kcal/mol: 000\n",
      "N pep under -10 kcal/mol: 000\n",
      "N pep under -9 kcal/mol: 000\n",
      "N pep under -8 kcal/mol: 002\n",
      "N pep under -7 kcal/mol: 029\n",
      "N pep under -6 kcal/mol: 086\n",
      "N pep under -5 kcal/mol: 150\n",
      "Non binding pep        : 000\n",
      "\n",
      "\n",
      "\n",
      "Generation: 1\n",
      "\n",
      "N pep:  246\n",
      "Best peptide: -10.111\n",
      "N pep under -12 kcal/mol: 000\n",
      "N pep under -11 kcal/mol: 000\n",
      "N pep under -10 kcal/mol: 003\n",
      "N pep under -9 kcal/mol: 014\n",
      "N pep under -8 kcal/mol: 032\n",
      "N pep under -7 kcal/mol: 094\n",
      "N pep under -6 kcal/mol: 171\n",
      "N pep under -5 kcal/mol: 242\n",
      "Non binding pep        : 004\n"
     ]
    },
    {
     "data": {
      "image/png": "[encoded data removed]",
      "text/plain": [
       "<Figure size 360x360 with 1 Axes>"
      ]
     },
     "metadata": {
      "needs_background": "light"
     },
     "output_type": "display_data"
    },
    {
     "name": "stdout",
     "output_type": "stream",
     "text": [
      "\n",
      "\n",
      "\n",
      "Generation: 2\n",
      "\n",
      "N pep:  342\n",
      "Best peptide: -10.686\n",
      "N pep under -12 kcal/mol: 000\n",
      "N pep under -11 kcal/mol: 000\n",
      "N pep under -10 kcal/mol: 008\n",
      "N pep under -9 kcal/mol: 047\n",
      "N pep under -8 kcal/mol: 093\n",
      "N pep under -7 kcal/mol: 176\n",
      "N pep under -6 kcal/mol: 261\n",
      "N pep under -5 kcal/mol: 337\n",
      "Non binding pep        : 005\n"
     ]
    },
    {
     "data": {
      "image/png": "[encoded data removed]",
      "text/plain": [
       "<Figure size 360x360 with 1 Axes>"
      ]
     },
     "metadata": {
      "needs_background": "light"
     },
     "output_type": "display_data"
    },
    {
     "name": "stdout",
     "output_type": "stream",
     "text": [
      "\n",
      "\n",
      "\n",
      "Generation: 3\n",
      "\n",
      "N pep:  438\n",
      "Best peptide: -12.324\n",
      "N pep under -12 kcal/mol: 001\n",
      "N pep under -11 kcal/mol: 002\n",
      "N pep under -10 kcal/mol: 022\n",
      "N pep under -9 kcal/mol: 084\n",
      "N pep under -8 kcal/mol: 161\n",
      "N pep under -7 kcal/mol: 265\n",
      "N pep under -6 kcal/mol: 357\n",
      "N pep under -5 kcal/mol: 433\n",
      "Non binding pep        : 005\n"
     ]
    },
    {
     "data": {
      "image/png": "[encoded data removed]",
      "text/plain": [
       "<Figure size 360x360 with 1 Axes>"
      ]
     },
     "metadata": {
      "needs_background": "light"
     },
     "output_type": "display_data"
    },
    {
     "name": "stdout",
     "output_type": "stream",
     "text": [
      "\n",
      "\n",
      "\n"
     ]
    }
   ],
   "source": [
    "random_candidate_fps = []\n",
    "random_candidate_y = []\n",
    "\n",
    "n_peptides = 150\n",
    "peptide_length = 9\n",
    "energy_bounds = [-8.2, -5] # about between 1 and 250 uM\n",
    "energy_cutoff = -5 # around 250 uM\n",
    "\n",
    "for i in range(10):\n",
    "    print('Run: %s' % (i + 1))\n",
    "    \n",
    "    # Generate random peptides\n",
    "    random_peptides, random_peptide_scores = generate_random_peptides(n_peptides, peptide_length, pssm, reg,\n",
    "                                                                      energy_bounds, energy_cutoff)\n",
    "    \n",
    "    # Compute the MAP4 fingerprint for all the peptides\n",
    "    X_fps_exp = map4_fingerprint(random_peptides)\n",
    "    y_exp = torch.from_numpy(random_peptide_scores).float()\n",
    "    print('Exp dataset size: (%d, %d)' % (X_fps_exp.shape[0], X_fps_exp.shape[1]))\n",
    "    \n",
    "    print('\\n\\n')\n",
    "    \n",
    "    print('Init.')\n",
    "    print('N pep: ', X_fps_exp.shape[0])\n",
    "    print('Best peptide: %.3f' % y_exp.min())\n",
    "    for n in [-12, -11, -10, -9, -8, -7, -6, -5]:\n",
    "        print('N pep under %d kcal/mol: %03d' % (n, y_exp[y_exp < n].shape[0]))\n",
    "    print('Non binding pep        : %03d' % (y_exp[y_exp == 0.].shape[0]))\n",
    "\n",
    "    print('\\n\\n')\n",
    "\n",
    "    for j in range(3):\n",
    "        print('Generation: %d' % (j + 1))\n",
    "        # Train GP model\n",
    "        model = get_fitted_model(X_fps_exp, y_exp, kernel=TanimotoSimilarityKernel)\n",
    "\n",
    "        # Find new candidates\n",
    "        #acq = AcqScoring(model, probability_of_improvement, y_exp)\n",
    "        acq = AcqScoring(model, expected_improvement, y_exp)\n",
    "        candidate_sequences, candidates_acq = find_next_candidates_by_random(acq, greater_is_better=False)\n",
    "\n",
    "        # Add candidates to the training set\n",
    "        candidate_fps = map4_fingerprint(candidate_sequences)\n",
    "        y_candidates = torch.from_numpy(np.array(score_peptides(candidate_sequences, pssm, reg)))\n",
    "\n",
    "        X_fps_exp = torch.cat([X_fps_exp, candidate_fps])\n",
    "        y_exp = torch.cat([y_exp, y_candidates])\n",
    "\n",
    "        print('')\n",
    "        print('N pep: ', X_fps_exp.shape[0])\n",
    "        print('Best peptide: %.3f' % y_exp.min())\n",
    "        for n in [-12, -11, -10, -9, -8,  -7, -6, -5]:\n",
    "            print('N pep under %d kcal/mol: %03d' % (n, y_exp[y_exp < n].shape[0]))\n",
    "        print('Non binding pep        : %03d' % (y_exp[y_exp == 0.].shape[0]))\n",
    "\n",
    "        fig, ax = plt.subplots(figsize=(5, 5))\n",
    "        ax.scatter(candidates_acq, y_candidates.numpy())\n",
    "        plt.show()\n",
    "\n",
    "        print('\\n\\n')\n",
    "    \n",
    "    \n",
    "    random_candidate_fps.append(X_fps_exp.detach().numpy())\n",
    "    random_candidate_y.append(y_exp.detach().numpy())\n",
    "\n",
    "\n",
    "random_candidate_fps = np.array(random_candidate_fps)\n",
    "random_candidate_y = np.array(random_candidate_y)"
   ]
  },
  {
   "cell_type": "code",
   "execution_count": 43,
   "id": "bf2bd943",
   "metadata": {},
   "outputs": [
    {
     "data": {
      "image/png": "[encoded data removed]",
      "text/plain": [
       "<Figure size 1440x720 with 2 Axes>"
      ]
     },
     "metadata": {
      "needs_background": "light"
     },
     "output_type": "display_data"
    }
   ],
   "source": [
    "fig, axarr = plt.subplots(1, 2, figsize=(20, 10), sharey=True)\n",
    "axarr[0].hist(pbil_candidate_y.flatten(), bins=np.linspace(-13, 0, 52))\n",
    "axarr[1].hist(random_candidate_y.flatten(), bins=np.linspace(-13, 0, 52))\n",
    "\n",
    "axarr[0].set_title('Sampling with PBIL (10 runs of 3 generations)', fontsize=20)\n",
    "axarr[1].set_title('Random sampling (10 runs of 3 generations)', fontsize=20)\n",
    "\n",
    "axarr[0].set_ylabel('#Peptides tested', fontsize=20)\n",
    "axarr[0].set_xlabel('Affinity binding (kcal/mol)', fontsize=20)\n",
    "axarr[1].set_xlabel('Affinity binding (kcal/mol)', fontsize=20)\n",
    "\n",
    "plt.savefig('figure_baye_opt_comparison_pbil_vs_random_sampling.png', dpi=300, bbox_inches='tight')\n",
    "plt.show()"
   ]
  },
  {
   "cell_type": "code",
   "execution_count": null,
   "id": "12d3e371",
   "metadata": {},
   "outputs": [],
   "source": []
  },
  {
   "cell_type": "code",
   "execution_count": null,
   "id": "7b23c207",
   "metadata": {},
   "outputs": [],
   "source": []
  },
  {
   "cell_type": "code",
   "execution_count": null,
   "id": "b273aa85",
   "metadata": {},
   "outputs": [],
   "source": []
  },
  {
   "cell_type": "code",
   "execution_count": null,
   "id": "72b5a815",
   "metadata": {},
   "outputs": [],
   "source": []
  },
  {
   "cell_type": "code",
   "execution_count": null,
   "id": "c0710352",
   "metadata": {},
   "outputs": [],
   "source": []
  },
  {
   "cell_type": "code",
   "execution_count": null,
   "id": "aa381bce",
   "metadata": {},
   "outputs": [],
   "source": []
  },
  {
   "cell_type": "code",
   "execution_count": null,
   "id": "6152c183",
   "metadata": {},
   "outputs": [],
   "source": []
  },
  {
   "cell_type": "code",
   "execution_count": null,
   "id": "0ec0c5f5",
   "metadata": {},
   "outputs": [],
   "source": []
  },
  {
   "cell_type": "code",
   "execution_count": null,
   "id": "95eac448",
   "metadata": {},
   "outputs": [],
   "source": []
  }
 ],
 "metadata": {
  "kernelspec": {
   "display_name": "Python 3 (ipykernel)",
   "language": "python",
   "name": "python3"
  },
  "language_info": {
   "codemirror_mode": {
    "name": "ipython",
    "version": 3
   },
   "file_extension": ".py",
   "mimetype": "text/x-python",
   "name": "python",
   "nbconvert_exporter": "python",
   "pygments_lexer": "ipython3",
   "version": "3.7.11"
  }
 },
 "nbformat": 4,
 "nbformat_minor": 5
}
