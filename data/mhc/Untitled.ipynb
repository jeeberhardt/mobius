{
 "cells": [
  {
   "cell_type": "code",
   "execution_count": 129,
   "id": "fd082492",
   "metadata": {},
   "outputs": [],
   "source": [
    "%matplotlib inline\n",
    "\n",
    "import os\n",
    "\n",
    "import torch\n",
    "import gpytorch\n",
    "import numpy as np\n",
    "import pandas as pd\n",
    "import matplotlib.pyplot as plt\n",
    "from sklearn.model_selection import train_test_split\n",
    "\n",
    "from mobius import ForceField, VirtualTarget"
   ]
  },
  {
   "cell_type": "code",
   "execution_count": 11,
   "id": "1d3c6c35",
   "metadata": {},
   "outputs": [],
   "source": [
    "data = []\n",
    "\n",
    "with open('binding_data_2013/bdata.20130222.mhci.txt') as f:\n",
    "    lines = f.readlines()\n",
    "    \n",
    "    for line in lines[1:]:\n",
    "        sline = line.split()\n",
    "        data.append((sline[0], sline[1], int(sline[2]), sline[3], sline[4], float(sline[5])))\n",
    "\n",
    "columns = ['species', 'mhc_allele', 'length', 'sequence', 'inequality', 'affinity_binding']\n",
    "mhci = pd.DataFrame(data=data, columns=columns)\n",
    "mhci.to_csv('binding_data_2013/bdata.20130222.mhci.csv', index=False)"
   ]
  },
  {
   "cell_type": "code",
   "execution_count": 17,
   "id": "b9334e5d",
   "metadata": {
    "scrolled": true
   },
   "outputs": [
    {
     "name": "stdout",
     "output_type": "stream",
     "text": [
      "HLA-A*01:01 4792\n",
      "HLA-A*02:01 12160\n",
      "HLA-A*02:02 4155\n",
      "HLA-A*02:03 6303\n",
      "HLA-A*02:04 4\n",
      "HLA-A*02:05 75\n",
      "HLA-A*02:06 5628\n",
      "HLA-A*02:07 80\n",
      "HLA-A*02:10 18\n",
      "HLA-A*02:11 1085\n",
      "HLA-A*02:12 1183\n",
      "HLA-A*02:16 921\n",
      "HLA-A*02:17 346\n",
      "HLA-A*02:19 1246\n",
      "HLA-A*02:50 135\n",
      "HLA-A*03:01 7358\n",
      "HLA-A*03:02 26\n",
      "HLA-A*03:19 30\n",
      "HLA-A*11:01 6399\n",
      "HLA-A*11:02 14\n",
      "HLA-A*23:01 2641\n",
      "HLA-A*24:02 3280\n",
      "HLA-A*24:03 1381\n",
      "HLA-A*25:01 960\n",
      "HLA-A*26:01 4535\n",
      "HLA-A*26:02 643\n",
      "HLA-A*26:03 537\n",
      "HLA-A*29:02 2789\n",
      "HLA-A*30:01 2925\n",
      "HLA-A*30:02 2057\n",
      "HLA-A*31:01 5713\n",
      "HLA-A*32:01 1136\n",
      "HLA-A*32:07 88\n",
      "HLA-A*32:15 74\n",
      "HLA-A*33:01 3597\n",
      "HLA-A*66:01 219\n",
      "HLA-A*68:01 3795\n",
      "HLA-A*68:02 5545\n",
      "HLA-A*68:23 82\n",
      "HLA-A*69:01 2565\n",
      "HLA-A*74:01 15\n",
      "HLA-A*80:01 1171\n",
      "HLA-A1 1\n",
      "HLA-A11 74\n",
      "HLA-A2 63\n",
      "HLA-A24 2\n",
      "HLA-A26 4\n",
      "HLA-A3 6\n",
      "HLA-A3/11 2\n",
      "HLA-B*07:02 4642\n",
      "HLA-B*08:01 3538\n",
      "HLA-B*08:02 1020\n",
      "HLA-B*08:03 470\n",
      "HLA-B*14:01 42\n",
      "HLA-B*14:02 341\n",
      "HLA-B*15:01 4448\n",
      "HLA-B*15:02 164\n",
      "HLA-B*15:03 701\n",
      "HLA-B*15:09 832\n",
      "HLA-B*15:17 1447\n",
      "HLA-B*15:42 364\n",
      "HLA-B*18:01 2832\n",
      "HLA-B*27:01 4\n",
      "HLA-B*27:02 8\n",
      "HLA-B*27:03 876\n",
      "HLA-B*27:04 6\n",
      "HLA-B*27:05 3676\n",
      "HLA-B*27:06 7\n",
      "HLA-B*27:10 2\n",
      "HLA-B*27:20 92\n",
      "HLA-B*35:01 3211\n",
      "HLA-B*35:03 284\n",
      "HLA-B*35:08 1\n",
      "HLA-B*37:01 68\n",
      "HLA-B*38:01 517\n",
      "HLA-B*39:01 1790\n",
      "HLA-B*40:01 3443\n",
      "HLA-B*40:02 1074\n",
      "HLA-B*40:13 59\n",
      "HLA-B*42:01 237\n",
      "HLA-B*42:02 18\n",
      "HLA-B*44:02 2318\n",
      "HLA-B*44:03 1404\n",
      "HLA-B*45:01 1079\n",
      "HLA-B*45:06 362\n",
      "HLA-B*46:01 1812\n",
      "HLA-B*48:01 883\n",
      "HLA-B*51:01 2901\n",
      "HLA-B*52:01 15\n",
      "HLA-B*53:01 1720\n",
      "HLA-B*54:01 1203\n",
      "HLA-B*57:01 2903\n",
      "HLA-B*57:02 18\n",
      "HLA-B*57:03 34\n",
      "HLA-B*58:01 3350\n",
      "HLA-B*58:02 66\n",
      "HLA-B*73:01 122\n",
      "HLA-B*81:01 26\n",
      "HLA-B*83:01 339\n",
      "HLA-B27 2\n",
      "HLA-B44 5\n",
      "HLA-B51 3\n",
      "HLA-B60 5\n",
      "HLA-B7 67\n",
      "HLA-B8 1\n",
      "HLA-C*03:03 154\n",
      "HLA-C*04:01 552\n",
      "HLA-C*05:01 173\n",
      "HLA-C*06:02 411\n",
      "HLA-C*07:01 242\n",
      "HLA-C*07:02 143\n",
      "HLA-C*08:02 87\n",
      "HLA-C*12:03 172\n",
      "HLA-C*14:02 259\n",
      "HLA-C*15:02 253\n",
      "HLA-Cw1 4\n",
      "HLA-Cw4 2\n",
      "HLA-E*01:01 96\n",
      "HLA-E*01:03 67\n"
     ]
    }
   ],
   "source": [
    "for name, group in mhci[mhci['species'] == 'human'].groupby('mhc_allele'):\n",
    "    print(name, len(group))"
   ]
  },
  {
   "cell_type": "markdown",
   "id": "fb735b7a",
   "metadata": {},
   "source": [
    "# HLA-A*02:01"
   ]
  },
  {
   "cell_type": "code",
   "execution_count": 25,
   "id": "6881eab2",
   "metadata": {},
   "outputs": [
    {
     "data": {
      "text/plain": [
       "(7.0, 15.0)"
      ]
     },
     "execution_count": 25,
     "metadata": {},
     "output_type": "execute_result"
    },
    {
     "data": {
      "image/png": "[encoded data removed]",
      "text/plain": [
       "<Figure size 720x360 with 1 Axes>"
      ]
     },
     "metadata": {
      "needs_background": "light"
     },
     "output_type": "display_data"
    }
   ],
   "source": [
    "fig, ax = plt.subplots(figsize=(10, 5))\n",
    "mhci[mhci['mhc_allele'] == 'HLA-A*02:01']['length'].hist(ax=ax, bins=range(7, 15))\n",
    "ax.set_xlim([7, 15])"
   ]
  },
  {
   "cell_type": "code",
   "execution_count": 35,
   "id": "52576a1c",
   "metadata": {},
   "outputs": [
    {
     "data": {
      "text/plain": [
       "<AxesSubplot:>"
      ]
     },
     "execution_count": 35,
     "metadata": {},
     "output_type": "execute_result"
    },
    {
     "data": {
      "image/png": "[encoded data removed]",
      "text/plain": [
       "<Figure size 720x360 with 1 Axes>"
      ]
     },
     "metadata": {
      "needs_background": "light"
     },
     "output_type": "display_data"
    }
   ],
   "source": [
    "fig, ax = plt.subplots(figsize=(10, 5))\n",
    "mhci[mhci['mhc_allele'] == 'HLA-A*02:01']['affinity_binding'].hist(ax=ax, bins=np.linspace(0, 5000, 100))"
   ]
  },
  {
   "cell_type": "code",
   "execution_count": 237,
   "id": "e3420123",
   "metadata": {},
   "outputs": [],
   "source": [
    "selected = mhci[(mhci['mhc_allele'] == 'HLA-A*02:01') &\n",
    "                (mhci['length'] == 9) &\n",
    "                (~selected['affinity_binding'].isin([20000, 69444.44444, 78125])) &\n",
    "                (selected['affinity_binding'] < 5000)]\n",
    "X_train, X_test, y_train, y_test = train_test_split(selected['sequence'], selected['affinity_binding'], test_size=0.33, random_state=42)"
   ]
  },
  {
   "cell_type": "code",
   "execution_count": 238,
   "id": "a00237ec",
   "metadata": {},
   "outputs": [],
   "source": [
    "def transform_sequences(sequences):\n",
    "    ff = ForceField()\n",
    "    p = ff.parameters()\n",
    "    \n",
    "    transformed_sequences = []\n",
    "    \n",
    "    for seq in sequences:\n",
    "        tmp = []\n",
    "        for aa in seq:\n",
    "            h, v = p[p['AA1'] == aa][['hydrophilicity', 'volume']].tolist()[0]\n",
    "            tmp.extend([float(1 - h), float(v)])\n",
    "        \n",
    "        transformed_sequences.append(tmp)\n",
    "        \n",
    "    return np.array(transformed_sequences)"
   ]
  },
  {
   "cell_type": "code",
   "execution_count": 239,
   "id": "626f4574",
   "metadata": {},
   "outputs": [],
   "source": [
    "X_train_transformed = torch.from_numpy(transform_sequences(X_train)).float()\n",
    "X_test_transformed = torch.from_numpy(transform_sequences(X_test)).float()\n",
    "\n",
    "y_train = torch.from_numpy(y_train.values).float()\n",
    "y_test = torch.from_numpy(y_test.values).float()"
   ]
  },
  {
   "cell_type": "code",
   "execution_count": 240,
   "id": "f1895b42",
   "metadata": {},
   "outputs": [],
   "source": [
    "# We will use the simplest form of GP model, exact inference\n",
    "class ExactGPModel(gpytorch.models.ExactGP):\n",
    "    def __init__(self, train_x, train_y, likelihood):\n",
    "        super(ExactGPModel, self).__init__(train_x, train_y, likelihood)\n",
    "        self.mean_module = gpytorch.means.ConstantMean()\n",
    "        self.covar_module = gpytorch.kernels.ScaleKernel(gpytorch.kernels.RBFKernel())\n",
    "\n",
    "    def forward(self, x):\n",
    "        mean_x = self.mean_module(x)\n",
    "        covar_x = self.covar_module(x)\n",
    "        return gpytorch.distributions.MultivariateNormal(mean_x, covar_x)"
   ]
  },
  {
   "cell_type": "code",
   "execution_count": 241,
   "id": "8cd2bea7",
   "metadata": {},
   "outputs": [],
   "source": [
    "# initialize likelihood and model\n",
    "likelihood = gpytorch.likelihoods.GaussianLikelihood()\n",
    "model = ExactGPModel(X_train_transformed, y_train, likelihood)"
   ]
  },
  {
   "cell_type": "code",
   "execution_count": 242,
   "id": "4ed21e9b",
   "metadata": {},
   "outputs": [],
   "source": [
    "smoke_test = ('CI' in os.environ)\n",
    "training_iter = 2 if smoke_test else 50"
   ]
  },
  {
   "cell_type": "code",
   "execution_count": 243,
   "id": "dfaeddb2",
   "metadata": {
    "scrolled": false
   },
   "outputs": [
    {
     "name": "stdout",
     "output_type": "stream",
     "text": [
      "Iter 1/50 - Loss: 453303.125   lengthscale: 0.693   noise: 0.693\n",
      "Iter 2/50 - Loss: 408801.281   lengthscale: 0.644   noise: 0.744\n",
      "Iter 3/50 - Loss: 369639.438   lengthscale: 0.598   noise: 0.798\n",
      "Iter 4/50 - Loss: 335971.250   lengthscale: 0.555   noise: 0.853\n",
      "Iter 5/50 - Loss: 307840.094   lengthscale: 0.515   noise: 0.909\n",
      "Iter 6/50 - Loss: 285028.031   lengthscale: 0.479   noise: 0.966\n",
      "Iter 7/50 - Loss: 266926.688   lengthscale: 0.447   noise: 1.023\n",
      "Iter 8/50 - Loss: 252513.375   lengthscale: 0.420   noise: 1.081\n",
      "Iter 9/50 - Loss: 240559.766   lengthscale: 0.399   noise: 1.139\n",
      "Iter 10/50 - Loss: 229990.156   lengthscale: 0.384   noise: 1.196\n",
      "Iter 11/50 - Loss: 220119.047   lengthscale: 0.373   noise: 1.252\n",
      "Iter 12/50 - Loss: 210636.469   lengthscale: 0.366   noise: 1.309\n",
      "Iter 13/50 - Loss: 201465.047   lengthscale: 0.363   noise: 1.364\n",
      "Iter 14/50 - Loss: 192633.375   lengthscale: 0.364   noise: 1.419\n",
      "Iter 15/50 - Loss: 184205.078   lengthscale: 0.366   noise: 1.473\n",
      "Iter 16/50 - Loss: 176248.625   lengthscale: 0.371   noise: 1.526\n",
      "Iter 17/50 - Loss: 168825.469   lengthscale: 0.377   noise: 1.578\n",
      "Iter 18/50 - Loss: 161983.594   lengthscale: 0.385   noise: 1.629\n",
      "Iter 19/50 - Loss: 155751.844   lengthscale: 0.394   noise: 1.680\n",
      "Iter 20/50 - Loss: 150135.188   lengthscale: 0.403   noise: 1.729\n",
      "Iter 21/50 - Loss: 145112.781   lengthscale: 0.413   noise: 1.777\n",
      "Iter 22/50 - Loss: 140639.594   lengthscale: 0.422   noise: 1.824\n",
      "Iter 23/50 - Loss: 136652.219   lengthscale: 0.431   noise: 1.870\n",
      "Iter 24/50 - Loss: 133076.859   lengthscale: 0.439   noise: 1.915\n",
      "Iter 25/50 - Loss: 129838.164   lengthscale: 0.447   noise: 1.959\n",
      "Iter 26/50 - Loss: 126866.070   lengthscale: 0.453   noise: 2.003\n",
      "Iter 27/50 - Loss: 124101.211   lengthscale: 0.457   noise: 2.045\n",
      "Iter 28/50 - Loss: 121497.031   lengthscale: 0.461   noise: 2.087\n",
      "Iter 29/50 - Loss: 119020.602   lengthscale: 0.463   noise: 2.128\n",
      "Iter 30/50 - Loss: 116649.141   lengthscale: 0.464   noise: 2.168\n",
      "Iter 31/50 - Loss: 114372.625   lengthscale: 0.463   noise: 2.207\n",
      "Iter 32/50 - Loss: 112186.555   lengthscale: 0.461   noise: 2.246\n",
      "Iter 33/50 - Loss: 110091.633   lengthscale: 0.459   noise: 2.284\n",
      "Iter 34/50 - Loss: 108091.008   lengthscale: 0.456   noise: 2.321\n",
      "Iter 35/50 - Loss: 106189.758   lengthscale: 0.452   noise: 2.357\n",
      "Iter 36/50 - Loss: 104391.000   lengthscale: 0.447   noise: 2.392\n",
      "Iter 37/50 - Loss: 102696.297   lengthscale: 0.443   noise: 2.427\n",
      "Iter 38/50 - Loss: 101104.648   lengthscale: 0.438   noise: 2.461\n",
      "Iter 39/50 - Loss: 99612.469   lengthscale: 0.433   noise: 2.494\n",
      "Iter 40/50 - Loss: 98213.633   lengthscale: 0.429   noise: 2.527\n",
      "Iter 41/50 - Loss: 96900.164   lengthscale: 0.425   noise: 2.559\n",
      "Iter 42/50 - Loss: 95662.844   lengthscale: 0.421   noise: 2.590\n",
      "Iter 43/50 - Loss: 94492.141   lengthscale: 0.417   noise: 2.620\n",
      "Iter 44/50 - Loss: 93378.727   lengthscale: 0.415   noise: 2.650\n",
      "Iter 45/50 - Loss: 92314.203   lengthscale: 0.412   noise: 2.679\n",
      "Iter 46/50 - Loss: 91291.516   lengthscale: 0.410   noise: 2.708\n",
      "Iter 47/50 - Loss: 90304.961   lengthscale: 0.409   noise: 2.736\n",
      "Iter 48/50 - Loss: 89350.336   lengthscale: 0.408   noise: 2.763\n",
      "Iter 49/50 - Loss: 88424.859   lengthscale: 0.408   noise: 2.790\n",
      "Iter 50/50 - Loss: 87526.844   lengthscale: 0.408   noise: 2.816\n"
     ]
    }
   ],
   "source": [
    "# Find optimal model hyperparameters\n",
    "model.train()\n",
    "likelihood.train()\n",
    "\n",
    "# Use the adam optimizer\n",
    "optimizer = torch.optim.Adam(model.parameters(), lr=0.1)  # Includes GaussianLikelihood parameters\n",
    "\n",
    "# \"Loss\" for GPs - the marginal log likelihood\n",
    "mll = gpytorch.mlls.ExactMarginalLogLikelihood(likelihood, model)\n",
    "\n",
    "for i in range(training_iter):\n",
    "    # Zero gradients from previous iteration\n",
    "    optimizer.zero_grad()\n",
    "    # Output from model\n",
    "    output = model(X_train_transformed)\n",
    "    # Calc loss and backprop gradients\n",
    "    loss = -mll(output, y_train)\n",
    "    loss.backward()\n",
    "    print('Iter %d/%d - Loss: %.3f   lengthscale: %.3f   noise: %.3f' % (\n",
    "        i + 1, training_iter, loss.item(),\n",
    "        model.covar_module.base_kernel.lengthscale.item(),\n",
    "        model.likelihood.noise.item()\n",
    "    ))\n",
    "    optimizer.step()"
   ]
  },
  {
   "cell_type": "code",
   "execution_count": 244,
   "id": "9e7abb05",
   "metadata": {},
   "outputs": [
    {
     "data": {
      "text/plain": [
       "GaussianLikelihood(\n",
       "  (noise_covar): HomoskedasticNoise(\n",
       "    (raw_noise_constraint): GreaterThan(1.000E-04)\n",
       "  )\n",
       ")"
      ]
     },
     "execution_count": 244,
     "metadata": {},
     "output_type": "execute_result"
    }
   ],
   "source": [
    "# Get into evaluation (predictive posterior) mode\n",
    "model.eval()\n",
    "likelihood.eval()"
   ]
  },
  {
   "cell_type": "code",
   "execution_count": 245,
   "id": "27a0ee64",
   "metadata": {},
   "outputs": [],
   "source": [
    "f_preds = model(X_test_transformed)\n",
    "y_preds = likelihood(model(X_test_transformed))\n",
    "\n",
    "f_mean = f_preds.mean\n",
    "f_var = f_preds.variance\n",
    "f_covar = f_preds.covariance_matrix\n",
    "#f_samples = f_preds.sample(sample_shape=torch.Size(1000,))"
   ]
  },
  {
   "cell_type": "code",
   "execution_count": 252,
   "id": "2e97a0c3",
   "metadata": {},
   "outputs": [
    {
     "data": {
      "image/png": "[encoded data removed]",
      "text/plain": [
       "<Figure size 720x720 with 1 Axes>"
      ]
     },
     "metadata": {
      "needs_background": "light"
     },
     "output_type": "display_data"
    }
   ],
   "source": [
    "fig, ax = plt.subplots(figsize=(10, 10))\n",
    "ax.scatter(y_test, f_mean.detach().numpy())\n",
    "ax.set_xlabel('Experimental values', fontsize=20)\n",
    "ax.set_ylabel('Predicted values', fontsize=20)\n",
    "ax.set_xlim([-500, 6000])\n",
    "ax.set_ylim([-500, 6000])\n",
    "plt.show()"
   ]
  },
  {
   "cell_type": "code",
   "execution_count": null,
   "id": "3c54ff14",
   "metadata": {},
   "outputs": [],
   "source": []
  }
 ],
 "metadata": {
  "kernelspec": {
   "display_name": "Python 3 (ipykernel)",
   "language": "python",
   "name": "python3"
  },
  "language_info": {
   "codemirror_mode": {
    "name": "ipython",
    "version": 3
   },
   "file_extension": ".py",
   "mimetype": "text/x-python",
   "name": "python",
   "nbconvert_exporter": "python",
   "pygments_lexer": "ipython3",
   "version": "3.7.11"
  }
 },
 "nbformat": 4,
 "nbformat_minor": 5
}
