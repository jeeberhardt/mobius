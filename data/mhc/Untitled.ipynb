{
 "cells": [
  {
   "cell_type": "code",
   "execution_count": 129,
   "id": "6b37c2b5",
   "metadata": {},
   "outputs": [],
   "source": [
    "%matplotlib inline\n",
    "\n",
    "import os\n",
    "\n",
    "import torch\n",
    "import gpytorch\n",
    "import numpy as np\n",
    "import pandas as pd\n",
    "import matplotlib.pyplot as plt\n",
    "from sklearn.model_selection import train_test_split\n",
    "\n",
    "from mobius import ForceField, VirtualTarget"
   ]
  },
  {
   "cell_type": "code",
   "execution_count": 11,
   "id": "ff322fd2",
   "metadata": {},
   "outputs": [],
   "source": [
    "data = []\n",
    "\n",
    "with open('binding_data_2013/bdata.20130222.mhci.txt') as f:\n",
    "    lines = f.readlines()\n",
    "    \n",
    "    for line in lines[1:]:\n",
    "        sline = line.split()\n",
    "        data.append((sline[0], sline[1], int(sline[2]), sline[3], sline[4], float(sline[5])))\n",
    "\n",
    "columns = ['species', 'mhc_allele', 'length', 'sequence', 'inequality', 'affinity_binding']\n",
    "mhci = pd.DataFrame(data=data, columns=columns)\n",
    "mhci.to_csv('binding_data_2013/bdata.20130222.mhci.csv', index=False)"
   ]
  },
  {
   "cell_type": "code",
   "execution_count": 17,
   "id": "22e6ba85",
   "metadata": {
    "scrolled": true
   },
   "outputs": [
    {
     "name": "stdout",
     "output_type": "stream",
     "text": [
      "HLA-A*01:01 4792\n",
      "HLA-A*02:01 12160\n",
      "HLA-A*02:02 4155\n",
      "HLA-A*02:03 6303\n",
      "HLA-A*02:04 4\n",
      "HLA-A*02:05 75\n",
      "HLA-A*02:06 5628\n",
      "HLA-A*02:07 80\n",
      "HLA-A*02:10 18\n",
      "HLA-A*02:11 1085\n",
      "HLA-A*02:12 1183\n",
      "HLA-A*02:16 921\n",
      "HLA-A*02:17 346\n",
      "HLA-A*02:19 1246\n",
      "HLA-A*02:50 135\n",
      "HLA-A*03:01 7358\n",
      "HLA-A*03:02 26\n",
      "HLA-A*03:19 30\n",
      "HLA-A*11:01 6399\n",
      "HLA-A*11:02 14\n",
      "HLA-A*23:01 2641\n",
      "HLA-A*24:02 3280\n",
      "HLA-A*24:03 1381\n",
      "HLA-A*25:01 960\n",
      "HLA-A*26:01 4535\n",
      "HLA-A*26:02 643\n",
      "HLA-A*26:03 537\n",
      "HLA-A*29:02 2789\n",
      "HLA-A*30:01 2925\n",
      "HLA-A*30:02 2057\n",
      "HLA-A*31:01 5713\n",
      "HLA-A*32:01 1136\n",
      "HLA-A*32:07 88\n",
      "HLA-A*32:15 74\n",
      "HLA-A*33:01 3597\n",
      "HLA-A*66:01 219\n",
      "HLA-A*68:01 3795\n",
      "HLA-A*68:02 5545\n",
      "HLA-A*68:23 82\n",
      "HLA-A*69:01 2565\n",
      "HLA-A*74:01 15\n",
      "HLA-A*80:01 1171\n",
      "HLA-A1 1\n",
      "HLA-A11 74\n",
      "HLA-A2 63\n",
      "HLA-A24 2\n",
      "HLA-A26 4\n",
      "HLA-A3 6\n",
      "HLA-A3/11 2\n",
      "HLA-B*07:02 4642\n",
      "HLA-B*08:01 3538\n",
      "HLA-B*08:02 1020\n",
      "HLA-B*08:03 470\n",
      "HLA-B*14:01 42\n",
      "HLA-B*14:02 341\n",
      "HLA-B*15:01 4448\n",
      "HLA-B*15:02 164\n",
      "HLA-B*15:03 701\n",
      "HLA-B*15:09 832\n",
      "HLA-B*15:17 1447\n",
      "HLA-B*15:42 364\n",
      "HLA-B*18:01 2832\n",
      "HLA-B*27:01 4\n",
      "HLA-B*27:02 8\n",
      "HLA-B*27:03 876\n",
      "HLA-B*27:04 6\n",
      "HLA-B*27:05 3676\n",
      "HLA-B*27:06 7\n",
      "HLA-B*27:10 2\n",
      "HLA-B*27:20 92\n",
      "HLA-B*35:01 3211\n",
      "HLA-B*35:03 284\n",
      "HLA-B*35:08 1\n",
      "HLA-B*37:01 68\n",
      "HLA-B*38:01 517\n",
      "HLA-B*39:01 1790\n",
      "HLA-B*40:01 3443\n",
      "HLA-B*40:02 1074\n",
      "HLA-B*40:13 59\n",
      "HLA-B*42:01 237\n",
      "HLA-B*42:02 18\n",
      "HLA-B*44:02 2318\n",
      "HLA-B*44:03 1404\n",
      "HLA-B*45:01 1079\n",
      "HLA-B*45:06 362\n",
      "HLA-B*46:01 1812\n",
      "HLA-B*48:01 883\n",
      "HLA-B*51:01 2901\n",
      "HLA-B*52:01 15\n",
      "HLA-B*53:01 1720\n",
      "HLA-B*54:01 1203\n",
      "HLA-B*57:01 2903\n",
      "HLA-B*57:02 18\n",
      "HLA-B*57:03 34\n",
      "HLA-B*58:01 3350\n",
      "HLA-B*58:02 66\n",
      "HLA-B*73:01 122\n",
      "HLA-B*81:01 26\n",
      "HLA-B*83:01 339\n",
      "HLA-B27 2\n",
      "HLA-B44 5\n",
      "HLA-B51 3\n",
      "HLA-B60 5\n",
      "HLA-B7 67\n",
      "HLA-B8 1\n",
      "HLA-C*03:03 154\n",
      "HLA-C*04:01 552\n",
      "HLA-C*05:01 173\n",
      "HLA-C*06:02 411\n",
      "HLA-C*07:01 242\n",
      "HLA-C*07:02 143\n",
      "HLA-C*08:02 87\n",
      "HLA-C*12:03 172\n",
      "HLA-C*14:02 259\n",
      "HLA-C*15:02 253\n",
      "HLA-Cw1 4\n",
      "HLA-Cw4 2\n",
      "HLA-E*01:01 96\n",
      "HLA-E*01:03 67\n"
     ]
    }
   ],
   "source": [
    "for name, group in mhci[mhci['species'] == 'human'].groupby('mhc_allele'):\n",
    "    print(name, len(group))"
   ]
  },
  {
   "cell_type": "markdown",
   "id": "8efe91e8",
   "metadata": {},
   "source": [
    "# HLA-A*02:01"
   ]
  },
  {
   "cell_type": "code",
   "execution_count": 25,
   "id": "046b869e",
   "metadata": {},
   "outputs": [
    {
     "data": {
      "text/plain": [
       "(7.0, 15.0)"
      ]
     },
     "execution_count": 25,
     "metadata": {},
     "output_type": "execute_result"
    },
    {
     "data": {
      "image/png": "[encoded data removed]",
      "text/plain": [
       "<Figure size 720x360 with 1 Axes>"
      ]
     },
     "metadata": {
      "needs_background": "light"
     },
     "output_type": "display_data"
    }
   ],
   "source": [
    "fig, ax = plt.subplots(figsize=(10, 5))\n",
    "mhci[mhci['mhc_allele'] == 'HLA-A*02:01']['length'].hist(ax=ax, bins=range(7, 15))\n",
    "ax.set_xlim([7, 15])"
   ]
  },
  {
   "cell_type": "code",
   "execution_count": 35,
   "id": "13ae37b3",
   "metadata": {},
   "outputs": [
    {
     "data": {
      "text/plain": [
       "<AxesSubplot:>"
      ]
     },
     "execution_count": 35,
     "metadata": {},
     "output_type": "execute_result"
    },
    {
     "data": {
      "image/png": "[encoded data removed]",
      "text/plain": [
       "<Figure size 720x360 with 1 Axes>"
      ]
     },
     "metadata": {
      "needs_background": "light"
     },
     "output_type": "display_data"
    }
   ],
   "source": [
    "fig, ax = plt.subplots(figsize=(10, 5))\n",
    "mhci[mhci['mhc_allele'] == 'HLA-A*02:01']['affinity_binding'].hist(ax=ax, bins=np.linspace(0, 5000, 100))"
   ]
  },
  {
   "cell_type": "code",
   "execution_count": 237,
   "id": "65220a9c",
   "metadata": {},
   "outputs": [],
   "source": [
    "selected = mhci[(mhci['mhc_allele'] == 'HLA-A*02:01') &\n",
    "                (mhci['length'] == 9) &\n",
    "                (~selected['affinity_binding'].isin([20000, 69444.44444, 78125])) &\n",
    "                (selected['affinity_binding'] < 5000)]\n",
    "X_train, X_test, y_train, y_test = train_test_split(selected['sequence'], selected['affinity_binding'], test_size=0.33, random_state=42)"
   ]
  },
  {
   "cell_type": "code",
   "execution_count": 238,
   "id": "92a08483",
   "metadata": {},
   "outputs": [],
   "source": [
    "def transform_sequences(sequences):\n",
    "    ff = ForceField()\n",
    "    p = ff.parameters()\n",
    "    \n",
    "    transformed_sequences = []\n",
    "    \n",
    "    for seq in sequences:\n",
    "        tmp = []\n",
    "        for aa in seq:\n",
    "            h, v = p[p['AA1'] == aa][['hydrophilicity', 'volume']].tolist()[0]\n",
    "            tmp.extend([float(1 - h), float(v)])\n",
    "        \n",
    "        transformed_sequences.append(tmp)\n",
    "        \n",
    "    return np.array(transformed_sequences)"
   ]
  },
  {
   "cell_type": "code",
   "execution_count": 239,
   "id": "a828007e",
   "metadata": {},
   "outputs": [],
   "source": [
    "X_train_transformed = torch.from_numpy(transform_sequences(X_train)).float()\n",
    "X_test_transformed = torch.from_numpy(transform_sequences(X_test)).float()\n",
    "\n",
    "y_train = torch.from_numpy(y_train.values).float()\n",
    "y_test = torch.from_numpy(y_test.values).float()"
   ]
  },
  {
   "cell_type": "code",
   "execution_count": 240,
   "id": "b10d5280",
   "metadata": {},
   "outputs": [],
   "source": [
    "# We will use the simplest form of GP model, exact inference\n",
    "class ExactGPModel(gpytorch.models.ExactGP):\n",
    "    def __init__(self, train_x, train_y, likelihood):\n",
    "        super(ExactGPModel, self).__init__(train_x, train_y, likelihood)\n",
    "        self.mean_module = gpytorch.means.ConstantMean()\n",
    "        self.covar_module = gpytorch.kernels.ScaleKernel(gpytorch.kernels.RBFKernel())\n",
    "\n",
    "    def forward(self, x):\n",
    "        mean_x = self.mean_module(x)\n",
    "        covar_x = self.covar_module(x)\n",
    "        return gpytorch.distributions.MultivariateNormal(mean_x, covar_x)"
   ]
  },
  {
   "cell_type": "code",
   "execution_count": 241,
   "id": "eb2a2508",
   "metadata": {},
   "outputs": [],
   "source": [
    "# initialize likelihood and model\n",
    "likelihood = gpytorch.likelihoods.GaussianLikelihood()\n",
    "model = ExactGPModel(X_train_transformed, y_train, likelihood)"
   ]
  },
  {
   "cell_type": "code",
   "execution_count": 242,
   "id": "5e02e283",
   "metadata": {},
   "outputs": [],
   "source": [
    "smoke_test = ('CI' in os.environ)\n",
    "training_iter = 2 if smoke_test else 50"
   ]
  },
  {
   "cell_type": "code",
   "execution_count": 263,
   "id": "05e48d16",
   "metadata": {
    "scrolled": false
   },
   "outputs": [],
   "source": [
    "# Wrap training, prediction and plotting from the ExactGP-Tutorial into a function,\n",
    "# so that we do not have to repeat the code later on\n",
    "def train(model, likelihood, train_x, train_y, training_iter=training_iter):\n",
    "    # Find optimal model hyperparameters\n",
    "    model.train()\n",
    "    likelihood.train()\n",
    "\n",
    "    # Use the adam optimizer\n",
    "    optimizer = torch.optim.Adam(model.parameters(), lr=0.1)  # Includes GaussianLikelihood parameters\n",
    "\n",
    "    # \"Loss\" for GPs - the marginal log likelihood\n",
    "    mll = gpytorch.mlls.ExactMarginalLogLikelihood(likelihood, model)\n",
    "\n",
    "    for i in range(training_iter):\n",
    "        # Zero gradients from previous iteration\n",
    "        optimizer.zero_grad()\n",
    "        # Output from model\n",
    "        output = model(train_x)\n",
    "        # Calc loss and backprop gradients\n",
    "        loss = -mll(output, train_y)\n",
    "        loss.backward()\n",
    "        \n",
    "        print('Iter %02d/%d - Loss: %.3f   lengthscale: %.3f   noise: %.3f' % (\n",
    "            i + 1, training_iter, loss.item(),\n",
    "            model.covar_module.base_kernel.lengthscale.item(),\n",
    "            model.likelihood.noise.item()\n",
    "        ))\n",
    "        \n",
    "        optimizer.step()"
   ]
  },
  {
   "cell_type": "code",
   "execution_count": 264,
   "id": "b51dd64e",
   "metadata": {},
   "outputs": [
    {
     "name": "stdout",
     "output_type": "stream",
     "text": [
      "Iter 01/50 - Loss: 13309.568   lengthscale: 0.438   noise: 20.217\n",
      "Iter 02/50 - Loss: 13313.755   lengthscale: 0.404   noise: 20.317\n",
      "Iter 03/50 - Loss: 13184.959   lengthscale: 0.428   noise: 20.417\n",
      "Iter 04/50 - Loss: 13132.148   lengthscale: 0.452   noise: 20.517\n",
      "Iter 05/50 - Loss: 13093.079   lengthscale: 0.462   noise: 20.617\n",
      "Iter 06/50 - Loss: 13019.836   lengthscale: 0.458   noise: 20.717\n",
      "Iter 07/50 - Loss: 12937.281   lengthscale: 0.447   noise: 20.817\n",
      "Iter 08/50 - Loss: 12870.089   lengthscale: 0.434   noise: 20.917\n",
      "Iter 09/50 - Loss: 12819.788   lengthscale: 0.423   noise: 21.017\n",
      "Iter 10/50 - Loss: 12769.217   lengthscale: 0.419   noise: 21.116\n",
      "Iter 11/50 - Loss: 12707.466   lengthscale: 0.420   noise: 21.215\n",
      "Iter 12/50 - Loss: 12639.482   lengthscale: 0.426   noise: 21.314\n",
      "Iter 13/50 - Loss: 12575.461   lengthscale: 0.434   noise: 21.412\n",
      "Iter 14/50 - Loss: 12520.113   lengthscale: 0.442   noise: 21.510\n",
      "Iter 15/50 - Loss: 12469.459   lengthscale: 0.448   noise: 21.609\n",
      "Iter 16/50 - Loss: 12416.406   lengthscale: 0.449   noise: 21.707\n",
      "Iter 17/50 - Loss: 12358.495   lengthscale: 0.448   noise: 21.805\n",
      "Iter 18/50 - Loss: 12298.981   lengthscale: 0.443   noise: 21.903\n",
      "Iter 19/50 - Loss: 12242.553   lengthscale: 0.437   noise: 22.000\n",
      "Iter 20/50 - Loss: 12190.769   lengthscale: 0.431   noise: 22.098\n",
      "Iter 21/50 - Loss: 12141.121   lengthscale: 0.427   noise: 22.194\n",
      "Iter 22/50 - Loss: 12090.117   lengthscale: 0.426   noise: 22.291\n",
      "Iter 23/50 - Loss: 12036.839   lengthscale: 0.428   noise: 22.387\n",
      "Iter 24/50 - Loss: 11983.284   lengthscale: 0.432   noise: 22.483\n",
      "Iter 25/50 - Loss: 11931.925   lengthscale: 0.436   noise: 22.579\n",
      "Iter 26/50 - Loss: 11883.280   lengthscale: 0.440   noise: 22.674\n",
      "Iter 27/50 - Loss: 11835.749   lengthscale: 0.443   noise: 22.769\n",
      "Iter 28/50 - Loss: 11787.494   lengthscale: 0.443   noise: 22.863\n",
      "Iter 29/50 - Loss: 11738.283   lengthscale: 0.442   noise: 22.958\n",
      "Iter 30/50 - Loss: 11689.401   lengthscale: 0.439   noise: 23.052\n",
      "Iter 31/50 - Loss: 11642.141   lengthscale: 0.435   noise: 23.146\n",
      "Iter 32/50 - Loss: 11596.530   lengthscale: 0.432   noise: 23.239\n",
      "Iter 33/50 - Loss: 11551.486   lengthscale: 0.431   noise: 23.332\n",
      "Iter 34/50 - Loss: 11506.096   lengthscale: 0.431   noise: 23.425\n",
      "Iter 35/50 - Loss: 11460.476   lengthscale: 0.432   noise: 23.517\n",
      "Iter 36/50 - Loss: 11415.491   lengthscale: 0.435   noise: 23.609\n",
      "Iter 37/50 - Loss: 11371.724   lengthscale: 0.437   noise: 23.701\n",
      "Iter 38/50 - Loss: 11328.942   lengthscale: 0.439   noise: 23.792\n",
      "Iter 39/50 - Loss: 11286.444   lengthscale: 0.440   noise: 23.883\n",
      "Iter 40/50 - Loss: 11243.861   lengthscale: 0.440   noise: 23.974\n",
      "Iter 41/50 - Loss: 11201.493   lengthscale: 0.438   noise: 24.064\n",
      "Iter 42/50 - Loss: 11159.844   lengthscale: 0.436   noise: 24.154\n",
      "Iter 43/50 - Loss: 11119.072   lengthscale: 0.434   noise: 24.244\n",
      "Iter 44/50 - Loss: 11078.875   lengthscale: 0.433   noise: 24.333\n",
      "Iter 45/50 - Loss: 11038.853   lengthscale: 0.433   noise: 24.422\n",
      "Iter 46/50 - Loss: 10998.980   lengthscale: 0.434   noise: 24.511\n",
      "Iter 47/50 - Loss: 10959.543   lengthscale: 0.435   noise: 24.599\n",
      "Iter 48/50 - Loss: 10920.762   lengthscale: 0.437   noise: 24.687\n",
      "Iter 49/50 - Loss: 10882.581   lengthscale: 0.438   noise: 24.775\n",
      "Iter 50/50 - Loss: 10844.735   lengthscale: 0.438   noise: 24.862\n"
     ]
    }
   ],
   "source": [
    "train(model, likelihood, X_train_transformed, y_train, training_iter)"
   ]
  },
  {
   "cell_type": "code",
   "execution_count": 267,
   "id": "b647da3c",
   "metadata": {},
   "outputs": [],
   "source": [
    "def predict(model, likelihood, test_x):\n",
    "    model.eval()\n",
    "    likelihood.eval()\n",
    "    \n",
    "    # Make predictions by feeding model through likelihood\n",
    "    with torch.no_grad(), gpytorch.settings.fast_pred_var():\n",
    "        # Test points are regularly spaced along [0,1]\n",
    "        return likelihood(model(test_x))"
   ]
  },
  {
   "cell_type": "code",
   "execution_count": 268,
   "id": "8ab0fa69",
   "metadata": {},
   "outputs": [],
   "source": [
    "observed_pred = predict(model, likelihood, X_test_transformed)"
   ]
  },
  {
   "cell_type": "code",
   "execution_count": 275,
   "id": "d95a4a06",
   "metadata": {},
   "outputs": [
    {
     "data": {
      "text/plain": [
       "tensor([567.2508, 174.3178, 776.4401,  ..., 248.9178, 909.9118,  66.6801])"
      ]
     },
     "execution_count": 275,
     "metadata": {},
     "output_type": "execute_result"
    }
   ],
   "source": [
    "observed_pred.mean\n",
    "#observed_pred.variance\n",
    "#observed_pred.covariance_matrix"
   ]
  },
  {
   "cell_type": "code",
   "execution_count": 286,
   "id": "e2e0b034",
   "metadata": {},
   "outputs": [],
   "source": [
    "def plot(y_test, observed_pred):\n",
    "    with torch.no_grad():\n",
    "        # Initialize plot\n",
    "        f, ax = plt.subplots(1, 1, figsize=(10, 10))\n",
    "\n",
    "        # Get upper and lower confidence bounds\n",
    "        #lower, upper = observed_pred.confidence_region()\n",
    "        # Plot training data as black stars\n",
    "        #ax.plot(train_x.numpy(), train_y.numpy(), 'k*')\n",
    "        # Plot predictive means as blue line\n",
    "        ax.scatter(y_test, observed_pred)\n",
    "        # Shade between the lower and upper confidence bounds\n",
    "        #ax.fill_between(test_x.numpy(), lower.numpy(), upper.numpy(), alpha=0.5)\n",
    "        #ax.set_ylim([-3, 3])\n",
    "        #ax.legend(['Observed Data', 'Mean', 'Confidence'])\n",
    "        ax.set_xlim([-500, 6000])\n",
    "        ax.set_ylim([-500, 6000])\n",
    "        \n",
    "        ax.set_xlabel('Experimental values', fontsize=20)\n",
    "        ax.set_ylabel('Predicted values', fontsize=20)"
   ]
  },
  {
   "cell_type": "code",
   "execution_count": 287,
   "id": "b09f354e",
   "metadata": {},
   "outputs": [
    {
     "data": {
      "image/png": "[encoded data removed]",
      "text/plain": [
       "<Figure size 720x720 with 1 Axes>"
      ]
     },
     "metadata": {
      "needs_background": "light"
     },
     "output_type": "display_data"
    }
   ],
   "source": [
    "plot(y_test, observed_pred.mean.numpy())"
   ]
  },
  {
   "cell_type": "code",
   "execution_count": null,
   "id": "c65d234c",
   "metadata": {},
   "outputs": [],
   "source": []
  }
 ],
 "metadata": {
  "kernelspec": {
   "display_name": "Python 3 (ipykernel)",
   "language": "python",
   "name": "python3"
  },
  "language_info": {
   "codemirror_mode": {
    "name": "ipython",
    "version": 3
   },
   "file_extension": ".py",
   "mimetype": "text/x-python",
   "name": "python",
   "nbconvert_exporter": "python",
   "pygments_lexer": "ipython3",
   "version": "3.7.11"
  }
 },
 "nbformat": 4,
 "nbformat_minor": 5
}
