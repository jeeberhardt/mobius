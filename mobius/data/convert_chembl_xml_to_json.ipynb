{
 "cells": [
  {
   "cell_type": "code",
   "execution_count": 1,
   "id": "7c3c6e62",
   "metadata": {},
   "outputs": [],
   "source": [
    "import json\n",
    "import xmltodict"
   ]
  },
  {
   "cell_type": "code",
   "execution_count": 4,
   "id": "4e0d4c0b",
   "metadata": {},
   "outputs": [],
   "source": [
    "with open(\"chembl_32_monomer_library.xml\") as xml_file:\n",
    "    data_dict = xmltodict.parse(xml_file.read())\n",
    "     \n",
    "    # generate the object using json.dumps()\n",
    "    # corresponding to json data\n",
    "    monomers = data_dict['MonomerDB']['PolymerList']['Polymer']['Monomer']\n",
    "    \n",
    "    for monomer in monomers:\n",
    "        attachments = monomer['Attachments']['Attachment']\n",
    "        if isinstance(attachments, dict):\n",
    "            attachments = [attachments]\n",
    "        del monomer['Attachments']\n",
    "        monomer['Attachments'] = attachments\n",
    "     \n",
    "    json_data = json.dumps(monomers, indent=4)\n",
    "     \n",
    "    # Write the json data to output\n",
    "    # json file\n",
    "    with open(\"chembl_32_monomer_library.json\", \"w\") as json_file:\n",
    "        json_file.write(json_data)"
   ]
  },
  {
   "cell_type": "code",
   "execution_count": null,
   "id": "8eb50f48",
   "metadata": {},
   "outputs": [],
   "source": []
  }
 ],
 "metadata": {
  "kernelspec": {
   "display_name": "Python 3 (ipykernel)",
   "language": "python",
   "name": "python3"
  },
  "language_info": {
   "codemirror_mode": {
    "name": "ipython",
    "version": 3
   },
   "file_extension": ".py",
   "mimetype": "text/x-python",
   "name": "python",
   "nbconvert_exporter": "python",
   "pygments_lexer": "ipython3",
   "version": "3.10.11"
  }
 },
 "nbformat": 4,
 "nbformat_minor": 5
}
