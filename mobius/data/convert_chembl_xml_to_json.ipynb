{
 "cells": [
  {
   "cell_type": "code",
   "execution_count": 1,
   "id": "7c3c6e62",
   "metadata": {
    "tags": []
   },
   "outputs": [],
   "source": [
    "import json\n",
    "import xmltodict"
   ]
  },
  {
   "cell_type": "code",
   "execution_count": 12,
   "id": "4e0d4c0b",
   "metadata": {
    "tags": []
   },
   "outputs": [],
   "source": [
    "with open(\"chembl_32_monomer_library.xml\") as xml_file:\n",
    "    data_dict = xmltodict.parse(xml_file.read())\n",
    "     \n",
    "    # generate the object using json.dumps()\n",
    "    # corresponding to json data\n",
    "    monomers = data_dict['MonomerDB']['PolymerList']['Polymer']['Monomer']\n",
    "    \n",
    "    for monomer in monomers:\n",
    "        attachments = monomer['Attachments']['Attachment']\n",
    "        if isinstance(attachments, dict):\n",
    "            attachments = [attachments]\n",
    "        del monomer['Attachments']\n",
    "        monomer['Attachments'] = attachments\n",
    "     \n",
    "    json_data = json.dumps(monomers, indent=4)\n",
    "     \n",
    "    # Write the json data to output\n",
    "    # json file\n",
    "    with open(\"chembl_32_monomer_library.json\", \"w\") as json_file:\n",
    "        json_file.write(json_data)"
   ]
  },
  {
   "cell_type": "code",
   "execution_count": 15,
   "id": "8eb50f48",
   "metadata": {
    "tags": []
   },
   "outputs": [],
   "source": [
    "with open(\"chembl_32_monomer_library.json\") as f:\n",
    "    chembl_data = json.load(f)\n",
    "\n",
    "with open('HELMCoreLibrary_new.json') as f:\n",
    "    helm_data = json.load(f)\n",
    "    \n",
    "    for monomer in helm_data:\n",
    "        monomer['MonomerID'] = monomer.pop('symbol')\n",
    "        monomer['MonomerSmiles'] = monomer.pop('smiles')\n",
    "        monomer['MonomerMolFile'] = monomer.pop('molfile')\n",
    "        monomer['MonomerType'] = monomer.pop('monomerType')\n",
    "        monomer['PolymerType'] = monomer.pop('polymerType')\n",
    "        monomer['NaturalAnalog'] = monomer.pop('naturalAnalog')\n",
    "        monomer['MonomerName'] = monomer.pop('name')\n",
    "        monomer['Author'] = monomer.pop('author')\n",
    "        monomer['Attachments'] = monomer.pop('rgroups')\n",
    "        \n",
    "        for attachment in monomer['Attachments']:\n",
    "            attachment['AttachmentID'] = attachment.pop('alternateId')\n",
    "            attachment['AttachmentLabel'] = attachment.pop('label')\n",
    "            attachment['CapGroupName'] = attachment.pop('capGroupName')\n",
    "            attachment['CapgroupSmiles'] = attachment.pop('capGroupSmiles')\n",
    "            \n",
    "        monomer.pop('createDate')\n",
    "        monomer.pop('id')\n",
    "\n",
    "chembl_data.extend(helm_data)\n",
    "json_data = json.dumps(chembl_data, indent=4)\n",
    "\n",
    "with open(\"monomer_library.json\", \"w\") as json_file:\n",
    "    json_file.write(json_data)"
   ]
  },
  {
   "cell_type": "code",
   "execution_count": null,
   "id": "6a2ef2b7-7028-4c18-ac8f-733cb1403de7",
   "metadata": {},
   "outputs": [],
   "source": []
  }
 ],
 "metadata": {
  "kernelspec": {
   "display_name": "Python 3 (ipykernel)",
   "language": "python",
   "name": "python3"
  },
  "language_info": {
   "codemirror_mode": {
    "name": "ipython",
    "version": 3
   },
   "file_extension": ".py",
   "mimetype": "text/x-python",
   "name": "python",
   "nbconvert_exporter": "python",
   "pygments_lexer": "ipython3",
   "version": "3.9.16"
  }
 },
 "nbformat": 4,
 "nbformat_minor": 5
}
