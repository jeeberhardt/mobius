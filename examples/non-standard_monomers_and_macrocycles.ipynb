{
 "cells": [
  {
   "cell_type": "code",
   "execution_count": 1,
   "metadata": {},
   "outputs": [],
   "source": [
    "%matplotlib inline\n",
    "%load_ext autoreload\n",
    "%autoreload 2"
   ]
  },
  {
   "cell_type": "code",
   "execution_count": 2,
   "metadata": {},
   "outputs": [
    {
     "name": "stderr",
     "output_type": "stream",
     "text": [
      "/home/eberhardt/Applications/mambaforge/envs/mm/lib/python3.9/site-packages/pandas/core/computation/expressions.py:21: UserWarning: Pandas requires version '2.8.0' or newer of 'numexpr' (version '2.7.3' currently installed).\n",
      "  from pandas.core.computation.check import NUMEXPR_INSTALLED\n"
     ]
    }
   ],
   "source": [
    "import numpy as np\n",
    "import pandas as pd\n",
    "import matplotlib.pyplot as plt\n",
    "import seaborn as sns\n",
    "\n",
    "from mobius import Planner, SequenceGA, FindMe\n",
    "from mobius import MHFingerprint\n",
    "from mobius import GPModel, ExpectedImprovement, TanimotoSimilarityKernel\n",
    "from mobius import homolog_scanning, monomers_scanning"
   ]
  },
  {
   "cell_type": "code",
   "execution_count": 4,
   "metadata": {},
   "outputs": [],
   "source": [
    "# This is the peptide sequence we need to find\n",
    "# See http://cycpeptmpdb.com/peptides/id_7170/ for more information\n",
    "target = 'PEPTIDE1{[ac].P.[Me_dL].T.[d1-Nal].[Nva].[dL].[Me_dA].L.P}$PEPTIDE1,PEPTIDE1,4:R3-10:R2$$$V2.0'"
   ]
  },
  {
   "cell_type": "code",
   "execution_count": 5,
   "metadata": {},
   "outputs": [],
   "source": [
    "# Here we use the (folded) MinHashed Fingerprint method\n",
    "mhfp = MHFingerprint(input_type='helm', dimensions=4096, radius=3)\n",
    "kernel = TanimotoSimilarityKernel()\n",
    "\n",
    "# Here we define the FindMe emulator\n",
    "fm = FindMe(target, input_type='helm', kernel=kernel, input_transformer=mhfp)"
   ]
  },
  {
   "cell_type": "code",
   "execution_count": 31,
   "metadata": {},
   "outputs": [
    {
     "name": "stdout",
     "output_type": "stream",
     "text": [
      "Reach max. number of peptides allowed.\n"
     ]
    }
   ],
   "source": [
    "lead = 'PEPTIDE1{E.P.L.T.A.K.I.G.L.P}$PEPTIDE1,PEPTIDE1,4:R3-10:R2$$$V2.0'\n",
    "\n",
    "seed_library = [lead]\n",
    "\n",
    "for seq in homolog_scanning(lead):\n",
    "    seed_library.append(seq)\n",
    "\n",
    "    if len(seed_library) >= 48:\n",
    "        print('Reach max. number of peptides allowed.')\n",
    "        break\n",
    "\n",
    "for seq in monomers_scanning(lead, monomers=['Me_dL', 'd1-Nal', 'Nva', 'dL', 'Me_dA']):\n",
    "    seed_library.append(seq)\n",
    "\n",
    "    if len(seed_library) >= 96:\n",
    "        print('Reach max. number of peptides allowed.')\n",
    "        break\n",
    "\n",
    "#seed_library.append('PEPTIDE1{[d1-Nal].[d1-Nal].[d1-Nal].T.[d1-Nal].[d1-Nal].[d1-Nal].[d1-Nal].[d1-Nal].P}$PEPTIDE1,PEPTIDE1,4:R3-10:R2$$$V2.0')\n",
    "\n",
    "# And we test right away the seed library using our emulator\n",
    "scores_seed_library = fm.score(seed_library)"
   ]
  },
  {
   "cell_type": "code",
   "execution_count": 32,
   "metadata": {},
   "outputs": [],
   "source": [
    "gpmodel = GPModel(kernel=TanimotoSimilarityKernel(), input_transformer=mhfp)\n",
    "acq = ExpectedImprovement(gpmodel, maximize=True)"
   ]
  },
  {
   "cell_type": "code",
   "execution_count": 33,
   "metadata": {},
   "outputs": [],
   "source": [
    "yaml_content = \"\"\"\n",
    "design:\n",
    "  monomers:\n",
    "    default: [A, C, D, E, F, G, H, I, K, L, M, N, P, Q, R, S, T, V, W, Y]\n",
    "    special: [Me_dL, d1-Nal, Nva, dL, Me_dA]\n",
    "    nter : [ac]\n",
    "  polymers:\n",
    "    - PEPTIDE1{X.X.X.T.X.X.X.X.X.P}$PEPTIDE1,PEPTIDE1,4:R3-10:R2$$$V2.0:\n",
    "        PEPTIDE1:\n",
    "          1: [default, nter]\n",
    "          2: [default, special]\n",
    "          3: [default, special]\n",
    "          5: [default, special]\n",
    "          6: [default, special]\n",
    "          7: [default, special]\n",
    "          8: [default, special]\n",
    "          9: [default, special]\n",
    "\"\"\"\n",
    "\n",
    "with open('sampling_macrocycle.yaml', 'w') as f:\n",
    "    f.write(yaml_content)"
   ]
  },
  {
   "cell_type": "code",
   "execution_count": 34,
   "metadata": {},
   "outputs": [],
   "source": [
    "optimizer = SequenceGA(algorithm='GA', period=15, design_protocol_filename='sampling_macrocycle.yaml')\n",
    "ps = Planner(acq, optimizer)"
   ]
  },
  {
   "cell_type": "code",
   "execution_count": 50,
   "metadata": {},
   "outputs": [
    {
     "name": "stdout",
     "output_type": "stream",
     "text": [
      "=================================================\n",
      "n_gen  |  n_eval  |     f_avg     |     f_min    \n",
      "=================================================\n",
      "     1 |        0 |  9.994160E+02 |  9.993780E+02\n",
      "     2 |      500 | -2.903180E-05 | -2.029716E-03\n",
      "     3 |     1000 | -8.865342E-05 | -2.364596E-03\n",
      "     4 |     1500 | -2.189490E-04 | -2.392965E-03\n",
      "     5 |     2000 | -5.199711E-04 | -4.965979E-03\n",
      "     6 |     2500 | -9.533100E-04 | -4.965979E-03\n",
      "     7 |     3000 | -1.458751E-03 | -4.965979E-03\n",
      "     8 |     3500 | -2.033894E-03 | -4.987604E-03\n",
      "     9 |     4000 | -2.576034E-03 | -5.691616E-03\n",
      "    10 |     4500 | -3.123389E-03 | -6.048419E-03\n",
      "    11 |     5000 | -3.625009E-03 | -6.048419E-03\n",
      "    12 |     5500 | -4.075077E-03 | -6.048419E-03\n",
      "    13 |     6000 | -4.405795E-03 | -6.048419E-03\n",
      "    14 |     6500 | -4.617650E-03 | -6.048419E-03\n",
      "    15 |     7000 | -4.780336E-03 | -6.048419E-03\n",
      "    16 |     7500 | -4.886410E-03 | -6.048419E-03\n",
      "    17 |     8000 | -4.963850E-03 | -6.048419E-03\n",
      "    18 |     8500 | -5.001883E-03 | -6.048419E-03\n",
      "    19 |     9000 | -5.032370E-03 | -6.048419E-03\n",
      "    20 |     9500 | -5.061284E-03 | -6.048419E-03\n",
      "    21 |    10000 | -5.084235E-03 | -6.048419E-03\n",
      "    22 |    10500 | -5.105737E-03 | -6.048419E-03\n",
      "    23 |    11000 | -5.129112E-03 | -6.048419E-03\n",
      "    24 |    11500 | -5.149737E-03 | -6.048419E-03\n",
      "    25 |    12000 | -5.166888E-03 | -6.048419E-03\n",
      "Best peptide found so far: PEPTIDE1{K.P.[Me_dL].T.A.K.[Nva].[d1-Nal].L.P}$PEPTIDE1,PEPTIDE1,4:R3-10:R2$$$V2.0 / 0.681\n",
      "=================================================\n",
      "n_gen  |  n_eval  |     f_avg     |     f_min    \n",
      "=================================================\n",
      "     1 |        0 |  9.995303E+02 |  9.993780E+02\n",
      "     2 |      500 | -4.593440E-05 | -5.979990E-03\n",
      "     3 |     1000 | -6.972748E-05 | -5.979990E-03\n",
      "     4 |     1500 | -1.442031E-04 | -5.979990E-03\n",
      "     5 |     2000 | -2.237133E-04 | -6.214865E-03\n",
      "     6 |     2500 | -4.911714E-04 | -6.214865E-03\n",
      "     7 |     3000 | -6.822167E-04 | -6.214865E-03\n",
      "     8 |     3500 | -9.446604E-04 | -6.214865E-03\n",
      "     9 |     4000 | -1.144062E-03 | -6.214865E-03\n",
      "    10 |     4500 | -1.377768E-03 | -6.214865E-03\n",
      "    11 |     5000 | -1.622093E-03 | -6.214865E-03\n",
      "    12 |     5500 | -1.899730E-03 | -6.214865E-03\n",
      "    13 |     6000 | -2.107928E-03 | -6.214865E-03\n",
      "    14 |     6500 | -2.267646E-03 | -6.214865E-03\n",
      "    15 |     7000 | -2.504465E-03 | -6.214865E-03\n",
      "    16 |     7500 | -2.654839E-03 | -6.214865E-03\n",
      "    17 |     8000 | -2.759516E-03 | -6.214865E-03\n",
      "    18 |     8500 | -2.804339E-03 | -6.214865E-03\n",
      "    19 |     9000 | -2.836284E-03 | -6.214865E-03\n",
      "    20 |     9500 | -2.871679E-03 | -6.214865E-03\n",
      "Best peptide found so far: PEPTIDE1{K.P.[Me_dL].T.[d1-Nal].[Nva].[d1-Nal].L.P.P}$PEPTIDE1,PEPTIDE1,4:R3-10:R2$$$V2.0 / 0.693\n",
      "=================================================\n",
      "n_gen  |  n_eval  |     f_avg     |     f_min    \n",
      "=================================================\n",
      "     1 |        0 |  9.995849E+02 |  9.993780E+02\n",
      "     2 |      500 | -6.739627E-06 | -9.320378E-04\n",
      "     3 |     1000 | -2.525135E-05 | -1.521608E-03\n",
      "     4 |     1500 | -9.843673E-05 | -3.067176E-03\n",
      "     5 |     2000 | -1.976742E-04 | -3.067176E-03\n",
      "     6 |     2500 | -3.460300E-04 | -3.067176E-03\n",
      "     7 |     3000 | -4.918099E-04 | -3.324028E-03\n",
      "     8 |     3500 | -6.318065E-04 | -3.324028E-03\n",
      "     9 |     4000 | -7.572287E-04 | -3.324028E-03\n",
      "    10 |     4500 | -8.419287E-04 | -3.324028E-03\n",
      "    11 |     5000 | -8.927700E-04 | -3.324028E-03\n",
      "    12 |     5500 | -9.392635E-04 | -3.324028E-03\n",
      "    13 |     6000 | -9.651862E-04 | -3.324028E-03\n",
      "    14 |     6500 | -9.813575E-04 | -3.324028E-03\n",
      "    15 |     7000 | -9.926869E-04 | -3.324028E-03\n",
      "    16 |     7500 | -1.003367E-03 | -3.324028E-03\n",
      "    17 |     8000 | -1.011849E-03 | -3.324028E-03\n",
      "    18 |     8500 | -1.018649E-03 | -3.324028E-03\n",
      "    19 |     9000 | -1.021078E-03 | -3.324028E-03\n",
      "    20 |     9500 | -1.024600E-03 | -3.324028E-03\n",
      "    21 |    10000 | -1.026064E-03 | -3.324028E-03\n",
      "    22 |    10500 | -1.028012E-03 | -3.324028E-03\n",
      "Best peptide found so far: PEPTIDE1{K.P.[Me_dL].T.[d1-Nal].[Nva].[d1-Nal].[Me_dL].L.P}$PEPTIDE1,PEPTIDE1,4:R3-10:R2$$$V2.0 / 0.700\n",
      "=================================================\n",
      "n_gen  |  n_eval  |     f_avg     |     f_min    \n",
      "=================================================\n",
      "     1 |        0 |  9.995928E+02 |  9.993780E+02\n",
      "     2 |      500 | -5.364803E-06 | -5.612711E-04\n",
      "     3 |     1000 | -1.867951E-05 | -1.238944E-03\n",
      "     4 |     1500 | -5.129207E-05 | -1.238944E-03\n",
      "     5 |     2000 | -8.371299E-05 | -1.238944E-03\n",
      "     6 |     2500 | -1.383642E-04 | -2.658069E-03\n",
      "     7 |     3000 | -1.829130E-04 | -2.658069E-03\n",
      "     8 |     3500 | -2.266141E-04 | -2.658069E-03\n",
      "     9 |     4000 | -2.549970E-04 | -2.658069E-03\n",
      "    10 |     4500 | -2.747471E-04 | -2.658069E-03\n",
      "    11 |     5000 | -2.898738E-04 | -2.658069E-03\n",
      "    12 |     5500 | -3.006048E-04 | -2.658069E-03\n",
      "    13 |     6000 | -3.065734E-04 | -2.658069E-03\n",
      "    14 |     6500 | -3.172011E-04 | -2.658069E-03\n",
      "    15 |     7000 | -3.220920E-04 | -2.658069E-03\n",
      "    16 |     7500 | -3.300025E-04 | -2.658069E-03\n",
      "    17 |     8000 | -3.340868E-04 | -2.658069E-03\n",
      "    18 |     8500 | -3.362024E-04 | -2.658069E-03\n",
      "    19 |     9000 | -3.378079E-04 | -2.658069E-03\n",
      "    20 |     9500 | -3.397515E-04 | -2.658069E-03\n",
      "    21 |    10000 | -3.405738E-04 | -2.658069E-03\n",
      "Best peptide found so far: PEPTIDE1{K.P.[Me_dL].T.[dL].[Me_dA].[Nva].[d1-Nal].L.P}$PEPTIDE1,PEPTIDE1,4:R3-10:R2$$$V2.0 / 0.796\n",
      "=================================================\n",
      "n_gen  |  n_eval  |     f_avg     |     f_min    \n",
      "=================================================\n",
      "     1 |        0 |  9.996075E+02 |  9.993780E+02\n",
      "     2 |      500 | -6.011269E-12 | -2.480689E-09\n",
      "     3 |     1000 | -1.727572E-10 | -4.100772E-08\n",
      "     4 |     1500 | -3.687410E-10 | -4.100772E-08\n",
      "     5 |     2000 | -2.751098E-09 | -4.311463E-07\n",
      "     6 |     2500 | -2.284856E-08 | -7.044929E-06\n",
      "     7 |     3000 | -8.574737E-08 | -1.495253E-05\n",
      "     8 |     3500 | -2.109167E-07 | -2.165527E-05\n",
      "     9 |     4000 | -1.673454E-06 | -5.852119E-04\n",
      "    10 |     4500 | -2.379609E-06 | -5.852119E-04\n",
      "    11 |     5000 | -4.574028E-06 | -5.852119E-04\n",
      "    12 |     5500 | -1.059540E-05 | -2.168542E-03\n",
      "    13 |     6000 | -1.171521E-05 | -2.168542E-03\n",
      "    14 |     6500 | -1.351767E-05 | -2.168542E-03\n",
      "    15 |     7000 | -1.464678E-05 | -2.168542E-03\n",
      "    16 |     7500 | -2.105027E-05 | -2.168542E-03\n",
      "    17 |     8000 | -2.222530E-05 | -2.168542E-03\n",
      "    18 |     8500 | -2.311787E-05 | -2.168542E-03\n",
      "    19 |     9000 | -2.456575E-05 | -2.168542E-03\n",
      "    20 |     9500 | -2.527576E-05 | -2.168542E-03\n",
      "    21 |    10000 | -2.584180E-05 | -2.168542E-03\n",
      "    22 |    10500 | -2.933930E-05 | -2.168542E-03\n",
      "    23 |    11000 | -3.158038E-05 | -2.168542E-03\n",
      "    24 |    11500 | -3.224089E-05 | -2.168542E-03\n",
      "    25 |    12000 | -3.302355E-05 | -2.168542E-03\n",
      "    26 |    12500 | -3.345462E-05 | -2.168542E-03\n",
      "    27 |    13000 | -3.429750E-05 | -2.168542E-03\n",
      "Best peptide found so far: PEPTIDE1{[ac].P.[Me_dL].T.[d1-Nal].[Nva].[dL].[Me_dA].L.P}$PEPTIDE1,PEPTIDE1,4:R3-10:R2$$$V2.0 / 1.000\n"
     ]
    }
   ],
   "source": [
    "peptides = seed_library.copy()\n",
    "scores = scores_seed_library.copy()\n",
    "\n",
    "# Store data for later analysis\n",
    "data = [(0, p, s) for p, s in zip(peptides, scores)]\n",
    "\n",
    "for i in range(5):\n",
    "    suggested_peptides, _ = ps.recommand(peptides, scores.reshape(-1, 1), batch_size=96)\n",
    "\n",
    "    # Here you can add whatever methods you want to further filter out peptides\n",
    "\n",
    "    # Virtually test the suggested peptides using the MHC emulator\n",
    "    # You know the drill now, this is for benchmarking or demonstration\n",
    "    # purposes only and should be replaced with actual lab experiments.\n",
    "    scores_suggested_peptides = fm.score(suggested_peptides)\n",
    "\n",
    "    peptides = np.concatenate([peptides, suggested_peptides])\n",
    "    scores = np.concatenate((scores, scores_suggested_peptides), axis=0)\n",
    "    data.extend([(i + 1, p, s) for p, s in zip(suggested_peptides, scores_suggested_peptides)])\n",
    "\n",
    "    best_seq = peptides[np.argmax(scores)]\n",
    "    best_scores = np.max(scores)\n",
    "    print('Best peptide found so far: %s / %.3f' % (best_seq, best_scores))\n",
    "\n",
    "df = pd.DataFrame(data=data, columns=('iter', 'polymer', 'score'))"
   ]
  },
  {
   "cell_type": "code",
   "execution_count": 51,
   "metadata": {},
   "outputs": [
    {
     "data": {
      "image/png": "[encoded data removed]",
      "text/plain": [
       "<Figure size 2000x750 with 1 Axes>"
      ]
     },
     "metadata": {},
     "output_type": "display_data"
    }
   ],
   "source": [
    "fig, ax = plt.subplots(figsize=(20, 7.5))\n",
    "\n",
    "# pandas dataframe (df) columns: iter, peptide, exp_value\n",
    "df['iter'] = df['iter'].replace({0: 'Init.', 1: '1', 2: '2', 3: '3', 4: '4', 5: '5'})\n",
    "\n",
    "sns.lineplot(x='iter', y='score', data=df, ax=ax, errorbar=('ci', 95), err_style='bars', linewidth=3.5, err_kws={'lw': 3.5})\n",
    "\n",
    "ax.set_xlim([-0.9, 5.5])\n",
    "ax.set_ylim([-0.9, 1.1])\n",
    "ax.set_ylabel('scores', fontsize=30)\n",
    "ax.set_xlabel('Generations', fontsize=30)\n",
    "ax.xaxis.set_tick_params(labelsize=30)\n",
    "ax.yaxis.set_tick_params(labelsize=30)\n",
    "\n",
    "sns.despine()\n",
    "plt.show()"
   ]
  },
  {
   "cell_type": "code",
   "execution_count": null,
   "metadata": {},
   "outputs": [],
   "source": []
  }
 ],
 "metadata": {
  "kernelspec": {
   "display_name": "Python 3",
   "language": "python",
   "name": "python3"
  },
  "language_info": {
   "codemirror_mode": {
    "name": "ipython",
    "version": 3
   },
   "file_extension": ".py",
   "mimetype": "text/x-python",
   "name": "python",
   "nbconvert_exporter": "python",
   "pygments_lexer": "ipython3",
   "version": "3.9.18"
  }
 },
 "nbformat": 4,
 "nbformat_minor": 2
}
