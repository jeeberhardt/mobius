{
 "cells": [
  {
   "cell_type": "code",
   "execution_count": 2,
   "id": "20804e7e-027e-4b3b-a45c-3b6554e2cda2",
   "metadata": {},
   "outputs": [],
   "source": [
    "import pandas as pd\n",
    "from rdkit import Chem"
   ]
  },
  {
   "cell_type": "code",
   "execution_count": 3,
   "id": "08b0f1c2-7391-4aba-9f63-0c2ef8f01299",
   "metadata": {},
   "outputs": [
    {
     "name": "stderr",
     "output_type": "stream",
     "text": [
      "/scratch/eberha0001/slurm-job.4159121/ipykernel_3769049/2828601079.py:1: DtypeWarning: Columns (24) have mixed types. Specify dtype option on import or set low_memory=False.\n",
      "  dataset = pd.read_csv('../../data/CycPeptMPDB_Peptide_All.csv')\n"
     ]
    }
   ],
   "source": [
    "dataset = pd.read_csv('../../data/CycPeptMPDB_Peptide_All.csv')\n",
    "subset = dataset[['SMILES', 'Permeability']].copy().dropna()"
   ]
  },
  {
   "cell_type": "code",
   "execution_count": 4,
   "id": "9b84b23e-cd37-4c61-a065-69a4c0b9500a",
   "metadata": {},
   "outputs": [],
   "source": [
    "subset = subset[(subset['Permeability'] > -10)].copy()"
   ]
  },
  {
   "cell_type": "code",
   "execution_count": 5,
   "id": "3f709376-b61f-4c23-98bd-43b48119978d",
   "metadata": {},
   "outputs": [
    {
     "name": "stderr",
     "output_type": "stream",
     "text": [
      "[14:39:37] WARNING: Charges were rearranged\n",
      "\n"
     ]
    }
   ],
   "source": [
    "inchikeys = [Chem.MolToInchi(Chem.MolFromSmiles(smiles)) for smiles in subset['SMILES'].values]\n",
    "subset['InChiKey'] = inchikeys\n",
    "\n",
    "subset = subset.drop_duplicates('InChiKey')"
   ]
  },
  {
   "cell_type": "code",
   "execution_count": 7,
   "id": "8138cec1-a18c-4d45-8a85-3112d961e3da",
   "metadata": {},
   "outputs": [],
   "source": [
    "subset = subset[['SMILES', 'Permeability']]"
   ]
  },
  {
   "cell_type": "code",
   "execution_count": 9,
   "id": "0a027cdb-7a73-4faf-8ea5-f00e9c4959fb",
   "metadata": {},
   "outputs": [],
   "source": [
    "subset = subset.rename(columns={'SMILES': 'peptide', 'Permeability': 'score'})"
   ]
  },
  {
   "cell_type": "code",
   "execution_count": 10,
   "id": "671234d1-a950-4783-8070-4b455f7a66ad",
   "metadata": {},
   "outputs": [],
   "source": [
    "subset.to_csv('CycPeptMPDB_Peptide_Dataset.csv', index=False)"
   ]
  },
  {
   "cell_type": "code",
   "execution_count": null,
   "id": "7c1d7138-df56-41d0-9473-27007a9ec50b",
   "metadata": {},
   "outputs": [],
   "source": []
  }
 ],
 "metadata": {
  "kernelspec": {
   "display_name": "Python [conda env:mambaforge-mm-ubuntu]",
   "language": "python",
   "name": "conda-env-mambaforge-mm-ubuntu-py"
  },
  "language_info": {
   "codemirror_mode": {
    "name": "ipython",
    "version": 3
   },
   "file_extension": ".py",
   "mimetype": "text/x-python",
   "name": "python",
   "nbconvert_exporter": "python",
   "pygments_lexer": "ipython3",
   "version": "3.9.19"
  }
 },
 "nbformat": 4,
 "nbformat_minor": 5
}
