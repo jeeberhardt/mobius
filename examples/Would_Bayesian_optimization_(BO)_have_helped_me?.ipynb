{
  "nbformat": 4,
  "nbformat_minor": 0,
  "metadata": {
    "colab": {
      "provenance": [],
      "authorship_tag": "ABX9TyOyZvLwHaUwafdyHKtF00Uu",
      "include_colab_link": true
    },
    "kernelspec": {
      "name": "python3",
      "display_name": "Python 3"
    },
    "language_info": {
      "name": "python"
    }
  },
  "cells": [
    {
      "cell_type": "markdown",
      "metadata": {
        "id": "view-in-github",
        "colab_type": "text"
      },
      "source": [
        "<a href=\"https://colab.research.google.com/github/jeeberhardt/mobius/blob/colab/examples/Would_Bayesian_optimization_(BO)_have_helped_me%3F.ipynb\" target=\"_parent\"><img src=\"https://colab.research.google.com/assets/colab-badge.svg\" alt=\"Open In Colab\"/></a>"
      ]
    },
    {
      "cell_type": "markdown",
      "source": [
        "# Would Bayesian optimization (BO) have helped me?"
      ],
      "metadata": {
        "id": "B4S_TnUnOatT"
      }
    },
    {
      "cell_type": "markdown",
      "source": [
        "## Installation"
      ],
      "metadata": {
        "id": "kz_3bgs34aUH"
      }
    },
    {
      "cell_type": "code",
      "source": [
        "#@title Execute this cell to install conda. After the installation, it will restart the kernel.\n",
        "! pip install -q condacolab\n",
        "\n",
        "import condacolab\n",
        "condacolab.install()"
      ],
      "metadata": {
        "colab": {
          "base_uri": "https://localhost:8080/"
        },
        "id": "9sDEeDHKCyzB",
        "outputId": "5b96b2c3-2c83-4199-c161-2af4b5950599"
      },
      "execution_count": 1,
      "outputs": [
        {
          "output_type": "stream",
          "name": "stdout",
          "text": [
            "✨🍰✨ Everything looks OK!\n"
          ]
        }
      ]
    },
    {
      "cell_type": "code",
      "source": [
        "#@title Execute this cell to install the Mobius package.\n",
        "import condacolab\n",
        "condacolab.check()\n",
        "\n",
        "! git clone https://git.scicore.unibas.ch/schwede/mobius.git\n",
        "! cd mobius; mamba env update -n base -f environment.yaml\n",
        "! cd mobius; pip install -e ."
      ],
      "metadata": {
        "id": "G7hKcQbLC6F8"
      },
      "execution_count": null,
      "outputs": []
    },
    {
      "cell_type": "markdown",
      "source": [
        "## Bayesian Optimization (BO)"
      ],
      "metadata": {
        "id": "-Hn3x9CnS_Dm"
      }
    },
    {
      "cell_type": "markdown",
      "source": [
        "## Input peptide dataset\n",
        "\n",
        "The input csv file must contains at the following columns:\n",
        "- peptide: the peptide column contains the peptide sequence, either in SMILES or FASTA format.\n",
        "- score: the score column contains the experimental values for each peptide sequence.\n",
        "- seed_library (optional): The seed_library contains boolean values. True if peptide part of the seed library or False if not."
      ],
      "metadata": {
        "id": "X2Fuf0vze6RI"
      }
    },
    {
      "cell_type": "code",
      "source": [
        "import io\n",
        "\n",
        "import pandas as pd\n",
        "import numpy as np\n",
        "from google.colab import files\n",
        "\n",
        "#@markdown ###Specify the input format (SMILES, FASTA)\n",
        "input_type = \"FASTA\" # @param [\"SMILES\",\"FASTA\"]\n",
        "#@markdown ###Specify how to initialize the seed library\n",
        "#@markdown Options: Worst (select worst peptide based on score), Random (select peptide randomly), User defined (select peptides based on seed_library column, True or False)\n",
        "initialization_strategy = 'Worst' #@param ['Worst', 'Random', 'User defined'] {type:\"string\"}\n",
        "#@markdown ###Specify the number of peptides for the seed library (only for Worst or Random)\n",
        "initialization_size = 96 #@param {type:\"raw\"}\n",
        "#@markdown ###About the score: is the lower the better or the higher the better? (only for Worst or Random)\n",
        "which_is_better = 'Lower' #@param ['Lower', 'Higher'] {type:\"string\"}\n",
        "\n",
        "assert initialization_size > 0, 'The initialization size must be greater than 0.'\n",
        "\n",
        "uploaded = files.upload()\n",
        "\n",
        "dataset = pd.read_csv(io.BytesIO(uploaded[list(uploaded.keys())[0]]))\n",
        "\n",
        "assert 'peptide' in dataset.columns, 'Error: Could not find peptide column in dataset.'\n",
        "assert 'score' in dataset.columns, 'Error: Could not find score column in dataset.'\n",
        "\n",
        "if initialization_strategy == 'Worst':\n",
        "  if which_is_better == 'Lower':\n",
        "    # Put the lowest scores at the bottom\n",
        "    ascending = False\n",
        "  else:\n",
        "    # Put the highest scores at the bottom\n",
        "    ascending = True\n",
        "\n",
        "  dataset = dataset.sort_values(by='score', ascending=ascending)\n",
        "\n",
        "  seed_library = dataset['peptide'][:initialization_size].values\n",
        "  scores_seed_library = dataset['score'][:initialization_size].values\n",
        "elif initialization_strategy == 'Random':\n",
        "  idx = np.random.choice(dataset.index, size=initialization_size)\n",
        "  seed_library = dataset['peptide'].values[idx]\n",
        "  scores_seed_library = dataset['score'].values[idx]\n",
        "else:\n",
        "  assert 'seed_library' in dataset.columns, 'Error: Could not find seed_library column in dataset.'\n",
        "\n",
        "  seed_library = dataset[dataset['seed_library'] == True]['peptide'].values\n",
        "  scores_seed_library = dataset[dataset['seed_library'] == True]['score'].values\n",
        "\n",
        "print('')\n",
        "print(f'The full dataset contains {len(dataset)} peptides.')\n",
        "print(f'The seed library contains {len(seed_library)} peptides, with scores from {np.min(scores_seed_library):.3f} to {np.max(scores_seed_library):.3f}.')\n"
      ],
      "metadata": {
        "colab": {
          "base_uri": "https://localhost:8080/",
          "height": 127
        },
        "cellView": "form",
        "id": "oxAA1M1yD3T_",
        "outputId": "7983565c-a08b-4464-fecf-dec3d1944aeb"
      },
      "execution_count": 13,
      "outputs": [
        {
          "output_type": "display_data",
          "data": {
            "text/plain": [
              "<IPython.core.display.HTML object>"
            ],
            "text/html": [
              "\n",
              "     <input type=\"file\" id=\"files-af19cc43-68a2-4977-867e-895b7c27e27b\" name=\"files[]\" multiple disabled\n",
              "        style=\"border:none\" />\n",
              "     <output id=\"result-af19cc43-68a2-4977-867e-895b7c27e27b\">\n",
              "      Upload widget is only available when the cell has been executed in the\n",
              "      current browser session. Please rerun this cell to enable.\n",
              "      </output>\n",
              "      <script>// Copyright 2017 Google LLC\n",
              "//\n",
              "// Licensed under the Apache License, Version 2.0 (the \"License\");\n",
              "// you may not use this file except in compliance with the License.\n",
              "// You may obtain a copy of the License at\n",
              "//\n",
              "//      http://www.apache.org/licenses/LICENSE-2.0\n",
              "//\n",
              "// Unless required by applicable law or agreed to in writing, software\n",
              "// distributed under the License is distributed on an \"AS IS\" BASIS,\n",
              "// WITHOUT WARRANTIES OR CONDITIONS OF ANY KIND, either express or implied.\n",
              "// See the License for the specific language governing permissions and\n",
              "// limitations under the License.\n",
              "\n",
              "/**\n",
              " * @fileoverview Helpers for google.colab Python module.\n",
              " */\n",
              "(function(scope) {\n",
              "function span(text, styleAttributes = {}) {\n",
              "  const element = document.createElement('span');\n",
              "  element.textContent = text;\n",
              "  for (const key of Object.keys(styleAttributes)) {\n",
              "    element.style[key] = styleAttributes[key];\n",
              "  }\n",
              "  return element;\n",
              "}\n",
              "\n",
              "// Max number of bytes which will be uploaded at a time.\n",
              "const MAX_PAYLOAD_SIZE = 100 * 1024;\n",
              "\n",
              "function _uploadFiles(inputId, outputId) {\n",
              "  const steps = uploadFilesStep(inputId, outputId);\n",
              "  const outputElement = document.getElementById(outputId);\n",
              "  // Cache steps on the outputElement to make it available for the next call\n",
              "  // to uploadFilesContinue from Python.\n",
              "  outputElement.steps = steps;\n",
              "\n",
              "  return _uploadFilesContinue(outputId);\n",
              "}\n",
              "\n",
              "// This is roughly an async generator (not supported in the browser yet),\n",
              "// where there are multiple asynchronous steps and the Python side is going\n",
              "// to poll for completion of each step.\n",
              "// This uses a Promise to block the python side on completion of each step,\n",
              "// then passes the result of the previous step as the input to the next step.\n",
              "function _uploadFilesContinue(outputId) {\n",
              "  const outputElement = document.getElementById(outputId);\n",
              "  const steps = outputElement.steps;\n",
              "\n",
              "  const next = steps.next(outputElement.lastPromiseValue);\n",
              "  return Promise.resolve(next.value.promise).then((value) => {\n",
              "    // Cache the last promise value to make it available to the next\n",
              "    // step of the generator.\n",
              "    outputElement.lastPromiseValue = value;\n",
              "    return next.value.response;\n",
              "  });\n",
              "}\n",
              "\n",
              "/**\n",
              " * Generator function which is called between each async step of the upload\n",
              " * process.\n",
              " * @param {string} inputId Element ID of the input file picker element.\n",
              " * @param {string} outputId Element ID of the output display.\n",
              " * @return {!Iterable<!Object>} Iterable of next steps.\n",
              " */\n",
              "function* uploadFilesStep(inputId, outputId) {\n",
              "  const inputElement = document.getElementById(inputId);\n",
              "  inputElement.disabled = false;\n",
              "\n",
              "  const outputElement = document.getElementById(outputId);\n",
              "  outputElement.innerHTML = '';\n",
              "\n",
              "  const pickedPromise = new Promise((resolve) => {\n",
              "    inputElement.addEventListener('change', (e) => {\n",
              "      resolve(e.target.files);\n",
              "    });\n",
              "  });\n",
              "\n",
              "  const cancel = document.createElement('button');\n",
              "  inputElement.parentElement.appendChild(cancel);\n",
              "  cancel.textContent = 'Cancel upload';\n",
              "  const cancelPromise = new Promise((resolve) => {\n",
              "    cancel.onclick = () => {\n",
              "      resolve(null);\n",
              "    };\n",
              "  });\n",
              "\n",
              "  // Wait for the user to pick the files.\n",
              "  const files = yield {\n",
              "    promise: Promise.race([pickedPromise, cancelPromise]),\n",
              "    response: {\n",
              "      action: 'starting',\n",
              "    }\n",
              "  };\n",
              "\n",
              "  cancel.remove();\n",
              "\n",
              "  // Disable the input element since further picks are not allowed.\n",
              "  inputElement.disabled = true;\n",
              "\n",
              "  if (!files) {\n",
              "    return {\n",
              "      response: {\n",
              "        action: 'complete',\n",
              "      }\n",
              "    };\n",
              "  }\n",
              "\n",
              "  for (const file of files) {\n",
              "    const li = document.createElement('li');\n",
              "    li.append(span(file.name, {fontWeight: 'bold'}));\n",
              "    li.append(span(\n",
              "        `(${file.type || 'n/a'}) - ${file.size} bytes, ` +\n",
              "        `last modified: ${\n",
              "            file.lastModifiedDate ? file.lastModifiedDate.toLocaleDateString() :\n",
              "                                    'n/a'} - `));\n",
              "    const percent = span('0% done');\n",
              "    li.appendChild(percent);\n",
              "\n",
              "    outputElement.appendChild(li);\n",
              "\n",
              "    const fileDataPromise = new Promise((resolve) => {\n",
              "      const reader = new FileReader();\n",
              "      reader.onload = (e) => {\n",
              "        resolve(e.target.result);\n",
              "      };\n",
              "      reader.readAsArrayBuffer(file);\n",
              "    });\n",
              "    // Wait for the data to be ready.\n",
              "    let fileData = yield {\n",
              "      promise: fileDataPromise,\n",
              "      response: {\n",
              "        action: 'continue',\n",
              "      }\n",
              "    };\n",
              "\n",
              "    // Use a chunked sending to avoid message size limits. See b/62115660.\n",
              "    let position = 0;\n",
              "    do {\n",
              "      const length = Math.min(fileData.byteLength - position, MAX_PAYLOAD_SIZE);\n",
              "      const chunk = new Uint8Array(fileData, position, length);\n",
              "      position += length;\n",
              "\n",
              "      const base64 = btoa(String.fromCharCode.apply(null, chunk));\n",
              "      yield {\n",
              "        response: {\n",
              "          action: 'append',\n",
              "          file: file.name,\n",
              "          data: base64,\n",
              "        },\n",
              "      };\n",
              "\n",
              "      let percentDone = fileData.byteLength === 0 ?\n",
              "          100 :\n",
              "          Math.round((position / fileData.byteLength) * 100);\n",
              "      percent.textContent = `${percentDone}% done`;\n",
              "\n",
              "    } while (position < fileData.byteLength);\n",
              "  }\n",
              "\n",
              "  // All done.\n",
              "  yield {\n",
              "    response: {\n",
              "      action: 'complete',\n",
              "    }\n",
              "  };\n",
              "}\n",
              "\n",
              "scope.google = scope.google || {};\n",
              "scope.google.colab = scope.google.colab || {};\n",
              "scope.google.colab._files = {\n",
              "  _uploadFiles,\n",
              "  _uploadFilesContinue,\n",
              "};\n",
              "})(self);\n",
              "</script> "
            ]
          },
          "metadata": {}
        },
        {
          "output_type": "stream",
          "name": "stdout",
          "text": [
            "Saving peptide_mhci_random_dataset.csv to peptide_mhci_random_dataset (8).csv\n",
            "\n",
            "The full dataset contains 30000 peptides.\n",
            "The seed library contains 96 peptides, with scores from 8.048 to 9.227.\n"
          ]
        }
      ]
    },
    {
      "cell_type": "code",
      "source": [
        "#@title Configure Bayesian optimization\n",
        "\n",
        "#@markdown ###Specify the input featurizer (MAP4, MAP4C, Graph kernel or GIN)\n",
        "featurizer = 'MAP4' #@param ['MAP4', 'MAP4C', 'Graph kernel (WL)', 'GNN (GIN)'] {type:\"string\"}\n",
        "#@markdown ###Specify the number of DMT cycles (from 1 to 5)\n",
        "n_iterations = 3 #@param [1, 2, 3, 4, 5] {type:\"raw\"}\n",
        "#@markdown ###Specify the number of peptides \"tested\" per batch\n",
        "batch_size = 96 #@param {type:\"raw\"}\n",
        "#@markdown ###Specify if you want to maximize or minimize the score (Minimize or Maximize)\n",
        "objective = 'Minimize' #@param ['Maximize', 'Minimize'] {type:\"string\"}\n",
        "\n",
        "assert batch_size > 0, 'The batch size must be greater than 0.'\n",
        "\n",
        "if objective == 'Maximize':\n",
        "  maximize = True\n",
        "else:\n",
        "  maximize = False\n"
      ],
      "metadata": {
        "cellView": "form",
        "id": "-jCC7ib7CR-1"
      },
      "execution_count": 14,
      "outputs": []
    },
    {
      "cell_type": "code",
      "source": [
        "#@title Run Bayesian optimization!\n",
        "\n",
        "import numpy as np\n",
        "import pandas as pd\n",
        "import seaborn as sns\n",
        "import torch\n",
        "import matplotlib.pyplot as plt\n",
        "from rdkit import Chem\n",
        "from grakel.kernels import WeisfeilerLehman\n",
        "from gpytorch.kernels import RBFKernel\n",
        "from gpytorch.priors import NormalPrior\n",
        "from torch_geometric.nn import global_mean_pool\n",
        "from torch_geometric.nn.models import GIN, GAT, GCN, GraphSAGE\n",
        "\n",
        "from mobius.mobius import ExpectedImprovement, Pool, Planner\n",
        "from mobius.mobius import GPGKModel, GPModel, GPGNNModel\n",
        "from mobius.mobius import Graph, Map4Fingerprint\n",
        "from mobius.mobius import TanimotoSimilarityKernel\n",
        "\n",
        "\n",
        "class GNNModel(torch.nn.Module):\n",
        "    def __init__(self, model_name, in_channels, hidden_channels, out_channels, num_layers, dropout):\n",
        "        super(GNNModel, self).__init__()\n",
        "\n",
        "        models = {'GIN': GIN, 'GAT': GAT, 'GCN': GCN, 'GraphSAGE': GraphSAGE}\n",
        "        gnn_model = models[model_name]\n",
        "\n",
        "        self.model = gnn_model(in_channels=in_channels, hidden_channels=hidden_channels, num_layers=num_layers,\n",
        "                               out_channels=out_channels, dropout=dropout)\n",
        "\n",
        "        self._reset_parameters()\n",
        "\n",
        "    def _reset_parameters(self):\n",
        "        r\"\"\"Initiate parameters in the transformer model.\"\"\"\n",
        "\n",
        "        for p in self.parameters():\n",
        "            if p.dim() > 1:\n",
        "                torch.nn.init.xavier_uniform_(p)\n",
        "\n",
        "    def forward(self, x):\n",
        "        node_attr, edge_index, edge_attr, batch = x.node_attr, x.edge_index, x.edge_attr, x.batch\n",
        "        x = self.model(x=node_attr, edge_index=edge_index, edge_attr=edge_attr, batch=batch)\n",
        "        x = global_mean_pool(x, batch)\n",
        "\n",
        "        return x\n",
        "\n",
        "\n",
        "if featurizer == 'MAP4':\n",
        "  map4 = Map4Fingerprint(input_type=input_type, chiral=False)\n",
        "  gpmodel = GPModel(kernel=TanimotoSimilarityKernel(), transform=map4, noise_prior=NormalPrior(loc=0, scale=1))\n",
        "elif featurizer == 'MAP4C':\n",
        "  map4 = Map4Fingerprint(input_type=input_type, chiral=True)\n",
        "  gpmodel = GPModel(kernel=TanimotoSimilarityKernel(), transform=map4, noise_prior=NormalPrior(loc=0, scale=1))\n",
        "elif featurizer == 'Graph kernel (WL)':\n",
        "  graph_convertor = Graph(input_type=input_type, output_type='grakel')\n",
        "  kernel = WeisfeilerLehman(normalize=True, n_iter=5)\n",
        "  gpmodel = GPGKModel(kernel=kernel, transform=graph_convertor, noise_prior=NormalPrior(loc=0, scale=1))\n",
        "else:\n",
        "  graph_convertor = Graph(input_type=input_type, output_type='pyg')\n",
        "  graphs = graph_convertor.transform(dataset['peptide'].values[0])\n",
        "  gnn = GNNModel('GIN', in_channels=graphs.node_attr.shape[1], hidden_channels=256, out_channels=256, num_layers=4, dropout=0.25)\n",
        "  gpmodel = GPGNNModel(kernel=RBFKernel(ard_num_dims=256, eps=1e-2), model=gnn, transform=graph_convertor, noise_prior=NormalPrior(loc=0, scale=1))\n",
        "\n",
        "acq = ExpectedImprovement(gpmodel, maximize=maximize)\n",
        "optimizer = Pool(dataset['peptide'].values, batch_size=1000)\n",
        "ps = Planner(acq, optimizer)\n",
        "\n",
        "peptides = seed_library.copy()\n",
        "scores = scores_seed_library.copy()\n",
        "\n",
        "# Store data for later analysis\n",
        "data = [(featurizer, 0, p, s) for p, s in zip(peptides, scores)]\n",
        "\n",
        "for i in range(n_iterations):\n",
        "    suggested_peptides, _ = ps.recommend(peptides, scores.reshape(-1, 1), batch_size=batch_size)\n",
        "\n",
        "    # Get real scores\n",
        "    scores_suggested_peptides = [dataset[dataset['peptide'] == p]['score'].values[0] for p in suggested_peptides]\n",
        "\n",
        "    peptides = np.concatenate([peptides, suggested_peptides])\n",
        "    scores = np.concatenate((scores, scores_suggested_peptides), axis=0)\n",
        "    data.extend([(featurizer, i + 1, p, s) for p, s in zip(suggested_peptides, scores_suggested_peptides)])\n",
        "\n",
        "    if maximize:\n",
        "      best_seq = peptides[np.argmax(scores)]\n",
        "      best_scores = np.max(scores)\n",
        "    else:\n",
        "      best_seq = peptides[np.argmin(scores)]\n",
        "      best_scores = np.min(scores)\n",
        "\n",
        "    print('Best peptide: %s / %.3f' % (best_seq, best_scores))\n",
        "    print('')\n",
        "\n",
        "    # Save results after each iteration, just to be sure...\n",
        "    df = pd.DataFrame(data=data, columns=('model', 'iter', 'peptide', 'exp_score'))\n",
        "    df.to_csv('results_optimization.csv', index=False)\n"
      ],
      "metadata": {
        "colab": {
          "base_uri": "https://localhost:8080/"
        },
        "cellView": "form",
        "id": "FvFVhKZyFMls",
        "outputId": "6e5f4a17-d17d-49b4-abf2-c1c704ac03cc"
      },
      "execution_count": 88,
      "outputs": [
        {
          "output_type": "stream",
          "name": "stderr",
          "text": [
            "Fitting GP model (cpu): 41step [00:02, 18.35step/s, loss=-0.0137]\n"
          ]
        },
        {
          "output_type": "stream",
          "name": "stdout",
          "text": [
            "Best peptide: YLLSDCAAT / 1.890\n",
            "\n"
          ]
        },
        {
          "output_type": "stream",
          "name": "stderr",
          "text": [
            "Fitting GP model (cpu): 20step [00:00, 28.06step/s, loss=1.5]\n"
          ]
        },
        {
          "output_type": "stream",
          "name": "stdout",
          "text": [
            "Best peptide: YMLLRLWFV / 0.031\n",
            "\n"
          ]
        },
        {
          "output_type": "stream",
          "name": "stderr",
          "text": [
            "Fitting GP model (cpu): 24step [00:01, 12.40step/s, loss=1.44]\n"
          ]
        },
        {
          "output_type": "stream",
          "name": "stdout",
          "text": [
            "Best peptide: FMWCLKWLV / -0.060\n",
            "\n"
          ]
        }
      ]
    },
    {
      "cell_type": "code",
      "source": [
        "#@title Run a random search (for benchmark purpose)\n",
        "\n",
        "peptides = seed_library.copy()\n",
        "scores = scores_seed_library.copy()\n",
        "\n",
        "data = [('random', 0, p, s) for p, s in zip(peptides, scores)]\n",
        "\n",
        "pool = dataset[~dataset['peptide'].isin(peptides)].copy()\n",
        "\n",
        "for i in range(n_iterations):\n",
        "    suggested_peptides = np.random.choice(dataset['peptide'], size=batch_size, replace=False)\n",
        "    scores_suggested_peptides = [dataset[dataset['peptide'] == p]['score'].values[0] for p in suggested_peptides]\n",
        "\n",
        "    pool = pool[~pool['peptide'].isin(suggested_peptides)].copy()\n",
        "\n",
        "    peptides = np.concatenate([peptides, suggested_peptides])\n",
        "    scores = np.concatenate((scores, scores_suggested_peptides), axis=0)\n",
        "    data.extend([('random', i + 1, p, s) for p, s in zip(suggested_peptides, scores_suggested_peptides)])\n",
        "\n",
        "    if maximize:\n",
        "      best_seq = peptides[np.argmax(scores)]\n",
        "      best_scores = np.max(scores)\n",
        "    else:\n",
        "      best_seq = peptides[np.argmin(scores)]\n",
        "      best_scores = np.min(scores)\n",
        "\n",
        "    print('Best peptide: %s / %.3f' % (best_seq, best_scores))\n",
        "    print('')\n",
        "\n",
        "df = pd.DataFrame(data=data, columns=('model', 'iter', 'peptide', 'exp_score'))\n",
        "df.to_csv('results_optimization_random.csv', index=False)\n"
      ],
      "metadata": {
        "colab": {
          "base_uri": "https://localhost:8080/"
        },
        "cellView": "form",
        "id": "zi3h633JKJZU",
        "outputId": "9cb02687-2fb8-4245-b37b-a8c8520663c0"
      },
      "execution_count": 8,
      "outputs": [
        {
          "output_type": "stream",
          "name": "stdout",
          "text": [
            "Best peptide: GLFFVNYYP / 2.390\n",
            "\n",
            "Best peptide: GLFFVNYYP / 2.390\n",
            "\n",
            "Best peptide: QLINSLSAL / 2.264\n",
            "\n"
          ]
        }
      ]
    },
    {
      "cell_type": "code",
      "source": [
        "#@title Plot the resuts\n",
        "\n",
        "df_random = pd.read_csv('results_optimization_random.csv')\n",
        "df = pd.read_csv('results_optimization.csv')\n",
        "df = pd.concat([df_random, df])\n",
        "\n",
        "fig, ax = plt.subplots(1, 2, figsize=(20, 5))\n",
        "\n",
        "# pandas dataframe (df) columns: iter, peptide, exp_score\n",
        "d = {0: 'Init.'}\n",
        "d.update({n: str(n) for n in range(1, n_iterations + 1)})\n",
        "df['iter'] = df['iter'].replace(d)\n",
        "\n",
        "sns.lineplot(x='iter', y='exp_score', hue='model', data=df, ax=ax[0], errorbar=('ci', 95), err_style='bars', linewidth=3.5, err_kws={'lw': 3.5})\n",
        "\n",
        "if which_is_better == 'Lower':\n",
        "  ax[0].axhline(y=dataset['score'].min(), color='red', linestyle=':')\n",
        "  y = dataset['score'].min() + ((dataset['score'].max() - dataset['score'].min()) * 0.01)\n",
        "  ax[0].text(-0.15, y, 'Best score in the dataset', fontsize=15)\n",
        "else:\n",
        "  ax[0].axhline(y=dataset['score'].max(), color='red', linestyle=':')\n",
        "  y = dataset['score'].max() + ((dataset['score'].max() - dataset['score'].min()) * 0.01)\n",
        "  ax[0].text(-0.15, y, 'Best score in the dataset', fontsize=15)\n",
        "\n",
        "ymin = dataset['score'].min() - ((dataset['score'].max() - dataset['score'].min()) * 0.10)\n",
        "ymax = dataset['score'].max() + ((dataset['score'].max() - dataset['score'].min()) * 0.10)\n",
        "\n",
        "ax[0].set_xlim([-0.5, n_iterations + 0.5])\n",
        "ax[0].set_ylim([ymin, ymax])\n",
        "ax[0].set_ylabel('Score', fontsize=25)\n",
        "ax[0].set_xlabel('Generations', fontsize=25)\n",
        "ax[0].xaxis.set_tick_params(labelsize=25)\n",
        "ax[0].yaxis.set_tick_params(labelsize=25)\n",
        "\n",
        "df[df['model'] == 'random']['exp_score'].hist(ax=ax[1], density=False, alpha=0.65, bins=20)\n",
        "df[df['model'] == featurizer]['exp_score'].hist(ax=ax[1], density=False, alpha=0.65, bins=20)\n",
        "ax[1].set_xlim([ymin, ymax])\n",
        "ax[1].set_xlabel('Score', fontsize=25)\n",
        "ax[1].set_ylabel('#Peptides', fontsize=25)\n",
        "ax[1].xaxis.set_tick_params(labelsize=25)\n",
        "ax[1].yaxis.set_tick_params(labelsize=25)\n",
        "ax[1].set_title('')\n",
        "\n",
        "sns.despine()\n",
        "\n",
        "plt.savefig('figure_results_comparison.png', dpi=300, bbox_inches='tight')\n",
        "plt.show()\n"
      ],
      "metadata": {
        "colab": {
          "base_uri": "https://localhost:8080/",
          "height": 513
        },
        "cellView": "form",
        "id": "1ZSb7oS1GX7F",
        "outputId": "7dc77998-496c-494a-8521-f5314e066771"
      },
      "execution_count": 109,
      "outputs": [
        {
          "output_type": "display_data",
          "data": {
            "text/plain": [
              "<Figure size 2000x500 with 2 Axes>"
            ],
            "image/png": "[encoded data removed]"
          },
          "metadata": {}
        }
      ]
    }
  ]
}