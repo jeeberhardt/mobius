{
 "cells": [
  {
   "cell_type": "code",
   "execution_count": 1,
   "metadata": {
    "tags": []
   },
   "outputs": [],
   "source": [
    "%matplotlib inline\n",
    "%load_ext autoreload\n",
    "%autoreload 2"
   ]
  },
  {
   "cell_type": "code",
   "execution_count": 2,
   "metadata": {
    "tags": []
   },
   "outputs": [],
   "source": [
    "import numpy as np\n",
    "import pandas as pd\n",
    "import matplotlib.pyplot as plt\n",
    "import seaborn as sns\n",
    "from gpytorch.priors import NormalPrior\n",
    "from gpytorch.kernels import RBFKernel\n",
    "\n",
    "from mobius import Planner, SequenceGA\n",
    "from mobius import ProteinEmbedding\n",
    "from mobius import GPLLModel, ExpectedImprovement\n",
    "from mobius import LinearPeptideEmulator\n",
    "from mobius import homolog_scanning, alanine_scanning\n",
    "from mobius import convert_FASTA_to_HELM, convert_HELM_to_FASTA"
   ]
  },
  {
   "cell_type": "markdown",
   "metadata": {},
   "source": [
    "# Initialize MHC emulator"
   ]
  },
  {
   "cell_type": "code",
   "execution_count": 3,
   "metadata": {
    "tags": []
   },
   "outputs": [],
   "source": [
    "pssm_files = ['../data/IEDB_MHC_I-2.9_matx_smm_smmpmbec/smmpmbec_matrix/HLA-A-02:01-8.txt',\n",
    "              '../data/IEDB_MHC_I-2.9_matx_smm_smmpmbec/smmpmbec_matrix/HLA-A-02:01-9.txt',\n",
    "              '../data/IEDB_MHC_I-2.9_matx_smm_smmpmbec/smmpmbec_matrix/HLA-A-02:01-10.txt',\n",
    "              '../data/IEDB_MHC_I-2.9_matx_smm_smmpmbec/smmpmbec_matrix/HLA-A-02:01-11.txt']\n",
    "lpe = LinearPeptideEmulator(pssm_files)"
   ]
  },
  {
   "cell_type": "markdown",
   "metadata": {},
   "source": [
    "# Define lead peptide and create initial peptide batch"
   ]
  },
  {
   "cell_type": "code",
   "execution_count": 4,
   "metadata": {
    "tags": []
   },
   "outputs": [],
   "source": [
    "lead_peptide = convert_FASTA_to_HELM('HMTEVVRRC')[0]"
   ]
  },
  {
   "cell_type": "code",
   "execution_count": 5,
   "metadata": {
    "tags": []
   },
   "outputs": [
    {
     "name": "stdout",
     "output_type": "stream",
     "text": [
      "Reach max. number of peptides allowed.\n"
     ]
    }
   ],
   "source": [
    "seed_library = [lead_peptide]\n",
    "\n",
    "for seq in alanine_scanning(lead_peptide):\n",
    "    seed_library.append(seq)\n",
    "\n",
    "for seq in homolog_scanning(lead_peptide):\n",
    "    seed_library.append(seq)\n",
    "\n",
    "    if len(seed_library) >= 96:\n",
    "        print('Reach max. number of peptides allowed.')\n",
    "        break"
   ]
  },
  {
   "cell_type": "code",
   "execution_count": 6,
   "metadata": {
    "tags": []
   },
   "outputs": [],
   "source": [
    "pic50_seed_library = lpe.score(seed_library)\n",
    "seed_library = convert_HELM_to_FASTA(seed_library)"
   ]
  },
  {
   "cell_type": "markdown",
   "metadata": {},
   "source": [
    "# Initialize protein Language Model (pLM)"
   ]
  },
  {
   "cell_type": "code",
   "execution_count": 8,
   "metadata": {},
   "outputs": [],
   "source": [
    "pretrained_model_name = 'esm1b_t33_650M_UR50S' # 'Rostlab/prot_t5_xl_uniref50'\n",
    "\n",
    "finetuning = True\n",
    "lora_finetuning = False\n",
    "lora_rank = 8\n",
    "lora_alpha = lora_rank * 2\n",
    "    \n",
    "if finetuning:\n",
    "    if lora_finetuning:\n",
    "        # Do all layer, but only Q and V weights\n",
    "        if 'esm' in pretrained_model_name:\n",
    "            parameters_to_finetune = ['layers.*.self_attn.q_proj.weight', 'layers.*.self_attn.v_proj.weight']\n",
    "        elif \"Rostlab\" in pretrained_model_name:\n",
    "            parameters_to_finetune = ['encoder.block.*.layer.0.SelfAttention.q', 'encoder.block.*.layer.0.SelfAttention.v']\n",
    "        else:\n",
    "            print(\"Warning: cannot recognize pretrained model. No finetuning!\")\n",
    "            parameters_to_finetune = None\n",
    "    elif not lora_finetuning:\n",
    "        # only do last layer Q and V weights\n",
    "        if 'esm' in pretrained_model_name:\n",
    "            parameters_to_finetune = ['layers.32.self_attn.q_proj.weight', 'layers.32.self_attn.v_proj.weight']\n",
    "        elif \"Rostlab\" in pretrained_model_name:\n",
    "            parameters_to_finetune = ['encoder.block.23.layer.0.SelfAttention.q.weight', 'encoder.block.23.layer.0.SelfAttention.v.weight']\n",
    "        else:\n",
    "            print(\"Warning: cannot recognize pretrained model. No finetuning!\")\n",
    "            parameters_to_finetune = None\n",
    "            "
   ]
  },
  {
   "cell_type": "code",
   "execution_count": null,
   "metadata": {},
   "outputs": [],
   "source": [
    "if \"Rostlab\" in pretrained_model_name:\n",
    "    plm = ProteinEmbedding(pretrained_model_name=pretrained_model_name, embedding_type='avg', \n",
    "                           layers_to_finetune=parameters_to_finetune, lora=lora_finetuning, lora_rank=lora_rank, lora_alpha=lora_alpha,\n",
    "                            model_name='T5EncoderModel', tokenizer_name='T5Tokenizer')\n",
    "else:\n",
    "    plm = ProteinEmbedding(pretrained_model_name=pretrained_model_name, embedding_type='avg', \n",
    "                           layers_to_finetune=parameters_to_finetune, lora=lora_finetuning, lora_rank=lora_rank, lora_alpha=lora_alpha)\n"
   ]
  },
  {
   "cell_type": "markdown",
   "metadata": {},
   "source": [
    "# Define Gaussian Process, acquisition function and GA optimizer"
   ]
  },
  {
   "cell_type": "code",
   "execution_count": 8,
   "metadata": {
    "tags": []
   },
   "outputs": [],
   "source": [
    "gpmodel = GPLLModel(kernel=RBFKernel(), pretrained_model=plm, noise_prior=NormalPrior(loc=0, scale=1))"
   ]
  },
  {
   "cell_type": "code",
   "execution_count": 9,
   "metadata": {
    "tags": []
   },
   "outputs": [],
   "source": [
    "yaml_content = \"\"\"\n",
    "design:\n",
    "  monomers:\n",
    "    default: [A, C, D, E, F, G, H, I, K, L, M, N, P, Q, R, S, T, V, W, Y]\n",
    "    APOLAR: [A, F, G, I, L, P, V, W]\n",
    "    POLAR: [C, D, E, H, K, N, Q, R, K, S, T, M]\n",
    "    AROMATIC: [F, H, W, Y]\n",
    "    POS_CHARGED: [K, R]\n",
    "    NEG_CHARGED: [D, E]\n",
    "  biopolymers:\n",
    "    - name: PEPTIDE1\n",
    "      starting_residue: 1\n",
    "      length: 9\n",
    "      positions:\n",
    "        1-9: default\n",
    "\"\"\"\n",
    "\n",
    "with open('design_protocol.yaml', 'w') as f:\n",
    "    f.write(yaml_content)"
   ]
  },
  {
   "cell_type": "code",
   "execution_count": 14,
   "metadata": {
    "tags": []
   },
   "outputs": [],
   "source": [
    "ei = ExpectedImprovement(gpmodel, maximize=False)\n",
    "optimizer = SequenceGA(algorithm='GA', period=5, design_protocol_filename='design_protocol.yaml')\n",
    "ps = Planner(ei, optimizer)"
   ]
  },
  {
   "cell_type": "markdown",
   "metadata": {},
   "source": [
    "# Run optimization!"
   ]
  },
  {
   "cell_type": "code",
   "execution_count": 15,
   "metadata": {
    "tags": []
   },
   "outputs": [
    {
     "name": "stdout",
     "output_type": "stream",
     "text": [
      "==========================================================================================================================================\n",
      "n_gen  |  n_eval  |     cv_min    |     cv_avg    |        f_avg         |        f_min         |              best sequence              \n",
      "==========================================================================================================================================\n",
      "     1 |        0 |  0.000000E+00 |  0.1486486486 |  9.64239968253968094 |  8.54086000000000034 |      PEPTIDE1{H.M.T.E.V.V.R.R.L}$$$$V2.0\n",
      "     2 |      500 |  0.000000E+00 |  0.0640000000 |  1.25694862311931210 | -3.1966939441998E-01 |      PEPTIDE1{F.M.T.E.V.V.C.R.V}$$$$V2.0\n",
      "     3 |     1000 |  0.000000E+00 |  0.000000E+00 | -9.2990195655305E-02 | -5.1978735568213E-01 |      PEPTIDE1{F.M.M.E.V.V.R.R.V}$$$$V2.0\n",
      "     4 |     1500 |  0.000000E+00 |  0.000000E+00 | -1.5215198151053E-01 | -5.1978735568213E-01 |      PEPTIDE1{F.M.M.E.V.V.R.R.V}$$$$V2.0\n",
      "     5 |     2000 |  0.000000E+00 |  0.000000E+00 | -2.2367634241617E-01 | -7.2952968030298E-01 |      PEPTIDE1{H.M.M.E.V.V.L.R.V}$$$$V2.0\n",
      "     6 |     2500 |  0.000000E+00 |  0.000000E+00 | -2.9100283463950E-01 | -7.2952968030298E-01 |      PEPTIDE1{H.M.M.E.V.V.L.R.V}$$$$V2.0\n",
      "     7 |     3000 |  0.000000E+00 |  0.000000E+00 | -3.4703872740783E-01 | -7.2952968030298E-01 |      PEPTIDE1{H.M.M.E.V.V.L.R.V}$$$$V2.0\n",
      "     8 |     3500 |  0.000000E+00 |  0.000000E+00 | -3.9430321738531E-01 | -7.2952968030298E-01 |      PEPTIDE1{H.M.M.E.V.V.L.R.V}$$$$V2.0\n",
      "     9 |     4000 |  0.000000E+00 |  0.000000E+00 | -4.3224019629916E-01 | -7.2952968030298E-01 |      PEPTIDE1{H.M.M.E.V.V.L.R.V}$$$$V2.0\n",
      "    10 |     4500 |  0.000000E+00 |  0.000000E+00 | -4.5630658980148E-01 | -7.2952968030298E-01 |      PEPTIDE1{H.M.M.E.V.V.L.R.V}$$$$V2.0\n",
      "Best peptide found so far: PEPTIDE1{F.M.M.E.V.L.F.R.V}$$$$V2.0 / -0.811\n",
      "\n",
      "==========================================================================================================================================\n",
      "n_gen  |  n_eval  |     cv_min    |     cv_avg    |        f_avg         |        f_min         |              best sequence              \n",
      "==========================================================================================================================================\n",
      "     1 |        0 |  0.000000E+00 |  0.0459770115 |  8.58092168674698819 |  6.13100000000000023 |      PEPTIDE1{F.M.M.E.V.L.F.R.V}$$$$V2.0\n",
      "     2 |      500 |  0.000000E+00 |  0.000000E+00 |  1.03581019212813152 | -3.7985896457624E-02 |      PEPTIDE1{F.M.M.E.L.L.F.R.V}$$$$V2.0\n",
      "     3 |     1000 |  0.000000E+00 |  0.000000E+00 | -5.7525564015477E-04 | -3.7985896457624E-02 |      PEPTIDE1{F.M.M.E.L.L.F.R.V}$$$$V2.0\n",
      "     4 |     1500 |  0.000000E+00 |  0.000000E+00 | -1.5066795995890E-03 | -6.4717460524063E-02 |      PEPTIDE1{F.M.M.E.F.L.F.R.V}$$$$V2.0\n",
      "     5 |     2000 |  0.000000E+00 |  0.000000E+00 | -3.0121767166141E-03 | -6.4717460524063E-02 |      PEPTIDE1{F.M.M.E.F.L.F.R.V}$$$$V2.0\n",
      "     6 |     2500 |  0.000000E+00 |  0.000000E+00 | -4.9855714304717E-03 | -6.4717460524063E-02 |      PEPTIDE1{F.M.M.E.F.L.F.R.V}$$$$V2.0\n",
      "     7 |     3000 |  0.000000E+00 |  0.000000E+00 | -7.4940729829982E-03 | -6.4717460524063E-02 |      PEPTIDE1{F.M.M.E.F.L.F.R.V}$$$$V2.0\n",
      "     8 |     3500 |  0.000000E+00 |  0.000000E+00 | -9.5420115954218E-03 | -6.4717460524063E-02 |      PEPTIDE1{F.M.M.E.F.L.F.R.V}$$$$V2.0\n",
      "     9 |     4000 |  0.000000E+00 |  0.000000E+00 | -1.1109664473271E-02 | -6.4717460524063E-02 |      PEPTIDE1{F.M.M.E.F.L.F.R.V}$$$$V2.0\n",
      "Best peptide found so far: PEPTIDE1{F.M.M.D.Y.L.F.R.V}$$$$V2.0 / -1.167\n",
      "\n"
     ]
    },
    {
     "name": "stderr",
     "output_type": "stream",
     "text": [
      "/scicore/home/schwede/eberha0001/Applications/mambaforge/envs/mm/lib/python3.9/site-packages/botorch/optim/fit.py:130: OptimizationWarning: `scipy_minimize` terminated with status 3, displaying original message from `scipy.optimize.minimize`: ABNORMAL_TERMINATION_IN_LNSRCH\n",
      "  warn(\n"
     ]
    },
    {
     "name": "stdout",
     "output_type": "stream",
     "text": [
      "==========================================================================================================================================\n",
      "n_gen  |  n_eval  |     cv_min    |     cv_avg    |        f_avg         |        f_min         |              best sequence              \n",
      "==========================================================================================================================================\n",
      "     1 |        0 |  0.000000E+00 |  0.0371747212 |  8.39116602316602211 |  6.48700000000000010 |      PEPTIDE1{F.M.M.D.Y.L.F.R.V}$$$$V2.0\n",
      "     2 |      500 |  0.000000E+00 |  0.000000E+00 |  1.32293128547117300 | -9.3028446134861E-03 |      PEPTIDE1{F.M.M.E.D.V.Y.F.V}$$$$V2.0\n",
      "     3 |     1000 |  0.000000E+00 |  0.000000E+00 | -1.5249595217820E-04 | -1.0440498149125E-02 |      PEPTIDE1{F.M.M.E.D.L.Y.F.V}$$$$V2.0\n",
      "     4 |     1500 |  0.000000E+00 |  0.000000E+00 | -2.9101907299329E-04 | -1.1440334988665E-02 |      PEPTIDE1{Y.M.M.E.D.V.F.F.V}$$$$V2.0\n",
      "     5 |     2000 |  0.000000E+00 |  0.000000E+00 | -5.5748780929289E-04 | -2.3391011897083E-02 |      PEPTIDE1{Y.M.M.D.Y.V.F.E.V}$$$$V2.0\n",
      "     6 |     2500 |  0.000000E+00 |  0.000000E+00 | -8.2770841123541E-04 | -2.3391011897083E-02 |      PEPTIDE1{Y.M.M.D.Y.V.F.E.V}$$$$V2.0\n",
      "     7 |     3000 |  0.000000E+00 |  0.000000E+00 | -1.1794518567051E-03 | -2.3391011897083E-02 |      PEPTIDE1{Y.M.M.D.Y.V.F.E.V}$$$$V2.0\n",
      "     8 |     3500 |  0.000000E+00 |  0.000000E+00 | -1.6178650287703E-03 | -2.9617351034652E-02 |      PEPTIDE1{F.M.M.D.Y.V.F.E.V}$$$$V2.0\n",
      "     9 |     4000 |  0.000000E+00 |  0.000000E+00 | -2.0608057845288E-03 | -3.1014867399547E-02 |      PEPTIDE1{F.M.M.D.Y.L.F.E.V}$$$$V2.0\n",
      "    10 |     4500 |  0.000000E+00 |  0.000000E+00 | -2.6855384759174E-03 | -3.1014867399547E-02 |      PEPTIDE1{F.M.M.D.Y.L.F.E.V}$$$$V2.0\n",
      "    11 |     5000 |  0.000000E+00 |  0.000000E+00 | -3.2901479304062E-03 | -3.1014867399547E-02 |      PEPTIDE1{F.M.M.D.Y.L.F.E.V}$$$$V2.0\n",
      "    12 |     5500 |  0.000000E+00 |  0.000000E+00 | -3.8768876794750E-03 | -3.1014867399547E-02 |      PEPTIDE1{F.M.M.D.Y.L.F.E.V}$$$$V2.0\n",
      "    13 |     6000 |  0.000000E+00 |  0.000000E+00 | -4.5295590113848E-03 | -3.1014867399547E-02 |      PEPTIDE1{F.M.M.D.Y.L.F.E.V}$$$$V2.0\n",
      "    14 |     6500 |  0.000000E+00 |  0.000000E+00 | -5.1830626744278E-03 | -3.1014867399547E-02 |      PEPTIDE1{F.M.M.D.Y.L.F.E.V}$$$$V2.0\n",
      "Best peptide found so far: PEPTIDE1{F.M.M.D.Y.L.F.E.V}$$$$V2.0 / -1.473\n",
      "\n"
     ]
    }
   ],
   "source": [
    "peptides = seed_library.copy()\n",
    "pic50_scores = pic50_seed_library.copy()\n",
    "\n",
    "# Store data for later analysis\n",
    "data = [(0, p, s) for p, s in zip(peptides, pic50_scores)]\n",
    "\n",
    "for i in range(3):\n",
    "    suggested_peptides, _ = ps.recommend(peptides, pic50_scores.reshape(-1, 1), batch_size=96)\n",
    "\n",
    "    # Here you can add whatever methods you want to further filter out peptides\n",
    "\n",
    "    # Virtually test the suggested peptides using the MHC emulator\n",
    "    # You know the drill now, this is for benchmarking or demonstration\n",
    "    # purposes only and should be replaced with actual lab experiments.\n",
    "    pic50_suggested_peptides = lpe.score(convert_FASTA_to_HELM(suggested_peptides))\n",
    "\n",
    "    peptides = np.concatenate([peptides, suggested_peptides])\n",
    "    pic50_scores = np.concatenate((pic50_scores, pic50_suggested_peptides), axis=0)\n",
    "    data.extend([(i + 1, p, s) for p, s in zip(suggested_peptides, pic50_suggested_peptides)])\n",
    "\n",
    "    best_seq = peptides[np.argmin(pic50_scores)]\n",
    "    best_pic50 = np.min(pic50_scores)\n",
    "    print('Best peptide found so far: %s / %.3f' % (best_seq, best_pic50))\n",
    "    print('')\n",
    "\n",
    "df = pd.DataFrame(data=data, columns=('iter', 'polymer', 'exp_value'))"
   ]
  },
  {
   "cell_type": "code",
   "execution_count": 43,
   "metadata": {},
   "outputs": [
    {
     "data": {
      "image/png": "[encoded data removed]",
      "text/plain": [
       "<Figure size 2000x750 with 1 Axes>"
      ]
     },
     "metadata": {},
     "output_type": "display_data"
    }
   ],
   "source": [
    "fig, ax = plt.subplots(figsize=(20, 7.5))\n",
    "\n",
    "# pandas dataframe (df) columns: iter, peptide, exp_value\n",
    "df['iter'] = df['iter'].replace({0: 'Init.', 1: '1', 2: '2', 3: '3'})\n",
    "\n",
    "sns.lineplot(x='iter', y='exp_value', data=df, ax=ax, errorbar=('ci', 95), err_style='bars', linewidth=3.5, err_kws={'lw': 3.5})\n",
    "\n",
    "ax.set_xlim([-0.9, 3.5])\n",
    "ax.set_ylim([-2, 4.5])\n",
    "ax.set_ylabel('pIC50', fontsize=30)\n",
    "ax.set_xlabel('Generations', fontsize=30)\n",
    "ax.xaxis.set_tick_params(labelsize=30)\n",
    "ax.yaxis.set_tick_params(labelsize=30)\n",
    "\n",
    "sns.despine()\n",
    "plt.show()"
   ]
  },
  {
   "cell_type": "code",
   "execution_count": null,
   "metadata": {},
   "outputs": [],
   "source": []
  }
 ],
 "metadata": {
  "kernelspec": {
   "display_name": "Python 3 (ipykernel)",
   "language": "python",
   "name": "python3"
  },
  "language_info": {
   "codemirror_mode": {
    "name": "ipython",
    "version": 3
   },
   "file_extension": ".py",
   "mimetype": "text/x-python",
   "name": "python",
   "nbconvert_exporter": "python",
   "pygments_lexer": "ipython3",
   "version": "3.11.8"
  }
 },
 "nbformat": 4,
 "nbformat_minor": 4
}
