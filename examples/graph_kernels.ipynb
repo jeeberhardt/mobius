{
 "cells": [
  {
   "cell_type": "code",
   "execution_count": 1,
   "metadata": {
    "tags": []
   },
   "outputs": [],
   "source": [
    "%matplotlib inline\n",
    "%load_ext autoreload\n",
    "%autoreload 2"
   ]
  },
  {
   "cell_type": "code",
   "execution_count": 2,
   "metadata": {
    "tags": []
   },
   "outputs": [],
   "source": [
    "import numpy as np\n",
    "import pandas as pd\n",
    "import matplotlib.pyplot as plt\n",
    "import seaborn as sns\n",
    "from gpytorch.priors import NormalPrior\n",
    "from grakel.kernels import WeisfeilerLehman\n",
    "\n",
    "from mobius import Planner, SequenceGA\n",
    "from mobius import Graph, GPGKModel, ExpectedImprovement\n",
    "from mobius import LinearPeptideEmulator\n",
    "from mobius import homolog_scanning, alanine_scanning\n",
    "from mobius import convert_FASTA_to_HELM"
   ]
  },
  {
   "cell_type": "markdown",
   "metadata": {},
   "source": [
    "# Initialize MHC emulator"
   ]
  },
  {
   "cell_type": "code",
   "execution_count": 3,
   "metadata": {
    "tags": []
   },
   "outputs": [],
   "source": [
    "pssm_files = ['../data/IEDB_MHC_I-2.9_matx_smm_smmpmbec/smmpmbec_matrix/HLA-A-02:01-8.txt',\n",
    "              '../data/IEDB_MHC_I-2.9_matx_smm_smmpmbec/smmpmbec_matrix/HLA-A-02:01-9.txt',\n",
    "              '../data/IEDB_MHC_I-2.9_matx_smm_smmpmbec/smmpmbec_matrix/HLA-A-02:01-10.txt',\n",
    "              '../data/IEDB_MHC_I-2.9_matx_smm_smmpmbec/smmpmbec_matrix/HLA-A-02:01-11.txt']\n",
    "lpe = LinearPeptideEmulator(pssm_files)"
   ]
  },
  {
   "cell_type": "markdown",
   "metadata": {},
   "source": [
    "# Define lead peptide and create initial peptide batch"
   ]
  },
  {
   "cell_type": "code",
   "execution_count": 4,
   "metadata": {
    "tags": []
   },
   "outputs": [],
   "source": [
    "lead_peptide = convert_FASTA_to_HELM('HMTEVVRRC')[0]"
   ]
  },
  {
   "cell_type": "code",
   "execution_count": 5,
   "metadata": {
    "tags": []
   },
   "outputs": [
    {
     "name": "stdout",
     "output_type": "stream",
     "text": [
      "Reach max. number of peptides allowed.\n"
     ]
    }
   ],
   "source": [
    "seed_library = [lead_peptide]\n",
    "\n",
    "for seq in alanine_scanning(lead_peptide):\n",
    "    seed_library.append(seq)\n",
    "\n",
    "for seq in homolog_scanning(lead_peptide):\n",
    "    seed_library.append(seq)\n",
    "\n",
    "    if len(seed_library) >= 96:\n",
    "        print('Reach max. number of peptides allowed.')\n",
    "        break"
   ]
  },
  {
   "cell_type": "code",
   "execution_count": 6,
   "metadata": {
    "tags": []
   },
   "outputs": [],
   "source": [
    "pic50_seed_library = lpe.score(seed_library)"
   ]
  },
  {
   "cell_type": "markdown",
   "metadata": {},
   "source": [
    "# Define Gaussian Process, acquisition function and GA optimizer"
   ]
  },
  {
   "cell_type": "code",
   "execution_count": 25,
   "metadata": {
    "tags": []
   },
   "outputs": [],
   "source": [
    "graph_convertor = Graph(input_type='helm', output_type='grakel')\n",
    "kernel = WeisfeilerLehman(normalize=True)\n",
    "gpmodel = GPGKModel(kernel=kernel, transform=graph_convertor, noise_prior=NormalPrior(loc=0, scale=1))"
   ]
  },
  {
   "cell_type": "code",
   "execution_count": 26,
   "metadata": {
    "tags": []
   },
   "outputs": [],
   "source": [
    "yaml_content = \"\"\"\n",
    "design:\n",
    "  monomers:\n",
    "    default: [A, C, D, E, F, G, H, I, K, L, M, N, P, Q, R, S, T, V, W, Y]\n",
    "    APOLAR: [A, F, G, I, L, P, V, W]\n",
    "    POLAR: [C, D, E, H, K, N, Q, R, K, S, T, M]\n",
    "    AROMATIC: [F, H, W, Y]\n",
    "    POS_CHARGED: [K, R]\n",
    "    NEG_CHARGED: [D, E]\n",
    "  polymers:\n",
    "    - PEPTIDE1{X.M.X.X.X.X.X.X.X}$$$$V2.0:\n",
    "        PEPTIDE1:\n",
    "          1: [AROMATIC, NEG_CHARGED]\n",
    "          4: POLAR\n",
    "          9: [A, V, I, L, M, T]\n",
    "filters:\n",
    "  - class_path: mobius.PeptideSelfAggregationFilter\n",
    "  - class_path: mobius.PeptideSolubilityFilter\n",
    "    init_args:\n",
    "      hydrophobe_ratio: 0.5\n",
    "      charged_per_amino_acids: 5\n",
    "\"\"\"\n",
    "\n",
    "with open('design_protocol.yaml', 'w') as f:\n",
    "    f.write(yaml_content)"
   ]
  },
  {
   "cell_type": "code",
   "execution_count": 27,
   "metadata": {
    "tags": []
   },
   "outputs": [],
   "source": [
    "ei = ExpectedImprovement(gpmodel, maximize=False)\n",
    "optimizer = SequenceGA(algorithm='GA', period=15, n_pop=500, design_protocol_filename='design_protocol.yaml')\n",
    "ps = Planner(ei, optimizer)"
   ]
  },
  {
   "cell_type": "markdown",
   "metadata": {},
   "source": [
    "# Run optimization!"
   ]
  },
  {
   "cell_type": "code",
   "execution_count": 28,
   "metadata": {
    "tags": []
   },
   "outputs": [
    {
     "name": "stdout",
     "output_type": "stream",
     "text": [
      "==========================================================================================================================================\n",
      "n_gen  |  n_eval  |     cv_min    |     cv_avg    |        f_avg         |        f_min         |              best sequence              \n",
      "==========================================================================================================================================\n",
      "     1 |        0 |  0.000000E+00 |  0.1265822785 |  9.54677304347826094 |  8.42586000000000013 |      PEPTIDE1{H.M.T.E.V.V.R.R.L}$$$$V2.0\n",
      "     2 |      500 |  0.000000E+00 |  0.0300000000 |  1.10595906035527336 | -2.3548296042762E+00 |      PEPTIDE1{F.M.F.E.V.V.L.R.V}$$$$V2.0\n",
      "     3 |     1000 |  0.000000E+00 |  0.000000E+00 | -6.6635753721825E-01 | -3.0112562124721E+00 |      PEPTIDE1{D.M.L.E.I.V.P.M.L}$$$$V2.0\n",
      "     4 |     1500 |  0.000000E+00 |  0.000000E+00 | -1.1624028622028E+00 | -3.0112562124721E+00 |      PEPTIDE1{D.M.L.E.I.V.P.M.L}$$$$V2.0\n",
      "     5 |     2000 |  0.000000E+00 |  0.000000E+00 | -1.6662029247080E+00 | -3.4869005648600E+00 |      PEPTIDE1{E.M.T.D.M.L.D.M.V}$$$$V2.0\n",
      "     6 |     2500 |  0.000000E+00 |  0.000000E+00 | -2.1199789565477E+00 | -3.5927140513350E+00 |      PEPTIDE1{E.M.M.E.E.L.D.M.V}$$$$V2.0\n",
      "     7 |     3000 |  0.000000E+00 |  0.000000E+00 | -2.5208228741440E+00 | -3.8019575675428E+00 |      PEPTIDE1{F.M.M.E.L.D.A.M.V}$$$$V2.0\n",
      "     8 |     3500 |  0.000000E+00 |  0.000000E+00 | -2.8563403827104E+00 | -3.9740475734141E+00 |      PEPTIDE1{D.M.L.E.M.L.D.M.V}$$$$V2.0\n",
      "     9 |     4000 |  0.000000E+00 |  0.000000E+00 | -3.1805215855139E+00 | -4.0858190788662E+00 |      PEPTIDE1{E.M.L.E.M.M.L.D.V}$$$$V2.0\n",
      "    10 |     4500 |  0.000000E+00 |  0.000000E+00 | -3.4541718020117E+00 | -4.3883170833846E+00 |      PEPTIDE1{E.M.M.D.L.L.M.M.V}$$$$V2.0\n",
      "    11 |     5000 |  0.000000E+00 |  0.000000E+00 | -3.6746825447859E+00 | -4.4115069792894E+00 |      PEPTIDE1{E.M.M.D.L.M.M.L.V}$$$$V2.0\n",
      "    12 |     5500 |  0.000000E+00 |  0.000000E+00 | -3.8461340007216E+00 | -4.4642474082211E+00 |      PEPTIDE1{E.M.M.D.L.L.M.L.V}$$$$V2.0\n",
      "    13 |     6000 |  0.000000E+00 |  0.000000E+00 | -3.9613268011713E+00 | -4.4916325851686E+00 |      PEPTIDE1{E.M.M.M.L.L.D.L.V}$$$$V2.0\n",
      "    14 |     6500 |  0.000000E+00 |  0.000000E+00 | -4.0447051663167E+00 | -4.5475361460582E+00 |      PEPTIDE1{D.M.M.M.L.L.L.E.V}$$$$V2.0\n",
      "    15 |     7000 |  0.000000E+00 |  0.000000E+00 | -4.1066093115765E+00 | -4.5475361460582E+00 |      PEPTIDE1{D.M.M.M.L.L.L.E.V}$$$$V2.0\n",
      "    16 |     7500 |  0.000000E+00 |  0.000000E+00 | -4.1485156253279E+00 | -4.5475361460582E+00 |      PEPTIDE1{D.M.M.M.L.L.L.E.V}$$$$V2.0\n",
      "    17 |     8000 |  0.000000E+00 |  0.000000E+00 | -4.1777316087198E+00 | -4.5475361460582E+00 |      PEPTIDE1{D.M.M.M.L.L.L.E.V}$$$$V2.0\n",
      "    18 |     8500 |  0.000000E+00 |  0.000000E+00 | -4.2050789859080E+00 | -4.5475361460582E+00 |      PEPTIDE1{D.M.M.M.L.L.L.E.V}$$$$V2.0\n",
      "    19 |     9000 |  0.000000E+00 |  0.000000E+00 | -4.2248383082360E+00 | -4.5475361460582E+00 |      PEPTIDE1{D.M.M.M.L.L.L.E.V}$$$$V2.0\n",
      "    20 |     9500 |  0.000000E+00 |  0.000000E+00 | -4.2378469124347E+00 | -4.5475361460582E+00 |      PEPTIDE1{D.M.M.M.L.L.L.E.V}$$$$V2.0\n",
      "    21 |    10000 |  0.000000E+00 |  0.000000E+00 | -4.2470052609068E+00 | -4.5475361460582E+00 |      PEPTIDE1{D.M.M.M.L.L.L.E.V}$$$$V2.0\n",
      "    22 |    10500 |  0.000000E+00 |  0.000000E+00 | -4.2531764120801E+00 | -4.5475361460582E+00 |      PEPTIDE1{D.M.M.M.L.L.L.E.V}$$$$V2.0\n",
      "    23 |    11000 |  0.000000E+00 |  0.000000E+00 | -4.2559125510094E+00 | -4.5475361460582E+00 |      PEPTIDE1{D.M.M.M.L.L.L.E.V}$$$$V2.0\n",
      "    24 |    11500 |  0.000000E+00 |  0.000000E+00 | -4.2582770816230E+00 | -4.5475361460582E+00 |      PEPTIDE1{D.M.M.M.L.L.L.E.V}$$$$V2.0\n",
      "    25 |    12000 |  0.000000E+00 |  0.000000E+00 | -4.2595318081011E+00 | -4.5475361460582E+00 |      PEPTIDE1{D.M.M.M.L.L.L.E.V}$$$$V2.0\n",
      "    26 |    12500 |  0.000000E+00 |  0.000000E+00 | -4.2602883880407E+00 | -4.5475361460582E+00 |      PEPTIDE1{D.M.M.M.L.L.L.E.V}$$$$V2.0\n",
      "    27 |    13000 |  0.000000E+00 |  0.000000E+00 | -4.2617580878050E+00 | -4.5475361460582E+00 |      PEPTIDE1{D.M.M.M.L.L.L.E.V}$$$$V2.0\n",
      "    28 |    13500 |  0.000000E+00 |  0.000000E+00 | -4.2621123672179E+00 | -4.5475361460582E+00 |      PEPTIDE1{D.M.M.M.L.L.L.E.V}$$$$V2.0\n",
      "    29 |    14000 |  0.000000E+00 |  0.000000E+00 | -4.2622444712835E+00 | -4.5475361460582E+00 |      PEPTIDE1{D.M.M.M.L.L.L.E.V}$$$$V2.0\n",
      "Best peptide found so far: PEPTIDE1{F.M.M.D.L.L.L.E.V}$$$$V2.0 / -0.637\n",
      "\n",
      "==========================================================================================================================================\n",
      "n_gen  |  n_eval  |     cv_min    |     cv_avg    |        f_avg         |        f_min         |              best sequence              \n",
      "==========================================================================================================================================\n",
      "     1 |        0 |  0.000000E+00 |  0.0581395349 |  9.11680864197530738 |  5.95699999999999985 |      PEPTIDE1{F.M.M.D.L.L.L.E.V}$$$$V2.0\n",
      "     2 |      500 |  0.000000E+00 |  0.0280000000 |  3.03861281031402397 | -4.1538374820386E-02 |      PEPTIDE1{F.M.M.M.G.L.D.E.V}$$$$V2.0\n",
      "     3 |     1000 |  0.000000E+00 |  0.000000E+00 | -9.1375818023850E-04 | -5.0067491206531E-02 |      PEPTIDE1{F.M.M.E.L.D.D.E.V}$$$$V2.0\n",
      "     4 |     1500 |  0.000000E+00 |  0.000000E+00 | -3.3632836727852E-03 | -1.0144041677179E-01 |      PEPTIDE1{F.M.D.E.V.V.L.E.V}$$$$V2.0\n",
      "     5 |     2000 |  0.000000E+00 |  0.000000E+00 | -9.5509604710063E-03 | -1.0221274559183E-01 |      PEPTIDE1{F.M.D.D.L.V.D.E.V}$$$$V2.0\n",
      "     6 |     2500 |  0.000000E+00 |  0.000000E+00 | -2.2230200978022E-02 | -1.1089243325510E-01 |      PEPTIDE1{F.M.D.D.L.V.M.E.V}$$$$V2.0\n",
      "     7 |     3000 |  0.000000E+00 |  0.000000E+00 | -3.7738341124735E-02 | -1.1089243325510E-01 |      PEPTIDE1{F.M.D.D.L.V.M.E.V}$$$$V2.0\n",
      "     8 |     3500 |  0.000000E+00 |  0.000000E+00 | -5.2477003135357E-02 | -1.1348085219070E-01 |      PEPTIDE1{F.M.D.E.I.V.L.E.V}$$$$V2.0\n",
      "     9 |     4000 |  0.000000E+00 |  0.000000E+00 | -6.3842777602875E-02 | -1.2542751192376E-01 |      PEPTIDE1{F.M.D.E.V.P.M.E.V}$$$$V2.0\n",
      "    10 |     4500 |  0.000000E+00 |  0.000000E+00 | -7.2042796659172E-02 | -1.2987471471566E-01 |      PEPTIDE1{F.M.E.D.L.V.M.E.V}$$$$V2.0\n",
      "    11 |     5000 |  0.000000E+00 |  0.000000E+00 | -7.6956519939353E-02 | -1.2987471471566E-01 |      PEPTIDE1{F.M.E.D.L.V.M.E.V}$$$$V2.0\n",
      "    12 |     5500 |  0.000000E+00 |  0.000000E+00 | -8.0547429176813E-02 | -1.2987471471566E-01 |      PEPTIDE1{F.M.E.D.L.V.M.E.V}$$$$V2.0\n",
      "    13 |     6000 |  0.000000E+00 |  0.000000E+00 | -8.2695702975934E-02 | -1.3577111907694E-01 |      PEPTIDE1{F.M.E.D.L.I.M.E.V}$$$$V2.0\n",
      "    14 |     6500 |  0.000000E+00 |  0.000000E+00 | -8.4512903562752E-02 | -1.3577111907694E-01 |      PEPTIDE1{F.M.E.D.L.I.M.E.V}$$$$V2.0\n",
      "    15 |     7000 |  0.000000E+00 |  0.000000E+00 | -8.5611740609253E-02 | -1.3577111907694E-01 |      PEPTIDE1{F.M.E.D.L.I.M.E.V}$$$$V2.0\n",
      "    16 |     7500 |  0.000000E+00 |  0.000000E+00 | -8.6036335945261E-02 | -1.3577111907694E-01 |      PEPTIDE1{F.M.E.D.L.I.M.E.V}$$$$V2.0\n",
      "    17 |     8000 |  0.000000E+00 |  0.000000E+00 | -8.6590751794171E-02 | -1.3577111907694E-01 |      PEPTIDE1{F.M.E.D.L.I.M.E.V}$$$$V2.0\n",
      "    18 |     8500 |  0.000000E+00 |  0.000000E+00 | -8.6862274709865E-02 | -1.3577111907694E-01 |      PEPTIDE1{F.M.E.D.L.I.M.E.V}$$$$V2.0\n",
      "    19 |     9000 |  0.000000E+00 |  0.000000E+00 | -8.7239263621479E-02 | -1.3577111907694E-01 |      PEPTIDE1{F.M.E.D.L.I.M.E.V}$$$$V2.0\n",
      "    20 |     9500 |  0.000000E+00 |  0.000000E+00 | -8.7601930529862E-02 | -1.3577111907694E-01 |      PEPTIDE1{F.M.E.D.L.I.M.E.V}$$$$V2.0\n",
      "    21 |    10000 |  0.000000E+00 |  0.000000E+00 | -8.8173568208096E-02 | -1.3577111907694E-01 |      PEPTIDE1{F.M.E.D.L.I.M.E.V}$$$$V2.0\n",
      "    22 |    10500 |  0.000000E+00 |  0.000000E+00 | -8.8703891399797E-02 | -1.3577111907694E-01 |      PEPTIDE1{F.M.E.D.L.I.M.E.V}$$$$V2.0\n",
      "    23 |    11000 |  0.000000E+00 |  0.000000E+00 | -8.8982188573249E-02 | -1.3577111907694E-01 |      PEPTIDE1{F.M.E.D.L.I.M.E.V}$$$$V2.0\n",
      "    24 |    11500 |  0.000000E+00 |  0.000000E+00 | -8.9282739973614E-02 | -1.3577111907694E-01 |      PEPTIDE1{F.M.E.D.L.I.M.E.V}$$$$V2.0\n",
      "    25 |    12000 |  0.000000E+00 |  0.000000E+00 | -8.9389144617562E-02 | -1.3577111907694E-01 |      PEPTIDE1{F.M.E.D.L.I.M.E.V}$$$$V2.0\n",
      "    26 |    12500 |  0.000000E+00 |  0.000000E+00 | -8.9427359472299E-02 | -1.3577111907694E-01 |      PEPTIDE1{F.M.E.D.L.I.M.E.V}$$$$V2.0\n",
      "    27 |    13000 |  0.000000E+00 |  0.000000E+00 | -8.9469487534911E-02 | -1.3577111907694E-01 |      PEPTIDE1{F.M.E.D.L.I.M.E.V}$$$$V2.0\n",
      "    28 |    13500 |  0.000000E+00 |  0.000000E+00 | -8.9488733086081E-02 | -1.3577111907694E-01 |      PEPTIDE1{F.M.E.D.L.I.M.E.V}$$$$V2.0\n",
      "Best peptide found so far: PEPTIDE1{F.M.M.D.L.L.L.E.V}$$$$V2.0 / -0.637\n",
      "\n",
      "==========================================================================================================================================\n",
      "n_gen  |  n_eval  |     cv_min    |     cv_avg    |        f_avg         |        f_min         |              best sequence              \n",
      "==========================================================================================================================================\n",
      "     1 |        0 |  0.000000E+00 |  0.0408921933 |  8.43354651162790603 |  5.95699999999999985 |      PEPTIDE1{F.M.M.D.L.L.L.E.V}$$$$V2.0\n",
      "     2 |      500 |  0.000000E+00 |  0.000000E+00 |  2.16607204876602388 | -7.9356065703108E-03 |      PEPTIDE1{F.M.D.E.I.M.D.L.V}$$$$V2.0\n",
      "     3 |     1000 |  0.000000E+00 |  0.000000E+00 | -4.9358121396185E-04 | -7.9356065703108E-03 |      PEPTIDE1{F.M.D.E.I.M.D.L.V}$$$$V2.0\n",
      "     4 |     1500 |  0.000000E+00 |  0.000000E+00 | -9.9160797701364E-04 | -1.0514015667126E-02 |      PEPTIDE1{F.M.M.D.V.I.V.E.L}$$$$V2.0\n",
      "     5 |     2000 |  0.000000E+00 |  0.000000E+00 | -1.7558860715990E-03 | -1.4327220885447E-02 |      PEPTIDE1{F.M.D.E.G.I.V.M.V}$$$$V2.0\n",
      "     6 |     2500 |  0.000000E+00 |  0.000000E+00 | -2.5013230230610E-03 | -1.4327220885447E-02 |      PEPTIDE1{F.M.D.E.G.I.V.M.V}$$$$V2.0\n",
      "     7 |     3000 |  0.000000E+00 |  0.000000E+00 | -3.2197367158484E-03 | -1.5475383494428E-02 |      PEPTIDE1{F.M.M.D.L.I.V.E.V}$$$$V2.0\n",
      "     8 |     3500 |  0.000000E+00 |  0.000000E+00 | -3.9163966480914E-03 | -1.5475383494428E-02 |      PEPTIDE1{F.M.M.D.L.I.V.E.V}$$$$V2.0\n",
      "     9 |     4000 |  0.000000E+00 |  0.000000E+00 | -4.6846854239504E-03 | -1.5475383494428E-02 |      PEPTIDE1{F.M.M.D.L.I.V.E.V}$$$$V2.0\n",
      "    10 |     4500 |  0.000000E+00 |  0.000000E+00 | -5.3318838413972E-03 | -1.7080578849739E-02 |      PEPTIDE1{F.M.D.E.V.I.V.M.V}$$$$V2.0\n",
      "    11 |     5000 |  0.000000E+00 |  0.000000E+00 | -5.9143139280791E-03 | -1.7772653743509E-02 |      PEPTIDE1{F.M.D.E.V.I.V.M.I}$$$$V2.0\n",
      "    12 |     5500 |  0.000000E+00 |  0.000000E+00 | -6.4928083764866E-03 | -2.1619536469050E-02 |      PEPTIDE1{F.M.D.E.V.M.D.L.L}$$$$V2.0\n",
      "    13 |     6000 |  0.000000E+00 |  0.000000E+00 | -7.0365660676001E-03 | -2.3110357754009E-02 |      PEPTIDE1{F.M.D.E.V.I.M.M.L}$$$$V2.0\n",
      "    14 |     6500 |  0.000000E+00 |  0.000000E+00 | -7.4327550580841E-03 | -2.3110357754009E-02 |      PEPTIDE1{F.M.D.E.V.I.M.M.L}$$$$V2.0\n",
      "    15 |     7000 |  0.000000E+00 |  0.000000E+00 | -7.9587139650476E-03 | -2.3110357754009E-02 |      PEPTIDE1{F.M.D.E.V.I.M.M.L}$$$$V2.0\n",
      "    16 |     7500 |  0.000000E+00 |  0.000000E+00 | -8.3375370020897E-03 | -2.9006405790081E-02 |      PEPTIDE1{F.M.D.E.V.I.V.M.L}$$$$V2.0\n",
      "    17 |     8000 |  0.000000E+00 |  0.000000E+00 | -8.6082777397922E-03 | -2.9006405790081E-02 |      PEPTIDE1{F.M.D.E.V.I.V.M.L}$$$$V2.0\n",
      "    18 |     8500 |  0.000000E+00 |  0.000000E+00 | -8.8212015819484E-03 | -2.9006405790081E-02 |      PEPTIDE1{F.M.D.E.V.I.V.M.L}$$$$V2.0\n",
      "    19 |     9000 |  0.000000E+00 |  0.000000E+00 | -9.1086703818842E-03 | -2.9006405790081E-02 |      PEPTIDE1{F.M.D.E.V.I.V.M.L}$$$$V2.0\n",
      "    20 |     9500 |  0.000000E+00 |  0.000000E+00 | -9.4467043916278E-03 | -2.9006405790081E-02 |      PEPTIDE1{F.M.D.E.V.I.V.M.L}$$$$V2.0\n",
      "    21 |    10000 |  0.000000E+00 |  0.000000E+00 | -9.8680813583860E-03 | -2.9006405790081E-02 |      PEPTIDE1{F.M.D.E.V.I.V.M.L}$$$$V2.0\n",
      "    22 |    10500 |  0.000000E+00 |  0.000000E+00 | -1.0187629156269E-02 | -2.9006405790081E-02 |      PEPTIDE1{F.M.D.E.V.I.V.M.L}$$$$V2.0\n",
      "    23 |    11000 |  0.000000E+00 |  0.000000E+00 | -1.0456696363540E-02 | -2.9006405790081E-02 |      PEPTIDE1{F.M.D.E.V.I.V.M.L}$$$$V2.0\n",
      "    24 |    11500 |  0.000000E+00 |  0.000000E+00 | -1.0732224234197E-02 | -2.9006405790081E-02 |      PEPTIDE1{F.M.D.E.V.I.V.M.L}$$$$V2.0\n",
      "    25 |    12000 |  0.000000E+00 |  0.000000E+00 | -1.0980471516545E-02 | -2.9006405790081E-02 |      PEPTIDE1{F.M.D.E.V.I.V.M.L}$$$$V2.0\n",
      "    26 |    12500 |  0.000000E+00 |  0.000000E+00 | -1.1106303650839E-02 | -2.9006405790081E-02 |      PEPTIDE1{F.M.D.E.V.I.V.M.L}$$$$V2.0\n",
      "    27 |    13000 |  0.000000E+00 |  0.000000E+00 | -1.1228998645002E-02 | -2.9006405790081E-02 |      PEPTIDE1{F.M.D.E.V.I.V.M.L}$$$$V2.0\n",
      "    28 |    13500 |  0.000000E+00 |  0.000000E+00 | -1.1317746238291E-02 | -2.9006405790081E-02 |      PEPTIDE1{F.M.D.E.V.I.V.M.L}$$$$V2.0\n",
      "    29 |    14000 |  0.000000E+00 |  0.000000E+00 | -1.1352901880751E-02 | -2.9006405790081E-02 |      PEPTIDE1{F.M.D.E.V.I.V.M.L}$$$$V2.0\n",
      "    30 |    14500 |  0.000000E+00 |  0.000000E+00 | -1.1412513778362E-02 | -2.9006405790081E-02 |      PEPTIDE1{F.M.D.E.V.I.V.M.L}$$$$V2.0\n",
      "    31 |    15000 |  0.000000E+00 |  0.000000E+00 | -1.1457486719083E-02 | -2.9006405790081E-02 |      PEPTIDE1{F.M.D.E.V.I.V.M.L}$$$$V2.0\n",
      "Best peptide found so far: PEPTIDE1{F.M.M.D.L.V.I.E.V}$$$$V2.0 / -0.725\n",
      "\n"
     ]
    }
   ],
   "source": [
    "peptides = seed_library.copy()\n",
    "pic50_scores = pic50_seed_library.copy()\n",
    "\n",
    "# Store data for later analysis\n",
    "data = [(0, p, s) for p, s in zip(peptides, pic50_scores)]\n",
    "\n",
    "for i in range(3):\n",
    "    suggested_peptides, _ = ps.recommend(peptides, pic50_scores.reshape(-1, 1), batch_size=96)\n",
    "\n",
    "    # Here you can add whatever methods you want to further filter out peptides\n",
    "\n",
    "    # Virtually test the suggested peptides using the MHC emulator\n",
    "    # You know the drill now, this is for benchmarking or demonstration\n",
    "    # purposes only and should be replaced with actual lab experiments.\n",
    "    pic50_suggested_peptides = lpe.score(suggested_peptides)\n",
    "\n",
    "    peptides = np.concatenate([peptides, suggested_peptides])\n",
    "    pic50_scores = np.concatenate((pic50_scores, pic50_suggested_peptides), axis=0)\n",
    "    data.extend([(i + 1, p, s) for p, s in zip(suggested_peptides, pic50_suggested_peptides)])\n",
    "\n",
    "    best_seq = peptides[np.argmin(pic50_scores)]\n",
    "    best_pic50 = np.min(pic50_scores)\n",
    "    print('Best peptide found so far: %s / %.3f' % (best_seq, best_pic50))\n",
    "    print('')\n",
    "\n",
    "df = pd.DataFrame(data=data, columns=('iter', 'polymer', 'exp_value'))"
   ]
  },
  {
   "cell_type": "code",
   "execution_count": 29,
   "metadata": {},
   "outputs": [
    {
     "data": {
      "image/png": "[encoded data removed]",
      "text/plain": [
       "<Figure size 2000x750 with 1 Axes>"
      ]
     },
     "metadata": {},
     "output_type": "display_data"
    }
   ],
   "source": [
    "fig, ax = plt.subplots(figsize=(20, 7.5))\n",
    "\n",
    "# pandas dataframe (df) columns: iter, peptide, exp_value\n",
    "df['iter'] = df['iter'].replace({0: 'Init.', 1: '1', 2: '2', 3: '3'})\n",
    "\n",
    "sns.lineplot(x='iter', y='exp_value', data=df, ax=ax, errorbar=('ci', 95), err_style='bars', linewidth=3.5, err_kws={'lw': 3.5})\n",
    "\n",
    "ax.set_xlim([-0.9, 3.5])\n",
    "ax.set_ylim([-2, 4.5])\n",
    "ax.set_ylabel('pIC50', fontsize=30)\n",
    "ax.set_xlabel('Generations', fontsize=30)\n",
    "ax.xaxis.set_tick_params(labelsize=30)\n",
    "ax.yaxis.set_tick_params(labelsize=30)\n",
    "\n",
    "sns.despine()\n",
    "plt.show()"
   ]
  },
  {
   "cell_type": "code",
   "execution_count": null,
   "metadata": {},
   "outputs": [],
   "source": []
  }
 ],
 "metadata": {
  "kernelspec": {
   "display_name": "Python [conda env:mambaforge-mobius-ubuntu]",
   "language": "python",
   "name": "conda-env-mambaforge-mobius-ubuntu-py"
  },
  "language_info": {
   "codemirror_mode": {
    "name": "ipython",
    "version": 3
   },
   "file_extension": ".py",
   "mimetype": "text/x-python",
   "name": "python",
   "nbconvert_exporter": "python",
   "pygments_lexer": "ipython3",
   "version": "3.11.0"
  }
 },
 "nbformat": 4,
 "nbformat_minor": 4
}
