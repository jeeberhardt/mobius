{
 "cells": [
  {
   "cell_type": "code",
   "execution_count": 1,
   "metadata": {
    "tags": []
   },
   "outputs": [],
   "source": [
    "%matplotlib inline\n",
    "%load_ext autoreload\n",
    "%autoreload 2"
   ]
  },
  {
   "cell_type": "code",
   "execution_count": 22,
   "metadata": {
    "tags": []
   },
   "outputs": [],
   "source": [
    "import numpy as np\n",
    "import pandas as pd\n",
    "import matplotlib.pyplot as plt\n",
    "import seaborn as sns\n",
    "import torch\n",
    "from torch_geometric.nn.models import GIN, GAT, AttentiveFP, PNA\n",
    "from gpytorch.kernels import RBFKernel\n",
    "from torch_geometric.nn import global_mean_pool\n",
    "\n",
    "from mobius import Planner, SequenceGA\n",
    "from mobius import Graph, GPGNNModel, ExpectedImprovement\n",
    "from mobius import LinearPeptideEmulator\n",
    "from mobius import homolog_scanning, alanine_scanning\n",
    "from mobius import convert_FASTA_to_HELM"
   ]
  },
  {
   "cell_type": "markdown",
   "metadata": {},
   "source": [
    "# Initialize MHC emulator"
   ]
  },
  {
   "cell_type": "code",
   "execution_count": 3,
   "metadata": {
    "tags": []
   },
   "outputs": [],
   "source": [
    "pssm_files = ['../IEDB_MHC_I-2.9_matx_smm_smmpmbec/smmpmbec_matrix/HLA-A-02:01-8.txt',\n",
    "              '../IEDB_MHC_I-2.9_matx_smm_smmpmbec/smmpmbec_matrix/HLA-A-02:01-9.txt',\n",
    "              '../IEDB_MHC_I-2.9_matx_smm_smmpmbec/smmpmbec_matrix/HLA-A-02:01-10.txt',\n",
    "              '../IEDB_MHC_I-2.9_matx_smm_smmpmbec/smmpmbec_matrix/HLA-A-02:01-11.txt']\n",
    "lpe = LinearPeptideEmulator(pssm_files)"
   ]
  },
  {
   "cell_type": "markdown",
   "metadata": {},
   "source": [
    "# Define lead peptide and create initial peptide batch"
   ]
  },
  {
   "cell_type": "code",
   "execution_count": 4,
   "metadata": {
    "tags": []
   },
   "outputs": [],
   "source": [
    "lead_peptide = convert_FASTA_to_HELM('HMTEVVRRC')[0]"
   ]
  },
  {
   "cell_type": "code",
   "execution_count": 5,
   "metadata": {
    "tags": []
   },
   "outputs": [
    {
     "name": "stdout",
     "output_type": "stream",
     "text": [
      "Reach max. number of peptides allowed.\n"
     ]
    }
   ],
   "source": [
    "seed_library = [lead_peptide]\n",
    "\n",
    "for seq in alanine_scanning(lead_peptide):\n",
    "    seed_library.append(seq)\n",
    "\n",
    "for seq in homolog_scanning(lead_peptide):\n",
    "    seed_library.append(seq)\n",
    "\n",
    "    if len(seed_library) >= 96:\n",
    "        print('Reach max. number of peptides allowed.')\n",
    "        break"
   ]
  },
  {
   "cell_type": "code",
   "execution_count": 6,
   "metadata": {
    "tags": []
   },
   "outputs": [],
   "source": [
    "pic50_seed_library = lpe.score(seed_library)"
   ]
  },
  {
   "cell_type": "markdown",
   "metadata": {},
   "source": [
    "# Define Gaussian Process, acquisition function and GA optimizer"
   ]
  },
  {
   "cell_type": "code",
   "execution_count": 23,
   "metadata": {},
   "outputs": [],
   "source": [
    "class GNNModel(torch.nn.Module):\n",
    "    def __init__(self, in_channels, hidden_channels, out_channels, num_layers, dropout):\n",
    "        super(GNNModel, self).__init__()\n",
    "\n",
    "        self.model = GIN(in_channels=in_channels, hidden_channels=hidden_channels, num_layers=num_layers, out_channels=out_channels, dropout=dropout)\n",
    "        \n",
    "        self._reset_parameters()\n",
    "\n",
    "    def _reset_parameters(self):\n",
    "        r\"\"\"Initiate parameters in the transformer model.\"\"\"\n",
    "\n",
    "        for p in self.parameters():\n",
    "            if p.dim() > 1:\n",
    "                torch.nn.init.xavier_uniform_(p)\n",
    "\n",
    "    def forward(self, x):\n",
    "        node_attr, edge_index, edge_attr, batch = x.node_attr, x.edge_index, x.edge_attr, x.batch\n",
    "        x = self.model(x=node_attr, edge_index=edge_index, edge_attr=edge_attr, batch=batch)\n",
    "        x = global_mean_pool(x, batch)\n",
    "\n",
    "        return x"
   ]
  },
  {
   "cell_type": "code",
   "execution_count": 24,
   "metadata": {
    "tags": []
   },
   "outputs": [],
   "source": [
    "graph_convertor = Graph(input_type='helm', output_type='pyg')"
   ]
  },
  {
   "cell_type": "code",
   "execution_count": 25,
   "metadata": {},
   "outputs": [],
   "source": [
    "graphs = graph_convertor.transform(lead_peptide)\n",
    "gnn = GNNModel(in_channels=graphs.node_attr.shape[1], hidden_channels=128, out_channels=128, num_layers=1, dropout=0.25)"
   ]
  },
  {
   "cell_type": "code",
   "execution_count": 26,
   "metadata": {},
   "outputs": [],
   "source": [
    "gpmodel = GPGNNModel(kernel=RBFKernel(), model=gnn, transform=graph_convertor)"
   ]
  },
  {
   "cell_type": "code",
   "execution_count": 27,
   "metadata": {
    "tags": []
   },
   "outputs": [],
   "source": [
    "yaml_content = \"\"\"\n",
    "design:\n",
    "  monomers:\n",
    "    default: [A, C, D, E, F, G, H, I, K, L, M, N, P, Q, R, S, T, V, W, Y]\n",
    "    APOLAR: [A, F, G, I, L, P, V, W]\n",
    "    POLAR: [C, D, E, H, K, N, Q, R, K, S, T, M]\n",
    "    AROMATIC: [F, H, W, Y]\n",
    "    POS_CHARGED: [K, R]\n",
    "    NEG_CHARGED: [D, E]\n",
    "  polymers:\n",
    "    - PEPTIDE1{X.M.X.X.X.X.X.X.X}$$$$V2.0:\n",
    "        PEPTIDE1:\n",
    "          1: [AROMATIC, NEG_CHARGED]\n",
    "          4: POLAR\n",
    "          9: [A, V, I, L, M, T]\n",
    "filters:\n",
    "  - class_path: mobius.PeptideSelfAggregationFilter\n",
    "  - class_path: mobius.PeptideSolubilityFilter\n",
    "    init_args:\n",
    "      hydrophobe_ratio: 0.5\n",
    "      charged_per_amino_acids: 5\n",
    "\"\"\"\n",
    "\n",
    "with open('design_protocol.yaml', 'w') as f:\n",
    "    f.write(yaml_content)"
   ]
  },
  {
   "cell_type": "code",
   "execution_count": 28,
   "metadata": {
    "tags": []
   },
   "outputs": [],
   "source": [
    "ei = ExpectedImprovement(gpmodel, maximize=False)\n",
    "optimizer = SequenceGA(algorithm='GA', period=15, n_pop=500, design_protocol_filename='design_protocol.yaml')\n",
    "ps = Planner(ei, optimizer)"
   ]
  },
  {
   "cell_type": "markdown",
   "metadata": {},
   "source": [
    "# Run optimization!"
   ]
  },
  {
   "cell_type": "code",
   "execution_count": 29,
   "metadata": {
    "tags": []
   },
   "outputs": [
    {
     "name": "stdout",
     "output_type": "stream",
     "text": [
      "==========================================================================================================================================\n",
      "n_gen  |  n_eval  |     cv_min    |     cv_avg    |        f_avg         |        f_min         |              best sequence              \n",
      "==========================================================================================================================================\n",
      "     1 |        0 |  0.000000E+00 |  0.1184210526 |  9.14948686567164238 |  8.04386000000000045 |      PEPTIDE1{H.M.T.E.V.V.R.R.L}$$$$V2.0\n",
      "     2 |      500 |  0.000000E+00 |  0.0460000000 |  1.23615670450321380 | -9.9180360625783E-01 |      PEPTIDE1{W.M.V.E.V.V.R.R.A}$$$$V2.0\n",
      "     3 |     1000 |  0.000000E+00 |  0.000000E+00 | -1.1771919918342E-01 | -1.0402033595935E+00 |      PEPTIDE1{F.M.S.E.V.V.R.R.V}$$$$V2.0\n",
      "     4 |     1500 |  0.000000E+00 |  0.000000E+00 | -2.5849398005865E-01 | -1.0402033595935E+00 |      PEPTIDE1{F.M.S.E.V.V.R.R.V}$$$$V2.0\n",
      "     5 |     2000 |  0.000000E+00 |  0.000000E+00 | -4.9129754921050E-01 | -1.0541995782825E+00 |      PEPTIDE1{F.M.A.E.V.V.R.R.I}$$$$V2.0\n",
      "     6 |     2500 |  0.000000E+00 |  0.000000E+00 | -7.6161125631847E-01 | -1.0590657992869E+00 |      PEPTIDE1{E.M.T.E.A.V.A.R.V}$$$$V2.0\n",
      "     7 |     3000 |  0.000000E+00 |  0.000000E+00 | -8.9578396476070E-01 | -1.0590657992869E+00 |      PEPTIDE1{E.M.T.E.A.V.A.R.V}$$$$V2.0\n",
      "     8 |     3500 |  0.000000E+00 |  0.000000E+00 | -9.4623122992685E-01 | -1.0590657992869E+00 |      PEPTIDE1{E.M.T.E.A.V.A.R.V}$$$$V2.0\n",
      "     9 |     4000 |  0.000000E+00 |  0.000000E+00 | -9.7708155046662E-01 | -1.0590657992869E+00 |      PEPTIDE1{E.M.T.E.A.V.A.R.V}$$$$V2.0\n",
      "    10 |     4500 |  0.000000E+00 |  0.000000E+00 | -9.9338399248143E-01 | -1.0591345912444E+00 |      PEPTIDE1{F.M.T.E.E.F.R.R.V}$$$$V2.0\n",
      "    11 |     5000 |  0.000000E+00 |  0.000000E+00 | -1.0056876516907E+00 | -1.0591359701759E+00 |      PEPTIDE1{E.M.F.E.V.F.R.R.T}$$$$V2.0\n",
      "    12 |     5500 |  0.000000E+00 |  0.000000E+00 | -1.0138621328398E+00 | -1.0591359701759E+00 |      PEPTIDE1{E.M.F.E.V.F.R.R.T}$$$$V2.0\n",
      "    13 |     6000 |  0.000000E+00 |  0.000000E+00 | -1.0174452751659E+00 | -1.0591359701759E+00 |      PEPTIDE1{E.M.F.E.V.F.R.R.T}$$$$V2.0\n",
      "    14 |     6500 |  0.000000E+00 |  0.000000E+00 | -1.0211353986242E+00 | -1.0591359701759E+00 |      PEPTIDE1{E.M.F.E.V.F.R.R.T}$$$$V2.0\n",
      "    15 |     7000 |  0.000000E+00 |  0.000000E+00 | -1.0257691414811E+00 | -1.0605093865356E+00 |      PEPTIDE1{D.M.A.E.G.D.R.R.L}$$$$V2.0\n",
      "    16 |     7500 |  0.000000E+00 |  0.000000E+00 | -1.0284767634919E+00 | -1.0605093865356E+00 |      PEPTIDE1{D.M.A.E.G.D.R.R.L}$$$$V2.0\n",
      "    17 |     8000 |  0.000000E+00 |  0.000000E+00 | -1.0302504758038E+00 | -1.0605093865356E+00 |      PEPTIDE1{D.M.A.E.G.D.R.R.L}$$$$V2.0\n",
      "    18 |     8500 |  0.000000E+00 |  0.000000E+00 | -1.0323443516810E+00 | -1.0605093865356E+00 |      PEPTIDE1{D.M.A.E.G.D.R.R.L}$$$$V2.0\n",
      "    19 |     9000 |  0.000000E+00 |  0.000000E+00 | -1.0344594080953E+00 | -1.0605093865356E+00 |      PEPTIDE1{D.M.A.E.G.D.R.R.L}$$$$V2.0\n",
      "    20 |     9500 |  0.000000E+00 |  0.000000E+00 | -1.0359310854611E+00 | -1.0605093865356E+00 |      PEPTIDE1{D.M.A.E.G.D.R.R.L}$$$$V2.0\n",
      "    21 |    10000 |  0.000000E+00 |  0.000000E+00 | -1.0373380155194E+00 | -1.0605093865356E+00 |      PEPTIDE1{D.M.A.E.G.D.R.R.L}$$$$V2.0\n",
      "    22 |    10500 |  0.000000E+00 |  0.000000E+00 | -1.0388609246474E+00 | -1.0605093865356E+00 |      PEPTIDE1{D.M.A.E.G.D.R.R.L}$$$$V2.0\n",
      "    23 |    11000 |  0.000000E+00 |  0.000000E+00 | -1.0398396037095E+00 | -1.0605093865356E+00 |      PEPTIDE1{D.M.A.E.G.D.R.R.L}$$$$V2.0\n",
      "    24 |    11500 |  0.000000E+00 |  0.000000E+00 | -1.0407271134553E+00 | -1.0606196885032E+00 |      PEPTIDE1{D.M.V.E.A.V.K.K.A}$$$$V2.0\n",
      "    25 |    12000 |  0.000000E+00 |  0.000000E+00 | -1.0417387568772E+00 | -1.0606196885032E+00 |      PEPTIDE1{D.M.V.E.A.V.K.K.A}$$$$V2.0\n",
      "    26 |    12500 |  0.000000E+00 |  0.000000E+00 | -1.0424839504826E+00 | -1.0606196885032E+00 |      PEPTIDE1{D.M.V.E.A.V.K.K.A}$$$$V2.0\n",
      "    27 |    13000 |  0.000000E+00 |  0.000000E+00 | -1.0429426932761E+00 | -1.0606196885032E+00 |      PEPTIDE1{D.M.V.E.A.V.K.K.A}$$$$V2.0\n",
      "    28 |    13500 |  0.000000E+00 |  0.000000E+00 | -1.0435657235898E+00 | -1.0606196885032E+00 |      PEPTIDE1{D.M.V.E.A.V.K.K.A}$$$$V2.0\n",
      "    38 |    18500 |  0.000000E+00 |  0.000000E+00 | -1.0477957397079E+00 | -1.0606206481499E+00 |      PEPTIDE1{D.M.A.E.V.V.K.K.A}$$$$V2.0\n",
      "    39 |    19000 |  0.000000E+00 |  0.000000E+00 | -1.0483529788603E+00 | -1.0606206481499E+00 |      PEPTIDE1{D.M.A.E.V.V.K.K.A}$$$$V2.0\n",
      "    40 |    19500 |  0.000000E+00 |  0.000000E+00 | -1.0486798744552E+00 | -1.0606206481499E+00 |      PEPTIDE1{D.M.A.E.V.V.K.K.A}$$$$V2.0\n",
      "    41 |    20000 |  0.000000E+00 |  0.000000E+00 | -1.0488857993021E+00 | -1.0606206481499E+00 |      PEPTIDE1{D.M.A.E.V.V.K.K.A}$$$$V2.0\n",
      "    42 |    20500 |  0.000000E+00 |  0.000000E+00 | -1.0492160751830E+00 | -1.0606206481499E+00 |      PEPTIDE1{D.M.A.E.V.V.K.K.A}$$$$V2.0\n",
      "    43 |    21000 |  0.000000E+00 |  0.000000E+00 | -1.0495209773070E+00 | -1.0606206481499E+00 |      PEPTIDE1{D.M.A.E.V.V.K.K.A}$$$$V2.0\n",
      "    44 |    21500 |  0.000000E+00 |  0.000000E+00 | -1.0497965286969E+00 | -1.0606206481499E+00 |      PEPTIDE1{D.M.A.E.V.V.K.K.A}$$$$V2.0\n",
      "    45 |    22000 |  0.000000E+00 |  0.000000E+00 | -1.0501492073559E+00 | -1.0606206481499E+00 |      PEPTIDE1{D.M.A.E.V.V.K.K.A}$$$$V2.0\n",
      "    46 |    22500 |  0.000000E+00 |  0.000000E+00 | -1.0505175336135E+00 | -1.0606206481499E+00 |      PEPTIDE1{D.M.A.E.V.V.K.K.A}$$$$V2.0\n",
      "    47 |    23000 |  0.000000E+00 |  0.000000E+00 | -1.0506698399831E+00 | -1.0606206481499E+00 |      PEPTIDE1{D.M.A.E.V.V.K.K.A}$$$$V2.0\n",
      "    48 |    23500 |  0.000000E+00 |  0.000000E+00 | -1.0508859334176E+00 | -1.0606206481499E+00 |      PEPTIDE1{D.M.A.E.V.V.K.K.A}$$$$V2.0\n",
      "    49 |    24000 |  0.000000E+00 |  0.000000E+00 | -1.0510296425073E+00 | -1.0606206481499E+00 |      PEPTIDE1{D.M.A.E.V.V.K.K.A}$$$$V2.0\n",
      "Best peptide found so far: PEPTIDE1{F.M.F.D.V.V.R.K.L}$$$$V2.0 / 0.996\n",
      "\n",
      "==========================================================================================================================================\n",
      "n_gen  |  n_eval  |     cv_min    |     cv_avg    |        f_avg         |        f_min         |              best sequence              \n",
      "==========================================================================================================================================\n",
      "     1 |        0 |  0.000000E+00 |  0.0581395349 |  9.11949580246913527 |  6.93585999999999991 |      PEPTIDE1{F.M.F.D.V.V.R.K.L}$$$$V2.0\n",
      "     2 |      500 |  0.000000E+00 |  0.000000E+00 |  0.77046060862149446 | -2.5502432569445E-01 |      PEPTIDE1{F.M.R.E.V.V.T.R.V}$$$$V2.0\n",
      "     3 |     1000 |  0.000000E+00 |  0.000000E+00 | -2.7507474787197E-02 | -4.0704835638078E-01 |      PEPTIDE1{F.M.G.E.V.V.K.R.L}$$$$V2.0\n",
      "     4 |     1500 |  0.000000E+00 |  0.000000E+00 | -7.1953450852991E-02 | -4.2779297998209E-01 |      PEPTIDE1{F.M.G.E.V.V.T.R.V}$$$$V2.0\n",
      "     5 |     2000 |  0.000000E+00 |  0.000000E+00 | -1.5421900153398E-01 | -4.2915178152437E-01 |      PEPTIDE1{F.M.V.E.V.V.R.T.V}$$$$V2.0\n",
      "     6 |     2500 |  0.000000E+00 |  0.000000E+00 | -2.5237486115431E-01 | -4.3209071132485E-01 |      PEPTIDE1{E.M.V.E.V.V.I.K.V}$$$$V2.0\n",
      "     7 |     3000 |  0.000000E+00 |  0.000000E+00 | -3.2045586174602E-01 | -4.3209262004930E-01 |      PEPTIDE1{E.M.V.E.V.V.K.I.V}$$$$V2.0\n",
      "     8 |     3500 |  0.000000E+00 |  0.000000E+00 | -3.5835719391493E-01 | -4.3258891117684E-01 |      PEPTIDE1{E.M.G.E.V.V.I.K.V}$$$$V2.0\n",
      "     9 |     4000 |  0.000000E+00 |  0.000000E+00 | -3.8157824679105E-01 | -4.3258891117684E-01 |      PEPTIDE1{E.M.G.E.V.V.I.K.V}$$$$V2.0\n",
      "    10 |     4500 |  0.000000E+00 |  0.000000E+00 | -3.9302758849210E-01 | -4.3259135921279E-01 |      PEPTIDE1{E.M.V.E.G.V.I.K.V}$$$$V2.0\n",
      "    11 |     5000 |  0.000000E+00 |  0.000000E+00 | -3.9884471827885E-01 | -4.3259135921279E-01 |      PEPTIDE1{E.M.V.E.G.V.I.K.V}$$$$V2.0\n",
      "    12 |     5500 |  0.000000E+00 |  0.000000E+00 | -4.0457680918842E-01 | -4.3278046766157E-01 |      PEPTIDE1{W.M.G.D.V.L.K.L.L}$$$$V2.0\n",
      "    13 |     6000 |  0.000000E+00 |  0.000000E+00 | -4.0850035673199E-01 | -4.3278046766157E-01 |      PEPTIDE1{W.M.G.D.V.L.K.L.L}$$$$V2.0\n",
      "    14 |     6500 |  0.000000E+00 |  0.000000E+00 | -4.1059343279567E-01 | -4.3278046766157E-01 |      PEPTIDE1{W.M.G.D.V.L.K.L.L}$$$$V2.0\n",
      "    15 |     7000 |  0.000000E+00 |  0.000000E+00 | -4.1216618628910E-01 | -4.3278046766157E-01 |      PEPTIDE1{W.M.G.D.V.L.K.L.L}$$$$V2.0\n",
      "    16 |     7500 |  0.000000E+00 |  0.000000E+00 | -4.1404770777342E-01 | -4.3278046766157E-01 |      PEPTIDE1{W.M.G.D.V.L.K.L.L}$$$$V2.0\n",
      "    17 |     8000 |  0.000000E+00 |  0.000000E+00 | -4.1490978854025E-01 | -4.3278046766157E-01 |      PEPTIDE1{W.M.G.D.V.L.K.L.L}$$$$V2.0\n",
      "    18 |     8500 |  0.000000E+00 |  0.000000E+00 | -4.1631336688590E-01 | -4.3278529965361E-01 |      PEPTIDE1{W.M.V.D.G.L.K.L.L}$$$$V2.0\n",
      "    19 |     9000 |  0.000000E+00 |  0.000000E+00 | -4.1730866846172E-01 | -4.3278730246880E-01 |      PEPTIDE1{W.M.L.D.G.V.K.L.L}$$$$V2.0\n",
      "    20 |     9500 |  0.000000E+00 |  0.000000E+00 | -4.1776839486630E-01 | -4.3278730246880E-01 |      PEPTIDE1{W.M.L.D.G.V.K.L.L}$$$$V2.0\n",
      "    21 |    10000 |  0.000000E+00 |  0.000000E+00 | -4.1841100691550E-01 | -4.3278730246880E-01 |      PEPTIDE1{W.M.L.D.G.V.K.L.L}$$$$V2.0\n",
      "    22 |    10500 |  0.000000E+00 |  0.000000E+00 | -4.1886665629956E-01 | -4.3278730246880E-01 |      PEPTIDE1{W.M.L.D.G.V.K.L.L}$$$$V2.0\n",
      "    23 |    11000 |  0.000000E+00 |  0.000000E+00 | -4.1942252817413E-01 | -4.3278730246880E-01 |      PEPTIDE1{W.M.L.D.G.V.K.L.L}$$$$V2.0\n",
      "    24 |    11500 |  0.000000E+00 |  0.000000E+00 | -4.1997825586898E-01 | -4.3278730246880E-01 |      PEPTIDE1{W.M.L.D.G.V.K.L.L}$$$$V2.0\n",
      "    25 |    12000 |  0.000000E+00 |  0.000000E+00 | -4.2036042696015E-01 | -4.3278730246880E-01 |      PEPTIDE1{W.M.L.D.G.V.K.L.L}$$$$V2.0\n",
      "    26 |    12500 |  0.000000E+00 |  0.000000E+00 | -4.2079572818030E-01 | -4.3278730246880E-01 |      PEPTIDE1{W.M.L.D.G.V.K.L.L}$$$$V2.0\n",
      "    27 |    13000 |  0.000000E+00 |  0.000000E+00 | -4.2105992678881E-01 | -4.3278730246880E-01 |      PEPTIDE1{W.M.L.D.G.V.K.L.L}$$$$V2.0\n",
      "    28 |    13500 |  0.000000E+00 |  0.000000E+00 | -4.2147178806068E-01 | -4.3278730246880E-01 |      PEPTIDE1{W.M.L.D.G.V.K.L.L}$$$$V2.0\n",
      "    29 |    14000 |  0.000000E+00 |  0.000000E+00 | -4.2173978405668E-01 | -4.3278874901519E-01 |      PEPTIDE1{W.M.V.K.G.L.D.L.L}$$$$V2.0\n",
      "    30 |    14500 |  0.000000E+00 |  0.000000E+00 | -4.2216210433956E-01 | -4.3278874901519E-01 |      PEPTIDE1{W.M.V.K.G.L.D.L.L}$$$$V2.0\n",
      "    31 |    15000 |  0.000000E+00 |  0.000000E+00 | -4.2254339084384E-01 | -4.3278874901519E-01 |      PEPTIDE1{W.M.V.K.G.L.D.L.L}$$$$V2.0\n",
      "    32 |    15500 |  0.000000E+00 |  0.000000E+00 | -4.2284511974420E-01 | -4.3278874901519E-01 |      PEPTIDE1{W.M.V.K.G.L.D.L.L}$$$$V2.0\n",
      "    33 |    16000 |  0.000000E+00 |  0.000000E+00 | -4.2322918297594E-01 | -4.3278874901519E-01 |      PEPTIDE1{W.M.V.K.G.L.D.L.L}$$$$V2.0\n",
      "    34 |    16500 |  0.000000E+00 |  0.000000E+00 | -4.2346444873616E-01 | -4.3278874901519E-01 |      PEPTIDE1{W.M.V.K.G.L.D.L.L}$$$$V2.0\n",
      "    35 |    17000 |  0.000000E+00 |  0.000000E+00 | -4.2371698479385E-01 | -4.3278874901519E-01 |      PEPTIDE1{W.M.V.K.G.L.D.L.L}$$$$V2.0\n",
      "    36 |    17500 |  0.000000E+00 |  0.000000E+00 | -4.2397131937958E-01 | -4.3278874901519E-01 |      PEPTIDE1{W.M.V.K.G.L.D.L.L}$$$$V2.0\n",
      "    37 |    18000 |  0.000000E+00 |  0.000000E+00 | -4.2428680239110E-01 | -4.3278874901519E-01 |      PEPTIDE1{W.M.V.K.G.L.D.L.L}$$$$V2.0\n",
      "    38 |    18500 |  0.000000E+00 |  0.000000E+00 | -4.2449906236456E-01 | -4.3278874901519E-01 |      PEPTIDE1{W.M.V.K.G.L.D.L.L}$$$$V2.0\n",
      "    39 |    19000 |  0.000000E+00 |  0.000000E+00 | -4.2463725485122E-01 | -4.3278874901519E-01 |      PEPTIDE1{W.M.V.K.G.L.D.L.L}$$$$V2.0\n",
      "    40 |    19500 |  0.000000E+00 |  0.000000E+00 | -4.2474073355143E-01 | -4.3278874901519E-01 |      PEPTIDE1{W.M.V.K.G.L.D.L.L}$$$$V2.0\n",
      "    41 |    20000 |  0.000000E+00 |  0.000000E+00 | -4.2484950713063E-01 | -4.3278874901519E-01 |      PEPTIDE1{W.M.V.K.G.L.D.L.L}$$$$V2.0\n",
      "    42 |    20500 |  0.000000E+00 |  0.000000E+00 | -4.2502296249799E-01 | -4.3278874901519E-01 |      PEPTIDE1{W.M.V.K.G.L.D.L.L}$$$$V2.0\n",
      "    43 |    21000 |  0.000000E+00 |  0.000000E+00 | -4.2523760259040E-01 | -4.3278874901519E-01 |      PEPTIDE1{W.M.V.K.G.L.D.L.L}$$$$V2.0\n",
      "    44 |    21500 |  0.000000E+00 |  0.000000E+00 | -4.2533354899989E-01 | -4.3278874901519E-01 |      PEPTIDE1{W.M.V.K.G.L.D.L.L}$$$$V2.0\n",
      "Best peptide found so far: PEPTIDE1{F.M.F.E.V.V.V.K.V}$$$$V2.0 / 0.085\n",
      "\n",
      "==========================================================================================================================================\n",
      "n_gen  |  n_eval  |     cv_min    |     cv_avg    |        f_avg         |        f_min         |              best sequence              \n",
      "==========================================================================================================================================\n",
      "     1 |        0 |  0.000000E+00 |  0.0411985019 |  7.34299671875000026 |  4.88485999999999976 |      PEPTIDE1{F.M.F.E.V.V.V.K.V}$$$$V2.0\n",
      "     2 |      500 |  0.000000E+00 |  0.000000E+00 |  1.08092877894900297 | -2.3311904970227E-01 |      PEPTIDE1{E.M.G.E.V.V.D.L.V}$$$$V2.0\n",
      "     3 |     1000 |  0.000000E+00 |  0.000000E+00 | -7.5592274702527E-03 | -2.3311904970227E-01 |      PEPTIDE1{E.M.G.E.V.V.D.L.V}$$$$V2.0\n",
      "     4 |     1500 |  0.000000E+00 |  0.000000E+00 | -2.1253115391135E-02 | -2.7462628038144E-01 |      PEPTIDE1{F.M.E.D.V.V.V.L.V}$$$$V2.0\n",
      "     5 |     2000 |  0.000000E+00 |  0.000000E+00 | -4.2248901446840E-02 | -2.7462628038144E-01 |      PEPTIDE1{F.M.E.D.V.V.V.L.V}$$$$V2.0\n",
      "     6 |     2500 |  0.000000E+00 |  0.000000E+00 | -7.1737796737359E-02 | -2.7462628038144E-01 |      PEPTIDE1{F.M.E.D.V.V.V.L.V}$$$$V2.0\n",
      "     7 |     3000 |  0.000000E+00 |  0.000000E+00 | -1.0412799997586E-01 | -2.7462628038144E-01 |      PEPTIDE1{F.M.E.D.V.V.V.L.V}$$$$V2.0\n",
      "     8 |     3500 |  0.000000E+00 |  0.000000E+00 | -1.3130400429294E-01 | -2.7462628038144E-01 |      PEPTIDE1{F.M.E.D.V.V.V.L.V}$$$$V2.0\n",
      "     9 |     4000 |  0.000000E+00 |  0.000000E+00 | -1.5301608173747E-01 | -2.9428711915773E-01 |      PEPTIDE1{F.M.V.E.V.V.D.G.V}$$$$V2.0\n",
      "    10 |     4500 |  0.000000E+00 |  0.000000E+00 | -1.7160900034305E-01 | -3.0853658014028E-01 |      PEPTIDE1{D.M.V.E.V.V.V.F.V}$$$$V2.0\n",
      "    11 |     5000 |  0.000000E+00 |  0.000000E+00 | -1.8194791343683E-01 | -3.0853658014028E-01 |      PEPTIDE1{D.M.V.E.V.V.V.F.V}$$$$V2.0\n",
      "    12 |     5500 |  0.000000E+00 |  0.000000E+00 | -1.9392243138651E-01 | -3.0853658014028E-01 |      PEPTIDE1{D.M.V.E.V.V.V.F.V}$$$$V2.0\n",
      "    13 |     6000 |  0.000000E+00 |  0.000000E+00 | -2.0229004861889E-01 | -3.0853658014028E-01 |      PEPTIDE1{D.M.V.E.V.V.V.F.V}$$$$V2.0\n",
      "    14 |     6500 |  0.000000E+00 |  0.000000E+00 | -2.1164400215245E-01 | -3.0853658014028E-01 |      PEPTIDE1{D.M.V.E.V.V.V.F.V}$$$$V2.0\n",
      "    15 |     7000 |  0.000000E+00 |  0.000000E+00 | -2.2007878797933E-01 | -3.0853658014028E-01 |      PEPTIDE1{D.M.V.E.V.V.V.F.V}$$$$V2.0\n",
      "    16 |     7500 |  0.000000E+00 |  0.000000E+00 | -2.2774992323407E-01 | -3.0853658014028E-01 |      PEPTIDE1{D.M.V.E.V.V.V.F.V}$$$$V2.0\n",
      "    17 |     8000 |  0.000000E+00 |  0.000000E+00 | -2.3399361522202E-01 | -3.0853658014028E-01 |      PEPTIDE1{D.M.V.E.V.V.V.F.V}$$$$V2.0\n",
      "    18 |     8500 |  0.000000E+00 |  0.000000E+00 | -2.3760847093129E-01 | -3.0853658014028E-01 |      PEPTIDE1{D.M.V.E.V.V.V.F.V}$$$$V2.0\n",
      "    19 |     9000 |  0.000000E+00 |  0.000000E+00 | -2.4133909637011E-01 | -3.0853658014028E-01 |      PEPTIDE1{D.M.V.E.V.V.V.F.V}$$$$V2.0\n",
      "    20 |     9500 |  0.000000E+00 |  0.000000E+00 | -2.4421229138986E-01 | -3.0853658014028E-01 |      PEPTIDE1{D.M.V.E.V.V.V.F.V}$$$$V2.0\n",
      "    21 |    10000 |  0.000000E+00 |  0.000000E+00 | -2.4821207025748E-01 | -3.0855018299751E-01 |      PEPTIDE1{E.M.V.D.F.V.V.V.V}$$$$V2.0\n",
      "    22 |    10500 |  0.000000E+00 |  0.000000E+00 | -2.5134904091238E-01 | -3.0855018299751E-01 |      PEPTIDE1{E.M.V.D.F.V.V.V.V}$$$$V2.0\n",
      "    23 |    11000 |  0.000000E+00 |  0.000000E+00 | -2.5465265017771E-01 | -3.0855018299751E-01 |      PEPTIDE1{E.M.V.D.F.V.V.V.V}$$$$V2.0\n",
      "    24 |    11500 |  0.000000E+00 |  0.000000E+00 | -2.5734318843089E-01 | -3.0855018299751E-01 |      PEPTIDE1{E.M.V.D.F.V.V.V.V}$$$$V2.0\n",
      "    25 |    12000 |  0.000000E+00 |  0.000000E+00 | -2.5942260599537E-01 | -3.0855018299751E-01 |      PEPTIDE1{E.M.V.D.F.V.V.V.V}$$$$V2.0\n",
      "    26 |    12500 |  0.000000E+00 |  0.000000E+00 | -2.6159380732607E-01 | -3.0855078759516E-01 |      PEPTIDE1{F.M.V.D.E.V.V.V.V}$$$$V2.0\n",
      "    27 |    13000 |  0.000000E+00 |  0.000000E+00 | -2.6444739283228E-01 | -3.0855078759516E-01 |      PEPTIDE1{F.M.V.D.E.V.V.V.V}$$$$V2.0\n",
      "    28 |    13500 |  0.000000E+00 |  0.000000E+00 | -2.6578724677676E-01 | -3.0855078759516E-01 |      PEPTIDE1{F.M.V.D.E.V.V.V.V}$$$$V2.0\n",
      "    29 |    14000 |  0.000000E+00 |  0.000000E+00 | -2.6712172699023E-01 | -3.0855078759516E-01 |      PEPTIDE1{F.M.V.D.E.V.V.V.V}$$$$V2.0\n",
      "    30 |    14500 |  0.000000E+00 |  0.000000E+00 | -2.6861619513807E-01 | -3.0855078759516E-01 |      PEPTIDE1{F.M.V.D.E.V.V.V.V}$$$$V2.0\n",
      "    31 |    15000 |  0.000000E+00 |  0.000000E+00 | -2.7001220289164E-01 | -3.0855078759516E-01 |      PEPTIDE1{F.M.V.D.E.V.V.V.V}$$$$V2.0\n",
      "    32 |    15500 |  0.000000E+00 |  0.000000E+00 | -2.7094036564156E-01 | -3.0855078759516E-01 |      PEPTIDE1{F.M.V.D.E.V.V.V.V}$$$$V2.0\n",
      "    33 |    16000 |  0.000000E+00 |  0.000000E+00 | -2.7205650625300E-01 | -3.0855078759516E-01 |      PEPTIDE1{F.M.V.D.E.V.V.V.V}$$$$V2.0\n",
      "    34 |    16500 |  0.000000E+00 |  0.000000E+00 | -2.7300728075611E-01 | -3.0855078759516E-01 |      PEPTIDE1{F.M.V.D.E.V.V.V.V}$$$$V2.0\n",
      "    35 |    17000 |  0.000000E+00 |  0.000000E+00 | -2.7332857243787E-01 | -3.0855078759516E-01 |      PEPTIDE1{F.M.V.D.E.V.V.V.V}$$$$V2.0\n",
      "    36 |    17500 |  0.000000E+00 |  0.000000E+00 | -2.7373240163895E-01 | -3.0855078759516E-01 |      PEPTIDE1{F.M.V.D.E.V.V.V.V}$$$$V2.0\n",
      "    37 |    18000 |  0.000000E+00 |  0.000000E+00 | -2.7429088508017E-01 | -3.0855078759516E-01 |      PEPTIDE1{F.M.V.D.E.V.V.V.V}$$$$V2.0\n",
      "    38 |    18500 |  0.000000E+00 |  0.000000E+00 | -2.7464736517395E-01 | -3.0855078759516E-01 |      PEPTIDE1{F.M.V.D.E.V.V.V.V}$$$$V2.0\n",
      "    39 |    19000 |  0.000000E+00 |  0.000000E+00 | -2.7497786396626E-01 | -3.0855078759516E-01 |      PEPTIDE1{F.M.V.D.E.V.V.V.V}$$$$V2.0\n",
      "    40 |    19500 |  0.000000E+00 |  0.000000E+00 | -2.7518895561568E-01 | -3.0855078759516E-01 |      PEPTIDE1{F.M.V.D.E.V.V.V.V}$$$$V2.0\n",
      "    41 |    20000 |  0.000000E+00 |  0.000000E+00 | -2.7545880451362E-01 | -3.0855078759516E-01 |      PEPTIDE1{F.M.V.D.E.V.V.V.V}$$$$V2.0\n",
      "Best peptide found so far: PEPTIDE1{F.M.F.E.V.V.V.K.V}$$$$V2.0 / 0.085\n",
      "\n"
     ]
    }
   ],
   "source": [
    "peptides = seed_library.copy()\n",
    "pic50_scores = pic50_seed_library.copy()\n",
    "\n",
    "# Store data for later analysis\n",
    "data = [(0, p, s) for p, s in zip(peptides, pic50_scores)]\n",
    "\n",
    "for i in range(3):\n",
    "    suggested_peptides, _ = ps.recommand(peptides, pic50_scores.reshape(-1, 1), batch_size=96)\n",
    "\n",
    "    # Here you can add whatever methods you want to further filter out peptides\n",
    "\n",
    "    # Virtually test the suggested peptides using the MHC emulator\n",
    "    # You know the drill now, this is for benchmarking or demonstration\n",
    "    # purposes only and should be replaced with actual lab experiments.\n",
    "    pic50_suggested_peptides = lpe.score(suggested_peptides)\n",
    "\n",
    "    peptides = np.concatenate([peptides, suggested_peptides])\n",
    "    pic50_scores = np.concatenate((pic50_scores, pic50_suggested_peptides), axis=0)\n",
    "    data.extend([(i + 1, p, s) for p, s in zip(suggested_peptides, pic50_suggested_peptides)])\n",
    "\n",
    "    best_seq = peptides[np.argmin(pic50_scores)]\n",
    "    best_pic50 = np.min(pic50_scores)\n",
    "    print('Best peptide found so far: %s / %.3f' % (best_seq, best_pic50))\n",
    "    print('')\n",
    "\n",
    "df = pd.DataFrame(data=data, columns=('iter', 'polymer', 'exp_value'))"
   ]
  },
  {
   "cell_type": "code",
   "execution_count": 30,
   "metadata": {},
   "outputs": [
    {
     "data": {
      "image/png": "[encoded data removed]",
      "text/plain": [
       "<Figure size 2000x750 with 1 Axes>"
      ]
     },
     "metadata": {},
     "output_type": "display_data"
    }
   ],
   "source": [
    "fig, ax = plt.subplots(figsize=(20, 7.5))\n",
    "\n",
    "# pandas dataframe (df) columns: iter, peptide, exp_value\n",
    "df['iter'] = df['iter'].replace({0: 'Init.', 1: '1', 2: '2', 3: '3'})\n",
    "\n",
    "sns.lineplot(x='iter', y='exp_value', data=df, ax=ax, errorbar=('ci', 95), err_style='bars', linewidth=3.5, err_kws={'lw': 3.5})\n",
    "\n",
    "ax.set_xlim([-0.9, 3.5])\n",
    "ax.set_ylim([-2, 4.5])\n",
    "ax.set_ylabel('pIC50', fontsize=30)\n",
    "ax.set_xlabel('Generations', fontsize=30)\n",
    "ax.xaxis.set_tick_params(labelsize=30)\n",
    "ax.yaxis.set_tick_params(labelsize=30)\n",
    "\n",
    "sns.despine()\n",
    "plt.show()"
   ]
  },
  {
   "cell_type": "code",
   "execution_count": null,
   "metadata": {},
   "outputs": [],
   "source": []
  }
 ],
 "metadata": {
  "kernelspec": {
   "display_name": "Python 3 (ipykernel)",
   "language": "python",
   "name": "python3"
  },
  "language_info": {
   "codemirror_mode": {
    "name": "ipython",
    "version": 3
   },
   "file_extension": ".py",
   "mimetype": "text/x-python",
   "name": "python",
   "nbconvert_exporter": "python",
   "pygments_lexer": "ipython3",
   "version": "3.9.19"
  }
 },
 "nbformat": 4,
 "nbformat_minor": 4
}
