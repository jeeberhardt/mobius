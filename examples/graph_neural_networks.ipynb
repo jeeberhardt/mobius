{
 "cells": [
  {
   "cell_type": "code",
   "execution_count": 1,
   "metadata": {
    "tags": []
   },
   "outputs": [],
   "source": [
    "%matplotlib inline\n",
    "%load_ext autoreload\n",
    "%autoreload 2"
   ]
  },
  {
   "cell_type": "code",
   "execution_count": 2,
   "metadata": {
    "tags": []
   },
   "outputs": [],
   "source": [
    "import numpy as np\n",
    "import pandas as pd\n",
    "import matplotlib.pyplot as plt\n",
    "import seaborn as sns\n",
    "import torch\n",
    "from torch_geometric.nn.models import GIN\n",
    "from gpytorch.priors import NormalPrior\n",
    "from gpytorch.kernels import RBFKernel\n",
    "from torch_geometric.nn import global_mean_pool\n",
    "\n",
    "from mobius import Planner, SequenceGA\n",
    "from mobius import Graph, GPGNNModel, ExpectedImprovement\n",
    "from mobius import LinearPeptideEmulator\n",
    "from mobius import homolog_scanning, alanine_scanning\n",
    "from mobius import convert_FASTA_to_HELM"
   ]
  },
  {
   "cell_type": "markdown",
   "metadata": {},
   "source": [
    "# Initialize MHC emulator"
   ]
  },
  {
   "cell_type": "code",
   "execution_count": 4,
   "metadata": {
    "tags": []
   },
   "outputs": [],
   "source": [
    "pssm_files = ['../data/IEDB_MHC_I-2.9_matx_smm_smmpmbec/smmpmbec_matrix/HLA-A-02:01-8.txt',\n",
    "              '../data/IEDB_MHC_I-2.9_matx_smm_smmpmbec/smmpmbec_matrix/HLA-A-02:01-9.txt',\n",
    "              '../data/IEDB_MHC_I-2.9_matx_smm_smmpmbec/smmpmbec_matrix/HLA-A-02:01-10.txt',\n",
    "              '../data/IEDB_MHC_I-2.9_matx_smm_smmpmbec/smmpmbec_matrix/HLA-A-02:01-11.txt']\n",
    "lpe = LinearPeptideEmulator(pssm_files)"
   ]
  },
  {
   "cell_type": "markdown",
   "metadata": {},
   "source": [
    "# Define lead peptide and create initial peptide batch"
   ]
  },
  {
   "cell_type": "code",
   "execution_count": 5,
   "metadata": {
    "tags": []
   },
   "outputs": [],
   "source": [
    "lead_peptide = convert_FASTA_to_HELM('HMTEVVRRC')[0]"
   ]
  },
  {
   "cell_type": "code",
   "execution_count": 6,
   "metadata": {
    "tags": []
   },
   "outputs": [
    {
     "name": "stdout",
     "output_type": "stream",
     "text": [
      "Reach max. number of peptides allowed.\n"
     ]
    }
   ],
   "source": [
    "seed_library = [lead_peptide]\n",
    "\n",
    "for seq in alanine_scanning(lead_peptide):\n",
    "    seed_library.append(seq)\n",
    "\n",
    "for seq in homolog_scanning(lead_peptide):\n",
    "    seed_library.append(seq)\n",
    "\n",
    "    if len(seed_library) >= 96:\n",
    "        print('Reach max. number of peptides allowed.')\n",
    "        break"
   ]
  },
  {
   "cell_type": "code",
   "execution_count": 7,
   "metadata": {
    "tags": []
   },
   "outputs": [],
   "source": [
    "pic50_seed_library = lpe.score(seed_library)"
   ]
  },
  {
   "cell_type": "markdown",
   "metadata": {},
   "source": [
    "# Define Gaussian Process, acquisition function and GA optimizer"
   ]
  },
  {
   "cell_type": "code",
   "execution_count": 8,
   "metadata": {},
   "outputs": [],
   "source": [
    "class GNNModel(torch.nn.Module):\n",
    "    def __init__(self, in_channels, hidden_channels, out_channels, num_layers, dropout):\n",
    "        super(GNNModel, self).__init__()\n",
    "\n",
    "        self.model = GIN(in_channels=in_channels, hidden_channels=hidden_channels, num_layers=num_layers, out_channels=out_channels, dropout=dropout)\n",
    "        \n",
    "        self._reset_parameters()\n",
    "\n",
    "    def _reset_parameters(self):\n",
    "        r\"\"\"Initiate parameters in the transformer model.\"\"\"\n",
    "\n",
    "        for p in self.parameters():\n",
    "            if p.dim() > 1:\n",
    "                torch.nn.init.xavier_uniform_(p)\n",
    "\n",
    "    def forward(self, x):\n",
    "        node_attr, edge_index, edge_attr, batch = x.node_attr, x.edge_index, x.edge_attr, x.batch\n",
    "        x = self.model(x=node_attr, edge_index=edge_index, edge_attr=edge_attr, batch=batch)\n",
    "        x = global_mean_pool(x, batch)\n",
    "\n",
    "        return x"
   ]
  },
  {
   "cell_type": "code",
   "execution_count": 9,
   "metadata": {
    "tags": []
   },
   "outputs": [],
   "source": [
    "graph_convertor = Graph(input_type='helm', output_type='pyg')"
   ]
  },
  {
   "cell_type": "code",
   "execution_count": 10,
   "metadata": {},
   "outputs": [],
   "source": [
    "graphs = graph_convertor.transform(lead_peptide)\n",
    "gnn = GNNModel(in_channels=graphs.node_attr.shape[1], hidden_channels=256, out_channels=256, num_layers=4, dropout=0.25)"
   ]
  },
  {
   "cell_type": "code",
   "execution_count": 11,
   "metadata": {},
   "outputs": [],
   "source": [
    "gpmodel = GPGNNModel(kernel=RBFKernel(), model=gnn, transform=graph_convertor, noise_prior=NormalPrior(loc=0, scale=1))"
   ]
  },
  {
   "cell_type": "code",
   "execution_count": 12,
   "metadata": {
    "tags": []
   },
   "outputs": [],
   "source": [
    "yaml_content = \"\"\"\n",
    "design:\n",
    "  monomers:\n",
    "    default: [A, C, D, E, F, G, H, I, K, L, M, N, P, Q, R, S, T, V, W, Y]\n",
    "    APOLAR: [A, F, G, I, L, P, V, W]\n",
    "    POLAR: [C, D, E, H, K, N, Q, R, K, S, T, M]\n",
    "    AROMATIC: [F, H, W, Y]\n",
    "    POS_CHARGED: [K, R]\n",
    "    NEG_CHARGED: [D, E]\n",
    "  polymers:\n",
    "    - PEPTIDE1{X.M.X.X.X.X.X.X.X}$$$$V2.0:\n",
    "        PEPTIDE1:\n",
    "          1: [AROMATIC, NEG_CHARGED]\n",
    "          4: POLAR\n",
    "          9: [A, V, I, L, M, T]\n",
    "filters:\n",
    "  - class_path: mobius.PeptideSelfAggregationFilter\n",
    "  - class_path: mobius.PeptideSolubilityFilter\n",
    "    init_args:\n",
    "      hydrophobe_ratio: 0.5\n",
    "      charged_per_amino_acids: 5\n",
    "\"\"\"\n",
    "\n",
    "with open('design_protocol.yaml', 'w') as f:\n",
    "    f.write(yaml_content)"
   ]
  },
  {
   "cell_type": "code",
   "execution_count": 13,
   "metadata": {
    "tags": []
   },
   "outputs": [],
   "source": [
    "ei = ExpectedImprovement(gpmodel, maximize=False)\n",
    "optimizer = SequenceGA(algorithm='GA', period=15, n_pop=500, design_protocol_filename='design_protocol.yaml')\n",
    "ps = Planner(ei, optimizer)"
   ]
  },
  {
   "cell_type": "markdown",
   "metadata": {},
   "source": [
    "# Run optimization!"
   ]
  },
  {
   "cell_type": "code",
   "execution_count": 14,
   "metadata": {
    "tags": []
   },
   "outputs": [
    {
     "name": "stderr",
     "output_type": "stream",
     "text": [
      "Fitting GPGNN model (cpu): 10step [00:05,  1.96step/s, loss=1.06]\n"
     ]
    },
    {
     "name": "stdout",
     "output_type": "stream",
     "text": [
      "==========================================================================================================================================\n",
      "n_gen  |  n_eval  |     cv_min    |     cv_avg    |        f_avg         |        f_min         |              best sequence              \n",
      "==========================================================================================================================================\n",
      "     1 |        0 |  0.000000E+00 |  0.1428571429 |  8.63289030303030280 |  7.16085999999999956 |      PEPTIDE1{H.M.T.E.V.V.R.R.V}$$$$V2.0\n",
      "     2 |      500 |  0.000000E+00 |  0.0380000000 |  1.18437633877007320 | -5.1026875012989E-03 |      PEPTIDE1{E.M.Y.E.R.S.R.R.A}$$$$V2.0\n",
      "     3 |     1000 |  0.000000E+00 |  0.000000E+00 | -5.4047115435575E-04 | -8.1498524253159E-03 |      PEPTIDE1{E.M.G.K.A.V.G.R.A}$$$$V2.0\n",
      "     4 |     1500 |  0.000000E+00 |  0.000000E+00 | -1.3956728018870E-03 | -1.4248674470108E-02 |      PEPTIDE1{E.M.L.E.K.Q.Q.R.A}$$$$V2.0\n",
      "     5 |     2000 |  0.000000E+00 |  0.000000E+00 | -3.2925416643967E-03 | -3.0138723841268E-02 |      PEPTIDE1{E.M.R.E.G.K.K.R.L}$$$$V2.0\n",
      "     6 |     2500 |  0.000000E+00 |  0.000000E+00 | -6.5501399467074E-03 | -3.7023652139719E-02 |      PEPTIDE1{E.M.R.K.R.K.K.R.L}$$$$V2.0\n",
      "     7 |     3000 |  0.000000E+00 |  0.000000E+00 | -1.1685575322890E-02 | -3.7023652139719E-02 |      PEPTIDE1{E.M.R.K.R.K.K.R.L}$$$$V2.0\n",
      "     8 |     3500 |  0.000000E+00 |  0.000000E+00 | -1.7974995142627E-02 | -4.1291889618074E-02 |      PEPTIDE1{E.M.K.K.R.K.R.R.A}$$$$V2.0\n",
      "     9 |     4000 |  0.000000E+00 |  0.000000E+00 | -2.4644281109335E-02 | -4.2300164237378E-02 |      PEPTIDE1{E.M.K.K.R.K.K.R.A}$$$$V2.0\n",
      "    10 |     4500 |  0.000000E+00 |  0.000000E+00 | -2.9672335602168E-02 | -4.2300164237378E-02 |      PEPTIDE1{E.M.K.K.R.K.K.R.A}$$$$V2.0\n",
      "    11 |     5000 |  0.000000E+00 |  0.000000E+00 | -3.2907093978999E-02 | -4.2300273474742E-02 |      PEPTIDE1{E.M.K.K.R.K.R.K.A}$$$$V2.0\n",
      "    12 |     5500 |  0.000000E+00 |  0.000000E+00 | -3.5271455118714E-02 | -4.3476418760304E-02 |      PEPTIDE1{E.M.K.K.R.K.K.K.A}$$$$V2.0\n",
      "    13 |     6000 |  0.000000E+00 |  0.000000E+00 | -3.6771469459523E-02 | -4.3476418760304E-02 |      PEPTIDE1{E.M.K.K.R.K.K.K.A}$$$$V2.0\n",
      "    14 |     6500 |  0.000000E+00 |  0.000000E+00 | -3.7444195183166E-02 | -4.3476418760304E-02 |      PEPTIDE1{E.M.K.K.R.K.K.K.A}$$$$V2.0\n",
      "    15 |     7000 |  0.000000E+00 |  0.000000E+00 | -3.7610070066623E-02 | -4.3476418760304E-02 |      PEPTIDE1{E.M.K.K.R.K.K.K.A}$$$$V2.0\n",
      "    16 |     7500 |  0.000000E+00 |  0.000000E+00 | -3.7635554599714E-02 | -4.3476418760304E-02 |      PEPTIDE1{E.M.K.K.R.K.K.K.A}$$$$V2.0\n",
      "    17 |     8000 |  0.000000E+00 |  0.000000E+00 | -3.7658759371174E-02 | -4.3476418760304E-02 |      PEPTIDE1{E.M.K.K.R.K.K.K.A}$$$$V2.0\n",
      "    18 |     8500 |  0.000000E+00 |  0.000000E+00 | -3.7676657624938E-02 | -4.3476418760304E-02 |      PEPTIDE1{E.M.K.K.R.K.K.K.A}$$$$V2.0\n",
      "    19 |     9000 |  0.000000E+00 |  0.000000E+00 | -3.7695498325620E-02 | -4.3476418760304E-02 |      PEPTIDE1{E.M.K.K.R.K.K.K.A}$$$$V2.0\n",
      "    20 |     9500 |  0.000000E+00 |  0.000000E+00 | -3.7703468554070E-02 | -4.3476418760304E-02 |      PEPTIDE1{E.M.K.K.R.K.K.K.A}$$$$V2.0\n",
      "    21 |    10000 |  0.000000E+00 |  0.000000E+00 | -3.7709459789924E-02 | -4.3476418760304E-02 |      PEPTIDE1{E.M.K.K.R.K.K.K.A}$$$$V2.0\n",
      "    22 |    10500 |  0.000000E+00 |  0.000000E+00 | -3.7715369483709E-02 | -4.3476418760304E-02 |      PEPTIDE1{E.M.K.K.R.K.K.K.A}$$$$V2.0\n",
      "    23 |    11000 |  0.000000E+00 |  0.000000E+00 | -3.7718686001850E-02 | -4.3476418760304E-02 |      PEPTIDE1{E.M.K.K.R.K.K.K.A}$$$$V2.0\n",
      "    24 |    11500 |  0.000000E+00 |  0.000000E+00 | -3.7725664203873E-02 | -4.3476418760304E-02 |      PEPTIDE1{E.M.K.K.R.K.K.K.A}$$$$V2.0\n",
      "    25 |    12000 |  0.000000E+00 |  0.000000E+00 | -3.7725665289588E-02 | -4.3476418760304E-02 |      PEPTIDE1{E.M.K.K.R.K.K.K.A}$$$$V2.0\n",
      "    26 |    12500 |  0.000000E+00 |  0.000000E+00 | -3.7725665999216E-02 | -4.3476418760304E-02 |      PEPTIDE1{E.M.K.K.R.K.K.K.A}$$$$V2.0\n",
      "    27 |    13000 |  0.000000E+00 |  0.000000E+00 | -3.7728612671482E-02 | -4.3476418760304E-02 |      PEPTIDE1{E.M.K.K.R.K.K.K.A}$$$$V2.0\n",
      "Best peptide found so far: PEPTIDE1{H.M.T.E.V.V.R.R.V}$$$$V2.0 / 2.171\n",
      "\n"
     ]
    },
    {
     "name": "stderr",
     "output_type": "stream",
     "text": [
      "Fitting GPGNN model (cpu): 9step [00:09,  1.10s/step, loss=0.605]\n"
     ]
    },
    {
     "name": "stdout",
     "output_type": "stream",
     "text": [
      "==========================================================================================================================================\n",
      "n_gen  |  n_eval  |     cv_min    |     cv_avg    |        f_avg         |        f_min         |              best sequence              \n",
      "==========================================================================================================================================\n",
      "     1 |        0 |  0.000000E+00 |  0.0581395349 |  1.0933032839506E+01 |  8.25885999999999854 |      PEPTIDE1{H.M.T.E.V.V.R.R.V}$$$$V2.0\n",
      "     2 |      500 |  0.000000E+00 |  0.000000E+00 |  1.44338389508009080 | -1.9727267765940E-01 |      PEPTIDE1{E.M.W.H.L.G.N.K.A}$$$$V2.0\n",
      "     3 |     1000 |  0.000000E+00 |  0.000000E+00 | -4.4282511959982E-03 | -1.9727267765940E-01 |      PEPTIDE1{E.M.W.H.L.G.N.K.A}$$$$V2.0\n",
      "     4 |     1500 |  0.000000E+00 |  0.000000E+00 | -9.5807475346516E-03 | -1.9727267765940E-01 |      PEPTIDE1{E.M.W.H.L.G.N.K.A}$$$$V2.0\n",
      "     5 |     2000 |  0.000000E+00 |  0.000000E+00 | -1.9295083549351E-02 | -1.9727267765940E-01 |      PEPTIDE1{E.M.W.H.L.G.N.K.A}$$$$V2.0\n",
      "     6 |     2500 |  0.000000E+00 |  0.000000E+00 | -3.8124692128507E-02 | -2.3762680280816E-01 |      PEPTIDE1{E.M.W.D.L.G.H.R.A}$$$$V2.0\n",
      "     7 |     3000 |  0.000000E+00 |  0.000000E+00 | -6.8347587835101E-02 | -2.7912977020150E-01 |      PEPTIDE1{H.M.G.D.L.G.S.R.L}$$$$V2.0\n",
      "     8 |     3500 |  0.000000E+00 |  0.000000E+00 | -1.1183841719607E-01 | -3.3088782704817E-01 |      PEPTIDE1{H.M.G.H.E.S.D.N.A}$$$$V2.0\n",
      "     9 |     4000 |  0.000000E+00 |  0.000000E+00 | -1.5530216470409E-01 | -4.1167569827767E-01 |      PEPTIDE1{H.M.G.E.N.G.N.D.A}$$$$V2.0\n",
      "    10 |     4500 |  0.000000E+00 |  0.000000E+00 | -2.0020888381975E-01 | -4.6616045021892E-01 |      PEPTIDE1{E.M.H.D.D.G.N.D.L}$$$$V2.0\n",
      "    11 |     5000 |  0.000000E+00 |  0.000000E+00 | -2.4264201531435E-01 | -4.6616045021892E-01 |      PEPTIDE1{E.M.H.D.D.G.N.D.L}$$$$V2.0\n",
      "    12 |     5500 |  0.000000E+00 |  0.000000E+00 | -2.8242246096850E-01 | -4.6616045021892E-01 |      PEPTIDE1{E.M.H.D.D.G.N.D.L}$$$$V2.0\n",
      "    13 |     6000 |  0.000000E+00 |  0.000000E+00 | -3.2137979438008E-01 | -4.7712264815574E-01 |      PEPTIDE1{E.M.G.D.W.G.D.N.L}$$$$V2.0\n",
      "    14 |     6500 |  0.000000E+00 |  0.000000E+00 | -3.5920254261590E-01 | -4.9649926460172E-01 |      PEPTIDE1{E.M.F.D.D.G.F.G.L}$$$$V2.0\n",
      "    15 |     7000 |  0.000000E+00 |  0.000000E+00 | -3.9542640010409E-01 | -4.9649926460172E-01 |      PEPTIDE1{E.M.F.D.D.G.F.G.L}$$$$V2.0\n",
      "    16 |     7500 |  0.000000E+00 |  0.000000E+00 | -4.2372650741033E-01 | -4.9649926460172E-01 |      PEPTIDE1{E.M.F.D.D.G.F.G.L}$$$$V2.0\n",
      "    17 |     8000 |  0.000000E+00 |  0.000000E+00 | -4.3929085932755E-01 | -4.9649926460172E-01 |      PEPTIDE1{E.M.F.D.D.G.F.G.L}$$$$V2.0\n",
      "    18 |     8500 |  0.000000E+00 |  0.000000E+00 | -4.5126706543555E-01 | -5.0075735691888E-01 |      PEPTIDE1{E.M.F.H.D.G.F.G.L}$$$$V2.0\n",
      "    19 |     9000 |  0.000000E+00 |  0.000000E+00 | -4.5853183826187E-01 | -5.0075735691888E-01 |      PEPTIDE1{E.M.F.H.D.G.F.G.L}$$$$V2.0\n",
      "    20 |     9500 |  0.000000E+00 |  0.000000E+00 | -4.6466638512204E-01 | -5.0180966813619E-01 |      PEPTIDE1{E.M.F.D.G.F.F.G.L}$$$$V2.0\n",
      "    21 |    10000 |  0.000000E+00 |  0.000000E+00 | -4.6858542870173E-01 | -5.0180966813619E-01 |      PEPTIDE1{E.M.F.D.G.F.F.G.L}$$$$V2.0\n",
      "    22 |    10500 |  0.000000E+00 |  0.000000E+00 | -4.7236463242782E-01 | -5.0180966813619E-01 |      PEPTIDE1{E.M.F.D.G.F.F.G.L}$$$$V2.0\n",
      "    23 |    11000 |  0.000000E+00 |  0.000000E+00 | -4.7505233227166E-01 | -5.0181290177173E-01 |      PEPTIDE1{E.M.F.D.F.G.F.G.L}$$$$V2.0\n",
      "    24 |    11500 |  0.000000E+00 |  0.000000E+00 | -4.7743999488324E-01 | -5.0181290177173E-01 |      PEPTIDE1{E.M.F.D.F.G.F.G.L}$$$$V2.0\n",
      "    25 |    12000 |  0.000000E+00 |  0.000000E+00 | -4.7910635915290E-01 | -5.0181290177173E-01 |      PEPTIDE1{E.M.F.D.F.G.F.G.L}$$$$V2.0\n",
      "    26 |    12500 |  0.000000E+00 |  0.000000E+00 | -4.8019218816693E-01 | -5.0181290177173E-01 |      PEPTIDE1{E.M.F.D.F.G.F.G.L}$$$$V2.0\n",
      "    27 |    13000 |  0.000000E+00 |  0.000000E+00 | -4.8086622027782E-01 | -5.0181290177173E-01 |      PEPTIDE1{E.M.F.D.F.G.F.G.L}$$$$V2.0\n",
      "    28 |    13500 |  0.000000E+00 |  0.000000E+00 | -4.8158803034837E-01 | -5.0181290177173E-01 |      PEPTIDE1{E.M.F.D.F.G.F.G.L}$$$$V2.0\n",
      "    29 |    14000 |  0.000000E+00 |  0.000000E+00 | -4.8215661042514E-01 | -5.0181290177173E-01 |      PEPTIDE1{E.M.F.D.F.G.F.G.L}$$$$V2.0\n",
      "    30 |    14500 |  0.000000E+00 |  0.000000E+00 | -4.8262536890940E-01 | -5.0181290177173E-01 |      PEPTIDE1{E.M.F.D.F.G.F.G.L}$$$$V2.0\n",
      "    31 |    15000 |  0.000000E+00 |  0.000000E+00 | -4.8314046073813E-01 | -5.0181290177173E-01 |      PEPTIDE1{E.M.F.D.F.G.F.G.L}$$$$V2.0\n",
      "    32 |    15500 |  0.000000E+00 |  0.000000E+00 | -4.8343799706991E-01 | -5.0181290177173E-01 |      PEPTIDE1{E.M.F.D.F.G.F.G.L}$$$$V2.0\n",
      "    33 |    16000 |  0.000000E+00 |  0.000000E+00 | -4.8384519156605E-01 | -5.0181290177173E-01 |      PEPTIDE1{E.M.F.D.F.G.F.G.L}$$$$V2.0\n",
      "    34 |    16500 |  0.000000E+00 |  0.000000E+00 | -4.8432169036329E-01 | -5.0181290177173E-01 |      PEPTIDE1{E.M.F.D.F.G.F.G.L}$$$$V2.0\n",
      "    35 |    17000 |  0.000000E+00 |  0.000000E+00 | -4.8459827734257E-01 | -5.0181290177173E-01 |      PEPTIDE1{E.M.F.D.F.G.F.G.L}$$$$V2.0\n",
      "    36 |    17500 |  0.000000E+00 |  0.000000E+00 | -4.8484495255896E-01 | -5.0181290177173E-01 |      PEPTIDE1{E.M.F.D.F.G.F.G.L}$$$$V2.0\n",
      "    37 |    18000 |  0.000000E+00 |  0.000000E+00 | -4.8500104114093E-01 | -5.0181290177173E-01 |      PEPTIDE1{E.M.F.D.F.G.F.G.L}$$$$V2.0\n",
      "    38 |    18500 |  0.000000E+00 |  0.000000E+00 | -4.8529082961375E-01 | -5.0181290177173E-01 |      PEPTIDE1{E.M.F.D.F.G.F.G.L}$$$$V2.0\n",
      "Best peptide found so far: PEPTIDE1{E.M.F.D.G.F.F.G.L}$$$$V2.0 / 1.554\n",
      "\n"
     ]
    },
    {
     "name": "stderr",
     "output_type": "stream",
     "text": [
      "Fitting GPGNN model (cpu): 8step [00:15,  1.96s/step, loss=0.819]\n"
     ]
    },
    {
     "name": "stdout",
     "output_type": "stream",
     "text": [
      "==========================================================================================================================================\n",
      "n_gen  |  n_eval  |     cv_min    |     cv_avg    |        f_avg         |        f_min         |              best sequence              \n",
      "==========================================================================================================================================\n",
      "     1 |        0 |  0.000000E+00 |  0.0334572491 |  1.0223271538462E+01 |  7.64185999999999943 |      PEPTIDE1{E.M.F.D.G.F.F.G.L}$$$$V2.0\n",
      "     2 |      500 |  0.000000E+00 |  0.000000E+00 |  1.94253752173670202 | -1.4933464567168E-04 |      PEPTIDE1{E.M.G.D.G.F.G.F.L}$$$$V2.0\n",
      "     3 |     1000 |  0.000000E+00 |  0.000000E+00 | -2.0447516335111E-05 | -1.4933464567168E-04 |      PEPTIDE1{E.M.G.D.G.F.G.F.L}$$$$V2.0\n",
      "     4 |     1500 |  0.000000E+00 |  0.000000E+00 | -3.9507350333109E-05 | -1.5432396002957E-04 |      PEPTIDE1{E.M.F.D.G.F.G.F.L}$$$$V2.0\n",
      "     5 |     2000 |  0.000000E+00 |  0.000000E+00 | -5.9548819200100E-05 | -1.5432396002957E-04 |      PEPTIDE1{E.M.F.D.G.F.G.F.L}$$$$V2.0\n",
      "     6 |     2500 |  0.000000E+00 |  0.000000E+00 | -7.3641465912250E-05 | -2.2491751916057E-04 |      PEPTIDE1{E.M.G.D.G.G.F.G.I}$$$$V2.0\n",
      "     7 |     3000 |  0.000000E+00 |  0.000000E+00 | -8.3674993670976E-05 | -2.2491751916057E-04 |      PEPTIDE1{E.M.G.D.G.G.F.G.I}$$$$V2.0\n",
      "     8 |     3500 |  0.000000E+00 |  0.000000E+00 | -9.0412461534487E-05 | -2.2491751916057E-04 |      PEPTIDE1{E.M.G.D.G.G.F.G.I}$$$$V2.0\n",
      "     9 |     4000 |  0.000000E+00 |  0.000000E+00 | -9.5114256795510E-05 | -2.2491751916057E-04 |      PEPTIDE1{E.M.G.D.G.G.F.G.I}$$$$V2.0\n",
      "    10 |     4500 |  0.000000E+00 |  0.000000E+00 | -9.9059826238334E-05 | -2.2492229454719E-04 |      PEPTIDE1{E.M.G.D.G.F.G.G.I}$$$$V2.0\n",
      "    11 |     5000 |  0.000000E+00 |  0.000000E+00 | -1.0179042578872E-04 | -2.2492229454719E-04 |      PEPTIDE1{E.M.G.D.G.F.G.G.I}$$$$V2.0\n",
      "    12 |     5500 |  0.000000E+00 |  0.000000E+00 | -1.0469767616884E-04 | -2.2492229454719E-04 |      PEPTIDE1{E.M.G.D.G.F.G.G.I}$$$$V2.0\n",
      "    13 |     6000 |  0.000000E+00 |  0.000000E+00 | -1.0689287626597E-04 | -2.2492229454719E-04 |      PEPTIDE1{E.M.G.D.G.F.G.G.I}$$$$V2.0\n",
      "    14 |     6500 |  0.000000E+00 |  0.000000E+00 | -1.0850532646612E-04 | -2.2492229454719E-04 |      PEPTIDE1{E.M.G.D.G.F.G.G.I}$$$$V2.0\n",
      "    15 |     7000 |  0.000000E+00 |  0.000000E+00 | -1.0928086173178E-04 | -2.2492229454719E-04 |      PEPTIDE1{E.M.G.D.G.F.G.G.I}$$$$V2.0\n",
      "    16 |     7500 |  0.000000E+00 |  0.000000E+00 | -1.1044285057115E-04 | -2.2492229454719E-04 |      PEPTIDE1{E.M.G.D.G.F.G.G.I}$$$$V2.0\n",
      "    17 |     8000 |  0.000000E+00 |  0.000000E+00 | -1.1123652453140E-04 | -2.2492229454719E-04 |      PEPTIDE1{E.M.G.D.G.F.G.G.I}$$$$V2.0\n",
      "    18 |     8500 |  0.000000E+00 |  0.000000E+00 | -1.1211866502837E-04 | -2.2492835713956E-04 |      PEPTIDE1{F.M.G.D.G.E.G.G.I}$$$$V2.0\n",
      "    19 |     9000 |  0.000000E+00 |  0.000000E+00 | -1.1293584480046E-04 | -2.2492835713956E-04 |      PEPTIDE1{F.M.G.D.G.E.G.G.I}$$$$V2.0\n",
      "    20 |     9500 |  0.000000E+00 |  0.000000E+00 | -1.1435054545660E-04 | -2.2492835713956E-04 |      PEPTIDE1{F.M.G.D.G.E.G.G.I}$$$$V2.0\n",
      "    21 |    10000 |  0.000000E+00 |  0.000000E+00 | -1.1492447872026E-04 | -2.2492835713956E-04 |      PEPTIDE1{F.M.G.D.G.E.G.G.I}$$$$V2.0\n",
      "    22 |    10500 |  0.000000E+00 |  0.000000E+00 | -1.1633479977741E-04 | -2.2492835713956E-04 |      PEPTIDE1{F.M.G.D.G.E.G.G.I}$$$$V2.0\n",
      "    23 |    11000 |  0.000000E+00 |  0.000000E+00 | -1.1760951635964E-04 | -2.2492835713956E-04 |      PEPTIDE1{F.M.G.D.G.E.G.G.I}$$$$V2.0\n",
      "    24 |    11500 |  0.000000E+00 |  0.000000E+00 | -1.1858471104040E-04 | -2.2492835713956E-04 |      PEPTIDE1{F.M.G.D.G.E.G.G.I}$$$$V2.0\n",
      "    25 |    12000 |  0.000000E+00 |  0.000000E+00 | -1.1988243248073E-04 | -2.2492835713956E-04 |      PEPTIDE1{F.M.G.D.G.E.G.G.I}$$$$V2.0\n",
      "    26 |    12500 |  0.000000E+00 |  0.000000E+00 | -1.2095389754511E-04 | -2.2492835713956E-04 |      PEPTIDE1{F.M.G.D.G.E.G.G.I}$$$$V2.0\n",
      "    27 |    13000 |  0.000000E+00 |  0.000000E+00 | -1.2207202139440E-04 | -2.2492835713956E-04 |      PEPTIDE1{F.M.G.D.G.E.G.G.I}$$$$V2.0\n",
      "    28 |    13500 |  0.000000E+00 |  0.000000E+00 | -1.2258919045342E-04 | -2.2492835713956E-04 |      PEPTIDE1{F.M.G.D.G.E.G.G.I}$$$$V2.0\n",
      "    29 |    14000 |  0.000000E+00 |  0.000000E+00 | -1.2331489516325E-04 | -2.2492835713956E-04 |      PEPTIDE1{F.M.G.D.G.E.G.G.I}$$$$V2.0\n",
      "    30 |    14500 |  0.000000E+00 |  0.000000E+00 | -1.2378120960228E-04 | -2.2492835713956E-04 |      PEPTIDE1{F.M.G.D.G.E.G.G.I}$$$$V2.0\n",
      "    31 |    15000 |  0.000000E+00 |  0.000000E+00 | -1.2416767244485E-04 | -2.2492835713956E-04 |      PEPTIDE1{F.M.G.D.G.E.G.G.I}$$$$V2.0\n",
      "    32 |    15500 |  0.000000E+00 |  0.000000E+00 | -1.2464058943070E-04 | -2.2492835713956E-04 |      PEPTIDE1{F.M.G.D.G.E.G.G.I}$$$$V2.0\n",
      "    33 |    16000 |  0.000000E+00 |  0.000000E+00 | -1.2525320083282E-04 | -2.2492835713956E-04 |      PEPTIDE1{F.M.G.D.G.E.G.G.I}$$$$V2.0\n",
      "Best peptide found so far: PEPTIDE1{F.M.D.E.G.F.F.G.L}$$$$V2.0 / 0.247\n",
      "\n"
     ]
    }
   ],
   "source": [
    "peptides = seed_library.copy()\n",
    "pic50_scores = pic50_seed_library.copy()\n",
    "\n",
    "# Store data for later analysis\n",
    "data = [(0, p, s) for p, s in zip(peptides, pic50_scores)]\n",
    "\n",
    "for i in range(3):\n",
    "    suggested_peptides, _ = ps.recommend(peptides, pic50_scores.reshape(-1, 1), batch_size=96)\n",
    "\n",
    "    # Here you can add whatever methods you want to further filter out peptides\n",
    "\n",
    "    # Virtually test the suggested peptides using the MHC emulator\n",
    "    # You know the drill now, this is for benchmarking or demonstration\n",
    "    # purposes only and should be replaced with actual lab experiments.\n",
    "    pic50_suggested_peptides = lpe.score(suggested_peptides)\n",
    "\n",
    "    peptides = np.concatenate([peptides, suggested_peptides])\n",
    "    pic50_scores = np.concatenate((pic50_scores, pic50_suggested_peptides), axis=0)\n",
    "    data.extend([(i + 1, p, s) for p, s in zip(suggested_peptides, pic50_suggested_peptides)])\n",
    "\n",
    "    best_seq = peptides[np.argmin(pic50_scores)]\n",
    "    best_pic50 = np.min(pic50_scores)\n",
    "    print('Best peptide found so far: %s / %.3f' % (best_seq, best_pic50))\n",
    "    print('')\n",
    "\n",
    "df = pd.DataFrame(data=data, columns=('iter', 'polymer', 'exp_value'))"
   ]
  },
  {
   "cell_type": "code",
   "execution_count": 17,
   "metadata": {},
   "outputs": [
    {
     "data": {
      "image/png": "[encoded data removed]",
      "text/plain": [
       "<Figure size 2000x750 with 1 Axes>"
      ]
     },
     "metadata": {},
     "output_type": "display_data"
    }
   ],
   "source": [
    "fig, ax = plt.subplots(figsize=(20, 7.5))\n",
    "\n",
    "# pandas dataframe (df) columns: iter, peptide, exp_value\n",
    "df['iter'] = df['iter'].replace({0: 'Init.', 1: '1', 2: '2', 3: '3'})\n",
    "\n",
    "sns.lineplot(x='iter', y='exp_value', data=df, ax=ax, errorbar=('ci', 95), err_style='bars', linewidth=3.5, err_kws={'lw': 3.5})\n",
    "\n",
    "ax.set_xlim([-0.9, 3.5])\n",
    "ax.set_ylim([-2, 6.5])\n",
    "ax.set_ylabel('pIC50', fontsize=30)\n",
    "ax.set_xlabel('Generations', fontsize=30)\n",
    "ax.xaxis.set_tick_params(labelsize=30)\n",
    "ax.yaxis.set_tick_params(labelsize=30)\n",
    "\n",
    "sns.despine()\n",
    "plt.show()"
   ]
  },
  {
   "cell_type": "code",
   "execution_count": null,
   "metadata": {},
   "outputs": [],
   "source": []
  }
 ],
 "metadata": {
  "kernelspec": {
   "display_name": "Python [conda env:mambaforge-mobius-ubuntu]",
   "language": "python",
   "name": "conda-env-mambaforge-mobius-ubuntu-py"
  },
  "language_info": {
   "codemirror_mode": {
    "name": "ipython",
    "version": 3
   },
   "file_extension": ".py",
   "mimetype": "text/x-python",
   "name": "python",
   "nbconvert_exporter": "python",
   "pygments_lexer": "ipython3",
   "version": "3.11.0"
  }
 },
 "nbformat": 4,
 "nbformat_minor": 4
}
