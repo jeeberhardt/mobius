{
 "cells": [
  {
   "cell_type": "code",
   "execution_count": 1,
   "metadata": {},
   "outputs": [],
   "source": [
    "%matplotlib inline\n",
    "%load_ext autoreload\n",
    "%autoreload 2"
   ]
  },
  {
   "cell_type": "code",
   "execution_count": 3,
   "metadata": {},
   "outputs": [],
   "source": [
    "import numpy as np\n",
    "import pandas as pd\n",
    "from molfeat.trans.fp import FPVecTransformer\n",
    "from molfeat.calc import FP_FUNCS\n",
    "from rdkit import Chem\n",
    "from sklearn.model_selection import train_test_split\n",
    "from sklearn.metrics import r2_score, mean_squared_error\n",
    "\n",
    "from mobius import GPModel, TanimotoSimilarityKernel\n",
    "from mobius import convert_FASTA_to_HELM, ic50_to_pic50\n",
    "from mobius.utils import MolFromHELM"
   ]
  },
  {
   "cell_type": "code",
   "execution_count": 8,
   "metadata": {},
   "outputs": [],
   "source": [
    "class Molfeat:\n",
    "    def __init__(self, kind='ecfp', input_type='helm_rdkit', dimensions=4096, HELMCoreLibrary_filename=None):\n",
    "        msg_error = 'Format (%s) not handled. Please use FASTA, HELM_rdkit, HELM or SMILES format.'\n",
    "        assert input_type.lower() in ['fasta', 'helm_rdkit', 'helm', 'smiles'], msg_error\n",
    "        # Here we check that the kind of fingerprint requested is available in molfeat\n",
    "        msg_error = 'This featurizer (%s) in not available. Please use on of these: %s ' % (kind, FP_FUNCS.keys())\n",
    "        assert kind.split(':')[0] in FP_FUNCS.keys(), msg_error\n",
    "\n",
    "        # We store the fingerprint kind, the dimensions and the input type\n",
    "        # Depending on the fingerprint kind, the dimensions might\n",
    "        # be just ignored, like MACCS.\n",
    "        self._kind = kind\n",
    "        self._dimensions = dimensions\n",
    "        self._input_type = input_type.lower()\n",
    "        self._HELMCoreLibrary_filename = HELMCoreLibrary_filename\n",
    "\n",
    "    def transform(self, sequences):\n",
    "        if not isinstance(sequences, (list, tuple, np.ndarray)):\n",
    "            sequences = [sequences]\n",
    "\n",
    "        try:\n",
    "            if self._input_type == 'fasta':\n",
    "                mols = [Chem.rdmolfiles.MolFromFASTA(s) for s in sequences]\n",
    "            elif self._input_type == 'helm_rdkit':\n",
    "                mols = [Chem.rdmolfiles.MolFromHELM(s) for s in sequences]\n",
    "            elif self._input_type == 'helm':\n",
    "                mols = MolFromHELM(sequences, self._HELMCoreLibrary_filename)\n",
    "            else:\n",
    "                mols = [Chem.rdmolfiles.MolFromSmiles(s) for s in sequences]\n",
    "        except AttributeError:\n",
    "            print('Error: there are issues with the input molecules')\n",
    "            print(sequences)\n",
    "\n",
    "        smiles = [Chem.MolToSmiles(mol) for mol in mols]\n",
    "\n",
    "        # Now we can use the FPVecTransformer class to transform the\n",
    "        # input sequences into fingerprints\n",
    "        featurizer = FPVecTransformer(self._kind, length=self._dimensions)\n",
    "        fps = featurizer.transform(smiles)\n",
    "        fps = np.asarray(fps)\n",
    "\n",
    "        return fps"
   ]
  },
  {
   "cell_type": "code",
   "execution_count": 6,
   "metadata": {},
   "outputs": [],
   "source": [
    "# We read first the MHC class I dataset\n",
    "# You can find that file at the root of the repository in the data folder\n",
    "mhci = pd.read_csv('../data/mhc/bdata.20130222.mhci.csv')\n",
    "\n",
    "# A lot of peptides were set with those IC50 values. Looks like some default values.\n",
    "dirty_values = [1, 2, 3, 5000, 10000, 20000, 43424, 50000, 69444.44444, 78125]\n",
    "\n",
    "# Select only 9-mers and removed peptides with these dirty IC50 values.\n",
    "mhci = mhci[(mhci['mhc_allele'] == 'HLA-A*02:01') &\n",
    "            (mhci['length'] == 9) &\n",
    "            (~mhci['affinity_binding'].isin(dirty_values))].copy()\n",
    "\n",
    "# Convert IC50 to pIC50 (a pIC50 of 0 corresponds to an IC50 of 1 nM)\n",
    "mhci['pic50'] = ic50_to_pic50(mhci['affinity_binding'])\n",
    "\n",
    "# Convert FASTA sequences to HELM format\n",
    "mhci['helm'] = convert_FASTA_to_HELM(mhci['sequence'].values)\n",
    "\n",
    "# And we split the dataset into training and testing sets\n",
    "# We don't use the whole dataset because it takes too long to train the model\n",
    "X_train, X_test, y_train, y_test = train_test_split(mhci['helm'][::10].values,\n",
    "                                                    mhci['pic50'][::10].values,\n",
    "                                                    test_size=0.30, random_state=42)"
   ]
  },
  {
   "cell_type": "code",
   "execution_count": 9,
   "metadata": {},
   "outputs": [
    {
     "name": "stdout",
     "output_type": "stream",
     "text": [
      "ecfp -- r2: 0.354 - RMSD: 1.203\n",
      "avalon -- r2: 0.305 - RMSD: 1.248\n",
      "maccs -- r2: 0.114 - RMSD: 1.409\n",
      "fcfp -- r2: 0.380 - RMSD: 1.178\n",
      "secfp -- r2: 0.375 - RMSD: 1.183\n",
      "rdkit -- r2: 0.302 - RMSD: 1.250\n"
     ]
    }
   ],
   "source": [
    "fp_methods = ['ecfp', 'avalon', 'maccs', 'fcfp', 'secfp', 'rdkit']\n",
    "\n",
    "kernel = TanimotoSimilarityKernel()\n",
    "\n",
    "for fp_method in fp_methods:\n",
    "    mlfp = Molfeat(kind=fp_method, dimensions=4096)\n",
    "    gpmodel = GPModel(kernel=kernel, input_transformer=mlfp)\n",
    "    gpmodel.fit(X_train, y_train)\n",
    "    mu, _ = gpmodel.predict(X_test)\n",
    "    print(f'{fp_method} -- '\n",
    "          f'r2: {r2_score(y_test, mu):.3f} - '\n",
    "          f'RMSD: {np.sqrt(mean_squared_error(y_test, mu)):.3f}')"
   ]
  },
  {
   "cell_type": "code",
   "execution_count": null,
   "metadata": {},
   "outputs": [],
   "source": []
  }
 ],
 "metadata": {
  "kernelspec": {
   "display_name": "Python 3",
   "language": "python",
   "name": "python3"
  },
  "language_info": {
   "codemirror_mode": {
    "name": "ipython",
    "version": 3
   },
   "file_extension": ".py",
   "mimetype": "text/x-python",
   "name": "python",
   "nbconvert_exporter": "python",
   "pygments_lexer": "ipython3",
   "version": "3.9.18"
  }
 },
 "nbformat": 4,
 "nbformat_minor": 2
}
