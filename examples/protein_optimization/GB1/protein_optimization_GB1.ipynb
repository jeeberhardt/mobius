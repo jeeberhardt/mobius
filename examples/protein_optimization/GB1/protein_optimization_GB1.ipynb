{
 "cells": [
  {
   "cell_type": "code",
   "execution_count": 1,
   "id": "2a8260c1-6bd1-40bc-b1b4-fec70c75f12e",
   "metadata": {},
   "outputs": [],
   "source": [
    "%matplotlib inline\n",
    "%load_ext autoreload\n",
    "%autoreload 2"
   ]
  },
  {
   "cell_type": "code",
   "execution_count": 2,
   "id": "d4a7a563-f646-411c-a4c2-f4609e9f9a58",
   "metadata": {},
   "outputs": [],
   "source": [
    "import yaml\n",
    "\n",
    "import numpy as np\n",
    "import pandas as pd\n",
    "import matplotlib.pyplot as plt\n",
    "import seaborn as sns\n",
    "import torch\n",
    "from gpytorch.kernels import RBFKernel\n",
    "from gpytorch.priors import NormalPrior\n",
    "\n",
    "from mobius import Planner, SequenceGA\n",
    "from mobius import ProteinEmbedding\n",
    "from mobius import InverseFolding\n",
    "from mobius import GPLLModel, ExpectedImprovement\n",
    "from mobius.utils import generate_biopolymer_design_protocol_from_probabilities\n",
    "from mobius import homolog_scanning\n",
    "from mobius import convert_FASTA_to_HELM, convert_HELM_to_FASTA"
   ]
  },
  {
   "cell_type": "markdown",
   "id": "522fb502-7d87-45c7-a561-7ec59107a6b2",
   "metadata": {},
   "source": [
    "## GB1 dataset\n",
    "\n",
    "Citation: Adaptation in protein fitness landscapes is facilitated by indirect paths; Wu et al.; 2016; http://dx.doi.org/10.7554/eLife.16965.001"
   ]
  },
  {
   "cell_type": "code",
   "execution_count": 3,
   "id": "b2266942-7242-4bb9-8af0-b98b521dfa9a",
   "metadata": {},
   "outputs": [
    {
     "name": "stderr",
     "output_type": "stream",
     "text": [
      "/scicore/home/schwede/eberha0001/Applications/mambaforge/envs/mobius-ubuntu/lib/python3.11/site-packages/openpyxl/worksheet/_read_only.py:85: UserWarning: Unknown extension is not supported and will be removed\n",
      "  for idx, row in parser.parse():\n",
      "/scicore/home/schwede/eberha0001/Applications/mambaforge/envs/mobius-ubuntu/lib/python3.11/site-packages/openpyxl/worksheet/_read_only.py:85: UserWarning: Unknown extension is not supported and will be removed\n",
      "  for idx, row in parser.parse():\n"
     ]
    }
   ],
   "source": [
    "df_exp = pd.read_excel('elife-16965-supp1-v4.xlsx')\n",
    "df_imputated = pd.read_excel('elife-16965-supp2-v4.xlsx')"
   ]
  },
  {
   "cell_type": "code",
   "execution_count": 4,
   "id": "cfb3ebae-599e-490f-bf63-d64625626d7e",
   "metadata": {},
   "outputs": [],
   "source": [
    "df_imputated = df_imputated.rename(columns={\"Imputed fitness\": \"Fitness\"})\n",
    "df = pd.concat([df_exp[['Variants', 'Fitness']], df_imputated])"
   ]
  },
  {
   "cell_type": "code",
   "execution_count": 5,
   "id": "693fb597-bd00-47b5-b509-525fff40e3d1",
   "metadata": {},
   "outputs": [],
   "source": [
    "sequences = []\n",
    "wt_sequence = list('MQYKLILNGKTLKGETTTEAVDAATAEKVFKQYANDNGVDGEWTYDDATKTFTVTE')\n",
    "\n",
    "for variant in df['Variants'].values:\n",
    "    wt_sequence[38] = variant[0]\n",
    "    wt_sequence[39] = variant[1]\n",
    "    wt_sequence[40] = variant[2]\n",
    "    wt_sequence[53] = variant[3]\n",
    "\n",
    "    sequences.append(''.join(wt_sequence))\n",
    "\n",
    "df['Sequences'] = sequences\n",
    "df.to_csv('GB1_dataset.csv', index=False)"
   ]
  },
  {
   "cell_type": "markdown",
   "id": "bb93cdcd-2e57-463d-a47b-dbfc3cb6e9ed",
   "metadata": {},
   "source": [
    "## Initialize GB1 oracle"
   ]
  },
  {
   "cell_type": "code",
   "execution_count": 6,
   "id": "2406fa99-156c-4ed8-b619-8b9a2985ff8f",
   "metadata": {},
   "outputs": [],
   "source": [
    "class GB1Scorer:\n",
    "    \n",
    "    def __init__(self, sequences, values):\n",
    "        if len(sequences) != len(values):\n",
    "            raise ValueError(f'Different numbers of sequences and values ({len(sequences)} != {len(values)})')\n",
    "\n",
    "        self._data = {s: v for s, v in zip(sequences, values)}\n",
    "\n",
    "    def score(self, sequences):\n",
    "        if not isinstance(sequences, (list, tuple, np.ndarray)):\n",
    "            sequences = [sequences]\n",
    "        \n",
    "        return np.array([self._data[s] for s in sequences])\n"
   ]
  },
  {
   "cell_type": "code",
   "execution_count": 7,
   "id": "b031b180-d8ba-4d74-bc91-9e6e7dd5a95c",
   "metadata": {
    "scrolled": true
   },
   "outputs": [
    {
     "data": {
      "text/plain": [
       "array([1.])"
      ]
     },
     "execution_count": 7,
     "metadata": {},
     "output_type": "execute_result"
    }
   ],
   "source": [
    "df = pd.read_csv('GB1_dataset.csv')\n",
    "sequences = df['Sequences'].values\n",
    "fitness = df['Fitness'].values\n",
    "\n",
    "gb1 = GB1Scorer(sequences, fitness)\n",
    "gb1.score('MQYKLILNGKTLKGETTTEAVDAATAEKVFKQYANDNGVDGEWTYDDATKTFTVTE')"
   ]
  },
  {
   "cell_type": "markdown",
   "id": "ec96157c-d5c4-4ee7-8ece-5b32be8a1f4d",
   "metadata": {},
   "source": [
    "## Some plots..."
   ]
  },
  {
   "cell_type": "code",
   "execution_count": 28,
   "id": "7bb72b46-2430-4de6-b906-5b820c00c1d3",
   "metadata": {},
   "outputs": [
    {
     "name": "stdout",
     "output_type": "stream",
     "text": [
      "0.0\n",
      "9.9130883273888\n"
     ]
    }
   ],
   "source": [
    "print(np.min(fitness))\n",
    "print(np.max(fitness))"
   ]
  },
  {
   "cell_type": "code",
   "execution_count": 33,
   "id": "0010f89b-0dc7-4c95-9bfd-feb0b68394d1",
   "metadata": {},
   "outputs": [
    {
     "data": {
      "image/png": "[encoded data removed]",
      "text/plain": [
       "<Figure size 2000x750 with 1 Axes>"
      ]
     },
     "metadata": {},
     "output_type": "display_data"
    }
   ],
   "source": [
    "fig, ax = plt.subplots(figsize=(20, 7.5))\n",
    "ax.hist(fitness, bins=np.linspace(0, 10, 101), log=True)\n",
    "#ax.set_ylim([-0.1, 500])\n",
    "\n",
    "plt.show()"
   ]
  },
  {
   "cell_type": "markdown",
   "id": "0c8521fa-9945-4be8-aeb9-5b29fa51825b",
   "metadata": {},
   "source": [
    "## Run Bayesian Optimization"
   ]
  },
  {
   "cell_type": "markdown",
   "id": "52a4d06c-d185-4133-b512-36319c981ca6",
   "metadata": {},
   "source": [
    "### With ESM-1b only"
   ]
  },
  {
   "cell_type": "code",
   "execution_count": 34,
   "id": "fff1b20e-df41-428c-8120-7d4b8bd5fc6b",
   "metadata": {},
   "outputs": [],
   "source": [
    "# Load protein language model\n",
    "plm = ProteinEmbedding(pretrained_model_name='esm1b_t33_650M_UR50S', embedding_type='avg')"
   ]
  },
  {
   "cell_type": "code",
   "execution_count": 35,
   "id": "20825f8c-6b9f-40d8-b889-62f5313d7196",
   "metadata": {},
   "outputs": [],
   "source": [
    "yaml_content = \"\"\"\n",
    "    design:\n",
    "      monomers:\n",
    "        default: [A, C, D, E, F, G, H, I, K, L, M, N, P, Q, R, S, T, V, W, Y]\n",
    "      biopolymers:\n",
    "        - name: GB1\n",
    "          starting_residue: 1\n",
    "          length: 56\n",
    "          positions:\n",
    "            39: default\n",
    "            40: default\n",
    "            41: default\n",
    "            54: default\n",
    "    \"\"\"\n",
    "    \n",
    "with open('design_protocol_gb1.yaml', 'w') as f:\n",
    "    f.write(yaml_content)"
   ]
  },
  {
   "cell_type": "code",
   "execution_count": 36,
   "id": "bb931dd9-07be-4b95-9d32-5bb393599258",
   "metadata": {},
   "outputs": [],
   "source": [
    "# Load surrogate model\n",
    "gpmodel = GPLLModel(kernel=RBFKernel(), pretrained_model=plm, noise_prior=NormalPrior(0, 1))\n",
    "ei = ExpectedImprovement(gpmodel, maximize=True)\n",
    "optimizer = SequenceGA(algorithm='GA', period=15, design_protocol_filename='design_protocol_gb1.yaml')\n",
    "ps = Planner(ei, optimizer)"
   ]
  },
  {
   "cell_type": "code",
   "execution_count": 37,
   "id": "11786c13-28da-4626-9534-7f59d5483ad8",
   "metadata": {},
   "outputs": [],
   "source": [
    "lead_protein = convert_FASTA_to_HELM('MQYKLILNGKTLKGETTTEAVDAATAEKVFKQYANDNGVDGEWTYDDATKTFTVTE')[0]\n",
    "\n",
    "seed_library = [lead_protein]\n",
    "positions = {'PEPTIDE1': [39, 40, 41, 54]}\n",
    "\n",
    "for seq in homolog_scanning(lead_protein, positions=positions):\n",
    "    seed_library.append(seq)\n",
    "\n",
    "    if len(seed_library) >= 96:\n",
    "        print('Reach max. number of protein allowed.')\n",
    "        break\n",
    "\n",
    "seed_library = convert_HELM_to_FASTA(seed_library)\n",
    "scores_seed_library = gb1.score(seed_library)"
   ]
  },
  {
   "cell_type": "code",
   "execution_count": 38,
   "id": "2ecce926-1f13-4d5f-8fa6-037932480e9b",
   "metadata": {
    "scrolled": true
   },
   "outputs": [
    {
     "name": "stderr",
     "output_type": "stream",
     "text": [
      "Fitting GPLLM model (cuda): 14step [00:15,  1.13s/step, loss=1.02]\n"
     ]
    },
    {
     "name": "stdout",
     "output_type": "stream",
     "text": [
      "==========================================================================================================\n",
      "n_gen  |  n_eval  |        f_avg         |        f_min         |              best sequence              \n",
      "==========================================================================================================\n",
      "     1 |        0 |  7.15435665664993881 |  3.89803670068332009 | MQYKLILNGKTLKGETTT....VWGEWTYDDATKTFTVTE\n",
      "     2 |      500 | -5.4890792508424E-04 | -4.7858192303212E-02 | MQYKLILNGKTLKGETTT....IYGEWTYDDATKTFTVTE\n",
      "     3 |     1000 | -9.8040651379193E-04 | -6.3728497800166E-02 | MQYKLILNGKTLKGETTT....VYGEWTYDDATKTFTVTE\n",
      "     4 |     1500 | -1.2202246562406E-03 | -6.3728497800166E-02 | MQYKLILNGKTLKGETTT....VYGEWTYDDATKTFTVTE\n",
      "     5 |     2000 | -1.4845849976290E-03 | -6.3728497800166E-02 | MQYKLILNGKTLKGETTT....VYGEWTYDDATKTFTVTE\n",
      "     6 |     2500 | -1.7738633970282E-03 | -6.3728497800166E-02 | MQYKLILNGKTLKGETTT....VYGEWTYDDATKTFTVTE\n",
      "     7 |     3000 | -1.9960620675125E-03 | -6.3728497800166E-02 | MQYKLILNGKTLKGETTT....VYGEWTYDDATKTFTVTE\n",
      "     8 |     3500 | -2.1202157423563E-03 | -6.3728497800166E-02 | MQYKLILNGKTLKGETTT....VYGEWTYDDATKTFTVTE\n",
      "     9 |     4000 | -2.2032741551248E-03 | -6.3728497800166E-02 | MQYKLILNGKTLKGETTT....VYGEWTYDDATKTFTVTE\n",
      "    10 |     4500 | -2.2523480770819E-03 | -6.3728497800166E-02 | MQYKLILNGKTLKGETTT....VYGEWTYDDATKTFTVTE\n",
      "    11 |     5000 | -2.2877123313522E-03 | -6.3728497800166E-02 | MQYKLILNGKTLKGETTT....VYGEWTYDDATKTFTVTE\n",
      "    12 |     5500 | -2.3208215090008E-03 | -6.3728497800166E-02 | MQYKLILNGKTLKGETTT....VYGEWTYDDATKTFTVTE\n",
      "    13 |     6000 | -2.3298231532890E-03 | -6.3728497800166E-02 | MQYKLILNGKTLKGETTT....VYGEWTYDDATKTFTVTE\n",
      "    14 |     6500 | -2.3351096798517E-03 | -6.3728497800166E-02 | MQYKLILNGKTLKGETTT....VYGEWTYDDATKTFTVTE\n",
      "    15 |     7000 | -2.3499287532160E-03 | -6.3728497800166E-02 | MQYKLILNGKTLKGETTT....VYGEWTYDDATKTFTVTE\n",
      "    16 |     7500 | -2.3565248359374E-03 | -6.3728497800166E-02 | MQYKLILNGKTLKGETTT....VYGEWTYDDATKTFTVTE\n",
      "    17 |     8000 | -2.3584165072531E-03 | -6.3728497800166E-02 | MQYKLILNGKTLKGETTT....VYGEWTYDDATKTFTVTE\n",
      "    18 |     8500 | -2.3606598047801E-03 | -6.3728497800166E-02 | MQYKLILNGKTLKGETTT....VYGEWTYDDATKTFTVTE\n",
      "Best GB1 found so far: MQYKLILNGKTLKGETTTEAVDAATAEKVFKQYANDNGIWGEWTYDDATKTFTFTE / 5.772 (min: 0.000, mean: 1.619, max: 5.772)\n",
      "\n"
     ]
    },
    {
     "name": "stderr",
     "output_type": "stream",
     "text": [
      "Fitting GPLLM model (cuda): 11step [00:54,  4.93s/step, loss=1.26]\n"
     ]
    },
    {
     "name": "stdout",
     "output_type": "stream",
     "text": [
      "==========================================================================================================\n",
      "n_gen  |  n_eval  |        f_avg         |        f_min         |              best sequence              \n",
      "==========================================================================================================\n",
      "     1 |        0 |  1.0358340832886E+01 |  5.77203220933999983 | MQYKLILNGKTLKGETTT....IWGEWTYDDATKTFTFTE\n",
      "     2 |      500 | -4.5434898414752E-05 | -8.0754850842790E-03 | MQYKLILNGKTLKGETTT....IWGEWTYDDATKTFTWTE\n",
      "     3 |     1000 | -8.1294941781521E-05 | -8.0754850842790E-03 | MQYKLILNGKTLKGETTT....IWGEWTYDDATKTFTWTE\n",
      "     4 |     1500 | -1.5636922007626E-04 | -8.0754850842790E-03 | MQYKLILNGKTLKGETTT....IWGEWTYDDATKTFTWTE\n",
      "     5 |     2000 | -2.5661998078577E-04 | -8.0754850842790E-03 | MQYKLILNGKTLKGETTT....IWGEWTYDDATKTFTWTE\n",
      "     6 |     2500 | -3.3898723707837E-04 | -8.0754850842790E-03 | MQYKLILNGKTLKGETTT....IWGEWTYDDATKTFTWTE\n",
      "     7 |     3000 | -4.1032354786453E-04 | -8.0754850842790E-03 | MQYKLILNGKTLKGETTT....IWGEWTYDDATKTFTWTE\n",
      "     8 |     3500 | -4.6445791492326E-04 | -8.0754850842790E-03 | MQYKLILNGKTLKGETTT....IWGEWTYDDATKTFTWTE\n",
      "     9 |     4000 | -5.0173388058402E-04 | -8.0957325514768E-03 | MQYKLILNGKTLKGETTT....FFGEWTYDDATKTFTWTE\n",
      "    10 |     4500 | -5.3027527134624E-04 | -8.0957325514768E-03 | MQYKLILNGKTLKGETTT....FFGEWTYDDATKTFTWTE\n",
      "    11 |     5000 | -5.5878603492055E-04 | -8.0957325514768E-03 | MQYKLILNGKTLKGETTT....FFGEWTYDDATKTFTWTE\n",
      "    12 |     5500 | -5.7867444672905E-04 | -8.0957325514768E-03 | MQYKLILNGKTLKGETTT....FFGEWTYDDATKTFTWTE\n",
      "    13 |     6000 | -5.8800071784080E-04 | -8.0957325514768E-03 | MQYKLILNGKTLKGETTT....FFGEWTYDDATKTFTWTE\n",
      "    14 |     6500 | -5.9275511679469E-04 | -8.0957325514768E-03 | MQYKLILNGKTLKGETTT....FFGEWTYDDATKTFTWTE\n",
      "    15 |     7000 | -5.9650593406491E-04 | -8.0957325514768E-03 | MQYKLILNGKTLKGETTT....FFGEWTYDDATKTFTWTE\n",
      "    16 |     7500 | -5.9892503042840E-04 | -8.0957325514768E-03 | MQYKLILNGKTLKGETTT....FFGEWTYDDATKTFTWTE\n",
      "    17 |     8000 | -5.9964637474387E-04 | -8.0957325514768E-03 | MQYKLILNGKTLKGETTT....FFGEWTYDDATKTFTWTE\n",
      "    18 |     8500 | -6.0017421205008E-04 | -8.0957325514768E-03 | MQYKLILNGKTLKGETTT....FFGEWTYDDATKTFTWTE\n",
      "    19 |     9000 | -6.0042075113588E-04 | -8.0957325514768E-03 | MQYKLILNGKTLKGETTT....FFGEWTYDDATKTFTWTE\n",
      "    20 |     9500 | -6.0086967990170E-04 | -8.0957325514768E-03 | MQYKLILNGKTLKGETTT....FFGEWTYDDATKTFTWTE\n",
      "    21 |    10000 | -6.0107943185918E-04 | -8.0957325514768E-03 | MQYKLILNGKTLKGETTT....FFGEWTYDDATKTFTWTE\n",
      "    22 |    10500 | -6.0120111137417E-04 | -8.0957325514768E-03 | MQYKLILNGKTLKGETTT....FFGEWTYDDATKTFTWTE\n",
      "    23 |    11000 | -6.0159084850051E-04 | -8.0957325514768E-03 | MQYKLILNGKTLKGETTT....FFGEWTYDDATKTFTWTE\n",
      "    24 |    11500 | -6.0164589571289E-04 | -8.0957325514768E-03 | MQYKLILNGKTLKGETTT....FFGEWTYDDATKTFTWTE\n",
      "Best GB1 found so far: MQYKLILNGKTLKGETTTEAVDAATAEKVFKQYANDNGIWGEWTYDDATKTFTFTE / 5.772 (min: 0.000, mean: 1.435, max: 5.772)\n",
      "\n"
     ]
    },
    {
     "name": "stderr",
     "output_type": "stream",
     "text": [
      "Fitting GPLLM model (cuda): 16step [00:49,  3.08s/step, loss=1.2]\n"
     ]
    },
    {
     "name": "stdout",
     "output_type": "stream",
     "text": [
      "==========================================================================================================\n",
      "n_gen  |  n_eval  |        f_avg         |        f_min         |              best sequence              \n",
      "==========================================================================================================\n",
      "     1 |        0 |  1.0269218537592E+01 |  5.77203220933999983 | MQYKLILNGKTLKGETTT....IWGEWTYDDATKTFTFTE\n",
      "     2 |      500 | -2.1548256152679E-06 | -8.9629384173074E-05 | MQYKLILNGKTLKGETTT....LWGEWTYDDATKTFTGTE\n",
      "     3 |     1000 | -9.8634805228739E-06 | -5.7750539360324E-04 | MQYKLILNGKTLKGETTT....IWGEWTYDDATKTFTFTE\n",
      "     4 |     1500 | -2.6077173119337E-05 | -7.1319230768473E-04 | MQYKLILNGKTLKGETTT....VYCEWTYDDATKTFTGTE\n",
      "     5 |     2000 | -4.7637009444651E-05 | -7.1319230768473E-04 | MQYKLILNGKTLKGETTT....VYCEWTYDDATKTFTGTE\n",
      "     6 |     2500 | -7.9541313177828E-05 | -1.3125923215387E-03 | MQYKLILNGKTLKGETTT....LYCEWTYDDATKTFTGTE\n",
      "     7 |     3000 | -1.0751927049454E-04 | -1.3125923215387E-03 | MQYKLILNGKTLKGETTT....LYCEWTYDDATKTFTGTE\n",
      "     8 |     3500 | -1.2944904269400E-04 | -1.3125923215387E-03 | MQYKLILNGKTLKGETTT....LYCEWTYDDATKTFTGTE\n",
      "     9 |     4000 | -1.3986974683751E-04 | -1.3125923215387E-03 | MQYKLILNGKTLKGETTT....LYCEWTYDDATKTFTGTE\n",
      "    10 |     4500 | -1.4752156036144E-04 | -1.3125923215387E-03 | MQYKLILNGKTLKGETTT....LYCEWTYDDATKTFTGTE\n",
      "    11 |     5000 | -1.4942598704276E-04 | -1.3125923215387E-03 | MQYKLILNGKTLKGETTT....LYCEWTYDDATKTFTGTE\n",
      "    12 |     5500 | -1.5166660484291E-04 | -1.3125923215387E-03 | MQYKLILNGKTLKGETTT....LYCEWTYDDATKTFTGTE\n",
      "    13 |     6000 | -1.5307210541839E-04 | -1.3125923215387E-03 | MQYKLILNGKTLKGETTT....LYCEWTYDDATKTFTGTE\n",
      "    14 |     6500 | -1.5394505116821E-04 | -1.3125923215387E-03 | MQYKLILNGKTLKGETTT....LYCEWTYDDATKTFTGTE\n",
      "    15 |     7000 | -1.5482581833534E-04 | -1.3125923215387E-03 | MQYKLILNGKTLKGETTT....LYCEWTYDDATKTFTGTE\n",
      "    16 |     7500 | -1.5503907194629E-04 | -1.3125923215387E-03 | MQYKLILNGKTLKGETTT....LYCEWTYDDATKTFTGTE\n",
      "    17 |     8000 | -1.5512051494968E-04 | -1.3125923215387E-03 | MQYKLILNGKTLKGETTT....LYCEWTYDDATKTFTGTE\n",
      "    18 |     8500 | -1.5536434056384E-04 | -1.3125923215387E-03 | MQYKLILNGKTLKGETTT....LYCEWTYDDATKTFTGTE\n",
      "    19 |     9000 | -1.5539454084184E-04 | -1.3125923215387E-03 | MQYKLILNGKTLKGETTT....LYCEWTYDDATKTFTGTE\n",
      "    20 |     9500 | -1.5579118444078E-04 | -1.3125923215387E-03 | MQYKLILNGKTLKGETTT....LYCEWTYDDATKTFTGTE\n",
      "    21 |    10000 | -1.5585437431376E-04 | -1.3125923215387E-03 | MQYKLILNGKTLKGETTT....LYCEWTYDDATKTFTGTE\n",
      "Best GB1 found so far: MQYKLILNGKTLKGETTTEAVDAATAEKVFKQYANDNGIWGEWTYDDATKTFTFTE / 5.772 (min: 0.016, mean: 1.888, max: 5.772)\n",
      "\n"
     ]
    },
    {
     "name": "stderr",
     "output_type": "stream",
     "text": [
      "Fitting GPLLM model (cuda): 17step [01:58,  6.94s/step, loss=1.23]\n"
     ]
    },
    {
     "name": "stdout",
     "output_type": "stream",
     "text": [
      "==========================================================================================================\n",
      "n_gen  |  n_eval  |        f_avg         |        f_min         |              best sequence              \n",
      "==========================================================================================================\n",
      "     1 |        0 |  1.0107880084476E+01 |  5.77203220933999983 | MQYKLILNGKTLKGETTT....IWGEWTYDDATKTFTFTE\n",
      "     2 |      500 | -4.4082553555864E-05 | -2.8222104587430E-03 | MQYKLILNGKTLKGETTT....YWFEWTYDDATKTFTGTE\n",
      "     3 |     1000 | -1.1531358567019E-04 | -1.7885506554139E-02 | MQYKLILNGKTLKGETTT....LWCEWTYDDATKTFTGTE\n",
      "     4 |     1500 | -2.9281294896485E-04 | -2.7174249713992E-02 | MQYKLILNGKTLKGETTT....WWFEWTYDDATKTFTGTE\n",
      "     5 |     2000 | -4.2390882097764E-04 | -2.7174249713992E-02 | MQYKLILNGKTLKGETTT....WWFEWTYDDATKTFTGTE\n",
      "     6 |     2500 | -5.7242254640993E-04 | -2.7174249713992E-02 | MQYKLILNGKTLKGETTT....WWFEWTYDDATKTFTGTE\n",
      "     7 |     3000 | -7.1565917589830E-04 | -2.7174249713992E-02 | MQYKLILNGKTLKGETTT....WWFEWTYDDATKTFTGTE\n",
      "     8 |     3500 | -8.3004664443381E-04 | -2.7174249713992E-02 | MQYKLILNGKTLKGETTT....WWFEWTYDDATKTFTGTE\n",
      "     9 |     4000 | -8.9135171823420E-04 | -2.7174249713992E-02 | MQYKLILNGKTLKGETTT....WWFEWTYDDATKTFTGTE\n",
      "    10 |     4500 | -9.2758617118871E-04 | -2.7174249713992E-02 | MQYKLILNGKTLKGETTT....WWFEWTYDDATKTFTGTE\n",
      "    11 |     5000 | -9.5966070647892E-04 | -2.7174249713992E-02 | MQYKLILNGKTLKGETTT....WWFEWTYDDATKTFTGTE\n",
      "    12 |     5500 | -9.7453780320128E-04 | -2.7174249713992E-02 | MQYKLILNGKTLKGETTT....WWFEWTYDDATKTFTGTE\n",
      "    13 |     6000 | -9.8748967770441E-04 | -2.7174249713992E-02 | MQYKLILNGKTLKGETTT....WWFEWTYDDATKTFTGTE\n",
      "    14 |     6500 | -9.9857595717732E-04 | -2.7174249713992E-02 | MQYKLILNGKTLKGETTT....WWFEWTYDDATKTFTGTE\n",
      "    15 |     7000 | -1.0034769622931E-03 | -2.7174249713992E-02 | MQYKLILNGKTLKGETTT....WWFEWTYDDATKTFTGTE\n",
      "    16 |     7500 | -1.0104934220874E-03 | -2.7174249713992E-02 | MQYKLILNGKTLKGETTT....WWFEWTYDDATKTFTGTE\n",
      "    17 |     8000 | -1.0167160431895E-03 | -2.7174249713992E-02 | MQYKLILNGKTLKGETTT....WWFEWTYDDATKTFTGTE\n",
      "    18 |     8500 | -1.0209093715634E-03 | -2.7174249713992E-02 | MQYKLILNGKTLKGETTT....WWFEWTYDDATKTFTGTE\n",
      "    19 |     9000 | -1.0271804984304E-03 | -2.7174249713992E-02 | MQYKLILNGKTLKGETTT....WWFEWTYDDATKTFTGTE\n",
      "Best GB1 found so far: MQYKLILNGKTLKGETTTEAVDAATAEKVFKQYANDNGFWLEWTYDDATKTFTGTE / 7.313 (min: 0.000, mean: 1.093, max: 7.313)\n",
      "\n"
     ]
    },
    {
     "name": "stderr",
     "output_type": "stream",
     "text": [
      "Fitting GPLLM model (cuda): 15step [02:43, 10.91s/step, loss=1.24]\n"
     ]
    },
    {
     "name": "stdout",
     "output_type": "stream",
     "text": [
      "==========================================================================================================\n",
      "n_gen  |  n_eval  |        f_avg         |        f_min         |              best sequence              \n",
      "==========================================================================================================\n",
      "     1 |        0 |  1.3260580700681E+01 |  7.31265639681999957 | MQYKLILNGKTLKGETTT....FWLEWTYDDATKTFTGTE\n",
      "     2 |      500 | -1.7630015076716E-06 | -4.9342076800113E-04 | MQYKLILNGKTLKGETTT....WKFEWTYDDATKTFTGTE\n",
      "     3 |     1000 | -1.3053133818884E-05 | -4.8662886842484E-03 | MQYKLILNGKTLKGETTT....FWLEWTYDDATKTFTGTE\n",
      "     4 |     1500 | -4.8513001363540E-05 | -1.6170238769609E-02 | MQYKLILNGKTLKGETTT....WWLEWTYDDATKTFTGTE\n",
      "     5 |     2000 | -5.0579937236386E-05 | -1.6170238769609E-02 | MQYKLILNGKTLKGETTT....WWLEWTYDDATKTFTGTE\n",
      "     6 |     2500 | -5.4409363830808E-05 | -1.6170238769609E-02 | MQYKLILNGKTLKGETTT....WWLEWTYDDATKTFTGTE\n",
      "     7 |     3000 | -5.5089500578718E-05 | -1.6170238769609E-02 | MQYKLILNGKTLKGETTT....WWLEWTYDDATKTFTGTE\n",
      "     8 |     3500 | -5.5290096238358E-05 | -1.6170238769609E-02 | MQYKLILNGKTLKGETTT....WWLEWTYDDATKTFTGTE\n",
      "     9 |     4000 | -5.5341939276409E-05 | -1.6170238769609E-02 | MQYKLILNGKTLKGETTT....WWLEWTYDDATKTFTGTE\n",
      "    10 |     4500 | -5.5571767215083E-05 | -1.6170238769609E-02 | MQYKLILNGKTLKGETTT....WWLEWTYDDATKTFTGTE\n",
      "    11 |     5000 | -5.5711457911229E-05 | -1.6170238769609E-02 | MQYKLILNGKTLKGETTT....WWLEWTYDDATKTFTGTE\n",
      "    12 |     5500 | -5.5733438149093E-05 | -1.6170238769609E-02 | MQYKLILNGKTLKGETTT....WWLEWTYDDATKTFTGTE\n",
      "    13 |     6000 | -5.5761605328246E-05 | -1.6170238769609E-02 | MQYKLILNGKTLKGETTT....WWLEWTYDDATKTFTGTE\n",
      "    14 |     6500 | -5.5812591752985E-05 | -1.6170238769609E-02 | MQYKLILNGKTLKGETTT....WWLEWTYDDATKTFTGTE\n",
      "    15 |     7000 | -5.5853639467400E-05 | -1.6170238769609E-02 | MQYKLILNGKTLKGETTT....WWLEWTYDDATKTFTGTE\n",
      "    16 |     7500 | -5.5865574672453E-05 | -1.6170238769609E-02 | MQYKLILNGKTLKGETTT....WWLEWTYDDATKTFTGTE\n",
      "    17 |     8000 | -5.5881377899491E-05 | -1.6170238769609E-02 | MQYKLILNGKTLKGETTT....WWLEWTYDDATKTFTGTE\n",
      "    18 |     8500 | -5.5894880923669E-05 | -1.6170238769609E-02 | MQYKLILNGKTLKGETTT....WWLEWTYDDATKTFTGTE\n",
      "    19 |     9000 | -5.5921706805379E-05 | -1.6170238769609E-02 | MQYKLILNGKTLKGETTT....WWLEWTYDDATKTFTGTE\n",
      "Best GB1 found so far: MQYKLILNGKTLKGETTTEAVDAATAEKVFKQYANDNGFWLEWTYDDATKTFTGTE / 7.313 (min: 0.010, mean: 2.226, max: 7.313)\n",
      "\n"
     ]
    }
   ],
   "source": [
    "sequences = seed_library.copy()\n",
    "scores = scores_seed_library.copy()\n",
    "        \n",
    "# Store data for later analysis\n",
    "data = [(0, p, s) for p, s in zip(sequences, scores)]\n",
    "        \n",
    "for i in range(5):\n",
    "    suggested_sequences, _ = ps.recommand(sequences, scores.reshape(-1, 1), batch_size=96)\n",
    "    scores_suggested_sequences = gb1.score(suggested_sequences)\n",
    "        \n",
    "    sequences = np.concatenate([sequences, suggested_sequences])\n",
    "    scores = np.concatenate((scores, scores_suggested_sequences), axis=0)\n",
    "    data.extend([(i + 1, p, s) for p, s in zip(suggested_sequences, scores_suggested_sequences)])\n",
    "        \n",
    "    best_seq = sequences[np.argmax(scores)]\n",
    "    best_score = np.max(scores)\n",
    "    min_score = np.min(scores_suggested_sequences)\n",
    "    mean_score = np.mean(scores_suggested_sequences)\n",
    "    print(f'Best GB1 found so far: {best_seq} / {best_score:.3f} (min: {min_score:.3f}, mean: {mean_score:.3f}, max: {best_score:.3f})')\n",
    "    print('')\n",
    "    \n",
    "    df = pd.DataFrame(data=data, columns=('iter', 'sequence', 'exp_value'))\n",
    "    df.to_csv('results_gb1_homolog.csv', index=False)\n"
   ]
  },
  {
   "cell_type": "markdown",
   "id": "d9b37c43-cebb-4f56-bb21-393cfb946145",
   "metadata": {},
   "source": [
    "### With ESM-1b and ESM-IF1 (T=0.5)"
   ]
  },
  {
   "cell_type": "code",
   "execution_count": 39,
   "id": "c19d0a69-2db6-46be-b33c-79c6d3c0706a",
   "metadata": {},
   "outputs": [],
   "source": [
    "# Load protein language model\n",
    "plm = ProteinEmbedding(pretrained_model_name='esm1b_t33_650M_UR50S', embedding_type='avg')"
   ]
  },
  {
   "cell_type": "code",
   "execution_count": 40,
   "id": "e80bee52-978c-43ec-ac5d-acef12d02483",
   "metadata": {},
   "outputs": [
    {
     "name": "stderr",
     "output_type": "stream",
     "text": [
      "/scicore/home/schwede/eberha0001/Applications/mambaforge/envs/mobius-ubuntu/lib/python3.11/site-packages/esm/pretrained.py:215: UserWarning: Regression weights not found, predicting contacts will not produce correct results.\n",
      "  warnings.warn(\n"
     ]
    }
   ],
   "source": [
    "# Get probabilities from structure model\n",
    "iv = InverseFolding()\n",
    "probabilities = iv.get_probabilities_from_structure('2gi9.pdb', target_chainid='A', temperature=0.5)\n",
    "monomers = iv.vocab\n",
    "\n",
    "# Fix positions involved in the fluorophore activity\n",
    "wt_seq = 'MQYKLILNGKTLKGETTTEAVDAATAEKVFKQYANDNGVDGEWTYDDATKTFTVTE'\n",
    "positions = [39, 40, 41, 54]\n",
    "fixed_positions = {}\n",
    "\n",
    "for i, aa in enumerate(wt_seq):\n",
    "    if not i + 1 in positions:\n",
    "        fixed_positions[i + 1] = aa\n",
    "\n",
    "with open('design_protocol_gb1_probabilities.yaml', 'w') as w:\n",
    "    data = generate_biopolymer_design_protocol_from_probabilities(probabilities, monomers, fixed_positions=fixed_positions)\n",
    "    yaml.dump(data, w, sort_keys=False)"
   ]
  },
  {
   "cell_type": "code",
   "execution_count": 41,
   "id": "45f708bf-2ce1-497f-9c15-b4b186debde0",
   "metadata": {},
   "outputs": [],
   "source": [
    "# Load surrogate model\n",
    "gpmodel = GPLLModel(kernel=RBFKernel(), pretrained_model=plm, noise_prior=NormalPrior(0, 1))\n",
    "ei = ExpectedImprovement(gpmodel, maximize=True)\n",
    "optimizer = SequenceGA(algorithm='GA', period=15, design_protocol_filename='design_protocol_gb1_probabilities.yaml')\n",
    "ps = Planner(ei, optimizer)"
   ]
  },
  {
   "cell_type": "code",
   "execution_count": 42,
   "id": "abf8ee50-4409-4578-98c5-4d52b0740382",
   "metadata": {},
   "outputs": [],
   "source": [
    "lead_protein = convert_FASTA_to_HELM('MQYKLILNGKTLKGETTTEAVDAATAEKVFKQYANDNGVDGEWTYDDATKTFTVTE')[0]\n",
    "\n",
    "seed_library = [lead_protein]\n",
    "positions = {'PEPTIDE1': [39, 40, 41, 54]}\n",
    "\n",
    "for seq in homolog_scanning(lead_protein, positions=positions):\n",
    "    seed_library.append(seq)\n",
    "\n",
    "    if len(seed_library) >= 96:\n",
    "        print('Reach max. number of protein allowed.')\n",
    "        break\n",
    "\n",
    "seed_library = convert_HELM_to_FASTA(seed_library)\n",
    "scores_seed_library = gb1.score(seed_library)"
   ]
  },
  {
   "cell_type": "code",
   "execution_count": 43,
   "id": "d344a8e5-4953-49f2-90ee-2d27d35691a1",
   "metadata": {
    "scrolled": true
   },
   "outputs": [
    {
     "name": "stderr",
     "output_type": "stream",
     "text": [
      "Fitting GPLLM model (cuda): 14step [00:16,  1.15s/step, loss=1.02]\n"
     ]
    },
    {
     "name": "stdout",
     "output_type": "stream",
     "text": [
      "==========================================================================================================\n",
      "n_gen  |  n_eval  |        f_avg         |        f_min         |              best sequence              \n",
      "==========================================================================================================\n",
      "     1 |        0 |  7.15435665664993881 |  3.89803670068332009 | MQYKLILNGKTLKGETTT....VWGEWTYDDATKTFTVTE\n",
      "     2 |      500 | -5.3339713128006E-04 | -4.7858195727885E-02 | MQYKLILNGKTLKGETTT....IYGEWTYDDATKTFTVTE\n",
      "     3 |     1000 | -9.5084000093757E-04 | -6.3728547093237E-02 | MQYKLILNGKTLKGETTT....VYGEWTYDDATKTFTVTE\n",
      "     4 |     1500 | -1.1663151690592E-03 | -6.3728547093237E-02 | MQYKLILNGKTLKGETTT....VYGEWTYDDATKTFTVTE\n",
      "     5 |     2000 | -1.4781618335290E-03 | -6.3728547093237E-02 | MQYKLILNGKTLKGETTT....VYGEWTYDDATKTFTVTE\n",
      "     6 |     2500 | -1.6558808208940E-03 | -6.3728547093237E-02 | MQYKLILNGKTLKGETTT....VYGEWTYDDATKTFTVTE\n",
      "     7 |     3000 | -1.7973118277524E-03 | -6.3728547093237E-02 | MQYKLILNGKTLKGETTT....VYGEWTYDDATKTFTVTE\n",
      "     8 |     3500 | -1.8959649733395E-03 | -6.3728547093237E-02 | MQYKLILNGKTLKGETTT....VYGEWTYDDATKTFTVTE\n",
      "     9 |     4000 | -1.9996499133466E-03 | -6.3728547093237E-02 | MQYKLILNGKTLKGETTT....VYGEWTYDDATKTFTVTE\n",
      "    10 |     4500 | -2.0785788604474E-03 | -6.3728547093237E-02 | MQYKLILNGKTLKGETTT....VYGEWTYDDATKTFTVTE\n",
      "    11 |     5000 | -2.1400521467122E-03 | -6.3728547093237E-02 | MQYKLILNGKTLKGETTT....VYGEWTYDDATKTFTVTE\n",
      "    12 |     5500 | -2.1831559620954E-03 | -6.3728547093237E-02 | MQYKLILNGKTLKGETTT....VYGEWTYDDATKTFTVTE\n",
      "    13 |     6000 | -2.2084694527735E-03 | -6.3728547093237E-02 | MQYKLILNGKTLKGETTT....VYGEWTYDDATKTFTVTE\n",
      "    14 |     6500 | -2.2177586433150E-03 | -6.3728547093237E-02 | MQYKLILNGKTLKGETTT....VYGEWTYDDATKTFTVTE\n",
      "    15 |     7000 | -2.2206158818492E-03 | -6.3728547093237E-02 | MQYKLILNGKTLKGETTT....VYGEWTYDDATKTFTVTE\n",
      "    16 |     7500 | -2.2216177885403E-03 | -6.3728547093237E-02 | MQYKLILNGKTLKGETTT....VYGEWTYDDATKTFTVTE\n",
      "    17 |     8000 | -2.2239178574713E-03 | -6.3728547093237E-02 | MQYKLILNGKTLKGETTT....VYGEWTYDDATKTFTVTE\n",
      "    18 |     8500 | -2.2256457361617E-03 | -6.3728547093237E-02 | MQYKLILNGKTLKGETTT....VYGEWTYDDATKTFTVTE\n",
      "Best GB1 found so far: MQYKLILNGKTLKGETTTEAVDAATAEKVFKQYANDNGIWGEWTYDDATKTFTFTE / 5.772 (min: 0.000, mean: 1.524, max: 5.772)\n",
      "\n"
     ]
    },
    {
     "name": "stderr",
     "output_type": "stream",
     "text": [
      "Fitting GPLLM model (cuda): 11step [00:19,  1.82s/step, loss=1.26]\n"
     ]
    },
    {
     "name": "stdout",
     "output_type": "stream",
     "text": [
      "==========================================================================================================\n",
      "n_gen  |  n_eval  |        f_avg         |        f_min         |              best sequence              \n",
      "==========================================================================================================\n",
      "     1 |        0 |  1.0411398689636E+01 |  5.77203220933999983 | MQYKLILNGKTLKGETTT....IWGEWTYDDATKTFTFTE\n",
      "     2 |      500 | -4.6405833316381E-05 | -3.0533656576523E-03 | MQYKLILNGKTLKGETTT....FWGEWTYDDATKTFTFTE\n",
      "     3 |     1000 | -1.6206212542011E-04 | -1.2999269784332E-02 | MQYKLILNGKTLKGETTT....IWGEWTYDDATKTFTWTE\n",
      "     4 |     1500 | -3.0681237879490E-04 | -1.2999269784332E-02 | MQYKLILNGKTLKGETTT....IWGEWTYDDATKTFTWTE\n",
      "     5 |     2000 | -5.0595525598348E-04 | -1.2999269784332E-02 | MQYKLILNGKTLKGETTT....IWGEWTYDDATKTFTWTE\n",
      "     6 |     2500 | -6.4054309219427E-04 | -1.2999269784332E-02 | MQYKLILNGKTLKGETTT....IWGEWTYDDATKTFTWTE\n",
      "     7 |     3000 | -6.9276497381340E-04 | -1.2999269784332E-02 | MQYKLILNGKTLKGETTT....IWGEWTYDDATKTFTWTE\n",
      "     8 |     3500 | -7.2242942753764E-04 | -1.2999269784332E-02 | MQYKLILNGKTLKGETTT....IWGEWTYDDATKTFTWTE\n",
      "     9 |     4000 | -7.3764078478724E-04 | -1.2999269784332E-02 | MQYKLILNGKTLKGETTT....IWGEWTYDDATKTFTWTE\n",
      "    10 |     4500 | -7.3993600957181E-04 | -1.2999269784332E-02 | MQYKLILNGKTLKGETTT....IWGEWTYDDATKTFTWTE\n",
      "    11 |     5000 | -7.4177689982223E-04 | -1.2999269784332E-02 | MQYKLILNGKTLKGETTT....IWGEWTYDDATKTFTWTE\n",
      "    12 |     5500 | -7.4268797104342E-04 | -1.2999269784332E-02 | MQYKLILNGKTLKGETTT....IWGEWTYDDATKTFTWTE\n",
      "    13 |     6000 | -7.4325900226053E-04 | -1.2999269784332E-02 | MQYKLILNGKTLKGETTT....IWGEWTYDDATKTFTWTE\n",
      "    14 |     6500 | -7.4325900226053E-04 | -1.2999269784332E-02 | MQYKLILNGKTLKGETTT....IWGEWTYDDATKTFTWTE\n",
      "    15 |     7000 | -7.4337285992285E-04 | -1.2999269784332E-02 | MQYKLILNGKTLKGETTT....IWGEWTYDDATKTFTWTE\n",
      "    16 |     7500 | -7.4356533663105E-04 | -1.2999269784332E-02 | MQYKLILNGKTLKGETTT....IWGEWTYDDATKTFTWTE\n",
      "    17 |     8000 | -7.4363305093686E-04 | -1.2999269784332E-02 | MQYKLILNGKTLKGETTT....IWGEWTYDDATKTFTWTE\n",
      "    18 |     8500 | -7.4363305093686E-04 | -1.2999269784332E-02 | MQYKLILNGKTLKGETTT....IWGEWTYDDATKTFTWTE\n",
      "Best GB1 found so far: MQYKLILNGKTLKGETTTEAVDAATAEKVFKQYANDNGIWGEWTYDDATKTFTFTE / 5.772 (min: 0.000, mean: 1.240, max: 5.772)\n",
      "\n"
     ]
    },
    {
     "name": "stderr",
     "output_type": "stream",
     "text": [
      "Fitting GPLLM model (cuda): 11step [00:41,  3.80s/step, loss=1.19]\n"
     ]
    },
    {
     "name": "stdout",
     "output_type": "stream",
     "text": [
      "==========================================================================================================\n",
      "n_gen  |  n_eval  |        f_avg         |        f_min         |              best sequence              \n",
      "==========================================================================================================\n",
      "     1 |        0 |  1.0373018931908E+01 |  5.77203220933999983 | MQYKLILNGKTLKGETTT....IWGEWTYDDATKTFTFTE\n",
      "     2 |      500 | -8.8218575938857E-07 | -1.0299009750796E-04 | MQYKLILNGKTLKGETTT....TYGEWTYDDATKTFTCTE\n",
      "     3 |     1000 | -3.7627246546606E-06 | -2.8842208775472E-04 | MQYKLILNGKTLKGETTT....FYGEWTYDDATKTFTCTE\n",
      "     4 |     1500 | -1.0490789278710E-05 | -1.0459754492522E-03 | MQYKLILNGKTLKGETTT....IWGEWTYDDATKTFTFTE\n",
      "     5 |     2000 | -1.6338334320422E-05 | -1.0459754492522E-03 | MQYKLILNGKTLKGETTT....IWGEWTYDDATKTFTFTE\n",
      "     6 |     2500 | -2.1452949250834E-05 | -1.0459754492522E-03 | MQYKLILNGKTLKGETTT....IWGEWTYDDATKTFTFTE\n",
      "     7 |     3000 | -2.6654403851153E-05 | -1.0459754492522E-03 | MQYKLILNGKTLKGETTT....IWGEWTYDDATKTFTFTE\n",
      "     8 |     3500 | -3.0614365472894E-05 | -1.0459754492522E-03 | MQYKLILNGKTLKGETTT....IWGEWTYDDATKTFTFTE\n",
      "     9 |     4000 | -3.3218877982751E-05 | -1.0459754492522E-03 | MQYKLILNGKTLKGETTT....IWGEWTYDDATKTFTFTE\n",
      "    10 |     4500 | -3.4788966788826E-05 | -1.0459754492522E-03 | MQYKLILNGKTLKGETTT....IWGEWTYDDATKTFTFTE\n",
      "    11 |     5000 | -3.5714734725396E-05 | -1.0459754492522E-03 | MQYKLILNGKTLKGETTT....IWGEWTYDDATKTFTFTE\n",
      "    12 |     5500 | -3.6104270555797E-05 | -1.0459754492522E-03 | MQYKLILNGKTLKGETTT....IWGEWTYDDATKTFTFTE\n",
      "    13 |     6000 | -3.6542755298889E-05 | -1.0459754492522E-03 | MQYKLILNGKTLKGETTT....IWGEWTYDDATKTFTFTE\n",
      "    14 |     6500 | -3.6699671904367E-05 | -1.0459754492522E-03 | MQYKLILNGKTLKGETTT....IWGEWTYDDATKTFTFTE\n",
      "    15 |     7000 | -3.6827453517341E-05 | -1.0459754492522E-03 | MQYKLILNGKTLKGETTT....IWGEWTYDDATKTFTFTE\n",
      "    16 |     7500 | -3.6945627576497E-05 | -1.0459754492522E-03 | MQYKLILNGKTLKGETTT....IWGEWTYDDATKTFTFTE\n",
      "    17 |     8000 | -3.6978671475652E-05 | -1.0459754492522E-03 | MQYKLILNGKTLKGETTT....IWGEWTYDDATKTFTFTE\n",
      "    18 |     8500 | -3.7017590566887E-05 | -1.0459754492522E-03 | MQYKLILNGKTLKGETTT....IWGEWTYDDATKTFTFTE\n",
      "    19 |     9000 | -3.7021428516193E-05 | -1.0459754492522E-03 | MQYKLILNGKTLKGETTT....IWGEWTYDDATKTFTFTE\n",
      "Best GB1 found so far: MQYKLILNGKTLKGETTTEAVDAATAEKVFKQYANDNGIWGEWTYDDATKTFTFTE / 5.772 (min: 0.000, mean: 1.406, max: 5.772)\n",
      "\n"
     ]
    },
    {
     "name": "stderr",
     "output_type": "stream",
     "text": [
      "Fitting GPLLM model (cuda): 14step [01:40,  7.18s/step, loss=1.24]\n"
     ]
    },
    {
     "name": "stdout",
     "output_type": "stream",
     "text": [
      "==========================================================================================================\n",
      "n_gen  |  n_eval  |        f_avg         |        f_min         |              best sequence              \n",
      "==========================================================================================================\n",
      "     1 |        0 |  1.0311340966618E+01 |  5.77203220933999983 | MQYKLILNGKTLKGETTT....IWGEWTYDDATKTFTFTE\n",
      "     2 |      500 | -9.8627169848210E-07 | -8.6810815067428E-05 | MQYKLILNGKTLKGETTT....LRCEWTYDDATKTFTGTE\n",
      "     3 |     1000 | -9.3558381645971E-06 | -1.2629101543135E-03 | MQYKLILNGKTLKGETTT....THCEWTYDDATKTFTATE\n",
      "     4 |     1500 | -1.3868806297552E-05 | -1.2629101543135E-03 | MQYKLILNGKTLKGETTT....THCEWTYDDATKTFTATE\n",
      "     5 |     2000 | -1.7545127476574E-05 | -1.2629101543135E-03 | MQYKLILNGKTLKGETTT....THCEWTYDDATKTFTATE\n",
      "     6 |     2500 | -2.0235069350704E-05 | -1.2629101543135E-03 | MQYKLILNGKTLKGETTT....THCEWTYDDATKTFTATE\n",
      "     7 |     3000 | -2.2307056071480E-05 | -1.2629101543135E-03 | MQYKLILNGKTLKGETTT....THCEWTYDDATKTFTATE\n",
      "     8 |     3500 | -2.3852981387018E-05 | -1.2629101543135E-03 | MQYKLILNGKTLKGETTT....THCEWTYDDATKTFTATE\n",
      "     9 |     4000 | -2.5314587857969E-05 | -1.2629101543135E-03 | MQYKLILNGKTLKGETTT....THCEWTYDDATKTFTATE\n",
      "    10 |     4500 | -2.7648268139219E-05 | -1.2629101543135E-03 | MQYKLILNGKTLKGETTT....THCEWTYDDATKTFTATE\n",
      "    11 |     5000 | -2.8682943680142E-05 | -1.2629101543135E-03 | MQYKLILNGKTLKGETTT....THCEWTYDDATKTFTATE\n",
      "    12 |     5500 | -2.9380885536846E-05 | -1.2629101543135E-03 | MQYKLILNGKTLKGETTT....THCEWTYDDATKTFTATE\n",
      "    13 |     6000 | -3.1022634816787E-05 | -1.2629101543135E-03 | MQYKLILNGKTLKGETTT....THCEWTYDDATKTFTATE\n",
      "    14 |     6500 | -3.1553410552282E-05 | -1.2629101543135E-03 | MQYKLILNGKTLKGETTT....THCEWTYDDATKTFTATE\n",
      "    15 |     7000 | -3.2004437122071E-05 | -1.2629101543135E-03 | MQYKLILNGKTLKGETTT....THCEWTYDDATKTFTATE\n",
      "    16 |     7500 | -3.2158596042550E-05 | -1.2629101543135E-03 | MQYKLILNGKTLKGETTT....THCEWTYDDATKTFTATE\n",
      "    17 |     8000 | -3.2350063206874E-05 | -1.2629101543135E-03 | MQYKLILNGKTLKGETTT....THCEWTYDDATKTFTATE\n",
      "    18 |     8500 | -3.2430415885007E-05 | -1.2629101543135E-03 | MQYKLILNGKTLKGETTT....THCEWTYDDATKTFTATE\n",
      "Best GB1 found so far: MQYKLILNGKTLKGETTTEAVDAATAEKVFKQYANDNGAHCEWTYDDATKTFTATE / 9.913 (min: 0.002, mean: 1.600, max: 9.913)\n",
      "\n"
     ]
    },
    {
     "name": "stderr",
     "output_type": "stream",
     "text": [
      "Fitting GPLLM model (cuda): 13step [01:38,  7.55s/step, loss=1.38]\n"
     ]
    },
    {
     "name": "stdout",
     "output_type": "stream",
     "text": [
      "==========================================================================================================\n",
      "n_gen  |  n_eval  |        f_avg         |        f_min         |              best sequence              \n",
      "==========================================================================================================\n",
      "     1 |        0 |  1.8517001510241E+01 |  9.91308832738880064 | MQYKLILNGKTLKGETTT....AHCEWTYDDATKTFTATE\n",
      "     2 |      500 | -7.0897978823014E-13 | -2.4700570655305E-10 | MQYKLILNGKTLKGETTT....WWCEWTYDDATKTFTGTE\n",
      "     3 |     1000 | -1.9250064671620E-12 | -4.0064413493086E-10 | MQYKLILNGKTLKGETTT....ANCEWTYDDATKTFTATE\n",
      "     4 |     1500 | -1.7841975641506E-11 | -4.2092131042628E-09 | MQYKLILNGKTLKGETTT....ASCEWTYDDATKTFTATE\n",
      "     5 |     2000 | -2.2801034233812E-11 | -4.2092131042628E-09 | MQYKLILNGKTLKGETTT....ASCEWTYDDATKTFTATE\n",
      "     6 |     2500 | -2.9552371732440E-11 | -4.2092131042628E-09 | MQYKLILNGKTLKGETTT....ASCEWTYDDATKTFTATE\n",
      "     7 |     3000 | -3.0375144728455E-11 | -4.2092131042628E-09 | MQYKLILNGKTLKGETTT....ASCEWTYDDATKTFTATE\n",
      "     8 |     3500 | -3.1855525354993E-11 | -4.2092131042628E-09 | MQYKLILNGKTLKGETTT....ASCEWTYDDATKTFTATE\n",
      "     9 |     4000 | -3.2780507190189E-11 | -4.2092131042628E-09 | MQYKLILNGKTLKGETTT....ASCEWTYDDATKTFTATE\n",
      "    10 |     4500 | -3.3214707387659E-11 | -4.2092131042628E-09 | MQYKLILNGKTLKGETTT....ASCEWTYDDATKTFTATE\n",
      "    11 |     5000 | -3.3563189557228E-11 | -4.2092131042628E-09 | MQYKLILNGKTLKGETTT....ASCEWTYDDATKTFTATE\n",
      "    12 |     5500 | -3.4168985793972E-11 | -4.2092131042628E-09 | MQYKLILNGKTLKGETTT....ASCEWTYDDATKTFTATE\n",
      "    13 |     6000 | -3.4841977218351E-11 | -4.2092131042628E-09 | MQYKLILNGKTLKGETTT....ASCEWTYDDATKTFTATE\n",
      "    14 |     6500 | -3.5209440279333E-11 | -4.2092131042628E-09 | MQYKLILNGKTLKGETTT....ASCEWTYDDATKTFTATE\n",
      "    15 |     7000 | -3.5508042645301E-11 | -4.2092131042628E-09 | MQYKLILNGKTLKGETTT....ASCEWTYDDATKTFTATE\n",
      "    16 |     7500 | -3.6233487539991E-11 | -4.2092131042628E-09 | MQYKLILNGKTLKGETTT....ASCEWTYDDATKTFTATE\n",
      "    17 |     8000 | -3.6423074666547E-11 | -4.2092131042628E-09 | MQYKLILNGKTLKGETTT....ASCEWTYDDATKTFTATE\n",
      "    18 |     8500 | -3.6533160937865E-11 | -4.2092131042628E-09 | MQYKLILNGKTLKGETTT....ASCEWTYDDATKTFTATE\n",
      "    19 |     9000 | -3.6736012345213E-11 | -4.2092131042628E-09 | MQYKLILNGKTLKGETTT....ASCEWTYDDATKTFTATE\n",
      "Best GB1 found so far: MQYKLILNGKTLKGETTTEAVDAATAEKVFKQYANDNGAHCEWTYDDATKTFTATE / 9.913 (min: 0.000, mean: 2.115, max: 9.913)\n",
      "\n"
     ]
    }
   ],
   "source": [
    "sequences = seed_library.copy()\n",
    "scores = scores_seed_library.copy()\n",
    "        \n",
    "# Store data for later analysis\n",
    "data = [(0, p, s) for p, s in zip(sequences, scores)]\n",
    "        \n",
    "for i in range(5):\n",
    "    suggested_sequences, _ = ps.recommand(sequences, scores.reshape(-1, 1), batch_size=96)\n",
    "    scores_suggested_sequences = gb1.score(suggested_sequences)\n",
    "        \n",
    "    sequences = np.concatenate([sequences, suggested_sequences])\n",
    "    scores = np.concatenate((scores, scores_suggested_sequences), axis=0)\n",
    "    data.extend([(i + 1, p, s) for p, s in zip(suggested_sequences, scores_suggested_sequences)])\n",
    "        \n",
    "    best_seq = sequences[np.argmax(scores)]\n",
    "    best_score = np.max(scores)\n",
    "    min_score = np.min(scores_suggested_sequences)\n",
    "    mean_score = np.mean(scores_suggested_sequences)\n",
    "    print(f'Best GB1 found so far: {best_seq} / {best_score:.3f} (min: {min_score:.3f}, mean: {mean_score:.3f}, max: {best_score:.3f})')\n",
    "    print('')\n",
    "    \n",
    "    df = pd.DataFrame(data=data, columns=('iter', 'sequence', 'exp_value'))\n",
    "    df.to_csv('results_gb1_homolog_esm-if1.csv', index=False)\n"
   ]
  },
  {
   "cell_type": "markdown",
   "id": "0134c6f1-6dab-4cee-ae0c-ecdaa87d275a",
   "metadata": {},
   "source": [
    "## Comparison"
   ]
  },
  {
   "cell_type": "code",
   "execution_count": 44,
   "id": "eb717429-d1b3-450c-bf81-6fe971800a99",
   "metadata": {},
   "outputs": [
    {
     "data": {
      "image/png": "[encoded data removed]",
      "text/plain": [
       "<Figure size 1000x500 with 1 Axes>"
      ]
     },
     "metadata": {},
     "output_type": "display_data"
    }
   ],
   "source": [
    "methods = ['gb1_homolog', 'gb1_homolog_esm-if1']\n",
    "method_renaming = {'gb1_homolog': 'Homolog + ESM-1b', 'gb1_homolog_esm-if1': 'Homolog + ESM-1b + ESM-IF1 (T=0.5)'}\n",
    "\n",
    "dfs = []\n",
    "\n",
    "for method in methods:\n",
    "    df = pd.read_csv(f'results_{method}.csv')\n",
    "    df['method'] = method_renaming[method]\n",
    "    maxs = df.loc[df.groupby(by=['iter'])['exp_value'].idxmax()]\n",
    "    dfs.append(maxs)\n",
    "\n",
    "dfs = pd.concat(dfs).reset_index()\n",
    "\n",
    "dfs['iter'] = dfs['iter'].replace({0: 'Init.', 1: '1', 2: '2', 3: '3', 4: '4', 5: '5'})\n",
    "\n",
    "fig, axarr = plt.subplots(figsize=(10, 5))\n",
    "sns.lineplot(x='iter', y='exp_value', hue='method', data=dfs, ax=axarr, linewidth=3.5)\n",
    "\n",
    "axarr.legend(loc='upper right', fontsize=15, frameon=False)\n",
    "axarr.set_ylim([-0.1, 10.1])\n",
    "axarr.set_xlabel(\"Generations\", fontsize=15)\n",
    "axarr.set_ylabel(\"GB1 Binding Fitness\", fontsize=15)\n",
    "axarr.xaxis.set_tick_params(labelsize=15)\n",
    "axarr.yaxis.set_tick_params(labelsize=15)\n",
    "\n",
    "axarr.get_legend().remove()\n",
    "axarr.legend(bbox_to_anchor=(0., 1., 1., 0.2), loc=3, ncol=2, mode=\"expand\", borderaxespad=0, fontsize=15, frameon=False)\n",
    "\n",
    "sns.despine()\n",
    "\n",
    "plt.show()"
   ]
  },
  {
   "cell_type": "code",
   "execution_count": 45,
   "id": "07c64f2c-793a-4c19-ac3e-f3912ec45076",
   "metadata": {},
   "outputs": [
    {
     "data": {
      "image/png": "[encoded data removed]",
      "text/plain": [
       "<Figure size 1000x500 with 1 Axes>"
      ]
     },
     "metadata": {},
     "output_type": "display_data"
    }
   ],
   "source": [
    "methods = ['gb1_homolog', 'gb1_homolog_esm-if1']\n",
    "method_renaming = {'gb1_homolog': 'Homolog + ESM-1b', 'gb1_homolog_esm-if1': 'Homolog + ESM-1b + ESM-IF1 (T=0.5)'}\n",
    "\n",
    "dfs = []\n",
    "\n",
    "for method in methods:\n",
    "    df = pd.read_csv(f'results_{method}.csv')\n",
    "    df['method'] = method_renaming[method]\n",
    "    dfs.append(df)\n",
    "\n",
    "dfs = pd.concat(dfs).reset_index()\n",
    "\n",
    "dfs['iter'] = dfs['iter'].replace({0: 'Init.', 1: '1', 2: '2', 3: '3', 4: '4', 5: '5'})\n",
    "\n",
    "fig, axarr = plt.subplots(figsize=(10, 5))\n",
    "sns.lineplot(x='iter', y='exp_value', hue='method', data=dfs, ax=axarr, linewidth=3.5)\n",
    "\n",
    "axarr.legend(loc='upper right', fontsize=15, frameon=False)\n",
    "axarr.set_ylim([-0.1, 10.1])\n",
    "axarr.set_xlabel(\"Generations\", fontsize=15)\n",
    "axarr.set_ylabel(\"GB1 Binding Fitness\", fontsize=15)\n",
    "axarr.xaxis.set_tick_params(labelsize=15)\n",
    "axarr.yaxis.set_tick_params(labelsize=15)\n",
    "\n",
    "axarr.get_legend().remove()\n",
    "axarr.legend(bbox_to_anchor=(0., 1., 1., 0.2), loc=3, ncol=2, mode=\"expand\", borderaxespad=0, fontsize=15, frameon=False)\n",
    "\n",
    "sns.despine()\n",
    "\n",
    "plt.show()"
   ]
  },
  {
   "cell_type": "code",
   "execution_count": null,
   "id": "4e751c13-32ef-4e12-9575-6001975d849f",
   "metadata": {},
   "outputs": [],
   "source": []
  }
 ],
 "metadata": {
  "kernelspec": {
   "display_name": "Python [conda env:mambaforge-mobius-ubuntu]",
   "language": "python",
   "name": "conda-env-mambaforge-mobius-ubuntu-py"
  },
  "language_info": {
   "codemirror_mode": {
    "name": "ipython",
    "version": 3
   },
   "file_extension": ".py",
   "mimetype": "text/x-python",
   "name": "python",
   "nbconvert_exporter": "python",
   "pygments_lexer": "ipython3",
   "version": "3.11.0"
  }
 },
 "nbformat": 4,
 "nbformat_minor": 5
}
