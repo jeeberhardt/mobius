{
 "cells": [
  {
   "cell_type": "code",
   "execution_count": 1,
   "id": "ded9c61f-4d19-4f76-8ef3-8af32a9dfbd3",
   "metadata": {},
   "outputs": [],
   "source": [
    "%matplotlib inline\n",
    "%load_ext autoreload\n",
    "%autoreload 2"
   ]
  },
  {
   "cell_type": "code",
   "execution_count": 2,
   "id": "401195f1-e94d-4707-849a-564451df1338",
   "metadata": {},
   "outputs": [],
   "source": [
    "import yaml\n",
    "\n",
    "import numpy as np\n",
    "import pandas as pd\n",
    "import matplotlib.pyplot as plt\n",
    "import seaborn as sns\n",
    "import torch\n",
    "import torch.nn as nn\n",
    "import torch.nn.functional as F\n",
    "from torch.utils.data import Dataset, DataLoader\n",
    "from typing import List\n",
    "from gpytorch.kernels import RBFKernel\n",
    "from gpytorch.priors import NormalPrior\n",
    "\n",
    "from mobius import Planner, SequenceGA\n",
    "from mobius import ProteinEmbedding\n",
    "from mobius import InverseFolding\n",
    "from mobius import GPLLModel, ExpectedImprovement\n",
    "from mobius.utils import generate_biopolymer_design_protocol_from_probabilities"
   ]
  },
  {
   "cell_type": "markdown",
   "id": "1b31799d-8e63-4069-9e60-e75af8e5a7cd",
   "metadata": {},
   "source": [
    "## Initialize GFP oracle\n",
    "\n",
    "Source : \n",
    "- Kirjner, A., 2023, https://doi.org/10.48550/arXiv.2307.00494\n",
    "- Lee et al., 2024, https://doi.org/10.48550/arXiv.2405.18986"
   ]
  },
  {
   "cell_type": "code",
   "execution_count": 3,
   "id": "899fccb9-5ad0-446f-9795-1e4f2b1610bf",
   "metadata": {},
   "outputs": [],
   "source": [
    "ALPHABET = list('ARNDCQEGHILKMFPSTWYV')\n",
    "IDXTOAA = {i: ALPHABET[i] for i in range(20)}\n",
    "AATOIDX = {v: k for k, v in IDXTOAA.items()}\n",
    "\n",
    "class MaskedConv1d(nn.Conv1d):\n",
    "    \"\"\" A masked 1-dimensional convolution layer.\n",
    "\n",
    "    Takes the same arguments as torch.nn.Conv1D, except that the padding is set automatically.\n",
    "\n",
    "         Shape:\n",
    "            Input: (N, L, in_channels)\n",
    "            input_mask: (N, L, 1), optional\n",
    "            Output: (N, L, out_channels)\n",
    "    \"\"\"\n",
    "\n",
    "    def __init__(self, in_channels: int, out_channels: int,\n",
    "                 kernel_size: int, stride: int=1, dilation: int=1, groups: int=1,\n",
    "                 bias: bool=True):\n",
    "        \"\"\"\n",
    "        :param in_channels: input channels\n",
    "        :param out_channels: output channels\n",
    "        :param kernel_size: the kernel width\n",
    "        :param stride: filter shift\n",
    "        :param dilation: dilation factor\n",
    "        :param groups: perform depth-wise convolutions\n",
    "        :param bias: adds learnable bias to output\n",
    "        \"\"\"\n",
    "        padding = dilation * (kernel_size - 1) // 2\n",
    "        super().__init__(in_channels, out_channels, kernel_size, stride=stride, dilation=dilation,\n",
    "                                           groups=groups, bias=bias, padding=padding)\n",
    "\n",
    "    def forward(self, x, input_mask=None):\n",
    "        if input_mask is not None:\n",
    "            x = x * input_mask\n",
    "        return super().forward(x.transpose(1, 2)).transpose(1, 2)\n",
    "\n",
    "\n",
    "class LengthMaxPool1D(nn.Module):\n",
    "    def __init__(self, in_dim, out_dim, linear=False, activation='relu'):\n",
    "        super().__init__()\n",
    "        self.linear = linear\n",
    "        if self.linear:\n",
    "            self.layer = nn.Linear(in_dim, out_dim)\n",
    "\n",
    "        if activation == 'swish':\n",
    "            self.act_fn = lambda x: x * torch.sigmoid(100.0*x)\n",
    "        elif activation == 'softplus':\n",
    "            self.act_fn = nn.Softplus()\n",
    "        elif activation == 'sigmoid':\n",
    "            self.act_fn = nn.Sigmoid()\n",
    "        elif activation == 'leakyrelu':\n",
    "            self.act_fn = nn.LeakyReLU()\n",
    "        elif activation == 'relu':\n",
    "            self.act_fn = lambda x: F.relu(x)\n",
    "        else:\n",
    "            raise NotImplementedError\n",
    "\n",
    "    def forward(self, x):\n",
    "        if self.linear:\n",
    "            x = self.act_fn(self.layer(x))\n",
    "        x = torch.max(x, dim=1)[0]\n",
    "        return x\n",
    "\n",
    "\n",
    "class BaseCNN(nn.Module):\n",
    "    def __init__(\n",
    "            self,\n",
    "            n_tokens: int = 20,\n",
    "            kernel_size: int = 5 ,\n",
    "            input_size: int = 256,\n",
    "            dropout: float = 0.0,\n",
    "            make_one_hot=True,\n",
    "            activation: str = 'relu',\n",
    "            linear: bool=True,\n",
    "            **kwargs):\n",
    "        super(BaseCNN, self).__init__()\n",
    "        self.encoder = nn.Conv1d(n_tokens, input_size, kernel_size=kernel_size)\n",
    "        self.embedding = LengthMaxPool1D(\n",
    "            linear=linear,\n",
    "            in_dim=input_size,\n",
    "            out_dim=input_size*2,\n",
    "            activation=activation,\n",
    "        )\n",
    "        self.decoder = nn.Linear(input_size*2, 1)\n",
    "        self.n_tokens = n_tokens\n",
    "        self.dropout = nn.Dropout(dropout) # TODO: actually add this to model\n",
    "        self.input_size = input_size\n",
    "        self._make_one_hot = make_one_hot\n",
    "    \n",
    "    def get_embed(self, x):\n",
    "        #onehotize\n",
    "        if self._make_one_hot:\n",
    "            x = F.one_hot(x.long(), num_classes=self.n_tokens)\n",
    "        x = x.permute(0, 2, 1).float()\n",
    "        # encoder\n",
    "        x = self.encoder(x).permute(0, 2, 1)\n",
    "        x = self.dropout(x)\n",
    "        # embed\n",
    "        x = self.embedding(x)\n",
    "        return x\n",
    "\n",
    "    def forward(self, x, get_embed=False):\n",
    "        #onehotize\n",
    "        if self._make_one_hot:\n",
    "            x = F.one_hot(x.long(), num_classes=self.n_tokens)\n",
    "        x = x.permute(0, 2, 1).float()\n",
    "        # encoder\n",
    "        x = self.encoder(x).permute(0, 2, 1)\n",
    "        x = self.dropout(x)\n",
    "        # embed\n",
    "        x = self.embedding(x)\n",
    "        # decoder\n",
    "        output = self.decoder(x).squeeze(1)\n",
    "        if get_embed:\n",
    "            return x, output\n",
    "        return output\n",
    "\n",
    "\n",
    "def seq_to_one_hot(seq):\n",
    "    return F.one_hot(torch.tensor([AATOIDX[aa] for aa in list(seq)]), 20)\n",
    "\n",
    "\n",
    "class SequenceDataset(Dataset):\n",
    "    def __init__(self, sequences):\n",
    "        self.sequences = sequences\n",
    "    \n",
    "    def __getitem__(self, idx):\n",
    "        return seq_to_one_hot(self.sequences[idx])\n",
    "    \n",
    "    def __len__(self):\n",
    "        return len(self.sequences)\n",
    "\n",
    "\n",
    "class InSilicoLandscape:\n",
    "    def __init__(self, checkpoint_filename, device=None):\n",
    "\n",
    "        if device is None:\n",
    "            device = torch.device(\"cuda\" if torch.cuda.is_available() else \"cpu\")\n",
    "\n",
    "        self.device = device\n",
    "        oracle = BaseCNN(make_one_hot=False)\n",
    "        oracle_ckpt = torch.load(checkpoint_filename, map_location=self.device)\n",
    "        if \"state_dict\" in oracle_ckpt.keys():\n",
    "            oracle_ckpt = oracle_ckpt[\"state_dict\"]\n",
    "        oracle.load_state_dict({k.replace('predictor.',''):v for k,v in oracle_ckpt.items()})\n",
    "        oracle.eval()\n",
    "\n",
    "        self.oracle = oracle.to(self.device)\n",
    "        \n",
    "    def evaluate(self, sequences, starting_sequences, topk):\n",
    "        scores = self.get_fitness(sequences)\n",
    "        indices = np.argsort(scores)[::-1][:topk]\n",
    "        sequences, targets = sequences[indices], scores[indices]\n",
    "        fitness = np.median(targets)\n",
    "        \n",
    "        distances = []\n",
    "        for s1, s2 in itertools.combinations(sequences, 2):\n",
    "            distances.append(distance(s1, s2))\n",
    "        diversity = np.median(distances)\n",
    "        \n",
    "        distances = []\n",
    "        for j in sequences:\n",
    "            dist_j = []\n",
    "            for i in starting_sequences:\n",
    "                dist_j.append(distance(i,j))\n",
    "            distances.append(min(dist_j))\n",
    "        novelty = np.median(distances)\n",
    "\n",
    "        return scores, fitness, diversity, novelty\n",
    "    \n",
    "    def normalize_target(self, target):\n",
    "        return (target - self.min_fitness)/(self.max_fitness - self.min_fitness)\n",
    "\n",
    "    def get_fitness(self, sequences: List[str]):\n",
    "        dset = SequenceDataset(sequences)\n",
    "        dloader = DataLoader(dset, batch_size=128)\n",
    "        scores = []\n",
    "\n",
    "        for data in dloader:\n",
    "            data = data.to(self.device)\n",
    "\n",
    "            with torch.no_grad():\n",
    "                score = self.oracle(data).detach().cpu().numpy().astype(float).reshape(-1)\n",
    "            \n",
    "            scores.append(score)\n",
    "\n",
    "        return np.concatenate(scores)"
   ]
  },
  {
   "cell_type": "code",
   "execution_count": 4,
   "id": "493cf28f-74d8-4500-92bb-526c03f27492",
   "metadata": {},
   "outputs": [],
   "source": [
    "landscape = InSilicoLandscape('oracle_GFP.ckpt')\n",
    "gfp_data = pd.read_csv('ground_truth_gfp.csv')\n",
    "\n",
    "vmin = gfp_data['score'].min()\n",
    "vmax = gfp_data['score'].max()"
   ]
  },
  {
   "cell_type": "code",
   "execution_count": 5,
   "id": "0c064df2-8222-49a9-a2e5-102d8ac5ea3f",
   "metadata": {},
   "outputs": [],
   "source": [
    "y_pred = landscape.get_fitness(gfp_data['sequence'].values)"
   ]
  },
  {
   "cell_type": "code",
   "execution_count": 6,
   "id": "87484b84-32cf-4b74-abbd-b5abe51e1235",
   "metadata": {},
   "outputs": [
    {
     "data": {
      "image/png": "[encoded data removed]",
      "text/plain": [
       "<Figure size 700x700 with 1 Axes>"
      ]
     },
     "metadata": {},
     "output_type": "display_data"
    }
   ],
   "source": [
    "fig, ax = plt.subplots(figsize=(7, 7))\n",
    "ax.scatter(gfp_data['score'].values, y_pred)\n",
    "ax.set_xlim([0, 5])\n",
    "ax.set_ylim([0, 5])\n",
    "\n",
    "ax.set_ylabel('Predicted log-fluorescence intensity', fontsize=20)\n",
    "ax.set_xlabel('Experimental log-fluorescence intensity', fontsize=20)\n",
    "\n",
    "plt.show()"
   ]
  },
  {
   "cell_type": "code",
   "execution_count": 9,
   "id": "2844ffd4-15dd-4646-865a-f6cd1936b64e",
   "metadata": {},
   "outputs": [
    {
     "name": "stdout",
     "output_type": "stream",
     "text": [
      "10th percentile: 1.301\n",
      "30th percentile: 1.561\n",
      "Number of sequences: 11349\n"
     ]
    }
   ],
   "source": [
    "# Generate hard dataset, take sequence in 10th-30th percentiles\n",
    "q10 = np.percentile(gfp_data['score'], 10)\n",
    "q30 = np.percentile(gfp_data['score'], 30)\n",
    "print(f'10th percentile: {q10:.3f}')\n",
    "print(f'30th percentile: {q30:.3f}')\n",
    "\n",
    "hard = gfp_data[(gfp_data['score'] >= q10) & (gfp_data['score'] <= q30)].copy()\n",
    "hard.to_csv('ground_truth_gfp_hard.csv', index=False)\n",
    "print(f'Number of sequences: {len(hard)}')"
   ]
  },
  {
   "cell_type": "markdown",
   "id": "8085df1f-253c-4b52-8809-716209213baa",
   "metadata": {},
   "source": [
    "## Run Bayesian Optimization"
   ]
  },
  {
   "cell_type": "markdown",
   "id": "fe99b0f3-91e7-43c7-a1b3-3461de776af8",
   "metadata": {},
   "source": [
    "### With ESM-1b only"
   ]
  },
  {
   "cell_type": "code",
   "execution_count": 8,
   "id": "b0de1ad1-a2e7-479c-b7c1-e6fbcff301a5",
   "metadata": {},
   "outputs": [],
   "source": [
    "# Load protein language model\n",
    "plm = ProteinEmbedding(pretrained_model_name='esm1b_t33_650M_UR50S', embedding_type='avg')"
   ]
  },
  {
   "cell_type": "code",
   "execution_count": 9,
   "id": "625bc6c4-9204-472d-9167-33eb6e52c3bf",
   "metadata": {},
   "outputs": [],
   "source": [
    "yaml_content = \"\"\"\n",
    "    design:\n",
    "      monomers:\n",
    "        default: [A, C, D, E, F, G, H, I, K, L, M, N, P, Q, R, S, T, V, W, Y]\n",
    "      biopolymers:\n",
    "        - name: PEPTIDE1\n",
    "          starting_residue: 1\n",
    "          length: 237\n",
    "          positions:\n",
    "            1-237: default\n",
    "    \"\"\"\n",
    "    \n",
    "with open('design_protocol_gfp.yaml', 'w') as f:\n",
    "    f.write(yaml_content)"
   ]
  },
  {
   "cell_type": "code",
   "execution_count": 10,
   "id": "ed7434bb-10e3-4e18-a7ea-25e24fb9dc2c",
   "metadata": {},
   "outputs": [],
   "source": [
    "# Load surrogate model\n",
    "gpmodel = GPLLModel(kernel=RBFKernel(), pretrained_model=plm, noise_prior=NormalPrior(0, 1))\n",
    "ei = ExpectedImprovement(gpmodel, maximize=True)\n",
    "optimizer = SequenceGA(algorithm='GA', period=15, design_protocol_filename='design_protocol_gfp.yaml')\n",
    "ps = Planner(ei, optimizer)"
   ]
  },
  {
   "cell_type": "code",
   "execution_count": 11,
   "id": "a953d44d-f094-4fd5-a233-77362bfac774",
   "metadata": {},
   "outputs": [],
   "source": [
    "idx = np.random.choice(np.arange(0, len(hard)), size=128, replace=False)\n",
    "seed_library = hard['sequence'].values[idx]\n",
    "scores_seed_library = hard['score'].values[idx]"
   ]
  },
  {
   "cell_type": "code",
   "execution_count": 12,
   "id": "78368f59-9a95-46ea-b405-cd8381ca0d8a",
   "metadata": {},
   "outputs": [
    {
     "name": "stderr",
     "output_type": "stream",
     "text": [
      "Fitting GPLLM model (cuda): 25step [03:15,  7.82s/step, loss=-0.967]\n"
     ]
    },
    {
     "name": "stdout",
     "output_type": "stream",
     "text": [
      "==========================================================================================================\n",
      "n_gen  |  n_eval  |        f_avg         |        f_min         |              best sequence              \n",
      "==========================================================================================================\n",
      "     1 |        0 |  0.42851400984375010 |  0.25623810300000005 | SKGEELFTGVVPILVELD....LEFVTAAGITHGMDELYK\n",
      "     2 |      500 | -1.0441477246006E-03 | -1.0441477246006E-03 | SKGEELFTGVVPILVELD....LEFVTAAGITHGMDELYK\n",
      "     3 |     1000 | -1.0441477246006E-03 | -1.0441477246006E-03 | SKGEELFTGVVPILVELD....LEFVTAAGITHGMDELYK\n",
      "     4 |     1500 | -1.0441477246006E-03 | -1.0441477246006E-03 | SKGEELFTGVVPILVELD....LEFVTAAGITHGMDELYK\n",
      "     5 |     2000 | -1.0441477246006E-03 | -1.0441477246006E-03 | SKGEELFTGVVPILVELD....LEFVTAAGITHGMDELYK\n",
      "     6 |     2500 | -1.0441477246006E-03 | -1.0441477246006E-03 | SKGEELFTGVVPILVELD....LEFVTAAGITHGMDELYK\n",
      "     7 |     3000 | -1.0441477246006E-03 | -1.0441477246006E-03 | SKGEELFTGVVPILVELD....LEFVTAAGITHGMDELYK\n",
      "     8 |     3500 | -1.0441477246006E-03 | -1.0441477246006E-03 | SKGEELFTGVVPILVELD....LEFVTAAGITHGMDELYK\n",
      "     9 |     4000 | -1.0441477246006E-03 | -1.0441477246006E-03 | SKGEELFTGVVPILVELD....LEFVTAAGITHGMDELYK\n",
      "    10 |     4500 | -1.0441477246006E-03 | -1.0441477246006E-03 | SKGEELFTGVVPILVELD....LEFVTAAGITHGMDELYK\n",
      "    11 |     5000 | -1.0441477246006E-03 | -1.0441477246006E-03 | SKGEELFTGVVPILVELD....LEFVTAAGITHGMDELYK\n",
      "    12 |     5500 | -1.0441477246006E-03 | -1.0441477246006E-03 | SKGEELFTGVVPILVELD....LEFVTAAGITHGMDELYK\n",
      "    13 |     6000 | -1.0441477246006E-03 | -1.0441477246006E-03 | SKGEELFTGVVPILVELD....LEFVTAAGITHGMDELYK\n",
      "    14 |     6500 | -1.0441477246006E-03 | -1.0441477246006E-03 | SKGEELFTGVVPILVELD....LEFVTAAGITHGMDELYK\n",
      "    15 |     7000 | -1.0441477246006E-03 | -1.0441477246006E-03 | SKGEELFTGVVPILVELD....LEFVTAAGITHGMDELYK\n",
      "    16 |     7500 | -1.0441477246006E-03 | -1.0441477246006E-03 | SKGEELFTGVVPILVELD....LEFVTAAGITHGMDELYK\n",
      "    17 |     8000 | -1.0441477246006E-03 | -1.0441477246006E-03 | SKGEELFTGVVPILVELD....LEFVTAAGITHGMDELYK\n",
      "Best peptide found so far: SKGEELFTGVVPILVELDGDVNGHKFSVSGEGEGDATYGKLTLKFICTTGKLPVPWPTLVTTLSYGVQCFSRYPDHMKQHDFFKSAMPEGYVQERTIFFKDDGNYKTRAEVKFEGDTLVNRIELKGIDFKEDGNILGHKLEYNYNSHNVYIMADKQKNGIKVNFKIRHNIEGGSVQLADHYQQNTPIGDGPVLLPDNHYLSTQSALSKDPNEKRDHMVLLEFVTAAGITHGMDELYK / 3.931 (0.932 min: 0.603, mean: 1.510)\n",
      "\n"
     ]
    },
    {
     "name": "stderr",
     "output_type": "stream",
     "text": [
      "Fitting GPLLM model (cuda): 25step [06:45, 16.22s/step, loss=0.52] \n"
     ]
    },
    {
     "name": "stdout",
     "output_type": "stream",
     "text": [
      "==========================================================================================================\n",
      "n_gen  |  n_eval  |        f_avg         |        f_min         |              best sequence              \n",
      "==========================================================================================================\n",
      "     1 |        0 |  5.81168920916919518 |  3.32816094160079956 | SKGEELFTGVVPILVELD....LEFVTAAGITHGMDELYK\n",
      "     2 |      500 | -9.2104030711394E-11 | -6.7665876483814E-09 | SKGEELFTGVVPILVELD....LEFVTAAGITHGMDELYK\n",
      "     3 |     1000 | -1.9694562937977E-10 | -6.7665876483814E-09 | SKGEELFTGVVPILVELD....LEFVTAAGITHGMDELYK\n",
      "     4 |     1500 | -3.9655131830924E-10 | -6.7665876483814E-09 | SKGEELFTGVVPILVELD....LEFVTAAGITHGMDELYK\n",
      "     5 |     2000 | -8.0433172869472E-10 | -8.0148948197278E-09 | SKGEELFTGVVPILVELD....LEFVTAAGITHGMDELYK\n",
      "     6 |     2500 | -1.4418607835391E-09 | -8.5186990538768E-09 | SKGEELFTGVVPILVELD....LEFVTAAGITHGMDELYK\n",
      "     7 |     3000 | -2.2437517417593E-09 | -1.0773177895548E-08 | SKGEELFTGVVPILVELD....LEFVTAAGITHGMDELYK\n",
      "     8 |     3500 | -3.2427305066483E-09 | -1.0773177895548E-08 | SKGEELFTGVVPILVELD....LEFVTAAGITHGMDELYK\n",
      "     9 |     4000 | -4.1693066659843E-09 | -1.0775422819762E-08 | SKGEELFTGVVPILVELD....LEFVTAAGVTHGMDELYK\n",
      "    10 |     4500 | -5.1287457880658E-09 | -1.0829436559985E-08 | SKGEELFTGVVPILVELD....LEFVTAAGITHGMDELYK\n",
      "    11 |     5000 | -6.1184709048540E-09 | -1.2346855053370E-08 | SKGEELFTGVVPILVELD....LEFVTAAGITHGMDELYK\n",
      "    12 |     5500 | -7.0400364464886E-09 | -1.2757992457760E-08 | SKGEELFTGVVPILVELD....LEFVTAAGITHGMDELYK\n",
      "    13 |     6000 | -7.8927644122141E-09 | -1.3262397534088E-08 | SKGEELFTGVVPILVELD....LEFVTAAGITHGMDELYK\n",
      "    14 |     6500 | -8.5350383585975E-09 | -1.3262397534088E-08 | SKGEELFTGVVPILVELD....LEFVTAAGITHGMDELYK\n",
      "    15 |     7000 | -9.1420380924477E-09 | -1.4569025632693E-08 | SKGVELFTGVVPILVELD....LEFVTAAGITHGMDELYK\n",
      "    16 |     7500 | -9.5430539986417E-09 | -1.4569025632693E-08 | SKGVELFTGVVPILVELD....LEFVTAAGITHGMDELYK\n",
      "    17 |     8000 | -9.8595887135007E-09 | -1.6578870095007E-08 | SKGVELFTGVVPILVELD....LEFVTAAGITHGMDELYK\n",
      "    18 |     8500 | -1.0100039097373E-08 | -1.6578870095007E-08 | SKGVELFTGVVPILVELD....LEFVTAAGITHGMDELYK\n",
      "    19 |     9000 | -1.0275548121734E-08 | -1.6578870095007E-08 | SKGVELFTGVVPILVELD....LEFVTAAGITHGMDELYK\n",
      "    20 |     9500 | -1.0508815470163E-08 | -1.6578870095007E-08 | SKGVELFTGVVPILVELD....LEFVTAAGITHGMDELYK\n",
      "    21 |    10000 | -1.0670605523189E-08 | -1.6578870095007E-08 | SKGVELFTGVVPILVELD....LEFVTAAGITHGMDELYK\n",
      "    22 |    10500 | -1.0853858377320E-08 | -1.6578870095007E-08 | SKGVELFTGVVPILVELD....LEFVTAAGITHGMDELYK\n",
      "    23 |    11000 | -1.1022504256923E-08 | -1.6578870095007E-08 | SKGVELFTGVVPILVELD....LEFVTAAGITHGMDELYK\n",
      "    24 |    11500 | -1.1175545245095E-08 | -1.6578870095007E-08 | SKGVELFTGVVPILVELD....LEFVTAAGITHGMDELYK\n",
      "    25 |    12000 | -1.1308823625189E-08 | -1.6578870095007E-08 | SKGVELFTGVVPILVELD....LEFVTAAGITHGMDELYK\n",
      "    26 |    12500 | -1.1446353516157E-08 | -1.6578870095007E-08 | SKGVELFTGVVPILVELD....LEFVTAAGITHGMDELYK\n",
      "    27 |    13000 | -1.1542189952657E-08 | -1.6578870095007E-08 | SKGVELFTGVVPILVELD....LEFVTAAGITHGMDELYK\n",
      "    28 |    13500 | -1.1640171256248E-08 | -1.6578870095007E-08 | SKGVELFTGVVPILVELD....LEFVTAAGITHGMDELYK\n",
      "    29 |    14000 | -1.1738080169323E-08 | -1.6578870095007E-08 | SKGVELFTGVVPILVELD....LEFVTAAGITHGMDELYK\n",
      "    30 |    14500 | -1.1838504732941E-08 | -1.6578870095007E-08 | SKGVELFTGVVPILVELD....LEFVTAAGITHGMDELYK\n",
      "    31 |    15000 | -1.1900801145644E-08 | -1.6578870095007E-08 | SKGVELFTGVVPILVELD....LEFVTAAGITHGMDELYK\n",
      "    32 |    15500 | -1.1956549940331E-08 | -1.6578870095007E-08 | SKGVELFTGVVPILVELD....LEFVTAAGITHGMDELYK\n",
      "Best peptide found so far: SKGEELFTGVVPILVELDGDVNGHKFSVSGEGEGDATYGKLTLKFICTTGKLPVPWPTLVTTLSYGVQCFSRYPDHMKQHDFFKSAMPEGYVQERTIFFKDDGNYKTRAEVKFEGDTLVNRIELKGIDFKEDGNILGHKLEYNYNSHNVYIMADKQKNGIKVNFKIRHNIEGGSVQLADHYQQNTPIGDGPVLLPDNHYLSTQSALSKDPNEKRDHMVLLEFVTAAGITHGMDELYK / 3.931 (0.932 min: 0.974, mean: 1.818)\n",
      "\n"
     ]
    },
    {
     "name": "stderr",
     "output_type": "stream",
     "text": [
      "Fitting GPLLM model (cuda): 35step [13:48, 23.68s/step, loss=0.253]\n"
     ]
    },
    {
     "name": "stdout",
     "output_type": "stream",
     "text": [
      "==========================================================================================================\n",
      "n_gen  |  n_eval  |        f_avg         |        f_min         |              best sequence              \n",
      "==========================================================================================================\n",
      "     1 |        0 |  5.68841135251922481 |  3.32816094160079956 | SKGEELFTGVVPILVELD....LEFVTAAGITHGMDELYK\n",
      "     2 |      500 | -5.8689407549597E-08 | -1.2540054900720E-05 | SKGEELFTGVVPILVELD....LEFVTAAGITHGMDELYK\n",
      "     3 |     1000 | -8.5427594355655E-08 | -1.2540054900720E-05 | SKGEELFTGVVPILVELD....LEFVTAAGITHGMDELYK\n",
      "     4 |     1500 | -2.8332715640731E-07 | -3.7625569728147E-05 | SKGEELFTGVVPILVELD....LEFVTAAGITHGMDELYK\n",
      "     5 |     2000 | -8.1514774703469E-06 | -2.1875156842682E-03 | SKGEELFTGVVPILVELD....LEFVTAAGITHGMDELYK\n",
      "     6 |     2500 | -1.6160876673864E-05 | -2.7568206705656E-03 | SKGEELFTGVVPILVELD....LEFVTAAGITHGMDELYK\n",
      "     7 |     3000 | -5.3363029449267E-05 | -6.8982538487394E-03 | SKGEELFTGVVPILVELD....LEFVTAAGITHGMDELYK\n",
      "     8 |     3500 | -6.3508160920677E-05 | -6.8982538487394E-03 | SKGEELFTGVVPILVELD....LEFVTAAGITHGMDELYK\n",
      "     9 |     4000 | -1.1168585541515E-04 | -6.8982538487394E-03 | SKGEELFTGVVPILVELD....LEFVTAAGITHGMDELYK\n",
      "    10 |     4500 | -1.3741103311852E-04 | -6.8982538487394E-03 | SKGEELFTGVVPILVELD....LEFVTAAGITHGMDELYK\n",
      "    11 |     5000 | -1.9489783383613E-04 | -6.8982538487394E-03 | SKGEELFTGVVPILVELD....LEFVTAAGITHGMDELYK\n",
      "    12 |     5500 | -2.8729051122172E-04 | -9.0114312317946E-03 | SKGEELFTGVVPILVELD....LEFVTAAGITHGMDELYK\n",
      "    13 |     6000 | -3.4461385331717E-04 | -9.0114312317946E-03 | SKGEELFTGVVPILVELD....LEFVTAAGITHGMDELYK\n",
      "    14 |     6500 | -4.4221838641395E-04 | -9.0114312317946E-03 | SKGEELFTGVVPILVELD....LEFVTAAGITHGMDELYK\n",
      "    15 |     7000 | -5.1170294159179E-04 | -9.0114312317946E-03 | SKGEELFTGVVPILVELD....LEFVTAAGITHGMDELYK\n",
      "    16 |     7500 | -5.8799894208931E-04 | -9.0114312317946E-03 | SKGEELFTGVVPILVELD....LEFVTAAGITHGMDELYK\n",
      "    17 |     8000 | -6.4491281329103E-04 | -9.0114312317946E-03 | SKGEELFTGVVPILVELD....LEFVTAAGITHGMDELYK\n",
      "    18 |     8500 | -6.9370362443030E-04 | -9.0114312317946E-03 | SKGEELFTGVVPILVELD....LEFVTAAGITHGMDELYK\n",
      "    19 |     9000 | -7.3967751356154E-04 | -9.0114312317946E-03 | SKGEELFTGVVPILVELD....LEFVTAAGITHGMDELYK\n",
      "    20 |     9500 | -7.8216040472388E-04 | -9.0114312317946E-03 | SKGEELFTGVVPILVELD....LEFVTAAGITHGMDELYK\n",
      "    21 |    10000 | -8.1449236151247E-04 | -9.0114312317946E-03 | SKGEELFTGVVPILVELD....LEFVTAAGITHGMDELYK\n",
      "    22 |    10500 | -8.4199959596347E-04 | -9.0114312317946E-03 | SKGEELFTGVVPILVELD....LEFVTAAGITHGMDELYK\n",
      "    23 |    11000 | -8.5424406045667E-04 | -9.0114312317946E-03 | SKGEELFTGVVPILVELD....LEFVTAAGITHGMDELYK\n",
      "    24 |    11500 | -8.8117363629722E-04 | -9.0114312317946E-03 | SKGEELFTGVVPILVELD....LEFVTAAGITHGMDELYK\n",
      "    25 |    12000 | -9.0190268773803E-04 | -9.0114312317946E-03 | SKGEELFTGVVPILVELD....LEFVTAAGITHGMDELYK\n",
      "    26 |    12500 | -9.1379917957658E-04 | -9.0114312317946E-03 | SKGEELFTGVVPILVELD....LEFVTAAGITHGMDELYK\n",
      "    27 |    13000 | -9.3470784905106E-04 | -9.0114312317946E-03 | SKGEELFTGVVPILVELD....LEFVTAAGITHGMDELYK\n",
      "Best peptide found so far: SKGEELFTGVVPILVELDGDVNGHKFSVSGEGEGDATYGKLTLKFICTTGKLPVPWPTLVTTLSYGVQCFSRYPDHMKQHDFFKSAMPEGYVQERTIFFKDDGNYKTRAEVKFEGDTLVNRIELKGIDFKEDGNILGHKLEYNYNSHNVYIMADKQKNGIKVNFKIRHNIEGGSVQLADHYQHNTPIGDGPVLLPDNHYLSTQSALSKDPNEKRDHMVLLEFVTAAGITHGMDELYK / 4.049 (0.974 min: 1.547, mean: 2.974)\n",
      "\n"
     ]
    },
    {
     "name": "stderr",
     "output_type": "stream",
     "text": [
      "Fitting GPLLM model (cuda): 27step [13:07, 29.17s/step, loss=0.272]\n"
     ]
    },
    {
     "name": "stdout",
     "output_type": "stream",
     "text": [
      "==========================================================================================================\n",
      "n_gen  |  n_eval  |        f_avg         |        f_min         |              best sequence              \n",
      "==========================================================================================================\n",
      "     1 |        0 |  5.57233508838082159 |  3.44554871320724487 | SKGEELFTGVVPILVELD....LEFVTAAGITHGMDELYK\n",
      "     2 |      500 | -1.2814217824091E-05 | -3.6872360086640E-03 | SKGEELFTGVVPILVELD....LEFVTAAGITHGMDELYK\n",
      "     3 |     1000 | -3.2853528138974E-05 | -4.6344605132269E-03 | SKGEELFTGVVPILVELD....LEFVTAAGITHGMDELYK\n",
      "     4 |     1500 | -4.0285263389816E-05 | -4.6344605132269E-03 | SKGEELFTGVVPILVELD....LEFVTAAGITHGMDELYK\n",
      "     5 |     2000 | -7.7402046971297E-05 | -7.0861641705080E-03 | SKGEELFTGVVPILVELD....LEFVTAAGITHGMDELYK\n",
      "     6 |     2500 | -2.2955487923411E-04 | -3.0203287803551E-02 | SKGEELFTGVVPILVELD....LEFVTAAGITHGMDELYK\n",
      "     7 |     3000 | -4.4991668621570E-04 | -3.0203287803551E-02 | SKGEELFTGVVPILVELD....LEFVTAAGITHGMDELYK\n",
      "     8 |     3500 | -8.0006009488407E-04 | -3.1441298633806E-02 | SKGEELFTGVVPILVELD....LEFVTAAGITHGMDELYK\n",
      "     9 |     4000 | -1.3594940451976E-03 | -3.1441298633806E-02 | SKGEELFTGVVPILVELD....LEFVTAAGITHGMDELYK\n",
      "    10 |     4500 | -2.2946186752433E-03 | -5.3391912913843E-02 | SKGEELFTGVVPILVELD....LEFVTAAGITHGMDELYK\n",
      "    11 |     5000 | -3.9302141265174E-03 | -1.2880651190407E-01 | SKGEELFTGVVPILVELD....LEFVTAAGITHGMDELYK\n",
      "    12 |     5500 | -5.9641632931210E-03 | -1.7254789269013E-01 | SKGEELFTGVVPILVELD....LEFVTAAGITHGMDELYK\n",
      "    13 |     6000 | -7.6595156643870E-03 | -1.7254789269013E-01 | SKGEELFTGVVPILVELD....LEFVTAAGITHGMDELYK\n",
      "    14 |     6500 | -9.4148364433678E-03 | -1.7254789269013E-01 | SKGEELFTGVVPILVELD....LEFVTAAGITHGMDELYK\n",
      "    15 |     7000 | -1.1927203906420E-02 | -1.7254789269013E-01 | SKGEELFTGVVPILVELD....LEFVTAAGITHGMDELYK\n",
      "    16 |     7500 | -1.4084410734292E-02 | -1.7254789269013E-01 | SKGEELFTGVVPILVELD....LEFVTAAGITHGMDELYK\n",
      "    17 |     8000 | -1.6062925346303E-02 | -1.7254789269013E-01 | SKGEELFTGVVPILVELD....LEFVTAAGITHGMDELYK\n",
      "    18 |     8500 | -1.8473031798859E-02 | -1.7254789269013E-01 | SKGEELFTGVVPILVELD....LEFVTAAGITHGMDELYK\n",
      "    19 |     9000 | -2.0964988604647E-02 | -3.0303185105297E-01 | SKGEELFTGVVPILVELD....LEFVTAAGITHGMDELYK\n",
      "    20 |     9500 | -2.2852466978218E-02 | -3.0303185105297E-01 | SKGEELFTGVVPILVELD....LEFVTAAGITHGMDELYK\n",
      "    21 |    10000 | -2.4778540916590E-02 | -3.0303185105297E-01 | SKGEELFTGVVPILVELD....LEFVTAAGITHGMDELYK\n",
      "    22 |    10500 | -2.7003405621054E-02 | -3.0303185105297E-01 | SKGEELFTGVVPILVELD....LEFVTAAGITHGMDELYK\n",
      "    23 |    11000 | -2.8215565816972E-02 | -3.0303185105297E-01 | SKGEELFTGVVPILVELD....LEFVTAAGITHGMDELYK\n",
      "    24 |    11500 | -2.9384824000507E-02 | -3.0303185105297E-01 | SKGEELFTGVVPILVELD....LEFVTAAGITHGMDELYK\n",
      "    25 |    12000 | -3.1041694769422E-02 | -3.0303185105297E-01 | SKGEELFTGVVPILVELD....LEFVTAAGITHGMDELYK\n",
      "    26 |    12500 | -3.2021871956302E-02 | -3.0303185105297E-01 | SKGEELFTGVVPILVELD....LEFVTAAGITHGMDELYK\n",
      "    27 |    13000 | -3.3011411441574E-02 | -3.0303185105297E-01 | SKGEELFTGVVPILVELD....LEFVTAAGITHGMDELYK\n",
      "    28 |    13500 | -3.4260585116800E-02 | -3.0303185105297E-01 | SKGEELFTGVVPILVELD....LEFVTAAGITHGMDELYK\n",
      "    29 |    14000 | -3.5874251657294E-02 | -3.0303185105297E-01 | SKGEELFTGVVPILVELD....LEFVTAAGITHGMDELYK\n",
      "    30 |    14500 | -3.7055293643958E-02 | -3.0303185105297E-01 | SKGEELFTGVVPILVELD....LEFVTAAGITHGMDELYK\n",
      "    31 |    15000 | -3.7701580258588E-02 | -3.0303185105297E-01 | SKGEELFTGVVPILVELD....LEFVTAAGITHGMDELYK\n",
      "    32 |    15500 | -3.9109811135165E-02 | -3.0303185105297E-01 | SKGEELFTGVVPILVELD....LEFVTAAGITHGMDELYK\n",
      "    33 |    16000 | -4.0546027034476E-02 | -3.0303185105297E-01 | SKGEELFTGVVPILVELD....LEFVTAAGITHGMDELYK\n",
      "    34 |    16500 | -4.1455429752907E-02 | -3.0303185105297E-01 | SKGEELFTGVVPILVELD....LEFVTAAGITHGMDELYK\n",
      "Best peptide found so far: SKGEELFTGVVPILVELDGDVNGHKFSVSGEGEGDATYGKLTLKFICTTGKLPVPWPTLVTTLSYGVQCFSRYPDHMKQHDFFKSAMPEGYVQERTIFFKDDGNYKTRAEVKFEGDTLVNRIELKGIDFKEDGNILGHKLEYNYNSHNVYIMADKQKNGIKVNFKIRHNIEGGSVQLADHYQHNTPIGDGPVLLPDNHYLSTQSALSKDPNEKRDHMVLLEFVTAAGITHGMDELYK / 4.049 (0.974 min: 1.670, mean: 2.873)\n",
      "\n"
     ]
    }
   ],
   "source": [
    "sequences = seed_library.copy()\n",
    "scores = scores_seed_library.copy()\n",
    "        \n",
    "# Store data for later analysis\n",
    "data = [(0, p, s) for p, s in zip(sequences, scores)]\n",
    "        \n",
    "for i in range(4):\n",
    "    suggested_sequences, _ = ps.recommand(sequences, scores.reshape(-1, 1), batch_size=128)\n",
    "    scores_suggested_sequences = landscape.get_fitness(suggested_sequences)\n",
    "        \n",
    "    sequences = np.concatenate([sequences, suggested_sequences])\n",
    "    scores = np.concatenate((scores, scores_suggested_sequences), axis=0)\n",
    "    data.extend([(i + 1, p, s) for p, s in zip(suggested_sequences, scores_suggested_sequences)])\n",
    "        \n",
    "    best_seq = sequences[np.argmax(scores)]\n",
    "    best_score = np.max(scores)\n",
    "    min_score = np.min(scores_suggested_sequences)\n",
    "    mean_score = np.mean(scores_suggested_sequences)\n",
    "    normalized_best_score = (best_score - vmin) / (vmax - vmin)\n",
    "    print(f'Best peptide found so far: {best_seq} / {best_score:.3f} ({normalized_best_score:.3f} min: {min_score:.3f}, mean: {mean_score:.3f})')\n",
    "    print('')\n",
    "    \n",
    "    df = pd.DataFrame(data=data, columns=('iter', 'polymer', 'exp_value'))\n",
    "    df.to_csv('results_gfp_hard.csv', index=False)\n"
   ]
  },
  {
   "cell_type": "markdown",
   "id": "490ac468-2664-431b-8956-c264bf250dcd",
   "metadata": {},
   "source": [
    "### With ESM-1b and ESM-IF1 (T=0.1)"
   ]
  },
  {
   "cell_type": "code",
   "execution_count": 5,
   "id": "b65845f4-5120-4bf2-8da5-af6c86e7e4bd",
   "metadata": {},
   "outputs": [],
   "source": [
    "# Load protein language model\n",
    "plm = ProteinEmbedding(pretrained_model_name='esm1b_t33_650M_UR50S', embedding_type='avg')"
   ]
  },
  {
   "cell_type": "code",
   "execution_count": 6,
   "id": "1a2fb726-b587-47c0-bf41-10b2ad206916",
   "metadata": {},
   "outputs": [
    {
     "name": "stderr",
     "output_type": "stream",
     "text": [
      "/scicore/home/schwede/eberha0001/Applications/mambaforge/envs/mobius-ubuntu/lib/python3.11/site-packages/esm/pretrained.py:215: UserWarning: Regression weights not found, predicting contacts will not produce correct results.\n",
      "  warnings.warn(\n"
     ]
    }
   ],
   "source": [
    "# Get probabilities from structure model\n",
    "iv = InverseFolding()\n",
    "probabilities = iv.get_probabilities_from_structure('model_01_gfp_ref.pdb', chainids=['A'], temperature=0.5)\n",
    "monomers = iv.vocab\n",
    "\n",
    "# Add one extra residue as the structure model lacks the last one\n",
    "device = torch.device(\"cuda\" if torch.cuda.is_available() else \"cpu\")\n",
    "p = torch.zeros([1, 20], device=device)\n",
    "p[0, iv.vocab.index('K')] = 1.0\n",
    "probabilities = torch.cat((probabilities, p))\n",
    "\n",
    "# Fix positions involved in the fluorophore activity\n",
    "fixed_positions = {63: 'L', 64: 'S', 65: 'Y', 66: 'G', 95: 'R', 221: 'E'}\n",
    "\n",
    "with open('design_protocol_gfp_probabilities.yaml', 'w') as w:\n",
    "    data = generate_biopolymer_design_protocol_from_probabilities(probabilities, monomers, fixed_positions=fixed_positions)\n",
    "    yaml.dump(data, w, sort_keys=False)"
   ]
  },
  {
   "cell_type": "code",
   "execution_count": 7,
   "id": "5c92a7c7-4341-4201-bfc6-3405d8e5b4b1",
   "metadata": {},
   "outputs": [],
   "source": [
    "# Load surrogate model\n",
    "gpmodel = GPLLModel(kernel=RBFKernel(), pretrained_model=plm, noise_prior=NormalPrior(0, 1))\n",
    "ei = ExpectedImprovement(gpmodel, maximize=True)\n",
    "optimizer = SequenceGA(algorithm='GA', period=15, design_protocol_filename='design_protocol_gfp_probabilities.yaml')\n",
    "ps = Planner(ei, optimizer)"
   ]
  },
  {
   "cell_type": "code",
   "execution_count": 10,
   "id": "3f51fa20-c14b-49b1-bab0-fc01892ed43b",
   "metadata": {},
   "outputs": [],
   "source": [
    "# Take the 128 worst sequences in terms of log-fluorescence intensity\n",
    "hard = hard.sort_values(by='score')\n",
    "seed_library = hard['sequence'].values[:128]\n",
    "scores_seed_library = hard['score'].values[:128]"
   ]
  },
  {
   "cell_type": "code",
   "execution_count": 11,
   "id": "fde1cdb4-dd9a-458d-ae9e-20756cbd4884",
   "metadata": {},
   "outputs": [
    {
     "name": "stderr",
     "output_type": "stream",
     "text": [
      "Fitting GPLLM model (cuda): 24step [02:43,  6.83s/step, loss=-3.68]\n"
     ]
    },
    {
     "name": "stdout",
     "output_type": "stream",
     "text": [
      "==========================================================================================================\n",
      "n_gen  |  n_eval  |        f_avg         |        f_min         |              best sequence              \n",
      "==========================================================================================================\n",
      "     1 |        0 |  0.0000000000000E+00 |  0.0000000000000E+00 | SKGEELFTGVVPIPVELD....LEFVTAAGITHGMDELYK\n",
      "     2 |      500 | -3.9894297741789E-03 | -3.9894297741789E-03 | SKGEELFTGVVPILVELD....LEFVTAAGITHGMDELYK\n",
      "     3 |     1000 | -3.9894297741789E-03 | -3.9894297741789E-03 | SKGEELFTGVVPILVELD....LEFVTAAGITHGMDELYK\n",
      "     4 |     1500 | -3.9894297741789E-03 | -3.9894297741789E-03 | SKGEELFTGVVPILVELD....LEFVTAAGITHGMDELYK\n",
      "     5 |     2000 | -3.9894297741789E-03 | -3.9894297741789E-03 | SKGEELFTGVVPILVELD....LEFVTAAGITHGMDELYK\n",
      "     6 |     2500 | -3.9894297741789E-03 | -3.9894297741789E-03 | SKGEELFTGVVPILVELD....LEFVTAAGITHGMDELYK\n",
      "     7 |     3000 | -3.9894297741789E-03 | -3.9894297741789E-03 | SKGEELFTGVVPILVELD....LEFVTAAGITHGMDELYK\n",
      "     8 |     3500 | -3.9894297741789E-03 | -3.9894297741789E-03 | SKGEELFTGVVPILVELD....LEFVTAAGITHGMDELYK\n",
      "     9 |     4000 | -3.9894297741789E-03 | -3.9894297741789E-03 | SKGEELFTGVVPILVELD....LEFVTAAGITHGMDELYK\n",
      "    10 |     4500 | -3.9894297741789E-03 | -3.9894297741789E-03 | SKGEELFTGVVPILVELD....LEFVTAAGITHGMDELYK\n",
      "    11 |     5000 | -3.9894297741789E-03 | -3.9894297741789E-03 | SKGEELFTGVVPILVELD....LEFVTAAGITHGMDELYK\n",
      "    12 |     5500 | -3.9894297741789E-03 | -3.9894297741789E-03 | SKGEELFTGVVPILVELD....LEFVTAAGITHGMDELYK\n",
      "    13 |     6000 | -3.9894297741789E-03 | -3.9894297741789E-03 | SKGEELFTGVVPILVELD....LEFVTAAGITHGMDELYK\n",
      "    14 |     6500 | -3.9894297741789E-03 | -3.9894297741789E-03 | SKGEELFTGVVPILVELD....LEFVTAAGITHGMDELYK\n",
      "    15 |     7000 | -3.9894297741789E-03 | -3.9894297741789E-03 | SKGEELFTGVVPILVELD....LEFVTAAGITHGMDELYK\n",
      "    16 |     7500 | -3.9894297741789E-03 | -3.9894297741789E-03 | SKGEELFTGVVPILVELD....LEFVTAAGITHGMDELYK\n",
      "    17 |     8000 | -3.9894297741789E-03 | -3.9894297741789E-03 | SKGEELFTGVVPILVELD....LEFVTAAGITHGMDELYK\n",
      "Best peptide found so far: SKGEELFTGVVPILVELDGDVNGHKFSVSGEGEGDATYGKLTLKFICTTGKLPVPWPTLVTTLSYGVQCFSRYPDHMKQHDFFKSAMPEGYVQERTIFFKDDGNYKTRAEVKFEGDTLVNRIELKGIDFKEDGNILGHKLEYNYNSHNVYIMADKQKNGIKVNFKIRHNIEDGSVQLADHYQRNTPIGDGPVLLPDNHYLSTQSALSKDPNEKRDHMVLLEFVTAAGITHGMDELYK / 3.993 (0.954 min: 0.522, mean: 1.664)\n",
      "\n"
     ]
    },
    {
     "name": "stderr",
     "output_type": "stream",
     "text": [
      "Fitting GPLLM model (cuda): 31step [07:49, 15.15s/step, loss=0.711]\n"
     ]
    },
    {
     "name": "stdout",
     "output_type": "stream",
     "text": [
      "==========================================================================================================\n",
      "n_gen  |  n_eval  |        f_avg         |        f_min         |              best sequence              \n",
      "==========================================================================================================\n",
      "     1 |        0 |  5.98132892842253483 |  3.47100347280502319 | SKGEELFTGVVPILVELD....LEFVTAAGITHGMDELYK\n",
      "     2 |      500 | -1.4212611985117E-08 | -1.4212611985117E-08 | SKGEELFTGVVPILVELD....LEFVTAAGITHGMDELYK\n",
      "     3 |     1000 | -1.4212611985117E-08 | -1.4212611985117E-08 | SKGEELFTGVVPILVELD....LEFVTAAGITHGMDELYK\n",
      "     4 |     1500 | -1.4212611985117E-08 | -1.4212611985117E-08 | SKGEELFTGVVPILVELD....LEFVTAAGITHGMDELYK\n",
      "     5 |     2000 | -1.4212611985117E-08 | -1.4212611985117E-08 | SKGEELFTGVVPILVELD....LEFVTAAGITHGMDELYK\n",
      "     6 |     2500 | -1.4212611985117E-08 | -1.4212611985117E-08 | SKGEELFTGVVPILVELD....LEFVTAAGITHGMDELYK\n",
      "     7 |     3000 | -1.4212611985117E-08 | -1.4212611985117E-08 | SKGEELFTGVVPILVELD....LEFVTAAGITHGMDELYK\n",
      "     8 |     3500 | -1.4212611985117E-08 | -1.4212611985117E-08 | SKGEELFTGVVPILVELD....LEFVTAAGITHGMDELYK\n",
      "     9 |     4000 | -1.4212611985117E-08 | -1.4212611985117E-08 | SKGEELFTGVVPILVELD....LEFVTAAGITHGMDELYK\n",
      "    10 |     4500 | -1.4212611985117E-08 | -1.4212611985117E-08 | SKGEELFTGVVPILVELD....LEFVTAAGITHGMDELYK\n",
      "    11 |     5000 | -1.4212611985117E-08 | -1.4212611985117E-08 | SKGEELFTGVVPILVELD....LEFVTAAGITHGMDELYK\n",
      "    12 |     5500 | -1.4212611985117E-08 | -1.4212611985117E-08 | SKGEELFTGVVPILVELD....LEFVTAAGITHGMDELYK\n",
      "    13 |     6000 | -1.4212611985117E-08 | -1.4212611985117E-08 | SKGEELFTGVVPILVELD....LEFVTAAGITHGMDELYK\n",
      "    14 |     6500 | -1.4212611985117E-08 | -1.4212611985117E-08 | SKGEELFTGVVPILVELD....LEFVTAAGITHGMDELYK\n",
      "    15 |     7000 | -1.4212611985117E-08 | -1.4212611985117E-08 | SKGEELFTGVVPILVELD....LEFVTAAGITHGMDELYK\n",
      "    16 |     7500 | -1.4212611985117E-08 | -1.4212611985117E-08 | SKGEELFTGVVPILVELD....LEFVTAAGITHGMDELYK\n",
      "    17 |     8000 | -1.4212611985117E-08 | -1.4212611985117E-08 | SKGEELFTGVVPILVELD....LEFVTAAGITHGMDELYK\n",
      "Best peptide found so far: SKGEELFTGVVPILVELDGDVNGHKFSVSGEGEGDATYGKLTLKFICTTGKLPVPWPTLVTTLSYGVQCFSRYPDHMKQHDFFKSAMPEGYVQERTIFFKDDGNYKTRAEVKFEGDTLVNRIELKGIDFKEDGNILGHKLEYNYNSHNVYIMADKQKNGIKVNFKIRHNIEDGSVQLADHYQRNTPIGDGPVLLPDNHYLSTQSALSKDPNEKRDHMVLLEFVTAAGITHGMDELYK / 3.993 (0.954 min: 0.744, mean: 1.711)\n",
      "\n"
     ]
    },
    {
     "name": "stderr",
     "output_type": "stream",
     "text": [
      "Fitting GPLLM model (cuda): 25step [09:57, 23.89s/step, loss=0.837]\n"
     ]
    },
    {
     "name": "stdout",
     "output_type": "stream",
     "text": [
      "==========================================================================================================\n",
      "n_gen  |  n_eval  |        f_avg         |        f_min         |              best sequence              \n",
      "==========================================================================================================\n",
      "     1 |        0 |  5.90522267548266644 |  3.47100347280502319 | SKGEELFTGVVPILVELD....LEFVTAAGITHGMDELYK\n",
      "     2 |      500 | -7.3133239507729E-07 | -7.3142063213222E-07 | SKGEELFTGVVPILVELD....LEFVTAAGITHGMDELYK\n",
      "     3 |     1000 | -7.3142124138228E-07 | -7.3171360690759E-07 | SKGEELFTGVVPILVELD....LEFVTAAGITHGMDELYK\n",
      "     4 |     1500 | -7.3142158426862E-07 | -7.3171360690759E-07 | SKGEELFTGVVPILVELD....LEFVTAAGITHGMDELYK\n",
      "     5 |     2000 | -7.3142175736665E-07 | -7.3171360690759E-07 | SKGEELFTGVVPILVELD....LEFVTAAGITHGMDELYK\n",
      "     6 |     2500 | -7.3142300589258E-07 | -7.3185347546142E-07 | SKGEELFTGVVPILVELD....LEFVTAAGITHGMDELYK\n",
      "     7 |     3000 | -7.3142300589258E-07 | -7.3185347546142E-07 | SKGEELFTGVVPILVELD....LEFVTAAGITHGMDELYK\n",
      "     8 |     3500 | -7.3142300589258E-07 | -7.3185347546142E-07 | SKGEELFTGVVPILVELD....LEFVTAAGITHGMDELYK\n",
      "     9 |     4000 | -7.3142356187334E-07 | -7.3185347546142E-07 | SKGEELFTGVVPILVELD....LEFVTAAGITHGMDELYK\n",
      "    10 |     4500 | -7.3142356187334E-07 | -7.3185347546142E-07 | SKGEELFTGVVPILVELD....LEFVTAAGITHGMDELYK\n",
      "    11 |     5000 | -7.3142359183120E-07 | -7.3185347546142E-07 | SKGEELFTGVVPILVELD....LEFVTAAGITHGMDELYK\n",
      "    12 |     5500 | -7.3142379821957E-07 | -7.3185347546142E-07 | SKGEELFTGVVPILVELD....LEFVTAAGITHGMDELYK\n",
      "    13 |     6000 | -7.3142379821957E-07 | -7.3185347546142E-07 | SKGEELFTGVVPILVELD....LEFVTAAGITHGMDELYK\n",
      "    14 |     6500 | -7.3142379821957E-07 | -7.3185347546142E-07 | SKGEELFTGVVPILVELD....LEFVTAAGITHGMDELYK\n",
      "    15 |     7000 | -7.3142379821957E-07 | -7.3185347546142E-07 | SKGEELFTGVVPILVELD....LEFVTAAGITHGMDELYK\n",
      "    16 |     7500 | -7.3142379821957E-07 | -7.3185347546142E-07 | SKGEELFTGVVPILVELD....LEFVTAAGITHGMDELYK\n",
      "    17 |     8000 | -7.3142379821957E-07 | -7.3185347546142E-07 | SKGEELFTGVVPILVELD....LEFVTAAGITHGMDELYK\n",
      "    18 |     8500 | -7.3142409448261E-07 | -7.3185347546142E-07 | SKGEELFTGVVPILVELD....LEFVTAAGITHGMDELYK\n",
      "    19 |     9000 | -7.3142409448261E-07 | -7.3185347546142E-07 | SKGEELFTGVVPILVELD....LEFVTAAGITHGMDELYK\n",
      "    20 |     9500 | -7.3142409448261E-07 | -7.3185347546142E-07 | SKGEELFTGVVPILVELD....LEFVTAAGITHGMDELYK\n",
      "    21 |    10000 | -7.3142409448261E-07 | -7.3185347546142E-07 | SKGEELFTGVVPILVELD....LEFVTAAGITHGMDELYK\n",
      "Best peptide found so far: SKGEELFTGVVPILVELDGDVNGHKFSVSGEGEGDATYGKLTLKFICTTGKLPVPWPTLVTTLSYGVQCFSRYPDHMKQHDFFKSAMPEGYVQERTIFFKDDGNYKTRAEVKFEGDTLVNRIELKGIDFKEDGNILGHKLEYNYNSHNVYIMADKQKNGIKVNFKIRHNVEDGSVQLADHYQQNTPIGDGPVLLPDNHYLSTQSALSKDPNEKRDHMVLLEFVTAAGITHGMDELYK / 4.054 (0.976 min: 0.746, mean: 1.908)\n",
      "\n"
     ]
    },
    {
     "name": "stderr",
     "output_type": "stream",
     "text": [
      "Fitting GPLLM model (cuda): 10step [06:29, 38.92s/step, loss=0.953]\n"
     ]
    },
    {
     "name": "stdout",
     "output_type": "stream",
     "text": [
      "==========================================================================================================\n",
      "n_gen  |  n_eval  |        f_avg         |        f_min         |              best sequence              \n",
      "==========================================================================================================\n",
      "     1 |        0 |  5.94069115505478251 |  3.53241270780563354 | SKGEELFTGVVPILVELD....LEFVTAAGITHGMDELYK\n",
      "     2 |      500 | -5.5974647136991E-06 | -8.8556251308708E-06 | SKGEELFTGVVPILVELD....LEFVTAAGITHGMDELYK\n",
      "     3 |     1000 | -9.9272497483645E-06 | -5.4466793387773E-04 | SEGEELFTGVVPILVELD....LEFVTAAGITHGMDELYK\n",
      "     4 |     1500 | -9.9272497483645E-06 | -5.4466793387773E-04 | SEGEELFTGVVPILVELD....LEFVTAAGITHGMDELYK\n",
      "     5 |     2000 | -9.9272497483645E-06 | -5.4466793387773E-04 | SEGEELFTGVVPILVELD....LEFVTAAGITHGMDELYK\n",
      "     6 |     2500 | -9.9272497483645E-06 | -5.4466793387773E-04 | SEGEELFTGVVPILVELD....LEFVTAAGITHGMDELYK\n",
      "     7 |     3000 | -9.9272497483645E-06 | -5.4466793387773E-04 | SEGEELFTGVVPILVELD....LEFVTAAGITHGMDELYK\n",
      "     8 |     3500 | -9.9272497483645E-06 | -5.4466793387773E-04 | SEGEELFTGVVPILVELD....LEFVTAAGITHGMDELYK\n",
      "     9 |     4000 | -1.0197812756715E-05 | -5.4466793387773E-04 | SEGEELFTGVVPILVELD....LEFVTAAGITHGMDELYK\n",
      "    10 |     4500 | -1.0197812756715E-05 | -5.4466793387773E-04 | SEGEELFTGVVPILVELD....LEFVTAAGITHGMDELYK\n",
      "    11 |     5000 | -1.0197812756715E-05 | -5.4466793387773E-04 | SEGEELFTGVVPILVELD....LEFVTAAGITHGMDELYK\n",
      "    12 |     5500 | -1.0197812756715E-05 | -5.4466793387773E-04 | SEGEELFTGVVPILVELD....LEFVTAAGITHGMDELYK\n",
      "    13 |     6000 | -1.0200665990207E-05 | -5.4466793387773E-04 | SEGEELFTGVVPILVELD....LEFVTAAGITHGMDELYK\n",
      "    14 |     6500 | -1.0200665990207E-05 | -5.4466793387773E-04 | SEGEELFTGVVPILVELD....LEFVTAAGITHGMDELYK\n",
      "    15 |     7000 | -1.5306071466183E-05 | -2.5615583631188E-03 | SKGEELFTGVVPILVELD....LEFVTAAGITHGMDELYK\n",
      "    16 |     7500 | -1.5306071466183E-05 | -2.5615583631188E-03 | SKGEELFTGVVPILVELD....LEFVTAAGITHGMDELYK\n",
      "    17 |     8000 | -1.9765368640589E-05 | -2.5615583631188E-03 | SKGEELFTGVVPILVELD....LEFVTAAGITHGMDELYK\n",
      "    18 |     8500 | -1.9765368640589E-05 | -2.5615583631188E-03 | SKGEELFTGVVPILVELD....LEFVTAAGITHGMDELYK\n",
      "    19 |     9000 | -1.9765368640589E-05 | -2.5615583631188E-03 | SKGEELFTGVVPILVELD....LEFVTAAGITHGMDELYK\n",
      "    20 |     9500 | -2.2426645629815E-05 | -2.5615583631188E-03 | SKGEELFTGVVPILVELD....LEFVTAAGITHGMDELYK\n",
      "    21 |    10000 | -2.2426645629815E-05 | -2.5615583631188E-03 | SKGEELFTGVVPILVELD....LEFVTAAGITHGMDELYK\n",
      "    22 |    10500 | -2.2426645629815E-05 | -2.5615583631188E-03 | SKGEELFTGVVPILVELD....LEFVTAAGITHGMDELYK\n",
      "    23 |    11000 | -2.2426645629815E-05 | -2.5615583631188E-03 | SKGEELFTGVVPILVELD....LEFVTAAGITHGMDELYK\n",
      "    24 |    11500 | -2.2426645629815E-05 | -2.5615583631188E-03 | SKGEELFTGVVPILVELD....LEFVTAAGITHGMDELYK\n",
      "    25 |    12000 | -2.2464590797540E-05 | -2.5615583631188E-03 | SKGEELFTGVVPILVELD....LEFVTAAGITHGMDELYK\n",
      "    26 |    12500 | -2.2464590797540E-05 | -2.5615583631188E-03 | SKGEELFTGVVPILVELD....LEFVTAAGITHGMDELYK\n",
      "    27 |    13000 | -2.2464590797540E-05 | -2.5615583631188E-03 | SKGEELFTGVVPILVELD....LEFVTAAGITHGMDELYK\n",
      "    28 |    13500 | -2.2537521385391E-05 | -2.5615583631188E-03 | SKGEELFTGVVPILVELD....LEFVTAAGITHGMDELYK\n",
      "    29 |    14000 | -2.2537521385391E-05 | -2.5615583631188E-03 | SKGEELFTGVVPILVELD....LEFVTAAGITHGMDELYK\n",
      "    30 |    14500 | -2.2537521385391E-05 | -2.5615583631188E-03 | SKGEELFTGVVPILVELD....LEFVTAAGITHGMDELYK\n",
      "Best peptide found so far: SKGEELFTGVVPILVELDGDVNGHKFSVSGEGEGDATYGKLTLKFICTTGKLPVPWPTLVTTLSYGVQCFSRYPDHMKQHDFFKSAMPEGYVQERTIFFKDDGNYKTRAEVKFEGDTLVNRIELKGIDFKEDGNILGHKLEYNYNSHNVYIMADKQKNGIKVNFKIRHNVEDGSVQLADHYQQNTPIGDGPVLLPDNHYLSTQSALSKDPNEKRDHMVLLEFVTAAGITHGMDELYK / 4.054 (0.976 min: 0.792, mean: 1.846)\n",
      "\n"
     ]
    }
   ],
   "source": [
    "sequences = seed_library.copy()\n",
    "scores = scores_seed_library.copy()\n",
    "        \n",
    "# Store data for later analysis\n",
    "data = [(0, p, s) for p, s in zip(sequences, scores)]\n",
    "        \n",
    "for i in range(4):\n",
    "    suggested_sequences, _ = ps.recommand(sequences, scores.reshape(-1, 1), batch_size=128)\n",
    "    scores_suggested_sequences = landscape.get_fitness(suggested_sequences)\n",
    "        \n",
    "    sequences = np.concatenate([sequences, suggested_sequences])\n",
    "    scores = np.concatenate((scores, scores_suggested_sequences), axis=0)\n",
    "    data.extend([(i + 1, p, s) for p, s in zip(suggested_sequences, scores_suggested_sequences)])\n",
    "        \n",
    "    best_seq = sequences[np.argmax(scores)]\n",
    "    best_score = np.max(scores)\n",
    "    min_score = np.min(scores_suggested_sequences)\n",
    "    mean_score = np.mean(scores_suggested_sequences)\n",
    "    normalized_best_score = (best_score - vmin) / (vmax - vmin)\n",
    "    print(f'Best peptide found so far: {best_seq} / {best_score:.3f} ({normalized_best_score:.3f} min: {min_score:.3f}, mean: {mean_score:.3f})')\n",
    "    print('')\n",
    "    \n",
    "    df = pd.DataFrame(data=data, columns=('iter', 'polymer', 'exp_value'))\n",
    "    df.to_csv('results_gfp_hard_esm-if1.csv', index=False)"
   ]
  },
  {
   "cell_type": "markdown",
   "id": "0b4828c9-e5da-4fb8-89a7-182e990b9c7d",
   "metadata": {},
   "source": [
    "## Results comparison"
   ]
  },
  {
   "cell_type": "code",
   "execution_count": 13,
   "id": "cc71c8a6-c193-464b-a0ea-1317d31a847e",
   "metadata": {},
   "outputs": [
    {
     "data": {
      "image/png": "[encoded data removed]",
      "text/plain": [
       "<Figure size 1000x500 with 1 Axes>"
      ]
     },
     "metadata": {},
     "output_type": "display_data"
    }
   ],
   "source": [
    "methods = ['gfp_hard', 'gfp_hard_esm-if1']\n",
    "method_renaming = {'gfp_hard': 'ESM-1b', 'gfp_hard_esm-if1': 'ESM-1b + ESM-IF1 (T=0.5)'}\n",
    "\n",
    "dfs = []\n",
    "\n",
    "for method in methods:\n",
    "    df = pd.read_csv(f'results_{method}.csv')\n",
    "    df['method'] = method_renaming[method]\n",
    "    maxs = df.loc[df.groupby(by=['iter'])['exp_value'].idxmax()]\n",
    "    dfs.append(maxs)\n",
    "\n",
    "dfs = pd.concat(dfs).reset_index()\n",
    "\n",
    "dfs['iter'] = dfs['iter'].replace({0: 'Init.', 1: '1', 2: '2', 3: '3', 4: '4', 5: '5'})\n",
    "\n",
    "dfs['normalized_exp_value'] = (dfs['exp_value'] - vmin) / (vmax - vmin)\n",
    "\n",
    "fig, axarr = plt.subplots(figsize=(10, 5))\n",
    "sns.lineplot(x='iter', y='normalized_exp_value', hue='method', data=dfs, ax=axarr, linewidth=3.5)\n",
    "\n",
    "axarr.axhline(y=0.81, color='black', linestyle=':')\n",
    "axarr.text(-0.15, 0.82, 'LaProtRL (hard)', fontsize=10)\n",
    "\n",
    "axarr.legend(loc='upper right', fontsize=15, frameon=False)\n",
    "axarr.set_ylim([0, 1.0])\n",
    "axarr.set_xlabel(\"Generations\", fontsize=15)\n",
    "axarr.set_ylabel(\"Normalized log-fluorescense intensity\", fontsize=15)\n",
    "axarr.xaxis.set_tick_params(labelsize=15)\n",
    "axarr.yaxis.set_tick_params(labelsize=15)\n",
    "\n",
    "axarr.get_legend().remove()\n",
    "axarr.legend(bbox_to_anchor=(0., 1., 1., 0.2), loc=3, ncol=2, mode=\"expand\", borderaxespad=0, fontsize=15, frameon=False)\n",
    "\n",
    "sns.despine()\n",
    "\n",
    "plt.show()"
   ]
  },
  {
   "cell_type": "code",
   "execution_count": null,
   "id": "7130fe0c-4d96-4cb3-a740-12755c8ac52f",
   "metadata": {},
   "outputs": [],
   "source": []
  }
 ],
 "metadata": {
  "kernelspec": {
   "display_name": "Python [conda env:mambaforge-mobius-ubuntu]",
   "language": "python",
   "name": "conda-env-mambaforge-mobius-ubuntu-py"
  },
  "language_info": {
   "codemirror_mode": {
    "name": "ipython",
    "version": 3
   },
   "file_extension": ".py",
   "mimetype": "text/x-python",
   "name": "python",
   "nbconvert_exporter": "python",
   "pygments_lexer": "ipython3",
   "version": "3.11.0"
  }
 },
 "nbformat": 4,
 "nbformat_minor": 5
}
