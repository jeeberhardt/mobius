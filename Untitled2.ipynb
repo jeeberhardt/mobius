{
 "cells": [
  {
   "cell_type": "code",
   "execution_count": 1,
   "id": "3025858d",
   "metadata": {},
   "outputs": [],
   "source": [
    "%matplotlib inline\n",
    "\n",
    "import numpy as np\n",
    "import pandas as pd\n",
    "import matplotlib.pyplot as plt\n",
    "\n",
    "from deap import algorithms\n",
    "from deap import base\n",
    "from deap import creator\n",
    "from deap import tools\n",
    "\n",
    "from mobius import VirtualTarget, ForceField"
   ]
  },
  {
   "cell_type": "code",
   "execution_count": 24,
   "id": "fbd067c9",
   "metadata": {},
   "outputs": [],
   "source": [
    "class PBIL(object):\n",
    "    def __init__(self, peptide_length, population_size=96, n_best=1,\n",
    "                 learning_rate=0.3, mut_prob=0.1, mut_shift=0.05, seed=None):\n",
    "        self._AA1 = ['A', 'R', 'N', 'D', 'C', 'Q', 'E', 'G', 'H', 'I',\n",
    "                     'L', 'K', 'M', 'F', 'P', 'S', 'T', 'W', 'Y', 'V']\n",
    "        # Random generation\n",
    "        self._random_seed = seed\n",
    "        self._rng = np.random.default_rng(self._random_seed)\n",
    "\n",
    "        # Initialize probability vectors\n",
    "        n_amino_acids = len(self._AA1)\n",
    "        self._peptide_length = peptide_length\n",
    "        init_probability = 1. / n_amino_acids\n",
    "        self._prob_vector = np.zeros(shape=(peptide_length, n_amino_acids)) + init_probability\n",
    "\n",
    "        # PBIL parameters\n",
    "        self._n_best = n_best\n",
    "        self._learning_rate = learning_rate\n",
    "        self._mut_prob = mut_prob\n",
    "        self._mut_shift = mut_shift\n",
    "        self._population_size = population_size\n",
    "\n",
    "    def sample(self):\n",
    "        ind = [self._rng.choice(self._AA1, p=self._prob_vector[i]) for i in range(self._peptide_length)]\n",
    "        return (ind)\n",
    "\n",
    "    def generate(self, ind_init):\n",
    "        return [ind_init(self.sample()) for _ in range(self._population_size)]\n",
    "\n",
    "    def update(self, population, scores=None):\n",
    "        if scores is None:\n",
    "            scores = np.array([ind.fitness.values[0] for ind in population])\n",
    "\n",
    "        best_peptide_indices = np.argsort(np.ravel(scores))[:self._n_best]\n",
    "        best_peptides = np.array(population)[best_peptide_indices]\n",
    "        \n",
    "        for i in range(self._peptide_length):\n",
    "            if self._n_best > 1:\n",
    "                unique_amino_acids, counts = np.unique(best_peptides[:,i], return_counts=True)\n",
    "                frequencies = counts / np.sum(counts)\n",
    "            else:\n",
    "                unique_amino_acids = [best_peptides[0][i]]\n",
    "                frequencies = [1.]\n",
    "            \n",
    "            for unique_amino_acid, frequency in zip(unique_amino_acids, frequencies):\n",
    "                j = self._AA1.index(unique_amino_acid)\n",
    "                \n",
    "                # Update the probability vector\n",
    "                self._prob_vector[i, j] *= 1.0 - self._learning_rate\n",
    "                self._prob_vector[i, j] += frequency * self._learning_rate\n",
    "\n",
    "                # Mutate the probability vector\n",
    "                if self._rng.uniform() < self._mut_prob:\n",
    "                    self._prob_vector[i, j] *= 1.0 - self._mut_shift\n",
    "                    self._prob_vector[i, j] += self._rng.uniform() * self._mut_shift\n",
    "            \n",
    "            # Normalize vector\n",
    "            self._prob_vector[i] /= np.sum(self._prob_vector[i])\n",
    "\n",
    "                \n",
    "def initPopulation(pcls, ind_init, individuals):\n",
    "    return pcls(ind_init(i) for i in individuals)\n",
    "\n",
    "\n",
    "def evaluate(individual):\n",
    "    return vt.score_peptides([''.join(individual)])[0],\n",
    "\n",
    "\n",
    "def plot_logbook(logbook, minimum_score):\n",
    "    gen = logbook.select(\"gen\")\n",
    "    fit_mins = logbook.select(\"min\")\n",
    "    size_avgs = logbook.select(\"avg\")\n",
    "\n",
    "    fig, ax1 = plt.subplots(figsize=(15, 5))\n",
    "    line1 = ax1.plot(gen, fit_mins, \"b-\", label=\"Minimum Fitness\")\n",
    "    ax1.set_xlabel(\"Generation\")\n",
    "    ax1.set_ylabel(\"Fitness\", color=\"b\")\n",
    "    for tl in ax1.get_yticklabels():\n",
    "        tl.set_color(\"b\")\n",
    "    \n",
    "    ax1.plot(np.linspace(0, np.max(gen), np.max(gen)), [minimum_score] * np.max(gen), '--', color='green')\n",
    "\n",
    "    ax2 = ax1.twinx()\n",
    "    line2 = ax2.plot(gen, size_avgs, \"r-\", label=\"Average Fitness\")\n",
    "    ax2.set_ylabel(\"Size\", color=\"r\")\n",
    "    for tl in ax2.get_yticklabels():\n",
    "        tl.set_color(\"r\")\n",
    "\n",
    "    lns = line1 + line2\n",
    "    labs = [l.get_label() for l in lns]\n",
    "    ax1.legend(lns, labs, loc=\"upper right\")\n",
    "    \n",
    "    ax1.set_ylim([0, 12])\n",
    "    ax2.set_ylim([0, 20])\n",
    "\n",
    "    plt.show()"
   ]
  },
  {
   "cell_type": "code",
   "execution_count": 25,
   "id": "20ef93fc",
   "metadata": {},
   "outputs": [
    {
     "name": "stdout",
     "output_type": "stream",
     "text": [
      "KFWGRMRC\n",
      "[0.60785365]\n"
     ]
    }
   ],
   "source": [
    "NLEN = 8\n",
    "\n",
    "ff = ForceField()\n",
    "vt = VirtualTarget(ff)\n",
    "vt.generate_random_target_sequence(NLEN)\n",
    "print(vt.target_sequence())\n",
    "print(vt.score_peptides([vt.target_sequence()]))\n",
    "minimum_score = vt.score_peptides([vt.target_sequence()])[0]"
   ]
  },
  {
   "cell_type": "code",
   "execution_count": 30,
   "id": "4cef0970",
   "metadata": {
    "scrolled": false
   },
   "outputs": [
    {
     "name": "stderr",
     "output_type": "stream",
     "text": [
      "/home/eberhardt/Applications/miniconda3/envs/mm/lib/python3.9/site-packages/deap/creator.py:138: RuntimeWarning: A class named 'FitnessMin' has already been created and it will be overwritten. Consider deleting previous creation of that class or rename it.\n",
      "  warnings.warn(\"A class named '{0}' has already been created and it \"\n",
      "/home/eberhardt/Applications/miniconda3/envs/mm/lib/python3.9/site-packages/deap/creator.py:138: RuntimeWarning: A class named 'Individual' has already been created and it will be overwritten. Consider deleting previous creation of that class or rename it.\n",
      "  warnings.warn(\"A class named '{0}' has already been created and it \"\n"
     ]
    },
    {
     "name": "stdout",
     "output_type": "stream",
     "text": [
      "gen\tnevals\tavg    \tstd    \tmin    \tmax    \n",
      "0  \t96    \t14.5419\t2.71943\t6.60555\t20.8599\n",
      "1  \t96    \t12.0522\t2.99025\t5.33938\t17.5738\n",
      "2  \t96    \t10.7507\t2.93658\t4.72735\t18.4955\n",
      "3  \t96    \t8.95204\t2.68679\t3.85614\t15.064 \n",
      "4  \t96    \t7.59144\t2.32795\t3.268  \t12.532 \n",
      "5  \t96    \t6.74722\t2.3453 \t3.268  \t15.5216\n",
      "6  \t96    \t6.06288\t2.06382\t3.14618\t11.4454\n",
      "7  \t96    \t5.93545\t2.08327\t1.96525\t12.1624\n",
      "8  \t96    \t4.81759\t2.11053\t1.60277\t13.4105\n",
      "9  \t96    \t4.38158\t2.15311\t1.48095\t10.4925\n"
     ]
    },
    {
     "data": {
      "image/png": "[encoded data removed]",
      "text/plain": [
       "<Figure size 1080x360 with 2 Axes>"
      ]
     },
     "metadata": {
      "needs_background": "light"
     },
     "output_type": "display_data"
    }
   ],
   "source": [
    "NGEN = 10\n",
    "NIND = 96\n",
    "\n",
    "#Initialize the PBIL EDA\n",
    "pbil = PBIL(peptide_length=NLEN, population_size=NIND, n_best=1, learning_rate=0.5, mut_prob=0, mut_shift=0.0)\n",
    "\n",
    "creator.create(\"FitnessMin\", base.Fitness, weights=(-1.0,))\n",
    "creator.create(\"Individual\", list, fitness=creator.FitnessMin)\n",
    "\n",
    "toolbox = base.Toolbox()\n",
    "toolbox.register(\"population_guess\", initPopulation, list, creator.Individual, [])\n",
    "toolbox.register(\"evaluate\", evaluate)\n",
    "toolbox.register(\"generate\", pbil.generate, creator.Individual)\n",
    "toolbox.register(\"update\", pbil.update)\n",
    "\n",
    "# Statistics computation\n",
    "stats = tools.Statistics(lambda ind: ind.fitness.values)\n",
    "stats.register(\"avg\", np.mean)\n",
    "stats.register(\"std\", np.std)\n",
    "stats.register(\"min\", np.min)\n",
    "stats.register(\"max\", np.max)\n",
    "\n",
    "pop, logbook = algorithms.eaGenerateUpdate(toolbox, NGEN, stats=stats, verbose=True)\n",
    "\n",
    "plot_logbook(logbook, minimum_score)"
   ]
  },
  {
   "cell_type": "code",
   "execution_count": 36,
   "id": "d2c787a8",
   "metadata": {
    "scrolled": false
   },
   "outputs": [
    {
     "name": "stdout",
     "output_type": "stream",
     "text": [
      "2.45716\n",
      "gen\tnevals\tavg    \tstd    \tmin    \tmax    \n",
      "0  \t96    \t10.6872\t3.10237\t2.54537\t19.1844\n",
      "1  \t96    \t7.91087\t2.94488\t1.13144\t15.4262\n"
     ]
    },
    {
     "name": "stderr",
     "output_type": "stream",
     "text": [
      "/home/eberhardt/Applications/miniconda3/envs/mm/lib/python3.9/site-packages/deap/creator.py:138: RuntimeWarning: A class named 'FitnessMin' has already been created and it will be overwritten. Consider deleting previous creation of that class or rename it.\n",
      "  warnings.warn(\"A class named '{0}' has already been created and it \"\n",
      "/home/eberhardt/Applications/miniconda3/envs/mm/lib/python3.9/site-packages/deap/creator.py:138: RuntimeWarning: A class named 'Individual' has already been created and it will be overwritten. Consider deleting previous creation of that class or rename it.\n",
      "  warnings.warn(\"A class named '{0}' has already been created and it \"\n"
     ]
    },
    {
     "name": "stdout",
     "output_type": "stream",
     "text": [
      "2  \t96    \t6.79077\t2.78621\t1.54184\t15.0127\n",
      "3  \t96    \t5.99303\t2.90015\t1.01825\t14.8962\n",
      "4  \t96    \t5.07747\t2.46099\t0.595889\t11.1236\n",
      "5  \t96    \t3.81434\t2.5459 \t0.595889\t11.1049\n",
      "6  \t96    \t3.42603\t2.59687\t0.595889\t11.013 \n",
      "7  \t96    \t3.74855\t2.14897\t0.595889\t9.52118\n",
      "8  \t96    \t2.99355\t2.24994\t0.595889\t13.0043\n",
      "9  \t96    \t2.98916\t2.15293\t0.595889\t10.2912\n"
     ]
    },
    {
     "data": {
      "image/png": "[encoded data removed]",
      "text/plain": [
       "<Figure size 1080x360 with 2 Axes>"
      ]
     },
     "metadata": {
      "needs_background": "light"
     },
     "output_type": "display_data"
    }
   ],
   "source": [
    "NGEN = 10\n",
    "NIND = 96\n",
    "\n",
    "#Initialize the PBIL EDA\n",
    "pbil = PBIL(peptide_length=NLEN, population_size=NIND, n_best=1, learning_rate=0.5, mut_prob=0, mut_shift=0.0)\n",
    "\n",
    "# Incorporate known data\n",
    "individuals = vt.generate_random_peptides_from_target_sequence(10, NLEN)\n",
    "scores = vt.score_peptides(individuals)\n",
    "print(np.min(scores))\n",
    "pbil.update([list(ind) for ind in individuals], scores)\n",
    "\n",
    "creator.create(\"FitnessMin\", base.Fitness, weights=(-1.0,))\n",
    "creator.create(\"Individual\", list, fitness=creator.FitnessMin)\n",
    "\n",
    "toolbox = base.Toolbox()\n",
    "toolbox.register(\"population_guess\", initPopulation, list, creator.Individual, [])\n",
    "toolbox.register(\"evaluate\", evaluate)\n",
    "toolbox.register(\"generate\", pbil.generate, creator.Individual)\n",
    "toolbox.register(\"update\", pbil.update)\n",
    "\n",
    "# Statistics computation\n",
    "stats = tools.Statistics(lambda ind: ind.fitness.values)\n",
    "stats.register(\"avg\", np.mean)\n",
    "stats.register(\"std\", np.std)\n",
    "stats.register(\"min\", np.min)\n",
    "stats.register(\"max\", np.max)\n",
    "\n",
    "pop, logbook = algorithms.eaGenerateUpdate(toolbox, NGEN, stats=stats, verbose=True)\n",
    "\n",
    "plot_logbook(logbook, minimum_score)"
   ]
  },
  {
   "cell_type": "code",
   "execution_count": null,
   "id": "3476daa7",
   "metadata": {},
   "outputs": [],
   "source": []
  },
  {
   "cell_type": "code",
   "execution_count": null,
   "id": "136d4ee8",
   "metadata": {},
   "outputs": [],
   "source": []
  },
  {
   "cell_type": "code",
   "execution_count": null,
   "id": "18ca9929",
   "metadata": {},
   "outputs": [],
   "source": []
  },
  {
   "cell_type": "code",
   "execution_count": null,
   "id": "d7e21304",
   "metadata": {},
   "outputs": [],
   "source": []
  },
  {
   "cell_type": "code",
   "execution_count": null,
   "id": "9a390a4b",
   "metadata": {},
   "outputs": [],
   "source": []
  },
  {
   "cell_type": "code",
   "execution_count": null,
   "id": "5481086b",
   "metadata": {},
   "outputs": [],
   "source": []
  },
  {
   "cell_type": "code",
   "execution_count": null,
   "id": "025ec4b5",
   "metadata": {},
   "outputs": [],
   "source": []
  },
  {
   "cell_type": "code",
   "execution_count": null,
   "id": "c814bf58",
   "metadata": {},
   "outputs": [],
   "source": []
  },
  {
   "cell_type": "code",
   "execution_count": null,
   "id": "94d2f86e",
   "metadata": {},
   "outputs": [],
   "source": []
  },
  {
   "cell_type": "code",
   "execution_count": null,
   "id": "34af105e",
   "metadata": {},
   "outputs": [],
   "source": []
  }
 ],
 "metadata": {
  "kernelspec": {
   "display_name": "Python 3 (ipykernel)",
   "language": "python",
   "name": "python3"
  },
  "language_info": {
   "codemirror_mode": {
    "name": "ipython",
    "version": 3
   },
   "file_extension": ".py",
   "mimetype": "text/x-python",
   "name": "python",
   "nbconvert_exporter": "python",
   "pygments_lexer": "ipython3",
   "version": "3.9.7"
  }
 },
 "nbformat": 4,
 "nbformat_minor": 5
}
