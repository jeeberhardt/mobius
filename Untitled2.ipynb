{
 "cells": [
  {
   "cell_type": "code",
   "execution_count": 1,
   "id": "fcd54165",
   "metadata": {},
   "outputs": [],
   "source": [
    "%matplotlib inline\n",
    "\n",
    "import numpy as np\n",
    "import pandas as pd\n",
    "import matplotlib.pyplot as plt\n",
    "\n",
    "from deap import algorithms\n",
    "from deap import base\n",
    "from deap import creator\n",
    "from deap import tools\n",
    "\n",
    "from mobius import VirtualTarget, ForceField"
   ]
  },
  {
   "cell_type": "code",
   "execution_count": 48,
   "id": "178f97ab",
   "metadata": {},
   "outputs": [],
   "source": [
    "class PBIL(object):\n",
    "    def __init__(self, peptide_length, population_size=96, n_best=1,\n",
    "                 learning_rate=0.3, mut_prob=0.1, mut_shift=0.05, seed=None):\n",
    "        self._AA1 = ['A', 'R', 'N', 'D', 'C', 'Q', 'E', 'G', 'H', 'I',\n",
    "                     'L', 'K', 'M', 'F', 'P', 'S', 'T', 'W', 'Y', 'V']\n",
    "        # Random generation\n",
    "        self._random_seed = seed\n",
    "        self._rng = np.random.default_rng(self._random_seed)\n",
    "\n",
    "        # Initialize probability vectors\n",
    "        n_amino_acids = len(self._AA1)\n",
    "        self._peptide_length = peptide_length\n",
    "        init_probability = 1. / n_amino_acids\n",
    "        self._prob_vector = np.zeros(shape=(peptide_length, n_amino_acids)) + init_probability\n",
    "\n",
    "        # PBIL parameters\n",
    "        self._n_best = n_best\n",
    "        self._learning_rate = learning_rate\n",
    "        self._mut_prob = mut_prob\n",
    "        self._mut_shift = mut_shift\n",
    "        self._population_size = population_size\n",
    "\n",
    "    def sample(self):\n",
    "        ind = [self._rng.choice(self._AA1, p=self._prob_vector[i]) for i in range(self._peptide_length)]\n",
    "        return (ind)\n",
    "\n",
    "    def generate(self, ind_init):\n",
    "        return [ind_init(self.sample()) for _ in range(self._population_size)]\n",
    "\n",
    "    def update(self, population, scores=None):\n",
    "        if scores is None:\n",
    "            scores = np.array([ind.fitness.values[0] for ind in population])\n",
    "\n",
    "        best_peptide_indices = np.argsort(np.ravel(scores))[:self._n_best]\n",
    "        best_peptides = np.array(population)[best_peptide_indices]\n",
    "        \n",
    "        for i in range(self._peptide_length):\n",
    "            if self._n_best > 1:\n",
    "                unique_amino_acids, counts = np.unique(best_peptides[:,i], return_counts=True)\n",
    "                frequencies = counts / np.sum(counts)\n",
    "            else:\n",
    "                unique_amino_acids = [best_peptides[0][i]]\n",
    "                frequencies = [1.]\n",
    "            \n",
    "            for unique_amino_acid, frequency in zip(unique_amino_acids, frequencies):\n",
    "                j = self._AA1.index(unique_amino_acid)\n",
    "                \n",
    "                # Update the probability vector\n",
    "                self._prob_vector[i, j] *= 1.0 - self._learning_rate\n",
    "                self._prob_vector[i, j] += frequency * self._learning_rate\n",
    "\n",
    "                # Mutate the probability vector\n",
    "                if self._rng.uniform() < self._mut_prob:\n",
    "                    self._prob_vector[i, j] *= 1.0 - self._mut_shift\n",
    "                    self._prob_vector[i, j] += self._rng.uniform() * self._mut_shift\n",
    "            \n",
    "            # Normalize vector\n",
    "            self._prob_vector[i] /= np.sum(self._prob_vector[i])\n",
    "\n",
    "                \n",
    "def initPopulation(pcls, ind_init, individuals):\n",
    "    return pcls(ind_init(i) for i in individuals)\n",
    "\n",
    "\n",
    "def evaluate(individual):\n",
    "    return vt.score_peptides([''.join(individual)])[0],\n",
    "\n",
    "\n",
    "def plot_logbook(logbook):\n",
    "    gen = logbook.select(\"gen\")\n",
    "    fit_mins = logbook.select(\"min\")\n",
    "    size_avgs = logbook.select(\"avg\")\n",
    "\n",
    "    fig, ax1 = plt.subplots(figsize=(15, 5))\n",
    "    line1 = ax1.plot(gen, fit_mins, \"b-\", label=\"Minimum Fitness\")\n",
    "    ax1.set_xlabel(\"Generation\")\n",
    "    ax1.set_ylabel(\"Fitness\", color=\"b\")\n",
    "    for tl in ax1.get_yticklabels():\n",
    "        tl.set_color(\"b\")\n",
    "\n",
    "    ax2 = ax1.twinx()\n",
    "    line2 = ax2.plot(gen, size_avgs, \"r-\", label=\"Average Fitness\")\n",
    "    ax2.set_ylabel(\"Size\", color=\"r\")\n",
    "    for tl in ax2.get_yticklabels():\n",
    "        tl.set_color(\"r\")\n",
    "\n",
    "    lns = line1 + line2\n",
    "    labs = [l.get_label() for l in lns]\n",
    "    ax1.legend(lns, labs, loc=\"upper right\")\n",
    "    \n",
    "    ax1.set_ylim([0, 20])\n",
    "    ax2.set_ylim([0, 20])\n",
    "\n",
    "    plt.show()"
   ]
  },
  {
   "cell_type": "code",
   "execution_count": 99,
   "id": "df1a002b",
   "metadata": {},
   "outputs": [
    {
     "name": "stdout",
     "output_type": "stream",
     "text": [
      "QEQMWMWP\n",
      "[0.7339572]\n"
     ]
    }
   ],
   "source": [
    "NLEN = 8\n",
    "\n",
    "ff = ForceField()\n",
    "vt = VirtualTarget(ff)\n",
    "vt.generate_random_target_sequence(NLEN)\n",
    "print(vt.target_sequence())\n",
    "print(vt.score_peptides([vt.target_sequence()]))"
   ]
  },
  {
   "cell_type": "code",
   "execution_count": 100,
   "id": "08977ab6",
   "metadata": {
    "scrolled": false
   },
   "outputs": [
    {
     "name": "stdout",
     "output_type": "stream",
     "text": [
      "gen\tnevals\tavg    \tstd    \tmin    \tmax    \n",
      "0  \t96    \t14.5914\t3.11172\t7.33579\t22.7742\n",
      "1  \t96    \t11.962 \t2.85215\t6.14376\t19.6779\n",
      "2  \t96    \t10.4891\t2.623  \t5.23914\t16.8784\n",
      "3  \t96    \t9.1472 \t2.56329\t4.23785\t15.8808\n",
      "4  \t96    \t8.1255 \t2.48366\t3.41067\t16.0695\n",
      "5  \t96    \t7.01894\t2.38482\t3.16155\t14.1611\n",
      "6  \t96    \t6.24642\t2.60819\t1.97119\t13.9589\n",
      "7  \t96    \t5.13599\t1.94527\t1.97119\t10.6627\n",
      "8  \t96    \t4.70387\t1.76712\t1.91491\t11.1126\n",
      "9  \t96    \t4.27595\t1.82377\t1.91491\t9.3699 \n"
     ]
    },
    {
     "data": {
      "image/png": "[encoded data removed]",
      "text/plain": [
       "<Figure size 1080x360 with 2 Axes>"
      ]
     },
     "metadata": {
      "needs_background": "light"
     },
     "output_type": "display_data"
    }
   ],
   "source": [
    "NGEN = 10\n",
    "NIND = 96\n",
    "\n",
    "#Initialize the PBIL EDA\n",
    "pbil = PBIL(peptide_length=NLEN, population_size=NIND, n_best=1, learning_rate=0.5, mut_prob=0, mut_shift=0.0)\n",
    "\n",
    "creator.create(\"FitnessMin\", base.Fitness, weights=(-1.0,))\n",
    "creator.create(\"Individual\", list, fitness=creator.FitnessMin)\n",
    "\n",
    "toolbox = base.Toolbox()\n",
    "toolbox.register(\"population_guess\", initPopulation, list, creator.Individual, [])\n",
    "toolbox.register(\"evaluate\", evaluate)\n",
    "toolbox.register(\"generate\", pbil.generate, creator.Individual)\n",
    "toolbox.register(\"update\", pbil.update)\n",
    "\n",
    "# Statistics computation\n",
    "stats = tools.Statistics(lambda ind: ind.fitness.values)\n",
    "stats.register(\"avg\", np.mean)\n",
    "stats.register(\"std\", np.std)\n",
    "stats.register(\"min\", np.min)\n",
    "stats.register(\"max\", np.max)\n",
    "\n",
    "pop, logbook = algorithms.eaGenerateUpdate(toolbox, NGEN, stats=stats, verbose=True)\n",
    "\n",
    "plot_logbook(logbook)"
   ]
  },
  {
   "cell_type": "code",
   "execution_count": 101,
   "id": "b5899828",
   "metadata": {
    "scrolled": false
   },
   "outputs": [
    {
     "name": "stdout",
     "output_type": "stream",
     "text": [
      "1.5594712\n",
      "gen\tnevals\tavg    \tstd    \tmin    \tmax    \n",
      "0  \t96    \t10.4574\t3.17717\t5.16532\t19.8317\n",
      "1  \t96    \t8.88518\t3.04379\t1.6892 \t17.087 \n",
      "2  \t96    \t7.51178\t2.87333\t1.6892 \t17.7777\n",
      "3  \t96    \t6.14272\t2.62974\t1.55947\t14.5917\n",
      "4  \t96    \t5.26131\t2.34352\t0.967274\t11.5433\n",
      "5  \t96    \t4.72521\t2.53762\t0.733957\t12.3389\n",
      "6  \t96    \t3.90612\t2.32212\t0.733957\t10.2211\n",
      "7  \t96    \t3.40844\t2.18009\t0.687991\t8.90942\n",
      "8  \t96    \t2.8999 \t2.0752 \t0.687991\t10.3968\n",
      "9  \t96    \t2.85546\t2.14462\t0.687991\t11.6826\n"
     ]
    },
    {
     "data": {
      "image/png": "[encoded data removed]",
      "text/plain": [
       "<Figure size 1080x360 with 2 Axes>"
      ]
     },
     "metadata": {
      "needs_background": "light"
     },
     "output_type": "display_data"
    }
   ],
   "source": [
    "NGEN = 10\n",
    "NIND = 96\n",
    "\n",
    "#Initialize the PBIL EDA\n",
    "pbil = PBIL(peptide_length=NLEN, population_size=NIND, n_best=1, learning_rate=0.5, mut_prob=0, mut_shift=0.0)\n",
    "\n",
    "# Incorporate known data\n",
    "individuals = vt.generate_random_peptides_from_target_sequence(10, NLEN)\n",
    "scores = vt.score_peptides(individuals)\n",
    "print(np.min(scores))\n",
    "pbil.update(individuals, scores)\n",
    "\n",
    "creator.create(\"FitnessMin\", base.Fitness, weights=(-1.0,))\n",
    "creator.create(\"Individual\", list, fitness=creator.FitnessMin)\n",
    "\n",
    "toolbox = base.Toolbox()\n",
    "toolbox.register(\"population_guess\", initPopulation, list, creator.Individual, individuals)\n",
    "toolbox.register(\"evaluate\", evaluate)\n",
    "toolbox.register(\"generate\", pbil.generate, creator.Individual)\n",
    "toolbox.register(\"update\", pbil.update)\n",
    "\n",
    "# Statistics computation\n",
    "stats = tools.Statistics(lambda ind: ind.fitness.values)\n",
    "stats.register(\"avg\", np.mean)\n",
    "stats.register(\"std\", np.std)\n",
    "stats.register(\"min\", np.min)\n",
    "stats.register(\"max\", np.max)\n",
    "\n",
    "pop, logbook = algorithms.eaGenerateUpdate(toolbox, NGEN, stats=stats, verbose=True)\n",
    "\n",
    "plot_logbook(logbook)"
   ]
  },
  {
   "cell_type": "code",
   "execution_count": null,
   "id": "375ca2b9",
   "metadata": {},
   "outputs": [],
   "source": []
  },
  {
   "cell_type": "code",
   "execution_count": null,
   "id": "10f2cfe2",
   "metadata": {},
   "outputs": [],
   "source": []
  },
  {
   "cell_type": "code",
   "execution_count": null,
   "id": "eb583f28",
   "metadata": {},
   "outputs": [],
   "source": []
  },
  {
   "cell_type": "code",
   "execution_count": null,
   "id": "98e659e6",
   "metadata": {},
   "outputs": [],
   "source": []
  },
  {
   "cell_type": "code",
   "execution_count": null,
   "id": "801a02ab",
   "metadata": {},
   "outputs": [],
   "source": []
  },
  {
   "cell_type": "code",
   "execution_count": null,
   "id": "1d04878d",
   "metadata": {},
   "outputs": [],
   "source": []
  },
  {
   "cell_type": "code",
   "execution_count": null,
   "id": "8f3b404b",
   "metadata": {},
   "outputs": [],
   "source": []
  },
  {
   "cell_type": "code",
   "execution_count": null,
   "id": "4f5a85c6",
   "metadata": {},
   "outputs": [],
   "source": []
  },
  {
   "cell_type": "code",
   "execution_count": null,
   "id": "d332bf34",
   "metadata": {},
   "outputs": [],
   "source": []
  },
  {
   "cell_type": "code",
   "execution_count": null,
   "id": "9fe8b562",
   "metadata": {},
   "outputs": [],
   "source": []
  },
  {
   "cell_type": "code",
   "execution_count": null,
   "id": "e7b78b20",
   "metadata": {},
   "outputs": [],
   "source": []
  }
 ],
 "metadata": {
  "kernelspec": {
   "display_name": "Python 3 (ipykernel)",
   "language": "python",
   "name": "python3"
  },
  "language_info": {
   "codemirror_mode": {
    "name": "ipython",
    "version": 3
   },
   "file_extension": ".py",
   "mimetype": "text/x-python",
   "name": "python",
   "nbconvert_exporter": "python",
   "pygments_lexer": "ipython3",
   "version": "3.9.7"
  }
 },
 "nbformat": 4,
 "nbformat_minor": 5
}
