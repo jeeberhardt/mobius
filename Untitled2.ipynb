{
 "cells": [
  {
   "cell_type": "code",
   "execution_count": 1,
   "id": "85b5d6ee",
   "metadata": {},
   "outputs": [],
   "source": [
    "%matplotlib inline\n",
    "\n",
    "import numpy as np\n",
    "import pandas as pd\n",
    "import matplotlib.pyplot as plt\n",
    "\n",
    "from deap import algorithms\n",
    "from deap import base\n",
    "from deap import creator\n",
    "from deap import tools\n",
    "\n",
    "from mobius import VirtualTarget, ForceField"
   ]
  },
  {
   "cell_type": "code",
   "execution_count": 2,
   "id": "92c1d9c2",
   "metadata": {},
   "outputs": [],
   "source": [
    "class PBIL(object):\n",
    "    def __init__(self, peptide_length, population_size=96, n_best=1,\n",
    "                 learning_rate=0.3, mut_prob=0.1, mut_shift=0.05, seed=None):\n",
    "        self._AA1 = ['A', 'R', 'N', 'D', 'C', 'Q', 'E', 'G', 'H', 'I',\n",
    "                     'L', 'K', 'M', 'F', 'P', 'S', 'T', 'W', 'Y', 'V']\n",
    "        # Random generation\n",
    "        self._random_seed = seed\n",
    "        self._rng = np.random.default_rng(self._random_seed)\n",
    "\n",
    "        # Initialize probability vectors\n",
    "        n_amino_acids = len(self._AA1)\n",
    "        self._peptide_length = peptide_length\n",
    "        init_probability = 1. / n_amino_acids\n",
    "        self._prob_vector = np.zeros(shape=(peptide_length, n_amino_acids)) + init_probability\n",
    "\n",
    "        # PBIL parameters\n",
    "        self._n_best = n_best\n",
    "        self._learning_rate = learning_rate\n",
    "        self._mut_prob = mut_prob\n",
    "        self._mut_shift = mut_shift\n",
    "        self._population_size = population_size\n",
    "\n",
    "    def sample(self):\n",
    "        ind = [self._rng.choice(self._AA1, p=self._prob_vector[i]) for i in range(self._peptide_length)]\n",
    "        return (ind)\n",
    "\n",
    "    def generate(self, ind_init):\n",
    "        return [ind_init(self.sample()) for _ in range(self._population_size)]\n",
    "\n",
    "    def update(self, population, scores=None):\n",
    "        if scores is None:\n",
    "            scores = np.array([ind.fitness.values[0] for ind in population])\n",
    "\n",
    "        best_peptide_indices = np.argsort(np.ravel(scores))[:self._n_best]\n",
    "        best_peptides = np.array(population)[best_peptide_indices]\n",
    "        \n",
    "        for i in range(self._peptide_length):\n",
    "            if self._n_best > 1:\n",
    "                unique_amino_acids, counts = np.unique(best_peptides[:,i], return_counts=True)\n",
    "                frequencies = counts / np.sum(counts)\n",
    "            else:\n",
    "                unique_amino_acids = [best_peptides[0][i]]\n",
    "                frequencies = [1.]\n",
    "            \n",
    "            for unique_amino_acid, frequency in zip(unique_amino_acids, frequencies):\n",
    "                j = self._AA1.index(unique_amino_acid)\n",
    "                \n",
    "                # Update the probability vector\n",
    "                self._prob_vector[i, j] *= 1.0 - self._learning_rate\n",
    "                self._prob_vector[i, j] += frequency * self._learning_rate\n",
    "\n",
    "                # Mutate the probability vector\n",
    "                if self._rng.uniform() < self._mut_prob:\n",
    "                    self._prob_vector[i, j] *= 1.0 - self._mut_shift\n",
    "                    self._prob_vector[i, j] += self._rng.uniform() * self._mut_shift\n",
    "            \n",
    "            # Normalize vector\n",
    "            self._prob_vector[i] /= np.sum(self._prob_vector[i])\n",
    "\n",
    "                \n",
    "def initPopulation(pcls, ind_init, individuals):\n",
    "    return pcls(ind_init(i) for i in individuals)\n",
    "\n",
    "\n",
    "def evaluate(individual):\n",
    "    return vt.score_peptides([''.join(individual)])[0],\n",
    "\n",
    "\n",
    "def plot_logbook(logbook, minimum_score):\n",
    "    gen = logbook.select(\"gen\")\n",
    "    fit_mins = logbook.select(\"min\")\n",
    "    size_avgs = logbook.select(\"avg\")\n",
    "\n",
    "    fig, ax1 = plt.subplots(figsize=(15, 5))\n",
    "    line1 = ax1.plot(gen, fit_mins, \"b-\", label=\"Minimum Fitness\")\n",
    "    ax1.set_xlabel(\"Generation\")\n",
    "    ax1.set_ylabel(\"Fitness\", color=\"b\")\n",
    "    for tl in ax1.get_yticklabels():\n",
    "        tl.set_color(\"b\")\n",
    "    \n",
    "    ax1.plot(np.linspace(0, np.max(gen), np.max(gen)), [minimum_score] * np.max(gen), '--', color='green')\n",
    "\n",
    "    ax2 = ax1.twinx()\n",
    "    line2 = ax2.plot(gen, size_avgs, \"r-\", label=\"Average Fitness\")\n",
    "    ax2.set_ylabel(\"Size\", color=\"r\")\n",
    "    for tl in ax2.get_yticklabels():\n",
    "        tl.set_color(\"r\")\n",
    "\n",
    "    lns = line1 + line2\n",
    "    labs = [l.get_label() for l in lns]\n",
    "    ax1.legend(lns, labs, loc=\"upper right\")\n",
    "    \n",
    "    ax1.set_ylim([0, 12])\n",
    "    ax2.set_ylim([0, 20])\n",
    "\n",
    "    plt.show()"
   ]
  },
  {
   "cell_type": "code",
   "execution_count": 3,
   "id": "6514338f",
   "metadata": {},
   "outputs": [
    {
     "name": "stdout",
     "output_type": "stream",
     "text": [
      "FCVMMCAV\n",
      "[0.71072626]\n"
     ]
    }
   ],
   "source": [
    "NLEN = 8\n",
    "\n",
    "ff = ForceField()\n",
    "vt = VirtualTarget(ff)\n",
    "vt.generate_random_target_sequence(NLEN)\n",
    "print(vt.target_sequence())\n",
    "print(vt.score_peptides([vt.target_sequence()]))\n",
    "minimum_score = vt.score_peptides([vt.target_sequence()])[0]"
   ]
  },
  {
   "cell_type": "code",
   "execution_count": 4,
   "id": "e69c6d18",
   "metadata": {
    "scrolled": false
   },
   "outputs": [
    {
     "name": "stdout",
     "output_type": "stream",
     "text": [
      "gen\tnevals\tavg    \tstd    \tmin    \tmax    \n",
      "0  \t96    \t15.5486\t3.29953\t6.76798\t22.8167\n",
      "1  \t96    \t12.4213\t3.38908\t4.03479\t23.1362\n",
      "2  \t96    \t10.7751\t3.01373\t4.05413\t18.5719\n",
      "3  \t96    \t9.39031\t3.24021\t2.0529 \t19.5498\n",
      "4  \t96    \t7.13524\t3.3654 \t1.69817\t15.1259\n",
      "5  \t96    \t6.33893\t2.73392\t1.62319\t12.8009\n",
      "6  \t96    \t5.56081\t2.53234\t1.62319\t12.1591\n",
      "7  \t96    \t5.04641\t2.39496\t1.62319\t12.2005\n",
      "8  \t96    \t4.36293\t2.55493\t1.62319\t11.8883\n",
      "9  \t96    \t4.19296\t2.37784\t1.27463\t11.026 \n"
     ]
    },
    {
     "data": {
      "image/png": "[encoded data removed]",
      "text/plain": [
       "<Figure size 1080x360 with 2 Axes>"
      ]
     },
     "metadata": {
      "needs_background": "light"
     },
     "output_type": "display_data"
    }
   ],
   "source": [
    "NGEN = 10\n",
    "NIND = 96\n",
    "\n",
    "#Initialize the PBIL EDA\n",
    "pbil = PBIL(peptide_length=NLEN, population_size=NIND, n_best=1, learning_rate=0.5, mut_prob=0, mut_shift=0.0)\n",
    "\n",
    "creator.create(\"FitnessMin\", base.Fitness, weights=(-1.0,))\n",
    "creator.create(\"Individual\", list, fitness=creator.FitnessMin)\n",
    "\n",
    "toolbox = base.Toolbox()\n",
    "toolbox.register(\"population_guess\", initPopulation, list, creator.Individual, [])\n",
    "toolbox.register(\"evaluate\", evaluate)\n",
    "toolbox.register(\"generate\", pbil.generate, creator.Individual)\n",
    "toolbox.register(\"update\", pbil.update)\n",
    "\n",
    "# Statistics computation\n",
    "stats = tools.Statistics(lambda ind: ind.fitness.values)\n",
    "stats.register(\"avg\", np.mean)\n",
    "stats.register(\"std\", np.std)\n",
    "stats.register(\"min\", np.min)\n",
    "stats.register(\"max\", np.max)\n",
    "\n",
    "pop, logbook = algorithms.eaGenerateUpdate(toolbox, NGEN, stats=stats, verbose=True)\n",
    "\n",
    "plot_logbook(logbook, minimum_score)"
   ]
  },
  {
   "cell_type": "code",
   "execution_count": 6,
   "id": "b89b2637",
   "metadata": {
    "scrolled": false
   },
   "outputs": [
    {
     "name": "stdout",
     "output_type": "stream",
     "text": [
      "2.6711946\n",
      "gen\tnevals\tavg    \tstd    \tmin    \tmax    \n",
      "0  \t96    \t11.8676\t3.22748\t3.66729\t19.7579\n",
      "1  \t96    \t9.92261\t3.17753\t2.7751 \t18.6401\n"
     ]
    },
    {
     "name": "stderr",
     "output_type": "stream",
     "text": [
      "/home/eberhardt/Applications/miniconda3/envs/mm/lib/python3.9/site-packages/deap/creator.py:138: RuntimeWarning: A class named 'FitnessMin' has already been created and it will be overwritten. Consider deleting previous creation of that class or rename it.\n",
      "  warnings.warn(\"A class named '{0}' has already been created and it \"\n",
      "/home/eberhardt/Applications/miniconda3/envs/mm/lib/python3.9/site-packages/deap/creator.py:138: RuntimeWarning: A class named 'Individual' has already been created and it will be overwritten. Consider deleting previous creation of that class or rename it.\n",
      "  warnings.warn(\"A class named '{0}' has already been created and it \"\n"
     ]
    },
    {
     "name": "stdout",
     "output_type": "stream",
     "text": [
      "2  \t96    \t7.99024\t2.98012\t1.11232\t15.0882\n",
      "3  \t96    \t5.97747\t3.06812\t1.09923\t15.5582\n",
      "4  \t96    \t5.93762\t3.01787\t0.790724\t13.3375\n",
      "5  \t96    \t4.74554\t3.02834\t0.790724\t15.1834\n",
      "6  \t96    \t3.87808\t2.74253\t0.790724\t13.5539\n",
      "7  \t96    \t3.16387\t2.39558\t0.710726\t10.5791\n",
      "8  \t96    \t2.80994\t1.93742\t0.710726\t8.09358\n",
      "9  \t96    \t2.98389\t1.87478\t0.710726\t8.69183\n"
     ]
    },
    {
     "data": {
      "image/png": "[encoded data removed]",
      "text/plain": [
       "<Figure size 1080x360 with 2 Axes>"
      ]
     },
     "metadata": {
      "needs_background": "light"
     },
     "output_type": "display_data"
    }
   ],
   "source": [
    "NGEN = 10\n",
    "NIND = 96\n",
    "\n",
    "#Initialize the PBIL EDA\n",
    "pbil = PBIL(peptide_length=NLEN, population_size=NIND, n_best=1, learning_rate=0.5, mut_prob=0, mut_shift=0.0)\n",
    "\n",
    "# Incorporate known data\n",
    "individuals = vt.generate_random_peptides_from_target_sequence(10, NLEN)\n",
    "scores = vt.score_peptides(individuals)\n",
    "print(np.min(scores))\n",
    "pbil.update(individuals, scores)\n",
    "\n",
    "creator.create(\"FitnessMin\", base.Fitness, weights=(-1.0,))\n",
    "creator.create(\"Individual\", list, fitness=creator.FitnessMin)\n",
    "\n",
    "toolbox = base.Toolbox()\n",
    "toolbox.register(\"population_guess\", initPopulation, list, creator.Individual, [])\n",
    "toolbox.register(\"evaluate\", evaluate)\n",
    "toolbox.register(\"generate\", pbil.generate, creator.Individual)\n",
    "toolbox.register(\"update\", pbil.update)\n",
    "\n",
    "# Statistics computation\n",
    "stats = tools.Statistics(lambda ind: ind.fitness.values)\n",
    "stats.register(\"avg\", np.mean)\n",
    "stats.register(\"std\", np.std)\n",
    "stats.register(\"min\", np.min)\n",
    "stats.register(\"max\", np.max)\n",
    "\n",
    "pop, logbook = algorithms.eaGenerateUpdate(toolbox, NGEN, stats=stats, verbose=True)\n",
    "\n",
    "plot_logbook(logbook, minimum_score)"
   ]
  },
  {
   "cell_type": "code",
   "execution_count": null,
   "id": "e0fbf122",
   "metadata": {},
   "outputs": [],
   "source": []
  },
  {
   "cell_type": "code",
   "execution_count": null,
   "id": "7277a70b",
   "metadata": {},
   "outputs": [],
   "source": []
  },
  {
   "cell_type": "code",
   "execution_count": null,
   "id": "0ce690fd",
   "metadata": {},
   "outputs": [],
   "source": []
  },
  {
   "cell_type": "code",
   "execution_count": null,
   "id": "e92412c6",
   "metadata": {},
   "outputs": [],
   "source": []
  },
  {
   "cell_type": "code",
   "execution_count": null,
   "id": "5215a7c5",
   "metadata": {},
   "outputs": [],
   "source": []
  },
  {
   "cell_type": "code",
   "execution_count": null,
   "id": "55980c2e",
   "metadata": {},
   "outputs": [],
   "source": []
  },
  {
   "cell_type": "code",
   "execution_count": null,
   "id": "8c6d8cf3",
   "metadata": {},
   "outputs": [],
   "source": []
  },
  {
   "cell_type": "code",
   "execution_count": null,
   "id": "287be8fd",
   "metadata": {},
   "outputs": [],
   "source": []
  },
  {
   "cell_type": "code",
   "execution_count": null,
   "id": "18d3eecd",
   "metadata": {},
   "outputs": [],
   "source": []
  },
  {
   "cell_type": "code",
   "execution_count": null,
   "id": "7ad20287",
   "metadata": {},
   "outputs": [],
   "source": []
  },
  {
   "cell_type": "code",
   "execution_count": null,
   "id": "c87bb17b",
   "metadata": {},
   "outputs": [],
   "source": []
  }
 ],
 "metadata": {
  "kernelspec": {
   "display_name": "Python 3 (ipykernel)",
   "language": "python",
   "name": "python3"
  },
  "language_info": {
   "codemirror_mode": {
    "name": "ipython",
    "version": 3
   },
   "file_extension": ".py",
   "mimetype": "text/x-python",
   "name": "python",
   "nbconvert_exporter": "python",
   "pygments_lexer": "ipython3",
   "version": "3.9.7"
  }
 },
 "nbformat": 4,
 "nbformat_minor": 5
}
