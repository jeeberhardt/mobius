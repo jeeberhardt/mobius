{
 "cells": [
  {
   "cell_type": "code",
   "execution_count": 1,
   "metadata": {},
   "outputs": [
    {
     "name": "stderr",
     "output_type": "stream",
     "text": [
      "/tmp/ipykernel_2513806/47907170.py:1: DeprecationWarning: Importing display from IPython.core.display is deprecated since IPython 7.14, please import from IPython display\n",
      "  from IPython.core.display import display, HTML\n"
     ]
    },
    {
     "data": {
      "text/html": [
       "<style>.container { width:80% !important; }</style>"
      ],
      "text/plain": [
       "<IPython.core.display.HTML object>"
      ]
     },
     "metadata": {},
     "output_type": "display_data"
    }
   ],
   "source": [
    "from IPython.core.display import display, HTML\n",
    "display(HTML(\"<style>.container { width:80% !important; }</style>\"))\n",
    "\n",
    "%matplotlib inline\n",
    "%load_ext autoreload\n",
    "%autoreload 2"
   ]
  },
  {
   "cell_type": "code",
   "execution_count": 2,
   "metadata": {},
   "outputs": [
    {
     "name": "stdout",
     "output_type": "stream",
     "text": [
      "30\n",
      "(300, 30)\n",
      "==========================================================================\n",
      "n_gen  |  n_eval  | n_nds  |      igd      |       gd      |       hv     \n",
      "==========================================================================\n",
      "     1 |        0 |      7 |  3.4175990431 |  3.5761064580 |  0.000000E+00\n",
      "     2 |      100 |      3 |  3.2256122812 |  3.0828821476 |  0.000000E+00\n",
      "     3 |      200 |      5 |  2.4724629559 |  2.4415614099 |  0.000000E+00\n",
      "     4 |      300 |      5 |  1.7951298106 |  2.1040627963 |  0.000000E+00\n",
      "     5 |      400 |      7 |  1.7472402978 |  1.8185811053 |  0.000000E+00\n",
      "     6 |      500 |      7 |  1.4479297132 |  1.7130907699 |  0.000000E+00\n",
      "     7 |      600 |     10 |  1.3740602458 |  1.5043116909 |  0.000000E+00\n",
      "     8 |      700 |     10 |  1.2855921988 |  1.4479464139 |  0.000000E+00\n",
      "     9 |      800 |      8 |  1.0976623462 |  1.2054085679 |  0.000000E+00\n",
      "    10 |      900 |     11 |  0.9960383462 |  1.1365268698 |  0.000000E+00\n"
     ]
    },
    {
     "data": {
      "text/plain": [
       "<pymoo.core.result.Result at 0x7fb0d42329d0>"
      ]
     },
     "execution_count": 2,
     "metadata": {},
     "output_type": "execute_result"
    }
   ],
   "source": [
    "import numpy as np\n",
    "\n",
    "from pymoo.algorithms.moo.nsga2 import NSGA2\n",
    "from pymoo.problems import get_problem\n",
    "from pymoo.core.evaluator import Evaluator\n",
    "from pymoo.core.population import Population\n",
    "from pymoo.optimize import minimize\n",
    "\n",
    "problem = get_problem(\"zdt2\")\n",
    "print(problem.n_var)\n",
    "\n",
    "# create initial data and set to the population object\n",
    "X = np.random.random((300, problem.n_var))\n",
    "print(X.shape)\n",
    "pop = Population.new(\"X\", X)\n",
    "Evaluator().eval(problem, pop)\n",
    "\n",
    "algorithm = NSGA2(pop_size=100, sampling=pop)\n",
    "\n",
    "minimize(problem,\n",
    "         algorithm,\n",
    "         ('n_gen', 10),\n",
    "         seed=1,\n",
    "         verbose=True)\n",
    "\n"
   ]
  },
  {
   "cell_type": "code",
   "execution_count": 5,
   "metadata": {},
   "outputs": [],
   "source": [
    "import numpy as np\n",
    "import pandas as pd\n",
    "import matplotlib.pyplot as plt\n",
    "\n",
    "from mobius import Map4Fingerprint\n",
    "from mobius import GPModel, ExpectedImprovement, TanimotoSimilarityKernel\n",
    "from mobius import LinearPeptideEmulator\n",
    "from mobius import homolog_scanning\n",
    "from mobius import convert_FASTA_to_HELM\n",
    "from mobius import Planner, SequenceGA\n"
   ]
  },
  {
   "cell_type": "code",
   "execution_count": 6,
   "metadata": {},
   "outputs": [],
   "source": [
    "pssm_file_one = ['/home/eberhardt/Documents/MHC/IEDB_MHC_I-2.9_matx_smm_smmpmbec/smmpmbec_matrix/HLA-A-29:02-9.txt']\n",
    "pssm_file_two = ['/home/eberhardt/Documents/MHC/IEDB_MHC_I-2.9_matx_smm_smmpmbec/smmpmbec_matrix/HLA-A-26:02-9.txt']\n",
    "pssm_file_three = ['/home/eberhardt/Documents/MHC/IEDB_MHC_I-2.9_matx_smm_smmpmbec/smmpmbec_matrix/HLA-A-02:01-9.txt']\n",
    "\n",
    "lpe_one = LinearPeptideEmulator(pssm_file_one)\n",
    "lpe_two = LinearPeptideEmulator(pssm_file_two)\n",
    "lpe_three = LinearPeptideEmulator(pssm_file_three)"
   ]
  },
  {
   "cell_type": "code",
   "execution_count": 7,
   "metadata": {},
   "outputs": [],
   "source": [
    "lead_peptide = convert_FASTA_to_HELM('HMTEVVRRC')[0]"
   ]
  },
  {
   "cell_type": "code",
   "execution_count": 8,
   "metadata": {},
   "outputs": [
    {
     "name": "stdout",
     "output_type": "stream",
     "text": [
      "Reach max. number of peptides allowed.\n"
     ]
    }
   ],
   "source": [
    "seed_library = [lead_peptide]\n",
    "\n",
    "for seq in homolog_scanning(lead_peptide):\n",
    "    seed_library.append(seq)\n",
    "\n",
    "    if len(seed_library) >= 96:\n",
    "        print('Reach max. number of peptides allowed.')\n",
    "        break\n"
   ]
  },
  {
   "cell_type": "code",
   "execution_count": 15,
   "metadata": {},
   "outputs": [],
   "source": [
    "pic50_one_seed_library = lpe_one.score(seed_library)\n",
    "pic50_two_seed_library = lpe_two.score(seed_library)\n",
    "pic50_three_seed_library = lpe_three.score(seed_library)\n",
    "\n",
    "pic50_seed_library = np.column_stack((pic50_one_seed_library,pic50_two_seed_library,pic50_three_seed_library))\n",
    "pic50_seed_library = np.column_stack((pic50_one_seed_library,pic50_two_seed_library))\n",
    "#pic50_seed_library = pic50_one_seed_library[:, None]\n"
   ]
  },
  {
   "cell_type": "code",
   "execution_count": 16,
   "metadata": {},
   "outputs": [
    {
     "name": "stdout",
     "output_type": "stream",
     "text": [
      "PEPTIDE1{H.M.T.E.V.V.R.R.C}$$$$V2.0 [4.33697 3.72694]\n",
      "PEPTIDE1{Q.M.T.E.V.V.R.R.C}$$$$V2.0 [4.20497 3.87294]\n",
      "PEPTIDE1{H.H.T.E.V.V.R.R.C}$$$$V2.0 [5.23797 4.43294]\n",
      "PEPTIDE1{H.M.C.E.V.V.R.R.C}$$$$V2.0 [4.24197 3.95794]\n",
      "PEPTIDE1{H.M.T.D.V.V.R.R.C}$$$$V2.0 [4.18997 3.82394]\n",
      "PEPTIDE1{H.M.T.E.L.V.R.R.C}$$$$V2.0 [4.22797 3.65294]\n",
      "PEPTIDE1{H.M.T.E.V.L.R.R.C}$$$$V2.0 [4.29497 3.20594]\n",
      "PEPTIDE1{H.M.T.E.V.V.K.R.C}$$$$V2.0 [4.34797 4.08494]\n",
      "PEPTIDE1{H.M.T.E.V.V.R.K.C}$$$$V2.0 [4.35697 3.66094]\n",
      "PEPTIDE1{H.M.T.E.V.V.R.R.T}$$$$V2.0 [4.60997 4.43494]\n",
      "PEPTIDE1{M.M.T.E.V.V.R.R.C}$$$$V2.0 [3.73697 3.67194]\n",
      "PEPTIDE1{H.Y.T.E.V.V.R.R.C}$$$$V2.0 [4.77097 4.24194]\n",
      "PEPTIDE1{H.M.S.E.V.V.R.R.C}$$$$V2.0 [4.30897 3.91994]\n",
      "PEPTIDE1{H.M.T.N.V.V.R.R.C}$$$$V2.0 [4.29497 3.96394]\n",
      "PEPTIDE1{H.M.T.E.I.V.R.R.C}$$$$V2.0 [4.16597 3.48894]\n",
      "PEPTIDE1{H.M.T.E.V.I.R.R.C}$$$$V2.0 [4.44797 3.36494]\n",
      "PEPTIDE1{H.M.T.E.V.V.Q.R.C}$$$$V2.0 [4.15697 3.83094]\n",
      "PEPTIDE1{H.M.T.E.V.V.R.Q.C}$$$$V2.0 [4.26097 3.68094]\n",
      "PEPTIDE1{H.M.T.E.V.V.R.R.S}$$$$V2.0 [4.59697 4.33394]\n",
      "PEPTIDE1{C.M.T.E.V.V.R.R.C}$$$$V2.0 [4.21997 3.63894]\n",
      "PEPTIDE1{H.C.T.E.V.V.R.R.C}$$$$V2.0 [5.65697 3.92494]\n",
      "PEPTIDE1{H.M.N.E.V.V.R.R.C}$$$$V2.0 [4.32497 4.20194]\n",
      "PEPTIDE1{H.M.T.Q.V.V.R.R.C}$$$$V2.0 [4.25297 3.76694]\n",
      "PEPTIDE1{H.M.T.E.A.V.R.R.C}$$$$V2.0 [4.47197 3.53494]\n",
      "PEPTIDE1{H.M.T.E.V.A.R.R.C}$$$$V2.0 [4.19897 4.07094]\n",
      "PEPTIDE1{H.M.T.E.V.V.N.R.C}$$$$V2.0 [4.19897 3.90894]\n",
      "PEPTIDE1{H.M.T.E.V.V.R.N.C}$$$$V2.0 [4.37497 3.57294]\n",
      "PEPTIDE1{H.M.T.E.V.V.R.R.N}$$$$V2.0 [4.35497 3.78094]\n",
      "PEPTIDE1{Y.M.T.E.V.V.R.R.C}$$$$V2.0 [3.66097 3.73194]\n",
      "PEPTIDE1{H.Q.T.E.V.V.R.R.C}$$$$V2.0 [5.44397 3.96294]\n",
      "PEPTIDE1{H.M.Q.E.V.V.R.R.C}$$$$V2.0 [4.45997 4.31194]\n",
      "PEPTIDE1{H.M.T.T.V.V.R.R.C}$$$$V2.0 [4.29497 3.76194]\n",
      "PEPTIDE1{H.M.T.E.G.V.R.R.C}$$$$V2.0 [4.23797 3.38294]\n",
      "PEPTIDE1{H.M.T.E.V.G.R.R.C}$$$$V2.0 [4.20797 3.91494]\n",
      "PEPTIDE1{H.M.T.E.V.V.H.R.C}$$$$V2.0 [3.86197 3.93394]\n",
      "PEPTIDE1{H.M.T.E.V.V.R.H.C}$$$$V2.0 [4.42397 3.69294]\n",
      "PEPTIDE1{H.M.T.E.V.V.R.R.Q}$$$$V2.0 [4.62797 4.44094]\n",
      "PEPTIDE1{N.M.T.E.V.V.R.R.C}$$$$V2.0 [4.25097 3.70794]\n",
      "PEPTIDE1{H.T.T.E.V.V.R.R.C}$$$$V2.0 [4.91197 2.74294]\n",
      "PEPTIDE1{H.M.H.E.V.V.R.R.C}$$$$V2.0 [4.30397 4.03994]\n",
      "PEPTIDE1{H.M.T.H.V.V.R.R.C}$$$$V2.0 [4.30397 3.91794]\n",
      "PEPTIDE1{H.M.T.E.F.V.R.R.C}$$$$V2.0 [4.17097 3.56594]\n",
      "PEPTIDE1{H.M.T.E.V.F.R.R.C}$$$$V2.0 [4.15997 3.60094]\n",
      "PEPTIDE1{H.M.T.E.V.V.T.R.C}$$$$V2.0 [4.07997 3.82494]\n",
      "PEPTIDE1{H.M.T.E.V.V.R.T.C}$$$$V2.0 [4.41397 3.62294]\n",
      "PEPTIDE1{H.M.T.E.V.V.R.R.H}$$$$V2.0 [3.87897 3.76894]\n",
      "PEPTIDE1{T.M.T.E.V.V.R.R.C}$$$$V2.0 [4.18497 3.79094]\n",
      "PEPTIDE1{H.N.T.E.V.V.R.R.C}$$$$V2.0 [5.19597 3.91794]\n",
      "PEPTIDE1{H.M.M.E.V.V.R.R.C}$$$$V2.0 [4.11197 4.11594]\n",
      "PEPTIDE1{H.M.T.S.V.V.R.R.C}$$$$V2.0 [4.22597 3.77694]\n",
      "PEPTIDE1{H.M.T.E.C.V.R.R.C}$$$$V2.0 [4.23697 3.25194]\n",
      "PEPTIDE1{H.M.T.E.V.C.R.R.C}$$$$V2.0 [4.13397 4.01894]\n",
      "PEPTIDE1{H.M.T.E.V.V.S.R.C}$$$$V2.0 [4.19697 3.65894]\n",
      "PEPTIDE1{H.M.T.E.V.V.R.S.C}$$$$V2.0 [4.47597 3.40194]\n",
      "PEPTIDE1{H.M.T.E.V.V.R.R.M}$$$$V2.0 [3.73797 2.85694]\n",
      "PEPTIDE1{S.M.T.E.V.V.R.R.C}$$$$V2.0 [4.14897 3.80594]\n",
      "PEPTIDE1{H.S.T.E.V.V.R.R.C}$$$$V2.0 [5.28497 3.22494]\n",
      "PEPTIDE1{H.M.Y.E.V.V.R.R.C}$$$$V2.0 [3.94897 4.10594]\n",
      "PEPTIDE1{H.M.T.C.V.V.R.R.C}$$$$V2.0 [4.26397 3.72294]\n",
      "PEPTIDE1{H.M.T.E.M.V.R.R.C}$$$$V2.0 [4.20597 3.48694]\n",
      "PEPTIDE1{H.M.T.E.V.M.R.R.C}$$$$V2.0 [4.28697 2.98694]\n",
      "PEPTIDE1{H.M.T.E.V.V.C.R.C}$$$$V2.0 [4.11097 3.80994]\n",
      "PEPTIDE1{H.M.T.E.V.V.R.C.C}$$$$V2.0 [4.50797 3.56594]\n",
      "PEPTIDE1{H.M.T.E.V.V.R.R.Y}$$$$V2.0 [2.26497 3.00894]\n",
      "PEPTIDE1{W.M.T.E.V.V.R.R.C}$$$$V2.0 [3.88197 3.47394]\n",
      "PEPTIDE1{H.W.T.E.V.V.R.R.C}$$$$V2.0 [4.74497 4.17794]\n",
      "PEPTIDE1{H.M.A.E.V.V.R.R.C}$$$$V2.0 [4.09497 3.50494]\n",
      "PEPTIDE1{H.M.T.M.V.V.R.R.C}$$$$V2.0 [4.39897 4.05794]\n",
      "PEPTIDE1{H.M.T.E.T.V.R.R.C}$$$$V2.0 [4.34897 3.51494]\n",
      "PEPTIDE1{H.M.T.E.V.T.R.R.C}$$$$V2.0 [4.14397 3.78794]\n",
      "PEPTIDE1{H.M.T.E.V.V.M.R.C}$$$$V2.0 [3.92497 3.99094]\n",
      "PEPTIDE1{H.M.T.E.V.V.R.M.C}$$$$V2.0 [4.19797 3.45494]\n",
      "PEPTIDE1{H.M.T.E.V.V.R.R.V}$$$$V2.0 [4.35897 4.10694]\n",
      "PEPTIDE1{K.M.T.E.V.V.R.R.C}$$$$V2.0 [4.43697 4.56394]\n",
      "PEPTIDE1{H.I.T.E.V.V.R.R.C}$$$$V2.0 [4.96597 3.05194]\n",
      "PEPTIDE1{H.M.V.E.V.V.R.R.C}$$$$V2.0 [4.26597 3.50594]\n",
      "PEPTIDE1{H.M.T.V.V.V.R.R.C}$$$$V2.0 [4.34197 4.15594]\n",
      "PEPTIDE1{H.M.T.E.H.V.R.R.C}$$$$V2.0 [4.30497 2.95894]\n",
      "PEPTIDE1{H.M.T.E.V.H.R.R.C}$$$$V2.0 [4.14497 3.80194]\n",
      "PEPTIDE1{H.M.T.E.V.V.Y.R.C}$$$$V2.0 [3.48797 3.92594]\n",
      "PEPTIDE1{H.M.T.E.V.V.R.Y.C}$$$$V2.0 [4.01997 3.58594]\n",
      "PEPTIDE1{H.M.T.E.V.V.R.R.L}$$$$V2.0 [4.32597 3.67894]\n",
      "PEPTIDE1{F.M.T.E.V.V.R.R.C}$$$$V2.0 [3.82097 3.59394]\n",
      "PEPTIDE1{H.L.T.E.V.V.R.R.C}$$$$V2.0 [4.84697 3.52694]\n",
      "PEPTIDE1{H.M.K.E.V.V.R.R.C}$$$$V2.0 [4.69797 4.12294]\n",
      "PEPTIDE1{H.M.T.A.V.V.R.R.C}$$$$V2.0 [4.21897 3.68994]\n",
      "PEPTIDE1{H.M.T.E.S.V.R.R.C}$$$$V2.0 [4.46697 3.40194]\n",
      "PEPTIDE1{H.M.T.E.V.S.R.R.C}$$$$V2.0 [4.23397 3.94694]\n",
      "PEPTIDE1{H.M.T.E.V.V.W.R.C}$$$$V2.0 [3.94297 3.91794]\n",
      "PEPTIDE1{H.M.T.E.V.V.R.W.C}$$$$V2.0 [4.58297 3.55294]\n",
      "PEPTIDE1{H.M.T.E.V.V.R.R.A}$$$$V2.0 [4.53097 4.40394]\n",
      "PEPTIDE1{I.M.T.E.V.V.R.R.C}$$$$V2.0 [4.04897 3.98094]\n",
      "PEPTIDE1{H.F.T.E.V.V.R.R.C}$$$$V2.0 [4.46497 4.08994]\n",
      "PEPTIDE1{H.M.G.E.V.V.R.R.C}$$$$V2.0 [4.38397 4.20894]\n",
      "PEPTIDE1{H.M.T.L.V.V.R.R.C}$$$$V2.0 [4.33497 4.26794]\n",
      "PEPTIDE1{H.M.T.E.Q.V.R.R.C}$$$$V2.0 [4.35097 3.22694]\n"
     ]
    }
   ],
   "source": [
    "for p, s in zip(seed_library, pic50_seed_library):\n",
    "    print(p, s)"
   ]
  },
  {
   "cell_type": "code",
   "execution_count": 17,
   "metadata": {},
   "outputs": [],
   "source": [
    "map4 = Map4Fingerprint(input_type='helm_rdkit', dimensions=4096, radius=1)\n",
    "\n",
    "gpmodel_one = GPModel(kernel=TanimotoSimilarityKernel(), input_transformer=map4)\n",
    "gpmodel_two = GPModel(kernel=TanimotoSimilarityKernel(), input_transformer=map4)\n",
    "gpmodel_three = GPModel(kernel=TanimotoSimilarityKernel(), input_transformer=map4)\n",
    "\n",
    "acq_one = ExpectedImprovement(gpmodel_one, maximize=False)\n",
    "acq_two = ExpectedImprovement(gpmodel_two, maximize=False)\n",
    "acq_three = ExpectedImprovement(gpmodel_three, maximize=False)\n"
   ]
  },
  {
   "cell_type": "code",
   "execution_count": 18,
   "metadata": {},
   "outputs": [],
   "source": [
    "optimizer = SequenceGA(algorithm='NSGA2', n_gen=30)\n",
    "planner = Planner([acq_one, acq_two], optimizer, design_protocol='design_protocol.yaml')"
   ]
  },
  {
   "cell_type": "code",
   "execution_count": 19,
   "metadata": {},
   "outputs": [
    {
     "name": "stderr",
     "output_type": "stream",
     "text": [
      "2023-09-26 15:57:32,677\tINFO worker.py:1642 -- Started a local Ray instance.\n",
      "\u001b[2m\u001b[36m(parallel_ga pid=2514257)\u001b[0m /home/eberhardt/Applications/mambaforge/envs/mm/lib/python3.9/site-packages/pandas/core/computation/expressions.py:21: UserWarning: Pandas requires version '2.8.0' or newer of 'numexpr' (version '2.7.3' currently installed).\n",
      "\u001b[2m\u001b[36m(parallel_ga pid=2514257)\u001b[0m   from pandas.core.computation.check import NUMEXPR_INSTALLED\n",
      "\u001b[2m\u001b[36m(parallel_ga pid=2514257)\u001b[0m /home/eberhardt/Applications/mambaforge/envs/mm/lib/python3.9/site-packages/pymoo/algorithms/moo/age.py:212: NumbaDeprecationWarning: \u001b[1mThe 'nopython' keyword argument was not supplied to the 'numba.jit' decorator. The implicit default value for this argument is currently False, but it will be changed to True in Numba 0.59.0. See https://numba.readthedocs.io/en/stable/reference/deprecation.html#deprecation-of-object-mode-fall-back-behaviour-when-using-jit for details.\u001b[0m\n",
      "\u001b[2m\u001b[36m(parallel_ga pid=2514257)\u001b[0m   @jit(fastmath=True)\n",
      "\u001b[2m\u001b[36m(parallel_ga pid=2514257)\u001b[0m /home/eberhardt/Applications/mambaforge/envs/mm/lib/python3.9/site-packages/pymoo/algorithms/moo/age.py:222: NumbaDeprecationWarning: \u001b[1mThe 'nopython' keyword argument was not supplied to the 'numba.jit' decorator. The implicit default value for this argument is currently False, but it will be changed to True in Numba 0.59.0. See https://numba.readthedocs.io/en/stable/reference/deprecation.html#deprecation-of-object-mode-fall-back-behaviour-when-using-jit for details.\u001b[0m\n",
      "\u001b[2m\u001b[36m(parallel_ga pid=2514257)\u001b[0m   @jit(fastmath=True)\n",
      "\u001b[2m\u001b[36m(parallel_ga pid=2514257)\u001b[0m /home/eberhardt/Applications/mambaforge/envs/mm/lib/python3.9/site-packages/pymoo/algorithms/moo/age.py:257: NumbaDeprecationWarning: \u001b[1mThe 'nopython' keyword argument was not supplied to the 'numba.jit' decorator. The implicit default value for this argument is currently False, but it will be changed to True in Numba 0.59.0. See https://numba.readthedocs.io/en/stable/reference/deprecation.html#deprecation-of-object-mode-fall-back-behaviour-when-using-jit for details.\u001b[0m\n",
      "\u001b[2m\u001b[36m(parallel_ga pid=2514257)\u001b[0m   @jit(fastmath=True)\n",
      "\u001b[2m\u001b[36m(parallel_ga pid=2514257)\u001b[0m /home/eberhardt/Applications/mambaforge/envs/mm/lib/python3.9/site-packages/pymoo/algorithms/moo/age2.py:67: NumbaDeprecationWarning: \u001b[1mThe 'nopython' keyword argument was not supplied to the 'numba.jit' decorator. The implicit default value for this argument is currently False, but it will be changed to True in Numba 0.59.0. See https://numba.readthedocs.io/en/stable/reference/deprecation.html#deprecation-of-object-mode-fall-back-behaviour-when-using-jit for details.\u001b[0m\n",
      "\u001b[2m\u001b[36m(parallel_ga pid=2514257)\u001b[0m   @jit(fastmath=True)\n",
      "\u001b[2m\u001b[36m(parallel_ga pid=2514257)\u001b[0m /home/eberhardt/Applications/mambaforge/envs/mm/lib/python3.9/site-packages/pymoo/algorithms/moo/age2.py:138: NumbaDeprecationWarning: \u001b[1mThe 'nopython' keyword argument was not supplied to the 'numba.jit' decorator. The implicit default value for this argument is currently False, but it will be changed to True in Numba 0.59.0. See https://numba.readthedocs.io/en/stable/reference/deprecation.html#deprecation-of-object-mode-fall-back-behaviour-when-using-jit for details.\u001b[0m\n",
      "\u001b[2m\u001b[36m(parallel_ga pid=2514257)\u001b[0m   @jit(fastmath=True)\n"
     ]
    },
    {
     "name": "stdout",
     "output_type": "stream",
     "text": [
      "\u001b[2m\u001b[36m(parallel_ga pid=2514257)\u001b[0m ==========================================================\n",
      "\u001b[2m\u001b[36m(parallel_ga pid=2514257)\u001b[0m n_gen  |  n_eval  | n_nds  |      eps      |   indicator  \n",
      "\u001b[2m\u001b[36m(parallel_ga pid=2514257)\u001b[0m ==========================================================\n",
      "\u001b[2m\u001b[36m(parallel_ga pid=2514257)\u001b[0m      1 |        0 |      4 |             - |             -\n",
      "\u001b[2m\u001b[36m(parallel_ga pid=2514256)\u001b[0m      2 |      250 |      5 |  1.164700E+02 |         ideal\n",
      "\u001b[2m\u001b[36m(parallel_ga pid=2514256)\u001b[0m ==========================================================\u001b[32m [repeated 2x across cluster] (Ray deduplicates logs by default. Set RAY_DEDUP_LOGS=0 to disable log deduplication, or see https://docs.ray.io/en/master/ray-observability/ray-logging.html#log-deduplication for more options.)\u001b[0m\n",
      "\u001b[2m\u001b[36m(parallel_ga pid=2514256)\u001b[0m n_gen  |  n_eval  | n_nds  |      eps      |   indicator  \n",
      "\u001b[2m\u001b[36m(parallel_ga pid=2514256)\u001b[0m      1 |        0 |      3 |             - |             -\n",
      "\u001b[2m\u001b[36m(parallel_ga pid=2514256)\u001b[0m      3 |      500 |      7 |  0.5257505147 |         ideal\u001b[32m [repeated 2x across cluster]\u001b[0m\n",
      "\u001b[2m\u001b[36m(parallel_ga pid=2514256)\u001b[0m      4 |      750 |      9 |  0.1683394436 |         ideal\u001b[32m [repeated 2x across cluster]\u001b[0m\n",
      "\u001b[2m\u001b[36m(parallel_ga pid=2514256)\u001b[0m      5 |     1000 |     12 |  0.3417024046 |         ideal\u001b[32m [repeated 2x across cluster]\u001b[0m\n",
      "\u001b[2m\u001b[36m(parallel_ga pid=2514257)\u001b[0m      5 |     1000 |      2 |  0.000000E+00 |             f\n",
      "\u001b[2m\u001b[36m(parallel_ga pid=2514256)\u001b[0m      6 |     1250 |     11 |  0.5362983833 |         ideal\n",
      "\u001b[2m\u001b[36m(parallel_ga pid=2514257)\u001b[0m      6 |     1250 |      4 |  0.5704386835 |         ideal\n",
      "\u001b[2m\u001b[36m(parallel_ga pid=2514257)\u001b[0m      7 |     1500 |      5 |  0.4169669426 |         ideal\u001b[32m [repeated 2x across cluster]\u001b[0m\n",
      "\u001b[2m\u001b[36m(parallel_ga pid=2514256)\u001b[0m      8 |     1750 |     11 |  0.0296070846 |             f\n",
      "\u001b[2m\u001b[36m(parallel_ga pid=2514256)\u001b[0m      9 |     2000 |     10 |  0.0187398426 |         ideal\n",
      "\u001b[2m\u001b[36m(parallel_ga pid=2514257)\u001b[0m      8 |     1750 |      5 |  0.2688635759 |         ideal\n",
      "\u001b[2m\u001b[36m(parallel_ga pid=2514256)\u001b[0m     10 |     2250 |     12 |  0.1784880970 |         ideal\n",
      "\u001b[2m\u001b[36m(parallel_ga pid=2514257)\u001b[0m      9 |     2000 |      4 |  0.2024607634 |         ideal\n",
      "\u001b[2m\u001b[36m(parallel_ga pid=2514256)\u001b[0m     11 |     2500 |     14 |  0.0321182950 |             f\n",
      "\u001b[2m\u001b[36m(parallel_ga pid=2514257)\u001b[0m     10 |     2250 |      4 |  0.2853641736 |         ideal\n",
      "\u001b[2m\u001b[36m(parallel_ga pid=2514257)\u001b[0m     11 |     2500 |      6 |  0.1827869993 |         ideal\u001b[32m [repeated 2x across cluster]\u001b[0m\n",
      "\u001b[2m\u001b[36m(parallel_ga pid=2514256)\u001b[0m     13 |     3000 |     15 |  0.0102201559 |             f\n",
      "\u001b[2m\u001b[36m(parallel_ga pid=2514257)\u001b[0m     12 |     2750 |      5 |  0.0630077972 |         ideal\n",
      "\u001b[2m\u001b[36m(parallel_ga pid=2514256)\u001b[0m     14 |     3250 |     16 |  0.0016526175 |             f\n",
      "\u001b[2m\u001b[36m(parallel_ga pid=2514257)\u001b[0m     13 |     3000 |      5 |  0.1961168851 |         ideal\n",
      "\u001b[2m\u001b[36m(parallel_ga pid=2514256)\u001b[0m     15 |     3500 |     19 |  0.0070671043 |             f\n",
      "\u001b[2m\u001b[36m(parallel_ga pid=2514257)\u001b[0m     14 |     3250 |      6 |  0.2932705589 |         ideal\n",
      "\u001b[2m\u001b[36m(parallel_ga pid=2514256)\u001b[0m     16 |     3750 |     25 |  0.0707049396 |         ideal\n",
      "\u001b[2m\u001b[36m(parallel_ga pid=2514256)\u001b[0m     17 |     4000 |     28 |  0.0042063563 |             f\n",
      "\u001b[2m\u001b[36m(parallel_ga pid=2514257)\u001b[0m     15 |     3500 |     10 |  0.3330292917 |         ideal\n",
      "\u001b[2m\u001b[36m(parallel_ga pid=2514257)\u001b[0m     16 |     3750 |     10 |  0.1540456392 |         ideal\n",
      "\u001b[2m\u001b[36m(parallel_ga pid=2514256)\u001b[0m     18 |     4250 |     29 |  0.0030197398 |             f\n",
      "\u001b[2m\u001b[36m(parallel_ga pid=2514257)\u001b[0m     17 |     4000 |     12 |  0.0128701512 |         ideal\n",
      "\u001b[2m\u001b[36m(parallel_ga pid=2514256)\u001b[0m     19 |     4500 |     28 |  0.0008001990 |             f\n",
      "\u001b[2m\u001b[36m(parallel_ga pid=2514257)\u001b[0m     18 |     4250 |      8 |  0.1396248634 |         ideal\n",
      "\u001b[2m\u001b[36m(parallel_ga pid=2514256)\u001b[0m     20 |     4750 |     30 |  0.0024650859 |             f\n",
      "\u001b[2m\u001b[36m(parallel_ga pid=2514257)\u001b[0m     19 |     4500 |      9 |  0.2384949483 |         ideal\n",
      "\u001b[2m\u001b[36m(parallel_ga pid=2514256)\u001b[0m     21 |     5000 |     31 |  0.0032970918 |             f\n",
      "\u001b[2m\u001b[36m(parallel_ga pid=2514257)\u001b[0m     20 |     4750 |      6 |  0.1307777591 |         ideal\n",
      "\u001b[2m\u001b[36m(parallel_ga pid=2514257)\u001b[0m     21 |     5000 |      8 |  0.2612034771 |         ideal\n",
      "\u001b[2m\u001b[36m(parallel_ga pid=2514256)\u001b[0m     22 |     5250 |     29 |  0.0017110837 |             f\n",
      "\u001b[2m\u001b[36m(parallel_ga pid=2514257)\u001b[0m     22 |     5250 |     14 |  0.1032980651 |         ideal\n",
      "\u001b[2m\u001b[36m(parallel_ga pid=2514256)\u001b[0m     23 |     5500 |     29 |  0.0017110837 |             f\n",
      "\u001b[2m\u001b[36m(parallel_ga pid=2514257)\u001b[0m     23 |     5500 |     17 |  0.1311603419 |         ideal\n",
      "\u001b[2m\u001b[36m(parallel_ga pid=2514256)\u001b[0m     24 |     5750 |     29 |  0.0017110837 |             f\n",
      "\u001b[2m\u001b[36m(parallel_ga pid=2514257)\u001b[0m     24 |     5750 |     21 |  0.1323055154 |         ideal\n",
      "\u001b[2m\u001b[36m(parallel_ga pid=2514256)\u001b[0m     25 |     6000 |     30 |  0.0027034714 |             f\n",
      "\u001b[2m\u001b[36m(parallel_ga pid=2514257)\u001b[0m     25 |     6000 |     23 |  0.0087355115 |         ideal\n",
      "\u001b[2m\u001b[36m(parallel_ga pid=2514256)\u001b[0m     26 |     6250 |     31 |  0.0037425274 |             f\n",
      "\u001b[2m\u001b[36m(parallel_ga pid=2514257)\u001b[0m     26 |     6250 |     21 |  0.0045202206 |             f\n",
      "\u001b[2m\u001b[36m(parallel_ga pid=2514256)\u001b[0m     27 |     6500 |     29 |  0.0010095611 |             f\n",
      "\u001b[2m\u001b[36m(parallel_ga pid=2514257)\u001b[0m     27 |     6500 |     21 |  0.000000E+00 |             f\n",
      "\u001b[2m\u001b[36m(parallel_ga pid=2514256)\u001b[0m     28 |     6750 |     29 |  0.0010095611 |             f\n",
      "\u001b[2m\u001b[36m(parallel_ga pid=2514257)\u001b[0m     28 |     6750 |     21 |  0.000000E+00 |             f\n",
      "\u001b[2m\u001b[36m(parallel_ga pid=2514256)\u001b[0m     29 |     7000 |     29 |  0.0010095611 |             f\n",
      "\u001b[2m\u001b[36m(parallel_ga pid=2514257)\u001b[0m     29 |     7000 |     21 |  0.000000E+00 |             f\n",
      "\u001b[2m\u001b[36m(parallel_ga pid=2514256)\u001b[0m     30 |     7250 |     29 |  0.0010095611 |             f\n",
      "\u001b[2m\u001b[36m(parallel_ga pid=2514257)\u001b[0m     30 |     7250 |     21 |  0.000000E+00 |             f\n"
     ]
    },
    {
     "name": "stderr",
     "output_type": "stream",
     "text": [
      "\u001b[2m\u001b[36m(parallel_ga pid=2514256)\u001b[0m /home/eberhardt/Applications/mambaforge/envs/mm/lib/python3.9/site-packages/pandas/core/computation/expressions.py:21: UserWarning: Pandas requires version '2.8.0' or newer of 'numexpr' (version '2.7.3' currently installed).\n",
      "\u001b[2m\u001b[36m(parallel_ga pid=2514256)\u001b[0m   from pandas.core.computation.check import NUMEXPR_INSTALLED\n",
      "\u001b[2m\u001b[36m(parallel_ga pid=2514256)\u001b[0m /home/eberhardt/Applications/mambaforge/envs/mm/lib/python3.9/site-packages/pymoo/algorithms/moo/age2.py:138: NumbaDeprecationWarning: \u001b[1mThe 'nopython' keyword argument was not supplied to the 'numba.jit' decorator. The implicit default value for this argument is currently False, but it will be changed to True in Numba 0.59.0. See https://numba.readthedocs.io/en/stable/reference/deprecation.html#deprecation-of-object-mode-fall-back-behaviour-when-using-jit for details.\u001b[0m\u001b[32m [repeated 5x across cluster]\u001b[0m\n",
      "\u001b[2m\u001b[36m(parallel_ga pid=2514256)\u001b[0m   @jit(fastmath=True)\u001b[32m [repeated 5x across cluster]\u001b[0m\n"
     ]
    }
   ],
   "source": [
    "peptides = list(seed_library)[:]\n",
    "pic50_scores = list(pic50_seed_library)[:]\n",
    "\n",
    "suggested_peptides, suggested_peptides_scores = planner.recommand(peptides, pic50_scores, batch_size=96)"
   ]
  },
  {
   "cell_type": "code",
   "execution_count": 31,
   "metadata": {},
   "outputs": [
    {
     "data": {
      "text/plain": [
       "array([[-0.03841872, -0.09405322],\n",
       "       [-0.02707959, -0.13534395],\n",
       "       [-0.02345975, -0.14184624],\n",
       "       [-0.02146934, -0.14818508],\n",
       "       [-0.03038883, -0.11190891],\n",
       "       [-0.04314722, -0.08869776],\n",
       "       [-0.03858787, -0.09260636],\n",
       "       [-0.02233259, -0.14792001],\n",
       "       [-0.04663145, -0.08220911],\n",
       "       [-0.0342728 , -0.1093817 ],\n",
       "       [-0.04424717, -0.08388873],\n",
       "       [-0.03737906, -0.09919593],\n",
       "       [-0.02029673, -0.15108574],\n",
       "       [-0.0352356 , -0.10618749],\n",
       "       [-0.03043675, -0.11049209],\n",
       "       [-0.0298951 , -0.11797703],\n",
       "       [-0.00735159, -0.15169271],\n",
       "       [-0.03768074, -0.09548895],\n",
       "       [-0.02878501, -0.12762391],\n",
       "       [-0.00819499, -0.1512645 ],\n",
       "       [-0.03984179, -0.09083508]])"
      ]
     },
     "execution_count": 31,
     "metadata": {},
     "output_type": "execute_result"
    }
   ],
   "source": [
    "planner._results[1].F"
   ]
  },
  {
   "cell_type": "code",
   "execution_count": 35,
   "metadata": {},
   "outputs": [
    {
     "data": {
      "image/png": "[encoded data removed]",
      "text/plain": [
       "<Figure size 800x600 with 1 Axes>"
      ]
     },
     "metadata": {},
     "output_type": "display_data"
    }
   ],
   "source": [
    "fig, ax = plt.subplots(figsize=(8, 6))\n",
    "ax.scatter(planner._results[0].F[:,0], planner._results[0].F[:,1], label='Seed Library')\n",
    "ax.scatter(planner._results[1].F[:,0], planner._results[1].F[:,1], label='Seed Library')\n",
    "plt.show()"
   ]
  },
  {
   "cell_type": "code",
   "execution_count": 126,
   "metadata": {},
   "outputs": [
    {
     "data": {
      "text/plain": [
       "array(['PEPTIDE1{C.M.T.E.V.V.R.R.C}$$$$V2.0'], dtype='<U35')"
      ]
     },
     "execution_count": 126,
     "metadata": {},
     "output_type": "execute_result"
    }
   ],
   "source": [
    "optimizer.res.history[0].pop[0].X"
   ]
  },
  {
   "cell_type": "code",
   "execution_count": 59,
   "metadata": {},
   "outputs": [],
   "source": [
    "pic50_one = lpe_one.score(suggested_peptides_df.Polymers.values)\n",
    "pic50_two = lpe_two.score(suggested_peptides_df.Polymers.values)\n",
    "pic50_three = lpe_three.score(suggested_peptides_df.Polymers.values)\n",
    "\n",
    "pic50_library = np.column_stack((pic50_one, pic50_two, pic50_three))"
   ]
  },
  {
   "cell_type": "code",
   "execution_count": 55,
   "metadata": {},
   "outputs": [
    {
     "name": "stdout",
     "output_type": "stream",
     "text": [
      "PEPTIDE1{H.M.M.E.V.V.A.R.I}$$$$V2.0 [1.55029 0.14423 1.25543]\n",
      "PEPTIDE1{H.M.M.E.V.V.L.R.I}$$$$V2.0 [1.80529 0.36223 1.23243]\n",
      "PEPTIDE1{H.M.M.E.V.V.F.R.V}$$$$V2.0 [ 0.32329 -0.65477  0.21243]\n",
      "PEPTIDE1{H.M.M.E.V.V.A.R.V}$$$$V2.0 [ 0.73229 -0.33177  0.73943]\n",
      "PEPTIDE1{H.M.M.E.V.V.F.L.V}$$$$V2.0 [ 0.13429 -0.41177 -0.05457]\n",
      "PEPTIDE1{H.M.M.E.V.V.L.R.V}$$$$V2.0 [ 0.98729 -0.11377  0.71643]\n",
      "PEPTIDE1{H.M.M.E.V.V.F.R.I}$$$$V2.0 [ 1.14129 -0.17877  0.72843]\n",
      "PEPTIDE1{H.M.M.E.V.V.L.L.V}$$$$V2.0 [0.79829 0.12923 0.44943]\n",
      "PEPTIDE1{M.M.L.E.V.V.F.R.V}$$$$V2.0 [-0.60171 -1.35677 -0.03657]\n",
      "PEPTIDE1{M.M.L.E.V.I.F.R.V}$$$$V2.0 [-0.68571 -1.33877 -0.10657]\n",
      "PEPTIDE1{M.M.L.E.V.L.F.R.V}$$$$V2.0 [-0.50771 -1.24877 -0.08257]\n",
      "PEPTIDE1{F.M.L.E.V.V.M.R.V}$$$$V2.0 [-0.67171 -1.31377  0.00743]\n",
      "PEPTIDE1{F.M.L.E.V.V.F.R.V}$$$$V2.0 [-1.20671 -1.63877 -0.40357]\n",
      "PEPTIDE1{A.M.L.E.V.V.F.R.V}$$$$V2.0 [-0.55971 -0.97677  0.31543]\n",
      "PEPTIDE1{F.M.L.E.V.V.I.R.V}$$$$V2.0 [-0.99871 -1.49277 -0.03357]\n",
      "PEPTIDE1{L.M.L.E.V.V.F.R.V}$$$$V2.0 [-0.38971 -1.04377  0.23043]\n",
      "PEPTIDE1{H.M.L.E.V.V.A.R.V}$$$$V2.0 [ 0.20629 -0.37877  1.10043]\n",
      "PEPTIDE1{H.M.V.E.V.V.F.L.V}$$$$V2.0 [ 0.20729 -0.13577  0.66243]\n",
      "PEPTIDE1{F.M.L.E.V.V.A.R.V}$$$$V2.0 [-0.79771 -1.31577  0.12343]\n",
      "PEPTIDE1{H.M.L.E.V.V.F.R.V}$$$$V2.0 [-0.20271 -0.70177  0.57343]\n",
      "PEPTIDE1{H.M.V.E.V.V.A.L.V}$$$$V2.0 [0.61629 0.18723 1.18943]\n",
      "PEPTIDE1{H.M.V.E.V.I.F.L.V}$$$$V2.0 [ 0.12329 -0.11777  0.59243]\n",
      "PEPTIDE1{H.M.V.E.V.V.L.L.V}$$$$V2.0 [0.87129 0.40523 1.16643]\n",
      "PEPTIDE1{H.M.V.E.V.V.L.R.V}$$$$V2.0 [1.06029 0.16223 1.43343]\n",
      "PEPTIDE1{H.M.T.E.V.V.A.L.V}$$$$V2.0 [0.89029 0.66023 1.38143]\n",
      "PEPTIDE1{H.M.T.E.V.V.G.L.V}$$$$V2.0 [1.35429 0.88823 1.88643]\n",
      "PEPTIDE1{H.M.T.E.V.V.F.L.V}$$$$V2.0 [0.48129 0.33723 0.85443]\n",
      "PEPTIDE1{H.M.T.E.V.V.L.L.V}$$$$V2.0 [1.14529 0.87823 1.35843]\n",
      "PEPTIDE1{H.M.T.E.V.V.A.L.I}$$$$V2.0 [1.70829 1.13623 1.89743]\n",
      "PEPTIDE1{H.M.T.E.V.I.A.L.V}$$$$V2.0 [0.80629 0.67823 1.31143]\n",
      "PEPTIDE1{H.M.V.E.V.V.A.L.I}$$$$V2.0 [1.43429 0.66323 1.70543]\n",
      "PEPTIDE1{H.M.V.E.V.V.G.L.V}$$$$V2.0 [1.08029 0.41523 1.69443]\n",
      "PEPTIDE1{H.M.V.E.V.I.A.L.V}$$$$V2.0 [0.53229 0.20523 1.11943]\n",
      "PEPTIDE1{H.M.V.E.V.V.L.A.V}$$$$V2.0 [1.09829 0.02723 1.28343]\n",
      "PEPTIDE1{F.M.T.E.V.V.A.L.V}$$$$V2.0 [-0.11371 -0.27677  0.40443]\n",
      "PEPTIDE1{H.M.G.E.V.V.F.L.V}$$$$V2.0 [ 0.08929 -0.22677  0.85343]\n",
      "PEPTIDE1{H.M.L.E.V.V.F.L.V}$$$$V2.0 [-0.39171 -0.45877  0.30643]\n",
      "PEPTIDE1{F.M.V.E.V.V.A.L.V}$$$$V2.0 [-0.38771 -0.74977  0.21243]\n",
      "PEPTIDE1{H.M.L.E.V.V.A.R.I}$$$$V2.0 [1.02429 0.09723 1.61643]\n",
      "PEPTIDE1{H.M.V.E.V.V.F.A.V}$$$$V2.0 [ 0.43429 -0.51377  0.77943]\n",
      "PEPTIDE1{H.M.M.E.V.V.F.I.V}$$$$V2.0 [0.45929 0.07623 0.23343]\n",
      "PEPTIDE1{F.M.L.E.V.I.F.R.V}$$$$V2.0 [-1.29071 -1.62077 -0.47357]\n",
      "PEPTIDE1{F.M.M.E.V.V.A.R.I}$$$$V2.0 [ 0.54629 -0.79277  0.27843]\n",
      "PEPTIDE1{F.M.L.E.V.V.L.R.V}$$$$V2.0 [-0.54271 -1.09777  0.10043]\n",
      "PEPTIDE1{H.M.L.E.V.V.M.R.V}$$$$V2.0 [ 0.33229 -0.37677  0.98443]\n",
      "PEPTIDE1{F.M.L.E.V.I.A.R.V}$$$$V2.0 [-0.88171 -1.29777  0.05343]\n",
      "PEPTIDE1{F.M.V.E.V.V.L.R.V}$$$$V2.0 [ 0.05629 -0.77477  0.45643]\n",
      "PEPTIDE1{F.M.L.E.V.V.M.R.I}$$$$V2.0 [ 0.14629 -0.83777  0.52343]\n",
      "PEPTIDE1{H.M.L.E.V.V.L.R.V}$$$$V2.0 [ 0.46129 -0.16077  1.07743]\n",
      "PEPTIDE1{F.M.V.E.V.V.A.R.I}$$$$V2.0 [ 0.61929 -0.51677  0.99543]\n",
      "PEPTIDE1{F.M.L.E.V.V.A.R.I}$$$$V2.0 [ 0.02029 -0.83977  0.63943]\n",
      "PEPTIDE1{F.M.V.E.V.I.A.R.V}$$$$V2.0 [-0.28271 -0.97477  0.40943]\n",
      "PEPTIDE1{F.M.V.E.V.I.A.R.I}$$$$V2.0 [ 0.53529 -0.49877  0.92543]\n",
      "PEPTIDE1{F.M.V.E.V.V.A.R.V}$$$$V2.0 [-0.19871 -0.99277  0.47943]\n",
      "PEPTIDE1{H.M.L.E.V.V.I.R.V}$$$$V2.0 [ 0.00529 -0.55577  0.94343]\n",
      "PEPTIDE1{H.M.V.E.V.V.F.I.V}$$$$V2.0 [0.53229 0.35223 0.95043]\n",
      "PEPTIDE1{F.M.L.E.V.V.G.R.V}$$$$V2.0 [-0.33371 -1.08777  0.62843]\n",
      "PEPTIDE1{H.M.L.E.V.V.F.V.V}$$$$V2.0 [-0.33571 -0.65877  0.54843]\n",
      "PEPTIDE1{Y.M.L.E.V.V.A.R.V}$$$$V2.0 [-0.76571 -1.19577  0.18643]\n",
      "PEPTIDE1{H.M.L.E.V.V.G.R.V}$$$$V2.0 [ 0.67029 -0.15077  1.60543]\n",
      "PEPTIDE1{F.M.L.E.V.I.A.R.I}$$$$V2.0 [-0.06371 -0.82177  0.56943]\n",
      "PEPTIDE1{H.M.L.E.V.V.F.I.V}$$$$V2.0 [-0.06671  0.02923  0.59443]\n",
      "PEPTIDE1{M.M.V.E.V.V.F.L.V}$$$$V2.0 [-0.19171 -0.79077  0.05243]\n",
      "PEPTIDE1{F.M.V.E.V.V.A.L.I}$$$$V2.0 [ 0.43029 -0.27377  0.72843]\n",
      "PEPTIDE1{H.M.V.E.V.V.A.R.I}$$$$V2.0 [1.62329 0.42023 1.97243]\n",
      "PEPTIDE1{H.M.V.E.V.V.F.L.I}$$$$V2.0 [1.02529 0.34023 1.17843]\n",
      "PEPTIDE1{H.M.F.E.V.V.F.L.V}$$$$V2.0 [-0.41471 -0.59477  0.20443]\n",
      "PEPTIDE1{F.M.V.E.V.I.A.L.V}$$$$V2.0 [-0.47171 -0.73177  0.14243]\n",
      "PEPTIDE1{H.M.T.E.V.I.F.L.V}$$$$V2.0 [0.39729 0.35523 0.78443]\n",
      "PEPTIDE1{F.M.V.E.V.V.G.L.V}$$$$V2.0 [ 0.07629 -0.52177  0.71743]\n",
      "PEPTIDE1{F.M.T.E.V.V.A.L.I}$$$$V2.0 [0.70429 0.19923 0.92043]\n",
      "PEPTIDE1{H.M.V.E.V.V.A.R.V}$$$$V2.0 [ 0.80529 -0.05577  1.45643]\n",
      "PEPTIDE1{H.M.M.E.V.V.A.L.V}$$$$V2.0 [ 0.54329 -0.08877  0.47243]\n",
      "PEPTIDE1{H.M.M.E.V.V.A.L.I}$$$$V2.0 [1.36129 0.38723 0.98843]\n",
      "PEPTIDE1{H.M.M.E.V.V.L.L.I}$$$$V2.0 [1.61629 0.60523 0.96543]\n",
      "PEPTIDE1{H.M.V.E.V.V.L.R.I}$$$$V2.0 [1.87829 0.63823 1.94943]\n",
      "PEPTIDE1{H.M.M.E.V.V.F.L.I}$$$$V2.0 [0.95229 0.06423 0.46143]\n",
      "PEPTIDE1{H.M.L.E.V.I.F.R.V}$$$$V2.0 [-0.28671 -0.68377  0.50343]\n",
      "PEPTIDE1{H.M.L.E.V.V.L.R.I}$$$$V2.0 [1.27929 0.31523 1.59343]\n",
      "PEPTIDE1{H.M.M.E.V.I.F.L.V}$$$$V2.0 [ 0.05029 -0.39377 -0.12457]\n",
      "PEPTIDE1{H.M.V.E.V.V.L.L.I}$$$$V2.0 [1.68929 0.88123 1.68243]\n",
      "PEPTIDE1{H.M.L.E.V.V.A.L.V}$$$$V2.0 [ 0.01729 -0.13577  0.83343]\n",
      "PEPTIDE1{H.M.V.E.V.I.L.L.V}$$$$V2.0 [0.78729 0.42323 1.09643]\n",
      "PEPTIDE1{H.M.T.E.V.V.F.A.V}$$$$V2.0 [ 0.70829 -0.04077  0.97143]\n",
      "PEPTIDE1{H.M.V.E.V.V.A.A.I}$$$$V2.0 [1.66129 0.28523 1.82243]\n",
      "PEPTIDE1{H.M.V.E.V.V.G.L.I}$$$$V2.0 [1.89829 0.89123 2.21043]\n",
      "PEPTIDE1{F.M.T.E.V.I.A.L.I}$$$$V2.0 [0.62029 0.21723 0.85043]\n",
      "PEPTIDE1{H.M.V.E.V.I.A.L.I}$$$$V2.0 [1.35029 0.68123 1.63543]\n",
      "PEPTIDE1{H.M.M.E.V.I.F.R.V}$$$$V2.0 [ 0.23929 -0.63677  0.14243]\n",
      "PEPTIDE1{H.M.M.E.V.I.L.R.V}$$$$V2.0 [ 0.90329 -0.09577  0.64643]\n",
      "PEPTIDE1{H.M.M.E.V.V.G.R.I}$$$$V2.0 [2.01429 0.37223 1.76043]\n",
      "PEPTIDE1{H.M.M.E.V.V.I.R.V}$$$$V2.0 [ 0.53129 -0.50877  0.58243]\n",
      "PEPTIDE1{F.M.M.E.V.V.A.R.V}$$$$V2.0 [-0.27171 -1.26877 -0.23757]\n",
      "PEPTIDE1{F.M.M.E.V.I.A.R.V}$$$$V2.0 [-0.35571 -1.25077 -0.30757]\n",
      "PEPTIDE1{H.M.M.E.V.V.G.R.V}$$$$V2.0 [ 1.19629 -0.10377  1.24443]\n",
      "PEPTIDE1{H.M.M.E.V.I.A.R.V}$$$$V2.0 [ 0.64829 -0.31377  0.66943]\n"
     ]
    }
   ],
   "source": [
    "for p, s in zip(suggested_peptides_df.Polymers.values, pic50_library):\n",
    "    print(p, s)"
   ]
  },
  {
   "cell_type": "code",
   "execution_count": null,
   "metadata": {},
   "outputs": [],
   "source": []
  }
 ],
 "metadata": {
  "kernelspec": {
   "display_name": "mm",
   "language": "python",
   "name": "python3"
  },
  "language_info": {
   "codemirror_mode": {
    "name": "ipython",
    "version": 3
   },
   "file_extension": ".py",
   "mimetype": "text/x-python",
   "name": "python",
   "nbconvert_exporter": "python",
   "pygments_lexer": "ipython3",
   "version": "3.9.17"
  },
  "orig_nbformat": 4
 },
 "nbformat": 4,
 "nbformat_minor": 2
}
