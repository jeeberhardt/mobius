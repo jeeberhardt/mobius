{
 "cells": [
  {
   "cell_type": "code",
   "execution_count": 1,
   "metadata": {},
   "outputs": [
    {
     "name": "stderr",
     "output_type": "stream",
     "text": [
      "/tmp/ipykernel_2774477/47907170.py:1: DeprecationWarning: Importing display from IPython.core.display is deprecated since IPython 7.14, please import from IPython display\n",
      "  from IPython.core.display import display, HTML\n"
     ]
    },
    {
     "data": {
      "text/html": [
       "<style>.container { width:80% !important; }</style>"
      ],
      "text/plain": [
       "<IPython.core.display.HTML object>"
      ]
     },
     "metadata": {},
     "output_type": "display_data"
    }
   ],
   "source": [
    "from IPython.core.display import display, HTML\n",
    "display(HTML(\"<style>.container { width:80% !important; }</style>\"))\n",
    "\n",
    "%matplotlib inline\n",
    "%load_ext autoreload\n",
    "%autoreload 2"
   ]
  },
  {
   "cell_type": "code",
   "execution_count": 2,
   "metadata": {},
   "outputs": [
    {
     "name": "stdout",
     "output_type": "stream",
     "text": [
      "30\n",
      "(300, 30)\n",
      "==========================================================================\n",
      "n_gen  |  n_eval  | n_nds  |      igd      |       gd      |       hv     \n",
      "==========================================================================\n",
      "     1 |        0 |     11 |  3.3867864619 |  3.9334931457 |  0.000000E+00\n",
      "     2 |      100 |      8 |  2.8246248091 |  3.7486398733 |  0.000000E+00\n",
      "     3 |      200 |      8 |  2.4389841209 |  3.4076375345 |  0.000000E+00\n",
      "     4 |      300 |      9 |  2.1501210584 |  2.5692077864 |  0.000000E+00\n",
      "     5 |      400 |      8 |  2.1185194833 |  2.2028889246 |  0.000000E+00\n",
      "     6 |      500 |      6 |  1.8076288394 |  2.0106438681 |  0.000000E+00\n",
      "     7 |      600 |      5 |  1.5405337080 |  1.7957867140 |  0.000000E+00\n",
      "     8 |      700 |      5 |  1.3349634841 |  1.5359923998 |  0.000000E+00\n",
      "     9 |      800 |      3 |  1.1939269463 |  1.3109438421 |  0.000000E+00\n",
      "    10 |      900 |      3 |  1.0599725790 |  0.6915613586 |  0.000000E+00\n"
     ]
    },
    {
     "data": {
      "text/plain": [
       "<pymoo.core.result.Result at 0x7f89db80bbe0>"
      ]
     },
     "execution_count": 2,
     "metadata": {},
     "output_type": "execute_result"
    }
   ],
   "source": [
    "import numpy as np\n",
    "\n",
    "from pymoo.algorithms.moo.nsga2 import NSGA2\n",
    "from pymoo.problems import get_problem\n",
    "from pymoo.core.evaluator import Evaluator\n",
    "from pymoo.core.population import Population\n",
    "from pymoo.optimize import minimize\n",
    "\n",
    "problem = get_problem(\"zdt2\")\n",
    "print(problem.n_var)\n",
    "\n",
    "# create initial data and set to the population object\n",
    "X = np.random.random((300, problem.n_var))\n",
    "print(X.shape)\n",
    "pop = Population.new(\"X\", X)\n",
    "Evaluator().eval(problem, pop)\n",
    "\n",
    "algorithm = NSGA2(pop_size=100, sampling=pop)\n",
    "\n",
    "minimize(problem,\n",
    "         algorithm,\n",
    "         ('n_gen', 10),\n",
    "         seed=1,\n",
    "         verbose=True)\n",
    "\n"
   ]
  },
  {
   "cell_type": "code",
   "execution_count": 4,
   "metadata": {},
   "outputs": [],
   "source": [
    "import numpy as np\n",
    "import pandas as pd\n",
    "import matplotlib.pyplot as plt\n",
    "\n",
    "from mobius import Map4Fingerprint\n",
    "from mobius import GPModel, ExpectedImprovement, TanimotoSimilarityKernel\n",
    "from mobius import LinearPeptideEmulator\n",
    "from mobius import homolog_scanning\n",
    "from mobius import convert_FASTA_to_HELM\n",
    "from mobius import Planner, SequenceGA\n"
   ]
  },
  {
   "cell_type": "code",
   "execution_count": 5,
   "metadata": {},
   "outputs": [],
   "source": [
    "pssm_file_one = ['/home/eberhardt/Documents/MHC/IEDB_MHC_I-2.9_matx_smm_smmpmbec/smmpmbec_matrix/HLA-A-29:02-9.txt']\n",
    "pssm_file_two = ['/home/eberhardt/Documents/MHC/IEDB_MHC_I-2.9_matx_smm_smmpmbec/smmpmbec_matrix/HLA-A-26:02-9.txt']\n",
    "pssm_file_three = ['/home/eberhardt/Documents/MHC/IEDB_MHC_I-2.9_matx_smm_smmpmbec/smmpmbec_matrix/HLA-A-02:01-9.txt']\n",
    "\n",
    "lpe_one = LinearPeptideEmulator(pssm_file_one)\n",
    "lpe_two = LinearPeptideEmulator(pssm_file_two)\n",
    "lpe_three = LinearPeptideEmulator(pssm_file_three)"
   ]
  },
  {
   "cell_type": "code",
   "execution_count": 6,
   "metadata": {},
   "outputs": [],
   "source": [
    "lead_peptide = convert_FASTA_to_HELM('HMTEVVRRC')[0]"
   ]
  },
  {
   "cell_type": "code",
   "execution_count": 44,
   "metadata": {},
   "outputs": [
    {
     "name": "stdout",
     "output_type": "stream",
     "text": [
      "Reach max. number of peptides allowed.\n"
     ]
    }
   ],
   "source": [
    "seed_library = [lead_peptide]\n",
    "\n",
    "for seq in homolog_scanning(lead_peptide):\n",
    "    seed_library.append(seq)\n",
    "\n",
    "    if len(seed_library) >= 96:\n",
    "        print('Reach max. number of peptides allowed.')\n",
    "        break\n"
   ]
  },
  {
   "cell_type": "code",
   "execution_count": 89,
   "metadata": {},
   "outputs": [],
   "source": [
    "pic50_one_seed_library = lpe_one.score(seed_library)\n",
    "pic50_two_seed_library = lpe_two.score(seed_library)\n",
    "pic50_three_seed_library = lpe_three.score(seed_library)\n",
    "\n",
    "pic50_seed_library = np.column_stack((pic50_one_seed_library,pic50_two_seed_library,pic50_three_seed_library))\n",
    "pic50_seed_library = np.column_stack((pic50_one_seed_library,pic50_two_seed_library))\n",
    "#pic50_seed_library = pic50_one_seed_library.reshape(-1, 1)\n"
   ]
  },
  {
   "cell_type": "code",
   "execution_count": 90,
   "metadata": {},
   "outputs": [
    {
     "name": "stdout",
     "output_type": "stream",
     "text": [
      "PEPTIDE1{H.M.T.E.V.V.R.R.C}$$$$V2.0 [4.33697 3.72694]\n",
      "PEPTIDE1{Q.M.T.E.V.V.R.R.C}$$$$V2.0 [4.20497 3.87294]\n",
      "PEPTIDE1{H.H.T.E.V.V.R.R.C}$$$$V2.0 [5.23797 4.43294]\n",
      "PEPTIDE1{H.M.C.E.V.V.R.R.C}$$$$V2.0 [4.24197 3.95794]\n",
      "PEPTIDE1{H.M.T.D.V.V.R.R.C}$$$$V2.0 [4.18997 3.82394]\n",
      "PEPTIDE1{H.M.T.E.L.V.R.R.C}$$$$V2.0 [4.22797 3.65294]\n",
      "PEPTIDE1{H.M.T.E.V.L.R.R.C}$$$$V2.0 [4.29497 3.20594]\n",
      "PEPTIDE1{H.M.T.E.V.V.K.R.C}$$$$V2.0 [4.34797 4.08494]\n",
      "PEPTIDE1{H.M.T.E.V.V.R.K.C}$$$$V2.0 [4.35697 3.66094]\n",
      "PEPTIDE1{H.M.T.E.V.V.R.R.T}$$$$V2.0 [4.60997 4.43494]\n",
      "PEPTIDE1{M.M.T.E.V.V.R.R.C}$$$$V2.0 [3.73697 3.67194]\n",
      "PEPTIDE1{H.Y.T.E.V.V.R.R.C}$$$$V2.0 [4.77097 4.24194]\n",
      "PEPTIDE1{H.M.S.E.V.V.R.R.C}$$$$V2.0 [4.30897 3.91994]\n",
      "PEPTIDE1{H.M.T.N.V.V.R.R.C}$$$$V2.0 [4.29497 3.96394]\n",
      "PEPTIDE1{H.M.T.E.I.V.R.R.C}$$$$V2.0 [4.16597 3.48894]\n",
      "PEPTIDE1{H.M.T.E.V.I.R.R.C}$$$$V2.0 [4.44797 3.36494]\n",
      "PEPTIDE1{H.M.T.E.V.V.Q.R.C}$$$$V2.0 [4.15697 3.83094]\n",
      "PEPTIDE1{H.M.T.E.V.V.R.Q.C}$$$$V2.0 [4.26097 3.68094]\n",
      "PEPTIDE1{H.M.T.E.V.V.R.R.S}$$$$V2.0 [4.59697 4.33394]\n",
      "PEPTIDE1{C.M.T.E.V.V.R.R.C}$$$$V2.0 [4.21997 3.63894]\n",
      "PEPTIDE1{H.C.T.E.V.V.R.R.C}$$$$V2.0 [5.65697 3.92494]\n",
      "PEPTIDE1{H.M.N.E.V.V.R.R.C}$$$$V2.0 [4.32497 4.20194]\n",
      "PEPTIDE1{H.M.T.Q.V.V.R.R.C}$$$$V2.0 [4.25297 3.76694]\n",
      "PEPTIDE1{H.M.T.E.A.V.R.R.C}$$$$V2.0 [4.47197 3.53494]\n",
      "PEPTIDE1{H.M.T.E.V.A.R.R.C}$$$$V2.0 [4.19897 4.07094]\n",
      "PEPTIDE1{H.M.T.E.V.V.N.R.C}$$$$V2.0 [4.19897 3.90894]\n",
      "PEPTIDE1{H.M.T.E.V.V.R.N.C}$$$$V2.0 [4.37497 3.57294]\n",
      "PEPTIDE1{H.M.T.E.V.V.R.R.N}$$$$V2.0 [4.35497 3.78094]\n",
      "PEPTIDE1{Y.M.T.E.V.V.R.R.C}$$$$V2.0 [3.66097 3.73194]\n",
      "PEPTIDE1{H.Q.T.E.V.V.R.R.C}$$$$V2.0 [5.44397 3.96294]\n",
      "PEPTIDE1{H.M.Q.E.V.V.R.R.C}$$$$V2.0 [4.45997 4.31194]\n",
      "PEPTIDE1{H.M.T.T.V.V.R.R.C}$$$$V2.0 [4.29497 3.76194]\n",
      "PEPTIDE1{H.M.T.E.G.V.R.R.C}$$$$V2.0 [4.23797 3.38294]\n",
      "PEPTIDE1{H.M.T.E.V.G.R.R.C}$$$$V2.0 [4.20797 3.91494]\n",
      "PEPTIDE1{H.M.T.E.V.V.H.R.C}$$$$V2.0 [3.86197 3.93394]\n",
      "PEPTIDE1{H.M.T.E.V.V.R.H.C}$$$$V2.0 [4.42397 3.69294]\n",
      "PEPTIDE1{H.M.T.E.V.V.R.R.Q}$$$$V2.0 [4.62797 4.44094]\n",
      "PEPTIDE1{N.M.T.E.V.V.R.R.C}$$$$V2.0 [4.25097 3.70794]\n",
      "PEPTIDE1{H.T.T.E.V.V.R.R.C}$$$$V2.0 [4.91197 2.74294]\n",
      "PEPTIDE1{H.M.H.E.V.V.R.R.C}$$$$V2.0 [4.30397 4.03994]\n",
      "PEPTIDE1{H.M.T.H.V.V.R.R.C}$$$$V2.0 [4.30397 3.91794]\n",
      "PEPTIDE1{H.M.T.E.F.V.R.R.C}$$$$V2.0 [4.17097 3.56594]\n",
      "PEPTIDE1{H.M.T.E.V.F.R.R.C}$$$$V2.0 [4.15997 3.60094]\n",
      "PEPTIDE1{H.M.T.E.V.V.T.R.C}$$$$V2.0 [4.07997 3.82494]\n",
      "PEPTIDE1{H.M.T.E.V.V.R.T.C}$$$$V2.0 [4.41397 3.62294]\n",
      "PEPTIDE1{H.M.T.E.V.V.R.R.H}$$$$V2.0 [3.87897 3.76894]\n",
      "PEPTIDE1{T.M.T.E.V.V.R.R.C}$$$$V2.0 [4.18497 3.79094]\n",
      "PEPTIDE1{H.N.T.E.V.V.R.R.C}$$$$V2.0 [5.19597 3.91794]\n",
      "PEPTIDE1{H.M.M.E.V.V.R.R.C}$$$$V2.0 [4.11197 4.11594]\n",
      "PEPTIDE1{H.M.T.S.V.V.R.R.C}$$$$V2.0 [4.22597 3.77694]\n",
      "PEPTIDE1{H.M.T.E.C.V.R.R.C}$$$$V2.0 [4.23697 3.25194]\n",
      "PEPTIDE1{H.M.T.E.V.C.R.R.C}$$$$V2.0 [4.13397 4.01894]\n",
      "PEPTIDE1{H.M.T.E.V.V.S.R.C}$$$$V2.0 [4.19697 3.65894]\n",
      "PEPTIDE1{H.M.T.E.V.V.R.S.C}$$$$V2.0 [4.47597 3.40194]\n",
      "PEPTIDE1{H.M.T.E.V.V.R.R.M}$$$$V2.0 [3.73797 2.85694]\n",
      "PEPTIDE1{S.M.T.E.V.V.R.R.C}$$$$V2.0 [4.14897 3.80594]\n",
      "PEPTIDE1{H.S.T.E.V.V.R.R.C}$$$$V2.0 [5.28497 3.22494]\n",
      "PEPTIDE1{H.M.Y.E.V.V.R.R.C}$$$$V2.0 [3.94897 4.10594]\n",
      "PEPTIDE1{H.M.T.C.V.V.R.R.C}$$$$V2.0 [4.26397 3.72294]\n",
      "PEPTIDE1{H.M.T.E.M.V.R.R.C}$$$$V2.0 [4.20597 3.48694]\n",
      "PEPTIDE1{H.M.T.E.V.M.R.R.C}$$$$V2.0 [4.28697 2.98694]\n",
      "PEPTIDE1{H.M.T.E.V.V.C.R.C}$$$$V2.0 [4.11097 3.80994]\n",
      "PEPTIDE1{H.M.T.E.V.V.R.C.C}$$$$V2.0 [4.50797 3.56594]\n",
      "PEPTIDE1{H.M.T.E.V.V.R.R.Y}$$$$V2.0 [2.26497 3.00894]\n",
      "PEPTIDE1{W.M.T.E.V.V.R.R.C}$$$$V2.0 [3.88197 3.47394]\n",
      "PEPTIDE1{H.W.T.E.V.V.R.R.C}$$$$V2.0 [4.74497 4.17794]\n",
      "PEPTIDE1{H.M.A.E.V.V.R.R.C}$$$$V2.0 [4.09497 3.50494]\n",
      "PEPTIDE1{H.M.T.M.V.V.R.R.C}$$$$V2.0 [4.39897 4.05794]\n",
      "PEPTIDE1{H.M.T.E.T.V.R.R.C}$$$$V2.0 [4.34897 3.51494]\n",
      "PEPTIDE1{H.M.T.E.V.T.R.R.C}$$$$V2.0 [4.14397 3.78794]\n",
      "PEPTIDE1{H.M.T.E.V.V.M.R.C}$$$$V2.0 [3.92497 3.99094]\n",
      "PEPTIDE1{H.M.T.E.V.V.R.M.C}$$$$V2.0 [4.19797 3.45494]\n",
      "PEPTIDE1{H.M.T.E.V.V.R.R.V}$$$$V2.0 [4.35897 4.10694]\n",
      "PEPTIDE1{K.M.T.E.V.V.R.R.C}$$$$V2.0 [4.43697 4.56394]\n",
      "PEPTIDE1{H.I.T.E.V.V.R.R.C}$$$$V2.0 [4.96597 3.05194]\n",
      "PEPTIDE1{H.M.V.E.V.V.R.R.C}$$$$V2.0 [4.26597 3.50594]\n",
      "PEPTIDE1{H.M.T.V.V.V.R.R.C}$$$$V2.0 [4.34197 4.15594]\n",
      "PEPTIDE1{H.M.T.E.H.V.R.R.C}$$$$V2.0 [4.30497 2.95894]\n",
      "PEPTIDE1{H.M.T.E.V.H.R.R.C}$$$$V2.0 [4.14497 3.80194]\n",
      "PEPTIDE1{H.M.T.E.V.V.Y.R.C}$$$$V2.0 [3.48797 3.92594]\n",
      "PEPTIDE1{H.M.T.E.V.V.R.Y.C}$$$$V2.0 [4.01997 3.58594]\n",
      "PEPTIDE1{H.M.T.E.V.V.R.R.L}$$$$V2.0 [4.32597 3.67894]\n",
      "PEPTIDE1{F.M.T.E.V.V.R.R.C}$$$$V2.0 [3.82097 3.59394]\n",
      "PEPTIDE1{H.L.T.E.V.V.R.R.C}$$$$V2.0 [4.84697 3.52694]\n",
      "PEPTIDE1{H.M.K.E.V.V.R.R.C}$$$$V2.0 [4.69797 4.12294]\n",
      "PEPTIDE1{H.M.T.A.V.V.R.R.C}$$$$V2.0 [4.21897 3.68994]\n",
      "PEPTIDE1{H.M.T.E.S.V.R.R.C}$$$$V2.0 [4.46697 3.40194]\n",
      "PEPTIDE1{H.M.T.E.V.S.R.R.C}$$$$V2.0 [4.23397 3.94694]\n",
      "PEPTIDE1{H.M.T.E.V.V.W.R.C}$$$$V2.0 [3.94297 3.91794]\n",
      "PEPTIDE1{H.M.T.E.V.V.R.W.C}$$$$V2.0 [4.58297 3.55294]\n",
      "PEPTIDE1{H.M.T.E.V.V.R.R.A}$$$$V2.0 [4.53097 4.40394]\n",
      "PEPTIDE1{I.M.T.E.V.V.R.R.C}$$$$V2.0 [4.04897 3.98094]\n",
      "PEPTIDE1{H.F.T.E.V.V.R.R.C}$$$$V2.0 [4.46497 4.08994]\n",
      "PEPTIDE1{H.M.G.E.V.V.R.R.C}$$$$V2.0 [4.38397 4.20894]\n",
      "PEPTIDE1{H.M.T.L.V.V.R.R.C}$$$$V2.0 [4.33497 4.26794]\n",
      "PEPTIDE1{H.M.T.E.Q.V.R.R.C}$$$$V2.0 [4.35097 3.22694]\n"
     ]
    }
   ],
   "source": [
    "for p, s in zip(seed_library, pic50_seed_library):\n",
    "    print(p, s)"
   ]
  },
  {
   "cell_type": "code",
   "execution_count": 91,
   "metadata": {},
   "outputs": [],
   "source": [
    "map4 = Map4Fingerprint(input_type='helm_rdkit', dimensions=4096, radius=1)\n",
    "\n",
    "gpmodel_one = GPModel(kernel=TanimotoSimilarityKernel(), input_transformer=map4)\n",
    "gpmodel_two = GPModel(kernel=TanimotoSimilarityKernel(), input_transformer=map4)\n",
    "gpmodel_three = GPModel(kernel=TanimotoSimilarityKernel(), input_transformer=map4)\n",
    "\n",
    "acq_one = ExpectedImprovement(gpmodel_one, maximize=False)\n",
    "acq_two = ExpectedImprovement(gpmodel_two, maximize=False)\n",
    "acq_three = ExpectedImprovement(gpmodel_three, maximize=False)\n"
   ]
  },
  {
   "cell_type": "code",
   "execution_count": 96,
   "metadata": {},
   "outputs": [],
   "source": [
    "optimizer = SequenceGA(algorithm='AGEMOEA2', period=10)\n",
    "planner = Planner([acq_one, acq_two], optimizer, design_protocol='design_protocol.yaml')"
   ]
  },
  {
   "cell_type": "code",
   "execution_count": 97,
   "metadata": {},
   "outputs": [
    {
     "name": "stderr",
     "output_type": "stream",
     "text": [
      "2023-10-10 17:22:06,739\tINFO worker.py:1642 -- Started a local Ray instance.\n",
      "\u001b[2m\u001b[36m(parallel_ga pid=2785445)\u001b[0m /home/eberhardt/Applications/mambaforge/envs/mm/lib/python3.9/site-packages/pandas/core/computation/expressions.py:21: UserWarning: Pandas requires version '2.8.0' or newer of 'numexpr' (version '2.7.3' currently installed).\n",
      "\u001b[2m\u001b[36m(parallel_ga pid=2785445)\u001b[0m   from pandas.core.computation.check import NUMEXPR_INSTALLED\n",
      "\u001b[2m\u001b[36m(parallel_ga pid=2785445)\u001b[0m /home/eberhardt/Applications/mambaforge/envs/mm/lib/python3.9/site-packages/pymoo/algorithms/moo/age.py:212: NumbaDeprecationWarning: \u001b[1mThe 'nopython' keyword argument was not supplied to the 'numba.jit' decorator. The implicit default value for this argument is currently False, but it will be changed to True in Numba 0.59.0. See https://numba.readthedocs.io/en/stable/reference/deprecation.html#deprecation-of-object-mode-fall-back-behaviour-when-using-jit for details.\u001b[0m\n",
      "\u001b[2m\u001b[36m(parallel_ga pid=2785445)\u001b[0m   @jit(fastmath=True)\n",
      "\u001b[2m\u001b[36m(parallel_ga pid=2785445)\u001b[0m /home/eberhardt/Applications/mambaforge/envs/mm/lib/python3.9/site-packages/pymoo/algorithms/moo/age.py:222: NumbaDeprecationWarning: \u001b[1mThe 'nopython' keyword argument was not supplied to the 'numba.jit' decorator. The implicit default value for this argument is currently False, but it will be changed to True in Numba 0.59.0. See https://numba.readthedocs.io/en/stable/reference/deprecation.html#deprecation-of-object-mode-fall-back-behaviour-when-using-jit for details.\u001b[0m\n",
      "\u001b[2m\u001b[36m(parallel_ga pid=2785445)\u001b[0m   @jit(fastmath=True)\n",
      "\u001b[2m\u001b[36m(parallel_ga pid=2785445)\u001b[0m /home/eberhardt/Applications/mambaforge/envs/mm/lib/python3.9/site-packages/pymoo/algorithms/moo/age.py:257: NumbaDeprecationWarning: \u001b[1mThe 'nopython' keyword argument was not supplied to the 'numba.jit' decorator. The implicit default value for this argument is currently False, but it will be changed to True in Numba 0.59.0. See https://numba.readthedocs.io/en/stable/reference/deprecation.html#deprecation-of-object-mode-fall-back-behaviour-when-using-jit for details.\u001b[0m\n",
      "\u001b[2m\u001b[36m(parallel_ga pid=2785445)\u001b[0m   @jit(fastmath=True)\n",
      "\u001b[2m\u001b[36m(parallel_ga pid=2785445)\u001b[0m /home/eberhardt/Applications/mambaforge/envs/mm/lib/python3.9/site-packages/pymoo/algorithms/moo/age2.py:67: NumbaDeprecationWarning: \u001b[1mThe 'nopython' keyword argument was not supplied to the 'numba.jit' decorator. The implicit default value for this argument is currently False, but it will be changed to True in Numba 0.59.0. See https://numba.readthedocs.io/en/stable/reference/deprecation.html#deprecation-of-object-mode-fall-back-behaviour-when-using-jit for details.\u001b[0m\n",
      "\u001b[2m\u001b[36m(parallel_ga pid=2785445)\u001b[0m   @jit(fastmath=True)\n",
      "\u001b[2m\u001b[36m(parallel_ga pid=2785445)\u001b[0m /home/eberhardt/Applications/mambaforge/envs/mm/lib/python3.9/site-packages/pymoo/algorithms/moo/age2.py:138: NumbaDeprecationWarning: \u001b[1mThe 'nopython' keyword argument was not supplied to the 'numba.jit' decorator. The implicit default value for this argument is currently False, but it will be changed to True in Numba 0.59.0. See https://numba.readthedocs.io/en/stable/reference/deprecation.html#deprecation-of-object-mode-fall-back-behaviour-when-using-jit for details.\u001b[0m\n",
      "\u001b[2m\u001b[36m(parallel_ga pid=2785445)\u001b[0m   @jit(fastmath=True)\n"
     ]
    },
    {
     "name": "stdout",
     "output_type": "stream",
     "text": [
      "\u001b[2m\u001b[36m(parallel_ga pid=2785446)\u001b[0m ==========================================================\n",
      "\u001b[2m\u001b[36m(parallel_ga pid=2785446)\u001b[0m n_gen  |  n_eval  | n_nds  |      eps      |   indicator  \n",
      "\u001b[2m\u001b[36m(parallel_ga pid=2785446)\u001b[0m ==========================================================\n",
      "\u001b[2m\u001b[36m(parallel_ga pid=2785446)\u001b[0m      1 |        0 |      3 |             - |             -\n",
      "\u001b[2m\u001b[36m(parallel_ga pid=2785445)\u001b[0m      2 |      250 |      5 |  3.402546E+02 |         ideal\n",
      "\u001b[2m\u001b[36m(parallel_ga pid=2785445)\u001b[0m ==========================================================\u001b[32m [repeated 2x across cluster]\u001b[0m\n",
      "\u001b[2m\u001b[36m(parallel_ga pid=2785445)\u001b[0m n_gen  |  n_eval  | n_nds  |      eps      |   indicator  \n",
      "\u001b[2m\u001b[36m(parallel_ga pid=2785445)\u001b[0m      1 |        0 |      3 |             - |             -\n",
      "\u001b[2m\u001b[36m(parallel_ga pid=2785445)\u001b[0m      3 |      500 |      7 |  0.2997456178 |         ideal\u001b[32m [repeated 2x across cluster]\u001b[0m\n",
      "\u001b[2m\u001b[36m(parallel_ga pid=2785446)\u001b[0m      3 |      500 |      7 |  0.0941457389 |             f\n",
      "\u001b[2m\u001b[36m(parallel_ga pid=2785445)\u001b[0m      4 |      750 |      6 |  0.5121312627 |         ideal\n",
      "\u001b[2m\u001b[36m(parallel_ga pid=2785446)\u001b[0m      4 |      750 |      4 |  0.8655319905 |         ideal\n",
      "\u001b[2m\u001b[36m(parallel_ga pid=2785446)\u001b[0m      5 |     1000 |      5 |  0.0257392975 |         ideal\u001b[32m [repeated 2x across cluster]\u001b[0m\n",
      "\u001b[2m\u001b[36m(parallel_ga pid=2785446)\u001b[0m      6 |     1250 |      6 |  0.4962945785 |         ideal\u001b[32m [repeated 2x across cluster]\u001b[0m\n",
      "\u001b[2m\u001b[36m(parallel_ga pid=2785446)\u001b[0m      7 |     1500 |      8 |  0.0906143948 |             f\n",
      "\u001b[2m\u001b[36m(parallel_ga pid=2785445)\u001b[0m      7 |     1500 |      7 |  0.2471719446 |         ideal\n",
      "\u001b[2m\u001b[36m(parallel_ga pid=2785445)\u001b[0m      8 |     1750 |      4 |  0.2716392352 |         ideal\n",
      "\u001b[2m\u001b[36m(parallel_ga pid=2785446)\u001b[0m      8 |     1750 |      6 |  0.1565519578 |             f\n",
      "\u001b[2m\u001b[36m(parallel_ga pid=2785445)\u001b[0m      9 |     2000 |      7 |  0.2536191241 |         ideal\n",
      "\u001b[2m\u001b[36m(parallel_ga pid=2785446)\u001b[0m      9 |     2000 |      6 |  0.2231957118 |         ideal\n",
      "\u001b[2m\u001b[36m(parallel_ga pid=2785446)\u001b[0m     10 |     2250 |      7 |  0.1164554001 |         ideal\u001b[32m [repeated 2x across cluster]\u001b[0m\n",
      "\u001b[2m\u001b[36m(parallel_ga pid=2785446)\u001b[0m     11 |     2500 |      8 |  0.1334892819 |         ideal\u001b[32m [repeated 2x across cluster]\u001b[0m\n",
      "\u001b[2m\u001b[36m(parallel_ga pid=2785445)\u001b[0m     12 |     2750 |     17 |  0.0033791136 |             f\n",
      "\u001b[2m\u001b[36m(parallel_ga pid=2785446)\u001b[0m     12 |     2750 |      8 |  0.4003387283 |         ideal\n",
      "\u001b[2m\u001b[36m(parallel_ga pid=2785445)\u001b[0m     13 |     3000 |     18 |  0.0010985988 |             f\n",
      "\u001b[2m\u001b[36m(parallel_ga pid=2785446)\u001b[0m     13 |     3000 |      6 |  0.1370225693 |             f\n",
      "\u001b[2m\u001b[36m(parallel_ga pid=2785446)\u001b[0m     14 |     3250 |      6 |  0.3292884506 |         ideal\n",
      "\u001b[2m\u001b[36m(parallel_ga pid=2785445)\u001b[0m     14 |     3250 |     20 |  0.0053165417 |             f\n",
      "\u001b[2m\u001b[36m(parallel_ga pid=2785445)\u001b[0m     15 |     3500 |     20 |  0.0016715440 |             f\n",
      "\u001b[2m\u001b[36m(parallel_ga pid=2785446)\u001b[0m     15 |     3500 |      4 |  0.3669489066 |         ideal\n",
      "\u001b[2m\u001b[36m(parallel_ga pid=2785445)\u001b[0m     16 |     3750 |     21 |  0.0038343036 |             f\n",
      "\u001b[2m\u001b[36m(parallel_ga pid=2785446)\u001b[0m     16 |     3750 |      6 |  0.2740195282 |         ideal\n",
      "\u001b[2m\u001b[36m(parallel_ga pid=2785445)\u001b[0m     17 |     4000 |     23 |  0.0015739073 |             f\n",
      "\u001b[2m\u001b[36m(parallel_ga pid=2785445)\u001b[0m     18 |     4250 |     25 |  0.0027328680 |             f\u001b[32m [repeated 2x across cluster]\u001b[0m\n",
      "\u001b[2m\u001b[36m(parallel_ga pid=2785446)\u001b[0m     18 |     4250 |      6 |  0.0959547149 |         ideal\n",
      "\u001b[2m\u001b[36m(parallel_ga pid=2785445)\u001b[0m     19 |     4500 |     26 |  0.0023689543 |             f\n",
      "\u001b[2m\u001b[36m(parallel_ga pid=2785446)\u001b[0m     19 |     4500 |      8 |  0.1942257089 |         ideal\n",
      "\u001b[2m\u001b[36m(parallel_ga pid=2785445)\u001b[0m     20 |     4750 |     26 |  0.0023689543 |             f\n",
      "\u001b[2m\u001b[36m(parallel_ga pid=2785446)\u001b[0m     20 |     4750 |      8 |  0.1314971005 |         ideal\n",
      "\u001b[2m\u001b[36m(parallel_ga pid=2785445)\u001b[0m     21 |     5000 |     26 |  0.0032638174 |             f\n",
      "\u001b[2m\u001b[36m(parallel_ga pid=2785446)\u001b[0m     21 |     5000 |      7 |  0.0029584286 |             f\n",
      "\u001b[2m\u001b[36m(parallel_ga pid=2785445)\u001b[0m     22 |     5250 |     27 |  0.0008071784 |             f\n",
      "\u001b[2m\u001b[36m(parallel_ga pid=2785446)\u001b[0m     22 |     5250 |      8 |  0.0560043463 |         ideal\n",
      "\u001b[2m\u001b[36m(parallel_ga pid=2785445)\u001b[0m     23 |     5500 |     27 |  0.0008071784 |             f\n",
      "\u001b[2m\u001b[36m(parallel_ga pid=2785446)\u001b[0m     23 |     5500 |     11 |  0.0334830663 |         ideal\n",
      "\u001b[2m\u001b[36m(parallel_ga pid=2785445)\u001b[0m     24 |     5750 |     28 |  0.0018493878 |             f\n",
      "\u001b[2m\u001b[36m(parallel_ga pid=2785446)\u001b[0m     24 |     5750 |     10 |  0.0234393247 |         ideal\n",
      "\u001b[2m\u001b[36m(parallel_ga pid=2785445)\u001b[0m     25 |     6000 |     26 |  0.0073095633 |             f\n",
      "\u001b[2m\u001b[36m(parallel_ga pid=2785446)\u001b[0m     25 |     6000 |     13 |  0.3253717970 |         ideal\n",
      "\u001b[2m\u001b[36m(parallel_ga pid=2785445)\u001b[0m     26 |     6250 |     26 |  0.000000E+00 |             f\n",
      "\u001b[2m\u001b[36m(parallel_ga pid=2785446)\u001b[0m     26 |     6250 |     14 |  0.1001646969 |         ideal\n",
      "\u001b[2m\u001b[36m(parallel_ga pid=2785445)\u001b[0m     27 |     6500 |     26 |  0.000000E+00 |             f\n",
      "\u001b[2m\u001b[36m(parallel_ga pid=2785445)\u001b[0m     28 |     6750 |     26 |  0.000000E+00 |             f\u001b[32m [repeated 2x across cluster]\u001b[0m\n",
      "\u001b[2m\u001b[36m(parallel_ga pid=2785446)\u001b[0m     28 |     6750 |     18 |  0.0676815669 |         ideal\n",
      "\u001b[2m\u001b[36m(parallel_ga pid=2785445)\u001b[0m     29 |     7000 |     26 |  0.000000E+00 |             f\n",
      "\u001b[2m\u001b[36m(parallel_ga pid=2785446)\u001b[0m     29 |     7000 |     20 |  0.0038238667 |             f\n",
      "\u001b[2m\u001b[36m(parallel_ga pid=2785446)\u001b[0m     30 |     7250 |     20 |  0.0026660464 |             f\u001b[32m [repeated 2x across cluster]\u001b[0m\n",
      "\u001b[2m\u001b[36m(parallel_ga pid=2785446)\u001b[0m     31 |     7500 |     20 |  0.000000E+00 |             f\u001b[32m [repeated 2x across cluster]\u001b[0m\n",
      "\u001b[2m\u001b[36m(parallel_ga pid=2785446)\u001b[0m     32 |     7750 |     20 |  0.000000E+00 |             f\u001b[32m [repeated 2x across cluster]\u001b[0m\n",
      "\u001b[2m\u001b[36m(parallel_ga pid=2785446)\u001b[0m     33 |     8000 |     20 |  0.0014452488 |             f\u001b[32m [repeated 2x across cluster]\u001b[0m\n",
      "\u001b[2m\u001b[36m(parallel_ga pid=2785446)\u001b[0m     34 |     8250 |     20 |  0.0015650350 |             f\u001b[32m [repeated 2x across cluster]\u001b[0m\n",
      "\u001b[2m\u001b[36m(parallel_ga pid=2785446)\u001b[0m     35 |     8500 |     20 |  0.0015650350 |             f\u001b[32m [repeated 2x across cluster]\u001b[0m\n",
      "\u001b[2m\u001b[36m(parallel_ga pid=2785446)\u001b[0m     36 |     8750 |     20 |  0.0015650350 |             f\u001b[32m [repeated 2x across cluster]\u001b[0m\n",
      "\u001b[2m\u001b[36m(parallel_ga pid=2785446)\u001b[0m     37 |     9000 |     20 |  0.0015650350 |             f\u001b[32m [repeated 2x across cluster]\u001b[0m\n",
      "\u001b[2m\u001b[36m(parallel_ga pid=2785446)\u001b[0m     38 |     9250 |     20 |  0.0015650350 |             f\u001b[32m [repeated 2x across cluster]\u001b[0m\n",
      "\u001b[2m\u001b[36m(parallel_ga pid=2785445)\u001b[0m     40 |     9750 |     27 |  0.0012797126 |             f\u001b[32m [repeated 2x across cluster]\u001b[0m\n",
      "\u001b[2m\u001b[36m(parallel_ga pid=2785445)\u001b[0m     41 |    10000 |     28 |  0.0018906317 |             f\u001b[32m [repeated 2x across cluster]\u001b[0m\n",
      "\u001b[2m\u001b[36m(parallel_ga pid=2785445)\u001b[0m     42 |    10250 |     28 |  0.0018906317 |             f\u001b[32m [repeated 2x across cluster]\u001b[0m\n",
      "\u001b[2m\u001b[36m(parallel_ga pid=2785445)\u001b[0m     43 |    10500 |     28 |  0.0018906317 |             f\u001b[32m [repeated 2x across cluster]\u001b[0m\n",
      "\u001b[2m\u001b[36m(parallel_ga pid=2785445)\u001b[0m     44 |    10750 |     28 |  0.0018906317 |             f\u001b[32m [repeated 2x across cluster]\u001b[0m\n",
      "\u001b[2m\u001b[36m(parallel_ga pid=2785445)\u001b[0m     45 |    11000 |     28 |  0.0018906317 |             f\u001b[32m [repeated 2x across cluster]\u001b[0m\n",
      "\u001b[2m\u001b[36m(parallel_ga pid=2785446)\u001b[0m     44 |    10750 |     23 |  0.0664393169 |         ideal\n",
      "\u001b[2m\u001b[36m(parallel_ga pid=2785445)\u001b[0m     46 |    11250 |     29 |  0.0019574908 |             f\n",
      "\u001b[2m\u001b[36m(parallel_ga pid=2785446)\u001b[0m     45 |    11000 |     24 |  0.0046290299 |             f\n",
      "\u001b[2m\u001b[36m(parallel_ga pid=2785446)\u001b[0m     46 |    11250 |     24 |  0.0062650240 |             f\u001b[32m [repeated 2x across cluster]\u001b[0m\n",
      "\u001b[2m\u001b[36m(parallel_ga pid=2785446)\u001b[0m     47 |    11500 |     21 |  0.0703551535 |         ideal\n",
      "\u001b[2m\u001b[36m(parallel_ga pid=2785445)\u001b[0m     48 |    11750 |     28 |  0.0013349054 |             f\n",
      "\u001b[2m\u001b[36m(parallel_ga pid=2785446)\u001b[0m     48 |    11750 |     16 |  0.0106881416 |             f\n",
      "\u001b[2m\u001b[36m(parallel_ga pid=2785445)\u001b[0m     49 |    12000 |     29 |  0.0511186781 |         ideal\n",
      "\u001b[2m\u001b[36m(parallel_ga pid=2785446)\u001b[0m     49 |    12000 |     13 |  0.0061961217 |             f\u001b[32m [repeated 2x across cluster]\u001b[0m\n",
      "\u001b[2m\u001b[36m(parallel_ga pid=2785445)\u001b[0m     52 |    12750 |     30 |  0.0002086747 |             f\u001b[32m [repeated 2x across cluster]\u001b[0m\n",
      "\u001b[2m\u001b[36m(parallel_ga pid=2785446)\u001b[0m     50 |    12250 |     16 |  0.0987162384 |         ideal\n",
      "\u001b[2m\u001b[36m(parallel_ga pid=2785445)\u001b[0m     53 |    13000 |     30 |  0.0002086747 |             f\n",
      "\u001b[2m\u001b[36m(parallel_ga pid=2785446)\u001b[0m     51 |    12500 |     15 |  0.0039138584 |             f\n",
      "\u001b[2m\u001b[36m(parallel_ga pid=2785445)\u001b[0m     54 |    13250 |     30 |  0.0002086747 |             f\n",
      "\u001b[2m\u001b[36m(parallel_ga pid=2785446)\u001b[0m     52 |    12750 |     15 |  0.000000E+00 |             f\n",
      "\u001b[2m\u001b[36m(parallel_ga pid=2785446)\u001b[0m     53 |    13000 |     15 |  0.000000E+00 |             f\u001b[32m [repeated 2x across cluster]\u001b[0m\n",
      "\u001b[2m\u001b[36m(parallel_ga pid=2785446)\u001b[0m     54 |    13250 |     16 |  0.0013375061 |             f\u001b[32m [repeated 2x across cluster]\u001b[0m\n",
      "\u001b[2m\u001b[36m(parallel_ga pid=2785446)\u001b[0m     55 |    13500 |     16 |  0.0013375061 |             f\u001b[32m [repeated 2x across cluster]\u001b[0m\n",
      "\u001b[2m\u001b[36m(parallel_ga pid=2785446)\u001b[0m     56 |    13750 |     16 |  0.0013375061 |             f\u001b[32m [repeated 2x across cluster]\u001b[0m\n",
      "\u001b[2m\u001b[36m(parallel_ga pid=2785446)\u001b[0m     57 |    14000 |     16 |  0.0013375061 |             f\u001b[32m [repeated 2x across cluster]\u001b[0m\n",
      "\u001b[2m\u001b[36m(parallel_ga pid=2785446)\u001b[0m     58 |    14250 |     16 |  0.0013375061 |             f\u001b[32m [repeated 2x across cluster]\u001b[0m\n",
      "\u001b[2m\u001b[36m(parallel_ga pid=2785446)\u001b[0m     59 |    14500 |     16 |  0.0013375061 |             f\u001b[32m [repeated 2x across cluster]\u001b[0m\n",
      "\u001b[2m\u001b[36m(parallel_ga pid=2785446)\u001b[0m     60 |    14750 |     16 |  0.0013375061 |             f\u001b[32m [repeated 2x across cluster]\u001b[0m\n",
      "\u001b[2m\u001b[36m(parallel_ga pid=2785446)\u001b[0m     61 |    15000 |     16 |  0.0013375061 |             f\n",
      "\u001b[2m\u001b[36m(parallel_ga pid=2785446)\u001b[0m     62 |    15250 |     16 |  0.0013375061 |             f\n",
      "\u001b[2m\u001b[36m(parallel_ga pid=2785446)\u001b[0m     63 |    15500 |     16 |  0.0013375061 |             f\n",
      "\u001b[2m\u001b[36m(parallel_ga pid=2785446)\u001b[0m     64 |    15750 |     16 |  0.0033871284 |             f\n",
      "\u001b[2m\u001b[36m(parallel_ga pid=2785446)\u001b[0m     65 |    16000 |     16 |  0.000000E+00 |             f\n",
      "\u001b[2m\u001b[36m(parallel_ga pid=2785446)\u001b[0m     66 |    16250 |     16 |  0.0032343447 |             f\n",
      "\u001b[2m\u001b[36m(parallel_ga pid=2785446)\u001b[0m     67 |    16500 |     16 |  0.000000E+00 |             f\n",
      "\u001b[2m\u001b[36m(parallel_ga pid=2785446)\u001b[0m     68 |    16750 |     17 |  0.0098867688 |             f\n",
      "\u001b[2m\u001b[36m(parallel_ga pid=2785446)\u001b[0m     69 |    17000 |     17 |  0.000000E+00 |             f\n",
      "\u001b[2m\u001b[36m(parallel_ga pid=2785446)\u001b[0m     70 |    17250 |     17 |  0.000000E+00 |             f\n",
      "\u001b[2m\u001b[36m(parallel_ga pid=2785446)\u001b[0m     71 |    17500 |     17 |  0.000000E+00 |             f\n",
      "\u001b[2m\u001b[36m(parallel_ga pid=2785446)\u001b[0m     72 |    17750 |     17 |  0.000000E+00 |             f\n",
      "\u001b[2m\u001b[36m(parallel_ga pid=2785446)\u001b[0m     73 |    18000 |     17 |  0.1039059576 |         ideal\n",
      "\u001b[2m\u001b[36m(parallel_ga pid=2785446)\u001b[0m     74 |    18250 |     17 |  0.000000E+00 |             f\n",
      "\u001b[2m\u001b[36m(parallel_ga pid=2785446)\u001b[0m     75 |    18500 |     17 |  0.000000E+00 |             f\n",
      "\u001b[2m\u001b[36m(parallel_ga pid=2785446)\u001b[0m     76 |    18750 |     18 |  0.0041096176 |             f\n",
      "\u001b[2m\u001b[36m(parallel_ga pid=2785446)\u001b[0m     77 |    19000 |     18 |  0.000000E+00 |             f\n",
      "\u001b[2m\u001b[36m(parallel_ga pid=2785446)\u001b[0m     78 |    19250 |     18 |  0.000000E+00 |             f\n",
      "\u001b[2m\u001b[36m(parallel_ga pid=2785446)\u001b[0m     79 |    19500 |     18 |  0.000000E+00 |             f\n",
      "\u001b[2m\u001b[36m(parallel_ga pid=2785446)\u001b[0m     80 |    19750 |     18 |  0.000000E+00 |             f\n",
      "\u001b[2m\u001b[36m(parallel_ga pid=2785446)\u001b[0m     81 |    20000 |     18 |  0.000000E+00 |             f\n",
      "\u001b[2m\u001b[36m(parallel_ga pid=2785446)\u001b[0m     82 |    20250 |     18 |  0.000000E+00 |             f\n",
      "\u001b[2m\u001b[36m(parallel_ga pid=2785446)\u001b[0m     83 |    20500 |     18 |  0.000000E+00 |             f\n",
      "\u001b[2m\u001b[36m(parallel_ga pid=2785446)\u001b[0m     84 |    20750 |     18 |  0.000000E+00 |             f\n",
      "\u001b[2m\u001b[36m(parallel_ga pid=2785446)\u001b[0m     85 |    21000 |     18 |  0.000000E+00 |             f\n",
      "\u001b[2m\u001b[36m(parallel_ga pid=2785446)\u001b[0m     86 |    21250 |     18 |  0.000000E+00 |             f\n"
     ]
    },
    {
     "name": "stderr",
     "output_type": "stream",
     "text": [
      "\u001b[2m\u001b[36m(parallel_ga pid=2785446)\u001b[0m /home/eberhardt/Applications/mambaforge/envs/mm/lib/python3.9/site-packages/pandas/core/computation/expressions.py:21: UserWarning: Pandas requires version '2.8.0' or newer of 'numexpr' (version '2.7.3' currently installed).\n",
      "\u001b[2m\u001b[36m(parallel_ga pid=2785446)\u001b[0m   from pandas.core.computation.check import NUMEXPR_INSTALLED\n",
      "\u001b[2m\u001b[36m(parallel_ga pid=2785446)\u001b[0m /home/eberhardt/Applications/mambaforge/envs/mm/lib/python3.9/site-packages/pymoo/algorithms/moo/age2.py:138: NumbaDeprecationWarning: \u001b[1mThe 'nopython' keyword argument was not supplied to the 'numba.jit' decorator. The implicit default value for this argument is currently False, but it will be changed to True in Numba 0.59.0. See https://numba.readthedocs.io/en/stable/reference/deprecation.html#deprecation-of-object-mode-fall-back-behaviour-when-using-jit for details.\u001b[0m\u001b[32m [repeated 5x across cluster]\u001b[0m\n",
      "\u001b[2m\u001b[36m(parallel_ga pid=2785446)\u001b[0m   @jit(fastmath=True)\u001b[32m [repeated 5x across cluster]\u001b[0m\n"
     ]
    },
    {
     "name": "stdout",
     "output_type": "stream",
     "text": [
      "PEPTIDE1{M.M.A.E.V.M.R.R.Y}$$$$V2.0 [-0.05683208 -0.09703412]\n",
      "PEPTIDE1{M.M.T.E.V.M.R.R.Y}$$$$V2.0 [-0.06134129 -0.0813305 ]\n",
      "PEPTIDE1{M.T.T.E.V.G.R.M.Y}$$$$V2.0 [-0.04697745 -0.11435634]\n",
      "PEPTIDE1{M.T.T.E.I.R.R.M.Y}$$$$V2.0 [-0.03226994 -0.19796127]\n",
      "PEPTIDE1{M.M.T.E.V.G.R.R.Y}$$$$V2.0 [-0.08887491 -0.02378675]\n",
      "PEPTIDE1{M.M.T.E.I.V.R.M.Y}$$$$V2.0 [-0.05761953 -0.08172114]\n",
      "PEPTIDE1{H.T.T.E.C.M.R.I.M}$$$$V2.0 [-3.48505809e-07 -3.39152226e-01]\n",
      "PEPTIDE1{M.T.T.E.I.E.R.M.Y}$$$$V2.0 [-0.0403254  -0.16177564]\n",
      "PEPTIDE1{M.T.T.E.G.M.R.R.Y}$$$$V2.0 [-0.04130298 -0.15418522]\n",
      "PEPTIDE1{M.M.I.E.V.V.R.M.Y}$$$$V2.0 [-0.05687894 -0.0826957 ]\n",
      "PEPTIDE1{M.M.T.E.V.G.R.M.Y}$$$$V2.0 [-0.06648116 -0.06256837]\n",
      "PEPTIDE1{M.M.A.E.G.M.R.R.Y}$$$$V2.0 [-0.04881048 -0.11383805]\n",
      "PEPTIDE1{H.T.T.E.C.I.R.R.M}$$$$V2.0 [-1.04879306e-10 -4.44355364e-01]\n",
      "PEPTIDE1{M.M.T.E.V.G.I.R.Y}$$$$V2.0 [-0.07737633 -0.0319185 ]\n",
      "PEPTIDE1{H.M.A.E.C.M.R.R.Y}$$$$V2.0 [-0.01767848 -0.20575122]\n",
      "PEPTIDE1{M.T.T.E.G.I.R.M.Y}$$$$V2.0 [-0.03295612 -0.17734622]\n",
      "PEPTIDE1{M.M.A.E.V.V.R.R.Y}$$$$V2.0 [-0.07535761 -0.04284942]\n",
      "PEPTIDE1{H.T.T.E.C.M.R.R.M}$$$$V2.0 [-4.46855849e-08 -3.78215942e-01]\n",
      "PEPTIDE1{M.M.T.E.G.G.R.R.Y}$$$$V2.0 [-0.0750683  -0.05029099]\n",
      "PEPTIDE1{M.M.T.E.V.V.R.R.Y}$$$$V2.0 [-0.08433174 -0.0260623 ]\n",
      "PEPTIDE1{M.M.T.E.I.G.R.R.Y}$$$$V2.0 [-0.07701063 -0.03390273]\n",
      "PEPTIDE1{M.M.T.E.I.G.R.M.Y}$$$$V2.0 [-0.06166547 -0.07843964]\n",
      "PEPTIDE1{M.M.T.E.G.M.R.R.Y}$$$$V2.0 [-0.05455747 -0.1099327 ]\n",
      "PEPTIDE1{H.T.T.E.C.M.R.R.Y}$$$$V2.0 [-0.00353373 -0.33734479]\n",
      "PEPTIDE1{M.T.T.E.I.G.R.M.Y}$$$$V2.0 [-0.04405896 -0.1444516 ]\n",
      "PEPTIDE1{M.T.T.E.I.M.R.R.Y}$$$$V2.0 [-0.03800544 -0.16320638]\n",
      "PEPTIDE1{H.T.T.E.C.L.R.R.M}$$$$V2.0 [-1.07419509e-08 -4.14619085e-01]\n",
      "PEPTIDE1{H.T.T.E.C.I.R.M.M}$$$$V2.0 [-4.64100405e-08 -3.46332078e-01]\n",
      "PEPTIDE1{H.M.T.E.C.M.R.R.Y}$$$$V2.0 [-0.01594039 -0.25384669]\n",
      "PEPTIDE1{H.T.T.E.G.M.R.R.Y}$$$$V2.0 [-0.0060283  -0.30004301]\n",
      "PEPTIDE1{M.M.A.E.I.M.R.R.Y}$$$$V2.0 [-0.04878023 -0.10234197]\n",
      "PEPTIDE1{M.M.A.E.G.V.R.R.Y}$$$$V2.0 [-0.06313499 -0.05668327]\n",
      "PEPTIDE1{M.M.V.E.V.M.R.R.Y}$$$$V2.0 [-0.05653128 -0.08798881]\n",
      "PEPTIDE1{M.M.I.E.V.G.R.M.Y}$$$$V2.0 [-0.05803631 -0.07372586]\n",
      "PEPTIDE1{M.M.A.E.I.V.R.R.Y}$$$$V2.0 [-0.06494152 -0.04790454]\n",
      "PEPTIDE1{M.T.T.E.E.I.R.M.Y}$$$$V2.0 [-0.02363433 -0.18324094]\n",
      "PEPTIDE1{H.T.V.E.C.I.R.R.M}$$$$V2.0 [-1.72348967e-09 -3.99286343e-01]\n",
      "PEPTIDE1{M.M.I.E.G.M.R.R.Y}$$$$V2.0 [-0.04499607 -0.10398494]\n",
      "PEPTIDE1{H.T.V.E.C.L.R.M.M}$$$$V2.0 [-1.07201320e-06 -3.19630065e-01]\n",
      "PEPTIDE1{M.T.T.E.M.I.R.M.Y}$$$$V2.0 [-0.02287987 -0.19618994]\n",
      "PEPTIDE1{H.T.A.E.G.M.R.R.Y}$$$$V2.0 [-0.00533209 -0.26003419]\n",
      "PEPTIDE1{M.T.T.E.V.V.R.M.Y}$$$$V2.0 [-0.04381486 -0.12089433]\n",
      "PEPTIDE1{M.T.T.E.V.I.R.M.Y}$$$$V2.0 [-0.03936022 -0.15630033]\n",
      "PEPTIDE1{M.T.T.E.A.M.R.R.Y}$$$$V2.0 [-0.03395876 -0.16088218]\n",
      "PEPTIDE1{H.T.V.E.C.L.R.R.M}$$$$V2.0 [-2.88256183e-08 -3.77761604e-01]\n",
      "PEPTIDE1{M.M.I.E.V.M.R.R.Y}$$$$V2.0 [-0.05461476 -0.09073293]\n",
      "PEPTIDE1{M.M.A.E.G.G.R.R.Y}$$$$V2.0 [-0.06224445 -0.06068726]\n",
      "PEPTIDE1{M.T.T.E.I.I.R.M.Y}$$$$V2.0 [-0.0351925  -0.16066966]\n",
      "PEPTIDE1{M.M.T.E.I.V.R.R.Y}$$$$V2.0 [-0.0739655 -0.0365065]\n",
      "PEPTIDE1{M.T.T.E.C.I.R.M.Y}$$$$V2.0 [-0.02360227 -0.19235575]\n",
      "PEPTIDE1{M.T.T.E.I.V.R.M.Y}$$$$V2.0 [-0.04099718 -0.14812282]\n",
      "PEPTIDE1{M.T.T.E.G.G.R.M.Y}$$$$V2.0 [-0.04138342 -0.13611439]\n",
      "PEPTIDE1{M.T.T.E.V.M.R.R.Y}$$$$V2.0 [-0.04366879 -0.13227771]\n",
      "PEPTIDE1{H.M.V.E.C.M.R.R.Y}$$$$V2.0 [-0.01398833 -0.23396645]\n",
      "PEPTIDE1{M.M.T.E.G.G.I.R.Y}$$$$V2.0 [-0.06469815 -0.04895753]\n",
      "PEPTIDE1{M.M.T.E.G.G.R.M.Y}$$$$V2.0 [-0.05663626 -0.08603059]\n",
      "PEPTIDE1{H.T.V.E.C.M.R.R.Y}$$$$V2.0 [-0.00296732 -0.30797602]\n",
      "PEPTIDE1{H.M.T.T.E.M.I.R.M.Y}$$$$V2.0 [-0.0074838  -0.23922934]\n",
      "PEPTIDE1{M.M.T.E.V.G.I.M.Y}$$$$V2.0 [-0.06155369 -0.06969861]\n",
      "PEPTIDE1{M.M.T.E.G.V.R.R.Y}$$$$V2.0 [-0.06929441 -0.0453498 ]\n",
      "PEPTIDE1{M.T.T.E.V.E.R.M.Y}$$$$V2.0 [-0.04214581 -0.13371975]\n",
      "PEPTIDE1{H.T.T.E.E.M.R.R.Y}$$$$V2.0 [-0.00318736 -0.2955619 ]\n",
      "PEPTIDE1{H.T.T.E.G.L.R.M.Y}$$$$V2.0 [-0.00522889 -0.2668586 ]\n",
      "PEPTIDE1{M.M.T.E.I.M.R.R.Y}$$$$V2.0 [-0.05386109 -0.09607781]\n",
      "PEPTIDE1{M.T.T.E.V.R.R.M.Y}$$$$V2.0 [-0.03298714 -0.16280498]\n",
      "PEPTIDE1{M.M.A.E.V.G.R.R.Y}$$$$V2.0 [-0.07124907 -0.03772596]\n",
      "PEPTIDE1{H.T.T.E.C.L.R.M.M}$$$$V2.0 [-3.79159986e-07 -3.35466425e-01]\n",
      "PEPTIDE1{M.T.T.E.C.M.R.R.Y}$$$$V2.0 [-0.03094487 -0.17579175]\n",
      "PEPTIDE1{M.T.T.E.G.R.R.M.Y}$$$$V2.0 [-0.03197714 -0.16738171]\n",
      "PEPTIDE1{H.T.T.E.I.M.R.R.Y}$$$$V2.0 [-0.00424902 -0.29021825]\n",
      "PEPTIDE1{H.T.T.E.H.L.R.R.M}$$$$V2.0 [-5.56619880e-08 -3.36137098e-01]\n",
      "PEPTIDE1{M.T.T.E.M.L.R.M.Y}$$$$V2.0 [-0.02486544 -0.1753104 ]\n",
      "PEPTIDE1{H.T.T.E.C.M.R.C.M}$$$$V2.0 [-2.40413286e-07 -3.29156872e-01]\n",
      "PEPTIDE1{M.M.A.E.V.V.R.M.Y}$$$$V2.0 [-0.05491824 -0.07990684]\n",
      "PEPTIDE1{M.T.T.E.I.S.R.M.Y}$$$$V2.0 [-0.0345821  -0.15082536]\n",
      "PEPTIDE1{H.T.T.E.C.I.R.C.M}$$$$V2.0 [-1.12963245e-08 -3.66507933e-01]\n",
      "PEPTIDE1{M.T.I.E.V.V.R.M.Y}$$$$V2.0 [-0.04111915 -0.12416596]\n",
      "PEPTIDE1{M.M.I.E.I.G.R.M.Y}$$$$V2.0 [-0.05264184 -0.08223413]\n",
      "PEPTIDE1{M.M.I.E.V.V.R.R.Y}$$$$V2.0 [-0.06891571 -0.04270099]\n",
      "PEPTIDE1{M.M.V.E.V.G.R.R.Y}$$$$V2.0 [-0.07301268 -0.03258789]\n",
      "PEPTIDE1{H.T.T.E.H.I.R.R.M}$$$$V2.0 [-1.37460063e-09 -3.68647610e-01]\n",
      "PEPTIDE1{H.M.I.E.C.M.R.R.Y}$$$$V2.0 [-0.0126678  -0.21852188]\n",
      "PEPTIDE1{M.M.T.E.V.V.I.M.Y}$$$$V2.0 [-0.05737967 -0.06756666]\n",
      "PEPTIDE1{H.T.A.E.C.M.R.R.Y}$$$$V2.0 [-0.00324264 -0.28757706]\n",
      "PEPTIDE1{M.T.I.E.I.G.R.M.Y}$$$$V2.0 [-0.03860482 -0.13259197]\n",
      "PEPTIDE1{M.T.I.E.I.R.R.M.Y}$$$$V2.0 [-0.0261252  -0.17061858]\n",
      "PEPTIDE1{H.T.I.E.C.L.R.R.M}$$$$V2.0 [-7.31413238e-08 -3.29311374e-01]\n",
      "PEPTIDE1{M.M.A.E.V.N.R.R.Y}$$$$V2.0 [-0.06132761 -0.05442096]\n",
      "PEPTIDE1{M.M.T.E.G.V.I.R.Y}$$$$V2.0 [-0.06327207 -0.04361376]\n",
      "PEPTIDE1{H.T.V.E.C.I.R.M.M}$$$$V2.0 [-3.23375828e-07 -3.27360133e-01]\n",
      "PEPTIDE1{M.T.T.E.G.E.R.M.Y}$$$$V2.0 [-0.03721986 -0.14819927]\n",
      "PEPTIDE1{M.T.A.E.I.R.R.M.Y}$$$$V2.0 [-0.01995247 -0.19504128]\n",
      "PEPTIDE1{M.M.V.E.V.G.I.M.Y}$$$$V2.0 [-0.05540178 -0.06876286]\n",
      "PEPTIDE1{H.M.T.E.C.M.R.I.Y}$$$$V2.0 [-0.00635485 -0.23896619]\n",
      "PEPTIDE1{M.M.I.E.I.V.R.M.Y}$$$$V2.0 [-0.05025229 -0.09145143]\n",
      "PEPTIDE1{H.M.T.E.G.M.R.R.Y}$$$$V2.0 [-0.0290369  -0.16918395]\n"
     ]
    }
   ],
   "source": [
    "peptides = list(seed_library)[:]\n",
    "pic50_scores = list(pic50_seed_library)[:]\n",
    "\n",
    "suggested_peptides, suggested_peptides_scores = planner.recommand(peptides, pic50_scores, batch_size=96)\n",
    "\n",
    "for p, s in zip(suggested_peptides, suggested_peptides_scores):\n",
    "    print(p, s)"
   ]
  },
  {
   "cell_type": "code",
   "execution_count": 98,
   "metadata": {},
   "outputs": [
    {
     "data": {
      "image/png": "[encoded data removed]",
      "text/plain": [
       "<Figure size 800x800 with 1 Axes>"
      ]
     },
     "metadata": {},
     "output_type": "display_data"
    }
   ],
   "source": [
    "fig, ax = plt.subplots(figsize=(8, 8))\n",
    "ax.scatter(suggested_peptides_scores[:, 0], suggested_peptides_scores[:, 1])\n",
    "ax.set_xlabel('Objective 1')\n",
    "ax.set_ylabel('Objective 2')\n",
    "ax.set_title('Pareto fronts')\n",
    "plt.show()"
   ]
  },
  {
   "cell_type": "code",
   "execution_count": 95,
   "metadata": {},
   "outputs": [
    {
     "data": {
      "image/png": "[encoded data removed]",
      "text/plain": [
       "<Figure size 800x800 with 1 Axes>"
      ]
     },
     "metadata": {},
     "output_type": "display_data"
    }
   ],
   "source": [
    "fig, ax = plt.subplots(figsize=(8, 8))\n",
    "ax.scatter(suggested_peptides_scores[:, 0], suggested_peptides_scores[:, 1])\n",
    "ax.set_xlabel('Objective 1')\n",
    "ax.set_ylabel('Objective 2')\n",
    "ax.set_title('Pareto fronts')\n",
    "plt.show()"
   ]
  },
  {
   "cell_type": "code",
   "execution_count": 58,
   "metadata": {},
   "outputs": [
    {
     "data": {
      "image/png": "[encoded data removed]",
      "text/plain": [
       "<Figure size 800x600 with 1 Axes>"
      ]
     },
     "metadata": {},
     "output_type": "display_data"
    }
   ],
   "source": [
    "fig, ax = plt.subplots(figsize=(8, 6))\n",
    "ax.scatter(planner._results[0].F[:,0], planner._results[0].F[:,1], label='Seed Library')\n",
    "ax.scatter(planner._results[1].F[:,0], planner._results[1].F[:,1], label='Seed Library')\n",
    "plt.show()"
   ]
  },
  {
   "cell_type": "code",
   "execution_count": 126,
   "metadata": {},
   "outputs": [
    {
     "data": {
      "text/plain": [
       "array(['PEPTIDE1{C.M.T.E.V.V.R.R.C}$$$$V2.0'], dtype='<U35')"
      ]
     },
     "execution_count": 126,
     "metadata": {},
     "output_type": "execute_result"
    }
   ],
   "source": [
    "optimizer.res.history[0].pop[0].X"
   ]
  },
  {
   "cell_type": "code",
   "execution_count": 59,
   "metadata": {},
   "outputs": [],
   "source": [
    "pic50_one = lpe_one.score(suggested_peptides_df.Polymers.values)\n",
    "pic50_two = lpe_two.score(suggested_peptides_df.Polymers.values)\n",
    "pic50_three = lpe_three.score(suggested_peptides_df.Polymers.values)\n",
    "\n",
    "pic50_library = np.column_stack((pic50_one, pic50_two, pic50_three))"
   ]
  },
  {
   "cell_type": "code",
   "execution_count": 55,
   "metadata": {},
   "outputs": [
    {
     "name": "stdout",
     "output_type": "stream",
     "text": [
      "PEPTIDE1{H.M.M.E.V.V.A.R.I}$$$$V2.0 [1.55029 0.14423 1.25543]\n",
      "PEPTIDE1{H.M.M.E.V.V.L.R.I}$$$$V2.0 [1.80529 0.36223 1.23243]\n",
      "PEPTIDE1{H.M.M.E.V.V.F.R.V}$$$$V2.0 [ 0.32329 -0.65477  0.21243]\n",
      "PEPTIDE1{H.M.M.E.V.V.A.R.V}$$$$V2.0 [ 0.73229 -0.33177  0.73943]\n",
      "PEPTIDE1{H.M.M.E.V.V.F.L.V}$$$$V2.0 [ 0.13429 -0.41177 -0.05457]\n",
      "PEPTIDE1{H.M.M.E.V.V.L.R.V}$$$$V2.0 [ 0.98729 -0.11377  0.71643]\n",
      "PEPTIDE1{H.M.M.E.V.V.F.R.I}$$$$V2.0 [ 1.14129 -0.17877  0.72843]\n",
      "PEPTIDE1{H.M.M.E.V.V.L.L.V}$$$$V2.0 [0.79829 0.12923 0.44943]\n",
      "PEPTIDE1{M.M.L.E.V.V.F.R.V}$$$$V2.0 [-0.60171 -1.35677 -0.03657]\n",
      "PEPTIDE1{M.M.L.E.V.I.F.R.V}$$$$V2.0 [-0.68571 -1.33877 -0.10657]\n",
      "PEPTIDE1{M.M.L.E.V.L.F.R.V}$$$$V2.0 [-0.50771 -1.24877 -0.08257]\n",
      "PEPTIDE1{F.M.L.E.V.V.M.R.V}$$$$V2.0 [-0.67171 -1.31377  0.00743]\n",
      "PEPTIDE1{F.M.L.E.V.V.F.R.V}$$$$V2.0 [-1.20671 -1.63877 -0.40357]\n",
      "PEPTIDE1{A.M.L.E.V.V.F.R.V}$$$$V2.0 [-0.55971 -0.97677  0.31543]\n",
      "PEPTIDE1{F.M.L.E.V.V.I.R.V}$$$$V2.0 [-0.99871 -1.49277 -0.03357]\n",
      "PEPTIDE1{L.M.L.E.V.V.F.R.V}$$$$V2.0 [-0.38971 -1.04377  0.23043]\n",
      "PEPTIDE1{H.M.L.E.V.V.A.R.V}$$$$V2.0 [ 0.20629 -0.37877  1.10043]\n",
      "PEPTIDE1{H.M.V.E.V.V.F.L.V}$$$$V2.0 [ 0.20729 -0.13577  0.66243]\n",
      "PEPTIDE1{F.M.L.E.V.V.A.R.V}$$$$V2.0 [-0.79771 -1.31577  0.12343]\n",
      "PEPTIDE1{H.M.L.E.V.V.F.R.V}$$$$V2.0 [-0.20271 -0.70177  0.57343]\n",
      "PEPTIDE1{H.M.V.E.V.V.A.L.V}$$$$V2.0 [0.61629 0.18723 1.18943]\n",
      "PEPTIDE1{H.M.V.E.V.I.F.L.V}$$$$V2.0 [ 0.12329 -0.11777  0.59243]\n",
      "PEPTIDE1{H.M.V.E.V.V.L.L.V}$$$$V2.0 [0.87129 0.40523 1.16643]\n",
      "PEPTIDE1{H.M.V.E.V.V.L.R.V}$$$$V2.0 [1.06029 0.16223 1.43343]\n",
      "PEPTIDE1{H.M.T.E.V.V.A.L.V}$$$$V2.0 [0.89029 0.66023 1.38143]\n",
      "PEPTIDE1{H.M.T.E.V.V.G.L.V}$$$$V2.0 [1.35429 0.88823 1.88643]\n",
      "PEPTIDE1{H.M.T.E.V.V.F.L.V}$$$$V2.0 [0.48129 0.33723 0.85443]\n",
      "PEPTIDE1{H.M.T.E.V.V.L.L.V}$$$$V2.0 [1.14529 0.87823 1.35843]\n",
      "PEPTIDE1{H.M.T.E.V.V.A.L.I}$$$$V2.0 [1.70829 1.13623 1.89743]\n",
      "PEPTIDE1{H.M.T.E.V.I.A.L.V}$$$$V2.0 [0.80629 0.67823 1.31143]\n",
      "PEPTIDE1{H.M.V.E.V.V.A.L.I}$$$$V2.0 [1.43429 0.66323 1.70543]\n",
      "PEPTIDE1{H.M.V.E.V.V.G.L.V}$$$$V2.0 [1.08029 0.41523 1.69443]\n",
      "PEPTIDE1{H.M.V.E.V.I.A.L.V}$$$$V2.0 [0.53229 0.20523 1.11943]\n",
      "PEPTIDE1{H.M.V.E.V.V.L.A.V}$$$$V2.0 [1.09829 0.02723 1.28343]\n",
      "PEPTIDE1{F.M.T.E.V.V.A.L.V}$$$$V2.0 [-0.11371 -0.27677  0.40443]\n",
      "PEPTIDE1{H.M.G.E.V.V.F.L.V}$$$$V2.0 [ 0.08929 -0.22677  0.85343]\n",
      "PEPTIDE1{H.M.L.E.V.V.F.L.V}$$$$V2.0 [-0.39171 -0.45877  0.30643]\n",
      "PEPTIDE1{F.M.V.E.V.V.A.L.V}$$$$V2.0 [-0.38771 -0.74977  0.21243]\n",
      "PEPTIDE1{H.M.L.E.V.V.A.R.I}$$$$V2.0 [1.02429 0.09723 1.61643]\n",
      "PEPTIDE1{H.M.V.E.V.V.F.A.V}$$$$V2.0 [ 0.43429 -0.51377  0.77943]\n",
      "PEPTIDE1{H.M.M.E.V.V.F.I.V}$$$$V2.0 [0.45929 0.07623 0.23343]\n",
      "PEPTIDE1{F.M.L.E.V.I.F.R.V}$$$$V2.0 [-1.29071 -1.62077 -0.47357]\n",
      "PEPTIDE1{F.M.M.E.V.V.A.R.I}$$$$V2.0 [ 0.54629 -0.79277  0.27843]\n",
      "PEPTIDE1{F.M.L.E.V.V.L.R.V}$$$$V2.0 [-0.54271 -1.09777  0.10043]\n",
      "PEPTIDE1{H.M.L.E.V.V.M.R.V}$$$$V2.0 [ 0.33229 -0.37677  0.98443]\n",
      "PEPTIDE1{F.M.L.E.V.I.A.R.V}$$$$V2.0 [-0.88171 -1.29777  0.05343]\n",
      "PEPTIDE1{F.M.V.E.V.V.L.R.V}$$$$V2.0 [ 0.05629 -0.77477  0.45643]\n",
      "PEPTIDE1{F.M.L.E.V.V.M.R.I}$$$$V2.0 [ 0.14629 -0.83777  0.52343]\n",
      "PEPTIDE1{H.M.L.E.V.V.L.R.V}$$$$V2.0 [ 0.46129 -0.16077  1.07743]\n",
      "PEPTIDE1{F.M.V.E.V.V.A.R.I}$$$$V2.0 [ 0.61929 -0.51677  0.99543]\n",
      "PEPTIDE1{F.M.L.E.V.V.A.R.I}$$$$V2.0 [ 0.02029 -0.83977  0.63943]\n",
      "PEPTIDE1{F.M.V.E.V.I.A.R.V}$$$$V2.0 [-0.28271 -0.97477  0.40943]\n",
      "PEPTIDE1{F.M.V.E.V.I.A.R.I}$$$$V2.0 [ 0.53529 -0.49877  0.92543]\n",
      "PEPTIDE1{F.M.V.E.V.V.A.R.V}$$$$V2.0 [-0.19871 -0.99277  0.47943]\n",
      "PEPTIDE1{H.M.L.E.V.V.I.R.V}$$$$V2.0 [ 0.00529 -0.55577  0.94343]\n",
      "PEPTIDE1{H.M.V.E.V.V.F.I.V}$$$$V2.0 [0.53229 0.35223 0.95043]\n",
      "PEPTIDE1{F.M.L.E.V.V.G.R.V}$$$$V2.0 [-0.33371 -1.08777  0.62843]\n",
      "PEPTIDE1{H.M.L.E.V.V.F.V.V}$$$$V2.0 [-0.33571 -0.65877  0.54843]\n",
      "PEPTIDE1{Y.M.L.E.V.V.A.R.V}$$$$V2.0 [-0.76571 -1.19577  0.18643]\n",
      "PEPTIDE1{H.M.L.E.V.V.G.R.V}$$$$V2.0 [ 0.67029 -0.15077  1.60543]\n",
      "PEPTIDE1{F.M.L.E.V.I.A.R.I}$$$$V2.0 [-0.06371 -0.82177  0.56943]\n",
      "PEPTIDE1{H.M.L.E.V.V.F.I.V}$$$$V2.0 [-0.06671  0.02923  0.59443]\n",
      "PEPTIDE1{M.M.V.E.V.V.F.L.V}$$$$V2.0 [-0.19171 -0.79077  0.05243]\n",
      "PEPTIDE1{F.M.V.E.V.V.A.L.I}$$$$V2.0 [ 0.43029 -0.27377  0.72843]\n",
      "PEPTIDE1{H.M.V.E.V.V.A.R.I}$$$$V2.0 [1.62329 0.42023 1.97243]\n",
      "PEPTIDE1{H.M.V.E.V.V.F.L.I}$$$$V2.0 [1.02529 0.34023 1.17843]\n",
      "PEPTIDE1{H.M.F.E.V.V.F.L.V}$$$$V2.0 [-0.41471 -0.59477  0.20443]\n",
      "PEPTIDE1{F.M.V.E.V.I.A.L.V}$$$$V2.0 [-0.47171 -0.73177  0.14243]\n",
      "PEPTIDE1{H.M.T.E.V.I.F.L.V}$$$$V2.0 [0.39729 0.35523 0.78443]\n",
      "PEPTIDE1{F.M.V.E.V.V.G.L.V}$$$$V2.0 [ 0.07629 -0.52177  0.71743]\n",
      "PEPTIDE1{F.M.T.E.V.V.A.L.I}$$$$V2.0 [0.70429 0.19923 0.92043]\n",
      "PEPTIDE1{H.M.V.E.V.V.A.R.V}$$$$V2.0 [ 0.80529 -0.05577  1.45643]\n",
      "PEPTIDE1{H.M.M.E.V.V.A.L.V}$$$$V2.0 [ 0.54329 -0.08877  0.47243]\n",
      "PEPTIDE1{H.M.M.E.V.V.A.L.I}$$$$V2.0 [1.36129 0.38723 0.98843]\n",
      "PEPTIDE1{H.M.M.E.V.V.L.L.I}$$$$V2.0 [1.61629 0.60523 0.96543]\n",
      "PEPTIDE1{H.M.V.E.V.V.L.R.I}$$$$V2.0 [1.87829 0.63823 1.94943]\n",
      "PEPTIDE1{H.M.M.E.V.V.F.L.I}$$$$V2.0 [0.95229 0.06423 0.46143]\n",
      "PEPTIDE1{H.M.L.E.V.I.F.R.V}$$$$V2.0 [-0.28671 -0.68377  0.50343]\n",
      "PEPTIDE1{H.M.L.E.V.V.L.R.I}$$$$V2.0 [1.27929 0.31523 1.59343]\n",
      "PEPTIDE1{H.M.M.E.V.I.F.L.V}$$$$V2.0 [ 0.05029 -0.39377 -0.12457]\n",
      "PEPTIDE1{H.M.V.E.V.V.L.L.I}$$$$V2.0 [1.68929 0.88123 1.68243]\n",
      "PEPTIDE1{H.M.L.E.V.V.A.L.V}$$$$V2.0 [ 0.01729 -0.13577  0.83343]\n",
      "PEPTIDE1{H.M.V.E.V.I.L.L.V}$$$$V2.0 [0.78729 0.42323 1.09643]\n",
      "PEPTIDE1{H.M.T.E.V.V.F.A.V}$$$$V2.0 [ 0.70829 -0.04077  0.97143]\n",
      "PEPTIDE1{H.M.V.E.V.V.A.A.I}$$$$V2.0 [1.66129 0.28523 1.82243]\n",
      "PEPTIDE1{H.M.V.E.V.V.G.L.I}$$$$V2.0 [1.89829 0.89123 2.21043]\n",
      "PEPTIDE1{F.M.T.E.V.I.A.L.I}$$$$V2.0 [0.62029 0.21723 0.85043]\n",
      "PEPTIDE1{H.M.V.E.V.I.A.L.I}$$$$V2.0 [1.35029 0.68123 1.63543]\n",
      "PEPTIDE1{H.M.M.E.V.I.F.R.V}$$$$V2.0 [ 0.23929 -0.63677  0.14243]\n",
      "PEPTIDE1{H.M.M.E.V.I.L.R.V}$$$$V2.0 [ 0.90329 -0.09577  0.64643]\n",
      "PEPTIDE1{H.M.M.E.V.V.G.R.I}$$$$V2.0 [2.01429 0.37223 1.76043]\n",
      "PEPTIDE1{H.M.M.E.V.V.I.R.V}$$$$V2.0 [ 0.53129 -0.50877  0.58243]\n",
      "PEPTIDE1{F.M.M.E.V.V.A.R.V}$$$$V2.0 [-0.27171 -1.26877 -0.23757]\n",
      "PEPTIDE1{F.M.M.E.V.I.A.R.V}$$$$V2.0 [-0.35571 -1.25077 -0.30757]\n",
      "PEPTIDE1{H.M.M.E.V.V.G.R.V}$$$$V2.0 [ 1.19629 -0.10377  1.24443]\n",
      "PEPTIDE1{H.M.M.E.V.I.A.R.V}$$$$V2.0 [ 0.64829 -0.31377  0.66943]\n"
     ]
    }
   ],
   "source": [
    "for p, s in zip(suggested_peptides_df.Polymers.values, pic50_library):\n",
    "    print(p, s)"
   ]
  },
  {
   "cell_type": "code",
   "execution_count": null,
   "metadata": {},
   "outputs": [],
   "source": []
  }
 ],
 "metadata": {
  "kernelspec": {
   "display_name": "mm",
   "language": "python",
   "name": "python3"
  },
  "language_info": {
   "codemirror_mode": {
    "name": "ipython",
    "version": 3
   },
   "file_extension": ".py",
   "mimetype": "text/x-python",
   "name": "python",
   "nbconvert_exporter": "python",
   "pygments_lexer": "ipython3",
   "version": "3.9.18"
  },
  "orig_nbformat": 4
 },
 "nbformat": 4,
 "nbformat_minor": 2
}
