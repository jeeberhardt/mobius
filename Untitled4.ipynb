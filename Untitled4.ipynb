{
 "cells": [
  {
   "cell_type": "code",
   "execution_count": 1,
   "id": "8e65dcb6",
   "metadata": {},
   "outputs": [],
   "source": [
    "%matplotlib inline\n",
    "\n",
    "import numpy as np\n",
    "import pandas as pd\n",
    "import matplotlib.pyplot as plt\n",
    "import seaborn as sns\n",
    "\n",
    "from deap import algorithms\n",
    "from deap import base\n",
    "from deap import creator\n",
    "from deap import tools\n",
    "\n",
    "from mobius import VirtualTarget, ForceField"
   ]
  },
  {
   "cell_type": "code",
   "execution_count": 11,
   "id": "fa3c3498",
   "metadata": {},
   "outputs": [],
   "source": [
    "class PBIL(object):\n",
    "    def __init__(self, peptide_length, population_size=96, n_best=1,\n",
    "                 learning_rate=0.3, mut_prob=0.1, mut_shift=0.05, seed=None):\n",
    "        self._AA1 = ['A', 'R', 'N', 'D', 'C', 'Q', 'E', 'G', 'H', 'I',\n",
    "                     'L', 'K', 'M', 'F', 'P', 'S', 'T', 'W', 'Y', 'V']\n",
    "        # Random generation\n",
    "        self._random_seed = seed\n",
    "        self._rng = np.random.default_rng(self._random_seed)\n",
    "\n",
    "        # Initialize probability vectors\n",
    "        n_amino_acids = len(self._AA1)\n",
    "        self._peptide_length = peptide_length\n",
    "        init_probability = 1. / n_amino_acids\n",
    "        self._prob_vector = np.zeros(shape=(peptide_length, n_amino_acids)) + init_probability\n",
    "\n",
    "        # PBIL parameters\n",
    "        self._n_best = n_best\n",
    "        self._learning_rate = learning_rate\n",
    "        self._mut_prob = mut_prob\n",
    "        self._mut_shift = mut_shift\n",
    "        self._population_size = population_size\n",
    "        \n",
    "        # Elitism\n",
    "        self._best_score = 9999\n",
    "\n",
    "    def sample(self):\n",
    "        ind = [self._rng.choice(self._AA1, p=self._prob_vector[i]) for i in range(self._peptide_length)]\n",
    "        return (ind)\n",
    "\n",
    "    def generate(self, ind_init):\n",
    "        return [ind_init(self.sample()) for _ in range(self._population_size)]\n",
    "\n",
    "    def update(self, population, scores=None):\n",
    "        if scores is None:\n",
    "            scores = np.array([ind.fitness.values[0] for ind in population])\n",
    "\n",
    "        best_peptide_indices = np.argsort(np.ravel(scores))[:self._n_best]\n",
    "        best_peptides = np.array(population)[best_peptide_indices]\n",
    "        \n",
    "        for i in range(self._peptide_length):\n",
    "            if self._n_best > 1:\n",
    "                unique_amino_acids, counts = np.unique(best_peptides[:,i], return_counts=True)\n",
    "                \n",
    "                if scores[best_peptide_indices[0]] < self._best_score:\n",
    "                    self._best_score = scores[best_peptide_indices[0]]\n",
    "                \n",
    "                frequencies = counts / np.sum(counts)\n",
    "                \n",
    "            else:\n",
    "                unique_amino_acids = [best_peptides[0][i]]\n",
    "                frequencies = [1.]\n",
    "            \n",
    "            for unique_amino_acid, frequency in zip(unique_amino_acids, frequencies):\n",
    "                j = self._AA1.index(unique_amino_acid)\n",
    "                \n",
    "                # Update the probability vector (exploitation)\n",
    "                self._prob_vector[i, j] *= 1.0 - self._learning_rate\n",
    "                self._prob_vector[i, j] += frequency * self._learning_rate\n",
    "\n",
    "                # Mutate the probability vector (exploration)\n",
    "                if self._rng.uniform() < self._mut_prob:\n",
    "                    self._prob_vector[i, j] *= 1.0 - self._mut_shift\n",
    "                    self._prob_vector[i, j] += self._rng.uniform() * self._mut_shift\n",
    "            \n",
    "            # Normalize vector\n",
    "            self._prob_vector[i] /= np.sum(self._prob_vector[i])\n",
    "\n",
    "\n",
    "def evaluate(individual):\n",
    "    return vt.score_peptides([''.join(individual)])[0],"
   ]
  },
  {
   "cell_type": "code",
   "execution_count": 12,
   "id": "ef174d67",
   "metadata": {},
   "outputs": [],
   "source": [
    "def plot_logbook(logbook, minimum_score):\n",
    "    gen = logbook.select(\"gen\")\n",
    "    fit_mins = logbook.select(\"min\")\n",
    "    size_avgs = logbook.select(\"avg\")\n",
    "\n",
    "    fig, ax1 = plt.subplots(figsize=(15, 5))\n",
    "    line1 = ax1.plot(gen, fit_mins, \"b-\", label=\"Minimum Fitness\")\n",
    "    ax1.set_xlabel(\"Generation\")\n",
    "    ax1.set_ylabel(\"Fitness\", color=\"b\")\n",
    "    for tl in ax1.get_yticklabels():\n",
    "        tl.set_color(\"b\")\n",
    "    \n",
    "    line3 = ax1.plot(np.linspace(0, np.max(gen), np.max(gen)), [minimum_score] * np.max(gen), \n",
    "             '--', color='green', label='Target fitness')\n",
    "\n",
    "    ax2 = ax1.twinx()\n",
    "    line2 = ax2.plot(gen, size_avgs, \"r-\", label=\"Average Fitness\")\n",
    "    ax2.set_ylabel(\"Size\", color=\"r\")\n",
    "    for tl in ax2.get_yticklabels():\n",
    "        tl.set_color(\"r\")\n",
    "\n",
    "    lns = line1 + line2 + line3\n",
    "    labs = [l.get_label() for l in lns]\n",
    "    ax1.legend(lns, labs, loc=\"upper right\")\n",
    "    \n",
    "    ax1.set_ylim([0, 12])\n",
    "    ax2.set_ylim([0, 20])\n",
    "\n",
    "    plt.show()"
   ]
  },
  {
   "cell_type": "code",
   "execution_count": 13,
   "id": "90fea3ad",
   "metadata": {},
   "outputs": [
    {
     "name": "stdout",
     "output_type": "stream",
     "text": [
      "AAAAAA\n",
      "[0.]\n"
     ]
    }
   ],
   "source": [
    "NLEN = 6\n",
    "\n",
    "ff = ForceField()\n",
    "vt = VirtualTarget(ff)\n",
    "vt.generate_random_target_sequence(NLEN)\n",
    "vt.generate_pharmacophore_from_target_sequence('AAAAAA', solvent_exposures=[0] * 6)\n",
    "print(vt.target_sequence())\n",
    "print(vt.score_peptides([vt.target_sequence()]))\n",
    "minimum_score = vt.score_peptides([vt.target_sequence()])[0]"
   ]
  },
  {
   "cell_type": "code",
   "execution_count": 14,
   "id": "c7183a65",
   "metadata": {},
   "outputs": [
    {
     "name": "stdout",
     "output_type": "stream",
     "text": [
      "9.866172790527344 9999\n",
      "gen\tnevals\tavg    \tstd    \tmin    \tmax    \n",
      "0  \t96    \t16.6505\t3.04617\t9.86617\t22.7568\n",
      "7.617386817932129 9.866172790527344\n",
      "1  \t96    \t14.6321\t3.00244\t7.61739\t21.1713\n",
      "4.455511093139648 7.617386817932129\n",
      "2  \t96    \t12.3698\t3.42905\t4.45551\t21.5371\n",
      "3  \t96    \t11.1527\t2.70681\t5.40605\t17.354 \n",
      "2.9801793098449707 4.455511093139648\n",
      "4  \t96    \t9.89774\t3.04934\t2.98018\t17.6438\n",
      "5  \t96    \t9.01138\t3.03756\t2.98018\t17.3376\n",
      "2.5691938400268555 2.9801793098449707\n",
      "6  \t96    \t7.69664\t2.67708\t2.56919\t14.3776\n",
      "1.6186562776565552 2.5691938400268555\n",
      "7  \t96    \t6.55636\t2.53567\t1.61866\t13.274 \n",
      "8  \t96    \t5.69533\t2.4976 \t1.61866\t12.2743\n",
      "1.0791041851043701 1.6186562776565552\n",
      "9  \t96    \t4.86476\t3.04374\t1.0791 \t13.4607\n"
     ]
    },
    {
     "data": {
      "image/png": "[encoded data removed]",
      "text/plain": [
       "<Figure size 1080x360 with 2 Axes>"
      ]
     },
     "metadata": {
      "needs_background": "light"
     },
     "output_type": "display_data"
    },
    {
     "name": "stdout",
     "output_type": "stream",
     "text": [
      "[['A', 'P', 'A', 'A', 'P', 'A'], ['P', 'P', 'A', 'A', 'P', 'A'], ['G', 'P', 'A', 'A', 'P', 'A'], ['P', 'P', 'P', 'A', 'P', 'A'], ['P', 'P', 'A', 'P', 'P', 'A'], ['P', 'P', 'P', 'A', 'G', 'A'], ['G', 'P', 'P', 'A', 'P', 'A'], ['P', 'P', 'A', 'G', 'P', 'A'], ['P', 'P', 'G', 'G', 'A', 'A'], ['G', 'P', 'P', 'G', 'A', 'A']]\n"
     ]
    }
   ],
   "source": [
    "NGEN = 10\n",
    "NIND = 96\n",
    "\n",
    "#Initialize the PBIL EDA\n",
    "pbil = PBIL(peptide_length=NLEN, population_size=NIND, n_best=2, learning_rate=0.5, mut_prob=0.00, mut_shift=0.05)\n",
    "\n",
    "creator.create(\"FitnessMin\", base.Fitness, weights=(-1.0,))\n",
    "creator.create(\"Individual\", list, fitness=creator.FitnessMin)\n",
    "\n",
    "toolbox = base.Toolbox()\n",
    "toolbox.register(\"evaluate\", evaluate)\n",
    "toolbox.register(\"generate\", pbil.generate, creator.Individual)\n",
    "toolbox.register(\"update\", pbil.update)\n",
    "\n",
    "# Statistics computation\n",
    "hof = tools.HallOfFame(10)\n",
    "stats = tools.Statistics(lambda ind: ind.fitness.values)\n",
    "stats.register(\"avg\", np.mean)\n",
    "stats.register(\"std\", np.std)\n",
    "stats.register(\"min\", np.min)\n",
    "stats.register(\"max\", np.max)\n",
    "\n",
    "pop, logbook = algorithms.eaGenerateUpdate(toolbox, NGEN, stats=stats, verbose=True, halloffame=hof)\n",
    "\n",
    "plot_logbook(logbook, minimum_score)\n",
    "\n",
    "print(hof.items)"
   ]
  },
  {
   "cell_type": "markdown",
   "id": "e3776cc1",
   "metadata": {},
   "source": [
    "# Incorporation of more than one best solution using weight"
   ]
  },
  {
   "cell_type": "code",
   "execution_count": null,
   "id": "b8e5b779",
   "metadata": {},
   "outputs": [],
   "source": []
  },
  {
   "cell_type": "code",
   "execution_count": null,
   "id": "c7e4e63c",
   "metadata": {},
   "outputs": [],
   "source": []
  },
  {
   "cell_type": "code",
   "execution_count": null,
   "id": "407d5951",
   "metadata": {},
   "outputs": [],
   "source": []
  },
  {
   "cell_type": "code",
   "execution_count": null,
   "id": "eb0af6d1",
   "metadata": {},
   "outputs": [],
   "source": []
  }
 ],
 "metadata": {
  "kernelspec": {
   "display_name": "Python 3 (ipykernel)",
   "language": "python",
   "name": "python3"
  },
  "language_info": {
   "codemirror_mode": {
    "name": "ipython",
    "version": 3
   },
   "file_extension": ".py",
   "mimetype": "text/x-python",
   "name": "python",
   "nbconvert_exporter": "python",
   "pygments_lexer": "ipython3",
   "version": "3.9.7"
  }
 },
 "nbformat": 4,
 "nbformat_minor": 5
}
